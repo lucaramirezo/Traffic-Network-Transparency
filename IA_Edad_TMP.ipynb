{
 "cells": [
  {
   "cell_type": "code",
   "execution_count": 285,
   "outputs": [],
   "source": [
    "import numpy as np\n",
    "import pandas as pd\n",
    "import re\n",
    "from tensorflow.python.keras.models import load_model\n",
    "from sklearn.model_selection import train_test_split\n",
    "import matplotlib.pyplot as plt\n",
    "import seaborn as sns\n",
    "from sklearn.metrics import confusion_matrix\n",
    "from sklearn.metrics import classification_report\n",
    "from datetime import datetime"
   ],
   "metadata": {
    "collapsed": false,
    "ExecuteTime": {
     "end_time": "2023-11-23T15:40:43.820515696Z",
     "start_time": "2023-11-23T15:40:43.731531930Z"
    }
   },
   "id": "1515c8b0518f5c71"
  },
  {
   "cell_type": "markdown",
   "source": [
    "# Atención\n",
    "Atención: Se va a utilizar el modelo viejo versión 2 ya que es el único que tiene una matriz de confusión lógica para rellenar los datos mientras que se intenta arreglar el modelo con 17 salidas"
   ],
   "metadata": {
    "collapsed": false
   },
   "id": "fa27c21c86a888c2"
  },
  {
   "cell_type": "markdown",
   "source": [
    "# Preparar los datos\n",
    "Preparamos los datos previa separación. Codificamos numéricamente y eliminamos columnas que no vamos a utilizar"
   ],
   "metadata": {
    "collapsed": false
   },
   "id": "de6179f66d2ccce3"
  },
  {
   "cell_type": "code",
   "execution_count": 286,
   "outputs": [],
   "source": [
    "df = pd.read_csv('Datasets/Data_Combinada.csv', low_memory=False)"
   ],
   "metadata": {
    "collapsed": false,
    "ExecuteTime": {
     "end_time": "2023-11-23T15:40:44.614936742Z",
     "start_time": "2023-11-23T15:40:43.764385191Z"
    }
   },
   "id": "4bf96f522a277a34"
  },
  {
   "cell_type": "markdown",
   "source": [
    "Eliminamos columnas que no utilizaremos, como las coordenadas, o columnas repetidas como distrito con código distrito y lesividad con código lesividad"
   ],
   "metadata": {
    "collapsed": false
   },
   "id": "24b324181562171e"
  },
  {
   "cell_type": "code",
   "execution_count": 287,
   "outputs": [],
   "source": [
    "df.drop(columns=['distrito', 'coordenada_y_utm', 'coordenada_x_utm', 'localizacion', 'numero', 'lesividad'],\n",
    "        inplace=True)"
   ],
   "metadata": {
    "collapsed": false,
    "ExecuteTime": {
     "end_time": "2023-11-23T15:40:44.642423611Z",
     "start_time": "2023-11-23T15:40:44.065839459Z"
    }
   },
   "id": "49cf67d7c44eac"
  },
  {
   "cell_type": "code",
   "execution_count": 288,
   "outputs": [],
   "source": [
    "df['sexo'].replace({'M': 0, 'H': 1}, inplace=True)"
   ],
   "metadata": {
    "collapsed": false,
    "ExecuteTime": {
     "end_time": "2023-11-23T15:40:44.642583784Z",
     "start_time": "2023-11-23T15:40:44.065974962Z"
    }
   },
   "id": "43d86fac4d2781bf"
  },
  {
   "cell_type": "code",
   "execution_count": 289,
   "outputs": [],
   "source": [
    "df['fugado'].replace({'No': 0, 'Si': 1}, inplace=True)"
   ],
   "metadata": {
    "collapsed": false,
    "ExecuteTime": {
     "end_time": "2023-11-23T15:40:44.642632411Z",
     "start_time": "2023-11-23T15:40:44.069719107Z"
    }
   },
   "id": "6f0e0599b2e1be06"
  },
  {
   "cell_type": "code",
   "execution_count": 290,
   "outputs": [],
   "source": [
    "# El criterio según la fuente de datos es que si es None es nada, de todas formas si fue ingresado debería existir registro\n",
    "# por lo que es muy raro el caso contrario\n",
    "df['cod_lesividad'].fillna(0, inplace=True)"
   ],
   "metadata": {
    "collapsed": false,
    "ExecuteTime": {
     "end_time": "2023-11-23T15:40:44.642674911Z",
     "start_time": "2023-11-23T15:40:44.083188601Z"
    }
   },
   "id": "377b1bbec6b99f8a"
  },
  {
   "cell_type": "code",
   "execution_count": 291,
   "outputs": [],
   "source": [
    "def marca_de_clase_rango_edad(edad: str) -> float:\n",
    "    regex_format = r'\\b\\d+\\b'\n",
    "    numbers = re.findall(regex_format, edad)\n",
    "    if len(numbers) >= 2:\n",
    "        return (int(numbers[0]) + int(numbers[1])) / 2\n",
    "\n",
    "    # if edad == 'Menor de 5 años':\n",
    "    #     return 5\n",
    "    # \n",
    "    # if edad == 'Más de 74 años':\n",
    "    #     return 74\n",
    "    else:\n",
    "        return -1\n",
    "\n",
    "\n",
    "df['rango_edad'] = df['rango_edad'].apply(marca_de_clase_rango_edad)\n",
    "df.rename(columns={'rango_edad': 'marca_de_clase_edad'}, inplace=True)"
   ],
   "metadata": {
    "collapsed": false,
    "ExecuteTime": {
     "end_time": "2023-11-23T15:40:44.642729718Z",
     "start_time": "2023-11-23T15:40:44.098361037Z"
    }
   },
   "id": "52265aed62f00bf1"
  },
  {
   "cell_type": "code",
   "execution_count": 292,
   "outputs": [
    {
     "name": "stdout",
     "output_type": "stream",
     "text": [
      "[-1.0, 7.5, 12.0, 16.0, 19.0, 22.5, 27.0, 32.0, 37.0, 42.0, 47.0, 52.0, 57.0, 62.0, 67.0, 72.0]\n"
     ]
    }
   ],
   "source": [
    "print(sorted(df['marca_de_clase_edad'].unique()))"
   ],
   "metadata": {
    "collapsed": false,
    "ExecuteTime": {
     "end_time": "2023-11-23T15:40:44.642945758Z",
     "start_time": "2023-11-23T15:40:44.209052900Z"
    }
   },
   "id": "876adf0543d6f17b"
  },
  {
   "cell_type": "code",
   "execution_count": 293,
   "outputs": [
    {
     "data": {
      "text/plain": "  num_expediente       fecha     hora  cod_distrito           tipo_accidente  \\\n0    2022S000001  01/01/2022  1:30:00          13.0                  Alcance   \n1    2022S000001  01/01/2022  1:30:00          13.0                  Alcance   \n2    2022S000002  01/01/2022  0:30:00           3.0  Colisión fronto-lateral   \n3    2022S000002  01/01/2022  0:30:00           3.0  Colisión fronto-lateral   \n4    2022S000002  01/01/2022  0:30:00           3.0  Colisión fronto-lateral   \n\n  estado_meteorológico            tipo_vehiculo tipo_persona  \\\n0            Despejado                  Turismo    Conductor   \n1            Despejado                  Turismo    Conductor   \n2                  NaN  Motocicleta hasta 125cc    Conductor   \n3                  NaN  Motocicleta hasta 125cc     Pasajero   \n4                  NaN                  Turismo    Conductor   \n\n   marca_de_clase_edad  sexo  cod_lesividad  positiva_alcohol  positiva_droga  \\\n0                 32.0     0            0.0               0.0             0.0   \n1                 47.0     1            0.0               0.0             0.0   \n2                 32.0     1            0.0               1.0             0.0   \n3                 37.0     0            0.0               0.0             0.0   \n4                 42.0     1            0.0               0.0             0.0   \n\n   numero_pasajeros  fugado  media_edad_pasajeros  \n0                 2       0                  39.5  \n1                 2       0                  39.5  \n2                 3       0                  37.0  \n3                 3       0                  37.0  \n4                 3       0                  37.0  ",
      "text/html": "<div>\n<style scoped>\n    .dataframe tbody tr th:only-of-type {\n        vertical-align: middle;\n    }\n\n    .dataframe tbody tr th {\n        vertical-align: top;\n    }\n\n    .dataframe thead th {\n        text-align: right;\n    }\n</style>\n<table border=\"1\" class=\"dataframe\">\n  <thead>\n    <tr style=\"text-align: right;\">\n      <th></th>\n      <th>num_expediente</th>\n      <th>fecha</th>\n      <th>hora</th>\n      <th>cod_distrito</th>\n      <th>tipo_accidente</th>\n      <th>estado_meteorológico</th>\n      <th>tipo_vehiculo</th>\n      <th>tipo_persona</th>\n      <th>marca_de_clase_edad</th>\n      <th>sexo</th>\n      <th>cod_lesividad</th>\n      <th>positiva_alcohol</th>\n      <th>positiva_droga</th>\n      <th>numero_pasajeros</th>\n      <th>fugado</th>\n      <th>media_edad_pasajeros</th>\n    </tr>\n  </thead>\n  <tbody>\n    <tr>\n      <th>0</th>\n      <td>2022S000001</td>\n      <td>01/01/2022</td>\n      <td>1:30:00</td>\n      <td>13.0</td>\n      <td>Alcance</td>\n      <td>Despejado</td>\n      <td>Turismo</td>\n      <td>Conductor</td>\n      <td>32.0</td>\n      <td>0</td>\n      <td>0.0</td>\n      <td>0.0</td>\n      <td>0.0</td>\n      <td>2</td>\n      <td>0</td>\n      <td>39.5</td>\n    </tr>\n    <tr>\n      <th>1</th>\n      <td>2022S000001</td>\n      <td>01/01/2022</td>\n      <td>1:30:00</td>\n      <td>13.0</td>\n      <td>Alcance</td>\n      <td>Despejado</td>\n      <td>Turismo</td>\n      <td>Conductor</td>\n      <td>47.0</td>\n      <td>1</td>\n      <td>0.0</td>\n      <td>0.0</td>\n      <td>0.0</td>\n      <td>2</td>\n      <td>0</td>\n      <td>39.5</td>\n    </tr>\n    <tr>\n      <th>2</th>\n      <td>2022S000002</td>\n      <td>01/01/2022</td>\n      <td>0:30:00</td>\n      <td>3.0</td>\n      <td>Colisión fronto-lateral</td>\n      <td>NaN</td>\n      <td>Motocicleta hasta 125cc</td>\n      <td>Conductor</td>\n      <td>32.0</td>\n      <td>1</td>\n      <td>0.0</td>\n      <td>1.0</td>\n      <td>0.0</td>\n      <td>3</td>\n      <td>0</td>\n      <td>37.0</td>\n    </tr>\n    <tr>\n      <th>3</th>\n      <td>2022S000002</td>\n      <td>01/01/2022</td>\n      <td>0:30:00</td>\n      <td>3.0</td>\n      <td>Colisión fronto-lateral</td>\n      <td>NaN</td>\n      <td>Motocicleta hasta 125cc</td>\n      <td>Pasajero</td>\n      <td>37.0</td>\n      <td>0</td>\n      <td>0.0</td>\n      <td>0.0</td>\n      <td>0.0</td>\n      <td>3</td>\n      <td>0</td>\n      <td>37.0</td>\n    </tr>\n    <tr>\n      <th>4</th>\n      <td>2022S000002</td>\n      <td>01/01/2022</td>\n      <td>0:30:00</td>\n      <td>3.0</td>\n      <td>Colisión fronto-lateral</td>\n      <td>NaN</td>\n      <td>Turismo</td>\n      <td>Conductor</td>\n      <td>42.0</td>\n      <td>1</td>\n      <td>0.0</td>\n      <td>0.0</td>\n      <td>0.0</td>\n      <td>3</td>\n      <td>0</td>\n      <td>37.0</td>\n    </tr>\n  </tbody>\n</table>\n</div>"
     },
     "execution_count": 293,
     "metadata": {},
     "output_type": "execute_result"
    }
   ],
   "source": [
    "def media_edad_pasajeros(list_age: tuple) -> float:\n",
    "    age_sum = 0\n",
    "    count = 0\n",
    "    for age in list_age:\n",
    "        if age != -1:\n",
    "            age_sum = age_sum + age\n",
    "            count = count + 1\n",
    "    if count != 0:\n",
    "        return age_sum / count\n",
    "    return 0\n",
    "\n",
    "\n",
    "df['media_edad_pasajeros'] = df.groupby('num_expediente')['marca_de_clase_edad'].transform(\n",
    "    media_edad_pasajeros)\n",
    "df['numero_pasajeros'] = df.groupby('num_expediente')['num_expediente'].transform('count')\n",
    "df.head()"
   ],
   "metadata": {
    "collapsed": false,
    "ExecuteTime": {
     "end_time": "2023-11-23T15:41:18.129827848Z",
     "start_time": "2023-11-23T15:40:44.212668505Z"
    }
   },
   "id": "dce43550a0cca433"
  },
  {
   "cell_type": "code",
   "execution_count": 294,
   "outputs": [
    {
     "data": {
      "text/plain": "0        Conductor\n1        Conductor\n2        Conductor\n4        Conductor\n5        Conductor\n           ...    \n74955    Conductor\n74957    Conductor\n74958    Conductor\n74959    Conductor\n74960    Conductor\nName: tipo_persona, Length: 60493, dtype: object"
     },
     "execution_count": 294,
     "metadata": {},
     "output_type": "execute_result"
    }
   ],
   "source": [
    "# # TODO Pruebas eficiencia modelo IA Dropeamos todos los que no son conductores y dropeamos la columna luego ya que es redundante\n",
    "df.drop(df[df['tipo_persona'] != 'Conductor'].index, inplace=True)\n",
    "df.pop('tipo_persona')"
   ],
   "metadata": {
    "collapsed": false,
    "ExecuteTime": {
     "end_time": "2023-11-23T15:41:18.149580981Z",
     "start_time": "2023-11-23T15:41:18.113867184Z"
    }
   },
   "id": "1e4087768d4f0db2"
  },
  {
   "cell_type": "code",
   "execution_count": 295,
   "outputs": [
    {
     "data": {
      "text/plain": "0    1:30:00\n1    1:30:00\n2    0:30:00\n4    0:30:00\n5    1:50:00\nName: hora, dtype: object"
     },
     "execution_count": 295,
     "metadata": {},
     "output_type": "execute_result"
    }
   ],
   "source": [
    "def minutes_from_midnight(hour_str: str) -> int:\n",
    "    clock = hour_str.split(':')\n",
    "    minutes = 0\n",
    "\n",
    "    minutes = int(clock[0]) * 60\n",
    "    minutes = minutes + int(clock[1])\n",
    "\n",
    "    return minutes\n",
    "\n",
    "\n",
    "df['minutes_from_midnight'] = df['hora'].apply(minutes_from_midnight)\n",
    "df.pop('hora').head()"
   ],
   "metadata": {
    "collapsed": false,
    "ExecuteTime": {
     "end_time": "2023-11-23T15:41:18.193632993Z",
     "start_time": "2023-11-23T15:41:18.113989042Z"
    }
   },
   "id": "e7d5e188b9e65e8a"
  },
  {
   "cell_type": "code",
   "execution_count": 296,
   "outputs": [],
   "source": [
    "def extract_day(date_str: str) -> int:\n",
    "    date_parts = date_str.split('/')\n",
    "    if len(date_parts) >= 3:\n",
    "        return int(date_parts[0])\n",
    "\n",
    "\n",
    "def extract_month(date_str: str) -> int:\n",
    "    date_parts = date_str.split('/')\n",
    "    if len(date_parts) >= 3:\n",
    "        return int(date_parts[1])\n",
    "\n",
    "\n",
    "def extract_year(date_str: str) -> int:\n",
    "    date_parts = date_str.split('/')\n",
    "    if len(date_parts) >= 3:\n",
    "        return int(date_parts[2])\n",
    "\n",
    "\n",
    "df['day'] = df['fecha'].transform(extract_day)\n",
    "df['month'] = df['fecha'].transform(extract_month)\n",
    "df['year'] = df['fecha'].transform(extract_year)"
   ],
   "metadata": {
    "collapsed": false,
    "ExecuteTime": {
     "end_time": "2023-11-23T15:41:18.259610281Z",
     "start_time": "2023-11-23T15:41:18.140556513Z"
    }
   },
   "id": "d719bd4243d1b76e"
  },
  {
   "cell_type": "code",
   "execution_count": 297,
   "outputs": [
    {
     "data": {
      "text/plain": "0    01/01/2022\n1    01/01/2022\n2    01/01/2022\n4    01/01/2022\n5    01/01/2022\nName: fecha, dtype: object"
     },
     "execution_count": 297,
     "metadata": {},
     "output_type": "execute_result"
    }
   ],
   "source": [
    "def is_work_day(date_str: str) -> int:\n",
    "    date_format = '%d/%m/%Y'  # Formato para 'dd-MM-yyyy'\n",
    "\n",
    "    holidays_madrid = ['']  # todo\n",
    "    try:\n",
    "        date_obj = datetime.strptime(date_str, date_format)\n",
    "        day_of_week_int = date_obj.weekday()\n",
    "        if day_of_week_int == 5 or day_of_week_int == 6 or date_str in holidays_madrid:\n",
    "            return 0\n",
    "        return 1\n",
    "\n",
    "    except ValueError:\n",
    "        return -1\n",
    "\n",
    "\n",
    "df['bool_laborable'] = df['fecha'].transform(is_work_day)\n",
    "df.pop('fecha').head()"
   ],
   "metadata": {
    "collapsed": false,
    "ExecuteTime": {
     "end_time": "2023-11-23T15:41:18.511826022Z",
     "start_time": "2023-11-23T15:41:18.223654054Z"
    }
   },
   "id": "190bc7af04adb3a9"
  },
  {
   "cell_type": "code",
   "execution_count": 298,
   "outputs": [],
   "source": [
    "unique_values = df['tipo_accidente'].unique()\n",
    "dictionary = {type_of: code for code, type_of in enumerate(unique_values)}\n",
    "df['tipo_accidente'] = df['tipo_accidente'].map(dictionary)"
   ],
   "metadata": {
    "collapsed": false,
    "ExecuteTime": {
     "end_time": "2023-11-23T15:41:18.527690126Z",
     "start_time": "2023-11-23T15:41:18.508807182Z"
    }
   },
   "id": "327dd9f491380610"
  },
  {
   "cell_type": "code",
   "execution_count": 299,
   "outputs": [],
   "source": [
    "unique_values = df['tipo_vehiculo'].unique()\n",
    "dictionary = {type_of: code for code, type_of in enumerate(unique_values)}\n",
    "df['tipo_vehiculo'] = df['tipo_vehiculo'].map(dictionary)"
   ],
   "metadata": {
    "collapsed": false,
    "ExecuteTime": {
     "end_time": "2023-11-23T15:41:18.552253874Z",
     "start_time": "2023-11-23T15:41:18.520181106Z"
    }
   },
   "id": "4066040e280d38c4"
  },
  {
   "cell_type": "code",
   "execution_count": 300,
   "outputs": [],
   "source": [
    "# TODO eliminar esto cuando se rellene con criterio\n",
    "df['estado_meteorológico'].fillna('Desconocido', inplace=True)\n",
    "\n",
    "unique_values = df['estado_meteorológico'].unique()\n",
    "dictionary = {type_of: code for code, type_of in enumerate(unique_values)}\n",
    "df['estado_meteorológico'] = df['estado_meteorológico'].map(dictionary)"
   ],
   "metadata": {
    "collapsed": false,
    "ExecuteTime": {
     "end_time": "2023-11-23T15:41:18.574800468Z",
     "start_time": "2023-11-23T15:41:18.543270288Z"
    }
   },
   "id": "e28ea7ee54e99c1"
  },
  {
   "cell_type": "code",
   "execution_count": 301,
   "outputs": [
    {
     "data": {
      "text/plain": "num_expediente           False\ncod_distrito             False\ntipo_accidente           False\nestado_meteorológico     False\ntipo_vehiculo            False\nmarca_de_clase_edad      False\nsexo                     False\ncod_lesividad            False\npositiva_alcohol         False\npositiva_droga           False\nnumero_pasajeros         False\nfugado                   False\nmedia_edad_pasajeros     False\nminutes_from_midnight    False\nday                      False\nmonth                    False\nyear                     False\nbool_laborable           False\ndtype: bool"
     },
     "execution_count": 301,
     "metadata": {},
     "output_type": "execute_result"
    }
   ],
   "source": [
    "df.isnull().any()"
   ],
   "metadata": {
    "collapsed": false,
    "ExecuteTime": {
     "end_time": "2023-11-23T15:41:18.628312566Z",
     "start_time": "2023-11-23T15:41:18.566558251Z"
    }
   },
   "id": "7c2e878f49255ceb"
  },
  {
   "cell_type": "code",
   "execution_count": 302,
   "outputs": [
    {
     "data": {
      "text/plain": "   num_implicados  cod_distrito  tipo_accidente  estado_meteorológico  \\\n0               2          13.0               0                     0   \n1               2          13.0               0                     0   \n2               2           3.0               1                     1   \n4               2           3.0               1                     1   \n5               1           1.0               2                     0   \n\n   tipo_vehiculo  marca_de_clase_edad  sexo  cod_lesividad  positiva_alcohol  \\\n0              0                 32.0     0            0.0               0.0   \n1              0                 47.0     1            0.0               0.0   \n2              1                 32.0     1            0.0               1.0   \n4              0                 42.0     1            0.0               0.0   \n5              2                 -1.0     1            0.0               0.0   \n\n   positiva_droga  numero_pasajeros  fugado  media_edad_pasajeros  \\\n0             0.0                 2       0                  39.5   \n1             0.0                 2       0                  39.5   \n2             0.0                 3       0                  37.0   \n4             0.0                 3       0                  37.0   \n5             0.0                 2       0                  19.0   \n\n   minutes_from_midnight  day  month  year  bool_laborable  \n0                     90    1      1  2022               0  \n1                     90    1      1  2022               0  \n2                     30    1      1  2022               0  \n4                     30    1      1  2022               0  \n5                    110    1      1  2022               0  ",
      "text/html": "<div>\n<style scoped>\n    .dataframe tbody tr th:only-of-type {\n        vertical-align: middle;\n    }\n\n    .dataframe tbody tr th {\n        vertical-align: top;\n    }\n\n    .dataframe thead th {\n        text-align: right;\n    }\n</style>\n<table border=\"1\" class=\"dataframe\">\n  <thead>\n    <tr style=\"text-align: right;\">\n      <th></th>\n      <th>num_implicados</th>\n      <th>cod_distrito</th>\n      <th>tipo_accidente</th>\n      <th>estado_meteorológico</th>\n      <th>tipo_vehiculo</th>\n      <th>marca_de_clase_edad</th>\n      <th>sexo</th>\n      <th>cod_lesividad</th>\n      <th>positiva_alcohol</th>\n      <th>positiva_droga</th>\n      <th>numero_pasajeros</th>\n      <th>fugado</th>\n      <th>media_edad_pasajeros</th>\n      <th>minutes_from_midnight</th>\n      <th>day</th>\n      <th>month</th>\n      <th>year</th>\n      <th>bool_laborable</th>\n    </tr>\n  </thead>\n  <tbody>\n    <tr>\n      <th>0</th>\n      <td>2</td>\n      <td>13.0</td>\n      <td>0</td>\n      <td>0</td>\n      <td>0</td>\n      <td>32.0</td>\n      <td>0</td>\n      <td>0.0</td>\n      <td>0.0</td>\n      <td>0.0</td>\n      <td>2</td>\n      <td>0</td>\n      <td>39.5</td>\n      <td>90</td>\n      <td>1</td>\n      <td>1</td>\n      <td>2022</td>\n      <td>0</td>\n    </tr>\n    <tr>\n      <th>1</th>\n      <td>2</td>\n      <td>13.0</td>\n      <td>0</td>\n      <td>0</td>\n      <td>0</td>\n      <td>47.0</td>\n      <td>1</td>\n      <td>0.0</td>\n      <td>0.0</td>\n      <td>0.0</td>\n      <td>2</td>\n      <td>0</td>\n      <td>39.5</td>\n      <td>90</td>\n      <td>1</td>\n      <td>1</td>\n      <td>2022</td>\n      <td>0</td>\n    </tr>\n    <tr>\n      <th>2</th>\n      <td>2</td>\n      <td>3.0</td>\n      <td>1</td>\n      <td>1</td>\n      <td>1</td>\n      <td>32.0</td>\n      <td>1</td>\n      <td>0.0</td>\n      <td>1.0</td>\n      <td>0.0</td>\n      <td>3</td>\n      <td>0</td>\n      <td>37.0</td>\n      <td>30</td>\n      <td>1</td>\n      <td>1</td>\n      <td>2022</td>\n      <td>0</td>\n    </tr>\n    <tr>\n      <th>4</th>\n      <td>2</td>\n      <td>3.0</td>\n      <td>1</td>\n      <td>1</td>\n      <td>0</td>\n      <td>42.0</td>\n      <td>1</td>\n      <td>0.0</td>\n      <td>0.0</td>\n      <td>0.0</td>\n      <td>3</td>\n      <td>0</td>\n      <td>37.0</td>\n      <td>30</td>\n      <td>1</td>\n      <td>1</td>\n      <td>2022</td>\n      <td>0</td>\n    </tr>\n    <tr>\n      <th>5</th>\n      <td>1</td>\n      <td>1.0</td>\n      <td>2</td>\n      <td>0</td>\n      <td>2</td>\n      <td>-1.0</td>\n      <td>1</td>\n      <td>0.0</td>\n      <td>0.0</td>\n      <td>0.0</td>\n      <td>2</td>\n      <td>0</td>\n      <td>19.0</td>\n      <td>110</td>\n      <td>1</td>\n      <td>1</td>\n      <td>2022</td>\n      <td>0</td>\n    </tr>\n  </tbody>\n</table>\n</div>"
     },
     "execution_count": 302,
     "metadata": {},
     "output_type": "execute_result"
    }
   ],
   "source": [
    "numero_implicados = df['num_expediente'].value_counts()\n",
    "diccionario_expediente_implicados = numero_implicados.to_dict()\n",
    "df['num_expediente'] = df['num_expediente'].map(diccionario_expediente_implicados)\n",
    "df.rename(columns={'num_expediente': 'num_implicados'}, inplace=True)\n",
    "\n",
    "df.head()"
   ],
   "metadata": {
    "collapsed": false,
    "ExecuteTime": {
     "end_time": "2023-11-23T15:41:18.667754011Z",
     "start_time": "2023-11-23T15:41:18.618053382Z"
    }
   },
   "id": "d9d98e1f1e5bb52d"
  },
  {
   "cell_type": "code",
   "execution_count": 303,
   "outputs": [
    {
     "data": {
      "text/plain": "0    2022\n1    2022\n2    2022\n4    2022\n5    2022\nName: year, dtype: int64"
     },
     "execution_count": 303,
     "metadata": {},
     "output_type": "execute_result"
    }
   ],
   "source": [
    "df.pop('estado_meteorológico')\n",
    "df.pop('fugado')\n",
    "df.pop('year').head()"
   ],
   "metadata": {
    "collapsed": false,
    "ExecuteTime": {
     "end_time": "2023-11-23T15:41:18.668022146Z",
     "start_time": "2023-11-23T15:41:18.661969066Z"
    }
   },
   "id": "39b961433cd9122b"
  },
  {
   "cell_type": "code",
   "execution_count": 304,
   "outputs": [
    {
     "data": {
      "text/plain": "   num_implicados  minutes_from_midnight  cod_distrito  tipo_accidente  \\\n0               2                     90          13.0               0   \n1               2                     90          13.0               0   \n2               2                     30           3.0               1   \n4               2                     30           3.0               1   \n5               1                    110           1.0               2   \n\n   tipo_vehiculo  sexo  positiva_alcohol  positiva_droga  bool_laborable  \\\n0              0     0               0.0             0.0               0   \n1              0     1               0.0             0.0               0   \n2              1     1               1.0             0.0               0   \n4              0     1               0.0             0.0               0   \n5              2     1               0.0             0.0               0   \n\n   marca_de_clase_edad  day  month  media_edad_pasajeros  numero_pasajeros  \n0                 32.0    1      1                  39.5                 2  \n1                 47.0    1      1                  39.5                 2  \n2                 32.0    1      1                  37.0                 3  \n4                 42.0    1      1                  37.0                 3  \n5                 -1.0    1      1                  19.0                 2  ",
      "text/html": "<div>\n<style scoped>\n    .dataframe tbody tr th:only-of-type {\n        vertical-align: middle;\n    }\n\n    .dataframe tbody tr th {\n        vertical-align: top;\n    }\n\n    .dataframe thead th {\n        text-align: right;\n    }\n</style>\n<table border=\"1\" class=\"dataframe\">\n  <thead>\n    <tr style=\"text-align: right;\">\n      <th></th>\n      <th>num_implicados</th>\n      <th>minutes_from_midnight</th>\n      <th>cod_distrito</th>\n      <th>tipo_accidente</th>\n      <th>tipo_vehiculo</th>\n      <th>sexo</th>\n      <th>positiva_alcohol</th>\n      <th>positiva_droga</th>\n      <th>bool_laborable</th>\n      <th>marca_de_clase_edad</th>\n      <th>day</th>\n      <th>month</th>\n      <th>media_edad_pasajeros</th>\n      <th>numero_pasajeros</th>\n    </tr>\n  </thead>\n  <tbody>\n    <tr>\n      <th>0</th>\n      <td>2</td>\n      <td>90</td>\n      <td>13.0</td>\n      <td>0</td>\n      <td>0</td>\n      <td>0</td>\n      <td>0.0</td>\n      <td>0.0</td>\n      <td>0</td>\n      <td>32.0</td>\n      <td>1</td>\n      <td>1</td>\n      <td>39.5</td>\n      <td>2</td>\n    </tr>\n    <tr>\n      <th>1</th>\n      <td>2</td>\n      <td>90</td>\n      <td>13.0</td>\n      <td>0</td>\n      <td>0</td>\n      <td>1</td>\n      <td>0.0</td>\n      <td>0.0</td>\n      <td>0</td>\n      <td>47.0</td>\n      <td>1</td>\n      <td>1</td>\n      <td>39.5</td>\n      <td>2</td>\n    </tr>\n    <tr>\n      <th>2</th>\n      <td>2</td>\n      <td>30</td>\n      <td>3.0</td>\n      <td>1</td>\n      <td>1</td>\n      <td>1</td>\n      <td>1.0</td>\n      <td>0.0</td>\n      <td>0</td>\n      <td>32.0</td>\n      <td>1</td>\n      <td>1</td>\n      <td>37.0</td>\n      <td>3</td>\n    </tr>\n    <tr>\n      <th>4</th>\n      <td>2</td>\n      <td>30</td>\n      <td>3.0</td>\n      <td>1</td>\n      <td>0</td>\n      <td>1</td>\n      <td>0.0</td>\n      <td>0.0</td>\n      <td>0</td>\n      <td>42.0</td>\n      <td>1</td>\n      <td>1</td>\n      <td>37.0</td>\n      <td>3</td>\n    </tr>\n    <tr>\n      <th>5</th>\n      <td>1</td>\n      <td>110</td>\n      <td>1.0</td>\n      <td>2</td>\n      <td>2</td>\n      <td>1</td>\n      <td>0.0</td>\n      <td>0.0</td>\n      <td>0</td>\n      <td>-1.0</td>\n      <td>1</td>\n      <td>1</td>\n      <td>19.0</td>\n      <td>2</td>\n    </tr>\n  </tbody>\n</table>\n</div>"
     },
     "execution_count": 304,
     "metadata": {},
     "output_type": "execute_result"
    }
   ],
   "source": [
    "correct_order = ['num_implicados', 'minutes_from_midnight', 'cod_distrito', 'tipo_accidente', 'tipo_vehiculo', 'sexo', 'positiva_alcohol', 'positiva_droga','bool_laborable', 'marca_de_clase_edad', 'day', 'month', 'media_edad_pasajeros', 'numero_pasajeros']\n",
    "df = df[correct_order]\n",
    "df.head()"
   ],
   "metadata": {
    "collapsed": false,
    "ExecuteTime": {
     "end_time": "2023-11-23T15:41:18.724580701Z",
     "start_time": "2023-11-23T15:41:18.662140730Z"
    }
   },
   "id": "9ea25fd1c7df3830"
  },
  {
   "cell_type": "markdown",
   "source": [],
   "metadata": {
    "collapsed": false
   },
   "id": "22970da9d12333ee"
  },
  {
   "cell_type": "code",
   "execution_count": 305,
   "outputs": [],
   "source": [
    "predict_df = df[df['marca_de_clase_edad'] == -1]\n",
    "df_ex_predict = df.drop(predict_df.index)"
   ],
   "metadata": {
    "collapsed": false,
    "ExecuteTime": {
     "end_time": "2023-11-23T15:41:18.724796820Z",
     "start_time": "2023-11-23T15:41:18.705956518Z"
    }
   },
   "id": "4b025790b189dcb2"
  },
  {
   "cell_type": "code",
   "execution_count": 306,
   "outputs": [
    {
     "name": "stdout",
     "output_type": "stream",
     "text": [
      "[7.5, 12.0, 16.0, 19.0, 22.5, 27.0, 32.0, 37.0, 42.0, 47.0, 52.0, 57.0, 62.0, 67.0, 72.0]\n"
     ]
    }
   ],
   "source": [
    "print(sorted(df_ex_predict['marca_de_clase_edad'].unique()))"
   ],
   "metadata": {
    "collapsed": false,
    "ExecuteTime": {
     "end_time": "2023-11-23T15:41:18.725000397Z",
     "start_time": "2023-11-23T15:41:18.706112926Z"
    }
   },
   "id": "b8d60221193712d4"
  },
  {
   "cell_type": "code",
   "execution_count": 307,
   "outputs": [],
   "source": [
    "# 'tipo_persona', 'sexo', 'positivo_alcohol', 'positivo_droga', 'fugado' no necesitan ser normalizadas\n",
    "def custom_normalizer(__df: pd.DataFrame) -> None:\n",
    "    cols_to_preserve = ['sexo', 'positiva_alcohol', 'positiva_droga', 'fugado', 'marca_de_clase_edad', 'bool_laborable']\n",
    "    # Normalizar las demás columnas\n",
    "    for col in __df.columns:\n",
    "        if col not in cols_to_preserve:\n",
    "            __df[col] = normalizer(df[col])\n",
    "\n",
    "def normalizer(column: pd.Series) -> pd.Series:\n",
    "    mean = column.mean()\n",
    "    std = column.std() + 0.0000001  # evitamos dividir entre 0\n",
    "    normalized_column = (column - mean) / std\n",
    "    return normalized_column"
   ],
   "metadata": {
    "collapsed": false,
    "ExecuteTime": {
     "end_time": "2023-11-23T15:41:18.871073970Z",
     "start_time": "2023-11-23T15:41:18.706183787Z"
    }
   },
   "id": "548a087290e5c4ab"
  },
  {
   "cell_type": "code",
   "execution_count": 308,
   "outputs": [
    {
     "data": {
      "text/plain": "   num_implicados  minutes_from_midnight  cod_distrito  tipo_accidente  \\\n0       -0.012232              -2.238222      0.552642       -1.078797   \n1       -0.012232              -2.238222      0.552642       -1.078797   \n2       -0.012232              -2.412535     -1.208375       -0.641271   \n4       -0.012232              -2.412535     -1.208375       -0.641271   \n7       -1.583257              -1.860543      1.785353        0.233782   \n\n   tipo_vehiculo  sexo  positiva_alcohol  positiva_droga  bool_laborable  \\\n0      -0.458522     0               0.0             0.0               0   \n1      -0.458522     1               0.0             0.0               0   \n2      -0.210317     1               1.0             0.0               0   \n4      -0.458522     1               0.0             0.0               0   \n7      -0.458522     1               0.0             0.0               0   \n\n   marca_de_clase_edad       day     month  media_edad_pasajeros  \\\n0                 32.0 -1.675271 -1.446378             -0.016841   \n1                 47.0 -1.675271 -1.446378             -0.016841   \n2                 32.0 -1.675271 -1.446378             -0.218953   \n4                 42.0 -1.675271 -1.446378             -0.218953   \n7                 52.0 -1.675271 -1.446378              1.195833   \n\n   numero_pasajeros  \n0         -0.407850  \n1         -0.407850  \n2          0.493545  \n4          0.493545  \n7         -0.407850  ",
      "text/html": "<div>\n<style scoped>\n    .dataframe tbody tr th:only-of-type {\n        vertical-align: middle;\n    }\n\n    .dataframe tbody tr th {\n        vertical-align: top;\n    }\n\n    .dataframe thead th {\n        text-align: right;\n    }\n</style>\n<table border=\"1\" class=\"dataframe\">\n  <thead>\n    <tr style=\"text-align: right;\">\n      <th></th>\n      <th>num_implicados</th>\n      <th>minutes_from_midnight</th>\n      <th>cod_distrito</th>\n      <th>tipo_accidente</th>\n      <th>tipo_vehiculo</th>\n      <th>sexo</th>\n      <th>positiva_alcohol</th>\n      <th>positiva_droga</th>\n      <th>bool_laborable</th>\n      <th>marca_de_clase_edad</th>\n      <th>day</th>\n      <th>month</th>\n      <th>media_edad_pasajeros</th>\n      <th>numero_pasajeros</th>\n    </tr>\n  </thead>\n  <tbody>\n    <tr>\n      <th>0</th>\n      <td>-0.012232</td>\n      <td>-2.238222</td>\n      <td>0.552642</td>\n      <td>-1.078797</td>\n      <td>-0.458522</td>\n      <td>0</td>\n      <td>0.0</td>\n      <td>0.0</td>\n      <td>0</td>\n      <td>32.0</td>\n      <td>-1.675271</td>\n      <td>-1.446378</td>\n      <td>-0.016841</td>\n      <td>-0.407850</td>\n    </tr>\n    <tr>\n      <th>1</th>\n      <td>-0.012232</td>\n      <td>-2.238222</td>\n      <td>0.552642</td>\n      <td>-1.078797</td>\n      <td>-0.458522</td>\n      <td>1</td>\n      <td>0.0</td>\n      <td>0.0</td>\n      <td>0</td>\n      <td>47.0</td>\n      <td>-1.675271</td>\n      <td>-1.446378</td>\n      <td>-0.016841</td>\n      <td>-0.407850</td>\n    </tr>\n    <tr>\n      <th>2</th>\n      <td>-0.012232</td>\n      <td>-2.412535</td>\n      <td>-1.208375</td>\n      <td>-0.641271</td>\n      <td>-0.210317</td>\n      <td>1</td>\n      <td>1.0</td>\n      <td>0.0</td>\n      <td>0</td>\n      <td>32.0</td>\n      <td>-1.675271</td>\n      <td>-1.446378</td>\n      <td>-0.218953</td>\n      <td>0.493545</td>\n    </tr>\n    <tr>\n      <th>4</th>\n      <td>-0.012232</td>\n      <td>-2.412535</td>\n      <td>-1.208375</td>\n      <td>-0.641271</td>\n      <td>-0.458522</td>\n      <td>1</td>\n      <td>0.0</td>\n      <td>0.0</td>\n      <td>0</td>\n      <td>42.0</td>\n      <td>-1.675271</td>\n      <td>-1.446378</td>\n      <td>-0.218953</td>\n      <td>0.493545</td>\n    </tr>\n    <tr>\n      <th>7</th>\n      <td>-1.583257</td>\n      <td>-1.860543</td>\n      <td>1.785353</td>\n      <td>0.233782</td>\n      <td>-0.458522</td>\n      <td>1</td>\n      <td>0.0</td>\n      <td>0.0</td>\n      <td>0</td>\n      <td>52.0</td>\n      <td>-1.675271</td>\n      <td>-1.446378</td>\n      <td>1.195833</td>\n      <td>-0.407850</td>\n    </tr>\n  </tbody>\n</table>\n</div>"
     },
     "execution_count": 308,
     "metadata": {},
     "output_type": "execute_result"
    }
   ],
   "source": [
    "custom_normalizer(df_ex_predict)\n",
    "df_ex_predict = df_ex_predict[correct_order]\n",
    "df_ex_predict.head()"
   ],
   "metadata": {
    "collapsed": false,
    "ExecuteTime": {
     "end_time": "2023-11-23T15:41:18.871631540Z",
     "start_time": "2023-11-23T15:41:18.749914071Z"
    }
   },
   "id": "2067b0b94abe662c"
  },
  {
   "cell_type": "code",
   "execution_count": 309,
   "outputs": [
    {
     "name": "stderr",
     "output_type": "stream",
     "text": [
      "/tmp/ipykernel_19186/789485832.py:7: SettingWithCopyWarning: \n",
      "A value is trying to be set on a copy of a slice from a DataFrame.\n",
      "Try using .loc[row_indexer,col_indexer] = value instead\n",
      "\n",
      "See the caveats in the documentation: https://pandas.pydata.org/pandas-docs/stable/user_guide/indexing.html#returning-a-view-versus-a-copy\n",
      "  __df[col] = normalizer(df[col])\n"
     ]
    },
    {
     "data": {
      "text/plain": "    num_implicados  minutes_from_midnight  cod_distrito  tipo_accidente  \\\n5        -1.583257              -2.180117     -1.560578       -0.203744   \n12       -0.012232              -1.584546     -0.503968        0.233782   \n14       -1.583257              -1.570020      1.785353        0.233782   \n17       -0.012232               0.521740      0.024337        0.671308   \n18       -1.583257              -1.584546      1.785353        0.233782   \n\n    tipo_vehiculo  sexo  positiva_alcohol  positiva_droga  bool_laborable  \\\n5        0.037887     1               0.0             0.0               0   \n12      -0.458522     1               0.0             0.0               0   \n14       0.286092     1               0.0             0.0               0   \n17      -0.458522     1               0.0             0.0               0   \n18      -0.458522     1               0.0             0.0               0   \n\n    marca_de_clase_edad       day     month  media_edad_pasajeros  \\\n5                  -1.0 -1.675271 -1.446378             -1.674161   \n12                 -1.0 -1.675271 -1.446378             -1.027402   \n14                 -1.0 -1.675271 -1.446378             -1.916696   \n17                 -1.0 -1.675271 -1.446378             -0.218953   \n18                 -1.0 -1.675271 -1.446378             -1.532683   \n\n    numero_pasajeros  \n5          -0.407850  \n12         -0.407850  \n14         -0.407850  \n17         -0.407850  \n18          0.493545  ",
      "text/html": "<div>\n<style scoped>\n    .dataframe tbody tr th:only-of-type {\n        vertical-align: middle;\n    }\n\n    .dataframe tbody tr th {\n        vertical-align: top;\n    }\n\n    .dataframe thead th {\n        text-align: right;\n    }\n</style>\n<table border=\"1\" class=\"dataframe\">\n  <thead>\n    <tr style=\"text-align: right;\">\n      <th></th>\n      <th>num_implicados</th>\n      <th>minutes_from_midnight</th>\n      <th>cod_distrito</th>\n      <th>tipo_accidente</th>\n      <th>tipo_vehiculo</th>\n      <th>sexo</th>\n      <th>positiva_alcohol</th>\n      <th>positiva_droga</th>\n      <th>bool_laborable</th>\n      <th>marca_de_clase_edad</th>\n      <th>day</th>\n      <th>month</th>\n      <th>media_edad_pasajeros</th>\n      <th>numero_pasajeros</th>\n    </tr>\n  </thead>\n  <tbody>\n    <tr>\n      <th>5</th>\n      <td>-1.583257</td>\n      <td>-2.180117</td>\n      <td>-1.560578</td>\n      <td>-0.203744</td>\n      <td>0.037887</td>\n      <td>1</td>\n      <td>0.0</td>\n      <td>0.0</td>\n      <td>0</td>\n      <td>-1.0</td>\n      <td>-1.675271</td>\n      <td>-1.446378</td>\n      <td>-1.674161</td>\n      <td>-0.407850</td>\n    </tr>\n    <tr>\n      <th>12</th>\n      <td>-0.012232</td>\n      <td>-1.584546</td>\n      <td>-0.503968</td>\n      <td>0.233782</td>\n      <td>-0.458522</td>\n      <td>1</td>\n      <td>0.0</td>\n      <td>0.0</td>\n      <td>0</td>\n      <td>-1.0</td>\n      <td>-1.675271</td>\n      <td>-1.446378</td>\n      <td>-1.027402</td>\n      <td>-0.407850</td>\n    </tr>\n    <tr>\n      <th>14</th>\n      <td>-1.583257</td>\n      <td>-1.570020</td>\n      <td>1.785353</td>\n      <td>0.233782</td>\n      <td>0.286092</td>\n      <td>1</td>\n      <td>0.0</td>\n      <td>0.0</td>\n      <td>0</td>\n      <td>-1.0</td>\n      <td>-1.675271</td>\n      <td>-1.446378</td>\n      <td>-1.916696</td>\n      <td>-0.407850</td>\n    </tr>\n    <tr>\n      <th>17</th>\n      <td>-0.012232</td>\n      <td>0.521740</td>\n      <td>0.024337</td>\n      <td>0.671308</td>\n      <td>-0.458522</td>\n      <td>1</td>\n      <td>0.0</td>\n      <td>0.0</td>\n      <td>0</td>\n      <td>-1.0</td>\n      <td>-1.675271</td>\n      <td>-1.446378</td>\n      <td>-0.218953</td>\n      <td>-0.407850</td>\n    </tr>\n    <tr>\n      <th>18</th>\n      <td>-1.583257</td>\n      <td>-1.584546</td>\n      <td>1.785353</td>\n      <td>0.233782</td>\n      <td>-0.458522</td>\n      <td>1</td>\n      <td>0.0</td>\n      <td>0.0</td>\n      <td>0</td>\n      <td>-1.0</td>\n      <td>-1.675271</td>\n      <td>-1.446378</td>\n      <td>-1.532683</td>\n      <td>0.493545</td>\n    </tr>\n  </tbody>\n</table>\n</div>"
     },
     "execution_count": 309,
     "metadata": {},
     "output_type": "execute_result"
    }
   ],
   "source": [
    "custom_normalizer(predict_df)\n",
    "predict_df = predict_df[correct_order]\n",
    "predict_df.head()"
   ],
   "metadata": {
    "collapsed": false,
    "ExecuteTime": {
     "end_time": "2023-11-23T15:41:18.872007344Z",
     "start_time": "2023-11-23T15:41:18.763373480Z"
    }
   },
   "id": "263c67081933922d"
  },
  {
   "cell_type": "code",
   "execution_count": 310,
   "outputs": [
    {
     "data": {
      "text/plain": "0"
     },
     "execution_count": 310,
     "metadata": {},
     "output_type": "execute_result"
    }
   ],
   "source": [
    "# TODO remove this when ready\n",
    "df['marca_de_clase_edad'].count() - predict_df['marca_de_clase_edad'].count() - df_ex_predict[\n",
    "    'marca_de_clase_edad'].count()"
   ],
   "metadata": {
    "collapsed": false,
    "ExecuteTime": {
     "end_time": "2023-11-23T15:41:18.872148270Z",
     "start_time": "2023-11-23T15:41:18.788554366Z"
    }
   },
   "id": "7562966027c9d209"
  },
  {
   "cell_type": "code",
   "execution_count": 311,
   "outputs": [],
   "source": [
    "train_df, val_df = train_test_split(df_ex_predict, test_size=0.2, random_state=4321)"
   ],
   "metadata": {
    "collapsed": false,
    "ExecuteTime": {
     "end_time": "2023-11-23T15:41:18.872585996Z",
     "start_time": "2023-11-23T15:41:18.793265322Z"
    }
   },
   "id": "135a4adcab55ab4a"
  },
  {
   "cell_type": "code",
   "execution_count": 312,
   "outputs": [],
   "source": [
    "classes = [ 7.5, 12.0, 16.0, 19.0, 22.5, 27.0, 32.0, 37.0, 42.0, 47.0, 52.0, 57.0, 62.0, 67.0, 72.0]\n",
    "\n",
    "\n",
    "def extract_labels(df, target_column, classes):\n",
    "    labels = df[target_column].values\n",
    "\n",
    "    one_hot_labels = []\n",
    "\n",
    "    for label in labels:\n",
    "        one_hot_vector = [1 if label == cls else 0 for cls in classes]\n",
    "        one_hot_labels.append(one_hot_vector)\n",
    "\n",
    "    return np.array(one_hot_labels)"
   ],
   "metadata": {
    "collapsed": false,
    "ExecuteTime": {
     "end_time": "2023-11-23T15:41:19.009539587Z",
     "start_time": "2023-11-23T15:41:18.837839311Z"
    }
   },
   "id": "277f7bbf5191ada3"
  },
  {
   "cell_type": "code",
   "execution_count": 313,
   "outputs": [],
   "source": [
    "train_labels = extract_labels(train_df, 'marca_de_clase_edad', classes)\n",
    "val_labels = extract_labels(val_df, 'marca_de_clase_edad', classes)\n",
    "train_data = train_df.drop('marca_de_clase_edad', axis=1).values\n",
    "val_data = val_df.drop('marca_de_clase_edad', axis=1).values"
   ],
   "metadata": {
    "collapsed": false,
    "ExecuteTime": {
     "end_time": "2023-11-23T15:41:19.037346049Z",
     "start_time": "2023-11-23T15:41:18.881863809Z"
    }
   },
   "id": "769587793bd3d658"
  },
  {
   "cell_type": "code",
   "execution_count": 314,
   "outputs": [
    {
     "name": "stdout",
     "output_type": "stream",
     "text": [
      "Model: \"sequential_1\"\n",
      "_________________________________________________________________\n",
      "Layer (type)                 Output Shape              Param #   \n",
      "=================================================================\n",
      "dense (Dense)                (None, 64)                896       \n",
      "_________________________________________________________________\n",
      "leaky_re_lu (LeakyReLU)      (None, 64)                0         \n",
      "_________________________________________________________________\n",
      "dense_1 (Dense)              (None, 64)                4160      \n",
      "_________________________________________________________________\n",
      "leaky_re_lu_1 (LeakyReLU)    (None, 64)                0         \n",
      "_________________________________________________________________\n",
      "dense_2 (Dense)              (None, 64)                4160      \n",
      "_________________________________________________________________\n",
      "leaky_re_lu_2 (LeakyReLU)    (None, 64)                0         \n",
      "_________________________________________________________________\n",
      "dense_3 (Dense)              (None, 64)                4160      \n",
      "_________________________________________________________________\n",
      "leaky_re_lu_3 (LeakyReLU)    (None, 64)                0         \n",
      "_________________________________________________________________\n",
      "dense_4 (Dense)              (None, 32)                2080      \n",
      "_________________________________________________________________\n",
      "leaky_re_lu_4 (LeakyReLU)    (None, 32)                0         \n",
      "_________________________________________________________________\n",
      "dense_5 (Dense)              (None, 32)                1056      \n",
      "_________________________________________________________________\n",
      "leaky_re_lu_5 (LeakyReLU)    (None, 32)                0         \n",
      "_________________________________________________________________\n",
      "dense_6 (Dense)              (None, 32)                1056      \n",
      "_________________________________________________________________\n",
      "leaky_re_lu_6 (LeakyReLU)    (None, 32)                0         \n",
      "_________________________________________________________________\n",
      "dense_7 (Dense)              (None, 32)                1056      \n",
      "_________________________________________________________________\n",
      "leaky_re_lu_7 (LeakyReLU)    (None, 32)                0         \n",
      "_________________________________________________________________\n",
      "dense_8 (Dense)              (None, 32)                1056      \n",
      "_________________________________________________________________\n",
      "leaky_re_lu_8 (LeakyReLU)    (None, 32)                0         \n",
      "_________________________________________________________________\n",
      "dense_9 (Dense)              (None, 32)                1056      \n",
      "_________________________________________________________________\n",
      "leaky_re_lu_9 (LeakyReLU)    (None, 32)                0         \n",
      "_________________________________________________________________\n",
      "dense_10 (Dense)             (None, 32)                1056      \n",
      "_________________________________________________________________\n",
      "leaky_re_lu_10 (LeakyReLU)   (None, 32)                0         \n",
      "_________________________________________________________________\n",
      "dense_11 (Dense)             (None, 32)                1056      \n",
      "_________________________________________________________________\n",
      "leaky_re_lu_11 (LeakyReLU)   (None, 32)                0         \n",
      "_________________________________________________________________\n",
      "dense_12 (Dense)             (None, 32)                1056      \n",
      "_________________________________________________________________\n",
      "leaky_re_lu_12 (LeakyReLU)   (None, 32)                0         \n",
      "_________________________________________________________________\n",
      "dense_13 (Dense)             (None, 32)                1056      \n",
      "_________________________________________________________________\n",
      "leaky_re_lu_13 (LeakyReLU)   (None, 32)                0         \n",
      "_________________________________________________________________\n",
      "dense_14 (Dense)             (None, 15)                495       \n",
      "=================================================================\n",
      "Total params: 25,455\n",
      "Trainable params: 25,455\n",
      "Non-trainable params: 0\n",
      "_________________________________________________________________\n"
     ]
    }
   ],
   "source": [
    "model = load_model('bestmodelv2-0.31403.h5')\n",
    "model.summary()"
   ],
   "metadata": {
    "collapsed": false,
    "ExecuteTime": {
     "end_time": "2023-11-23T15:41:19.262945848Z",
     "start_time": "2023-11-23T15:41:18.984606672Z"
    }
   },
   "id": "170b34d71552ea7e"
  },
  {
   "cell_type": "code",
   "execution_count": 315,
   "outputs": [
    {
     "name": "stdout",
     "output_type": "stream",
     "text": [
      "              precision    recall  f1-score   support\n",
      "\n",
      "           0       0.00      0.00      0.00         2\n",
      "           1       0.75      0.18      0.29        17\n",
      "           2       0.67      0.28      0.39        36\n",
      "           3       0.69      0.30      0.42       280\n",
      "           4       0.64      0.32      0.42       743\n",
      "           5       0.45      0.41      0.43      1255\n",
      "           6       0.34      0.39      0.36      1276\n",
      "           7       0.28      0.26      0.27      1204\n",
      "           8       0.26      0.36      0.30      1322\n",
      "           9       0.25      0.40      0.31      1315\n",
      "          10       0.33      0.37      0.35      1184\n",
      "          11       0.39      0.27      0.32       933\n",
      "          12       0.50      0.21      0.29       598\n",
      "          13       0.54      0.22      0.31       276\n",
      "          14       0.70      0.18      0.28       175\n",
      "\n",
      "    accuracy                           0.34     10616\n",
      "   macro avg       0.45      0.28      0.32     10616\n",
      "weighted avg       0.38      0.34      0.34     10616\n"
     ]
    },
    {
     "name": "stderr",
     "output_type": "stream",
     "text": [
      "/home/duo/anaconda3/lib/python3.11/site-packages/sklearn/metrics/_classification.py:1469: UndefinedMetricWarning: Precision and F-score are ill-defined and being set to 0.0 in labels with no predicted samples. Use `zero_division` parameter to control this behavior.\n",
      "  _warn_prf(average, modifier, msg_start, len(result))\n",
      "/home/duo/anaconda3/lib/python3.11/site-packages/sklearn/metrics/_classification.py:1469: UndefinedMetricWarning: Precision and F-score are ill-defined and being set to 0.0 in labels with no predicted samples. Use `zero_division` parameter to control this behavior.\n",
      "  _warn_prf(average, modifier, msg_start, len(result))\n",
      "/home/duo/anaconda3/lib/python3.11/site-packages/sklearn/metrics/_classification.py:1469: UndefinedMetricWarning: Precision and F-score are ill-defined and being set to 0.0 in labels with no predicted samples. Use `zero_division` parameter to control this behavior.\n",
      "  _warn_prf(average, modifier, msg_start, len(result))\n"
     ]
    }
   ],
   "source": [
    "y_val_pred = model.predict(val_data)\n",
    "y_val_pred_classes = np.argmax(y_val_pred, axis=1)\n",
    "y_val_true = np.argmax(val_labels, axis=1)\n",
    "\n",
    "print(classification_report(y_val_true, y_val_pred_classes))"
   ],
   "metadata": {
    "collapsed": false,
    "ExecuteTime": {
     "end_time": "2023-11-23T15:41:20.947647631Z",
     "start_time": "2023-11-23T15:41:19.237871177Z"
    }
   },
   "id": "b5e2628db0738004"
  },
  {
   "cell_type": "code",
   "execution_count": 316,
   "outputs": [
    {
     "data": {
      "text/plain": "<Figure size 1000x800 with 2 Axes>",
      "image/png": "[encoded data removed]"
     },
     "metadata": {},
     "output_type": "display_data"
    }
   ],
   "source": [
    "cm = confusion_matrix(y_val_true, y_val_pred_classes)\n",
    "\n",
    "# Plotting the confusion matrix\n",
    "plt.figure(figsize=(10, 8))\n",
    "sns.heatmap(cm, annot=True, fmt=\"d\", cmap=\"Blues\")\n",
    "plt.title('Confusion Matrix')\n",
    "plt.ylabel('Actual Labels')\n",
    "plt.xlabel('Predicted Labels')\n",
    "\n",
    "# Adding tick labels for better readability\n",
    "classes = [7.5, 12, 16, 19, 22.5, 27, 32, 37, 42, 47, 52, 57, 62, 67, 72] \n",
    "plt.xticks(ticks=np.arange(len(classes)) + 0.5, labels=classes, rotation=90)\n",
    "plt.yticks(ticks=np.arange(len(classes)) + 0.5, labels=classes, rotation=0)\n",
    "\n",
    "plt.show()\n"
   ],
   "metadata": {
    "collapsed": false,
    "ExecuteTime": {
     "end_time": "2023-11-23T15:41:21.572778031Z",
     "start_time": "2023-11-23T15:41:20.946461828Z"
    }
   },
   "id": "d27e388bb89aaab9"
  },
  {
   "cell_type": "markdown",
   "source": [
    "Procedemos a reemplazar los datos"
   ],
   "metadata": {
    "collapsed": false
   },
   "id": "de3d489bc5eeae56"
  },
  {
   "cell_type": "code",
   "execution_count": 317,
   "outputs": [
    {
     "data": {
      "text/plain": "5    -1.0\n12   -1.0\n14   -1.0\n17   -1.0\n18   -1.0\nName: marca_de_clase_edad, dtype: float64"
     },
     "execution_count": 317,
     "metadata": {},
     "output_type": "execute_result"
    }
   ],
   "source": [
    "predict_df.pop('marca_de_clase_edad').head()"
   ],
   "metadata": {
    "collapsed": false,
    "ExecuteTime": {
     "end_time": "2023-11-23T15:41:21.580426337Z",
     "start_time": "2023-11-23T15:41:21.575684803Z"
    }
   },
   "id": "cc8cf6cf690e6b6e"
  },
  {
   "cell_type": "code",
   "execution_count": 318,
   "outputs": [],
   "source": [
    "classes = [7.5, 12, 16, 19, 22.5, 27, 32, 37, 42, 47, 52, 57, 62, 67, 72]\n",
    "y_val_pred = model.predict(predict_df.values)\n",
    "y_val_pred_indices = np.argmax(y_val_pred, axis=1)\n",
    "y_val_pred_classes = [classes[index] for index in y_val_pred_indices]\n",
    "\n",
    "predicted_classes_series = pd.Series(y_val_pred_classes, index=predict_df.index)"
   ],
   "metadata": {
    "collapsed": false,
    "ExecuteTime": {
     "end_time": "2023-11-23T15:41:21.946423355Z",
     "start_time": "2023-11-23T15:41:21.580308156Z"
    }
   },
   "id": "fc05f2a51d1d6794"
  },
  {
   "cell_type": "code",
   "execution_count": 319,
   "outputs": [
    {
     "data": {
      "text/plain": "5        19.0\n12       27.0\n14       19.0\n17       37.0\n18       22.5\n         ... \n74881    52.0\n74891    52.0\n74894    32.0\n74904    27.0\n74955    47.0\nLength: 7413, dtype: float64"
     },
     "execution_count": 319,
     "metadata": {},
     "output_type": "execute_result"
    }
   ],
   "source": [
    "predicted_classes_series"
   ],
   "metadata": {
    "collapsed": false,
    "ExecuteTime": {
     "end_time": "2023-11-23T15:41:21.952664346Z",
     "start_time": "2023-11-23T15:41:21.946588870Z"
    }
   },
   "id": "abf984435631335d"
  },
  {
   "cell_type": "code",
   "execution_count": 322,
   "outputs": [
    {
     "data": {
      "text/plain": "Empty DataFrame\nColumns: [num_implicados, minutes_from_midnight, cod_distrito, tipo_accidente, tipo_vehiculo, sexo, positiva_alcohol, positiva_droga, bool_laborable, marca_de_clase_edad, day, month, media_edad_pasajeros, numero_pasajeros]\nIndex: []",
      "text/html": "<div>\n<style scoped>\n    .dataframe tbody tr th:only-of-type {\n        vertical-align: middle;\n    }\n\n    .dataframe tbody tr th {\n        vertical-align: top;\n    }\n\n    .dataframe thead th {\n        text-align: right;\n    }\n</style>\n<table border=\"1\" class=\"dataframe\">\n  <thead>\n    <tr style=\"text-align: right;\">\n      <th></th>\n      <th>num_implicados</th>\n      <th>minutes_from_midnight</th>\n      <th>cod_distrito</th>\n      <th>tipo_accidente</th>\n      <th>tipo_vehiculo</th>\n      <th>sexo</th>\n      <th>positiva_alcohol</th>\n      <th>positiva_droga</th>\n      <th>bool_laborable</th>\n      <th>marca_de_clase_edad</th>\n      <th>day</th>\n      <th>month</th>\n      <th>media_edad_pasajeros</th>\n      <th>numero_pasajeros</th>\n    </tr>\n  </thead>\n  <tbody>\n  </tbody>\n</table>\n</div>"
     },
     "execution_count": 322,
     "metadata": {},
     "output_type": "execute_result"
    }
   ],
   "source": [
    "df.loc[predicted_classes_series.index, 'marca_de_clase_edad'] = predicted_classes_series\n",
    "df[df['marca_de_clase_edad'] == -1]"
   ],
   "metadata": {
    "collapsed": false,
    "ExecuteTime": {
     "end_time": "2023-11-23T15:44:41.026496388Z",
     "start_time": "2023-11-23T15:44:40.986560130Z"
    }
   },
   "id": "f00fb2f2859f9dce"
  },
  {
   "cell_type": "code",
   "execution_count": 323,
   "outputs": [
    {
     "data": {
      "text/plain": "   num_implicados  minutes_from_midnight  cod_distrito  tipo_accidente  \\\n0               2                     90          13.0               0   \n1               2                     90          13.0               0   \n2               2                     30           3.0               1   \n4               2                     30           3.0               1   \n5               1                    110           1.0               2   \n\n   tipo_vehiculo  sexo  positiva_alcohol  positiva_droga  bool_laborable  \\\n0              0     0               0.0             0.0               0   \n1              0     1               0.0             0.0               0   \n2              1     1               1.0             0.0               0   \n4              0     1               0.0             0.0               0   \n5              2     1               0.0             0.0               0   \n\n   marca_de_clase_edad  day  month  media_edad_pasajeros  numero_pasajeros  \n0                 32.0    1      1                  39.5                 2  \n1                 47.0    1      1                  39.5                 2  \n2                 32.0    1      1                  37.0                 3  \n4                 42.0    1      1                  37.0                 3  \n5                 19.0    1      1                  19.0                 2  ",
      "text/html": "<div>\n<style scoped>\n    .dataframe tbody tr th:only-of-type {\n        vertical-align: middle;\n    }\n\n    .dataframe tbody tr th {\n        vertical-align: top;\n    }\n\n    .dataframe thead th {\n        text-align: right;\n    }\n</style>\n<table border=\"1\" class=\"dataframe\">\n  <thead>\n    <tr style=\"text-align: right;\">\n      <th></th>\n      <th>num_implicados</th>\n      <th>minutes_from_midnight</th>\n      <th>cod_distrito</th>\n      <th>tipo_accidente</th>\n      <th>tipo_vehiculo</th>\n      <th>sexo</th>\n      <th>positiva_alcohol</th>\n      <th>positiva_droga</th>\n      <th>bool_laborable</th>\n      <th>marca_de_clase_edad</th>\n      <th>day</th>\n      <th>month</th>\n      <th>media_edad_pasajeros</th>\n      <th>numero_pasajeros</th>\n    </tr>\n  </thead>\n  <tbody>\n    <tr>\n      <th>0</th>\n      <td>2</td>\n      <td>90</td>\n      <td>13.0</td>\n      <td>0</td>\n      <td>0</td>\n      <td>0</td>\n      <td>0.0</td>\n      <td>0.0</td>\n      <td>0</td>\n      <td>32.0</td>\n      <td>1</td>\n      <td>1</td>\n      <td>39.5</td>\n      <td>2</td>\n    </tr>\n    <tr>\n      <th>1</th>\n      <td>2</td>\n      <td>90</td>\n      <td>13.0</td>\n      <td>0</td>\n      <td>0</td>\n      <td>1</td>\n      <td>0.0</td>\n      <td>0.0</td>\n      <td>0</td>\n      <td>47.0</td>\n      <td>1</td>\n      <td>1</td>\n      <td>39.5</td>\n      <td>2</td>\n    </tr>\n    <tr>\n      <th>2</th>\n      <td>2</td>\n      <td>30</td>\n      <td>3.0</td>\n      <td>1</td>\n      <td>1</td>\n      <td>1</td>\n      <td>1.0</td>\n      <td>0.0</td>\n      <td>0</td>\n      <td>32.0</td>\n      <td>1</td>\n      <td>1</td>\n      <td>37.0</td>\n      <td>3</td>\n    </tr>\n    <tr>\n      <th>4</th>\n      <td>2</td>\n      <td>30</td>\n      <td>3.0</td>\n      <td>1</td>\n      <td>0</td>\n      <td>1</td>\n      <td>0.0</td>\n      <td>0.0</td>\n      <td>0</td>\n      <td>42.0</td>\n      <td>1</td>\n      <td>1</td>\n      <td>37.0</td>\n      <td>3</td>\n    </tr>\n    <tr>\n      <th>5</th>\n      <td>1</td>\n      <td>110</td>\n      <td>1.0</td>\n      <td>2</td>\n      <td>2</td>\n      <td>1</td>\n      <td>0.0</td>\n      <td>0.0</td>\n      <td>0</td>\n      <td>19.0</td>\n      <td>1</td>\n      <td>1</td>\n      <td>19.0</td>\n      <td>2</td>\n    </tr>\n  </tbody>\n</table>\n</div>"
     },
     "execution_count": 323,
     "metadata": {},
     "output_type": "execute_result"
    }
   ],
   "source": [
    "df.head()"
   ],
   "metadata": {
    "collapsed": false,
    "ExecuteTime": {
     "end_time": "2023-11-23T15:44:47.591829339Z",
     "start_time": "2023-11-23T15:44:47.532607208Z"
    }
   },
   "id": "2dcacd323ac4b810"
  },
  {
   "cell_type": "code",
   "execution_count": 324,
   "outputs": [],
   "source": [
    "df.to_csv('Datasets/Data_Combinada.v2')"
   ],
   "metadata": {
    "collapsed": false,
    "ExecuteTime": {
     "end_time": "2023-11-23T15:45:16.688871840Z",
     "start_time": "2023-11-23T15:45:16.473635872Z"
    }
   },
   "id": "a65b1e90a6a23f03"
  }
 ],
 "metadata": {
  "kernelspec": {
   "display_name": "Python 3",
   "language": "python",
   "name": "python3"
  },
  "language_info": {
   "codemirror_mode": {
    "name": "ipython",
    "version": 2
   },
   "file_extension": ".py",
   "mimetype": "text/x-python",
   "name": "python",
   "nbconvert_exporter": "python",
   "pygments_lexer": "ipython2",
   "version": "2.7.6"
  }
 },
 "nbformat": 4,
 "nbformat_minor": 5
}
