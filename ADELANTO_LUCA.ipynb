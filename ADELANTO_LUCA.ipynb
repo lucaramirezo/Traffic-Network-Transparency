{
 "cells": [
  {
   "cell_type": "markdown",
   "source": [
    "### Vamos a filtrar el dataset para que solo muestre las 5 calles con más accidentes de madrid"
   ],
   "metadata": {
    "collapsed": false
   }
  },
  {
   "cell_type": "code",
   "execution_count": 176,
   "outputs": [
    {
     "data": {
      "text/plain": "                                        localizacion  num_accidents  \\\n0                                AUTOV. A-2, +00500E            172   \n1                               AUTOV. A-42, +00500E            123   \n2  CALL. PRINCIPE DE VERGARA / CALL. FRANCISCO SI...             94   \n3                                     AUTOV. M-23, 0             78   \n4                     AVDA. ARCENTALES / AUTOV. M-40             76   \n\n            tipo_accidente estado_meteorológico coordenada_x_utm  \\\n0                  Alcance            Despejado       444511,644   \n1        Colisión múltiple            Despejado       438952,303   \n2  Colisión fronto-lateral            Despejado       442416,005   \n3                  Alcance            Despejado        444922,63   \n4                  Alcance            Despejado       449324,554   \n\n  coordenada_y_utm  \n0      4477569,316  \n1      4469985,021  \n2      4476670,396  \n3      4474127,759  \n4       4475697,19  ",
      "text/html": "<div>\n<style scoped>\n    .dataframe tbody tr th:only-of-type {\n        vertical-align: middle;\n    }\n\n    .dataframe tbody tr th {\n        vertical-align: top;\n    }\n\n    .dataframe thead th {\n        text-align: right;\n    }\n</style>\n<table border=\"1\" class=\"dataframe\">\n  <thead>\n    <tr style=\"text-align: right;\">\n      <th></th>\n      <th>localizacion</th>\n      <th>num_accidents</th>\n      <th>tipo_accidente</th>\n      <th>estado_meteorológico</th>\n      <th>coordenada_x_utm</th>\n      <th>coordenada_y_utm</th>\n    </tr>\n  </thead>\n  <tbody>\n    <tr>\n      <th>0</th>\n      <td>AUTOV. A-2, +00500E</td>\n      <td>172</td>\n      <td>Alcance</td>\n      <td>Despejado</td>\n      <td>444511,644</td>\n      <td>4477569,316</td>\n    </tr>\n    <tr>\n      <th>1</th>\n      <td>AUTOV. A-42, +00500E</td>\n      <td>123</td>\n      <td>Colisión múltiple</td>\n      <td>Despejado</td>\n      <td>438952,303</td>\n      <td>4469985,021</td>\n    </tr>\n    <tr>\n      <th>2</th>\n      <td>CALL. PRINCIPE DE VERGARA / CALL. FRANCISCO SI...</td>\n      <td>94</td>\n      <td>Colisión fronto-lateral</td>\n      <td>Despejado</td>\n      <td>442416,005</td>\n      <td>4476670,396</td>\n    </tr>\n    <tr>\n      <th>3</th>\n      <td>AUTOV. M-23, 0</td>\n      <td>78</td>\n      <td>Alcance</td>\n      <td>Despejado</td>\n      <td>444922,63</td>\n      <td>4474127,759</td>\n    </tr>\n    <tr>\n      <th>4</th>\n      <td>AVDA. ARCENTALES / AUTOV. M-40</td>\n      <td>76</td>\n      <td>Alcance</td>\n      <td>Despejado</td>\n      <td>449324,554</td>\n      <td>4475697,19</td>\n    </tr>\n  </tbody>\n</table>\n</div>"
     },
     "execution_count": 176,
     "metadata": {},
     "output_type": "execute_result"
    }
   ],
   "source": [
    "# Paso 1: Identificar las 5 localizaciones con más accidentes\n",
    "accidents_by_street = df.groupby('localizacion').size().reset_index(name='num_accidents')\n",
    "top_streets = accidents_by_street.nlargest(5, 'num_accidents')\n",
    "\n",
    "# Paso 2: Filtrar los datos originales para estas localizaciones\n",
    "top_locations_data = df[df['localizacion'].isin(top_streets['localizacion'].tolist())]\n",
    "\n",
    "# Paso 3: Agrupar por 'localizacion' y obtener el modo para 'tipo_accidente' y 'estado_meteorológico'\n",
    "modes = top_locations_data.groupby('localizacion').agg({\n",
    "    'tipo_accidente': lambda x: x.mode().iloc[0],  # Moda de 'tipo_accidente'\n",
    "    'estado_meteorológico': lambda x: x.mode().iloc[0]  # Moda de 'estado_meteorológico'\n",
    "}).reset_index()\n",
    "\n",
    "# Paso 4: Unir esta información con el número total de accidentes para cada localización\n",
    "top_accident_locations_with_modes = pd.merge(\n",
    "    top_streets,\n",
    "    modes,\n",
    "    on='localizacion',\n",
    "    how='left'\n",
    ")\n",
    "# Paso 5: Agregar las coordenadas representativas de cada localización\n",
    "top_accident_locations_with_mode = pd.merge(\n",
    "    top_accident_locations_with_modes,\n",
    "    df[['localizacion', 'coordenada_x_utm', 'coordenada_y_utm']].drop_duplicates('localizacion'),\n",
    "    on='localizacion',\n",
    "    how='left'\n",
    ")\n",
    "\n",
    "top_accident_locations_with_mode"
   ],
   "metadata": {
    "collapsed": false
   }
  },
  {
   "cell_type": "markdown",
   "source": [
    "Los detalles relevantes, son los siguientes:\n",
    "\n",
    "**1. Localización: AUTOV. A-2, +00500E**\n",
    "Número de Accidentes: 172\n",
    "Tipo de Accidente más Frecuente: Alcance\n",
    "Estado Meteorológico más Frecuente: Despejado\n",
    "Coordenadas: X: 444511,644, Y: 4477569,316\n",
    "\n",
    "**2. Localización: AUTOV. A-42, +00500E**\n",
    "Número de Accidentes: 123\n",
    "Tipo de Accidente más Frecuente: Colisión múltiple\n",
    "Estado Meteorológico más Frecuente: Despejado\n",
    "Coordenadas: X: 438952,303, Y: 4469985,021\n",
    "\n",
    "**3.Localización: CALL. PRINCIPE DE VERGARA / CALL. FRANCISCO SILVELA**\n",
    "Número de Accidentes: 94\n",
    "Tipo de Accidente más Frecuente: Colisión fronto-lateral\n",
    "Estado Meteorológico más Frecuente: Despejado\n",
    "Coordenadas: X: 442416,005, Y: 4476670,396\n",
    "\n",
    "**4. Localización: AUTOV. M-23, 0**\n",
    "Número de Accidentes: 78\n",
    "Tipo de Accidente más Frecuente: Alcance\n",
    "Estado Meteorológico más Frecuente: Despejado\n",
    "Coordenadas: X: 444922,63, Y: 4474127,759\n",
    "\n",
    "**5. Localización: AVDA. ARCENTALES / AUTOV. M-40**\n",
    "Número de Accidentes: 76\n",
    "Tipo de Accidente más Frecuente: Alcance\n",
    "Estado Meteorológico más Frecuente: Despejado\n",
    "Coordenadas: X: 449324,554, Y: 4475697,19"
   ],
   "metadata": {
    "collapsed": false
   }
  },
  {
   "cell_type": "markdown",
   "source": [
    "#### Creamos un mapa para visualizar las calles con mayor Índice de accidentes en Madrid"
   ],
   "metadata": {
    "collapsed": false
   }
  },
  {
   "cell_type": "code",
   "execution_count": 1,
   "outputs": [
    {
     "ename": "ModuleNotFoundError",
     "evalue": "No module named 'selenium'",
     "output_type": "error",
     "traceback": [
      "\u001B[1;31m---------------------------------------------------------------------------\u001B[0m",
      "\u001B[1;31mModuleNotFoundError\u001B[0m                       Traceback (most recent call last)",
      "\u001B[1;32m~\\AppData\\Local\\Temp\\ipykernel_13348\\1607834977.py\u001B[0m in \u001B[0;36m<module>\u001B[1;34m\u001B[0m\n\u001B[1;32m----> 1\u001B[1;33m \u001B[1;32mfrom\u001B[0m \u001B[0mmy_map_creator\u001B[0m \u001B[1;32mimport\u001B[0m \u001B[0mMapCreator\u001B[0m\u001B[1;33m\u001B[0m\u001B[1;33m\u001B[0m\u001B[0m\n\u001B[0m\u001B[0;32m      2\u001B[0m \u001B[1;33m\u001B[0m\u001B[0m\n\u001B[0;32m      3\u001B[0m mapa_top_loc = MapCreator(top_accident_locations_with_mode, lat_col_name=\"coordenada_x_utm\",\n\u001B[0;32m      4\u001B[0m                       long_col_name=\"coordenada_y_utm\")\n\u001B[0;32m      5\u001B[0m \u001B[1;33m\u001B[0m\u001B[0m\n",
      "\u001B[1;32m~\\DataspellProjects\\Traffic-Network-Transparency\\my_map_creator.py\u001B[0m in \u001B[0;36m<module>\u001B[1;34m\u001B[0m\n\u001B[0;32m      4\u001B[0m \u001B[1;32mimport\u001B[0m \u001B[0mfolium\u001B[0m\u001B[1;33m\u001B[0m\u001B[1;33m\u001B[0m\u001B[0m\n\u001B[0;32m      5\u001B[0m \u001B[1;32mimport\u001B[0m \u001B[0mpandas\u001B[0m \u001B[1;32mas\u001B[0m \u001B[0mpd\u001B[0m\u001B[1;33m\u001B[0m\u001B[1;33m\u001B[0m\u001B[0m\n\u001B[1;32m----> 6\u001B[1;33m \u001B[1;32mfrom\u001B[0m \u001B[0mselenium\u001B[0m \u001B[1;32mimport\u001B[0m \u001B[0mwebdriver\u001B[0m\u001B[1;33m\u001B[0m\u001B[1;33m\u001B[0m\u001B[0m\n\u001B[0m\u001B[0;32m      7\u001B[0m \u001B[1;32mfrom\u001B[0m \u001B[0mselenium\u001B[0m\u001B[1;33m.\u001B[0m\u001B[0mwebdriver\u001B[0m\u001B[1;33m.\u001B[0m\u001B[0mchrome\u001B[0m\u001B[1;33m.\u001B[0m\u001B[0mservice\u001B[0m \u001B[1;32mimport\u001B[0m \u001B[0mService\u001B[0m\u001B[1;33m\u001B[0m\u001B[1;33m\u001B[0m\u001B[0m\n\u001B[0;32m      8\u001B[0m \u001B[1;32mfrom\u001B[0m \u001B[0mwebdriver_manager\u001B[0m\u001B[1;33m.\u001B[0m\u001B[0mchrome\u001B[0m \u001B[1;32mimport\u001B[0m \u001B[0mChromeDriverManager\u001B[0m\u001B[1;33m\u001B[0m\u001B[1;33m\u001B[0m\u001B[0m\n",
      "\u001B[1;31mModuleNotFoundError\u001B[0m: No module named 'selenium'"
     ]
    }
   ],
   "source": [
    "from my_map_creator import MapCreator\n",
    "\n",
    "mapa_top_loc = MapCreator(top_accident_locations_with_mode, lat_col_name=\"coordenada_x_utm\",\n",
    "                      long_col_name=\"coordenada_y_utm\")\n",
    "\n",
    "mapa_top_loc.set_columns_for_label(['localizacion', 'num_accidents', 'tipo_accidente', 'estado_meteorológico'])\n",
    "mapa_top_loc.create_map(map_name=\"mapa_top_loc\")"
   ],
   "metadata": {
    "collapsed": false
   }
  },
  {
   "cell_type": "code",
   "execution_count": null,
   "outputs": [],
   "source": [
    "visualizador_accidentes(df.copy(), 'AUTOV. A-2, +00500E')"
   ],
   "metadata": {
    "collapsed": false
   }
  },
  {
   "cell_type": "code",
   "execution_count": null,
   "outputs": [],
   "source": [
    "display_img('AUTOV. A-2, +00500E')"
   ],
   "metadata": {
    "collapsed": false
   }
  }
 ],
 "metadata": {
  "kernelspec": {
   "display_name": "Python 3",
   "language": "python",
   "name": "python3"
  },
  "language_info": {
   "codemirror_mode": {
    "name": "ipython",
    "version": 2
   },
   "file_extension": ".py",
   "mimetype": "text/x-python",
   "name": "python",
   "nbconvert_exporter": "python",
   "pygments_lexer": "ipython2",
   "version": "2.7.6"
  }
 },
 "nbformat": 4,
 "nbformat_minor": 0
}
