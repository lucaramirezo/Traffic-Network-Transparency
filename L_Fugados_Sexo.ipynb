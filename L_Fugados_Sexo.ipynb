{
 "cells": [
  {
   "cell_type": "markdown",
   "source": [
    "# Deteccion de Fugados en accidentes"
   ],
   "metadata": {
    "collapsed": false
   }
  },
  {
   "cell_type": "code",
   "execution_count": 2,
   "outputs": [],
   "source": [
    "import pandas as pd\n",
    "import numpy as np\n",
    "import matplotlib.pyplot as plt"
   ],
   "metadata": {
    "collapsed": false
   }
  },
  {
   "cell_type": "markdown",
   "source": [
    "## Hemos detectado que se repetía una serie de datos nulos en varias columnas, siempre coincidiendo"
   ],
   "metadata": {
    "collapsed": false
   }
  },
  {
   "cell_type": "markdown",
   "source": [
    "Al momento de observar los nulos en la columna 'tipo_vehiculo' nos dimos cuenta que coincidía que 6 columnas son nulas, nuestra teoría es que son personas fugadas, además solo añade los conductores"
   ],
   "metadata": {
    "collapsed": false
   }
  },
  {
   "cell_type": "code",
   "execution_count": 3,
   "outputs": [
    {
     "name": "stderr",
     "output_type": "stream",
     "text": [
      "C:\\Users\\Usuario\\AppData\\Local\\Temp\\ipykernel_11096\\2914296293.py:1: DtypeWarning: Columns (15,16) have mixed types. Specify dtype option on import or set low_memory=False.\n",
      "  combined_data = pd.read_csv('./Datasets/Data_Combinada.csv')\n",
      "C:\\Users\\Usuario\\AppData\\Local\\Temp\\ipykernel_11096\\2914296293.py:2: UserWarning: Boolean Series key will be reindexed to match DataFrame index.\n",
      "  combined_data.filter(items=[ 'sexo','positiva_droga', 'positiva_alcohol', 'tipo_vehiculo', 'tipo_persona', 'rango_edad', 'tipo_accidente'])[combined_data['tipo_persona'] == 'Conductor'][combined_data['tipo_vehiculo'].isnull()][combined_data['sexo'] == 'Desconocido']\n"
     ]
    },
    {
     "data": {
      "text/plain": "              sexo  positiva_droga  positiva_alcohol tipo_vehiculo  \\\n275    Desconocido             0.0               NaN           NaN   \n321    Desconocido             0.0               0.0           NaN   \n601    Desconocido             0.0               NaN           NaN   \n626    Desconocido             0.0               0.0           NaN   \n720    Desconocido             0.0               0.0           NaN   \n...            ...             ...               ...           ...   \n74077  Desconocido             0.0               0.0           NaN   \n74094  Desconocido             0.0               0.0           NaN   \n74312  Desconocido             0.0               NaN           NaN   \n74321  Desconocido             0.0               0.0           NaN   \n74428  Desconocido             0.0               0.0           NaN   \n\n      tipo_persona   rango_edad       tipo_accidente  \n275      Conductor  Desconocido     Colisión lateral  \n321      Conductor  Desconocido     Colisión lateral  \n601      Conductor  Desconocido     Colisión lateral  \n626      Conductor  Desconocido    Colisión múltiple  \n720      Conductor  Desconocido    Colisión múltiple  \n...            ...          ...                  ...  \n74077    Conductor  Desconocido  Atropello a persona  \n74094    Conductor  Desconocido  Atropello a persona  \n74312    Conductor  Desconocido  Atropello a persona  \n74321    Conductor  Desconocido                Caída  \n74428    Conductor  Desconocido     Colisión lateral  \n\n[385 rows x 7 columns]",
      "text/html": "<div>\n<style scoped>\n    .dataframe tbody tr th:only-of-type {\n        vertical-align: middle;\n    }\n\n    .dataframe tbody tr th {\n        vertical-align: top;\n    }\n\n    .dataframe thead th {\n        text-align: right;\n    }\n</style>\n<table border=\"1\" class=\"dataframe\">\n  <thead>\n    <tr style=\"text-align: right;\">\n      <th></th>\n      <th>sexo</th>\n      <th>positiva_droga</th>\n      <th>positiva_alcohol</th>\n      <th>tipo_vehiculo</th>\n      <th>tipo_persona</th>\n      <th>rango_edad</th>\n      <th>tipo_accidente</th>\n    </tr>\n  </thead>\n  <tbody>\n    <tr>\n      <th>275</th>\n      <td>Desconocido</td>\n      <td>0.0</td>\n      <td>NaN</td>\n      <td>NaN</td>\n      <td>Conductor</td>\n      <td>Desconocido</td>\n      <td>Colisión lateral</td>\n    </tr>\n    <tr>\n      <th>321</th>\n      <td>Desconocido</td>\n      <td>0.0</td>\n      <td>0.0</td>\n      <td>NaN</td>\n      <td>Conductor</td>\n      <td>Desconocido</td>\n      <td>Colisión lateral</td>\n    </tr>\n    <tr>\n      <th>601</th>\n      <td>Desconocido</td>\n      <td>0.0</td>\n      <td>NaN</td>\n      <td>NaN</td>\n      <td>Conductor</td>\n      <td>Desconocido</td>\n      <td>Colisión lateral</td>\n    </tr>\n    <tr>\n      <th>626</th>\n      <td>Desconocido</td>\n      <td>0.0</td>\n      <td>0.0</td>\n      <td>NaN</td>\n      <td>Conductor</td>\n      <td>Desconocido</td>\n      <td>Colisión múltiple</td>\n    </tr>\n    <tr>\n      <th>720</th>\n      <td>Desconocido</td>\n      <td>0.0</td>\n      <td>0.0</td>\n      <td>NaN</td>\n      <td>Conductor</td>\n      <td>Desconocido</td>\n      <td>Colisión múltiple</td>\n    </tr>\n    <tr>\n      <th>...</th>\n      <td>...</td>\n      <td>...</td>\n      <td>...</td>\n      <td>...</td>\n      <td>...</td>\n      <td>...</td>\n      <td>...</td>\n    </tr>\n    <tr>\n      <th>74077</th>\n      <td>Desconocido</td>\n      <td>0.0</td>\n      <td>0.0</td>\n      <td>NaN</td>\n      <td>Conductor</td>\n      <td>Desconocido</td>\n      <td>Atropello a persona</td>\n    </tr>\n    <tr>\n      <th>74094</th>\n      <td>Desconocido</td>\n      <td>0.0</td>\n      <td>0.0</td>\n      <td>NaN</td>\n      <td>Conductor</td>\n      <td>Desconocido</td>\n      <td>Atropello a persona</td>\n    </tr>\n    <tr>\n      <th>74312</th>\n      <td>Desconocido</td>\n      <td>0.0</td>\n      <td>NaN</td>\n      <td>NaN</td>\n      <td>Conductor</td>\n      <td>Desconocido</td>\n      <td>Atropello a persona</td>\n    </tr>\n    <tr>\n      <th>74321</th>\n      <td>Desconocido</td>\n      <td>0.0</td>\n      <td>0.0</td>\n      <td>NaN</td>\n      <td>Conductor</td>\n      <td>Desconocido</td>\n      <td>Caída</td>\n    </tr>\n    <tr>\n      <th>74428</th>\n      <td>Desconocido</td>\n      <td>0.0</td>\n      <td>0.0</td>\n      <td>NaN</td>\n      <td>Conductor</td>\n      <td>Desconocido</td>\n      <td>Colisión lateral</td>\n    </tr>\n  </tbody>\n</table>\n<p>385 rows × 7 columns</p>\n</div>"
     },
     "execution_count": 3,
     "metadata": {},
     "output_type": "execute_result"
    }
   ],
   "source": [
    "combined_data = pd.read_csv('./Datasets/Data_Combinada.csv')\n",
    "combined_data.filter(items=[ 'sexo','positiva_droga', 'positiva_alcohol', 'tipo_vehiculo', 'tipo_persona', 'rango_edad', 'tipo_accidente'])[combined_data['tipo_persona'] == 'Conductor'][combined_data['tipo_vehiculo'].isnull()][combined_data['sexo'] == 'Desconocido']"
   ],
   "metadata": {
    "collapsed": false
   }
  },
  {
   "cell_type": "markdown",
   "source": [
    "Visto el dataframe anterior observamos que nuestra teoría de que estas entradas podrían representar a personas que huyeron de la escena del accidente tiene sentido por:\n",
    "\n",
    "1. **Falta de información detallada**: La ausencia de detalles como el tipo de vehículo y el sexo del conductor sugiere que no hubo una interacción exhaustiva con estas personas después del accidente. La presencia de resultados negativos en las pruebas de drogas y alcohol, en medio de otros datos desconocidos, puede indicar errores humanos, ya sea por parte del oficial que atendió el accidente o de la persona que recopiló y registró los datos en el CSV.\n",
    "\n",
    "2. **Resultados negativos en pruebas, pero falta de otros detalles**: Si bien algunos conductores dieron negativo en las pruebas de drogas y alcohol, la falta de información complementaria es llamativa. Es raro que un conductor que cooperó lo suficiente como para someterse a una prueba luego no proporcionara otros detalles esenciales. Esto puede sugerir un error en la recolección o registro de la información, o posiblemente que el conductor huyó después de la prueba.\n",
    "\n",
    "3. **Información sobre el tipo de accidente**: Aunque falta información detallada sobre el conductor, sí hay datos sobre el tipo de accidente. Esto podría indicar que, aunque el conductor en cuestión no proporcionó detalles o se fugó, otros involucrados en el accidente o testigos pudieron haber dado testimonio sobre la naturaleza del choque, lo que permitió clasificar el tipo de accidente."
   ],
   "metadata": {
    "collapsed": false
   }
  },
  {
   "cell_type": "markdown",
   "source": [
    "Una vez analizado lo anterior añadimos una columna para los conductores fugados"
   ],
   "metadata": {
    "collapsed": false
   }
  },
  {
   "cell_type": "code",
   "execution_count": 4,
   "outputs": [
    {
     "data": {
      "text/plain": "No    74576\nSi      385\nName: fugado, dtype: int64"
     },
     "execution_count": 4,
     "metadata": {},
     "output_type": "execute_result"
    }
   ],
   "source": [
    "# Crear la columna 'fugado' con valores por defecto en 'No'\n",
    "combined_data['fugado'] = 'No'\n",
    "\n",
    "# Identificar las filas que cumplen con las condiciones que sugieren un posible fugado y asignarles 'Sí'\n",
    "condition = (combined_data['tipo_persona'] == 'Conductor') & (combined_data['tipo_vehiculo'].isnull()) & (combined_data['sexo'] == 'Desconocido')\n",
    "combined_data.loc[condition, 'fugado'] = 'Si'\n",
    "\n",
    "combined_data['fugado'].value_counts()"
   ],
   "metadata": {
    "collapsed": false
   }
  },
  {
   "cell_type": "markdown",
   "source": [
    "Cambiamos el 'tipo_vehiculo' de los peatones a 'No' para eliminar datos nulos"
   ],
   "metadata": {
    "collapsed": false
   }
  },
  {
   "cell_type": "code",
   "execution_count": 5,
   "outputs": [],
   "source": [
    "combined_data['tipo_persona'].replace({'Peatón': 'No'}, inplace=True)"
   ],
   "metadata": {
    "collapsed": false
   }
  },
  {
   "cell_type": "markdown",
   "source": [
    "Verificamos si siguen existiendo nulos en 'tipo_vehiculo' que no sean fugados ni peatones"
   ],
   "metadata": {
    "collapsed": false
   }
  },
  {
   "cell_type": "code",
   "execution_count": 6,
   "outputs": [
    {
     "name": "stderr",
     "output_type": "stream",
     "text": [
      "C:\\Users\\Usuario\\AppData\\Local\\Temp\\ipykernel_11096\\1340320582.py:2: UserWarning: Boolean Series key will be reindexed to match DataFrame index.\n",
      "  combined_data[filas_con_nulos][combined_data['fugado'] == 'No'][combined_data['tipo_persona'] != 'No']\n"
     ]
    },
    {
     "data": {
      "text/plain": "      num_expediente       fecha      hora  \\\n5391     2022S003477  11/02/2022  19:25:00   \n44829    2022S041133  30/12/2022   9:15:00   \n44830    2022S041133  30/12/2022   9:15:00   \n56861    2023S012840  01/04/2023   8:00:00   \n60411    2023S017628  28/04/2023  14:07:00   \n60423    2023S017637  28/04/2023  16:35:00   \n64985    2023S021600  02/06/2023  11:35:00   \n\n                                         localizacion  numero  cod_distrito  \\\n5391      CALL. PEDRO RICO / CALL. ARZOBISPO MORCILLO      25           8.0   \n44829                            CALL. CAVANILLES, 46      46           3.0   \n44830                            CALL. CAVANILLES, 46      46           3.0   \n56861                 AUTOV. M-30 KM 22,700 CALZADA 1  22NC70           9.0   \n60411                  CALL. DOCTOR TOLOSA LATOUR, 16      16          12.0   \n60423                   CARRETERA VILLAVERDE VALLECAS       0          13.0   \n64985  CALL. MENDEZ ALVARO / METRO. AVENIDA DE LA PAZ      97          13.0   \n\n                  distrito           tipo_accidente estado_meteorológico  \\\n5391   FUENCARRAL-EL PARDO  Colisión fronto-lateral            Despejado   \n44829               RETIRO         Colisión lateral            Despejado   \n44830               RETIRO         Colisión lateral            Despejado   \n56861      MONCLOA-ARAVACA         Colisión lateral            Despejado   \n60411                USERA                  Alcance                  NaN   \n60423   PUENTE DE VALLECAS  Colisión fronto-lateral                  NaN   \n64985   PUENTE DE VALLECAS  Colisión fronto-lateral            Despejado   \n\n      tipo_vehiculo tipo_persona       rango_edad    sexo  cod_lesividad  \\\n5391            NaN    Conductor  De 30 a 34 años   Mujer            NaN   \n44829           NaN    Conductor  De 50 a 54 años  Hombre            NaN   \n44830           NaN    Conductor  De 55 a 59 años   Mujer            NaN   \n56861           NaN    Conductor  De 50 a 54 años  Hombre           14.0   \n60411           NaN    Conductor  De 50 a 54 años  Hombre            NaN   \n60423           NaN    Conductor  De 50 a 54 años  Hombre            NaN   \n64985           NaN    Conductor      Desconocido  Hombre            NaN   \n\n                      lesividad coordenada_x_utm coordenada_y_utm  \\\n5391                        NaN       441574,126      4481237,895   \n44829                       NaN       442968,147      4472839,466   \n44830                       NaN       442968,147      4472839,466   \n56861  Sin asistencia sanitaria       437049.594      4478099.656   \n60411                       NaN       440392.542      4469516.026   \n60423                       NaN       443682.366      4468805.152   \n64985                       NaN       442514.278      4471555.855   \n\n       positiva_alcohol  positiva_droga fugado  \n5391                0.0             0.0     No  \n44829               0.0             0.0     No  \n44830               0.0             0.0     No  \n56861               0.0             0.0     No  \n60411               0.0             0.0     No  \n60423               0.0             0.0     No  \n64985               0.0             0.0     No  ",
      "text/html": "<div>\n<style scoped>\n    .dataframe tbody tr th:only-of-type {\n        vertical-align: middle;\n    }\n\n    .dataframe tbody tr th {\n        vertical-align: top;\n    }\n\n    .dataframe thead th {\n        text-align: right;\n    }\n</style>\n<table border=\"1\" class=\"dataframe\">\n  <thead>\n    <tr style=\"text-align: right;\">\n      <th></th>\n      <th>num_expediente</th>\n      <th>fecha</th>\n      <th>hora</th>\n      <th>localizacion</th>\n      <th>numero</th>\n      <th>cod_distrito</th>\n      <th>distrito</th>\n      <th>tipo_accidente</th>\n      <th>estado_meteorológico</th>\n      <th>tipo_vehiculo</th>\n      <th>tipo_persona</th>\n      <th>rango_edad</th>\n      <th>sexo</th>\n      <th>cod_lesividad</th>\n      <th>lesividad</th>\n      <th>coordenada_x_utm</th>\n      <th>coordenada_y_utm</th>\n      <th>positiva_alcohol</th>\n      <th>positiva_droga</th>\n      <th>fugado</th>\n    </tr>\n  </thead>\n  <tbody>\n    <tr>\n      <th>5391</th>\n      <td>2022S003477</td>\n      <td>11/02/2022</td>\n      <td>19:25:00</td>\n      <td>CALL. PEDRO RICO / CALL. ARZOBISPO MORCILLO</td>\n      <td>25</td>\n      <td>8.0</td>\n      <td>FUENCARRAL-EL PARDO</td>\n      <td>Colisión fronto-lateral</td>\n      <td>Despejado</td>\n      <td>NaN</td>\n      <td>Conductor</td>\n      <td>De 30 a 34 años</td>\n      <td>Mujer</td>\n      <td>NaN</td>\n      <td>NaN</td>\n      <td>441574,126</td>\n      <td>4481237,895</td>\n      <td>0.0</td>\n      <td>0.0</td>\n      <td>No</td>\n    </tr>\n    <tr>\n      <th>44829</th>\n      <td>2022S041133</td>\n      <td>30/12/2022</td>\n      <td>9:15:00</td>\n      <td>CALL. CAVANILLES, 46</td>\n      <td>46</td>\n      <td>3.0</td>\n      <td>RETIRO</td>\n      <td>Colisión lateral</td>\n      <td>Despejado</td>\n      <td>NaN</td>\n      <td>Conductor</td>\n      <td>De 50 a 54 años</td>\n      <td>Hombre</td>\n      <td>NaN</td>\n      <td>NaN</td>\n      <td>442968,147</td>\n      <td>4472839,466</td>\n      <td>0.0</td>\n      <td>0.0</td>\n      <td>No</td>\n    </tr>\n    <tr>\n      <th>44830</th>\n      <td>2022S041133</td>\n      <td>30/12/2022</td>\n      <td>9:15:00</td>\n      <td>CALL. CAVANILLES, 46</td>\n      <td>46</td>\n      <td>3.0</td>\n      <td>RETIRO</td>\n      <td>Colisión lateral</td>\n      <td>Despejado</td>\n      <td>NaN</td>\n      <td>Conductor</td>\n      <td>De 55 a 59 años</td>\n      <td>Mujer</td>\n      <td>NaN</td>\n      <td>NaN</td>\n      <td>442968,147</td>\n      <td>4472839,466</td>\n      <td>0.0</td>\n      <td>0.0</td>\n      <td>No</td>\n    </tr>\n    <tr>\n      <th>56861</th>\n      <td>2023S012840</td>\n      <td>01/04/2023</td>\n      <td>8:00:00</td>\n      <td>AUTOV. M-30 KM 22,700 CALZADA 1</td>\n      <td>22NC70</td>\n      <td>9.0</td>\n      <td>MONCLOA-ARAVACA</td>\n      <td>Colisión lateral</td>\n      <td>Despejado</td>\n      <td>NaN</td>\n      <td>Conductor</td>\n      <td>De 50 a 54 años</td>\n      <td>Hombre</td>\n      <td>14.0</td>\n      <td>Sin asistencia sanitaria</td>\n      <td>437049.594</td>\n      <td>4478099.656</td>\n      <td>0.0</td>\n      <td>0.0</td>\n      <td>No</td>\n    </tr>\n    <tr>\n      <th>60411</th>\n      <td>2023S017628</td>\n      <td>28/04/2023</td>\n      <td>14:07:00</td>\n      <td>CALL. DOCTOR TOLOSA LATOUR, 16</td>\n      <td>16</td>\n      <td>12.0</td>\n      <td>USERA</td>\n      <td>Alcance</td>\n      <td>NaN</td>\n      <td>NaN</td>\n      <td>Conductor</td>\n      <td>De 50 a 54 años</td>\n      <td>Hombre</td>\n      <td>NaN</td>\n      <td>NaN</td>\n      <td>440392.542</td>\n      <td>4469516.026</td>\n      <td>0.0</td>\n      <td>0.0</td>\n      <td>No</td>\n    </tr>\n    <tr>\n      <th>60423</th>\n      <td>2023S017637</td>\n      <td>28/04/2023</td>\n      <td>16:35:00</td>\n      <td>CARRETERA VILLAVERDE VALLECAS</td>\n      <td>0</td>\n      <td>13.0</td>\n      <td>PUENTE DE VALLECAS</td>\n      <td>Colisión fronto-lateral</td>\n      <td>NaN</td>\n      <td>NaN</td>\n      <td>Conductor</td>\n      <td>De 50 a 54 años</td>\n      <td>Hombre</td>\n      <td>NaN</td>\n      <td>NaN</td>\n      <td>443682.366</td>\n      <td>4468805.152</td>\n      <td>0.0</td>\n      <td>0.0</td>\n      <td>No</td>\n    </tr>\n    <tr>\n      <th>64985</th>\n      <td>2023S021600</td>\n      <td>02/06/2023</td>\n      <td>11:35:00</td>\n      <td>CALL. MENDEZ ALVARO / METRO. AVENIDA DE LA PAZ</td>\n      <td>97</td>\n      <td>13.0</td>\n      <td>PUENTE DE VALLECAS</td>\n      <td>Colisión fronto-lateral</td>\n      <td>Despejado</td>\n      <td>NaN</td>\n      <td>Conductor</td>\n      <td>Desconocido</td>\n      <td>Hombre</td>\n      <td>NaN</td>\n      <td>NaN</td>\n      <td>442514.278</td>\n      <td>4471555.855</td>\n      <td>0.0</td>\n      <td>0.0</td>\n      <td>No</td>\n    </tr>\n  </tbody>\n</table>\n</div>"
     },
     "execution_count": 6,
     "metadata": {},
     "output_type": "execute_result"
    }
   ],
   "source": [
    "filas_con_nulos = combined_data['tipo_vehiculo'].isnull()\n",
    "combined_data[filas_con_nulos][combined_data['fugado'] == 'No'][combined_data['tipo_persona'] != 'No']"
   ],
   "metadata": {
    "collapsed": false
   }
  },
  {
   "cell_type": "markdown",
   "source": [
    "### Reemplazar datos nulos de 'tipo_vehiculo'"
   ],
   "metadata": {
    "collapsed": false
   }
  },
  {
   "cell_type": "markdown",
   "source": [
    "Reemplazamos los datos de las personas con 'tipo_vehiculo' null dependiendo de la frecuencia del tipo de vehículo y el sexo, excluyendo los que sean sexo 'Desconocido', ya que como corroboramos arriba son los fugados"
   ],
   "metadata": {
    "collapsed": false
   }
  },
  {
   "cell_type": "code",
   "execution_count": 7,
   "outputs": [
    {
     "data": {
      "text/plain": "385"
     },
     "execution_count": 7,
     "metadata": {},
     "output_type": "execute_result"
    }
   ],
   "source": [
    "# Primero, calculamos la frecuencia de 'tipo_vehiculo' para cada 'sexo', excluyendo 'sexo' == 'Desconocido'\n",
    "vehicle_type_freq = combined_data[combined_data['sexo'] != 'Desconocido'].groupby('sexo')['tipo_vehiculo'].value_counts(normalize=True).unstack().fillna(0)\n",
    "\n",
    "# A continuación, para cada sexo, seleccionamos el tipo de vehículo más frecuente\n",
    "most_frequent_vehicle = vehicle_type_freq.idxmax(axis=1)\n",
    "\n",
    "# Rellenamos los datos nulos de 'tipo_vehiculo' basándonos en la frecuencia del tipo de vehículo para cada sexo\n",
    "for sex, vehicle in most_frequent_vehicle.items():\n",
    "    condition = (combined_data['sexo'] == sex) & (combined_data['tipo_vehiculo'].isnull())\n",
    "    combined_data.loc[condition, 'tipo_vehiculo'] = vehicle\n",
    "\n",
    "# Verificamos si aún hay valores nulos en 'tipo_vehiculo'\n",
    "combined_data['tipo_vehiculo'].isnull().sum()\n"
   ],
   "metadata": {
    "collapsed": false
   }
  },
  {
   "cell_type": "markdown",
   "source": [
    "Observamos que la cantidad de nulos actuales en 'tipo_vehiculo' coincide con la cantidad de fugados"
   ],
   "metadata": {
    "collapsed": false
   }
  },
  {
   "cell_type": "markdown",
   "source": [
    "## Predecimos los sexos desconocidos"
   ],
   "metadata": {
    "collapsed": false
   }
  },
  {
   "cell_type": "code",
   "execution_count": 27,
   "outputs": [
    {
     "data": {
      "text/plain": "6337"
     },
     "execution_count": 27,
     "metadata": {},
     "output_type": "execute_result"
    }
   ],
   "source": [
    "count_sexo = combined_data['sexo'].value_counts()\n",
    "total_desconocidos = count_sexo['Desconocido']\n",
    "total_desconocidos"
   ],
   "metadata": {
    "collapsed": false
   }
  },
  {
   "cell_type": "code",
   "execution_count": 33,
   "outputs": [
    {
     "name": "stdout",
     "output_type": "stream",
     "text": [
      "Valores nulos en 'sexo' : 0\n",
      "Valores nulos en 'alcohol' : 341\n"
     ]
    }
   ],
   "source": [
    "nulls_in_sexo = combined_data['sexo'].isnull().sum()\n",
    "\n",
    "print(f\"Valores nulos en 'sexo' : {nulls_in_sexo}\")\n",
    "\n",
    "nulls_in_alcohol = combined_data['positiva_alcohol'].isnull().sum()\n",
    "\n",
    "print(f\"Valores nulos en 'alcohol' : {nulls_in_alcohol}\")"
   ],
   "metadata": {
    "collapsed": false
   }
  },
  {
   "cell_type": "markdown",
   "source": [
    "Cambiamos los nulos de 'positiva_alcohol' por 0, para poder hacer la predicción del sexo con mayor precisión"
   ],
   "metadata": {
    "collapsed": false
   }
  },
  {
   "cell_type": "code",
   "execution_count": 34,
   "outputs": [],
   "source": [
    "combined_data['positiva_alcohol'] = combined_data['positiva_alcohol'].fillna(0)"
   ],
   "metadata": {
    "collapsed": false
   }
  },
  {
   "cell_type": "code",
   "execution_count": 35,
   "outputs": [
    {
     "data": {
      "text/plain": "positiva_alcohol    0.0   1.0\nsexo                         \nDesconocido        6337     0\nHombre            44467  2035\nMujer             21787   335",
      "text/html": "<div>\n<style scoped>\n    .dataframe tbody tr th:only-of-type {\n        vertical-align: middle;\n    }\n\n    .dataframe tbody tr th {\n        vertical-align: top;\n    }\n\n    .dataframe thead th {\n        text-align: right;\n    }\n</style>\n<table border=\"1\" class=\"dataframe\">\n  <thead>\n    <tr style=\"text-align: right;\">\n      <th>positiva_alcohol</th>\n      <th>0.0</th>\n      <th>1.0</th>\n    </tr>\n    <tr>\n      <th>sexo</th>\n      <th></th>\n      <th></th>\n    </tr>\n  </thead>\n  <tbody>\n    <tr>\n      <th>Desconocido</th>\n      <td>6337</td>\n      <td>0</td>\n    </tr>\n    <tr>\n      <th>Hombre</th>\n      <td>44467</td>\n      <td>2035</td>\n    </tr>\n    <tr>\n      <th>Mujer</th>\n      <td>21787</td>\n      <td>335</td>\n    </tr>\n  </tbody>\n</table>\n</div>"
     },
     "execution_count": 35,
     "metadata": {},
     "output_type": "execute_result"
    }
   ],
   "source": [
    "# Crear tabla de contingencia\n",
    "contingencia_alcohol = pd.crosstab(combined_data['sexo'], combined_data['positiva_alcohol'], dropna=False)\n",
    "contingencia_alcohol"
   ],
   "metadata": {
    "collapsed": false
   }
  },
  {
   "cell_type": "markdown",
   "source": [
    "Calculamos el total de registros que dieron positivo en la prueba de alcoholemia, excluyendo a los \"Desconocidos\". Determinamos la proporción de hombres y mujeres que dieron positivo en la prueba. Basándonos en estas proporciones, distribuimos los registros \"Desconocido\" para inferir cuántos de ellos serían hombres y cuántas mujeres."
   ],
   "metadata": {
    "collapsed": false
   }
  },
  {
   "cell_type": "code",
   "execution_count": 36,
   "outputs": [
    {
     "data": {
      "text/plain": "(5441, 896)"
     },
     "execution_count": 36,
     "metadata": {},
     "output_type": "execute_result"
    }
   ],
   "source": [
    "# Calcular la proporción de hombres y mujeres que dieron positivo\n",
    "total_positiva_alcohol = contingencia_alcohol[1].sum()\n",
    "proporcion_hombres_positiva_alcohol = contingencia_alcohol.loc['Hombre', 1] / total_positiva_alcohol\n",
    "proporcion_mujeres_positiva_alcohol = 1 - proporcion_hombres_positiva_alcohol\n",
    "\n",
    "# Distribuir los registros \"Desconocido\"\n",
    "registros_desconocidos = contingencia_alcohol.loc['Desconocido', 0] # Solo considero 0 porque 1 para 'Desconocido' es 0\n",
    "hombres_inferidos = round(registros_desconocidos * proporcion_hombres_positiva_alcohol)\n",
    "mujeres_inferidas = registros_desconocidos - hombres_inferidos\n",
    "\n",
    "(hombres_inferidos, mujeres_inferidas)\n"
   ],
   "metadata": {
    "collapsed": false
   }
  },
  {
   "cell_type": "markdown",
   "source": [
    "Aproximando que 5441 de los desconocidos son hombres y 896 mujeres; sustituimos los valores de los desconocidos"
   ],
   "metadata": {
    "collapsed": false
   }
  },
  {
   "cell_type": "code",
   "execution_count": 37,
   "outputs": [
    {
     "data": {
      "text/plain": "Hombre    51943\nMujer     23018\nName: sexo, dtype: int64"
     },
     "execution_count": 37,
     "metadata": {},
     "output_type": "execute_result"
    }
   ],
   "source": [
    "# Sustituimos los valores desconocidos de manera aleatoria\n",
    "nuevos_valores_sexo = ['Hombre'] * hombres_inferidos + ['Mujer'] * mujeres_inferidas\n",
    "np.random.shuffle(nuevos_valores_sexo)\n",
    "indices_desconocidos = combined_data[combined_data['sexo'] == 'Desconocido'].index\n",
    "combined_data.loc[indices_desconocidos, 'sexo'] = nuevos_valores_sexo\n",
    "\n",
    "# Verificar el cambio en la distribución de la columna 'sexo'\n",
    "combined_data['sexo'].value_counts()"
   ],
   "metadata": {
    "collapsed": false
   }
  },
  {
   "cell_type": "markdown",
   "source": [
    "Cambiamos 'Hombre' y 'Mujer' por M y H respectivamente para facilitar la escritura y la velocidad de procesamiento"
   ],
   "metadata": {
    "collapsed": false
   }
  },
  {
   "cell_type": "code",
   "execution_count": 38,
   "outputs": [
    {
     "data": {
      "text/plain": "H    51943\nM    23018\nName: sexo, dtype: int64"
     },
     "execution_count": 38,
     "metadata": {},
     "output_type": "execute_result"
    }
   ],
   "source": [
    "combined_data['sexo'].replace({'Hombre': 'H', 'Mujer': 'M'}, inplace=True)\n",
    "\n",
    "# Verificar los cambios\n",
    "combined_data['sexo'].value_counts()"
   ],
   "metadata": {
    "collapsed": false
   }
  },
  {
   "cell_type": "code",
   "execution_count": 39,
   "outputs": [],
   "source": [
    "combined_data.to_csv('./Datasets/Data_Combinada.csv', index=False)"
   ],
   "metadata": {
    "collapsed": false
   }
  },
  {
   "cell_type": "code",
   "execution_count": null,
   "outputs": [],
   "source": [],
   "metadata": {
    "collapsed": false
   }
  }
 ],
 "metadata": {
  "kernelspec": {
   "display_name": "Python 3",
   "language": "python",
   "name": "python3"
  },
  "language_info": {
   "codemirror_mode": {
    "name": "ipython",
    "version": 2
   },
   "file_extension": ".py",
   "mimetype": "text/x-python",
   "name": "python",
   "nbconvert_exporter": "python",
   "pygments_lexer": "ipython2",
   "version": "2.7.6"
  }
 },
 "nbformat": 4,
 "nbformat_minor": 0
}
