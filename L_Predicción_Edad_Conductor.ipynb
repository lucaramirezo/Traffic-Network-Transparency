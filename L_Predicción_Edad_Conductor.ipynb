{
 "cells": [
  {
   "cell_type": "markdown",
   "source": [
    "# Tratamiento de nulos en el campo Edad\n",
    "Siguiendo el trabajo de mi compañero Luca, existen muchos valores nulos en el campo de edad que habrá de tratar.\n",
    "\n",
    "## Hipótesis\n",
    "La predicción de la edad solo será la del conductor, que es quién determina lógicamente tiene más correlación con el número de accidentes.\n",
    "\n",
    "Para predecir el campo de la edad se tendrán en cuenta las siguientes variables del csv Accidentes_20XX\n",
    "1. La edad de los demás pasajeros: La edad de los demás pasajeros guarda relación con la edad del conductor. Un conductor jóven es más improbable que lleve a pasajeros menores de edad que un conductor más mayor.\n",
    "2. La fecha y hora del accidente: Es posible que la fecha y la hora guarde alguna relación con la edad del conductor.\n",
    "3. El distrito: Es posible que algunos distritos tengan conductores más jóvenes y otros conductores más mayores.\n",
    "4. Género: Es posible que existan distinta distribución por edad en relación con el género.\n",
    "5. Tipo de accidente: Es posible que los jóvenes tengan más accidentes de un tipo que los mayores.\n",
    "6. Drogas y alcohol: Es posible que los jóvenes sean más propensos a conducir bajo influencia de drogas que las personas más mayores.\n",
    "7. Tipo de vehículo: Es posible que los vehículos industriales sean conducidos por personas más mayores\n",
    "\n",
    "A continuación se seleccionan los campos a tratar en el dataframe y se proporciona una vista previa a fin de refrescar al lector sobre la estructura de los datos"
   ],
   "metadata": {
    "collapsed": false
   },
   "id": "eb43294479fb0dc7"
  },
  {
   "cell_type": "code",
   "execution_count": 70,
   "outputs": [
    {
     "data": {
      "text/plain": "  num_expediente       fecha     hora  \\\n0    2022S000001  01/01/2022  1:30:00   \n1    2022S000001  01/01/2022  1:30:00   \n2    2022S000002  01/01/2022  0:30:00   \n3    2022S000002  01/01/2022  0:30:00   \n4    2022S000002  01/01/2022  0:30:00   \n\n                                 localizacion numero  cod_distrito  \\\n0                          AVDA. ALBUFERA, 19     19            13   \n1                          AVDA. ALBUFERA, 19     19            13   \n2  PLAZA. CANOVAS DEL CASTILLO / PASEO. PRADO      2             3   \n3  PLAZA. CANOVAS DEL CASTILLO / PASEO. PRADO      2             3   \n4  PLAZA. CANOVAS DEL CASTILLO / PASEO. PRADO      2             3   \n\n             distrito           tipo_accidente estado_meteorológico  \\\n0  PUENTE DE VALLECAS                  Alcance            Despejado   \n1  PUENTE DE VALLECAS                  Alcance            Despejado   \n2              RETIRO  Colisión fronto-lateral                  NaN   \n3              RETIRO  Colisión fronto-lateral                  NaN   \n4              RETIRO  Colisión fronto-lateral                  NaN   \n\n             tipo_vehiculo  ...       rango_edad    sexo cod_lesividad  \\\n0                  Turismo  ...  De 30 a 34 años   Mujer           NaN   \n1                  Turismo  ...  De 45 a 49 años  Hombre           NaN   \n2  Motocicleta hasta 125cc  ...  De 30 a 34 años  Hombre           NaN   \n3  Motocicleta hasta 125cc  ...  De 35 a 39 años   Mujer           NaN   \n4                  Turismo  ...  De 40 a 44 años  Hombre           NaN   \n\n   lesividad coordenada_x_utm coordenada_y_utm positiva_alcohol  \\\n0        NaN       443359,226      4472082,272                N   \n1        NaN       443359,226      4472082,272                N   \n2        NaN       441155,351      4474129,588                S   \n3        NaN       441155,351      4474129,588                N   \n4        NaN       441155,351      4474129,588                N   \n\n  positiva_droga  Unnamed: 19  Unnamed: 20  \n0            NaN          NaN          NaN  \n1            NaN          NaN          NaN  \n2            NaN          NaN          NaN  \n3            NaN          NaN          NaN  \n4            NaN          NaN          NaN  \n\n[5 rows x 21 columns]",
      "text/html": "<div>\n<style scoped>\n    .dataframe tbody tr th:only-of-type {\n        vertical-align: middle;\n    }\n\n    .dataframe tbody tr th {\n        vertical-align: top;\n    }\n\n    .dataframe thead th {\n        text-align: right;\n    }\n</style>\n<table border=\"1\" class=\"dataframe\">\n  <thead>\n    <tr style=\"text-align: right;\">\n      <th></th>\n      <th>num_expediente</th>\n      <th>fecha</th>\n      <th>hora</th>\n      <th>localizacion</th>\n      <th>numero</th>\n      <th>cod_distrito</th>\n      <th>distrito</th>\n      <th>tipo_accidente</th>\n      <th>estado_meteorológico</th>\n      <th>tipo_vehiculo</th>\n      <th>...</th>\n      <th>rango_edad</th>\n      <th>sexo</th>\n      <th>cod_lesividad</th>\n      <th>lesividad</th>\n      <th>coordenada_x_utm</th>\n      <th>coordenada_y_utm</th>\n      <th>positiva_alcohol</th>\n      <th>positiva_droga</th>\n      <th>Unnamed: 19</th>\n      <th>Unnamed: 20</th>\n    </tr>\n  </thead>\n  <tbody>\n    <tr>\n      <th>0</th>\n      <td>2022S000001</td>\n      <td>01/01/2022</td>\n      <td>1:30:00</td>\n      <td>AVDA. ALBUFERA, 19</td>\n      <td>19</td>\n      <td>13</td>\n      <td>PUENTE DE VALLECAS</td>\n      <td>Alcance</td>\n      <td>Despejado</td>\n      <td>Turismo</td>\n      <td>...</td>\n      <td>De 30 a 34 años</td>\n      <td>Mujer</td>\n      <td>NaN</td>\n      <td>NaN</td>\n      <td>443359,226</td>\n      <td>4472082,272</td>\n      <td>N</td>\n      <td>NaN</td>\n      <td>NaN</td>\n      <td>NaN</td>\n    </tr>\n    <tr>\n      <th>1</th>\n      <td>2022S000001</td>\n      <td>01/01/2022</td>\n      <td>1:30:00</td>\n      <td>AVDA. ALBUFERA, 19</td>\n      <td>19</td>\n      <td>13</td>\n      <td>PUENTE DE VALLECAS</td>\n      <td>Alcance</td>\n      <td>Despejado</td>\n      <td>Turismo</td>\n      <td>...</td>\n      <td>De 45 a 49 años</td>\n      <td>Hombre</td>\n      <td>NaN</td>\n      <td>NaN</td>\n      <td>443359,226</td>\n      <td>4472082,272</td>\n      <td>N</td>\n      <td>NaN</td>\n      <td>NaN</td>\n      <td>NaN</td>\n    </tr>\n    <tr>\n      <th>2</th>\n      <td>2022S000002</td>\n      <td>01/01/2022</td>\n      <td>0:30:00</td>\n      <td>PLAZA. CANOVAS DEL CASTILLO / PASEO. PRADO</td>\n      <td>2</td>\n      <td>3</td>\n      <td>RETIRO</td>\n      <td>Colisión fronto-lateral</td>\n      <td>NaN</td>\n      <td>Motocicleta hasta 125cc</td>\n      <td>...</td>\n      <td>De 30 a 34 años</td>\n      <td>Hombre</td>\n      <td>NaN</td>\n      <td>NaN</td>\n      <td>441155,351</td>\n      <td>4474129,588</td>\n      <td>S</td>\n      <td>NaN</td>\n      <td>NaN</td>\n      <td>NaN</td>\n    </tr>\n    <tr>\n      <th>3</th>\n      <td>2022S000002</td>\n      <td>01/01/2022</td>\n      <td>0:30:00</td>\n      <td>PLAZA. CANOVAS DEL CASTILLO / PASEO. PRADO</td>\n      <td>2</td>\n      <td>3</td>\n      <td>RETIRO</td>\n      <td>Colisión fronto-lateral</td>\n      <td>NaN</td>\n      <td>Motocicleta hasta 125cc</td>\n      <td>...</td>\n      <td>De 35 a 39 años</td>\n      <td>Mujer</td>\n      <td>NaN</td>\n      <td>NaN</td>\n      <td>441155,351</td>\n      <td>4474129,588</td>\n      <td>N</td>\n      <td>NaN</td>\n      <td>NaN</td>\n      <td>NaN</td>\n    </tr>\n    <tr>\n      <th>4</th>\n      <td>2022S000002</td>\n      <td>01/01/2022</td>\n      <td>0:30:00</td>\n      <td>PLAZA. CANOVAS DEL CASTILLO / PASEO. PRADO</td>\n      <td>2</td>\n      <td>3</td>\n      <td>RETIRO</td>\n      <td>Colisión fronto-lateral</td>\n      <td>NaN</td>\n      <td>Turismo</td>\n      <td>...</td>\n      <td>De 40 a 44 años</td>\n      <td>Hombre</td>\n      <td>NaN</td>\n      <td>NaN</td>\n      <td>441155,351</td>\n      <td>4474129,588</td>\n      <td>N</td>\n      <td>NaN</td>\n      <td>NaN</td>\n      <td>NaN</td>\n    </tr>\n  </tbody>\n</table>\n<p>5 rows × 21 columns</p>\n</div>"
     },
     "execution_count": 70,
     "metadata": {},
     "output_type": "execute_result"
    }
   ],
   "source": [
    "import pandas as pd\n",
    "from matplotlib.testing.jpl_units import day\n",
    "\n",
    "accidentes_2022 = pd.read_csv('./Datasets/2022_Accidentalidad.csv', sep = ';')\n",
    "accidentes_2022.head()"
   ],
   "metadata": {
    "collapsed": false,
    "ExecuteTime": {
     "end_time": "2023-10-23T18:24:32.213177546Z",
     "start_time": "2023-10-23T18:24:32.080870995Z"
    }
   },
   "id": "58842a9ed9327b60"
  },
  {
   "cell_type": "markdown",
   "source": [
    "### Extracción de campos\n",
    "A continuación, se extraen los campos num_expediente, fecha y hora, distrito, género, tipo de accidente, drogas y alcohol"
   ],
   "metadata": {
    "collapsed": false
   },
   "id": "758c89eb233bf6a"
  },
  {
   "cell_type": "code",
   "execution_count": 60,
   "outputs": [
    {
     "data": {
      "text/plain": "  num_expediente       fecha     hora  cod_distrito            distrito  \\\n0    2022S000001  01/01/2022  1:30:00            13  PUENTE DE VALLECAS   \n1    2022S000001  01/01/2022  1:30:00            13  PUENTE DE VALLECAS   \n2    2022S000002  01/01/2022  0:30:00             3              RETIRO   \n3    2022S000002  01/01/2022  0:30:00             3              RETIRO   \n4    2022S000002  01/01/2022  0:30:00             3              RETIRO   \n\n            tipo_accidente            tipo_vehiculo tipo_persona  \\\n0                  Alcance                  Turismo    Conductor   \n1                  Alcance                  Turismo    Conductor   \n2  Colisión fronto-lateral  Motocicleta hasta 125cc    Conductor   \n3  Colisión fronto-lateral  Motocicleta hasta 125cc     Pasajero   \n4  Colisión fronto-lateral                  Turismo    Conductor   \n\n        rango_edad    sexo positiva_alcohol  positiva_droga  \n0  De 30 a 34 años   Mujer                N             NaN  \n1  De 45 a 49 años  Hombre                N             NaN  \n2  De 30 a 34 años  Hombre                S             NaN  \n3  De 35 a 39 años   Mujer                N             NaN  \n4  De 40 a 44 años  Hombre                N             NaN  ",
      "text/html": "<div>\n<style scoped>\n    .dataframe tbody tr th:only-of-type {\n        vertical-align: middle;\n    }\n\n    .dataframe tbody tr th {\n        vertical-align: top;\n    }\n\n    .dataframe thead th {\n        text-align: right;\n    }\n</style>\n<table border=\"1\" class=\"dataframe\">\n  <thead>\n    <tr style=\"text-align: right;\">\n      <th></th>\n      <th>num_expediente</th>\n      <th>fecha</th>\n      <th>hora</th>\n      <th>cod_distrito</th>\n      <th>distrito</th>\n      <th>tipo_accidente</th>\n      <th>tipo_vehiculo</th>\n      <th>tipo_persona</th>\n      <th>rango_edad</th>\n      <th>sexo</th>\n      <th>positiva_alcohol</th>\n      <th>positiva_droga</th>\n    </tr>\n  </thead>\n  <tbody>\n    <tr>\n      <th>0</th>\n      <td>2022S000001</td>\n      <td>01/01/2022</td>\n      <td>1:30:00</td>\n      <td>13</td>\n      <td>PUENTE DE VALLECAS</td>\n      <td>Alcance</td>\n      <td>Turismo</td>\n      <td>Conductor</td>\n      <td>De 30 a 34 años</td>\n      <td>Mujer</td>\n      <td>N</td>\n      <td>NaN</td>\n    </tr>\n    <tr>\n      <th>1</th>\n      <td>2022S000001</td>\n      <td>01/01/2022</td>\n      <td>1:30:00</td>\n      <td>13</td>\n      <td>PUENTE DE VALLECAS</td>\n      <td>Alcance</td>\n      <td>Turismo</td>\n      <td>Conductor</td>\n      <td>De 45 a 49 años</td>\n      <td>Hombre</td>\n      <td>N</td>\n      <td>NaN</td>\n    </tr>\n    <tr>\n      <th>2</th>\n      <td>2022S000002</td>\n      <td>01/01/2022</td>\n      <td>0:30:00</td>\n      <td>3</td>\n      <td>RETIRO</td>\n      <td>Colisión fronto-lateral</td>\n      <td>Motocicleta hasta 125cc</td>\n      <td>Conductor</td>\n      <td>De 30 a 34 años</td>\n      <td>Hombre</td>\n      <td>S</td>\n      <td>NaN</td>\n    </tr>\n    <tr>\n      <th>3</th>\n      <td>2022S000002</td>\n      <td>01/01/2022</td>\n      <td>0:30:00</td>\n      <td>3</td>\n      <td>RETIRO</td>\n      <td>Colisión fronto-lateral</td>\n      <td>Motocicleta hasta 125cc</td>\n      <td>Pasajero</td>\n      <td>De 35 a 39 años</td>\n      <td>Mujer</td>\n      <td>N</td>\n      <td>NaN</td>\n    </tr>\n    <tr>\n      <th>4</th>\n      <td>2022S000002</td>\n      <td>01/01/2022</td>\n      <td>0:30:00</td>\n      <td>3</td>\n      <td>RETIRO</td>\n      <td>Colisión fronto-lateral</td>\n      <td>Turismo</td>\n      <td>Conductor</td>\n      <td>De 40 a 44 años</td>\n      <td>Hombre</td>\n      <td>N</td>\n      <td>NaN</td>\n    </tr>\n  </tbody>\n</table>\n</div>"
     },
     "execution_count": 60,
     "metadata": {},
     "output_type": "execute_result"
    }
   ],
   "source": [
    "df_2022 = accidentes_2022.drop(columns=['coordenada_x_utm', 'coordenada_y_utm', 'localizacion', 'numero', 'cod_lesividad', 'Unnamed: 19', 'Unnamed: 20', 'estado_meteorológico', 'lesividad'])\n",
    "df_2022.head()"
   ],
   "metadata": {
    "collapsed": false,
    "ExecuteTime": {
     "end_time": "2023-10-23T18:21:34.712166341Z",
     "start_time": "2023-10-23T18:21:34.685778093Z"
    }
   },
   "id": "bd375d609868a332"
  },
  {
   "cell_type": "markdown",
   "source": [
    "### Limpieza\n",
    "Existe un dato redundante, que es el distrito. Se sustituirá por su correspondiente código. Pero antes, vamos a verificar que no existe ningún nulo en la columna cod_distrito"
   ],
   "metadata": {
    "collapsed": false
   },
   "id": "c10e95386af422c8"
  },
  {
   "cell_type": "code",
   "execution_count": 61,
   "outputs": [
    {
     "data": {
      "text/plain": "True"
     },
     "execution_count": 61,
     "metadata": {},
     "output_type": "execute_result"
    }
   ],
   "source": [
    "df_2022['cod_distrito'].count() == df_2022['num_expediente'].count()"
   ],
   "metadata": {
    "collapsed": false,
    "ExecuteTime": {
     "end_time": "2023-10-23T18:21:34.712409932Z",
     "start_time": "2023-10-23T18:21:34.686014469Z"
    }
   },
   "id": "743445b8b44a83bf"
  },
  {
   "cell_type": "markdown",
   "source": [
    "Por tanto, existen tantos no nulos como números de expediente en cod_distrito. Podemos eliminar la columna distrito."
   ],
   "metadata": {
    "collapsed": false
   },
   "id": "703dc6c864c0d5e5"
  },
  {
   "cell_type": "code",
   "execution_count": 62,
   "outputs": [
    {
     "data": {
      "text/plain": "  num_expediente       fecha     hora  cod_distrito           tipo_accidente  \\\n0    2022S000001  01/01/2022  1:30:00            13                  Alcance   \n1    2022S000001  01/01/2022  1:30:00            13                  Alcance   \n2    2022S000002  01/01/2022  0:30:00             3  Colisión fronto-lateral   \n3    2022S000002  01/01/2022  0:30:00             3  Colisión fronto-lateral   \n4    2022S000002  01/01/2022  0:30:00             3  Colisión fronto-lateral   \n\n             tipo_vehiculo tipo_persona       rango_edad    sexo  \\\n0                  Turismo    Conductor  De 30 a 34 años   Mujer   \n1                  Turismo    Conductor  De 45 a 49 años  Hombre   \n2  Motocicleta hasta 125cc    Conductor  De 30 a 34 años  Hombre   \n3  Motocicleta hasta 125cc     Pasajero  De 35 a 39 años   Mujer   \n4                  Turismo    Conductor  De 40 a 44 años  Hombre   \n\n  positiva_alcohol  positiva_droga  \n0                N             NaN  \n1                N             NaN  \n2                S             NaN  \n3                N             NaN  \n4                N             NaN  ",
      "text/html": "<div>\n<style scoped>\n    .dataframe tbody tr th:only-of-type {\n        vertical-align: middle;\n    }\n\n    .dataframe tbody tr th {\n        vertical-align: top;\n    }\n\n    .dataframe thead th {\n        text-align: right;\n    }\n</style>\n<table border=\"1\" class=\"dataframe\">\n  <thead>\n    <tr style=\"text-align: right;\">\n      <th></th>\n      <th>num_expediente</th>\n      <th>fecha</th>\n      <th>hora</th>\n      <th>cod_distrito</th>\n      <th>tipo_accidente</th>\n      <th>tipo_vehiculo</th>\n      <th>tipo_persona</th>\n      <th>rango_edad</th>\n      <th>sexo</th>\n      <th>positiva_alcohol</th>\n      <th>positiva_droga</th>\n    </tr>\n  </thead>\n  <tbody>\n    <tr>\n      <th>0</th>\n      <td>2022S000001</td>\n      <td>01/01/2022</td>\n      <td>1:30:00</td>\n      <td>13</td>\n      <td>Alcance</td>\n      <td>Turismo</td>\n      <td>Conductor</td>\n      <td>De 30 a 34 años</td>\n      <td>Mujer</td>\n      <td>N</td>\n      <td>NaN</td>\n    </tr>\n    <tr>\n      <th>1</th>\n      <td>2022S000001</td>\n      <td>01/01/2022</td>\n      <td>1:30:00</td>\n      <td>13</td>\n      <td>Alcance</td>\n      <td>Turismo</td>\n      <td>Conductor</td>\n      <td>De 45 a 49 años</td>\n      <td>Hombre</td>\n      <td>N</td>\n      <td>NaN</td>\n    </tr>\n    <tr>\n      <th>2</th>\n      <td>2022S000002</td>\n      <td>01/01/2022</td>\n      <td>0:30:00</td>\n      <td>3</td>\n      <td>Colisión fronto-lateral</td>\n      <td>Motocicleta hasta 125cc</td>\n      <td>Conductor</td>\n      <td>De 30 a 34 años</td>\n      <td>Hombre</td>\n      <td>S</td>\n      <td>NaN</td>\n    </tr>\n    <tr>\n      <th>3</th>\n      <td>2022S000002</td>\n      <td>01/01/2022</td>\n      <td>0:30:00</td>\n      <td>3</td>\n      <td>Colisión fronto-lateral</td>\n      <td>Motocicleta hasta 125cc</td>\n      <td>Pasajero</td>\n      <td>De 35 a 39 años</td>\n      <td>Mujer</td>\n      <td>N</td>\n      <td>NaN</td>\n    </tr>\n    <tr>\n      <th>4</th>\n      <td>2022S000002</td>\n      <td>01/01/2022</td>\n      <td>0:30:00</td>\n      <td>3</td>\n      <td>Colisión fronto-lateral</td>\n      <td>Turismo</td>\n      <td>Conductor</td>\n      <td>De 40 a 44 años</td>\n      <td>Hombre</td>\n      <td>N</td>\n      <td>NaN</td>\n    </tr>\n  </tbody>\n</table>\n</div>"
     },
     "execution_count": 62,
     "metadata": {},
     "output_type": "execute_result"
    }
   ],
   "source": [
    "df_2022.pop('distrito')\n",
    "df_2022.head()"
   ],
   "metadata": {
    "collapsed": false,
    "ExecuteTime": {
     "end_time": "2023-10-23T18:21:34.712736179Z",
     "start_time": "2023-10-23T18:21:34.686134636Z"
    }
   },
   "id": "22fa5326a8a81b7a"
  },
  {
   "cell_type": "markdown",
   "source": [
    "Para poder tratar correctamente con los datos, vamos a convertir todos los datos posibles en números. Empezamos por positivo_alcohol y positivo_droga, que se cambiarán por 0 y 1.\n",
    "\n",
    "Esta parte del código nos la propociona el compañero Luca\n",
    "1. Sustituímos S por 1 y N por 0, Rellenamos los nulos en drogas por 0.\n",
    "2. Sustituímos Hombre por 1 y Mujer por 0."
   ],
   "metadata": {
    "collapsed": false
   },
   "id": "47022876ebf59d31"
  },
  {
   "cell_type": "code",
   "execution_count": 63,
   "outputs": [
    {
     "data": {
      "text/plain": "  num_expediente       fecha     hora  cod_distrito           tipo_accidente  \\\n0    2022S000001  01/01/2022  1:30:00            13                  Alcance   \n1    2022S000001  01/01/2022  1:30:00            13                  Alcance   \n2    2022S000002  01/01/2022  0:30:00             3  Colisión fronto-lateral   \n3    2022S000002  01/01/2022  0:30:00             3  Colisión fronto-lateral   \n4    2022S000002  01/01/2022  0:30:00             3  Colisión fronto-lateral   \n\n             tipo_vehiculo tipo_persona       rango_edad sexo  \\\n0                  Turismo    Conductor  De 30 a 34 años    0   \n1                  Turismo    Conductor  De 45 a 49 años    1   \n2  Motocicleta hasta 125cc    Conductor  De 30 a 34 años    1   \n3  Motocicleta hasta 125cc     Pasajero  De 35 a 39 años    0   \n4                  Turismo    Conductor  De 40 a 44 años    1   \n\n   positiva_alcohol  positiva_droga  \n0               0.0             0.0  \n1               0.0             0.0  \n2               1.0             0.0  \n3               0.0             0.0  \n4               0.0             0.0  ",
      "text/html": "<div>\n<style scoped>\n    .dataframe tbody tr th:only-of-type {\n        vertical-align: middle;\n    }\n\n    .dataframe tbody tr th {\n        vertical-align: top;\n    }\n\n    .dataframe thead th {\n        text-align: right;\n    }\n</style>\n<table border=\"1\" class=\"dataframe\">\n  <thead>\n    <tr style=\"text-align: right;\">\n      <th></th>\n      <th>num_expediente</th>\n      <th>fecha</th>\n      <th>hora</th>\n      <th>cod_distrito</th>\n      <th>tipo_accidente</th>\n      <th>tipo_vehiculo</th>\n      <th>tipo_persona</th>\n      <th>rango_edad</th>\n      <th>sexo</th>\n      <th>positiva_alcohol</th>\n      <th>positiva_droga</th>\n    </tr>\n  </thead>\n  <tbody>\n    <tr>\n      <th>0</th>\n      <td>2022S000001</td>\n      <td>01/01/2022</td>\n      <td>1:30:00</td>\n      <td>13</td>\n      <td>Alcance</td>\n      <td>Turismo</td>\n      <td>Conductor</td>\n      <td>De 30 a 34 años</td>\n      <td>0</td>\n      <td>0.0</td>\n      <td>0.0</td>\n    </tr>\n    <tr>\n      <th>1</th>\n      <td>2022S000001</td>\n      <td>01/01/2022</td>\n      <td>1:30:00</td>\n      <td>13</td>\n      <td>Alcance</td>\n      <td>Turismo</td>\n      <td>Conductor</td>\n      <td>De 45 a 49 años</td>\n      <td>1</td>\n      <td>0.0</td>\n      <td>0.0</td>\n    </tr>\n    <tr>\n      <th>2</th>\n      <td>2022S000002</td>\n      <td>01/01/2022</td>\n      <td>0:30:00</td>\n      <td>3</td>\n      <td>Colisión fronto-lateral</td>\n      <td>Motocicleta hasta 125cc</td>\n      <td>Conductor</td>\n      <td>De 30 a 34 años</td>\n      <td>1</td>\n      <td>1.0</td>\n      <td>0.0</td>\n    </tr>\n    <tr>\n      <th>3</th>\n      <td>2022S000002</td>\n      <td>01/01/2022</td>\n      <td>0:30:00</td>\n      <td>3</td>\n      <td>Colisión fronto-lateral</td>\n      <td>Motocicleta hasta 125cc</td>\n      <td>Pasajero</td>\n      <td>De 35 a 39 años</td>\n      <td>0</td>\n      <td>0.0</td>\n      <td>0.0</td>\n    </tr>\n    <tr>\n      <th>4</th>\n      <td>2022S000002</td>\n      <td>01/01/2022</td>\n      <td>0:30:00</td>\n      <td>3</td>\n      <td>Colisión fronto-lateral</td>\n      <td>Turismo</td>\n      <td>Conductor</td>\n      <td>De 40 a 44 años</td>\n      <td>1</td>\n      <td>0.0</td>\n      <td>0.0</td>\n    </tr>\n  </tbody>\n</table>\n</div>"
     },
     "execution_count": 63,
     "metadata": {},
     "output_type": "execute_result"
    }
   ],
   "source": [
    "# Cambiamos en 'positiva_alcohol'\n",
    "df_2022['positiva_alcohol'].replace({'S': 1, 'N': 0}, inplace=True)\n",
    "df_2022['sexo'].replace({'Hombre': 1, 'Mujer': 0}, inplace=True)\n",
    "# Cambiamos en 'positiva_droga' los nulls\n",
    "df_2022['positiva_droga'].fillna(0, inplace=True)\n",
    "\n",
    "df_2022.head()"
   ],
   "metadata": {
    "collapsed": false,
    "ExecuteTime": {
     "end_time": "2023-10-23T18:21:34.730982936Z",
     "start_time": "2023-10-23T18:21:34.686272110Z"
    }
   },
   "id": "9fbd57c86e725dc7"
  },
  {
   "cell_type": "markdown",
   "source": [
    "### Géneros desconocidos\n",
    "Aplicamos la inferencia de Luca para determinar si el conductor era hombre o mujer"
   ],
   "metadata": {
    "collapsed": false
   },
   "id": "d166c6f9b448a594"
  },
  {
   "cell_type": "code",
   "execution_count": null,
   "outputs": [],
   "source": [],
   "metadata": {
    "collapsed": false
   },
   "id": "438f4098fa85331"
  },
  {
   "cell_type": "markdown",
   "source": [],
   "metadata": {
    "collapsed": false
   },
   "id": "b732db9a1c577f58"
  },
  {
   "cell_type": "markdown",
   "source": [
    "### Tratamiento de fechas\n",
    "Para que sea posible para nuestro modelo inferir de los datos, preferimos que las fechas y las horas se expresen en valores continuos.\n",
    "Para lograrlo, vamos a traducir la fecha a minutos desde el 00:00. La fecha se traducirá en días desde el 1-1-20XX.\n",
    "\n",
    "Necesitamos un dato extra que puede ser interesante agregar, festivos y fines de semana. Se añadirá esa columna con esa información relevante. Seguiremos la siguiente convención con los 14 días festivos anuales de la ciudad de Madrid, por lo que serán 10 festivos nacionales, 2 festivos autonómicos (Com. Madrid) y 2 festivos locales (Madrid).\n",
    "* Se denotará día laboral por 0, y día festivo o de descanso por 1.\n"
   ],
   "metadata": {
    "collapsed": false
   },
   "id": "99ebf5f394f1aefb"
  },
  {
   "cell_type": "markdown",
   "source": [
    "Calcular fines de semana y festivos.\n",
    "\n",
    "Una rápida búsqueda por internet nos da los 14 días festivos. La fuente es el calendario de laboral de la Agencia Tributaria"
   ],
   "metadata": {
    "collapsed": false
   },
   "id": "79eb0def82d63348"
  },
  {
   "cell_type": "code",
   "execution_count": 64,
   "outputs": [],
   "source": [
    "from datetime import datetime\n",
    "\n",
    "def is_work_day(date_str: str) -> int:\n",
    "    date_format = '%d/%m/%Y'  # Formato para 'dd-MM-yyyy'\n",
    "    \n",
    "    holidays_madrid = [''] # todo\n",
    "    try:\n",
    "        date_obj = datetime.strptime(date_str, date_format)\n",
    "        day_of_week_int = date_obj.weekday()\n",
    "        if day_of_week_int == 5 or day_of_week_int == 6 or date_str in holidays_madrid:\n",
    "            return 1\n",
    "        return 0\n",
    "\n",
    "    except ValueError:\n",
    "        return -1\n",
    "\n",
    "df_2022['bool_laborable'] = df_2022['fecha'].transform(is_work_day)"
   ],
   "metadata": {
    "collapsed": false,
    "ExecuteTime": {
     "end_time": "2023-10-23T18:21:34.892395406Z",
     "start_time": "2023-10-23T18:21:34.729800771Z"
    }
   },
   "id": "1fa7e76d9088d60d"
  },
  {
   "cell_type": "markdown",
   "source": [
    "Calcular la hora a minutos desde las 00:00"
   ],
   "metadata": {
    "collapsed": false
   },
   "id": "a0ad0cd2bcc3da6d"
  },
  {
   "cell_type": "code",
   "execution_count": 65,
   "outputs": [],
   "source": [
    "def minutes_from_midnight(hour_str : str) -> int:\n",
    "    clock = hour_str.split(':')\n",
    "    minutes = 0\n",
    "    \n",
    "    minutes = int(clock[0]) * 60\n",
    "    minutes = minutes + int(clock[1])\n",
    "    \n",
    "    return minutes\n",
    "\n",
    "df_2022['hora'] = df_2022['hora'].transform(minutes_from_midnight)"
   ],
   "metadata": {
    "collapsed": false,
    "ExecuteTime": {
     "end_time": "2023-10-23T18:21:34.946253323Z",
     "start_time": "2023-10-23T18:21:34.904296732Z"
    }
   },
   "id": "719aac07c7bc6a8e"
  },
  {
   "cell_type": "code",
   "execution_count": 68,
   "outputs": [
    {
     "data": {
      "text/plain": "      num_expediente       fecha   minutes_from_midnight  cod_distrito  \\\n0        2022S000001  01/01/2022                      90            13   \n1        2022S000001  01/01/2022                      90            13   \n2        2022S000002  01/01/2022                      30             3   \n3        2022S000002  01/01/2022                      30             3   \n4        2022S000002  01/01/2022                      30             3   \n...              ...         ...                     ...           ...   \n47048    2022S041289  29/12/2022                    1180            11   \n47049    2022S041289  29/12/2022                    1180            11   \n47050    2022S041312  12/12/2022                    1370            12   \n47051    2022S041312  12/12/2022                    1370            12   \n47052    2022S041312  12/12/2022                    1370            12   \n\n                tipo_accidente            tipo_vehiculo tipo_persona  \\\n0                      Alcance                  Turismo    Conductor   \n1                      Alcance                  Turismo    Conductor   \n2      Colisión fronto-lateral  Motocicleta hasta 125cc    Conductor   \n3      Colisión fronto-lateral  Motocicleta hasta 125cc     Pasajero   \n4      Colisión fronto-lateral                  Turismo    Conductor   \n...                        ...                      ...          ...   \n47048                  Alcance                  Turismo    Conductor   \n47049                  Alcance                  Turismo     Pasajero   \n47050  Colisión fronto-lateral                  Turismo    Conductor   \n47051  Colisión fronto-lateral                  Turismo    Conductor   \n47052  Colisión fronto-lateral                  Turismo     Pasajero   \n\n            rango_edad sexo  positiva_alcohol  positiva_droga  bool_laborable  \n0      De 30 a 34 años    0               0.0             0.0               1  \n1      De 45 a 49 años    1               0.0             0.0               1  \n2      De 30 a 34 años    1               1.0             0.0               1  \n3      De 35 a 39 años    0               0.0             0.0               1  \n4      De 40 a 44 años    1               0.0             0.0               1  \n...                ...  ...               ...             ...             ...  \n47048  De 50 a 54 años    1               0.0             0.0               0  \n47049  De 50 a 54 años    0               0.0             0.0               0  \n47050  De 21 a 24 años    0               0.0             0.0               0  \n47051  De 35 a 39 años    1               0.0             0.0               0  \n47052  De 21 a 24 años    0               0.0             0.0               0  \n\n[47053 rows x 12 columns]",
      "text/html": "<div>\n<style scoped>\n    .dataframe tbody tr th:only-of-type {\n        vertical-align: middle;\n    }\n\n    .dataframe tbody tr th {\n        vertical-align: top;\n    }\n\n    .dataframe thead th {\n        text-align: right;\n    }\n</style>\n<table border=\"1\" class=\"dataframe\">\n  <thead>\n    <tr style=\"text-align: right;\">\n      <th></th>\n      <th>num_expediente</th>\n      <th>fecha</th>\n      <th>minutes_from_midnight</th>\n      <th>cod_distrito</th>\n      <th>tipo_accidente</th>\n      <th>tipo_vehiculo</th>\n      <th>tipo_persona</th>\n      <th>rango_edad</th>\n      <th>sexo</th>\n      <th>positiva_alcohol</th>\n      <th>positiva_droga</th>\n      <th>bool_laborable</th>\n    </tr>\n  </thead>\n  <tbody>\n    <tr>\n      <th>0</th>\n      <td>2022S000001</td>\n      <td>01/01/2022</td>\n      <td>90</td>\n      <td>13</td>\n      <td>Alcance</td>\n      <td>Turismo</td>\n      <td>Conductor</td>\n      <td>De 30 a 34 años</td>\n      <td>0</td>\n      <td>0.0</td>\n      <td>0.0</td>\n      <td>1</td>\n    </tr>\n    <tr>\n      <th>1</th>\n      <td>2022S000001</td>\n      <td>01/01/2022</td>\n      <td>90</td>\n      <td>13</td>\n      <td>Alcance</td>\n      <td>Turismo</td>\n      <td>Conductor</td>\n      <td>De 45 a 49 años</td>\n      <td>1</td>\n      <td>0.0</td>\n      <td>0.0</td>\n      <td>1</td>\n    </tr>\n    <tr>\n      <th>2</th>\n      <td>2022S000002</td>\n      <td>01/01/2022</td>\n      <td>30</td>\n      <td>3</td>\n      <td>Colisión fronto-lateral</td>\n      <td>Motocicleta hasta 125cc</td>\n      <td>Conductor</td>\n      <td>De 30 a 34 años</td>\n      <td>1</td>\n      <td>1.0</td>\n      <td>0.0</td>\n      <td>1</td>\n    </tr>\n    <tr>\n      <th>3</th>\n      <td>2022S000002</td>\n      <td>01/01/2022</td>\n      <td>30</td>\n      <td>3</td>\n      <td>Colisión fronto-lateral</td>\n      <td>Motocicleta hasta 125cc</td>\n      <td>Pasajero</td>\n      <td>De 35 a 39 años</td>\n      <td>0</td>\n      <td>0.0</td>\n      <td>0.0</td>\n      <td>1</td>\n    </tr>\n    <tr>\n      <th>4</th>\n      <td>2022S000002</td>\n      <td>01/01/2022</td>\n      <td>30</td>\n      <td>3</td>\n      <td>Colisión fronto-lateral</td>\n      <td>Turismo</td>\n      <td>Conductor</td>\n      <td>De 40 a 44 años</td>\n      <td>1</td>\n      <td>0.0</td>\n      <td>0.0</td>\n      <td>1</td>\n    </tr>\n    <tr>\n      <th>...</th>\n      <td>...</td>\n      <td>...</td>\n      <td>...</td>\n      <td>...</td>\n      <td>...</td>\n      <td>...</td>\n      <td>...</td>\n      <td>...</td>\n      <td>...</td>\n      <td>...</td>\n      <td>...</td>\n      <td>...</td>\n    </tr>\n    <tr>\n      <th>47048</th>\n      <td>2022S041289</td>\n      <td>29/12/2022</td>\n      <td>1180</td>\n      <td>11</td>\n      <td>Alcance</td>\n      <td>Turismo</td>\n      <td>Conductor</td>\n      <td>De 50 a 54 años</td>\n      <td>1</td>\n      <td>0.0</td>\n      <td>0.0</td>\n      <td>0</td>\n    </tr>\n    <tr>\n      <th>47049</th>\n      <td>2022S041289</td>\n      <td>29/12/2022</td>\n      <td>1180</td>\n      <td>11</td>\n      <td>Alcance</td>\n      <td>Turismo</td>\n      <td>Pasajero</td>\n      <td>De 50 a 54 años</td>\n      <td>0</td>\n      <td>0.0</td>\n      <td>0.0</td>\n      <td>0</td>\n    </tr>\n    <tr>\n      <th>47050</th>\n      <td>2022S041312</td>\n      <td>12/12/2022</td>\n      <td>1370</td>\n      <td>12</td>\n      <td>Colisión fronto-lateral</td>\n      <td>Turismo</td>\n      <td>Conductor</td>\n      <td>De 21 a 24 años</td>\n      <td>0</td>\n      <td>0.0</td>\n      <td>0.0</td>\n      <td>0</td>\n    </tr>\n    <tr>\n      <th>47051</th>\n      <td>2022S041312</td>\n      <td>12/12/2022</td>\n      <td>1370</td>\n      <td>12</td>\n      <td>Colisión fronto-lateral</td>\n      <td>Turismo</td>\n      <td>Conductor</td>\n      <td>De 35 a 39 años</td>\n      <td>1</td>\n      <td>0.0</td>\n      <td>0.0</td>\n      <td>0</td>\n    </tr>\n    <tr>\n      <th>47052</th>\n      <td>2022S041312</td>\n      <td>12/12/2022</td>\n      <td>1370</td>\n      <td>12</td>\n      <td>Colisión fronto-lateral</td>\n      <td>Turismo</td>\n      <td>Pasajero</td>\n      <td>De 21 a 24 años</td>\n      <td>0</td>\n      <td>0.0</td>\n      <td>0.0</td>\n      <td>0</td>\n    </tr>\n  </tbody>\n</table>\n<p>47053 rows × 12 columns</p>\n</div>"
     },
     "execution_count": 68,
     "metadata": {},
     "output_type": "execute_result"
    }
   ],
   "source": [
    "df_2022.rename(columns={'hora': ' minutes_from_midnight'}, inplace=True)\n",
    "df_2022"
   ],
   "metadata": {
    "collapsed": false,
    "ExecuteTime": {
     "end_time": "2023-10-23T18:22:32.888526470Z",
     "start_time": "2023-10-23T18:22:32.865871319Z"
    }
   },
   "id": "dcd7189156e40cbd"
  }
 ],
 "metadata": {
  "kernelspec": {
   "display_name": "Python 3",
   "language": "python",
   "name": "python3"
  },
  "language_info": {
   "codemirror_mode": {
    "name": "ipython",
    "version": 2
   },
   "file_extension": ".py",
   "mimetype": "text/x-python",
   "name": "python",
   "nbconvert_exporter": "python",
   "pygments_lexer": "ipython2",
   "version": "2.7.6"
  }
 },
 "nbformat": 4,
 "nbformat_minor": 5
}
