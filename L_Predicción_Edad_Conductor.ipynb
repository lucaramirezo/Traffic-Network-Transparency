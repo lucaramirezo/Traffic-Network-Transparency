{
 "cells": [
  {
   "cell_type": "markdown",
   "source": [
    "# Tratamiento de nulos en el campo Edad\n",
    "Siguiendo el trabajo de mi compañero Luca, existen muchos valores nulos en el campo de edad que habrá de tratar.\n",
    "\n",
    "## Hipótesis\n",
    "La predicción de la edad solo será la del conductor, que es quién determina lógicamente tiene más correlación con el número de accidentes.\n",
    "\n",
    "Para predecir el campo de la edad se tendrán en cuenta las siguientes variables del csv Accidentes_20XX\n",
    "1. La edad de los demás pasajeros: La edad de los demás pasajeros guarda relación con la edad del conductor. Un conductor jóven es más improbable que lleve a pasajeros menores de edad que un conductor más mayor.\n",
    "2. La fecha y hora del accidente: Es posible que la fecha y la hora guarde alguna relación con la edad del conductor.\n",
    "3. El distrito: Es posible que algunos distritos tengan conductores más jóvenes y otros conductores más mayores.\n",
    "4. Género: Es posible que existan distinta distribución por edad en relación con el género.\n",
    "5. Tipo de accidente: Es posible que los jóvenes tengan más accidentes de un tipo que los mayores.\n",
    "6. Drogas y alcohol: Es posible que los jóvenes sean más propensos a conducir bajo influencia de drogas que las personas más mayores.\n",
    "7. Tipo de vehículo: Es posible que los vehículos industriales sean conducidos por personas más mayores\n",
    "\n",
    "A continuación se seleccionan los campos a tratar en el dataframe y se proporciona una vista previa a fin de refrescar al lector sobre la estructura de los datos"
   ],
   "metadata": {
    "collapsed": false
   },
   "id": "eb43294479fb0dc7"
  },
  {
   "cell_type": "code",
   "execution_count": 1,
   "outputs": [
    {
     "name": "stderr",
     "output_type": "stream",
     "text": [
      "/tmp/ipykernel_32971/3255132315.py:5: DtypeWarning: Columns (15,16) have mixed types. Specify dtype option on import or set low_memory=False.\n",
      "  accidentes_2022 = pd.read_csv('./Datasets/Data_Combinada.csv')\n"
     ]
    },
    {
     "data": {
      "text/plain": "      num_expediente       fecha      hora  \\\n0        2022S000001  01/01/2022   1:30:00   \n1        2022S000001  01/01/2022   1:30:00   \n2        2022S000002  01/01/2022   0:30:00   \n3        2022S000002  01/01/2022   0:30:00   \n4        2022S000002  01/01/2022   0:30:00   \n...              ...         ...       ...   \n74956    2023S028337  31/08/2023  23:20:00   \n74957    2023S028341  31/08/2023  22:30:00   \n74958    2023S028341  31/08/2023  22:30:00   \n74959    2023S028352  31/08/2023  14:40:00   \n74960    2023S029136  02/08/2023  22:10:00   \n\n                                     localizacion  numero  cod_distrito  \\\n0                              AVDA. ALBUFERA, 19      19          13.0   \n1                              AVDA. ALBUFERA, 19      19          13.0   \n2      PLAZA. CANOVAS DEL CASTILLO / PASEO. PRADO       2           3.0   \n3      PLAZA. CANOVAS DEL CASTILLO / PASEO. PRADO       2           3.0   \n4      PLAZA. CANOVAS DEL CASTILLO / PASEO. PRADO       2           3.0   \n...                                           ...     ...           ...   \n74956                 CALL. GOLFO DE SALONICA, 12      12          16.0   \n74957                           CALLE SAN SERAPIO       1          12.0   \n74958                           CALLE SAN SERAPIO       1          12.0   \n74959                         AUTOV. M-30, 00NC06  00NC06           5.0   \n74960             AVDA. CARDENAL HERRERA ORIA, 80      80           8.0   \n\n                  distrito                tipo_accidente estado_meteorológico  \\\n0       PUENTE DE VALLECAS                       Alcance            Despejado   \n1       PUENTE DE VALLECAS                       Alcance            Despejado   \n2                   RETIRO       Colisión fronto-lateral                  NaN   \n3                   RETIRO       Colisión fronto-lateral                  NaN   \n4                   RETIRO       Colisión fronto-lateral                  NaN   \n...                    ...                           ...                  ...   \n74956            HORTALEZA                          Otro            Despejado   \n74957                USERA                       Alcance            Despejado   \n74958                USERA                       Alcance            Despejado   \n74959            CHAMARTÍN                         Caída            Despejado   \n74960  FUENCARRAL-EL PARDO  Choque contra obstáculo fijo                  NaN   \n\n                 tipo_vehiculo tipo_persona       rango_edad sexo  \\\n0                      Turismo    Conductor  De 30 a 34 años    M   \n1                      Turismo    Conductor  De 45 a 49 años    H   \n2      Motocicleta hasta 125cc    Conductor  De 30 a 34 años    H   \n3      Motocicleta hasta 125cc     Pasajero  De 35 a 39 años    M   \n4                      Turismo    Conductor  De 40 a 44 años    H   \n...                        ...          ...              ...  ...   \n74956                  Turismo     Pasajero  De 55 a 59 años    M   \n74957  Motocicleta hasta 125cc    Conductor  De 30 a 34 años    H   \n74958                  Turismo    Conductor  De 35 a 39 años    H   \n74959  Motocicleta hasta 125cc    Conductor  De 40 a 44 años    H   \n74960                  Turismo    Conductor  De 35 a 39 años    H   \n\n       cod_lesividad                                          lesividad  \\\n0                NaN                                                NaN   \n1                NaN                                                NaN   \n2                NaN                                                NaN   \n3                NaN                                                NaN   \n4                NaN                                                NaN   \n...              ...                                                ...   \n74956           14.0                           Sin asistencia sanitaria   \n74957            7.0  Asistencia sanitaria sólo en el lugar del acci...   \n74958           14.0                           Sin asistencia sanitaria   \n74959            1.0        Atención en urgencias sin posterior ingreso   \n74960            NaN                                                NaN   \n\n      coordenada_x_utm coordenada_y_utm  positiva_alcohol  positiva_droga  \n0           443359,226      4472082,272                 0             0.0  \n1           443359,226      4472082,272                 0             0.0  \n2           441155,351      4474129,588                 1             0.0  \n3           441155,351      4474129,588                 0             0.0  \n4           441155,351      4474129,588                 0             0.0  \n...                ...              ...               ...             ...  \n74956       443580.365      4480912.376                 0             0.0  \n74957        440795.55      4471044.789                 0             0.0  \n74958        440795.55      4471044.789                 0             0.0  \n74959         442825.5      4481003.193                 0             0.0  \n74960       441491.437       4482518.59                 0             0.0  \n\n[74961 rows x 19 columns]",
      "text/html": "<div>\n<style scoped>\n    .dataframe tbody tr th:only-of-type {\n        vertical-align: middle;\n    }\n\n    .dataframe tbody tr th {\n        vertical-align: top;\n    }\n\n    .dataframe thead th {\n        text-align: right;\n    }\n</style>\n<table border=\"1\" class=\"dataframe\">\n  <thead>\n    <tr style=\"text-align: right;\">\n      <th></th>\n      <th>num_expediente</th>\n      <th>fecha</th>\n      <th>hora</th>\n      <th>localizacion</th>\n      <th>numero</th>\n      <th>cod_distrito</th>\n      <th>distrito</th>\n      <th>tipo_accidente</th>\n      <th>estado_meteorológico</th>\n      <th>tipo_vehiculo</th>\n      <th>tipo_persona</th>\n      <th>rango_edad</th>\n      <th>sexo</th>\n      <th>cod_lesividad</th>\n      <th>lesividad</th>\n      <th>coordenada_x_utm</th>\n      <th>coordenada_y_utm</th>\n      <th>positiva_alcohol</th>\n      <th>positiva_droga</th>\n    </tr>\n  </thead>\n  <tbody>\n    <tr>\n      <th>0</th>\n      <td>2022S000001</td>\n      <td>01/01/2022</td>\n      <td>1:30:00</td>\n      <td>AVDA. ALBUFERA, 19</td>\n      <td>19</td>\n      <td>13.0</td>\n      <td>PUENTE DE VALLECAS</td>\n      <td>Alcance</td>\n      <td>Despejado</td>\n      <td>Turismo</td>\n      <td>Conductor</td>\n      <td>De 30 a 34 años</td>\n      <td>M</td>\n      <td>NaN</td>\n      <td>NaN</td>\n      <td>443359,226</td>\n      <td>4472082,272</td>\n      <td>0</td>\n      <td>0.0</td>\n    </tr>\n    <tr>\n      <th>1</th>\n      <td>2022S000001</td>\n      <td>01/01/2022</td>\n      <td>1:30:00</td>\n      <td>AVDA. ALBUFERA, 19</td>\n      <td>19</td>\n      <td>13.0</td>\n      <td>PUENTE DE VALLECAS</td>\n      <td>Alcance</td>\n      <td>Despejado</td>\n      <td>Turismo</td>\n      <td>Conductor</td>\n      <td>De 45 a 49 años</td>\n      <td>H</td>\n      <td>NaN</td>\n      <td>NaN</td>\n      <td>443359,226</td>\n      <td>4472082,272</td>\n      <td>0</td>\n      <td>0.0</td>\n    </tr>\n    <tr>\n      <th>2</th>\n      <td>2022S000002</td>\n      <td>01/01/2022</td>\n      <td>0:30:00</td>\n      <td>PLAZA. CANOVAS DEL CASTILLO / PASEO. PRADO</td>\n      <td>2</td>\n      <td>3.0</td>\n      <td>RETIRO</td>\n      <td>Colisión fronto-lateral</td>\n      <td>NaN</td>\n      <td>Motocicleta hasta 125cc</td>\n      <td>Conductor</td>\n      <td>De 30 a 34 años</td>\n      <td>H</td>\n      <td>NaN</td>\n      <td>NaN</td>\n      <td>441155,351</td>\n      <td>4474129,588</td>\n      <td>1</td>\n      <td>0.0</td>\n    </tr>\n    <tr>\n      <th>3</th>\n      <td>2022S000002</td>\n      <td>01/01/2022</td>\n      <td>0:30:00</td>\n      <td>PLAZA. CANOVAS DEL CASTILLO / PASEO. PRADO</td>\n      <td>2</td>\n      <td>3.0</td>\n      <td>RETIRO</td>\n      <td>Colisión fronto-lateral</td>\n      <td>NaN</td>\n      <td>Motocicleta hasta 125cc</td>\n      <td>Pasajero</td>\n      <td>De 35 a 39 años</td>\n      <td>M</td>\n      <td>NaN</td>\n      <td>NaN</td>\n      <td>441155,351</td>\n      <td>4474129,588</td>\n      <td>0</td>\n      <td>0.0</td>\n    </tr>\n    <tr>\n      <th>4</th>\n      <td>2022S000002</td>\n      <td>01/01/2022</td>\n      <td>0:30:00</td>\n      <td>PLAZA. CANOVAS DEL CASTILLO / PASEO. PRADO</td>\n      <td>2</td>\n      <td>3.0</td>\n      <td>RETIRO</td>\n      <td>Colisión fronto-lateral</td>\n      <td>NaN</td>\n      <td>Turismo</td>\n      <td>Conductor</td>\n      <td>De 40 a 44 años</td>\n      <td>H</td>\n      <td>NaN</td>\n      <td>NaN</td>\n      <td>441155,351</td>\n      <td>4474129,588</td>\n      <td>0</td>\n      <td>0.0</td>\n    </tr>\n    <tr>\n      <th>...</th>\n      <td>...</td>\n      <td>...</td>\n      <td>...</td>\n      <td>...</td>\n      <td>...</td>\n      <td>...</td>\n      <td>...</td>\n      <td>...</td>\n      <td>...</td>\n      <td>...</td>\n      <td>...</td>\n      <td>...</td>\n      <td>...</td>\n      <td>...</td>\n      <td>...</td>\n      <td>...</td>\n      <td>...</td>\n      <td>...</td>\n      <td>...</td>\n    </tr>\n    <tr>\n      <th>74956</th>\n      <td>2023S028337</td>\n      <td>31/08/2023</td>\n      <td>23:20:00</td>\n      <td>CALL. GOLFO DE SALONICA, 12</td>\n      <td>12</td>\n      <td>16.0</td>\n      <td>HORTALEZA</td>\n      <td>Otro</td>\n      <td>Despejado</td>\n      <td>Turismo</td>\n      <td>Pasajero</td>\n      <td>De 55 a 59 años</td>\n      <td>M</td>\n      <td>14.0</td>\n      <td>Sin asistencia sanitaria</td>\n      <td>443580.365</td>\n      <td>4480912.376</td>\n      <td>0</td>\n      <td>0.0</td>\n    </tr>\n    <tr>\n      <th>74957</th>\n      <td>2023S028341</td>\n      <td>31/08/2023</td>\n      <td>22:30:00</td>\n      <td>CALLE SAN SERAPIO</td>\n      <td>1</td>\n      <td>12.0</td>\n      <td>USERA</td>\n      <td>Alcance</td>\n      <td>Despejado</td>\n      <td>Motocicleta hasta 125cc</td>\n      <td>Conductor</td>\n      <td>De 30 a 34 años</td>\n      <td>H</td>\n      <td>7.0</td>\n      <td>Asistencia sanitaria sólo en el lugar del acci...</td>\n      <td>440795.55</td>\n      <td>4471044.789</td>\n      <td>0</td>\n      <td>0.0</td>\n    </tr>\n    <tr>\n      <th>74958</th>\n      <td>2023S028341</td>\n      <td>31/08/2023</td>\n      <td>22:30:00</td>\n      <td>CALLE SAN SERAPIO</td>\n      <td>1</td>\n      <td>12.0</td>\n      <td>USERA</td>\n      <td>Alcance</td>\n      <td>Despejado</td>\n      <td>Turismo</td>\n      <td>Conductor</td>\n      <td>De 35 a 39 años</td>\n      <td>H</td>\n      <td>14.0</td>\n      <td>Sin asistencia sanitaria</td>\n      <td>440795.55</td>\n      <td>4471044.789</td>\n      <td>0</td>\n      <td>0.0</td>\n    </tr>\n    <tr>\n      <th>74959</th>\n      <td>2023S028352</td>\n      <td>31/08/2023</td>\n      <td>14:40:00</td>\n      <td>AUTOV. M-30, 00NC06</td>\n      <td>00NC06</td>\n      <td>5.0</td>\n      <td>CHAMARTÍN</td>\n      <td>Caída</td>\n      <td>Despejado</td>\n      <td>Motocicleta hasta 125cc</td>\n      <td>Conductor</td>\n      <td>De 40 a 44 años</td>\n      <td>H</td>\n      <td>1.0</td>\n      <td>Atención en urgencias sin posterior ingreso</td>\n      <td>442825.5</td>\n      <td>4481003.193</td>\n      <td>0</td>\n      <td>0.0</td>\n    </tr>\n    <tr>\n      <th>74960</th>\n      <td>2023S029136</td>\n      <td>02/08/2023</td>\n      <td>22:10:00</td>\n      <td>AVDA. CARDENAL HERRERA ORIA, 80</td>\n      <td>80</td>\n      <td>8.0</td>\n      <td>FUENCARRAL-EL PARDO</td>\n      <td>Choque contra obstáculo fijo</td>\n      <td>NaN</td>\n      <td>Turismo</td>\n      <td>Conductor</td>\n      <td>De 35 a 39 años</td>\n      <td>H</td>\n      <td>NaN</td>\n      <td>NaN</td>\n      <td>441491.437</td>\n      <td>4482518.59</td>\n      <td>0</td>\n      <td>0.0</td>\n    </tr>\n  </tbody>\n</table>\n<p>74961 rows × 19 columns</p>\n</div>"
     },
     "execution_count": 1,
     "metadata": {},
     "output_type": "execute_result"
    }
   ],
   "source": [
    "import pandas as pd\n",
    "import numpy as np\n",
    "from matplotlib.testing.jpl_units import day\n",
    "\n",
    "accidentes_2022 = pd.read_csv('./Datasets/Data_Combinada.csv')\n",
    "accidentes_2022"
   ],
   "metadata": {
    "collapsed": false,
    "ExecuteTime": {
     "end_time": "2023-10-26T13:41:23.363721298Z",
     "start_time": "2023-10-26T13:41:22.475795967Z"
    }
   },
   "id": "58842a9ed9327b60"
  },
  {
   "cell_type": "markdown",
   "source": [
    "### Extracción de campos\n",
    "A continuación, se extraen los campos num_expediente, fecha y hora, distrito, género, tipo de accidente, drogas y alcohol"
   ],
   "metadata": {
    "collapsed": false
   },
   "id": "758c89eb233bf6a"
  },
  {
   "cell_type": "code",
   "execution_count": 2,
   "outputs": [
    {
     "data": {
      "text/plain": "  num_expediente       fecha     hora  cod_distrito            distrito  \\\n0    2022S000001  01/01/2022  1:30:00          13.0  PUENTE DE VALLECAS   \n1    2022S000001  01/01/2022  1:30:00          13.0  PUENTE DE VALLECAS   \n2    2022S000002  01/01/2022  0:30:00           3.0              RETIRO   \n3    2022S000002  01/01/2022  0:30:00           3.0              RETIRO   \n4    2022S000002  01/01/2022  0:30:00           3.0              RETIRO   \n\n            tipo_accidente            tipo_vehiculo tipo_persona  \\\n0                  Alcance                  Turismo    Conductor   \n1                  Alcance                  Turismo    Conductor   \n2  Colisión fronto-lateral  Motocicleta hasta 125cc    Conductor   \n3  Colisión fronto-lateral  Motocicleta hasta 125cc     Pasajero   \n4  Colisión fronto-lateral                  Turismo    Conductor   \n\n        rango_edad sexo  positiva_alcohol  positiva_droga  \n0  De 30 a 34 años    M                 0             0.0  \n1  De 45 a 49 años    H                 0             0.0  \n2  De 30 a 34 años    H                 1             0.0  \n3  De 35 a 39 años    M                 0             0.0  \n4  De 40 a 44 años    H                 0             0.0  ",
      "text/html": "<div>\n<style scoped>\n    .dataframe tbody tr th:only-of-type {\n        vertical-align: middle;\n    }\n\n    .dataframe tbody tr th {\n        vertical-align: top;\n    }\n\n    .dataframe thead th {\n        text-align: right;\n    }\n</style>\n<table border=\"1\" class=\"dataframe\">\n  <thead>\n    <tr style=\"text-align: right;\">\n      <th></th>\n      <th>num_expediente</th>\n      <th>fecha</th>\n      <th>hora</th>\n      <th>cod_distrito</th>\n      <th>distrito</th>\n      <th>tipo_accidente</th>\n      <th>tipo_vehiculo</th>\n      <th>tipo_persona</th>\n      <th>rango_edad</th>\n      <th>sexo</th>\n      <th>positiva_alcohol</th>\n      <th>positiva_droga</th>\n    </tr>\n  </thead>\n  <tbody>\n    <tr>\n      <th>0</th>\n      <td>2022S000001</td>\n      <td>01/01/2022</td>\n      <td>1:30:00</td>\n      <td>13.0</td>\n      <td>PUENTE DE VALLECAS</td>\n      <td>Alcance</td>\n      <td>Turismo</td>\n      <td>Conductor</td>\n      <td>De 30 a 34 años</td>\n      <td>M</td>\n      <td>0</td>\n      <td>0.0</td>\n    </tr>\n    <tr>\n      <th>1</th>\n      <td>2022S000001</td>\n      <td>01/01/2022</td>\n      <td>1:30:00</td>\n      <td>13.0</td>\n      <td>PUENTE DE VALLECAS</td>\n      <td>Alcance</td>\n      <td>Turismo</td>\n      <td>Conductor</td>\n      <td>De 45 a 49 años</td>\n      <td>H</td>\n      <td>0</td>\n      <td>0.0</td>\n    </tr>\n    <tr>\n      <th>2</th>\n      <td>2022S000002</td>\n      <td>01/01/2022</td>\n      <td>0:30:00</td>\n      <td>3.0</td>\n      <td>RETIRO</td>\n      <td>Colisión fronto-lateral</td>\n      <td>Motocicleta hasta 125cc</td>\n      <td>Conductor</td>\n      <td>De 30 a 34 años</td>\n      <td>H</td>\n      <td>1</td>\n      <td>0.0</td>\n    </tr>\n    <tr>\n      <th>3</th>\n      <td>2022S000002</td>\n      <td>01/01/2022</td>\n      <td>0:30:00</td>\n      <td>3.0</td>\n      <td>RETIRO</td>\n      <td>Colisión fronto-lateral</td>\n      <td>Motocicleta hasta 125cc</td>\n      <td>Pasajero</td>\n      <td>De 35 a 39 años</td>\n      <td>M</td>\n      <td>0</td>\n      <td>0.0</td>\n    </tr>\n    <tr>\n      <th>4</th>\n      <td>2022S000002</td>\n      <td>01/01/2022</td>\n      <td>0:30:00</td>\n      <td>3.0</td>\n      <td>RETIRO</td>\n      <td>Colisión fronto-lateral</td>\n      <td>Turismo</td>\n      <td>Conductor</td>\n      <td>De 40 a 44 años</td>\n      <td>H</td>\n      <td>0</td>\n      <td>0.0</td>\n    </tr>\n  </tbody>\n</table>\n</div>"
     },
     "execution_count": 2,
     "metadata": {},
     "output_type": "execute_result"
    }
   ],
   "source": [
    "df_2022 = accidentes_2022.drop(\n",
    "    columns=['coordenada_x_utm', 'coordenada_y_utm', 'localizacion', 'numero', 'cod_lesividad', 'estado_meteorológico',\n",
    "             'lesividad'])\n",
    "df_2022.head()"
   ],
   "metadata": {
    "collapsed": false,
    "ExecuteTime": {
     "end_time": "2023-10-26T13:41:23.448419745Z",
     "start_time": "2023-10-26T13:41:23.351914885Z"
    }
   },
   "id": "bd375d609868a332"
  },
  {
   "cell_type": "markdown",
   "source": [
    "### Limpieza\n",
    "Existe un dato redundante, que es el distrito. Se sustituirá por su correspondiente código. Pero antes, vamos a verificar que no existe ningún nulo en la columna cod_distrito"
   ],
   "metadata": {
    "collapsed": false
   },
   "id": "c10e95386af422c8"
  },
  {
   "cell_type": "code",
   "execution_count": 3,
   "outputs": [
    {
     "data": {
      "text/plain": "False"
     },
     "execution_count": 3,
     "metadata": {},
     "output_type": "execute_result"
    }
   ],
   "source": [
    "df_2022['cod_distrito'].count() == df_2022['num_expediente'].count()"
   ],
   "metadata": {
    "collapsed": false,
    "ExecuteTime": {
     "end_time": "2023-10-26T13:41:23.473666745Z",
     "start_time": "2023-10-26T13:41:23.374949655Z"
    }
   },
   "id": "743445b8b44a83bf"
  },
  {
   "cell_type": "markdown",
   "source": [
    "Por tanto, existen tantos no nulos como números de expediente en cod_distrito. Podemos eliminar la columna distrito."
   ],
   "metadata": {
    "collapsed": false
   },
   "id": "703dc6c864c0d5e5"
  },
  {
   "cell_type": "code",
   "execution_count": 4,
   "outputs": [
    {
     "data": {
      "text/plain": "  num_expediente       fecha     hora  cod_distrito           tipo_accidente  \\\n0    2022S000001  01/01/2022  1:30:00          13.0                  Alcance   \n1    2022S000001  01/01/2022  1:30:00          13.0                  Alcance   \n2    2022S000002  01/01/2022  0:30:00           3.0  Colisión fronto-lateral   \n3    2022S000002  01/01/2022  0:30:00           3.0  Colisión fronto-lateral   \n4    2022S000002  01/01/2022  0:30:00           3.0  Colisión fronto-lateral   \n\n             tipo_vehiculo tipo_persona       rango_edad sexo  \\\n0                  Turismo    Conductor  De 30 a 34 años    M   \n1                  Turismo    Conductor  De 45 a 49 años    H   \n2  Motocicleta hasta 125cc    Conductor  De 30 a 34 años    H   \n3  Motocicleta hasta 125cc     Pasajero  De 35 a 39 años    M   \n4                  Turismo    Conductor  De 40 a 44 años    H   \n\n   positiva_alcohol  positiva_droga  \n0                 0             0.0  \n1                 0             0.0  \n2                 1             0.0  \n3                 0             0.0  \n4                 0             0.0  ",
      "text/html": "<div>\n<style scoped>\n    .dataframe tbody tr th:only-of-type {\n        vertical-align: middle;\n    }\n\n    .dataframe tbody tr th {\n        vertical-align: top;\n    }\n\n    .dataframe thead th {\n        text-align: right;\n    }\n</style>\n<table border=\"1\" class=\"dataframe\">\n  <thead>\n    <tr style=\"text-align: right;\">\n      <th></th>\n      <th>num_expediente</th>\n      <th>fecha</th>\n      <th>hora</th>\n      <th>cod_distrito</th>\n      <th>tipo_accidente</th>\n      <th>tipo_vehiculo</th>\n      <th>tipo_persona</th>\n      <th>rango_edad</th>\n      <th>sexo</th>\n      <th>positiva_alcohol</th>\n      <th>positiva_droga</th>\n    </tr>\n  </thead>\n  <tbody>\n    <tr>\n      <th>0</th>\n      <td>2022S000001</td>\n      <td>01/01/2022</td>\n      <td>1:30:00</td>\n      <td>13.0</td>\n      <td>Alcance</td>\n      <td>Turismo</td>\n      <td>Conductor</td>\n      <td>De 30 a 34 años</td>\n      <td>M</td>\n      <td>0</td>\n      <td>0.0</td>\n    </tr>\n    <tr>\n      <th>1</th>\n      <td>2022S000001</td>\n      <td>01/01/2022</td>\n      <td>1:30:00</td>\n      <td>13.0</td>\n      <td>Alcance</td>\n      <td>Turismo</td>\n      <td>Conductor</td>\n      <td>De 45 a 49 años</td>\n      <td>H</td>\n      <td>0</td>\n      <td>0.0</td>\n    </tr>\n    <tr>\n      <th>2</th>\n      <td>2022S000002</td>\n      <td>01/01/2022</td>\n      <td>0:30:00</td>\n      <td>3.0</td>\n      <td>Colisión fronto-lateral</td>\n      <td>Motocicleta hasta 125cc</td>\n      <td>Conductor</td>\n      <td>De 30 a 34 años</td>\n      <td>H</td>\n      <td>1</td>\n      <td>0.0</td>\n    </tr>\n    <tr>\n      <th>3</th>\n      <td>2022S000002</td>\n      <td>01/01/2022</td>\n      <td>0:30:00</td>\n      <td>3.0</td>\n      <td>Colisión fronto-lateral</td>\n      <td>Motocicleta hasta 125cc</td>\n      <td>Pasajero</td>\n      <td>De 35 a 39 años</td>\n      <td>M</td>\n      <td>0</td>\n      <td>0.0</td>\n    </tr>\n    <tr>\n      <th>4</th>\n      <td>2022S000002</td>\n      <td>01/01/2022</td>\n      <td>0:30:00</td>\n      <td>3.0</td>\n      <td>Colisión fronto-lateral</td>\n      <td>Turismo</td>\n      <td>Conductor</td>\n      <td>De 40 a 44 años</td>\n      <td>H</td>\n      <td>0</td>\n      <td>0.0</td>\n    </tr>\n  </tbody>\n</table>\n</div>"
     },
     "execution_count": 4,
     "metadata": {},
     "output_type": "execute_result"
    }
   ],
   "source": [
    "df_2022.pop('distrito')\n",
    "df_2022.head()"
   ],
   "metadata": {
    "collapsed": false,
    "ExecuteTime": {
     "end_time": "2023-10-26T13:41:23.542613932Z",
     "start_time": "2023-10-26T13:41:23.422489018Z"
    }
   },
   "id": "22fa5326a8a81b7a"
  },
  {
   "cell_type": "markdown",
   "source": [
    "Para poder tratar correctamente con los datos, vamos a convertir todos los datos posibles en números. Empezamos por positivo_alcohol y positivo_droga, que se cambiarán por 0 y 1.\n",
    "\n",
    "Esta parte del código nos la propociona el compañero Luca\n",
    "1. Sustituímos S por 1 y N por 0, Rellenamos los nulos en drogas por 0.\n",
    "2. Sustituímos Hombre por 1 y Mujer por 0."
   ],
   "metadata": {
    "collapsed": false
   },
   "id": "47022876ebf59d31"
  },
  {
   "cell_type": "code",
   "execution_count": 5,
   "outputs": [
    {
     "data": {
      "text/plain": "  num_expediente       fecha     hora  cod_distrito           tipo_accidente  \\\n0    2022S000001  01/01/2022  1:30:00          13.0                  Alcance   \n1    2022S000001  01/01/2022  1:30:00          13.0                  Alcance   \n2    2022S000002  01/01/2022  0:30:00           3.0  Colisión fronto-lateral   \n3    2022S000002  01/01/2022  0:30:00           3.0  Colisión fronto-lateral   \n4    2022S000002  01/01/2022  0:30:00           3.0  Colisión fronto-lateral   \n\n             tipo_vehiculo tipo_persona       rango_edad  sexo  \\\n0                  Turismo    Conductor  De 30 a 34 años     0   \n1                  Turismo    Conductor  De 45 a 49 años     1   \n2  Motocicleta hasta 125cc    Conductor  De 30 a 34 años     1   \n3  Motocicleta hasta 125cc     Pasajero  De 35 a 39 años     0   \n4                  Turismo    Conductor  De 40 a 44 años     1   \n\n   positiva_alcohol  positiva_droga  \n0                 0             0.0  \n1                 0             0.0  \n2                 1             0.0  \n3                 0             0.0  \n4                 0             0.0  ",
      "text/html": "<div>\n<style scoped>\n    .dataframe tbody tr th:only-of-type {\n        vertical-align: middle;\n    }\n\n    .dataframe tbody tr th {\n        vertical-align: top;\n    }\n\n    .dataframe thead th {\n        text-align: right;\n    }\n</style>\n<table border=\"1\" class=\"dataframe\">\n  <thead>\n    <tr style=\"text-align: right;\">\n      <th></th>\n      <th>num_expediente</th>\n      <th>fecha</th>\n      <th>hora</th>\n      <th>cod_distrito</th>\n      <th>tipo_accidente</th>\n      <th>tipo_vehiculo</th>\n      <th>tipo_persona</th>\n      <th>rango_edad</th>\n      <th>sexo</th>\n      <th>positiva_alcohol</th>\n      <th>positiva_droga</th>\n    </tr>\n  </thead>\n  <tbody>\n    <tr>\n      <th>0</th>\n      <td>2022S000001</td>\n      <td>01/01/2022</td>\n      <td>1:30:00</td>\n      <td>13.0</td>\n      <td>Alcance</td>\n      <td>Turismo</td>\n      <td>Conductor</td>\n      <td>De 30 a 34 años</td>\n      <td>0</td>\n      <td>0</td>\n      <td>0.0</td>\n    </tr>\n    <tr>\n      <th>1</th>\n      <td>2022S000001</td>\n      <td>01/01/2022</td>\n      <td>1:30:00</td>\n      <td>13.0</td>\n      <td>Alcance</td>\n      <td>Turismo</td>\n      <td>Conductor</td>\n      <td>De 45 a 49 años</td>\n      <td>1</td>\n      <td>0</td>\n      <td>0.0</td>\n    </tr>\n    <tr>\n      <th>2</th>\n      <td>2022S000002</td>\n      <td>01/01/2022</td>\n      <td>0:30:00</td>\n      <td>3.0</td>\n      <td>Colisión fronto-lateral</td>\n      <td>Motocicleta hasta 125cc</td>\n      <td>Conductor</td>\n      <td>De 30 a 34 años</td>\n      <td>1</td>\n      <td>1</td>\n      <td>0.0</td>\n    </tr>\n    <tr>\n      <th>3</th>\n      <td>2022S000002</td>\n      <td>01/01/2022</td>\n      <td>0:30:00</td>\n      <td>3.0</td>\n      <td>Colisión fronto-lateral</td>\n      <td>Motocicleta hasta 125cc</td>\n      <td>Pasajero</td>\n      <td>De 35 a 39 años</td>\n      <td>0</td>\n      <td>0</td>\n      <td>0.0</td>\n    </tr>\n    <tr>\n      <th>4</th>\n      <td>2022S000002</td>\n      <td>01/01/2022</td>\n      <td>0:30:00</td>\n      <td>3.0</td>\n      <td>Colisión fronto-lateral</td>\n      <td>Turismo</td>\n      <td>Conductor</td>\n      <td>De 40 a 44 años</td>\n      <td>1</td>\n      <td>0</td>\n      <td>0.0</td>\n    </tr>\n  </tbody>\n</table>\n</div>"
     },
     "execution_count": 5,
     "metadata": {},
     "output_type": "execute_result"
    }
   ],
   "source": [
    "# Cambiamos en 'positiva_alcohol'\n",
    "df_2022['positiva_alcohol'].replace({'S': 1, 'N': 0}, inplace=True)\n",
    "df_2022['sexo'].replace({'H': 1, 'M': 0}, inplace=True)\n",
    "# Cambiamos en 'positiva_droga' los nulls\n",
    "df_2022['positiva_droga'].fillna(0, inplace=True)\n",
    "\n",
    "df_2022.head()"
   ],
   "metadata": {
    "collapsed": false,
    "ExecuteTime": {
     "end_time": "2023-10-26T13:41:23.567637356Z",
     "start_time": "2023-10-26T13:41:23.422990061Z"
    }
   },
   "id": "9fbd57c86e725dc7"
  },
  {
   "cell_type": "markdown",
   "source": [
    "### Cazar valores nulos\n",
    "Buscamos nulos en las distintas columnas"
   ],
   "metadata": {
    "collapsed": false
   },
   "id": "54fdb944a5a452fe"
  },
  {
   "cell_type": "code",
   "execution_count": 6,
   "outputs": [
    {
     "data": {
      "text/plain": "Empty DataFrame\nColumns: [num_expediente, fecha, hora, cod_distrito, tipo_accidente, tipo_vehiculo, tipo_persona, rango_edad, sexo, positiva_alcohol, positiva_droga]\nIndex: []",
      "text/html": "<div>\n<style scoped>\n    .dataframe tbody tr th:only-of-type {\n        vertical-align: middle;\n    }\n\n    .dataframe tbody tr th {\n        vertical-align: top;\n    }\n\n    .dataframe thead th {\n        text-align: right;\n    }\n</style>\n<table border=\"1\" class=\"dataframe\">\n  <thead>\n    <tr style=\"text-align: right;\">\n      <th></th>\n      <th>num_expediente</th>\n      <th>fecha</th>\n      <th>hora</th>\n      <th>cod_distrito</th>\n      <th>tipo_accidente</th>\n      <th>tipo_vehiculo</th>\n      <th>tipo_persona</th>\n      <th>rango_edad</th>\n      <th>sexo</th>\n      <th>positiva_alcohol</th>\n      <th>positiva_droga</th>\n    </tr>\n  </thead>\n  <tbody>\n  </tbody>\n</table>\n</div>"
     },
     "execution_count": 6,
     "metadata": {},
     "output_type": "execute_result"
    }
   ],
   "source": [
    "filas_con_nulos = df_2022['tipo_persona'].isnull()\n",
    "df_2022[filas_con_nulos]"
   ],
   "metadata": {
    "collapsed": false,
    "ExecuteTime": {
     "end_time": "2023-10-26T13:41:23.568428637Z",
     "start_time": "2023-10-26T13:41:23.466678431Z"
    }
   },
   "id": "a95fca139040e52d"
  },
  {
   "cell_type": "code",
   "execution_count": 7,
   "outputs": [
    {
     "data": {
      "text/plain": "      num_expediente       fecha      hora  cod_distrito       tipo_accidente  \\\n275      2022S000148  04/01/2022  18:15:00          12.0     Colisión lateral   \n321      2022S000180  04/01/2022  20:25:00          12.0     Colisión lateral   \n601      2022S000342  08/01/2022   0:00:00           5.0     Colisión lateral   \n626      2022S000356  08/01/2022  15:07:00          16.0    Colisión múltiple   \n720      2022S000413  09/01/2022  12:46:00          17.0    Colisión múltiple   \n...              ...         ...       ...           ...                  ...   \n74094    2023S027718  21/08/2023  16:10:00          21.0  Atropello a persona   \n74095    2023S027718  21/08/2023  16:10:00          21.0  Atropello a persona   \n74312    2023S027875  24/08/2023  16:45:00           2.0  Atropello a persona   \n74321    2023S027879  24/08/2023  18:45:00           6.0                Caída   \n74428    2023S027944  25/08/2023  20:15:00          13.0     Colisión lateral   \n\n      tipo_vehiculo tipo_persona       rango_edad  sexo  positiva_alcohol  \\\n275             NaN    Conductor      Desconocido     0                 0   \n321             NaN    Conductor      Desconocido     1                 0   \n601             NaN    Conductor      Desconocido     1                 0   \n626             NaN    Conductor      Desconocido     1                 0   \n720             NaN    Conductor      Desconocido     1                 0   \n...             ...          ...              ...   ...               ...   \n74094           NaN    Conductor      Desconocido     1                 0   \n74095           NaN       Peatón  De 55 a 59 años     1                 0   \n74312           NaN    Conductor      Desconocido     1                 0   \n74321           NaN    Conductor      Desconocido     0                 0   \n74428           NaN    Conductor      Desconocido     1                 0   \n\n       positiva_droga  \n275               0.0  \n321               0.0  \n601               0.0  \n626               0.0  \n720               0.0  \n...               ...  \n74094             0.0  \n74095             0.0  \n74312             0.0  \n74321             0.0  \n74428             0.0  \n\n[452 rows x 11 columns]",
      "text/html": "<div>\n<style scoped>\n    .dataframe tbody tr th:only-of-type {\n        vertical-align: middle;\n    }\n\n    .dataframe tbody tr th {\n        vertical-align: top;\n    }\n\n    .dataframe thead th {\n        text-align: right;\n    }\n</style>\n<table border=\"1\" class=\"dataframe\">\n  <thead>\n    <tr style=\"text-align: right;\">\n      <th></th>\n      <th>num_expediente</th>\n      <th>fecha</th>\n      <th>hora</th>\n      <th>cod_distrito</th>\n      <th>tipo_accidente</th>\n      <th>tipo_vehiculo</th>\n      <th>tipo_persona</th>\n      <th>rango_edad</th>\n      <th>sexo</th>\n      <th>positiva_alcohol</th>\n      <th>positiva_droga</th>\n    </tr>\n  </thead>\n  <tbody>\n    <tr>\n      <th>275</th>\n      <td>2022S000148</td>\n      <td>04/01/2022</td>\n      <td>18:15:00</td>\n      <td>12.0</td>\n      <td>Colisión lateral</td>\n      <td>NaN</td>\n      <td>Conductor</td>\n      <td>Desconocido</td>\n      <td>0</td>\n      <td>0</td>\n      <td>0.0</td>\n    </tr>\n    <tr>\n      <th>321</th>\n      <td>2022S000180</td>\n      <td>04/01/2022</td>\n      <td>20:25:00</td>\n      <td>12.0</td>\n      <td>Colisión lateral</td>\n      <td>NaN</td>\n      <td>Conductor</td>\n      <td>Desconocido</td>\n      <td>1</td>\n      <td>0</td>\n      <td>0.0</td>\n    </tr>\n    <tr>\n      <th>601</th>\n      <td>2022S000342</td>\n      <td>08/01/2022</td>\n      <td>0:00:00</td>\n      <td>5.0</td>\n      <td>Colisión lateral</td>\n      <td>NaN</td>\n      <td>Conductor</td>\n      <td>Desconocido</td>\n      <td>1</td>\n      <td>0</td>\n      <td>0.0</td>\n    </tr>\n    <tr>\n      <th>626</th>\n      <td>2022S000356</td>\n      <td>08/01/2022</td>\n      <td>15:07:00</td>\n      <td>16.0</td>\n      <td>Colisión múltiple</td>\n      <td>NaN</td>\n      <td>Conductor</td>\n      <td>Desconocido</td>\n      <td>1</td>\n      <td>0</td>\n      <td>0.0</td>\n    </tr>\n    <tr>\n      <th>720</th>\n      <td>2022S000413</td>\n      <td>09/01/2022</td>\n      <td>12:46:00</td>\n      <td>17.0</td>\n      <td>Colisión múltiple</td>\n      <td>NaN</td>\n      <td>Conductor</td>\n      <td>Desconocido</td>\n      <td>1</td>\n      <td>0</td>\n      <td>0.0</td>\n    </tr>\n    <tr>\n      <th>...</th>\n      <td>...</td>\n      <td>...</td>\n      <td>...</td>\n      <td>...</td>\n      <td>...</td>\n      <td>...</td>\n      <td>...</td>\n      <td>...</td>\n      <td>...</td>\n      <td>...</td>\n      <td>...</td>\n    </tr>\n    <tr>\n      <th>74094</th>\n      <td>2023S027718</td>\n      <td>21/08/2023</td>\n      <td>16:10:00</td>\n      <td>21.0</td>\n      <td>Atropello a persona</td>\n      <td>NaN</td>\n      <td>Conductor</td>\n      <td>Desconocido</td>\n      <td>1</td>\n      <td>0</td>\n      <td>0.0</td>\n    </tr>\n    <tr>\n      <th>74095</th>\n      <td>2023S027718</td>\n      <td>21/08/2023</td>\n      <td>16:10:00</td>\n      <td>21.0</td>\n      <td>Atropello a persona</td>\n      <td>NaN</td>\n      <td>Peatón</td>\n      <td>De 55 a 59 años</td>\n      <td>1</td>\n      <td>0</td>\n      <td>0.0</td>\n    </tr>\n    <tr>\n      <th>74312</th>\n      <td>2023S027875</td>\n      <td>24/08/2023</td>\n      <td>16:45:00</td>\n      <td>2.0</td>\n      <td>Atropello a persona</td>\n      <td>NaN</td>\n      <td>Conductor</td>\n      <td>Desconocido</td>\n      <td>1</td>\n      <td>0</td>\n      <td>0.0</td>\n    </tr>\n    <tr>\n      <th>74321</th>\n      <td>2023S027879</td>\n      <td>24/08/2023</td>\n      <td>18:45:00</td>\n      <td>6.0</td>\n      <td>Caída</td>\n      <td>NaN</td>\n      <td>Conductor</td>\n      <td>Desconocido</td>\n      <td>0</td>\n      <td>0</td>\n      <td>0.0</td>\n    </tr>\n    <tr>\n      <th>74428</th>\n      <td>2023S027944</td>\n      <td>25/08/2023</td>\n      <td>20:15:00</td>\n      <td>13.0</td>\n      <td>Colisión lateral</td>\n      <td>NaN</td>\n      <td>Conductor</td>\n      <td>Desconocido</td>\n      <td>1</td>\n      <td>0</td>\n      <td>0.0</td>\n    </tr>\n  </tbody>\n</table>\n<p>452 rows × 11 columns</p>\n</div>"
     },
     "execution_count": 7,
     "metadata": {},
     "output_type": "execute_result"
    }
   ],
   "source": [
    "filas_con_nulos = df_2022['tipo_vehiculo'].isnull()\n",
    "df_2022[filas_con_nulos]"
   ],
   "metadata": {
    "collapsed": false,
    "ExecuteTime": {
     "end_time": "2023-10-26T13:41:23.741380008Z",
     "start_time": "2023-10-26T13:41:23.467031194Z"
    }
   },
   "id": "6c6350be1030b9ee"
  },
  {
   "cell_type": "code",
   "execution_count": 8,
   "outputs": [
    {
     "data": {
      "text/plain": "Empty DataFrame\nColumns: [num_expediente, fecha, hora, cod_distrito, tipo_accidente, tipo_vehiculo, tipo_persona, rango_edad, sexo, positiva_alcohol, positiva_droga]\nIndex: []",
      "text/html": "<div>\n<style scoped>\n    .dataframe tbody tr th:only-of-type {\n        vertical-align: middle;\n    }\n\n    .dataframe tbody tr th {\n        vertical-align: top;\n    }\n\n    .dataframe thead th {\n        text-align: right;\n    }\n</style>\n<table border=\"1\" class=\"dataframe\">\n  <thead>\n    <tr style=\"text-align: right;\">\n      <th></th>\n      <th>num_expediente</th>\n      <th>fecha</th>\n      <th>hora</th>\n      <th>cod_distrito</th>\n      <th>tipo_accidente</th>\n      <th>tipo_vehiculo</th>\n      <th>tipo_persona</th>\n      <th>rango_edad</th>\n      <th>sexo</th>\n      <th>positiva_alcohol</th>\n      <th>positiva_droga</th>\n    </tr>\n  </thead>\n  <tbody>\n  </tbody>\n</table>\n</div>"
     },
     "execution_count": 8,
     "metadata": {},
     "output_type": "execute_result"
    }
   ],
   "source": [
    "filas_con_nulos = df_2022['fecha'].isnull()\n",
    "df_2022[filas_con_nulos]"
   ],
   "metadata": {
    "collapsed": false,
    "ExecuteTime": {
     "end_time": "2023-10-26T13:41:23.742173594Z",
     "start_time": "2023-10-26T13:41:23.510351825Z"
    }
   },
   "id": "ba31c882d4dcb000"
  },
  {
   "cell_type": "code",
   "execution_count": 9,
   "outputs": [
    {
     "data": {
      "text/plain": "Empty DataFrame\nColumns: [num_expediente, fecha, hora, cod_distrito, tipo_accidente, tipo_vehiculo, tipo_persona, rango_edad, sexo, positiva_alcohol, positiva_droga]\nIndex: []",
      "text/html": "<div>\n<style scoped>\n    .dataframe tbody tr th:only-of-type {\n        vertical-align: middle;\n    }\n\n    .dataframe tbody tr th {\n        vertical-align: top;\n    }\n\n    .dataframe thead th {\n        text-align: right;\n    }\n</style>\n<table border=\"1\" class=\"dataframe\">\n  <thead>\n    <tr style=\"text-align: right;\">\n      <th></th>\n      <th>num_expediente</th>\n      <th>fecha</th>\n      <th>hora</th>\n      <th>cod_distrito</th>\n      <th>tipo_accidente</th>\n      <th>tipo_vehiculo</th>\n      <th>tipo_persona</th>\n      <th>rango_edad</th>\n      <th>sexo</th>\n      <th>positiva_alcohol</th>\n      <th>positiva_droga</th>\n    </tr>\n  </thead>\n  <tbody>\n  </tbody>\n</table>\n</div>"
     },
     "execution_count": 9,
     "metadata": {},
     "output_type": "execute_result"
    }
   ],
   "source": [
    "filas_con_nulos = df_2022['tipo_accidente'].isnull()\n",
    "df_2022[filas_con_nulos]"
   ],
   "metadata": {
    "collapsed": false,
    "ExecuteTime": {
     "end_time": "2023-10-26T13:41:23.742798252Z",
     "start_time": "2023-10-26T13:41:23.510735159Z"
    }
   },
   "id": "c33f632bed25d25e"
  },
  {
   "cell_type": "markdown",
   "source": [
    "Como solo es una entrada la vamos a eliminar"
   ],
   "metadata": {
    "collapsed": false
   },
   "id": "97f9d5dd118eec74"
  },
  {
   "cell_type": "code",
   "execution_count": 10,
   "outputs": [
    {
     "data": {
      "text/plain": "  num_expediente       fecha     hora  cod_distrito           tipo_accidente  \\\n0    2022S000001  01/01/2022  1:30:00          13.0                  Alcance   \n1    2022S000001  01/01/2022  1:30:00          13.0                  Alcance   \n2    2022S000002  01/01/2022  0:30:00           3.0  Colisión fronto-lateral   \n3    2022S000002  01/01/2022  0:30:00           3.0  Colisión fronto-lateral   \n4    2022S000002  01/01/2022  0:30:00           3.0  Colisión fronto-lateral   \n\n             tipo_vehiculo tipo_persona       rango_edad  sexo  \\\n0                  Turismo    Conductor  De 30 a 34 años     0   \n1                  Turismo    Conductor  De 45 a 49 años     1   \n2  Motocicleta hasta 125cc    Conductor  De 30 a 34 años     1   \n3  Motocicleta hasta 125cc     Pasajero  De 35 a 39 años     0   \n4                  Turismo    Conductor  De 40 a 44 años     1   \n\n   positiva_alcohol  positiva_droga  \n0                 0             0.0  \n1                 0             0.0  \n2                 1             0.0  \n3                 0             0.0  \n4                 0             0.0  ",
      "text/html": "<div>\n<style scoped>\n    .dataframe tbody tr th:only-of-type {\n        vertical-align: middle;\n    }\n\n    .dataframe tbody tr th {\n        vertical-align: top;\n    }\n\n    .dataframe thead th {\n        text-align: right;\n    }\n</style>\n<table border=\"1\" class=\"dataframe\">\n  <thead>\n    <tr style=\"text-align: right;\">\n      <th></th>\n      <th>num_expediente</th>\n      <th>fecha</th>\n      <th>hora</th>\n      <th>cod_distrito</th>\n      <th>tipo_accidente</th>\n      <th>tipo_vehiculo</th>\n      <th>tipo_persona</th>\n      <th>rango_edad</th>\n      <th>sexo</th>\n      <th>positiva_alcohol</th>\n      <th>positiva_droga</th>\n    </tr>\n  </thead>\n  <tbody>\n    <tr>\n      <th>0</th>\n      <td>2022S000001</td>\n      <td>01/01/2022</td>\n      <td>1:30:00</td>\n      <td>13.0</td>\n      <td>Alcance</td>\n      <td>Turismo</td>\n      <td>Conductor</td>\n      <td>De 30 a 34 años</td>\n      <td>0</td>\n      <td>0</td>\n      <td>0.0</td>\n    </tr>\n    <tr>\n      <th>1</th>\n      <td>2022S000001</td>\n      <td>01/01/2022</td>\n      <td>1:30:00</td>\n      <td>13.0</td>\n      <td>Alcance</td>\n      <td>Turismo</td>\n      <td>Conductor</td>\n      <td>De 45 a 49 años</td>\n      <td>1</td>\n      <td>0</td>\n      <td>0.0</td>\n    </tr>\n    <tr>\n      <th>2</th>\n      <td>2022S000002</td>\n      <td>01/01/2022</td>\n      <td>0:30:00</td>\n      <td>3.0</td>\n      <td>Colisión fronto-lateral</td>\n      <td>Motocicleta hasta 125cc</td>\n      <td>Conductor</td>\n      <td>De 30 a 34 años</td>\n      <td>1</td>\n      <td>1</td>\n      <td>0.0</td>\n    </tr>\n    <tr>\n      <th>3</th>\n      <td>2022S000002</td>\n      <td>01/01/2022</td>\n      <td>0:30:00</td>\n      <td>3.0</td>\n      <td>Colisión fronto-lateral</td>\n      <td>Motocicleta hasta 125cc</td>\n      <td>Pasajero</td>\n      <td>De 35 a 39 años</td>\n      <td>0</td>\n      <td>0</td>\n      <td>0.0</td>\n    </tr>\n    <tr>\n      <th>4</th>\n      <td>2022S000002</td>\n      <td>01/01/2022</td>\n      <td>0:30:00</td>\n      <td>3.0</td>\n      <td>Colisión fronto-lateral</td>\n      <td>Turismo</td>\n      <td>Conductor</td>\n      <td>De 40 a 44 años</td>\n      <td>1</td>\n      <td>0</td>\n      <td>0.0</td>\n    </tr>\n  </tbody>\n</table>\n</div>"
     },
     "execution_count": 10,
     "metadata": {},
     "output_type": "execute_result"
    }
   ],
   "source": [
    "df_2022 = df_2022.dropna(subset=['tipo_accidente'])\n",
    "df_2022.head()"
   ],
   "metadata": {
    "collapsed": false,
    "ExecuteTime": {
     "end_time": "2023-10-26T13:41:23.776815495Z",
     "start_time": "2023-10-26T13:41:23.511111789Z"
    }
   },
   "id": "e12fdd4176e91706"
  },
  {
   "cell_type": "code",
   "execution_count": 11,
   "outputs": [
    {
     "data": {
      "text/plain": "Empty DataFrame\nColumns: [num_expediente, fecha, hora, cod_distrito, tipo_accidente, tipo_vehiculo, tipo_persona, rango_edad, sexo, positiva_alcohol, positiva_droga]\nIndex: []",
      "text/html": "<div>\n<style scoped>\n    .dataframe tbody tr th:only-of-type {\n        vertical-align: middle;\n    }\n\n    .dataframe tbody tr th {\n        vertical-align: top;\n    }\n\n    .dataframe thead th {\n        text-align: right;\n    }\n</style>\n<table border=\"1\" class=\"dataframe\">\n  <thead>\n    <tr style=\"text-align: right;\">\n      <th></th>\n      <th>num_expediente</th>\n      <th>fecha</th>\n      <th>hora</th>\n      <th>cod_distrito</th>\n      <th>tipo_accidente</th>\n      <th>tipo_vehiculo</th>\n      <th>tipo_persona</th>\n      <th>rango_edad</th>\n      <th>sexo</th>\n      <th>positiva_alcohol</th>\n      <th>positiva_droga</th>\n    </tr>\n  </thead>\n  <tbody>\n  </tbody>\n</table>\n</div>"
     },
     "execution_count": 11,
     "metadata": {},
     "output_type": "execute_result"
    }
   ],
   "source": [
    "filas_con_nulos = df_2022['sexo'].isnull()\n",
    "df_2022[filas_con_nulos]"
   ],
   "metadata": {
    "collapsed": false,
    "ExecuteTime": {
     "end_time": "2023-10-26T13:41:23.777830441Z",
     "start_time": "2023-10-26T13:41:23.554213332Z"
    }
   },
   "id": "13339743897217f"
  },
  {
   "cell_type": "code",
   "execution_count": 12,
   "outputs": [
    {
     "data": {
      "text/plain": "Empty DataFrame\nColumns: [num_expediente, fecha, hora, cod_distrito, tipo_accidente, tipo_vehiculo, tipo_persona, rango_edad, sexo, positiva_alcohol, positiva_droga]\nIndex: []",
      "text/html": "<div>\n<style scoped>\n    .dataframe tbody tr th:only-of-type {\n        vertical-align: middle;\n    }\n\n    .dataframe tbody tr th {\n        vertical-align: top;\n    }\n\n    .dataframe thead th {\n        text-align: right;\n    }\n</style>\n<table border=\"1\" class=\"dataframe\">\n  <thead>\n    <tr style=\"text-align: right;\">\n      <th></th>\n      <th>num_expediente</th>\n      <th>fecha</th>\n      <th>hora</th>\n      <th>cod_distrito</th>\n      <th>tipo_accidente</th>\n      <th>tipo_vehiculo</th>\n      <th>tipo_persona</th>\n      <th>rango_edad</th>\n      <th>sexo</th>\n      <th>positiva_alcohol</th>\n      <th>positiva_droga</th>\n    </tr>\n  </thead>\n  <tbody>\n  </tbody>\n</table>\n</div>"
     },
     "execution_count": 12,
     "metadata": {},
     "output_type": "execute_result"
    }
   ],
   "source": [
    "filas_con_nulos = df_2022['positiva_alcohol'].isnull()\n",
    "df_2022[filas_con_nulos]"
   ],
   "metadata": {
    "collapsed": false,
    "ExecuteTime": {
     "end_time": "2023-10-26T13:41:23.778754111Z",
     "start_time": "2023-10-26T13:41:23.554668515Z"
    }
   },
   "id": "9024c37ee241a907"
  },
  {
   "cell_type": "code",
   "execution_count": 13,
   "outputs": [
    {
     "data": {
      "text/plain": "Empty DataFrame\nColumns: [num_expediente, fecha, hora, cod_distrito, tipo_accidente, tipo_vehiculo, tipo_persona, rango_edad, sexo, positiva_alcohol, positiva_droga]\nIndex: []",
      "text/html": "<div>\n<style scoped>\n    .dataframe tbody tr th:only-of-type {\n        vertical-align: middle;\n    }\n\n    .dataframe tbody tr th {\n        vertical-align: top;\n    }\n\n    .dataframe thead th {\n        text-align: right;\n    }\n</style>\n<table border=\"1\" class=\"dataframe\">\n  <thead>\n    <tr style=\"text-align: right;\">\n      <th></th>\n      <th>num_expediente</th>\n      <th>fecha</th>\n      <th>hora</th>\n      <th>cod_distrito</th>\n      <th>tipo_accidente</th>\n      <th>tipo_vehiculo</th>\n      <th>tipo_persona</th>\n      <th>rango_edad</th>\n      <th>sexo</th>\n      <th>positiva_alcohol</th>\n      <th>positiva_droga</th>\n    </tr>\n  </thead>\n  <tbody>\n  </tbody>\n</table>\n</div>"
     },
     "execution_count": 13,
     "metadata": {},
     "output_type": "execute_result"
    }
   ],
   "source": [
    "filas_con_nulos = df_2022['positiva_droga'].isnull()\n",
    "df_2022[filas_con_nulos]"
   ],
   "metadata": {
    "collapsed": false,
    "ExecuteTime": {
     "end_time": "2023-10-26T13:41:23.809869728Z",
     "start_time": "2023-10-26T13:41:23.560959933Z"
    }
   },
   "id": "3b33a36082beac57"
  },
  {
   "cell_type": "markdown",
   "source": [
    "### Tratamiento de fechas\n",
    "Para que sea posible para nuestro modelo inferir de los datos, preferimos que las fechas y las horas se expresen en valores continuos.\n",
    "Para lograrlo, vamos a traducir la fecha a minutos desde el 00:00. La fecha se traducirá en días desde el 1-1-20XX.\n",
    "\n",
    "Necesitamos un dato extra que puede ser interesante agregar, festivos y fines de semana. Se añadirá esa columna con esa información relevante. Seguiremos la siguiente convención con los 14 días festivos anuales de la ciudad de Madrid, por lo que serán 10 festivos nacionales, 2 festivos autonómicos (Com. Madrid) y 2 festivos locales (Madrid).\n",
    "* Se denotará día laboral por 0, y día festivo o de descanso por 1.\n"
   ],
   "metadata": {
    "collapsed": false
   },
   "id": "99ebf5f394f1aefb"
  },
  {
   "cell_type": "markdown",
   "source": [
    "Calcular fines de semana y festivos.\n",
    "\n",
    "Una rápida búsqueda por internet nos da los 14 días festivos. La fuente es el calendario de laboral de la Agencia Tributaria"
   ],
   "metadata": {
    "collapsed": false
   },
   "id": "79eb0def82d63348"
  },
  {
   "cell_type": "code",
   "execution_count": 14,
   "outputs": [
    {
     "data": {
      "text/plain": "  num_expediente       fecha     hora  cod_distrito           tipo_accidente  \\\n0    2022S000001  01/01/2022  1:30:00          13.0                  Alcance   \n1    2022S000001  01/01/2022  1:30:00          13.0                  Alcance   \n2    2022S000002  01/01/2022  0:30:00           3.0  Colisión fronto-lateral   \n3    2022S000002  01/01/2022  0:30:00           3.0  Colisión fronto-lateral   \n4    2022S000002  01/01/2022  0:30:00           3.0  Colisión fronto-lateral   \n\n             tipo_vehiculo tipo_persona       rango_edad  sexo  \\\n0                  Turismo    Conductor  De 30 a 34 años     0   \n1                  Turismo    Conductor  De 45 a 49 años     1   \n2  Motocicleta hasta 125cc    Conductor  De 30 a 34 años     1   \n3  Motocicleta hasta 125cc     Pasajero  De 35 a 39 años     0   \n4                  Turismo    Conductor  De 40 a 44 años     1   \n\n   positiva_alcohol  positiva_droga  bool_laborable  \n0                 0             0.0               0  \n1                 0             0.0               0  \n2                 1             0.0               0  \n3                 0             0.0               0  \n4                 0             0.0               0  ",
      "text/html": "<div>\n<style scoped>\n    .dataframe tbody tr th:only-of-type {\n        vertical-align: middle;\n    }\n\n    .dataframe tbody tr th {\n        vertical-align: top;\n    }\n\n    .dataframe thead th {\n        text-align: right;\n    }\n</style>\n<table border=\"1\" class=\"dataframe\">\n  <thead>\n    <tr style=\"text-align: right;\">\n      <th></th>\n      <th>num_expediente</th>\n      <th>fecha</th>\n      <th>hora</th>\n      <th>cod_distrito</th>\n      <th>tipo_accidente</th>\n      <th>tipo_vehiculo</th>\n      <th>tipo_persona</th>\n      <th>rango_edad</th>\n      <th>sexo</th>\n      <th>positiva_alcohol</th>\n      <th>positiva_droga</th>\n      <th>bool_laborable</th>\n    </tr>\n  </thead>\n  <tbody>\n    <tr>\n      <th>0</th>\n      <td>2022S000001</td>\n      <td>01/01/2022</td>\n      <td>1:30:00</td>\n      <td>13.0</td>\n      <td>Alcance</td>\n      <td>Turismo</td>\n      <td>Conductor</td>\n      <td>De 30 a 34 años</td>\n      <td>0</td>\n      <td>0</td>\n      <td>0.0</td>\n      <td>0</td>\n    </tr>\n    <tr>\n      <th>1</th>\n      <td>2022S000001</td>\n      <td>01/01/2022</td>\n      <td>1:30:00</td>\n      <td>13.0</td>\n      <td>Alcance</td>\n      <td>Turismo</td>\n      <td>Conductor</td>\n      <td>De 45 a 49 años</td>\n      <td>1</td>\n      <td>0</td>\n      <td>0.0</td>\n      <td>0</td>\n    </tr>\n    <tr>\n      <th>2</th>\n      <td>2022S000002</td>\n      <td>01/01/2022</td>\n      <td>0:30:00</td>\n      <td>3.0</td>\n      <td>Colisión fronto-lateral</td>\n      <td>Motocicleta hasta 125cc</td>\n      <td>Conductor</td>\n      <td>De 30 a 34 años</td>\n      <td>1</td>\n      <td>1</td>\n      <td>0.0</td>\n      <td>0</td>\n    </tr>\n    <tr>\n      <th>3</th>\n      <td>2022S000002</td>\n      <td>01/01/2022</td>\n      <td>0:30:00</td>\n      <td>3.0</td>\n      <td>Colisión fronto-lateral</td>\n      <td>Motocicleta hasta 125cc</td>\n      <td>Pasajero</td>\n      <td>De 35 a 39 años</td>\n      <td>0</td>\n      <td>0</td>\n      <td>0.0</td>\n      <td>0</td>\n    </tr>\n    <tr>\n      <th>4</th>\n      <td>2022S000002</td>\n      <td>01/01/2022</td>\n      <td>0:30:00</td>\n      <td>3.0</td>\n      <td>Colisión fronto-lateral</td>\n      <td>Turismo</td>\n      <td>Conductor</td>\n      <td>De 40 a 44 años</td>\n      <td>1</td>\n      <td>0</td>\n      <td>0.0</td>\n      <td>0</td>\n    </tr>\n  </tbody>\n</table>\n</div>"
     },
     "execution_count": 14,
     "metadata": {},
     "output_type": "execute_result"
    }
   ],
   "source": [
    "from datetime import datetime\n",
    "\n",
    "\n",
    "def is_work_day(date_str: str) -> int:\n",
    "    date_format = '%d/%m/%Y'  # Formato para 'dd-MM-yyyy'\n",
    "\n",
    "    holidays_madrid = ['']  # todo\n",
    "    try:\n",
    "        date_obj = datetime.strptime(date_str, date_format)\n",
    "        day_of_week_int = date_obj.weekday()\n",
    "        if day_of_week_int == 5 or day_of_week_int == 6 or date_str in holidays_madrid:\n",
    "            return 0\n",
    "        return 1\n",
    "\n",
    "    except ValueError:\n",
    "        return -1\n",
    "\n",
    "\n",
    "df_2022['bool_laborable'] = df_2022['fecha'].transform(is_work_day)\n",
    "df_2022.head()"
   ],
   "metadata": {
    "collapsed": false,
    "ExecuteTime": {
     "end_time": "2023-10-26T13:41:24.315169100Z",
     "start_time": "2023-10-26T13:41:23.575614063Z"
    }
   },
   "id": "1fa7e76d9088d60d"
  },
  {
   "cell_type": "markdown",
   "source": [
    "Procedemos a granular las para que nuestro modelo lo pueda interpretar esos números. Separamos en día, y en mes"
   ],
   "metadata": {
    "collapsed": false
   },
   "id": "9a9a465090acc10d"
  },
  {
   "cell_type": "code",
   "execution_count": 15,
   "outputs": [
    {
     "data": {
      "text/plain": "  num_expediente       fecha     hora  cod_distrito           tipo_accidente  \\\n0    2022S000001  01/01/2022  1:30:00          13.0                  Alcance   \n1    2022S000001  01/01/2022  1:30:00          13.0                  Alcance   \n2    2022S000002  01/01/2022  0:30:00           3.0  Colisión fronto-lateral   \n3    2022S000002  01/01/2022  0:30:00           3.0  Colisión fronto-lateral   \n4    2022S000002  01/01/2022  0:30:00           3.0  Colisión fronto-lateral   \n\n             tipo_vehiculo tipo_persona       rango_edad  sexo  \\\n0                  Turismo    Conductor  De 30 a 34 años     0   \n1                  Turismo    Conductor  De 45 a 49 años     1   \n2  Motocicleta hasta 125cc    Conductor  De 30 a 34 años     1   \n3  Motocicleta hasta 125cc     Pasajero  De 35 a 39 años     0   \n4                  Turismo    Conductor  De 40 a 44 años     1   \n\n   positiva_alcohol  positiva_droga  bool_laborable  day  month  \n0                 0             0.0               0    1      1  \n1                 0             0.0               0    1      1  \n2                 1             0.0               0    1      1  \n3                 0             0.0               0    1      1  \n4                 0             0.0               0    1      1  ",
      "text/html": "<div>\n<style scoped>\n    .dataframe tbody tr th:only-of-type {\n        vertical-align: middle;\n    }\n\n    .dataframe tbody tr th {\n        vertical-align: top;\n    }\n\n    .dataframe thead th {\n        text-align: right;\n    }\n</style>\n<table border=\"1\" class=\"dataframe\">\n  <thead>\n    <tr style=\"text-align: right;\">\n      <th></th>\n      <th>num_expediente</th>\n      <th>fecha</th>\n      <th>hora</th>\n      <th>cod_distrito</th>\n      <th>tipo_accidente</th>\n      <th>tipo_vehiculo</th>\n      <th>tipo_persona</th>\n      <th>rango_edad</th>\n      <th>sexo</th>\n      <th>positiva_alcohol</th>\n      <th>positiva_droga</th>\n      <th>bool_laborable</th>\n      <th>day</th>\n      <th>month</th>\n    </tr>\n  </thead>\n  <tbody>\n    <tr>\n      <th>0</th>\n      <td>2022S000001</td>\n      <td>01/01/2022</td>\n      <td>1:30:00</td>\n      <td>13.0</td>\n      <td>Alcance</td>\n      <td>Turismo</td>\n      <td>Conductor</td>\n      <td>De 30 a 34 años</td>\n      <td>0</td>\n      <td>0</td>\n      <td>0.0</td>\n      <td>0</td>\n      <td>1</td>\n      <td>1</td>\n    </tr>\n    <tr>\n      <th>1</th>\n      <td>2022S000001</td>\n      <td>01/01/2022</td>\n      <td>1:30:00</td>\n      <td>13.0</td>\n      <td>Alcance</td>\n      <td>Turismo</td>\n      <td>Conductor</td>\n      <td>De 45 a 49 años</td>\n      <td>1</td>\n      <td>0</td>\n      <td>0.0</td>\n      <td>0</td>\n      <td>1</td>\n      <td>1</td>\n    </tr>\n    <tr>\n      <th>2</th>\n      <td>2022S000002</td>\n      <td>01/01/2022</td>\n      <td>0:30:00</td>\n      <td>3.0</td>\n      <td>Colisión fronto-lateral</td>\n      <td>Motocicleta hasta 125cc</td>\n      <td>Conductor</td>\n      <td>De 30 a 34 años</td>\n      <td>1</td>\n      <td>1</td>\n      <td>0.0</td>\n      <td>0</td>\n      <td>1</td>\n      <td>1</td>\n    </tr>\n    <tr>\n      <th>3</th>\n      <td>2022S000002</td>\n      <td>01/01/2022</td>\n      <td>0:30:00</td>\n      <td>3.0</td>\n      <td>Colisión fronto-lateral</td>\n      <td>Motocicleta hasta 125cc</td>\n      <td>Pasajero</td>\n      <td>De 35 a 39 años</td>\n      <td>0</td>\n      <td>0</td>\n      <td>0.0</td>\n      <td>0</td>\n      <td>1</td>\n      <td>1</td>\n    </tr>\n    <tr>\n      <th>4</th>\n      <td>2022S000002</td>\n      <td>01/01/2022</td>\n      <td>0:30:00</td>\n      <td>3.0</td>\n      <td>Colisión fronto-lateral</td>\n      <td>Turismo</td>\n      <td>Conductor</td>\n      <td>De 40 a 44 años</td>\n      <td>1</td>\n      <td>0</td>\n      <td>0.0</td>\n      <td>0</td>\n      <td>1</td>\n      <td>1</td>\n    </tr>\n  </tbody>\n</table>\n</div>"
     },
     "execution_count": 15,
     "metadata": {},
     "output_type": "execute_result"
    }
   ],
   "source": [
    "def extract_day(date_str: str) -> int:\n",
    "    date_parts = date_str.split('/')\n",
    "    if len(date_parts) >= 3:\n",
    "        return int(date_parts[0])\n",
    "\n",
    "\n",
    "def extract_month(date_str: str) -> int:\n",
    "    date_parts = date_str.split('/')\n",
    "    if len(date_parts) >= 3:\n",
    "        return int(date_parts[1])\n",
    "\n",
    "\n",
    "df_2022['day'] = df_2022['fecha'].transform(extract_day)\n",
    "df_2022['month'] = df_2022['fecha'].transform(extract_month)\n",
    "df_2022.head()"
   ],
   "metadata": {
    "collapsed": false,
    "ExecuteTime": {
     "end_time": "2023-10-26T13:41:24.317225801Z",
     "start_time": "2023-10-26T13:41:24.018406780Z"
    }
   },
   "id": "dafb8dcef67108ce"
  },
  {
   "cell_type": "markdown",
   "source": [
    "Dropeamos la columna ya que hemos extraído los datos"
   ],
   "metadata": {
    "collapsed": false
   },
   "id": "bf5d44704b975b43"
  },
  {
   "cell_type": "code",
   "execution_count": 16,
   "outputs": [
    {
     "data": {
      "text/plain": "  num_expediente     hora  cod_distrito           tipo_accidente  \\\n0    2022S000001  1:30:00          13.0                  Alcance   \n1    2022S000001  1:30:00          13.0                  Alcance   \n2    2022S000002  0:30:00           3.0  Colisión fronto-lateral   \n3    2022S000002  0:30:00           3.0  Colisión fronto-lateral   \n4    2022S000002  0:30:00           3.0  Colisión fronto-lateral   \n\n             tipo_vehiculo tipo_persona       rango_edad  sexo  \\\n0                  Turismo    Conductor  De 30 a 34 años     0   \n1                  Turismo    Conductor  De 45 a 49 años     1   \n2  Motocicleta hasta 125cc    Conductor  De 30 a 34 años     1   \n3  Motocicleta hasta 125cc     Pasajero  De 35 a 39 años     0   \n4                  Turismo    Conductor  De 40 a 44 años     1   \n\n   positiva_alcohol  positiva_droga  bool_laborable  day  month  \n0                 0             0.0               0    1      1  \n1                 0             0.0               0    1      1  \n2                 1             0.0               0    1      1  \n3                 0             0.0               0    1      1  \n4                 0             0.0               0    1      1  ",
      "text/html": "<div>\n<style scoped>\n    .dataframe tbody tr th:only-of-type {\n        vertical-align: middle;\n    }\n\n    .dataframe tbody tr th {\n        vertical-align: top;\n    }\n\n    .dataframe thead th {\n        text-align: right;\n    }\n</style>\n<table border=\"1\" class=\"dataframe\">\n  <thead>\n    <tr style=\"text-align: right;\">\n      <th></th>\n      <th>num_expediente</th>\n      <th>hora</th>\n      <th>cod_distrito</th>\n      <th>tipo_accidente</th>\n      <th>tipo_vehiculo</th>\n      <th>tipo_persona</th>\n      <th>rango_edad</th>\n      <th>sexo</th>\n      <th>positiva_alcohol</th>\n      <th>positiva_droga</th>\n      <th>bool_laborable</th>\n      <th>day</th>\n      <th>month</th>\n    </tr>\n  </thead>\n  <tbody>\n    <tr>\n      <th>0</th>\n      <td>2022S000001</td>\n      <td>1:30:00</td>\n      <td>13.0</td>\n      <td>Alcance</td>\n      <td>Turismo</td>\n      <td>Conductor</td>\n      <td>De 30 a 34 años</td>\n      <td>0</td>\n      <td>0</td>\n      <td>0.0</td>\n      <td>0</td>\n      <td>1</td>\n      <td>1</td>\n    </tr>\n    <tr>\n      <th>1</th>\n      <td>2022S000001</td>\n      <td>1:30:00</td>\n      <td>13.0</td>\n      <td>Alcance</td>\n      <td>Turismo</td>\n      <td>Conductor</td>\n      <td>De 45 a 49 años</td>\n      <td>1</td>\n      <td>0</td>\n      <td>0.0</td>\n      <td>0</td>\n      <td>1</td>\n      <td>1</td>\n    </tr>\n    <tr>\n      <th>2</th>\n      <td>2022S000002</td>\n      <td>0:30:00</td>\n      <td>3.0</td>\n      <td>Colisión fronto-lateral</td>\n      <td>Motocicleta hasta 125cc</td>\n      <td>Conductor</td>\n      <td>De 30 a 34 años</td>\n      <td>1</td>\n      <td>1</td>\n      <td>0.0</td>\n      <td>0</td>\n      <td>1</td>\n      <td>1</td>\n    </tr>\n    <tr>\n      <th>3</th>\n      <td>2022S000002</td>\n      <td>0:30:00</td>\n      <td>3.0</td>\n      <td>Colisión fronto-lateral</td>\n      <td>Motocicleta hasta 125cc</td>\n      <td>Pasajero</td>\n      <td>De 35 a 39 años</td>\n      <td>0</td>\n      <td>0</td>\n      <td>0.0</td>\n      <td>0</td>\n      <td>1</td>\n      <td>1</td>\n    </tr>\n    <tr>\n      <th>4</th>\n      <td>2022S000002</td>\n      <td>0:30:00</td>\n      <td>3.0</td>\n      <td>Colisión fronto-lateral</td>\n      <td>Turismo</td>\n      <td>Conductor</td>\n      <td>De 40 a 44 años</td>\n      <td>1</td>\n      <td>0</td>\n      <td>0.0</td>\n      <td>0</td>\n      <td>1</td>\n      <td>1</td>\n    </tr>\n  </tbody>\n</table>\n</div>"
     },
     "execution_count": 16,
     "metadata": {},
     "output_type": "execute_result"
    }
   ],
   "source": [
    "df_2022.pop('fecha')\n",
    "df_2022.head()"
   ],
   "metadata": {
    "collapsed": false,
    "ExecuteTime": {
     "end_time": "2023-10-26T13:41:24.388956377Z",
     "start_time": "2023-10-26T13:41:24.149940868Z"
    }
   },
   "id": "19cea985c07acef8"
  },
  {
   "cell_type": "markdown",
   "source": [
    "Calcular la hora a minutos desde las 00:00"
   ],
   "metadata": {
    "collapsed": false
   },
   "id": "a0ad0cd2bcc3da6d"
  },
  {
   "cell_type": "code",
   "execution_count": 17,
   "outputs": [],
   "source": [
    "def minutes_from_midnight(hour_str: str) -> int:\n",
    "    clock = hour_str.split(':')\n",
    "    minutes = 0\n",
    "\n",
    "    minutes = int(clock[0]) * 60\n",
    "    minutes = minutes + int(clock[1])\n",
    "\n",
    "    return minutes\n",
    "\n",
    "\n",
    "df_2022['hora'] = df_2022['hora'].transform(minutes_from_midnight)"
   ],
   "metadata": {
    "collapsed": false,
    "ExecuteTime": {
     "end_time": "2023-10-26T13:41:24.468754118Z",
     "start_time": "2023-10-26T13:41:24.150330049Z"
    }
   },
   "id": "719aac07c7bc6a8e"
  },
  {
   "cell_type": "code",
   "execution_count": 18,
   "outputs": [
    {
     "data": {
      "text/plain": "  num_expediente   minutes_from_midnight  cod_distrito  \\\n0    2022S000001                      90          13.0   \n1    2022S000001                      90          13.0   \n2    2022S000002                      30           3.0   \n3    2022S000002                      30           3.0   \n4    2022S000002                      30           3.0   \n\n            tipo_accidente            tipo_vehiculo tipo_persona  \\\n0                  Alcance                  Turismo    Conductor   \n1                  Alcance                  Turismo    Conductor   \n2  Colisión fronto-lateral  Motocicleta hasta 125cc    Conductor   \n3  Colisión fronto-lateral  Motocicleta hasta 125cc     Pasajero   \n4  Colisión fronto-lateral                  Turismo    Conductor   \n\n        rango_edad  sexo  positiva_alcohol  positiva_droga  bool_laborable  \\\n0  De 30 a 34 años     0                 0             0.0               0   \n1  De 45 a 49 años     1                 0             0.0               0   \n2  De 30 a 34 años     1                 1             0.0               0   \n3  De 35 a 39 años     0                 0             0.0               0   \n4  De 40 a 44 años     1                 0             0.0               0   \n\n   day  month  \n0    1      1  \n1    1      1  \n2    1      1  \n3    1      1  \n4    1      1  ",
      "text/html": "<div>\n<style scoped>\n    .dataframe tbody tr th:only-of-type {\n        vertical-align: middle;\n    }\n\n    .dataframe tbody tr th {\n        vertical-align: top;\n    }\n\n    .dataframe thead th {\n        text-align: right;\n    }\n</style>\n<table border=\"1\" class=\"dataframe\">\n  <thead>\n    <tr style=\"text-align: right;\">\n      <th></th>\n      <th>num_expediente</th>\n      <th>minutes_from_midnight</th>\n      <th>cod_distrito</th>\n      <th>tipo_accidente</th>\n      <th>tipo_vehiculo</th>\n      <th>tipo_persona</th>\n      <th>rango_edad</th>\n      <th>sexo</th>\n      <th>positiva_alcohol</th>\n      <th>positiva_droga</th>\n      <th>bool_laborable</th>\n      <th>day</th>\n      <th>month</th>\n    </tr>\n  </thead>\n  <tbody>\n    <tr>\n      <th>0</th>\n      <td>2022S000001</td>\n      <td>90</td>\n      <td>13.0</td>\n      <td>Alcance</td>\n      <td>Turismo</td>\n      <td>Conductor</td>\n      <td>De 30 a 34 años</td>\n      <td>0</td>\n      <td>0</td>\n      <td>0.0</td>\n      <td>0</td>\n      <td>1</td>\n      <td>1</td>\n    </tr>\n    <tr>\n      <th>1</th>\n      <td>2022S000001</td>\n      <td>90</td>\n      <td>13.0</td>\n      <td>Alcance</td>\n      <td>Turismo</td>\n      <td>Conductor</td>\n      <td>De 45 a 49 años</td>\n      <td>1</td>\n      <td>0</td>\n      <td>0.0</td>\n      <td>0</td>\n      <td>1</td>\n      <td>1</td>\n    </tr>\n    <tr>\n      <th>2</th>\n      <td>2022S000002</td>\n      <td>30</td>\n      <td>3.0</td>\n      <td>Colisión fronto-lateral</td>\n      <td>Motocicleta hasta 125cc</td>\n      <td>Conductor</td>\n      <td>De 30 a 34 años</td>\n      <td>1</td>\n      <td>1</td>\n      <td>0.0</td>\n      <td>0</td>\n      <td>1</td>\n      <td>1</td>\n    </tr>\n    <tr>\n      <th>3</th>\n      <td>2022S000002</td>\n      <td>30</td>\n      <td>3.0</td>\n      <td>Colisión fronto-lateral</td>\n      <td>Motocicleta hasta 125cc</td>\n      <td>Pasajero</td>\n      <td>De 35 a 39 años</td>\n      <td>0</td>\n      <td>0</td>\n      <td>0.0</td>\n      <td>0</td>\n      <td>1</td>\n      <td>1</td>\n    </tr>\n    <tr>\n      <th>4</th>\n      <td>2022S000002</td>\n      <td>30</td>\n      <td>3.0</td>\n      <td>Colisión fronto-lateral</td>\n      <td>Turismo</td>\n      <td>Conductor</td>\n      <td>De 40 a 44 años</td>\n      <td>1</td>\n      <td>0</td>\n      <td>0.0</td>\n      <td>0</td>\n      <td>1</td>\n      <td>1</td>\n    </tr>\n  </tbody>\n</table>\n</div>"
     },
     "execution_count": 18,
     "metadata": {},
     "output_type": "execute_result"
    }
   ],
   "source": [
    "df_2022.rename(columns={'hora': ' minutes_from_midnight'}, inplace=True)\n",
    "df_2022.head()"
   ],
   "metadata": {
    "collapsed": false,
    "ExecuteTime": {
     "end_time": "2023-10-26T13:41:24.469901351Z",
     "start_time": "2023-10-26T13:41:24.194089017Z"
    }
   },
   "id": "dcd7189156e40cbd"
  },
  {
   "cell_type": "markdown",
   "source": [
    "### Codificar en números\n",
    "Ahora computaremos la media aritmética de edad de todos los pasajeros del vehículo. Pero primero vamos a especificar unas marcas de clase para rango_edad.\n",
    "Transformar rango de edad en la media del mayor y el menor. Los desconocidos se asignarán None.\n",
    "\n",
    "18 a 20 años -> 19\n",
    "21 a 24 años -> 22.5\n",
    "etc"
   ],
   "metadata": {
    "collapsed": false
   },
   "id": "afc283b49c817932"
  },
  {
   "cell_type": "code",
   "execution_count": 19,
   "outputs": [
    {
     "data": {
      "text/plain": "  num_expediente   minutes_from_midnight  cod_distrito  \\\n0    2022S000001                      90          13.0   \n1    2022S000001                      90          13.0   \n2    2022S000002                      30           3.0   \n3    2022S000002                      30           3.0   \n4    2022S000002                      30           3.0   \n\n            tipo_accidente            tipo_vehiculo tipo_persona  \\\n0                  Alcance                  Turismo    Conductor   \n1                  Alcance                  Turismo    Conductor   \n2  Colisión fronto-lateral  Motocicleta hasta 125cc    Conductor   \n3  Colisión fronto-lateral  Motocicleta hasta 125cc     Pasajero   \n4  Colisión fronto-lateral                  Turismo    Conductor   \n\n   marca_de_clase_edad  sexo  positiva_alcohol  positiva_droga  \\\n0                 32.0     0                 0             0.0   \n1                 47.0     1                 0             0.0   \n2                 32.0     1                 1             0.0   \n3                 37.0     0                 0             0.0   \n4                 42.0     1                 0             0.0   \n\n   bool_laborable  day  month  \n0               0    1      1  \n1               0    1      1  \n2               0    1      1  \n3               0    1      1  \n4               0    1      1  ",
      "text/html": "<div>\n<style scoped>\n    .dataframe tbody tr th:only-of-type {\n        vertical-align: middle;\n    }\n\n    .dataframe tbody tr th {\n        vertical-align: top;\n    }\n\n    .dataframe thead th {\n        text-align: right;\n    }\n</style>\n<table border=\"1\" class=\"dataframe\">\n  <thead>\n    <tr style=\"text-align: right;\">\n      <th></th>\n      <th>num_expediente</th>\n      <th>minutes_from_midnight</th>\n      <th>cod_distrito</th>\n      <th>tipo_accidente</th>\n      <th>tipo_vehiculo</th>\n      <th>tipo_persona</th>\n      <th>marca_de_clase_edad</th>\n      <th>sexo</th>\n      <th>positiva_alcohol</th>\n      <th>positiva_droga</th>\n      <th>bool_laborable</th>\n      <th>day</th>\n      <th>month</th>\n    </tr>\n  </thead>\n  <tbody>\n    <tr>\n      <th>0</th>\n      <td>2022S000001</td>\n      <td>90</td>\n      <td>13.0</td>\n      <td>Alcance</td>\n      <td>Turismo</td>\n      <td>Conductor</td>\n      <td>32.0</td>\n      <td>0</td>\n      <td>0</td>\n      <td>0.0</td>\n      <td>0</td>\n      <td>1</td>\n      <td>1</td>\n    </tr>\n    <tr>\n      <th>1</th>\n      <td>2022S000001</td>\n      <td>90</td>\n      <td>13.0</td>\n      <td>Alcance</td>\n      <td>Turismo</td>\n      <td>Conductor</td>\n      <td>47.0</td>\n      <td>1</td>\n      <td>0</td>\n      <td>0.0</td>\n      <td>0</td>\n      <td>1</td>\n      <td>1</td>\n    </tr>\n    <tr>\n      <th>2</th>\n      <td>2022S000002</td>\n      <td>30</td>\n      <td>3.0</td>\n      <td>Colisión fronto-lateral</td>\n      <td>Motocicleta hasta 125cc</td>\n      <td>Conductor</td>\n      <td>32.0</td>\n      <td>1</td>\n      <td>1</td>\n      <td>0.0</td>\n      <td>0</td>\n      <td>1</td>\n      <td>1</td>\n    </tr>\n    <tr>\n      <th>3</th>\n      <td>2022S000002</td>\n      <td>30</td>\n      <td>3.0</td>\n      <td>Colisión fronto-lateral</td>\n      <td>Motocicleta hasta 125cc</td>\n      <td>Pasajero</td>\n      <td>37.0</td>\n      <td>0</td>\n      <td>0</td>\n      <td>0.0</td>\n      <td>0</td>\n      <td>1</td>\n      <td>1</td>\n    </tr>\n    <tr>\n      <th>4</th>\n      <td>2022S000002</td>\n      <td>30</td>\n      <td>3.0</td>\n      <td>Colisión fronto-lateral</td>\n      <td>Turismo</td>\n      <td>Conductor</td>\n      <td>42.0</td>\n      <td>1</td>\n      <td>0</td>\n      <td>0.0</td>\n      <td>0</td>\n      <td>1</td>\n      <td>1</td>\n    </tr>\n  </tbody>\n</table>\n</div>"
     },
     "execution_count": 19,
     "metadata": {},
     "output_type": "execute_result"
    }
   ],
   "source": [
    "import re\n",
    "\n",
    "\n",
    "def marca_de_clase_rango_edad(edad: str) -> float:\n",
    "    regex_format = r'\\b\\d+\\b'\n",
    "    numbers = re.findall(regex_format, edad)\n",
    "    if len(numbers) >= 2:\n",
    "        return (int(numbers[0]) + int(numbers[1])) / 2\n",
    "    else:\n",
    "        return -1\n",
    "\n",
    "\n",
    "df_2022['rango_edad'] = df_2022['rango_edad'].apply(marca_de_clase_rango_edad)\n",
    "df_2022.rename(columns={'rango_edad': 'marca_de_clase_edad'}, inplace=True)\n",
    "df_2022.head()"
   ],
   "metadata": {
    "collapsed": false,
    "ExecuteTime": {
     "end_time": "2023-10-26T13:41:24.518951183Z",
     "start_time": "2023-10-26T13:41:24.194383779Z"
    }
   },
   "id": "e10c6f740bac4ec5"
  },
  {
   "cell_type": "markdown",
   "source": [
    "Ahora computamos la media de edad de todos los pasajeros"
   ],
   "metadata": {
    "collapsed": false
   },
   "id": "f551c51960cd13a7"
  },
  {
   "cell_type": "code",
   "execution_count": 20,
   "outputs": [
    {
     "data": {
      "text/plain": "  num_expediente   minutes_from_midnight  cod_distrito  \\\n0    2022S000001                      90          13.0   \n1    2022S000001                      90          13.0   \n2    2022S000002                      30           3.0   \n3    2022S000002                      30           3.0   \n4    2022S000002                      30           3.0   \n\n            tipo_accidente            tipo_vehiculo tipo_persona  \\\n0                  Alcance                  Turismo    Conductor   \n1                  Alcance                  Turismo    Conductor   \n2  Colisión fronto-lateral  Motocicleta hasta 125cc    Conductor   \n3  Colisión fronto-lateral  Motocicleta hasta 125cc     Pasajero   \n4  Colisión fronto-lateral                  Turismo    Conductor   \n\n   marca_de_clase_edad  sexo  positiva_alcohol  positiva_droga  \\\n0                 32.0     0                 0             0.0   \n1                 47.0     1                 0             0.0   \n2                 32.0     1                 1             0.0   \n3                 37.0     0                 0             0.0   \n4                 42.0     1                 0             0.0   \n\n   bool_laborable  day  month  media_edad_pasajeros  numero_pasajeros  \n0               0    1      1                  39.5                 2  \n1               0    1      1                  39.5                 2  \n2               0    1      1                  37.0                 3  \n3               0    1      1                  37.0                 3  \n4               0    1      1                  37.0                 3  ",
      "text/html": "<div>\n<style scoped>\n    .dataframe tbody tr th:only-of-type {\n        vertical-align: middle;\n    }\n\n    .dataframe tbody tr th {\n        vertical-align: top;\n    }\n\n    .dataframe thead th {\n        text-align: right;\n    }\n</style>\n<table border=\"1\" class=\"dataframe\">\n  <thead>\n    <tr style=\"text-align: right;\">\n      <th></th>\n      <th>num_expediente</th>\n      <th>minutes_from_midnight</th>\n      <th>cod_distrito</th>\n      <th>tipo_accidente</th>\n      <th>tipo_vehiculo</th>\n      <th>tipo_persona</th>\n      <th>marca_de_clase_edad</th>\n      <th>sexo</th>\n      <th>positiva_alcohol</th>\n      <th>positiva_droga</th>\n      <th>bool_laborable</th>\n      <th>day</th>\n      <th>month</th>\n      <th>media_edad_pasajeros</th>\n      <th>numero_pasajeros</th>\n    </tr>\n  </thead>\n  <tbody>\n    <tr>\n      <th>0</th>\n      <td>2022S000001</td>\n      <td>90</td>\n      <td>13.0</td>\n      <td>Alcance</td>\n      <td>Turismo</td>\n      <td>Conductor</td>\n      <td>32.0</td>\n      <td>0</td>\n      <td>0</td>\n      <td>0.0</td>\n      <td>0</td>\n      <td>1</td>\n      <td>1</td>\n      <td>39.5</td>\n      <td>2</td>\n    </tr>\n    <tr>\n      <th>1</th>\n      <td>2022S000001</td>\n      <td>90</td>\n      <td>13.0</td>\n      <td>Alcance</td>\n      <td>Turismo</td>\n      <td>Conductor</td>\n      <td>47.0</td>\n      <td>1</td>\n      <td>0</td>\n      <td>0.0</td>\n      <td>0</td>\n      <td>1</td>\n      <td>1</td>\n      <td>39.5</td>\n      <td>2</td>\n    </tr>\n    <tr>\n      <th>2</th>\n      <td>2022S000002</td>\n      <td>30</td>\n      <td>3.0</td>\n      <td>Colisión fronto-lateral</td>\n      <td>Motocicleta hasta 125cc</td>\n      <td>Conductor</td>\n      <td>32.0</td>\n      <td>1</td>\n      <td>1</td>\n      <td>0.0</td>\n      <td>0</td>\n      <td>1</td>\n      <td>1</td>\n      <td>37.0</td>\n      <td>3</td>\n    </tr>\n    <tr>\n      <th>3</th>\n      <td>2022S000002</td>\n      <td>30</td>\n      <td>3.0</td>\n      <td>Colisión fronto-lateral</td>\n      <td>Motocicleta hasta 125cc</td>\n      <td>Pasajero</td>\n      <td>37.0</td>\n      <td>0</td>\n      <td>0</td>\n      <td>0.0</td>\n      <td>0</td>\n      <td>1</td>\n      <td>1</td>\n      <td>37.0</td>\n      <td>3</td>\n    </tr>\n    <tr>\n      <th>4</th>\n      <td>2022S000002</td>\n      <td>30</td>\n      <td>3.0</td>\n      <td>Colisión fronto-lateral</td>\n      <td>Turismo</td>\n      <td>Conductor</td>\n      <td>42.0</td>\n      <td>1</td>\n      <td>0</td>\n      <td>0.0</td>\n      <td>0</td>\n      <td>1</td>\n      <td>1</td>\n      <td>37.0</td>\n      <td>3</td>\n    </tr>\n  </tbody>\n</table>\n</div>"
     },
     "execution_count": 20,
     "metadata": {},
     "output_type": "execute_result"
    }
   ],
   "source": [
    "def media_edad_pasajeros(list_age: tuple) -> float:\n",
    "    age_sum = 0\n",
    "    count = 0\n",
    "    for age in list_age:\n",
    "        if age != -1:\n",
    "            age_sum = age_sum + age\n",
    "            count = count + 1\n",
    "    if count != 0:\n",
    "        return age_sum / count\n",
    "    return 0\n",
    "\n",
    "\n",
    "df_2022['media_edad_pasajeros'] = df_2022.groupby('num_expediente')['marca_de_clase_edad'].transform(\n",
    "    media_edad_pasajeros)\n",
    "df_2022['numero_pasajeros'] = df_2022.groupby('num_expediente')['num_expediente'].transform('count')\n",
    "df_2022.head()"
   ],
   "metadata": {
    "collapsed": false,
    "ExecuteTime": {
     "end_time": "2023-10-26T13:41:50.909743532Z",
     "start_time": "2023-10-26T13:41:24.309468833Z"
    }
   },
   "id": "4a7f45aa8078310"
  },
  {
   "cell_type": "markdown",
   "source": [
    "Ahora ya no necesitamos a los pasajeros, nos quedaremos solo con los conductores, cuyas edades habrá de computar"
   ],
   "metadata": {
    "collapsed": false
   },
   "id": "932587f0128f8b2b"
  },
  {
   "cell_type": "code",
   "execution_count": 21,
   "outputs": [
    {
     "data": {
      "text/plain": "  num_expediente   minutes_from_midnight  cod_distrito  \\\n0    2022S000001                      90          13.0   \n1    2022S000001                      90          13.0   \n2    2022S000002                      30           3.0   \n3    2022S000002                      30           3.0   \n4    2022S000003                     110           1.0   \n\n            tipo_accidente            tipo_vehiculo tipo_persona  \\\n0                  Alcance                  Turismo    Conductor   \n1                  Alcance                  Turismo    Conductor   \n2  Colisión fronto-lateral  Motocicleta hasta 125cc    Conductor   \n3  Colisión fronto-lateral                  Turismo    Conductor   \n4      Atropello a persona      Motocicleta > 125cc    Conductor   \n\n   marca_de_clase_edad  sexo  positiva_alcohol  positiva_droga  \\\n0                 32.0     0                 0             0.0   \n1                 47.0     1                 0             0.0   \n2                 32.0     1                 1             0.0   \n3                 42.0     1                 0             0.0   \n4                 -1.0     1                 0             0.0   \n\n   bool_laborable  day  month  media_edad_pasajeros  numero_pasajeros  \n0               0    1      1                  39.5                 2  \n1               0    1      1                  39.5                 2  \n2               0    1      1                  37.0                 3  \n3               0    1      1                  37.0                 3  \n4               0    1      1                  19.0                 2  ",
      "text/html": "<div>\n<style scoped>\n    .dataframe tbody tr th:only-of-type {\n        vertical-align: middle;\n    }\n\n    .dataframe tbody tr th {\n        vertical-align: top;\n    }\n\n    .dataframe thead th {\n        text-align: right;\n    }\n</style>\n<table border=\"1\" class=\"dataframe\">\n  <thead>\n    <tr style=\"text-align: right;\">\n      <th></th>\n      <th>num_expediente</th>\n      <th>minutes_from_midnight</th>\n      <th>cod_distrito</th>\n      <th>tipo_accidente</th>\n      <th>tipo_vehiculo</th>\n      <th>tipo_persona</th>\n      <th>marca_de_clase_edad</th>\n      <th>sexo</th>\n      <th>positiva_alcohol</th>\n      <th>positiva_droga</th>\n      <th>bool_laborable</th>\n      <th>day</th>\n      <th>month</th>\n      <th>media_edad_pasajeros</th>\n      <th>numero_pasajeros</th>\n    </tr>\n  </thead>\n  <tbody>\n    <tr>\n      <th>0</th>\n      <td>2022S000001</td>\n      <td>90</td>\n      <td>13.0</td>\n      <td>Alcance</td>\n      <td>Turismo</td>\n      <td>Conductor</td>\n      <td>32.0</td>\n      <td>0</td>\n      <td>0</td>\n      <td>0.0</td>\n      <td>0</td>\n      <td>1</td>\n      <td>1</td>\n      <td>39.5</td>\n      <td>2</td>\n    </tr>\n    <tr>\n      <th>1</th>\n      <td>2022S000001</td>\n      <td>90</td>\n      <td>13.0</td>\n      <td>Alcance</td>\n      <td>Turismo</td>\n      <td>Conductor</td>\n      <td>47.0</td>\n      <td>1</td>\n      <td>0</td>\n      <td>0.0</td>\n      <td>0</td>\n      <td>1</td>\n      <td>1</td>\n      <td>39.5</td>\n      <td>2</td>\n    </tr>\n    <tr>\n      <th>2</th>\n      <td>2022S000002</td>\n      <td>30</td>\n      <td>3.0</td>\n      <td>Colisión fronto-lateral</td>\n      <td>Motocicleta hasta 125cc</td>\n      <td>Conductor</td>\n      <td>32.0</td>\n      <td>1</td>\n      <td>1</td>\n      <td>0.0</td>\n      <td>0</td>\n      <td>1</td>\n      <td>1</td>\n      <td>37.0</td>\n      <td>3</td>\n    </tr>\n    <tr>\n      <th>3</th>\n      <td>2022S000002</td>\n      <td>30</td>\n      <td>3.0</td>\n      <td>Colisión fronto-lateral</td>\n      <td>Turismo</td>\n      <td>Conductor</td>\n      <td>42.0</td>\n      <td>1</td>\n      <td>0</td>\n      <td>0.0</td>\n      <td>0</td>\n      <td>1</td>\n      <td>1</td>\n      <td>37.0</td>\n      <td>3</td>\n    </tr>\n    <tr>\n      <th>4</th>\n      <td>2022S000003</td>\n      <td>110</td>\n      <td>1.0</td>\n      <td>Atropello a persona</td>\n      <td>Motocicleta &gt; 125cc</td>\n      <td>Conductor</td>\n      <td>-1.0</td>\n      <td>1</td>\n      <td>0</td>\n      <td>0.0</td>\n      <td>0</td>\n      <td>1</td>\n      <td>1</td>\n      <td>19.0</td>\n      <td>2</td>\n    </tr>\n  </tbody>\n</table>\n</div>"
     },
     "execution_count": 21,
     "metadata": {},
     "output_type": "execute_result"
    }
   ],
   "source": [
    "mask_conductores = (df_2022['tipo_persona'] == 'Conductor')\n",
    "df_2022 = df_2022[mask_conductores]\n",
    "df_2022 = df_2022.reset_index(drop=True)\n",
    "df_2022.head()"
   ],
   "metadata": {
    "collapsed": false,
    "ExecuteTime": {
     "end_time": "2023-10-26T13:41:51.007869190Z",
     "start_time": "2023-10-26T13:41:50.913304325Z"
    }
   },
   "id": "c6e7fc92650b05b5"
  },
  {
   "cell_type": "markdown",
   "source": [
    "Ya que todos son conductores, no necesitamos la columna tipo_persona más"
   ],
   "metadata": {
    "collapsed": false
   },
   "id": "adb38a5856e5ad37"
  },
  {
   "cell_type": "code",
   "execution_count": 22,
   "outputs": [
    {
     "data": {
      "text/plain": "  num_expediente   minutes_from_midnight  cod_distrito  \\\n0    2022S000001                      90          13.0   \n1    2022S000001                      90          13.0   \n2    2022S000002                      30           3.0   \n3    2022S000002                      30           3.0   \n4    2022S000003                     110           1.0   \n\n            tipo_accidente            tipo_vehiculo  marca_de_clase_edad  \\\n0                  Alcance                  Turismo                 32.0   \n1                  Alcance                  Turismo                 47.0   \n2  Colisión fronto-lateral  Motocicleta hasta 125cc                 32.0   \n3  Colisión fronto-lateral                  Turismo                 42.0   \n4      Atropello a persona      Motocicleta > 125cc                 -1.0   \n\n   sexo  positiva_alcohol  positiva_droga  bool_laborable  day  month  \\\n0     0                 0             0.0               0    1      1   \n1     1                 0             0.0               0    1      1   \n2     1                 1             0.0               0    1      1   \n3     1                 0             0.0               0    1      1   \n4     1                 0             0.0               0    1      1   \n\n   media_edad_pasajeros  numero_pasajeros  \n0                  39.5                 2  \n1                  39.5                 2  \n2                  37.0                 3  \n3                  37.0                 3  \n4                  19.0                 2  ",
      "text/html": "<div>\n<style scoped>\n    .dataframe tbody tr th:only-of-type {\n        vertical-align: middle;\n    }\n\n    .dataframe tbody tr th {\n        vertical-align: top;\n    }\n\n    .dataframe thead th {\n        text-align: right;\n    }\n</style>\n<table border=\"1\" class=\"dataframe\">\n  <thead>\n    <tr style=\"text-align: right;\">\n      <th></th>\n      <th>num_expediente</th>\n      <th>minutes_from_midnight</th>\n      <th>cod_distrito</th>\n      <th>tipo_accidente</th>\n      <th>tipo_vehiculo</th>\n      <th>marca_de_clase_edad</th>\n      <th>sexo</th>\n      <th>positiva_alcohol</th>\n      <th>positiva_droga</th>\n      <th>bool_laborable</th>\n      <th>day</th>\n      <th>month</th>\n      <th>media_edad_pasajeros</th>\n      <th>numero_pasajeros</th>\n    </tr>\n  </thead>\n  <tbody>\n    <tr>\n      <th>0</th>\n      <td>2022S000001</td>\n      <td>90</td>\n      <td>13.0</td>\n      <td>Alcance</td>\n      <td>Turismo</td>\n      <td>32.0</td>\n      <td>0</td>\n      <td>0</td>\n      <td>0.0</td>\n      <td>0</td>\n      <td>1</td>\n      <td>1</td>\n      <td>39.5</td>\n      <td>2</td>\n    </tr>\n    <tr>\n      <th>1</th>\n      <td>2022S000001</td>\n      <td>90</td>\n      <td>13.0</td>\n      <td>Alcance</td>\n      <td>Turismo</td>\n      <td>47.0</td>\n      <td>1</td>\n      <td>0</td>\n      <td>0.0</td>\n      <td>0</td>\n      <td>1</td>\n      <td>1</td>\n      <td>39.5</td>\n      <td>2</td>\n    </tr>\n    <tr>\n      <th>2</th>\n      <td>2022S000002</td>\n      <td>30</td>\n      <td>3.0</td>\n      <td>Colisión fronto-lateral</td>\n      <td>Motocicleta hasta 125cc</td>\n      <td>32.0</td>\n      <td>1</td>\n      <td>1</td>\n      <td>0.0</td>\n      <td>0</td>\n      <td>1</td>\n      <td>1</td>\n      <td>37.0</td>\n      <td>3</td>\n    </tr>\n    <tr>\n      <th>3</th>\n      <td>2022S000002</td>\n      <td>30</td>\n      <td>3.0</td>\n      <td>Colisión fronto-lateral</td>\n      <td>Turismo</td>\n      <td>42.0</td>\n      <td>1</td>\n      <td>0</td>\n      <td>0.0</td>\n      <td>0</td>\n      <td>1</td>\n      <td>1</td>\n      <td>37.0</td>\n      <td>3</td>\n    </tr>\n    <tr>\n      <th>4</th>\n      <td>2022S000003</td>\n      <td>110</td>\n      <td>1.0</td>\n      <td>Atropello a persona</td>\n      <td>Motocicleta &gt; 125cc</td>\n      <td>-1.0</td>\n      <td>1</td>\n      <td>0</td>\n      <td>0.0</td>\n      <td>0</td>\n      <td>1</td>\n      <td>1</td>\n      <td>19.0</td>\n      <td>2</td>\n    </tr>\n  </tbody>\n</table>\n</div>"
     },
     "execution_count": 22,
     "metadata": {},
     "output_type": "execute_result"
    }
   ],
   "source": [
    "df_2022.pop('tipo_persona')\n",
    "df_2022.head()"
   ],
   "metadata": {
    "collapsed": false,
    "ExecuteTime": {
     "end_time": "2023-10-26T13:41:51.049380520Z",
     "start_time": "2023-10-26T13:41:50.954535715Z"
    }
   },
   "id": "45ef77667304d227"
  },
  {
   "cell_type": "markdown",
   "source": [
    "Transformamos el número de expediente en número de implicados en el accidente."
   ],
   "metadata": {
    "collapsed": false
   },
   "id": "70a12cdcf7ff340d"
  },
  {
   "cell_type": "code",
   "execution_count": 23,
   "outputs": [
    {
     "data": {
      "text/plain": "   num_implicados   minutes_from_midnight  cod_distrito  \\\n0               2                      90          13.0   \n1               2                      90          13.0   \n2               2                      30           3.0   \n3               2                      30           3.0   \n4               1                     110           1.0   \n\n            tipo_accidente            tipo_vehiculo  marca_de_clase_edad  \\\n0                  Alcance                  Turismo                 32.0   \n1                  Alcance                  Turismo                 47.0   \n2  Colisión fronto-lateral  Motocicleta hasta 125cc                 32.0   \n3  Colisión fronto-lateral                  Turismo                 42.0   \n4      Atropello a persona      Motocicleta > 125cc                 -1.0   \n\n   sexo  positiva_alcohol  positiva_droga  bool_laborable  day  month  \\\n0     0                 0             0.0               0    1      1   \n1     1                 0             0.0               0    1      1   \n2     1                 1             0.0               0    1      1   \n3     1                 0             0.0               0    1      1   \n4     1                 0             0.0               0    1      1   \n\n   media_edad_pasajeros  numero_pasajeros  \n0                  39.5                 2  \n1                  39.5                 2  \n2                  37.0                 3  \n3                  37.0                 3  \n4                  19.0                 2  ",
      "text/html": "<div>\n<style scoped>\n    .dataframe tbody tr th:only-of-type {\n        vertical-align: middle;\n    }\n\n    .dataframe tbody tr th {\n        vertical-align: top;\n    }\n\n    .dataframe thead th {\n        text-align: right;\n    }\n</style>\n<table border=\"1\" class=\"dataframe\">\n  <thead>\n    <tr style=\"text-align: right;\">\n      <th></th>\n      <th>num_implicados</th>\n      <th>minutes_from_midnight</th>\n      <th>cod_distrito</th>\n      <th>tipo_accidente</th>\n      <th>tipo_vehiculo</th>\n      <th>marca_de_clase_edad</th>\n      <th>sexo</th>\n      <th>positiva_alcohol</th>\n      <th>positiva_droga</th>\n      <th>bool_laborable</th>\n      <th>day</th>\n      <th>month</th>\n      <th>media_edad_pasajeros</th>\n      <th>numero_pasajeros</th>\n    </tr>\n  </thead>\n  <tbody>\n    <tr>\n      <th>0</th>\n      <td>2</td>\n      <td>90</td>\n      <td>13.0</td>\n      <td>Alcance</td>\n      <td>Turismo</td>\n      <td>32.0</td>\n      <td>0</td>\n      <td>0</td>\n      <td>0.0</td>\n      <td>0</td>\n      <td>1</td>\n      <td>1</td>\n      <td>39.5</td>\n      <td>2</td>\n    </tr>\n    <tr>\n      <th>1</th>\n      <td>2</td>\n      <td>90</td>\n      <td>13.0</td>\n      <td>Alcance</td>\n      <td>Turismo</td>\n      <td>47.0</td>\n      <td>1</td>\n      <td>0</td>\n      <td>0.0</td>\n      <td>0</td>\n      <td>1</td>\n      <td>1</td>\n      <td>39.5</td>\n      <td>2</td>\n    </tr>\n    <tr>\n      <th>2</th>\n      <td>2</td>\n      <td>30</td>\n      <td>3.0</td>\n      <td>Colisión fronto-lateral</td>\n      <td>Motocicleta hasta 125cc</td>\n      <td>32.0</td>\n      <td>1</td>\n      <td>1</td>\n      <td>0.0</td>\n      <td>0</td>\n      <td>1</td>\n      <td>1</td>\n      <td>37.0</td>\n      <td>3</td>\n    </tr>\n    <tr>\n      <th>3</th>\n      <td>2</td>\n      <td>30</td>\n      <td>3.0</td>\n      <td>Colisión fronto-lateral</td>\n      <td>Turismo</td>\n      <td>42.0</td>\n      <td>1</td>\n      <td>0</td>\n      <td>0.0</td>\n      <td>0</td>\n      <td>1</td>\n      <td>1</td>\n      <td>37.0</td>\n      <td>3</td>\n    </tr>\n    <tr>\n      <th>4</th>\n      <td>1</td>\n      <td>110</td>\n      <td>1.0</td>\n      <td>Atropello a persona</td>\n      <td>Motocicleta &gt; 125cc</td>\n      <td>-1.0</td>\n      <td>1</td>\n      <td>0</td>\n      <td>0.0</td>\n      <td>0</td>\n      <td>1</td>\n      <td>1</td>\n      <td>19.0</td>\n      <td>2</td>\n    </tr>\n  </tbody>\n</table>\n</div>"
     },
     "execution_count": 23,
     "metadata": {},
     "output_type": "execute_result"
    }
   ],
   "source": [
    "numero_implicados = df_2022['num_expediente'].value_counts()\n",
    "diccionario_expediente_implicados = numero_implicados.to_dict()\n",
    "df_2022['num_expediente'] = df_2022['num_expediente'].map(diccionario_expediente_implicados)\n",
    "df_2022.rename(columns={'num_expediente': 'num_implicados'}, inplace=True)\n",
    "\n",
    "df_2022.head()"
   ],
   "metadata": {
    "collapsed": false,
    "ExecuteTime": {
     "end_time": "2023-10-26T13:41:51.072405253Z",
     "start_time": "2023-10-26T13:41:51.001992475Z"
    }
   },
   "id": "16fad6ffc7814264"
  },
  {
   "cell_type": "markdown",
   "source": [
    "Transformamos el tipo de accidente en códigos por medio de un mapeo por diccionario, pero antes, debemos establecer el código."
   ],
   "metadata": {
    "collapsed": false
   },
   "id": "da25a9069ac7ab2e"
  },
  {
   "cell_type": "code",
   "execution_count": 24,
   "outputs": [
    {
     "data": {
      "text/plain": "{0: 'Alcance',\n 1: 'Colisión fronto-lateral',\n 2: 'Atropello a persona',\n 3: 'Choque contra obstáculo fijo',\n 4: 'Colisión lateral',\n 5: 'Caída',\n 6: 'Colisión múltiple',\n 7: 'Colisión frontal',\n 8: 'Otro',\n 9: 'Solo salida de la vía',\n 10: 'Vuelco',\n 11: 'Atropello a animal',\n 12: 'Despeñamiento'}"
     },
     "execution_count": 24,
     "metadata": {},
     "output_type": "execute_result"
    }
   ],
   "source": [
    "valores_unicos = df_2022['tipo_accidente'].unique()\n",
    "diccionario_accidentes = {tipo_accidente : codigo for tipo_accidente, codigo in enumerate(valores_unicos)}\n",
    "diccionario_accidentes"
   ],
   "metadata": {
    "collapsed": false,
    "ExecuteTime": {
     "end_time": "2023-10-26T13:41:51.076662417Z",
     "start_time": "2023-10-26T13:41:51.009050065Z"
    }
   },
   "id": "b04f33821e7f5fc0"
  },
  {
   "cell_type": "markdown",
   "source": [
    "Una vez establecido el código mapeamos al índice"
   ],
   "metadata": {
    "collapsed": false
   },
   "id": "1165d0e2e8e2dbe6"
  },
  {
   "cell_type": "code",
   "execution_count": 25,
   "outputs": [
    {
     "ename": "TypeError",
     "evalue": "Series.map() missing 1 required positional argument: 'arg'",
     "output_type": "error",
     "traceback": [
      "\u001B[0;31m---------------------------------------------------------------------------\u001B[0m",
      "\u001B[0;31mTypeError\u001B[0m                                 Traceback (most recent call last)",
      "Cell \u001B[0;32mIn[25], line 1\u001B[0m\n\u001B[0;32m----> 1\u001B[0m df_2022[\u001B[38;5;124m'\u001B[39m\u001B[38;5;124mtipo_accidente\u001B[39m\u001B[38;5;124m'\u001B[39m]\u001B[38;5;241m.\u001B[39mmap()\n",
      "\u001B[0;31mTypeError\u001B[0m: Series.map() missing 1 required positional argument: 'arg'"
     ]
    }
   ],
   "source": [
    "df_2022['tipo_accidente'].map()"
   ],
   "metadata": {
    "collapsed": false,
    "ExecuteTime": {
     "end_time": "2023-10-26T13:41:51.361944998Z",
     "start_time": "2023-10-26T13:41:51.014848785Z"
    }
   },
   "id": "fb79632a766b6bac"
  },
  {
   "cell_type": "markdown",
   "source": [],
   "metadata": {
    "collapsed": false
   },
   "id": "c3c6eea04bcd6d0a"
  },
  {
   "cell_type": "markdown",
   "source": [
    "## Normalización de datos\n",
    "Es necesario tratar los datos para que estén centrados en 0 y con varianza 1. Recordemos que la función logistica y la función tangente hiperbólica, que utilizaremos más tarde, tienen la forma:"
   ],
   "metadata": {
    "collapsed": false
   },
   "id": "63d7f7ff796ee608"
  },
  {
   "cell_type": "code",
   "execution_count": null,
   "outputs": [],
   "source": [
    "import matplotlib.pyplot as plt\n",
    "\n",
    "\n",
    "def logistic_function(x):\n",
    "    return 1 / (1 + np.exp(-x))\n",
    "\n",
    "\n",
    "x = np.arange(-6, 6, 0.1)\n",
    "y = logistic_function(x)\n",
    "yh = np.tanh(x)\n",
    "\n",
    "plt.figure(figsize=(8, 6))\n",
    "plt.plot(x, y, label='Función Logística', color='b')\n",
    "plt.plot(x, yh, label='Tangente Hiperbólica', color='r', linestyle='--')\n",
    "plt.title('Gráfica de la Función Logística vs Tangente Hiperbólica')\n",
    "plt.xlabel('x')\n",
    "plt.ylabel('y')\n",
    "plt.legend()\n",
    "plt.grid(True)\n",
    "plt.show()"
   ],
   "metadata": {
    "collapsed": false,
    "ExecuteTime": {
     "start_time": "2023-10-26T13:41:51.359289288Z"
    }
   },
   "id": "98e17fd64fa8e4b"
  },
  {
   "cell_type": "markdown",
   "source": [
    "Eso significa que para todas las entradas mayores que 4, la derivada es aproximadamente 0, y el aprendizaje se detendrá. Además, como podemos observar, la función logística es una curva más \"suave\", que esperamos que rinda mejor al tener mayor región activa para aceptar valores antes de que desvanezca el gradiente.\n",
    "\n",
    "Utilizaremos la función logística inter-capas y la función softmax para la salida. Ahora recordamos los datos que tenemos que tratar:"
   ],
   "metadata": {
    "collapsed": false
   },
   "id": "eb8c5e73f8cad760"
  },
  {
   "cell_type": "markdown",
   "source": [
    "# Modelo clasificatorio multiclass\n",
    "Para diseñar el modelo seguiremos esta pauta\n",
    "1. Comenzar Simple:\n",
    "        Inicializar una red neuronal con una capa oculta.\n",
    "        Definir una capa de entrada con 7 neuronas (para las 7 entradas) y una capa de salida con el número adecuado de neuronas para las clases de tu problema.\n",
    "2. Evaluar el Rendimiento:\n",
    "        Dividir los datos en conjuntos de entrenamiento y validación o prueba.\n",
    "        Entrenar la red neuronal con la estructura inicial en el conjunto de entrenamiento.\n",
    "        Evaluar el rendimiento de la red en el conjunto de validación utilizando métricas como precisión, recall y F1-score.\n",
    "\n",
    "3. Evitar el Sobreajuste:\n",
    "        Observar si hay signos de sobreajuste (diferencia significativa entre el rendimiento en entrenamiento y validación).\n",
    "        Considerar la adición de técnicas de regularización, como dropout o regularización L2, para evitar el sobreajuste.\n",
    "\n",
    "4. Incrementar la Complejidad Gradualmente:\n",
    "        Si la estructura inicial no proporciona un rendimiento satisfactorio, aumentar la complejidad de la red agregando capas ocultas.\n",
    "        Experimentar con diferentes cantidades de neuronas en cada capa.\n",
    "\n",
    "5. Experimentar con Hiperparámetros:\n",
    "        Utilizar búsqueda en cuadrícula o búsqueda aleatoria para explorar diferentes hiperparámetros, incluyendo el número de capas y neuronas.\n",
    "        Realizar experimentos con diversas configuraciones y registrar el rendimiento.\n",
    "\n",
    "6. Validación Cruzada:\n",
    "        Realizar validación cruzada para obtener una estimación más precisa del rendimiento del modelo en diferentes divisiones de datos.\n",
    "\n",
    "7. Considerar el Conocimiento del Dominio:\n",
    "        Tomar en cuenta cualquier conocimiento específico del dominio que pueda influir en la elección de la arquitectura de la red.\n",
    "\n",
    "8. Usar Modelos Pre-entrenados:\n",
    "        Si es relevante para tu problema, considerar la posibilidad de utilizar modelos pre-entrenados o transferencia de aprendizaje como punto de partida.\n",
    "\n",
    "9. Enfoque de Conjunto (Opcional):\n",
    "        Si tienes suficientes datos, explorar el uso de métodos de conjunto para mejorar el rendimiento del modelo."
   ],
   "metadata": {
    "collapsed": false
   },
   "id": "14c1130d395325df"
  },
  {
   "cell_type": "markdown",
   "source": [
    "## Preparaciones iniciales\n",
    "Se ha elegido para esta implementación, un modelo completamente conectado, donde la información de cada neurona se transmite a la siguiente.\n",
    "Tal que para las entradas x1 ... xn tendríamos el siguiente modelo: (se cuentan las capadas desde la entrada 1 hasta la salida 3).\n",
    "La función error será MSE\n",
    "\n",
    "### Capa 1\n",
    "Para la neurona f1 ... fn:\n",
    "f1 = w10 * x0 + w11 * x1 + ... + w1n * xn\n",
    "fn = w'10 * x0 + w11 * x1 + ... + w1n * xn\n",
    "\n",
    "El valor de la neurona es sigmoid(fn), donde sigmoid es logistic function\n",
    "S(x) = e ^ x / (e ^ x + 1)\n",
    "\n",
    "### Capa 2\n",
    "Para la neurona g1 ... gn\n",
    "g1 = w10 * f0 + w11 * f1 + ... + w1n * fn\n",
    "gn = w'10 * f0 + w11 * f1 + ... + w1n * fn\n",
    "\n",
    "El valor de la neurona es sigmoid(fn), donde sigmoid es logistic function\n",
    "S(x) = e^x / (e^x+1)\n",
    "\n",
    "### Capa 3\n",
    "Para la neurona h1 ... hn\n",
    "etc \n",
    "h1 = w10 * x0 + w11 * g1 + ... + w1n * gn"
   ],
   "metadata": {
    "collapsed": false
   },
   "id": "7caa1ae031ff5f9a"
  },
  {
   "cell_type": "markdown",
   "source": [
    "## Expresión matricial\n",
    "Para que sea fácil trabajar con tantos pesos, implementaremos todas las operaciones de forma matricial."
   ],
   "metadata": {
    "collapsed": false
   },
   "id": "862e532cfef40062"
  },
  {
   "cell_type": "markdown",
   "source": [
    "### Matriz de pesos\n",
    "\n",
    "Denotamos la matriz de los pesos de todas las neuronas de una capa como \\( W \\), en nuestro caso, una matriz. El input se denota \\( X \\), en nuestro caso, un vector. El resultado de la computación de una capa es \\( Z \\).\n",
    "\n",
    "Por ejemplo, para la capa 1 tenemos:\n",
    "\\[ Z = W \\times X \\]\n",
    "\n",
    "Donde\n",
    "\n",
    "\\( X = \\begin{bmatrix} x_1 \\\\ x_2 \\\\ \\vdots \\\\ x_n \\end{bmatrix} \\) y \\( W = \\begin{bmatrix} w_{11} & w_{12} & \\cdots & w_{1n} \\\\ w_{21} & w_{22} & \\cdots & w_{2n} \\\\ \\vdots & \\vdots & \\ddots & \\vdots \\\\ w_{n1} & w_{n2} & \\cdots & w_{nn} \\end{bmatrix} \\)\n",
    "\n",
    "Si hacemos el producto matricial \\( W * X^T \\) (trasponiendo \\( X \\)), obtenemos una matriz de dimensiones \\( n_neuronas * n_entradas = Z \\).\n",
    "\n",
    "\\[ Z \\] es de dimensión \\( n * 1 \\), y representa la entrada para la siguiente capa.\n"
   ],
   "metadata": {
    "collapsed": false
   },
   "id": "b5a7e108472125d1"
  },
  {
   "cell_type": "markdown",
   "source": [
    "### Vector sesgo\n",
    "El vector de los pesos del sesgo se inicializan a 0"
   ],
   "metadata": {
    "collapsed": false
   },
   "id": "d15fe53e2c62cc76"
  },
  {
   "cell_type": "markdown",
   "source": [
    "## Funciones de apoyo\n",
    "Se desarrollan las funciones auxiliares para computar los pesos y la salida de cada neurona.\n",
    "La derivada de la función logística es derv_logistic_function(x)\n",
    "\n",
    "La función softmax se utiliza para computar el valor más probable en la salida.\n",
    "La función softmax se define como:\n",
    "\n",
    "\\[ \\sigma(z)_i = \\frac{e^{z_i}}{\\sum_{j=1}^{K} e^{z_j}} \\]\n",
    "\n",
    "Donde:\n",
    "- \\( \\sigma(z)_i \\) es la componente i-ésima de la salida de la función softmax.\n",
    "- \\( z \\) es el vector de puntuaciones (logits) de entrada.\n",
    "- \\( K \\) es el número de clases (la longitud del vector de puntuaciones)."
   ],
   "metadata": {
    "collapsed": false
   },
   "id": "fe7c4e47334d471"
  },
  {
   "cell_type": "code",
   "execution_count": null,
   "outputs": [],
   "source": [
    "def logistic_function(x):\n",
    "    return 1 / (1 + np.exp(-x))\n",
    "\n",
    "\n",
    "def derv_logistic_function(x):\n",
    "    return logistic_function(x) * (1 - logistic_function(x))\n",
    "\n",
    "\n",
    "def compute_output(w: list, x: list) -> float:\n",
    "    return logistic_function(np.dot(w, x))\n",
    "\n",
    "\n",
    "def softmax(x):\n",
    "    \"\"\"\n",
    "    Calcula la función softmax para un conjunto de datos. La suma de todos los valores de la salida es 1.\n",
    "    \n",
    "    Argumentos:\n",
    "    - x (ndarray): Vector de salida\n",
    "    \n",
    "    Devuelve:\n",
    "    - ndarray: Un arreglo con las mismas dimensiones de 'x', con las puntuaciones transformadas \n",
    "               en probabilidades mediante la función softmax.\n",
    "    \"\"\"\n",
    "    # Para evitar desbordamientos numéricos, restamos el máximo valor en 'x'\n",
    "    exp_x = np.exp(x - np.max(x))\n",
    "    # Se usa axis=-1 es que permite que la función np.sum opere a lo largo del último eje de la matriz exp_x, independientemente de la cantidad de ejes que tenga\n",
    "    return exp_x / np.sum(exp_x, axis=-1, keepdims=True)"
   ],
   "metadata": {
    "collapsed": false,
    "ExecuteTime": {
     "start_time": "2023-10-26T13:41:51.361458973Z"
    }
   },
   "id": "db2ff1ca4379b7ba"
  },
  {
   "cell_type": "markdown",
   "source": [
    "### Inicialización de pesos, glorot uniform [Xavier Glorot y Yoshua Bengio 2010].\n",
    "\n",
    "Esta inicialización se basa en la idea de que los gradientes y las activaciones deben tener varianzas similares en todas las capas, lo que ayuda a tener una propagación más eficiente de los gradientes durante el entrenamiento.\n",
    "\n",
    "W = random(−6/(n_in + n_out), 6/(n_in + n_out))\n",
    "\n",
    "Donde:\n",
    "\n",
    "- **W**: Son los pesos a inicializar.\n",
    "- **n_in**: es el número de neuronas en la capa anterior (número de entradas de la neurona actual).\n",
    "- **n_out**: es el número de neuronas en la capa actual (o en la siguiente capa).\n",
    "\n",
    "Elegimos esta función de inicialización porque es la recomendada para utilizarse con la función logística y evitar la saturación o desvanecimiento del gradiente\n"
   ],
   "metadata": {
    "collapsed": false
   },
   "id": "df84a914ca8de189"
  },
  {
   "cell_type": "code",
   "execution_count": null,
   "outputs": [],
   "source": [
    "from numpy import ndarray\n",
    "\n",
    "\n",
    "def glorot_uniform(shape: tuple) -> ndarray:\n",
    "    \"\"\"\n",
    "    Realiza la inicialización Glorot Uniform.\n",
    "    \n",
    "    Argumentos:\n",
    "    - shape (tuple): Forma de la matriz de pesos a inicializar, generalmente (n_{in}, n_{out})\n",
    "    \n",
    "    Devuelve:\n",
    "    - ndarray: Matriz de pesos inicializada de n dimensiones\n",
    "    \"\"\"\n",
    "    n_in, n_out = shape\n",
    "    limit = np.sqrt(6 / (n_in + n_out))\n",
    "\n",
    "    return np.random.uniform(-limit, limit, shape)"
   ],
   "metadata": {
    "collapsed": false,
    "ExecuteTime": {
     "end_time": "2023-10-26T13:41:51.394849270Z",
     "start_time": "2023-10-26T13:41:51.363608976Z"
    }
   },
   "id": "7c694d512fa09002"
  },
  {
   "cell_type": "markdown",
   "source": [],
   "metadata": {
    "collapsed": false
   },
   "id": "9e9a507da7d4444a"
  },
  {
   "cell_type": "code",
   "execution_count": null,
   "outputs": [],
   "source": [
    "df_2022"
   ],
   "metadata": {
    "collapsed": false,
    "ExecuteTime": {
     "start_time": "2023-10-26T13:41:51.364978851Z"
    }
   },
   "id": "84046db98d26c29a"
  }
 ],
 "metadata": {
  "kernelspec": {
   "display_name": "Python 3",
   "language": "python",
   "name": "python3"
  },
  "language_info": {
   "codemirror_mode": {
    "name": "ipython",
    "version": 2
   },
   "file_extension": ".py",
   "mimetype": "text/x-python",
   "name": "python",
   "nbconvert_exporter": "python",
   "pygments_lexer": "ipython2",
   "version": "2.7.6"
  }
 },
 "nbformat": 4,
 "nbformat_minor": 5
}
