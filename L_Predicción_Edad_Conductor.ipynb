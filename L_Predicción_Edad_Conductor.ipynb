{
 "cells": [
  {
   "cell_type": "markdown",
   "source": [
    "# Tratamiento de nulos en el campo Edad\n",
    "Siguiendo el trabajo de mi compañero Luca, existen muchos valores nulos en el campo de edad que habrá de tratar.\n",
    "\n",
    "## Hipótesis\n",
    "La predicción de la edad solo será la del conductor, que es quién determina lógicamente tiene más correlación con el número de accidentes.\n",
    "\n",
    "Para predecir el campo de la edad se tendrán en cuenta las siguientes variables del csv Accidentes_20XX\n",
    "1. La edad de los demás pasajeros: La edad de los demás pasajeros guarda relación con la edad del conductor. Un conductor jóven es más improbable que lleve a pasajeros menores de edad que un conductor más mayor.\n",
    "2. La fecha y hora del accidente: Es posible que la fecha y la hora guarde alguna relación con la edad del conductor.\n",
    "3. El distrito: Es posible que algunos distritos tengan conductores más jóvenes y otros conductores más mayores.\n",
    "4. Género: Es posible que existan distinta distribución por edad en relación con el género.\n",
    "5. Tipo de accidente: Es posible que los jóvenes tengan más accidentes de un tipo que los mayores.\n",
    "6. Drogas y alcohol: Es posible que los jóvenes sean más propensos a conducir bajo influencia de drogas que las personas más mayores.\n",
    "\n",
    "A continuación se seleccionan los campos a tratar en el dataframe y se proporciona una vista previa a fin de refrescar al lector sobre la estructura de los datos"
   ],
   "metadata": {
    "collapsed": false
   },
   "id": "eb43294479fb0dc7"
  },
  {
   "cell_type": "code",
   "execution_count": 18,
   "outputs": [
    {
     "data": {
      "text/plain": "  num_expediente       fecha     hora  \\\n0    2022S000001  01/01/2022  1:30:00   \n1    2022S000001  01/01/2022  1:30:00   \n2    2022S000002  01/01/2022  0:30:00   \n3    2022S000002  01/01/2022  0:30:00   \n4    2022S000002  01/01/2022  0:30:00   \n\n                                 localizacion numero  cod_distrito  \\\n0                          AVDA. ALBUFERA, 19     19            13   \n1                          AVDA. ALBUFERA, 19     19            13   \n2  PLAZA. CANOVAS DEL CASTILLO / PASEO. PRADO      2             3   \n3  PLAZA. CANOVAS DEL CASTILLO / PASEO. PRADO      2             3   \n4  PLAZA. CANOVAS DEL CASTILLO / PASEO. PRADO      2             3   \n\n             distrito           tipo_accidente estado_meteorológico  \\\n0  PUENTE DE VALLECAS                  Alcance            Despejado   \n1  PUENTE DE VALLECAS                  Alcance            Despejado   \n2              RETIRO  Colisión fronto-lateral                  NaN   \n3              RETIRO  Colisión fronto-lateral                  NaN   \n4              RETIRO  Colisión fronto-lateral                  NaN   \n\n             tipo_vehiculo  ...       rango_edad    sexo cod_lesividad  \\\n0                  Turismo  ...  De 30 a 34 años   Mujer           NaN   \n1                  Turismo  ...  De 45 a 49 años  Hombre           NaN   \n2  Motocicleta hasta 125cc  ...  De 30 a 34 años  Hombre           NaN   \n3  Motocicleta hasta 125cc  ...  De 35 a 39 años   Mujer           NaN   \n4                  Turismo  ...  De 40 a 44 años  Hombre           NaN   \n\n   lesividad coordenada_x_utm coordenada_y_utm positiva_alcohol  \\\n0        NaN       443359,226      4472082,272                N   \n1        NaN       443359,226      4472082,272                N   \n2        NaN       441155,351      4474129,588                S   \n3        NaN       441155,351      4474129,588                N   \n4        NaN       441155,351      4474129,588                N   \n\n  positiva_droga  Unnamed: 19  Unnamed: 20  \n0            NaN          NaN          NaN  \n1            NaN          NaN          NaN  \n2            NaN          NaN          NaN  \n3            NaN          NaN          NaN  \n4            NaN          NaN          NaN  \n\n[5 rows x 21 columns]",
      "text/html": "<div>\n<style scoped>\n    .dataframe tbody tr th:only-of-type {\n        vertical-align: middle;\n    }\n\n    .dataframe tbody tr th {\n        vertical-align: top;\n    }\n\n    .dataframe thead th {\n        text-align: right;\n    }\n</style>\n<table border=\"1\" class=\"dataframe\">\n  <thead>\n    <tr style=\"text-align: right;\">\n      <th></th>\n      <th>num_expediente</th>\n      <th>fecha</th>\n      <th>hora</th>\n      <th>localizacion</th>\n      <th>numero</th>\n      <th>cod_distrito</th>\n      <th>distrito</th>\n      <th>tipo_accidente</th>\n      <th>estado_meteorológico</th>\n      <th>tipo_vehiculo</th>\n      <th>...</th>\n      <th>rango_edad</th>\n      <th>sexo</th>\n      <th>cod_lesividad</th>\n      <th>lesividad</th>\n      <th>coordenada_x_utm</th>\n      <th>coordenada_y_utm</th>\n      <th>positiva_alcohol</th>\n      <th>positiva_droga</th>\n      <th>Unnamed: 19</th>\n      <th>Unnamed: 20</th>\n    </tr>\n  </thead>\n  <tbody>\n    <tr>\n      <th>0</th>\n      <td>2022S000001</td>\n      <td>01/01/2022</td>\n      <td>1:30:00</td>\n      <td>AVDA. ALBUFERA, 19</td>\n      <td>19</td>\n      <td>13</td>\n      <td>PUENTE DE VALLECAS</td>\n      <td>Alcance</td>\n      <td>Despejado</td>\n      <td>Turismo</td>\n      <td>...</td>\n      <td>De 30 a 34 años</td>\n      <td>Mujer</td>\n      <td>NaN</td>\n      <td>NaN</td>\n      <td>443359,226</td>\n      <td>4472082,272</td>\n      <td>N</td>\n      <td>NaN</td>\n      <td>NaN</td>\n      <td>NaN</td>\n    </tr>\n    <tr>\n      <th>1</th>\n      <td>2022S000001</td>\n      <td>01/01/2022</td>\n      <td>1:30:00</td>\n      <td>AVDA. ALBUFERA, 19</td>\n      <td>19</td>\n      <td>13</td>\n      <td>PUENTE DE VALLECAS</td>\n      <td>Alcance</td>\n      <td>Despejado</td>\n      <td>Turismo</td>\n      <td>...</td>\n      <td>De 45 a 49 años</td>\n      <td>Hombre</td>\n      <td>NaN</td>\n      <td>NaN</td>\n      <td>443359,226</td>\n      <td>4472082,272</td>\n      <td>N</td>\n      <td>NaN</td>\n      <td>NaN</td>\n      <td>NaN</td>\n    </tr>\n    <tr>\n      <th>2</th>\n      <td>2022S000002</td>\n      <td>01/01/2022</td>\n      <td>0:30:00</td>\n      <td>PLAZA. CANOVAS DEL CASTILLO / PASEO. PRADO</td>\n      <td>2</td>\n      <td>3</td>\n      <td>RETIRO</td>\n      <td>Colisión fronto-lateral</td>\n      <td>NaN</td>\n      <td>Motocicleta hasta 125cc</td>\n      <td>...</td>\n      <td>De 30 a 34 años</td>\n      <td>Hombre</td>\n      <td>NaN</td>\n      <td>NaN</td>\n      <td>441155,351</td>\n      <td>4474129,588</td>\n      <td>S</td>\n      <td>NaN</td>\n      <td>NaN</td>\n      <td>NaN</td>\n    </tr>\n    <tr>\n      <th>3</th>\n      <td>2022S000002</td>\n      <td>01/01/2022</td>\n      <td>0:30:00</td>\n      <td>PLAZA. CANOVAS DEL CASTILLO / PASEO. PRADO</td>\n      <td>2</td>\n      <td>3</td>\n      <td>RETIRO</td>\n      <td>Colisión fronto-lateral</td>\n      <td>NaN</td>\n      <td>Motocicleta hasta 125cc</td>\n      <td>...</td>\n      <td>De 35 a 39 años</td>\n      <td>Mujer</td>\n      <td>NaN</td>\n      <td>NaN</td>\n      <td>441155,351</td>\n      <td>4474129,588</td>\n      <td>N</td>\n      <td>NaN</td>\n      <td>NaN</td>\n      <td>NaN</td>\n    </tr>\n    <tr>\n      <th>4</th>\n      <td>2022S000002</td>\n      <td>01/01/2022</td>\n      <td>0:30:00</td>\n      <td>PLAZA. CANOVAS DEL CASTILLO / PASEO. PRADO</td>\n      <td>2</td>\n      <td>3</td>\n      <td>RETIRO</td>\n      <td>Colisión fronto-lateral</td>\n      <td>NaN</td>\n      <td>Turismo</td>\n      <td>...</td>\n      <td>De 40 a 44 años</td>\n      <td>Hombre</td>\n      <td>NaN</td>\n      <td>NaN</td>\n      <td>441155,351</td>\n      <td>4474129,588</td>\n      <td>N</td>\n      <td>NaN</td>\n      <td>NaN</td>\n      <td>NaN</td>\n    </tr>\n  </tbody>\n</table>\n<p>5 rows × 21 columns</p>\n</div>"
     },
     "execution_count": 18,
     "metadata": {},
     "output_type": "execute_result"
    }
   ],
   "source": [
    "import pandas as pd\n",
    "accidentes_2022 = pd.read_csv('./Datasets/2022_Accidentalidad.csv', sep = ';')\n",
    "accidentes_2022.head()"
   ],
   "metadata": {
    "collapsed": false,
    "ExecuteTime": {
     "end_time": "2023-10-23T17:41:53.073984134Z",
     "start_time": "2023-10-23T17:41:52.944389050Z"
    }
   },
   "id": "58842a9ed9327b60"
  },
  {
   "cell_type": "markdown",
   "source": [
    "A continuación, se extraen los campos num_expediente, fecha y hora, distrito, género, tipo de accidente, drogas y alcohol"
   ],
   "metadata": {
    "collapsed": false
   },
   "id": "758c89eb233bf6a"
  },
  {
   "cell_type": "code",
   "execution_count": 24,
   "outputs": [
    {
     "data": {
      "text/plain": "  num_expediente       fecha     hora  cod_distrito            distrito  \\\n0    2022S000001  01/01/2022  1:30:00            13  PUENTE DE VALLECAS   \n1    2022S000001  01/01/2022  1:30:00            13  PUENTE DE VALLECAS   \n2    2022S000002  01/01/2022  0:30:00             3              RETIRO   \n3    2022S000002  01/01/2022  0:30:00             3              RETIRO   \n4    2022S000002  01/01/2022  0:30:00             3              RETIRO   \n\n            tipo_accidente            tipo_vehiculo tipo_persona  \\\n0                  Alcance                  Turismo    Conductor   \n1                  Alcance                  Turismo    Conductor   \n2  Colisión fronto-lateral  Motocicleta hasta 125cc    Conductor   \n3  Colisión fronto-lateral  Motocicleta hasta 125cc     Pasajero   \n4  Colisión fronto-lateral                  Turismo    Conductor   \n\n        rango_edad    sexo positiva_alcohol  positiva_droga  \n0  De 30 a 34 años   Mujer                N             NaN  \n1  De 45 a 49 años  Hombre                N             NaN  \n2  De 30 a 34 años  Hombre                S             NaN  \n3  De 35 a 39 años   Mujer                N             NaN  \n4  De 40 a 44 años  Hombre                N             NaN  ",
      "text/html": "<div>\n<style scoped>\n    .dataframe tbody tr th:only-of-type {\n        vertical-align: middle;\n    }\n\n    .dataframe tbody tr th {\n        vertical-align: top;\n    }\n\n    .dataframe thead th {\n        text-align: right;\n    }\n</style>\n<table border=\"1\" class=\"dataframe\">\n  <thead>\n    <tr style=\"text-align: right;\">\n      <th></th>\n      <th>num_expediente</th>\n      <th>fecha</th>\n      <th>hora</th>\n      <th>cod_distrito</th>\n      <th>distrito</th>\n      <th>tipo_accidente</th>\n      <th>tipo_vehiculo</th>\n      <th>tipo_persona</th>\n      <th>rango_edad</th>\n      <th>sexo</th>\n      <th>positiva_alcohol</th>\n      <th>positiva_droga</th>\n    </tr>\n  </thead>\n  <tbody>\n    <tr>\n      <th>0</th>\n      <td>2022S000001</td>\n      <td>01/01/2022</td>\n      <td>1:30:00</td>\n      <td>13</td>\n      <td>PUENTE DE VALLECAS</td>\n      <td>Alcance</td>\n      <td>Turismo</td>\n      <td>Conductor</td>\n      <td>De 30 a 34 años</td>\n      <td>Mujer</td>\n      <td>N</td>\n      <td>NaN</td>\n    </tr>\n    <tr>\n      <th>1</th>\n      <td>2022S000001</td>\n      <td>01/01/2022</td>\n      <td>1:30:00</td>\n      <td>13</td>\n      <td>PUENTE DE VALLECAS</td>\n      <td>Alcance</td>\n      <td>Turismo</td>\n      <td>Conductor</td>\n      <td>De 45 a 49 años</td>\n      <td>Hombre</td>\n      <td>N</td>\n      <td>NaN</td>\n    </tr>\n    <tr>\n      <th>2</th>\n      <td>2022S000002</td>\n      <td>01/01/2022</td>\n      <td>0:30:00</td>\n      <td>3</td>\n      <td>RETIRO</td>\n      <td>Colisión fronto-lateral</td>\n      <td>Motocicleta hasta 125cc</td>\n      <td>Conductor</td>\n      <td>De 30 a 34 años</td>\n      <td>Hombre</td>\n      <td>S</td>\n      <td>NaN</td>\n    </tr>\n    <tr>\n      <th>3</th>\n      <td>2022S000002</td>\n      <td>01/01/2022</td>\n      <td>0:30:00</td>\n      <td>3</td>\n      <td>RETIRO</td>\n      <td>Colisión fronto-lateral</td>\n      <td>Motocicleta hasta 125cc</td>\n      <td>Pasajero</td>\n      <td>De 35 a 39 años</td>\n      <td>Mujer</td>\n      <td>N</td>\n      <td>NaN</td>\n    </tr>\n    <tr>\n      <th>4</th>\n      <td>2022S000002</td>\n      <td>01/01/2022</td>\n      <td>0:30:00</td>\n      <td>3</td>\n      <td>RETIRO</td>\n      <td>Colisión fronto-lateral</td>\n      <td>Turismo</td>\n      <td>Conductor</td>\n      <td>De 40 a 44 años</td>\n      <td>Hombre</td>\n      <td>N</td>\n      <td>NaN</td>\n    </tr>\n  </tbody>\n</table>\n</div>"
     },
     "execution_count": 24,
     "metadata": {},
     "output_type": "execute_result"
    }
   ],
   "source": [
    "df_2022 = accidentes_2022.drop(columns=['coordenada_x_utm', 'coordenada_y_utm', 'localizacion', 'numero', 'cod_lesividad', 'Unnamed: 19', 'Unnamed: 20', 'estado_meteorológico', 'lesividad'])\n",
    "df_2022.head()"
   ],
   "metadata": {
    "collapsed": false,
    "ExecuteTime": {
     "end_time": "2023-10-23T17:42:29.516604178Z",
     "start_time": "2023-10-23T17:42:29.504916575Z"
    }
   },
   "id": "bd375d609868a332"
  },
  {
   "cell_type": "markdown",
   "source": [
    "Existe un dato redundante, que es el distrito. Se sustituirá por su correspondiente código. Pero antes, vamos a verificar que no existe ningún nulo en la columna cod_distrito"
   ],
   "metadata": {
    "collapsed": false
   },
   "id": "c10e95386af422c8"
  },
  {
   "cell_type": "code",
   "execution_count": 20,
   "outputs": [
    {
     "data": {
      "text/plain": "True"
     },
     "execution_count": 20,
     "metadata": {},
     "output_type": "execute_result"
    }
   ],
   "source": [
    "df_2022['cod_distrito'].count() == df_2022['num_expediente'].count()"
   ],
   "metadata": {
    "collapsed": false,
    "ExecuteTime": {
     "end_time": "2023-10-23T17:41:56.762366148Z",
     "start_time": "2023-10-23T17:41:56.753638658Z"
    }
   },
   "id": "743445b8b44a83bf"
  },
  {
   "cell_type": "markdown",
   "source": [
    "Por tanto, existen tantos no nulos como números de expediente en cod_distrito. Podemos eliminar la columna distrito."
   ],
   "metadata": {
    "collapsed": false
   },
   "id": "703dc6c864c0d5e5"
  },
  {
   "cell_type": "code",
   "execution_count": 25,
   "outputs": [
    {
     "data": {
      "text/plain": "  num_expediente       fecha     hora  cod_distrito           tipo_accidente  \\\n0    2022S000001  01/01/2022  1:30:00            13                  Alcance   \n1    2022S000001  01/01/2022  1:30:00            13                  Alcance   \n2    2022S000002  01/01/2022  0:30:00             3  Colisión fronto-lateral   \n3    2022S000002  01/01/2022  0:30:00             3  Colisión fronto-lateral   \n4    2022S000002  01/01/2022  0:30:00             3  Colisión fronto-lateral   \n\n             tipo_vehiculo tipo_persona       rango_edad    sexo  \\\n0                  Turismo    Conductor  De 30 a 34 años   Mujer   \n1                  Turismo    Conductor  De 45 a 49 años  Hombre   \n2  Motocicleta hasta 125cc    Conductor  De 30 a 34 años  Hombre   \n3  Motocicleta hasta 125cc     Pasajero  De 35 a 39 años   Mujer   \n4                  Turismo    Conductor  De 40 a 44 años  Hombre   \n\n  positiva_alcohol  positiva_droga  \n0                N             NaN  \n1                N             NaN  \n2                S             NaN  \n3                N             NaN  \n4                N             NaN  ",
      "text/html": "<div>\n<style scoped>\n    .dataframe tbody tr th:only-of-type {\n        vertical-align: middle;\n    }\n\n    .dataframe tbody tr th {\n        vertical-align: top;\n    }\n\n    .dataframe thead th {\n        text-align: right;\n    }\n</style>\n<table border=\"1\" class=\"dataframe\">\n  <thead>\n    <tr style=\"text-align: right;\">\n      <th></th>\n      <th>num_expediente</th>\n      <th>fecha</th>\n      <th>hora</th>\n      <th>cod_distrito</th>\n      <th>tipo_accidente</th>\n      <th>tipo_vehiculo</th>\n      <th>tipo_persona</th>\n      <th>rango_edad</th>\n      <th>sexo</th>\n      <th>positiva_alcohol</th>\n      <th>positiva_droga</th>\n    </tr>\n  </thead>\n  <tbody>\n    <tr>\n      <th>0</th>\n      <td>2022S000001</td>\n      <td>01/01/2022</td>\n      <td>1:30:00</td>\n      <td>13</td>\n      <td>Alcance</td>\n      <td>Turismo</td>\n      <td>Conductor</td>\n      <td>De 30 a 34 años</td>\n      <td>Mujer</td>\n      <td>N</td>\n      <td>NaN</td>\n    </tr>\n    <tr>\n      <th>1</th>\n      <td>2022S000001</td>\n      <td>01/01/2022</td>\n      <td>1:30:00</td>\n      <td>13</td>\n      <td>Alcance</td>\n      <td>Turismo</td>\n      <td>Conductor</td>\n      <td>De 45 a 49 años</td>\n      <td>Hombre</td>\n      <td>N</td>\n      <td>NaN</td>\n    </tr>\n    <tr>\n      <th>2</th>\n      <td>2022S000002</td>\n      <td>01/01/2022</td>\n      <td>0:30:00</td>\n      <td>3</td>\n      <td>Colisión fronto-lateral</td>\n      <td>Motocicleta hasta 125cc</td>\n      <td>Conductor</td>\n      <td>De 30 a 34 años</td>\n      <td>Hombre</td>\n      <td>S</td>\n      <td>NaN</td>\n    </tr>\n    <tr>\n      <th>3</th>\n      <td>2022S000002</td>\n      <td>01/01/2022</td>\n      <td>0:30:00</td>\n      <td>3</td>\n      <td>Colisión fronto-lateral</td>\n      <td>Motocicleta hasta 125cc</td>\n      <td>Pasajero</td>\n      <td>De 35 a 39 años</td>\n      <td>Mujer</td>\n      <td>N</td>\n      <td>NaN</td>\n    </tr>\n    <tr>\n      <th>4</th>\n      <td>2022S000002</td>\n      <td>01/01/2022</td>\n      <td>0:30:00</td>\n      <td>3</td>\n      <td>Colisión fronto-lateral</td>\n      <td>Turismo</td>\n      <td>Conductor</td>\n      <td>De 40 a 44 años</td>\n      <td>Hombre</td>\n      <td>N</td>\n      <td>NaN</td>\n    </tr>\n  </tbody>\n</table>\n</div>"
     },
     "execution_count": 25,
     "metadata": {},
     "output_type": "execute_result"
    }
   ],
   "source": [
    "df_2022.pop('distrito')\n",
    "df_2022.head()"
   ],
   "metadata": {
    "collapsed": false,
    "ExecuteTime": {
     "end_time": "2023-10-23T17:42:31.394623691Z",
     "start_time": "2023-10-23T17:42:31.387487240Z"
    }
   },
   "id": "22fa5326a8a81b7a"
  },
  {
   "cell_type": "markdown",
   "source": [
    "Para poder tratar correctamente con los datos, vamos a convertir todos los datos posibles en números. Empezamos por positivo_alcohol y positivo_droga, que se cambiarán por 0 y 1.\n",
    "\n",
    "Esta parte del código nos la propociona el compañero Luca"
   ],
   "metadata": {
    "collapsed": false
   },
   "id": "47022876ebf59d31"
  },
  {
   "cell_type": "code",
   "execution_count": null,
   "outputs": [],
   "source": [],
   "metadata": {
    "collapsed": false
   },
   "id": "9fbd57c86e725dc7"
  }
 ],
 "metadata": {
  "kernelspec": {
   "display_name": "Python 3",
   "language": "python",
   "name": "python3"
  },
  "language_info": {
   "codemirror_mode": {
    "name": "ipython",
    "version": 2
   },
   "file_extension": ".py",
   "mimetype": "text/x-python",
   "name": "python",
   "nbconvert_exporter": "python",
   "pygments_lexer": "ipython2",
   "version": "2.7.6"
  }
 },
 "nbformat": 4,
 "nbformat_minor": 5
}
