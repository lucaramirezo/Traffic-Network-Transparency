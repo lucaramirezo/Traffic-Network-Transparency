{
 "cells": [
  {
   "cell_type": "markdown",
   "source": [
    "# Tratamiento de nulos en el campo Edad\n",
    "Siguiendo el trabajo de mi compañero Luca, existen muchos valores nulos en el campo de edad que habrá de tratar.\n",
    "\n",
    "## Hipótesis\n",
    "La predicción de la edad solo será la del conductor, que es quién determina lógicamente tiene más correlación con el número de accidentes.\n",
    "\n",
    "Para predecir el campo de la edad se tendrán en cuenta las siguientes variables del csv Accidentes_20XX\n",
    "1. La edad de los demás pasajeros: La edad de los demás pasajeros guarda relación con la edad del conductor. Un conductor jóven es más improbable que lleve a pasajeros menores de edad que un conductor más mayor.\n",
    "2. La fecha y hora del accidente: Es posible que la fecha y la hora guarde alguna relación con la edad del conductor.\n",
    "3. El distrito: Es posible que algunos distritos tengan conductores más jóvenes y otros conductores más mayores.\n",
    "4. Género: Es posible que existan distinta distribución por edad en relación con el género.\n",
    "5. Tipo de accidente: Es posible que los jóvenes tengan más accidentes de un tipo que los mayores.\n",
    "6. Drogas y alcohol: Es posible que los jóvenes sean más propensos a conducir bajo influencia de drogas que las personas más mayores.\n",
    "7. Tipo de vehículo: Es posible que los vehículos industriales sean conducidos por personas más mayores\n",
    "\n",
    "A continuación se seleccionan los campos a tratar en el dataframe y se proporciona una vista previa a fin de refrescar al lector sobre la estructura de los datos"
   ],
   "metadata": {
    "collapsed": false
   },
   "id": "eb43294479fb0dc7"
  },
  {
   "cell_type": "code",
   "execution_count": 267,
   "outputs": [
    {
     "name": "stderr",
     "output_type": "stream",
     "text": [
      "/tmp/ipykernel_32971/3255132315.py:5: DtypeWarning: Columns (15,16) have mixed types. Specify dtype option on import or set low_memory=False.\n",
      "  accidentes_2022 = pd.read_csv('./Datasets/Data_Combinada.csv')\n"
     ]
    },
    {
     "data": {
      "text/plain": "      num_expediente       fecha      hora  \\\n0        2022S000001  01/01/2022   1:30:00   \n1        2022S000001  01/01/2022   1:30:00   \n2        2022S000002  01/01/2022   0:30:00   \n3        2022S000002  01/01/2022   0:30:00   \n4        2022S000002  01/01/2022   0:30:00   \n...              ...         ...       ...   \n74956    2023S028337  31/08/2023  23:20:00   \n74957    2023S028341  31/08/2023  22:30:00   \n74958    2023S028341  31/08/2023  22:30:00   \n74959    2023S028352  31/08/2023  14:40:00   \n74960    2023S029136  02/08/2023  22:10:00   \n\n                                     localizacion  numero  cod_distrito  \\\n0                              AVDA. ALBUFERA, 19      19          13.0   \n1                              AVDA. ALBUFERA, 19      19          13.0   \n2      PLAZA. CANOVAS DEL CASTILLO / PASEO. PRADO       2           3.0   \n3      PLAZA. CANOVAS DEL CASTILLO / PASEO. PRADO       2           3.0   \n4      PLAZA. CANOVAS DEL CASTILLO / PASEO. PRADO       2           3.0   \n...                                           ...     ...           ...   \n74956                 CALL. GOLFO DE SALONICA, 12      12          16.0   \n74957                           CALLE SAN SERAPIO       1          12.0   \n74958                           CALLE SAN SERAPIO       1          12.0   \n74959                         AUTOV. M-30, 00NC06  00NC06           5.0   \n74960             AVDA. CARDENAL HERRERA ORIA, 80      80           8.0   \n\n                  distrito                tipo_accidente estado_meteorológico  \\\n0       PUENTE DE VALLECAS                       Alcance            Despejado   \n1       PUENTE DE VALLECAS                       Alcance            Despejado   \n2                   RETIRO       Colisión fronto-lateral                  NaN   \n3                   RETIRO       Colisión fronto-lateral                  NaN   \n4                   RETIRO       Colisión fronto-lateral                  NaN   \n...                    ...                           ...                  ...   \n74956            HORTALEZA                          Otro            Despejado   \n74957                USERA                       Alcance            Despejado   \n74958                USERA                       Alcance            Despejado   \n74959            CHAMARTÍN                         Caída            Despejado   \n74960  FUENCARRAL-EL PARDO  Choque contra obstáculo fijo                  NaN   \n\n                 tipo_vehiculo tipo_persona       rango_edad sexo  \\\n0                      Turismo    Conductor  De 30 a 34 años    M   \n1                      Turismo    Conductor  De 45 a 49 años    H   \n2      Motocicleta hasta 125cc    Conductor  De 30 a 34 años    H   \n3      Motocicleta hasta 125cc     Pasajero  De 35 a 39 años    M   \n4                      Turismo    Conductor  De 40 a 44 años    H   \n...                        ...          ...              ...  ...   \n74956                  Turismo     Pasajero  De 55 a 59 años    M   \n74957  Motocicleta hasta 125cc    Conductor  De 30 a 34 años    H   \n74958                  Turismo    Conductor  De 35 a 39 años    H   \n74959  Motocicleta hasta 125cc    Conductor  De 40 a 44 años    H   \n74960                  Turismo    Conductor  De 35 a 39 años    H   \n\n       cod_lesividad                                          lesividad  \\\n0                NaN                                                NaN   \n1                NaN                                                NaN   \n2                NaN                                                NaN   \n3                NaN                                                NaN   \n4                NaN                                                NaN   \n...              ...                                                ...   \n74956           14.0                           Sin asistencia sanitaria   \n74957            7.0  Asistencia sanitaria sólo en el lugar del acci...   \n74958           14.0                           Sin asistencia sanitaria   \n74959            1.0        Atención en urgencias sin posterior ingreso   \n74960            NaN                                                NaN   \n\n      coordenada_x_utm coordenada_y_utm  positiva_alcohol  positiva_droga  \n0           443359,226      4472082,272                 0             0.0  \n1           443359,226      4472082,272                 0             0.0  \n2           441155,351      4474129,588                 1             0.0  \n3           441155,351      4474129,588                 0             0.0  \n4           441155,351      4474129,588                 0             0.0  \n...                ...              ...               ...             ...  \n74956       443580.365      4480912.376                 0             0.0  \n74957        440795.55      4471044.789                 0             0.0  \n74958        440795.55      4471044.789                 0             0.0  \n74959         442825.5      4481003.193                 0             0.0  \n74960       441491.437       4482518.59                 0             0.0  \n\n[74961 rows x 19 columns]",
      "text/html": "<div>\n<style scoped>\n    .dataframe tbody tr th:only-of-type {\n        vertical-align: middle;\n    }\n\n    .dataframe tbody tr th {\n        vertical-align: top;\n    }\n\n    .dataframe thead th {\n        text-align: right;\n    }\n</style>\n<table border=\"1\" class=\"dataframe\">\n  <thead>\n    <tr style=\"text-align: right;\">\n      <th></th>\n      <th>num_expediente</th>\n      <th>fecha</th>\n      <th>hora</th>\n      <th>localizacion</th>\n      <th>numero</th>\n      <th>cod_distrito</th>\n      <th>distrito</th>\n      <th>tipo_accidente</th>\n      <th>estado_meteorológico</th>\n      <th>tipo_vehiculo</th>\n      <th>tipo_persona</th>\n      <th>rango_edad</th>\n      <th>sexo</th>\n      <th>cod_lesividad</th>\n      <th>lesividad</th>\n      <th>coordenada_x_utm</th>\n      <th>coordenada_y_utm</th>\n      <th>positiva_alcohol</th>\n      <th>positiva_droga</th>\n    </tr>\n  </thead>\n  <tbody>\n    <tr>\n      <th>0</th>\n      <td>2022S000001</td>\n      <td>01/01/2022</td>\n      <td>1:30:00</td>\n      <td>AVDA. ALBUFERA, 19</td>\n      <td>19</td>\n      <td>13.0</td>\n      <td>PUENTE DE VALLECAS</td>\n      <td>Alcance</td>\n      <td>Despejado</td>\n      <td>Turismo</td>\n      <td>Conductor</td>\n      <td>De 30 a 34 años</td>\n      <td>M</td>\n      <td>NaN</td>\n      <td>NaN</td>\n      <td>443359,226</td>\n      <td>4472082,272</td>\n      <td>0</td>\n      <td>0.0</td>\n    </tr>\n    <tr>\n      <th>1</th>\n      <td>2022S000001</td>\n      <td>01/01/2022</td>\n      <td>1:30:00</td>\n      <td>AVDA. ALBUFERA, 19</td>\n      <td>19</td>\n      <td>13.0</td>\n      <td>PUENTE DE VALLECAS</td>\n      <td>Alcance</td>\n      <td>Despejado</td>\n      <td>Turismo</td>\n      <td>Conductor</td>\n      <td>De 45 a 49 años</td>\n      <td>H</td>\n      <td>NaN</td>\n      <td>NaN</td>\n      <td>443359,226</td>\n      <td>4472082,272</td>\n      <td>0</td>\n      <td>0.0</td>\n    </tr>\n    <tr>\n      <th>2</th>\n      <td>2022S000002</td>\n      <td>01/01/2022</td>\n      <td>0:30:00</td>\n      <td>PLAZA. CANOVAS DEL CASTILLO / PASEO. PRADO</td>\n      <td>2</td>\n      <td>3.0</td>\n      <td>RETIRO</td>\n      <td>Colisión fronto-lateral</td>\n      <td>NaN</td>\n      <td>Motocicleta hasta 125cc</td>\n      <td>Conductor</td>\n      <td>De 30 a 34 años</td>\n      <td>H</td>\n      <td>NaN</td>\n      <td>NaN</td>\n      <td>441155,351</td>\n      <td>4474129,588</td>\n      <td>1</td>\n      <td>0.0</td>\n    </tr>\n    <tr>\n      <th>3</th>\n      <td>2022S000002</td>\n      <td>01/01/2022</td>\n      <td>0:30:00</td>\n      <td>PLAZA. CANOVAS DEL CASTILLO / PASEO. PRADO</td>\n      <td>2</td>\n      <td>3.0</td>\n      <td>RETIRO</td>\n      <td>Colisión fronto-lateral</td>\n      <td>NaN</td>\n      <td>Motocicleta hasta 125cc</td>\n      <td>Pasajero</td>\n      <td>De 35 a 39 años</td>\n      <td>M</td>\n      <td>NaN</td>\n      <td>NaN</td>\n      <td>441155,351</td>\n      <td>4474129,588</td>\n      <td>0</td>\n      <td>0.0</td>\n    </tr>\n    <tr>\n      <th>4</th>\n      <td>2022S000002</td>\n      <td>01/01/2022</td>\n      <td>0:30:00</td>\n      <td>PLAZA. CANOVAS DEL CASTILLO / PASEO. PRADO</td>\n      <td>2</td>\n      <td>3.0</td>\n      <td>RETIRO</td>\n      <td>Colisión fronto-lateral</td>\n      <td>NaN</td>\n      <td>Turismo</td>\n      <td>Conductor</td>\n      <td>De 40 a 44 años</td>\n      <td>H</td>\n      <td>NaN</td>\n      <td>NaN</td>\n      <td>441155,351</td>\n      <td>4474129,588</td>\n      <td>0</td>\n      <td>0.0</td>\n    </tr>\n    <tr>\n      <th>...</th>\n      <td>...</td>\n      <td>...</td>\n      <td>...</td>\n      <td>...</td>\n      <td>...</td>\n      <td>...</td>\n      <td>...</td>\n      <td>...</td>\n      <td>...</td>\n      <td>...</td>\n      <td>...</td>\n      <td>...</td>\n      <td>...</td>\n      <td>...</td>\n      <td>...</td>\n      <td>...</td>\n      <td>...</td>\n      <td>...</td>\n      <td>...</td>\n    </tr>\n    <tr>\n      <th>74956</th>\n      <td>2023S028337</td>\n      <td>31/08/2023</td>\n      <td>23:20:00</td>\n      <td>CALL. GOLFO DE SALONICA, 12</td>\n      <td>12</td>\n      <td>16.0</td>\n      <td>HORTALEZA</td>\n      <td>Otro</td>\n      <td>Despejado</td>\n      <td>Turismo</td>\n      <td>Pasajero</td>\n      <td>De 55 a 59 años</td>\n      <td>M</td>\n      <td>14.0</td>\n      <td>Sin asistencia sanitaria</td>\n      <td>443580.365</td>\n      <td>4480912.376</td>\n      <td>0</td>\n      <td>0.0</td>\n    </tr>\n    <tr>\n      <th>74957</th>\n      <td>2023S028341</td>\n      <td>31/08/2023</td>\n      <td>22:30:00</td>\n      <td>CALLE SAN SERAPIO</td>\n      <td>1</td>\n      <td>12.0</td>\n      <td>USERA</td>\n      <td>Alcance</td>\n      <td>Despejado</td>\n      <td>Motocicleta hasta 125cc</td>\n      <td>Conductor</td>\n      <td>De 30 a 34 años</td>\n      <td>H</td>\n      <td>7.0</td>\n      <td>Asistencia sanitaria sólo en el lugar del acci...</td>\n      <td>440795.55</td>\n      <td>4471044.789</td>\n      <td>0</td>\n      <td>0.0</td>\n    </tr>\n    <tr>\n      <th>74958</th>\n      <td>2023S028341</td>\n      <td>31/08/2023</td>\n      <td>22:30:00</td>\n      <td>CALLE SAN SERAPIO</td>\n      <td>1</td>\n      <td>12.0</td>\n      <td>USERA</td>\n      <td>Alcance</td>\n      <td>Despejado</td>\n      <td>Turismo</td>\n      <td>Conductor</td>\n      <td>De 35 a 39 años</td>\n      <td>H</td>\n      <td>14.0</td>\n      <td>Sin asistencia sanitaria</td>\n      <td>440795.55</td>\n      <td>4471044.789</td>\n      <td>0</td>\n      <td>0.0</td>\n    </tr>\n    <tr>\n      <th>74959</th>\n      <td>2023S028352</td>\n      <td>31/08/2023</td>\n      <td>14:40:00</td>\n      <td>AUTOV. M-30, 00NC06</td>\n      <td>00NC06</td>\n      <td>5.0</td>\n      <td>CHAMARTÍN</td>\n      <td>Caída</td>\n      <td>Despejado</td>\n      <td>Motocicleta hasta 125cc</td>\n      <td>Conductor</td>\n      <td>De 40 a 44 años</td>\n      <td>H</td>\n      <td>1.0</td>\n      <td>Atención en urgencias sin posterior ingreso</td>\n      <td>442825.5</td>\n      <td>4481003.193</td>\n      <td>0</td>\n      <td>0.0</td>\n    </tr>\n    <tr>\n      <th>74960</th>\n      <td>2023S029136</td>\n      <td>02/08/2023</td>\n      <td>22:10:00</td>\n      <td>AVDA. CARDENAL HERRERA ORIA, 80</td>\n      <td>80</td>\n      <td>8.0</td>\n      <td>FUENCARRAL-EL PARDO</td>\n      <td>Choque contra obstáculo fijo</td>\n      <td>NaN</td>\n      <td>Turismo</td>\n      <td>Conductor</td>\n      <td>De 35 a 39 años</td>\n      <td>H</td>\n      <td>NaN</td>\n      <td>NaN</td>\n      <td>441491.437</td>\n      <td>4482518.59</td>\n      <td>0</td>\n      <td>0.0</td>\n    </tr>\n  </tbody>\n</table>\n<p>74961 rows × 19 columns</p>\n</div>"
     },
     "execution_count": 267,
     "metadata": {},
     "output_type": "execute_result"
    }
   ],
   "source": [
    "import pandas as pd\n",
    "import numpy as np\n",
    "from matplotlib.testing.jpl_units import day\n",
    "\n",
    "accidentes_2022 = pd.read_csv('./Datasets/Data_Combinada.csv')\n",
    "accidentes_2022"
   ],
   "metadata": {
    "collapsed": false,
    "ExecuteTime": {
     "end_time": "2023-10-26T16:42:31.682740776Z",
     "start_time": "2023-10-26T16:42:31.212751454Z"
    }
   },
   "id": "58842a9ed9327b60"
  },
  {
   "cell_type": "markdown",
   "source": [
    "### Extracción de campos\n",
    "A continuación, se extraen los campos num_expediente, fecha y hora, distrito, género, tipo de accidente, drogas y alcohol"
   ],
   "metadata": {
    "collapsed": false
   },
   "id": "758c89eb233bf6a"
  },
  {
   "cell_type": "code",
   "execution_count": 268,
   "outputs": [
    {
     "data": {
      "text/plain": "  num_expediente       fecha     hora  cod_distrito            distrito  \\\n0    2022S000001  01/01/2022  1:30:00          13.0  PUENTE DE VALLECAS   \n1    2022S000001  01/01/2022  1:30:00          13.0  PUENTE DE VALLECAS   \n2    2022S000002  01/01/2022  0:30:00           3.0              RETIRO   \n3    2022S000002  01/01/2022  0:30:00           3.0              RETIRO   \n4    2022S000002  01/01/2022  0:30:00           3.0              RETIRO   \n\n            tipo_accidente            tipo_vehiculo tipo_persona  \\\n0                  Alcance                  Turismo    Conductor   \n1                  Alcance                  Turismo    Conductor   \n2  Colisión fronto-lateral  Motocicleta hasta 125cc    Conductor   \n3  Colisión fronto-lateral  Motocicleta hasta 125cc     Pasajero   \n4  Colisión fronto-lateral                  Turismo    Conductor   \n\n        rango_edad sexo  positiva_alcohol  positiva_droga  \n0  De 30 a 34 años    M                 0             0.0  \n1  De 45 a 49 años    H                 0             0.0  \n2  De 30 a 34 años    H                 1             0.0  \n3  De 35 a 39 años    M                 0             0.0  \n4  De 40 a 44 años    H                 0             0.0  ",
      "text/html": "<div>\n<style scoped>\n    .dataframe tbody tr th:only-of-type {\n        vertical-align: middle;\n    }\n\n    .dataframe tbody tr th {\n        vertical-align: top;\n    }\n\n    .dataframe thead th {\n        text-align: right;\n    }\n</style>\n<table border=\"1\" class=\"dataframe\">\n  <thead>\n    <tr style=\"text-align: right;\">\n      <th></th>\n      <th>num_expediente</th>\n      <th>fecha</th>\n      <th>hora</th>\n      <th>cod_distrito</th>\n      <th>distrito</th>\n      <th>tipo_accidente</th>\n      <th>tipo_vehiculo</th>\n      <th>tipo_persona</th>\n      <th>rango_edad</th>\n      <th>sexo</th>\n      <th>positiva_alcohol</th>\n      <th>positiva_droga</th>\n    </tr>\n  </thead>\n  <tbody>\n    <tr>\n      <th>0</th>\n      <td>2022S000001</td>\n      <td>01/01/2022</td>\n      <td>1:30:00</td>\n      <td>13.0</td>\n      <td>PUENTE DE VALLECAS</td>\n      <td>Alcance</td>\n      <td>Turismo</td>\n      <td>Conductor</td>\n      <td>De 30 a 34 años</td>\n      <td>M</td>\n      <td>0</td>\n      <td>0.0</td>\n    </tr>\n    <tr>\n      <th>1</th>\n      <td>2022S000001</td>\n      <td>01/01/2022</td>\n      <td>1:30:00</td>\n      <td>13.0</td>\n      <td>PUENTE DE VALLECAS</td>\n      <td>Alcance</td>\n      <td>Turismo</td>\n      <td>Conductor</td>\n      <td>De 45 a 49 años</td>\n      <td>H</td>\n      <td>0</td>\n      <td>0.0</td>\n    </tr>\n    <tr>\n      <th>2</th>\n      <td>2022S000002</td>\n      <td>01/01/2022</td>\n      <td>0:30:00</td>\n      <td>3.0</td>\n      <td>RETIRO</td>\n      <td>Colisión fronto-lateral</td>\n      <td>Motocicleta hasta 125cc</td>\n      <td>Conductor</td>\n      <td>De 30 a 34 años</td>\n      <td>H</td>\n      <td>1</td>\n      <td>0.0</td>\n    </tr>\n    <tr>\n      <th>3</th>\n      <td>2022S000002</td>\n      <td>01/01/2022</td>\n      <td>0:30:00</td>\n      <td>3.0</td>\n      <td>RETIRO</td>\n      <td>Colisión fronto-lateral</td>\n      <td>Motocicleta hasta 125cc</td>\n      <td>Pasajero</td>\n      <td>De 35 a 39 años</td>\n      <td>M</td>\n      <td>0</td>\n      <td>0.0</td>\n    </tr>\n    <tr>\n      <th>4</th>\n      <td>2022S000002</td>\n      <td>01/01/2022</td>\n      <td>0:30:00</td>\n      <td>3.0</td>\n      <td>RETIRO</td>\n      <td>Colisión fronto-lateral</td>\n      <td>Turismo</td>\n      <td>Conductor</td>\n      <td>De 40 a 44 años</td>\n      <td>H</td>\n      <td>0</td>\n      <td>0.0</td>\n    </tr>\n  </tbody>\n</table>\n</div>"
     },
     "execution_count": 268,
     "metadata": {},
     "output_type": "execute_result"
    }
   ],
   "source": [
    "df_2022 = accidentes_2022.drop(\n",
    "    columns=['coordenada_x_utm', 'coordenada_y_utm', 'localizacion', 'numero', 'cod_lesividad', 'estado_meteorológico',\n",
    "             'lesividad'])\n",
    "df_2022.head()"
   ],
   "metadata": {
    "collapsed": false,
    "ExecuteTime": {
     "end_time": "2023-10-26T16:42:31.683328319Z",
     "start_time": "2023-10-26T16:42:31.501800039Z"
    }
   },
   "id": "bd375d609868a332"
  },
  {
   "cell_type": "markdown",
   "source": [
    "## Temporalmente\n",
    "\n",
    "Eliminar todos los vehículos nulos"
   ],
   "metadata": {
    "collapsed": false
   },
   "id": "8b4d0b13f54eabef"
  },
  {
   "cell_type": "code",
   "execution_count": 269,
   "outputs": [
    {
     "data": {
      "text/plain": "Empty DataFrame\nColumns: [num_expediente, fecha, hora, cod_distrito, distrito, tipo_accidente, tipo_vehiculo, tipo_persona, rango_edad, sexo, positiva_alcohol, positiva_droga]\nIndex: []",
      "text/html": "<div>\n<style scoped>\n    .dataframe tbody tr th:only-of-type {\n        vertical-align: middle;\n    }\n\n    .dataframe tbody tr th {\n        vertical-align: top;\n    }\n\n    .dataframe thead th {\n        text-align: right;\n    }\n</style>\n<table border=\"1\" class=\"dataframe\">\n  <thead>\n    <tr style=\"text-align: right;\">\n      <th></th>\n      <th>num_expediente</th>\n      <th>fecha</th>\n      <th>hora</th>\n      <th>cod_distrito</th>\n      <th>distrito</th>\n      <th>tipo_accidente</th>\n      <th>tipo_vehiculo</th>\n      <th>tipo_persona</th>\n      <th>rango_edad</th>\n      <th>sexo</th>\n      <th>positiva_alcohol</th>\n      <th>positiva_droga</th>\n    </tr>\n  </thead>\n  <tbody>\n  </tbody>\n</table>\n</div>"
     },
     "execution_count": 269,
     "metadata": {},
     "output_type": "execute_result"
    }
   ],
   "source": [
    "df_2022 = df_2022[~df_2022['tipo_vehiculo'].isnull()]\n",
    "df_2022[df_2022['tipo_vehiculo'].isnull()]"
   ],
   "metadata": {
    "collapsed": false,
    "ExecuteTime": {
     "end_time": "2023-10-26T16:42:31.683679820Z",
     "start_time": "2023-10-26T16:42:31.502002747Z"
    }
   },
   "id": "511e44ce5fe0ba2"
  },
  {
   "cell_type": "markdown",
   "source": [
    "### Limpieza\n",
    "Existe un dato redundante, que es el distrito. Se sustituirá por su correspondiente código. Pero antes, vamos a verificar que no existe ningún nulo en la columna cod_distrito"
   ],
   "metadata": {
    "collapsed": false
   },
   "id": "c10e95386af422c8"
  },
  {
   "cell_type": "code",
   "execution_count": 270,
   "outputs": [
    {
     "data": {
      "text/plain": "False"
     },
     "execution_count": 270,
     "metadata": {},
     "output_type": "execute_result"
    }
   ],
   "source": [
    "df_2022['cod_distrito'].count() == df_2022['num_expediente'].count()"
   ],
   "metadata": {
    "collapsed": false,
    "ExecuteTime": {
     "end_time": "2023-10-26T16:42:31.683899233Z",
     "start_time": "2023-10-26T16:42:31.502059783Z"
    }
   },
   "id": "743445b8b44a83bf"
  },
  {
   "cell_type": "markdown",
   "source": [
    "Por tanto, existen tantos no nulos como números de expediente en cod_distrito. Podemos eliminar la columna distrito."
   ],
   "metadata": {
    "collapsed": false
   },
   "id": "703dc6c864c0d5e5"
  },
  {
   "cell_type": "code",
   "execution_count": 271,
   "outputs": [
    {
     "data": {
      "text/plain": "  num_expediente       fecha     hora  cod_distrito           tipo_accidente  \\\n0    2022S000001  01/01/2022  1:30:00          13.0                  Alcance   \n1    2022S000001  01/01/2022  1:30:00          13.0                  Alcance   \n2    2022S000002  01/01/2022  0:30:00           3.0  Colisión fronto-lateral   \n3    2022S000002  01/01/2022  0:30:00           3.0  Colisión fronto-lateral   \n4    2022S000002  01/01/2022  0:30:00           3.0  Colisión fronto-lateral   \n\n             tipo_vehiculo tipo_persona       rango_edad sexo  \\\n0                  Turismo    Conductor  De 30 a 34 años    M   \n1                  Turismo    Conductor  De 45 a 49 años    H   \n2  Motocicleta hasta 125cc    Conductor  De 30 a 34 años    H   \n3  Motocicleta hasta 125cc     Pasajero  De 35 a 39 años    M   \n4                  Turismo    Conductor  De 40 a 44 años    H   \n\n   positiva_alcohol  positiva_droga  \n0                 0             0.0  \n1                 0             0.0  \n2                 1             0.0  \n3                 0             0.0  \n4                 0             0.0  ",
      "text/html": "<div>\n<style scoped>\n    .dataframe tbody tr th:only-of-type {\n        vertical-align: middle;\n    }\n\n    .dataframe tbody tr th {\n        vertical-align: top;\n    }\n\n    .dataframe thead th {\n        text-align: right;\n    }\n</style>\n<table border=\"1\" class=\"dataframe\">\n  <thead>\n    <tr style=\"text-align: right;\">\n      <th></th>\n      <th>num_expediente</th>\n      <th>fecha</th>\n      <th>hora</th>\n      <th>cod_distrito</th>\n      <th>tipo_accidente</th>\n      <th>tipo_vehiculo</th>\n      <th>tipo_persona</th>\n      <th>rango_edad</th>\n      <th>sexo</th>\n      <th>positiva_alcohol</th>\n      <th>positiva_droga</th>\n    </tr>\n  </thead>\n  <tbody>\n    <tr>\n      <th>0</th>\n      <td>2022S000001</td>\n      <td>01/01/2022</td>\n      <td>1:30:00</td>\n      <td>13.0</td>\n      <td>Alcance</td>\n      <td>Turismo</td>\n      <td>Conductor</td>\n      <td>De 30 a 34 años</td>\n      <td>M</td>\n      <td>0</td>\n      <td>0.0</td>\n    </tr>\n    <tr>\n      <th>1</th>\n      <td>2022S000001</td>\n      <td>01/01/2022</td>\n      <td>1:30:00</td>\n      <td>13.0</td>\n      <td>Alcance</td>\n      <td>Turismo</td>\n      <td>Conductor</td>\n      <td>De 45 a 49 años</td>\n      <td>H</td>\n      <td>0</td>\n      <td>0.0</td>\n    </tr>\n    <tr>\n      <th>2</th>\n      <td>2022S000002</td>\n      <td>01/01/2022</td>\n      <td>0:30:00</td>\n      <td>3.0</td>\n      <td>Colisión fronto-lateral</td>\n      <td>Motocicleta hasta 125cc</td>\n      <td>Conductor</td>\n      <td>De 30 a 34 años</td>\n      <td>H</td>\n      <td>1</td>\n      <td>0.0</td>\n    </tr>\n    <tr>\n      <th>3</th>\n      <td>2022S000002</td>\n      <td>01/01/2022</td>\n      <td>0:30:00</td>\n      <td>3.0</td>\n      <td>Colisión fronto-lateral</td>\n      <td>Motocicleta hasta 125cc</td>\n      <td>Pasajero</td>\n      <td>De 35 a 39 años</td>\n      <td>M</td>\n      <td>0</td>\n      <td>0.0</td>\n    </tr>\n    <tr>\n      <th>4</th>\n      <td>2022S000002</td>\n      <td>01/01/2022</td>\n      <td>0:30:00</td>\n      <td>3.0</td>\n      <td>Colisión fronto-lateral</td>\n      <td>Turismo</td>\n      <td>Conductor</td>\n      <td>De 40 a 44 años</td>\n      <td>H</td>\n      <td>0</td>\n      <td>0.0</td>\n    </tr>\n  </tbody>\n</table>\n</div>"
     },
     "execution_count": 271,
     "metadata": {},
     "output_type": "execute_result"
    }
   ],
   "source": [
    "df_2022.pop('distrito')\n",
    "df_2022.head()"
   ],
   "metadata": {
    "collapsed": false,
    "ExecuteTime": {
     "end_time": "2023-10-26T16:42:31.684265569Z",
     "start_time": "2023-10-26T16:42:31.506026135Z"
    }
   },
   "id": "22fa5326a8a81b7a"
  },
  {
   "cell_type": "markdown",
   "source": [
    "Para poder tratar correctamente con los datos, vamos a convertir todos los datos posibles en números. Empezamos por positivo_alcohol y positivo_droga, que se cambiarán por 0 y 1.\n",
    "\n",
    "Esta parte del código nos la propociona el compañero Luca\n",
    "1. Sustituímos S por 1 y N por 0, Rellenamos los nulos en drogas por 0.\n",
    "2. Sustituímos Hombre por 1 y Mujer por 0."
   ],
   "metadata": {
    "collapsed": false
   },
   "id": "47022876ebf59d31"
  },
  {
   "cell_type": "code",
   "execution_count": 272,
   "outputs": [
    {
     "data": {
      "text/plain": "  num_expediente       fecha     hora  cod_distrito           tipo_accidente  \\\n0    2022S000001  01/01/2022  1:30:00          13.0                  Alcance   \n1    2022S000001  01/01/2022  1:30:00          13.0                  Alcance   \n2    2022S000002  01/01/2022  0:30:00           3.0  Colisión fronto-lateral   \n3    2022S000002  01/01/2022  0:30:00           3.0  Colisión fronto-lateral   \n4    2022S000002  01/01/2022  0:30:00           3.0  Colisión fronto-lateral   \n\n             tipo_vehiculo tipo_persona       rango_edad  sexo  \\\n0                  Turismo    Conductor  De 30 a 34 años     0   \n1                  Turismo    Conductor  De 45 a 49 años     1   \n2  Motocicleta hasta 125cc    Conductor  De 30 a 34 años     1   \n3  Motocicleta hasta 125cc     Pasajero  De 35 a 39 años     0   \n4                  Turismo    Conductor  De 40 a 44 años     1   \n\n   positiva_alcohol  positiva_droga  \n0                 0             0.0  \n1                 0             0.0  \n2                 1             0.0  \n3                 0             0.0  \n4                 0             0.0  ",
      "text/html": "<div>\n<style scoped>\n    .dataframe tbody tr th:only-of-type {\n        vertical-align: middle;\n    }\n\n    .dataframe tbody tr th {\n        vertical-align: top;\n    }\n\n    .dataframe thead th {\n        text-align: right;\n    }\n</style>\n<table border=\"1\" class=\"dataframe\">\n  <thead>\n    <tr style=\"text-align: right;\">\n      <th></th>\n      <th>num_expediente</th>\n      <th>fecha</th>\n      <th>hora</th>\n      <th>cod_distrito</th>\n      <th>tipo_accidente</th>\n      <th>tipo_vehiculo</th>\n      <th>tipo_persona</th>\n      <th>rango_edad</th>\n      <th>sexo</th>\n      <th>positiva_alcohol</th>\n      <th>positiva_droga</th>\n    </tr>\n  </thead>\n  <tbody>\n    <tr>\n      <th>0</th>\n      <td>2022S000001</td>\n      <td>01/01/2022</td>\n      <td>1:30:00</td>\n      <td>13.0</td>\n      <td>Alcance</td>\n      <td>Turismo</td>\n      <td>Conductor</td>\n      <td>De 30 a 34 años</td>\n      <td>0</td>\n      <td>0</td>\n      <td>0.0</td>\n    </tr>\n    <tr>\n      <th>1</th>\n      <td>2022S000001</td>\n      <td>01/01/2022</td>\n      <td>1:30:00</td>\n      <td>13.0</td>\n      <td>Alcance</td>\n      <td>Turismo</td>\n      <td>Conductor</td>\n      <td>De 45 a 49 años</td>\n      <td>1</td>\n      <td>0</td>\n      <td>0.0</td>\n    </tr>\n    <tr>\n      <th>2</th>\n      <td>2022S000002</td>\n      <td>01/01/2022</td>\n      <td>0:30:00</td>\n      <td>3.0</td>\n      <td>Colisión fronto-lateral</td>\n      <td>Motocicleta hasta 125cc</td>\n      <td>Conductor</td>\n      <td>De 30 a 34 años</td>\n      <td>1</td>\n      <td>1</td>\n      <td>0.0</td>\n    </tr>\n    <tr>\n      <th>3</th>\n      <td>2022S000002</td>\n      <td>01/01/2022</td>\n      <td>0:30:00</td>\n      <td>3.0</td>\n      <td>Colisión fronto-lateral</td>\n      <td>Motocicleta hasta 125cc</td>\n      <td>Pasajero</td>\n      <td>De 35 a 39 años</td>\n      <td>0</td>\n      <td>0</td>\n      <td>0.0</td>\n    </tr>\n    <tr>\n      <th>4</th>\n      <td>2022S000002</td>\n      <td>01/01/2022</td>\n      <td>0:30:00</td>\n      <td>3.0</td>\n      <td>Colisión fronto-lateral</td>\n      <td>Turismo</td>\n      <td>Conductor</td>\n      <td>De 40 a 44 años</td>\n      <td>1</td>\n      <td>0</td>\n      <td>0.0</td>\n    </tr>\n  </tbody>\n</table>\n</div>"
     },
     "execution_count": 272,
     "metadata": {},
     "output_type": "execute_result"
    }
   ],
   "source": [
    "# Cambiamos en 'positiva_alcohol'\n",
    "df_2022['positiva_alcohol'].replace({'S': 1, 'N': 0}, inplace=True)\n",
    "df_2022['sexo'].replace({'H': 1, 'M': 0}, inplace=True)\n",
    "# Cambiamos en 'positiva_droga' los nulls\n",
    "df_2022['positiva_droga'].fillna(0, inplace=True)\n",
    "\n",
    "df_2022.head()"
   ],
   "metadata": {
    "collapsed": false,
    "ExecuteTime": {
     "end_time": "2023-10-26T16:42:31.684652212Z",
     "start_time": "2023-10-26T16:42:31.526285909Z"
    }
   },
   "id": "9fbd57c86e725dc7"
  },
  {
   "cell_type": "markdown",
   "source": [
    "Como solo es una entrada la vamos a eliminar"
   ],
   "metadata": {
    "collapsed": false
   },
   "id": "97f9d5dd118eec74"
  },
  {
   "cell_type": "markdown",
   "source": [
    "### Tratamiento de fechas\n",
    "Para que sea posible para nuestro modelo inferir de los datos, preferimos que las fechas y las horas se expresen en valores continuos.\n",
    "Para lograrlo, vamos a traducir la fecha a minutos desde el 00:00. La fecha se traducirá en días desde el 1-1-20XX.\n",
    "\n",
    "Necesitamos un dato extra que puede ser interesante agregar, festivos y fines de semana. Se añadirá esa columna con esa información relevante. Seguiremos la siguiente convención con los 14 días festivos anuales de la ciudad de Madrid, por lo que serán 10 festivos nacionales, 2 festivos autonómicos (Com. Madrid) y 2 festivos locales (Madrid).\n",
    "* Se denotará día laboral por 0, y día festivo o de descanso por 1.\n"
   ],
   "metadata": {
    "collapsed": false
   },
   "id": "99ebf5f394f1aefb"
  },
  {
   "cell_type": "markdown",
   "source": [
    "Calcular fines de semana y festivos.\n",
    "\n",
    "Una rápida búsqueda por internet nos da los 14 días festivos. La fuente es el calendario de laboral de la Agencia Tributaria"
   ],
   "metadata": {
    "collapsed": false
   },
   "id": "79eb0def82d63348"
  },
  {
   "cell_type": "code",
   "execution_count": 273,
   "outputs": [
    {
     "data": {
      "text/plain": "  num_expediente       fecha     hora  cod_distrito           tipo_accidente  \\\n0    2022S000001  01/01/2022  1:30:00          13.0                  Alcance   \n1    2022S000001  01/01/2022  1:30:00          13.0                  Alcance   \n2    2022S000002  01/01/2022  0:30:00           3.0  Colisión fronto-lateral   \n3    2022S000002  01/01/2022  0:30:00           3.0  Colisión fronto-lateral   \n4    2022S000002  01/01/2022  0:30:00           3.0  Colisión fronto-lateral   \n\n             tipo_vehiculo tipo_persona       rango_edad  sexo  \\\n0                  Turismo    Conductor  De 30 a 34 años     0   \n1                  Turismo    Conductor  De 45 a 49 años     1   \n2  Motocicleta hasta 125cc    Conductor  De 30 a 34 años     1   \n3  Motocicleta hasta 125cc     Pasajero  De 35 a 39 años     0   \n4                  Turismo    Conductor  De 40 a 44 años     1   \n\n   positiva_alcohol  positiva_droga  bool_laborable  \n0                 0             0.0               0  \n1                 0             0.0               0  \n2                 1             0.0               0  \n3                 0             0.0               0  \n4                 0             0.0               0  ",
      "text/html": "<div>\n<style scoped>\n    .dataframe tbody tr th:only-of-type {\n        vertical-align: middle;\n    }\n\n    .dataframe tbody tr th {\n        vertical-align: top;\n    }\n\n    .dataframe thead th {\n        text-align: right;\n    }\n</style>\n<table border=\"1\" class=\"dataframe\">\n  <thead>\n    <tr style=\"text-align: right;\">\n      <th></th>\n      <th>num_expediente</th>\n      <th>fecha</th>\n      <th>hora</th>\n      <th>cod_distrito</th>\n      <th>tipo_accidente</th>\n      <th>tipo_vehiculo</th>\n      <th>tipo_persona</th>\n      <th>rango_edad</th>\n      <th>sexo</th>\n      <th>positiva_alcohol</th>\n      <th>positiva_droga</th>\n      <th>bool_laborable</th>\n    </tr>\n  </thead>\n  <tbody>\n    <tr>\n      <th>0</th>\n      <td>2022S000001</td>\n      <td>01/01/2022</td>\n      <td>1:30:00</td>\n      <td>13.0</td>\n      <td>Alcance</td>\n      <td>Turismo</td>\n      <td>Conductor</td>\n      <td>De 30 a 34 años</td>\n      <td>0</td>\n      <td>0</td>\n      <td>0.0</td>\n      <td>0</td>\n    </tr>\n    <tr>\n      <th>1</th>\n      <td>2022S000001</td>\n      <td>01/01/2022</td>\n      <td>1:30:00</td>\n      <td>13.0</td>\n      <td>Alcance</td>\n      <td>Turismo</td>\n      <td>Conductor</td>\n      <td>De 45 a 49 años</td>\n      <td>1</td>\n      <td>0</td>\n      <td>0.0</td>\n      <td>0</td>\n    </tr>\n    <tr>\n      <th>2</th>\n      <td>2022S000002</td>\n      <td>01/01/2022</td>\n      <td>0:30:00</td>\n      <td>3.0</td>\n      <td>Colisión fronto-lateral</td>\n      <td>Motocicleta hasta 125cc</td>\n      <td>Conductor</td>\n      <td>De 30 a 34 años</td>\n      <td>1</td>\n      <td>1</td>\n      <td>0.0</td>\n      <td>0</td>\n    </tr>\n    <tr>\n      <th>3</th>\n      <td>2022S000002</td>\n      <td>01/01/2022</td>\n      <td>0:30:00</td>\n      <td>3.0</td>\n      <td>Colisión fronto-lateral</td>\n      <td>Motocicleta hasta 125cc</td>\n      <td>Pasajero</td>\n      <td>De 35 a 39 años</td>\n      <td>0</td>\n      <td>0</td>\n      <td>0.0</td>\n      <td>0</td>\n    </tr>\n    <tr>\n      <th>4</th>\n      <td>2022S000002</td>\n      <td>01/01/2022</td>\n      <td>0:30:00</td>\n      <td>3.0</td>\n      <td>Colisión fronto-lateral</td>\n      <td>Turismo</td>\n      <td>Conductor</td>\n      <td>De 40 a 44 años</td>\n      <td>1</td>\n      <td>0</td>\n      <td>0.0</td>\n      <td>0</td>\n    </tr>\n  </tbody>\n</table>\n</div>"
     },
     "execution_count": 273,
     "metadata": {},
     "output_type": "execute_result"
    }
   ],
   "source": [
    "from datetime import datetime\n",
    "\n",
    "\n",
    "def is_work_day(date_str: str) -> int:\n",
    "    date_format = '%d/%m/%Y'  # Formato para 'dd-MM-yyyy'\n",
    "\n",
    "    holidays_madrid = ['']  # todo\n",
    "    try:\n",
    "        date_obj = datetime.strptime(date_str, date_format)\n",
    "        day_of_week_int = date_obj.weekday()\n",
    "        if day_of_week_int == 5 or day_of_week_int == 6 or date_str in holidays_madrid:\n",
    "            return 0\n",
    "        return 1\n",
    "\n",
    "    except ValueError:\n",
    "        return -1\n",
    "\n",
    "\n",
    "df_2022['bool_laborable'] = df_2022['fecha'].transform(is_work_day)\n",
    "df_2022.head()"
   ],
   "metadata": {
    "collapsed": false,
    "ExecuteTime": {
     "end_time": "2023-10-26T16:42:32.053712761Z",
     "start_time": "2023-10-26T16:42:31.585986449Z"
    }
   },
   "id": "1fa7e76d9088d60d"
  },
  {
   "cell_type": "markdown",
   "source": [
    "Procedemos a granular las para que nuestro modelo lo pueda interpretar esos números. Separamos en día, y en mes"
   ],
   "metadata": {
    "collapsed": false
   },
   "id": "9a9a465090acc10d"
  },
  {
   "cell_type": "code",
   "execution_count": 274,
   "outputs": [
    {
     "data": {
      "text/plain": "  num_expediente       fecha     hora  cod_distrito           tipo_accidente  \\\n0    2022S000001  01/01/2022  1:30:00          13.0                  Alcance   \n1    2022S000001  01/01/2022  1:30:00          13.0                  Alcance   \n2    2022S000002  01/01/2022  0:30:00           3.0  Colisión fronto-lateral   \n3    2022S000002  01/01/2022  0:30:00           3.0  Colisión fronto-lateral   \n4    2022S000002  01/01/2022  0:30:00           3.0  Colisión fronto-lateral   \n\n             tipo_vehiculo tipo_persona       rango_edad  sexo  \\\n0                  Turismo    Conductor  De 30 a 34 años     0   \n1                  Turismo    Conductor  De 45 a 49 años     1   \n2  Motocicleta hasta 125cc    Conductor  De 30 a 34 años     1   \n3  Motocicleta hasta 125cc     Pasajero  De 35 a 39 años     0   \n4                  Turismo    Conductor  De 40 a 44 años     1   \n\n   positiva_alcohol  positiva_droga  bool_laborable  day  month  \n0                 0             0.0               0    1      1  \n1                 0             0.0               0    1      1  \n2                 1             0.0               0    1      1  \n3                 0             0.0               0    1      1  \n4                 0             0.0               0    1      1  ",
      "text/html": "<div>\n<style scoped>\n    .dataframe tbody tr th:only-of-type {\n        vertical-align: middle;\n    }\n\n    .dataframe tbody tr th {\n        vertical-align: top;\n    }\n\n    .dataframe thead th {\n        text-align: right;\n    }\n</style>\n<table border=\"1\" class=\"dataframe\">\n  <thead>\n    <tr style=\"text-align: right;\">\n      <th></th>\n      <th>num_expediente</th>\n      <th>fecha</th>\n      <th>hora</th>\n      <th>cod_distrito</th>\n      <th>tipo_accidente</th>\n      <th>tipo_vehiculo</th>\n      <th>tipo_persona</th>\n      <th>rango_edad</th>\n      <th>sexo</th>\n      <th>positiva_alcohol</th>\n      <th>positiva_droga</th>\n      <th>bool_laborable</th>\n      <th>day</th>\n      <th>month</th>\n    </tr>\n  </thead>\n  <tbody>\n    <tr>\n      <th>0</th>\n      <td>2022S000001</td>\n      <td>01/01/2022</td>\n      <td>1:30:00</td>\n      <td>13.0</td>\n      <td>Alcance</td>\n      <td>Turismo</td>\n      <td>Conductor</td>\n      <td>De 30 a 34 años</td>\n      <td>0</td>\n      <td>0</td>\n      <td>0.0</td>\n      <td>0</td>\n      <td>1</td>\n      <td>1</td>\n    </tr>\n    <tr>\n      <th>1</th>\n      <td>2022S000001</td>\n      <td>01/01/2022</td>\n      <td>1:30:00</td>\n      <td>13.0</td>\n      <td>Alcance</td>\n      <td>Turismo</td>\n      <td>Conductor</td>\n      <td>De 45 a 49 años</td>\n      <td>1</td>\n      <td>0</td>\n      <td>0.0</td>\n      <td>0</td>\n      <td>1</td>\n      <td>1</td>\n    </tr>\n    <tr>\n      <th>2</th>\n      <td>2022S000002</td>\n      <td>01/01/2022</td>\n      <td>0:30:00</td>\n      <td>3.0</td>\n      <td>Colisión fronto-lateral</td>\n      <td>Motocicleta hasta 125cc</td>\n      <td>Conductor</td>\n      <td>De 30 a 34 años</td>\n      <td>1</td>\n      <td>1</td>\n      <td>0.0</td>\n      <td>0</td>\n      <td>1</td>\n      <td>1</td>\n    </tr>\n    <tr>\n      <th>3</th>\n      <td>2022S000002</td>\n      <td>01/01/2022</td>\n      <td>0:30:00</td>\n      <td>3.0</td>\n      <td>Colisión fronto-lateral</td>\n      <td>Motocicleta hasta 125cc</td>\n      <td>Pasajero</td>\n      <td>De 35 a 39 años</td>\n      <td>0</td>\n      <td>0</td>\n      <td>0.0</td>\n      <td>0</td>\n      <td>1</td>\n      <td>1</td>\n    </tr>\n    <tr>\n      <th>4</th>\n      <td>2022S000002</td>\n      <td>01/01/2022</td>\n      <td>0:30:00</td>\n      <td>3.0</td>\n      <td>Colisión fronto-lateral</td>\n      <td>Turismo</td>\n      <td>Conductor</td>\n      <td>De 40 a 44 años</td>\n      <td>1</td>\n      <td>0</td>\n      <td>0.0</td>\n      <td>0</td>\n      <td>1</td>\n      <td>1</td>\n    </tr>\n  </tbody>\n</table>\n</div>"
     },
     "execution_count": 274,
     "metadata": {},
     "output_type": "execute_result"
    }
   ],
   "source": [
    "def extract_day(date_str: str) -> int:\n",
    "    date_parts = date_str.split('/')\n",
    "    if len(date_parts) >= 3:\n",
    "        return int(date_parts[0])\n",
    "\n",
    "\n",
    "def extract_month(date_str: str) -> int:\n",
    "    date_parts = date_str.split('/')\n",
    "    if len(date_parts) >= 3:\n",
    "        return int(date_parts[1])\n",
    "\n",
    "\n",
    "df_2022['day'] = df_2022['fecha'].transform(extract_day)\n",
    "df_2022['month'] = df_2022['fecha'].transform(extract_month)\n",
    "df_2022.head()"
   ],
   "metadata": {
    "collapsed": false,
    "ExecuteTime": {
     "end_time": "2023-10-26T16:42:32.085526840Z",
     "start_time": "2023-10-26T16:42:31.935049867Z"
    }
   },
   "id": "dafb8dcef67108ce"
  },
  {
   "cell_type": "markdown",
   "source": [
    "Dropeamos la columna ya que hemos extraído los datos"
   ],
   "metadata": {
    "collapsed": false
   },
   "id": "bf5d44704b975b43"
  },
  {
   "cell_type": "code",
   "execution_count": 275,
   "outputs": [
    {
     "data": {
      "text/plain": "  num_expediente     hora  cod_distrito           tipo_accidente  \\\n0    2022S000001  1:30:00          13.0                  Alcance   \n1    2022S000001  1:30:00          13.0                  Alcance   \n2    2022S000002  0:30:00           3.0  Colisión fronto-lateral   \n3    2022S000002  0:30:00           3.0  Colisión fronto-lateral   \n4    2022S000002  0:30:00           3.0  Colisión fronto-lateral   \n\n             tipo_vehiculo tipo_persona       rango_edad  sexo  \\\n0                  Turismo    Conductor  De 30 a 34 años     0   \n1                  Turismo    Conductor  De 45 a 49 años     1   \n2  Motocicleta hasta 125cc    Conductor  De 30 a 34 años     1   \n3  Motocicleta hasta 125cc     Pasajero  De 35 a 39 años     0   \n4                  Turismo    Conductor  De 40 a 44 años     1   \n\n   positiva_alcohol  positiva_droga  bool_laborable  day  month  \n0                 0             0.0               0    1      1  \n1                 0             0.0               0    1      1  \n2                 1             0.0               0    1      1  \n3                 0             0.0               0    1      1  \n4                 0             0.0               0    1      1  ",
      "text/html": "<div>\n<style scoped>\n    .dataframe tbody tr th:only-of-type {\n        vertical-align: middle;\n    }\n\n    .dataframe tbody tr th {\n        vertical-align: top;\n    }\n\n    .dataframe thead th {\n        text-align: right;\n    }\n</style>\n<table border=\"1\" class=\"dataframe\">\n  <thead>\n    <tr style=\"text-align: right;\">\n      <th></th>\n      <th>num_expediente</th>\n      <th>hora</th>\n      <th>cod_distrito</th>\n      <th>tipo_accidente</th>\n      <th>tipo_vehiculo</th>\n      <th>tipo_persona</th>\n      <th>rango_edad</th>\n      <th>sexo</th>\n      <th>positiva_alcohol</th>\n      <th>positiva_droga</th>\n      <th>bool_laborable</th>\n      <th>day</th>\n      <th>month</th>\n    </tr>\n  </thead>\n  <tbody>\n    <tr>\n      <th>0</th>\n      <td>2022S000001</td>\n      <td>1:30:00</td>\n      <td>13.0</td>\n      <td>Alcance</td>\n      <td>Turismo</td>\n      <td>Conductor</td>\n      <td>De 30 a 34 años</td>\n      <td>0</td>\n      <td>0</td>\n      <td>0.0</td>\n      <td>0</td>\n      <td>1</td>\n      <td>1</td>\n    </tr>\n    <tr>\n      <th>1</th>\n      <td>2022S000001</td>\n      <td>1:30:00</td>\n      <td>13.0</td>\n      <td>Alcance</td>\n      <td>Turismo</td>\n      <td>Conductor</td>\n      <td>De 45 a 49 años</td>\n      <td>1</td>\n      <td>0</td>\n      <td>0.0</td>\n      <td>0</td>\n      <td>1</td>\n      <td>1</td>\n    </tr>\n    <tr>\n      <th>2</th>\n      <td>2022S000002</td>\n      <td>0:30:00</td>\n      <td>3.0</td>\n      <td>Colisión fronto-lateral</td>\n      <td>Motocicleta hasta 125cc</td>\n      <td>Conductor</td>\n      <td>De 30 a 34 años</td>\n      <td>1</td>\n      <td>1</td>\n      <td>0.0</td>\n      <td>0</td>\n      <td>1</td>\n      <td>1</td>\n    </tr>\n    <tr>\n      <th>3</th>\n      <td>2022S000002</td>\n      <td>0:30:00</td>\n      <td>3.0</td>\n      <td>Colisión fronto-lateral</td>\n      <td>Motocicleta hasta 125cc</td>\n      <td>Pasajero</td>\n      <td>De 35 a 39 años</td>\n      <td>0</td>\n      <td>0</td>\n      <td>0.0</td>\n      <td>0</td>\n      <td>1</td>\n      <td>1</td>\n    </tr>\n    <tr>\n      <th>4</th>\n      <td>2022S000002</td>\n      <td>0:30:00</td>\n      <td>3.0</td>\n      <td>Colisión fronto-lateral</td>\n      <td>Turismo</td>\n      <td>Conductor</td>\n      <td>De 40 a 44 años</td>\n      <td>1</td>\n      <td>0</td>\n      <td>0.0</td>\n      <td>0</td>\n      <td>1</td>\n      <td>1</td>\n    </tr>\n  </tbody>\n</table>\n</div>"
     },
     "execution_count": 275,
     "metadata": {},
     "output_type": "execute_result"
    }
   ],
   "source": [
    "df_2022.pop('fecha')\n",
    "df_2022.head()"
   ],
   "metadata": {
    "collapsed": false,
    "ExecuteTime": {
     "end_time": "2023-10-26T16:42:32.086112780Z",
     "start_time": "2023-10-26T16:42:31.986446872Z"
    }
   },
   "id": "19cea985c07acef8"
  },
  {
   "cell_type": "markdown",
   "source": [
    "Calcular la hora a minutos desde las 00:00"
   ],
   "metadata": {
    "collapsed": false
   },
   "id": "a0ad0cd2bcc3da6d"
  },
  {
   "cell_type": "code",
   "execution_count": 276,
   "outputs": [],
   "source": [
    "def minutes_from_midnight(hour_str: str) -> int:\n",
    "    clock = hour_str.split(':')\n",
    "    minutes = 0\n",
    "\n",
    "    minutes = int(clock[0]) * 60\n",
    "    minutes = minutes + int(clock[1])\n",
    "\n",
    "    return minutes\n",
    "\n",
    "\n",
    "df_2022['hora'] = df_2022['hora'].transform(minutes_from_midnight)"
   ],
   "metadata": {
    "collapsed": false,
    "ExecuteTime": {
     "end_time": "2023-10-26T16:42:32.087244718Z",
     "start_time": "2023-10-26T16:42:31.992192630Z"
    }
   },
   "id": "719aac07c7bc6a8e"
  },
  {
   "cell_type": "code",
   "execution_count": 277,
   "outputs": [
    {
     "data": {
      "text/plain": "  num_expediente   minutes_from_midnight  cod_distrito  \\\n0    2022S000001                      90          13.0   \n1    2022S000001                      90          13.0   \n2    2022S000002                      30           3.0   \n3    2022S000002                      30           3.0   \n4    2022S000002                      30           3.0   \n\n            tipo_accidente            tipo_vehiculo tipo_persona  \\\n0                  Alcance                  Turismo    Conductor   \n1                  Alcance                  Turismo    Conductor   \n2  Colisión fronto-lateral  Motocicleta hasta 125cc    Conductor   \n3  Colisión fronto-lateral  Motocicleta hasta 125cc     Pasajero   \n4  Colisión fronto-lateral                  Turismo    Conductor   \n\n        rango_edad  sexo  positiva_alcohol  positiva_droga  bool_laborable  \\\n0  De 30 a 34 años     0                 0             0.0               0   \n1  De 45 a 49 años     1                 0             0.0               0   \n2  De 30 a 34 años     1                 1             0.0               0   \n3  De 35 a 39 años     0                 0             0.0               0   \n4  De 40 a 44 años     1                 0             0.0               0   \n\n   day  month  \n0    1      1  \n1    1      1  \n2    1      1  \n3    1      1  \n4    1      1  ",
      "text/html": "<div>\n<style scoped>\n    .dataframe tbody tr th:only-of-type {\n        vertical-align: middle;\n    }\n\n    .dataframe tbody tr th {\n        vertical-align: top;\n    }\n\n    .dataframe thead th {\n        text-align: right;\n    }\n</style>\n<table border=\"1\" class=\"dataframe\">\n  <thead>\n    <tr style=\"text-align: right;\">\n      <th></th>\n      <th>num_expediente</th>\n      <th>minutes_from_midnight</th>\n      <th>cod_distrito</th>\n      <th>tipo_accidente</th>\n      <th>tipo_vehiculo</th>\n      <th>tipo_persona</th>\n      <th>rango_edad</th>\n      <th>sexo</th>\n      <th>positiva_alcohol</th>\n      <th>positiva_droga</th>\n      <th>bool_laborable</th>\n      <th>day</th>\n      <th>month</th>\n    </tr>\n  </thead>\n  <tbody>\n    <tr>\n      <th>0</th>\n      <td>2022S000001</td>\n      <td>90</td>\n      <td>13.0</td>\n      <td>Alcance</td>\n      <td>Turismo</td>\n      <td>Conductor</td>\n      <td>De 30 a 34 años</td>\n      <td>0</td>\n      <td>0</td>\n      <td>0.0</td>\n      <td>0</td>\n      <td>1</td>\n      <td>1</td>\n    </tr>\n    <tr>\n      <th>1</th>\n      <td>2022S000001</td>\n      <td>90</td>\n      <td>13.0</td>\n      <td>Alcance</td>\n      <td>Turismo</td>\n      <td>Conductor</td>\n      <td>De 45 a 49 años</td>\n      <td>1</td>\n      <td>0</td>\n      <td>0.0</td>\n      <td>0</td>\n      <td>1</td>\n      <td>1</td>\n    </tr>\n    <tr>\n      <th>2</th>\n      <td>2022S000002</td>\n      <td>30</td>\n      <td>3.0</td>\n      <td>Colisión fronto-lateral</td>\n      <td>Motocicleta hasta 125cc</td>\n      <td>Conductor</td>\n      <td>De 30 a 34 años</td>\n      <td>1</td>\n      <td>1</td>\n      <td>0.0</td>\n      <td>0</td>\n      <td>1</td>\n      <td>1</td>\n    </tr>\n    <tr>\n      <th>3</th>\n      <td>2022S000002</td>\n      <td>30</td>\n      <td>3.0</td>\n      <td>Colisión fronto-lateral</td>\n      <td>Motocicleta hasta 125cc</td>\n      <td>Pasajero</td>\n      <td>De 35 a 39 años</td>\n      <td>0</td>\n      <td>0</td>\n      <td>0.0</td>\n      <td>0</td>\n      <td>1</td>\n      <td>1</td>\n    </tr>\n    <tr>\n      <th>4</th>\n      <td>2022S000002</td>\n      <td>30</td>\n      <td>3.0</td>\n      <td>Colisión fronto-lateral</td>\n      <td>Turismo</td>\n      <td>Conductor</td>\n      <td>De 40 a 44 años</td>\n      <td>1</td>\n      <td>0</td>\n      <td>0.0</td>\n      <td>0</td>\n      <td>1</td>\n      <td>1</td>\n    </tr>\n  </tbody>\n</table>\n</div>"
     },
     "execution_count": 277,
     "metadata": {},
     "output_type": "execute_result"
    }
   ],
   "source": [
    "df_2022.rename(columns={'hora': ' minutes_from_midnight'}, inplace=True)\n",
    "df_2022.head()"
   ],
   "metadata": {
    "collapsed": false,
    "ExecuteTime": {
     "end_time": "2023-10-26T16:42:32.185593297Z",
     "start_time": "2023-10-26T16:42:32.049341581Z"
    }
   },
   "id": "dcd7189156e40cbd"
  },
  {
   "cell_type": "markdown",
   "source": [
    "Contamos los rangos de edad únicos, que determinará el tamaño de la salida"
   ],
   "metadata": {
    "collapsed": false
   },
   "id": "1f634113ed075a9c"
  },
  {
   "cell_type": "code",
   "execution_count": 278,
   "outputs": [
    {
     "data": {
      "text/plain": "array(['De 30 a 34 años', 'De 45 a 49 años', 'De 35 a 39 años',\n       'De 40 a 44 años', 'Desconocido', 'De 18 a 20 años',\n       'De 50 a 54 años', 'De 55 a 59 años', 'De 25 a 29 años',\n       'De 21 a 24 años', 'De 15 a 17 años', 'De 70 a 74 años',\n       'De 65 a 69 años', 'De 60 a 64 años', 'De 6 a 9 años',\n       'Más de 74 años', 'Menor de 5 años', 'De 10 a 14 años'],\n      dtype=object)"
     },
     "execution_count": 278,
     "metadata": {},
     "output_type": "execute_result"
    }
   ],
   "source": [
    "df_2022['rango_edad'].unique()"
   ],
   "metadata": {
    "collapsed": false,
    "ExecuteTime": {
     "end_time": "2023-10-26T16:42:32.185936113Z",
     "start_time": "2023-10-26T16:42:32.089721917Z"
    }
   },
   "id": "e3b89a3487fe5c4d"
  },
  {
   "cell_type": "markdown",
   "source": [
    "Lo que nos da 9 posibles salidas para los conductores, que son los datos que nos interesan"
   ],
   "metadata": {
    "collapsed": false
   },
   "id": "accbba8e243221e2"
  },
  {
   "cell_type": "markdown",
   "source": [
    "### Codificar en números\n",
    "Ahora computaremos la media aritmética de edad de todos los pasajeros del vehículo. Pero primero vamos a especificar unas marcas de clase para rango_edad.\n",
    "Transformar rango de edad en la media del mayor y el menor. Los desconocidos se asignarán None.\n",
    "\n",
    "18 a 20 años -> 19\n",
    "21 a 24 años -> 22.5\n",
    "etc"
   ],
   "metadata": {
    "collapsed": false
   },
   "id": "afc283b49c817932"
  },
  {
   "cell_type": "code",
   "execution_count": 279,
   "outputs": [
    {
     "data": {
      "text/plain": "  num_expediente   minutes_from_midnight  cod_distrito  \\\n0    2022S000001                      90          13.0   \n1    2022S000001                      90          13.0   \n2    2022S000002                      30           3.0   \n3    2022S000002                      30           3.0   \n4    2022S000002                      30           3.0   \n\n            tipo_accidente            tipo_vehiculo tipo_persona  \\\n0                  Alcance                  Turismo    Conductor   \n1                  Alcance                  Turismo    Conductor   \n2  Colisión fronto-lateral  Motocicleta hasta 125cc    Conductor   \n3  Colisión fronto-lateral  Motocicleta hasta 125cc     Pasajero   \n4  Colisión fronto-lateral                  Turismo    Conductor   \n\n   marca_de_clase_edad  sexo  positiva_alcohol  positiva_droga  \\\n0                 32.0     0                 0             0.0   \n1                 47.0     1                 0             0.0   \n2                 32.0     1                 1             0.0   \n3                 37.0     0                 0             0.0   \n4                 42.0     1                 0             0.0   \n\n   bool_laborable  day  month  \n0               0    1      1  \n1               0    1      1  \n2               0    1      1  \n3               0    1      1  \n4               0    1      1  ",
      "text/html": "<div>\n<style scoped>\n    .dataframe tbody tr th:only-of-type {\n        vertical-align: middle;\n    }\n\n    .dataframe tbody tr th {\n        vertical-align: top;\n    }\n\n    .dataframe thead th {\n        text-align: right;\n    }\n</style>\n<table border=\"1\" class=\"dataframe\">\n  <thead>\n    <tr style=\"text-align: right;\">\n      <th></th>\n      <th>num_expediente</th>\n      <th>minutes_from_midnight</th>\n      <th>cod_distrito</th>\n      <th>tipo_accidente</th>\n      <th>tipo_vehiculo</th>\n      <th>tipo_persona</th>\n      <th>marca_de_clase_edad</th>\n      <th>sexo</th>\n      <th>positiva_alcohol</th>\n      <th>positiva_droga</th>\n      <th>bool_laborable</th>\n      <th>day</th>\n      <th>month</th>\n    </tr>\n  </thead>\n  <tbody>\n    <tr>\n      <th>0</th>\n      <td>2022S000001</td>\n      <td>90</td>\n      <td>13.0</td>\n      <td>Alcance</td>\n      <td>Turismo</td>\n      <td>Conductor</td>\n      <td>32.0</td>\n      <td>0</td>\n      <td>0</td>\n      <td>0.0</td>\n      <td>0</td>\n      <td>1</td>\n      <td>1</td>\n    </tr>\n    <tr>\n      <th>1</th>\n      <td>2022S000001</td>\n      <td>90</td>\n      <td>13.0</td>\n      <td>Alcance</td>\n      <td>Turismo</td>\n      <td>Conductor</td>\n      <td>47.0</td>\n      <td>1</td>\n      <td>0</td>\n      <td>0.0</td>\n      <td>0</td>\n      <td>1</td>\n      <td>1</td>\n    </tr>\n    <tr>\n      <th>2</th>\n      <td>2022S000002</td>\n      <td>30</td>\n      <td>3.0</td>\n      <td>Colisión fronto-lateral</td>\n      <td>Motocicleta hasta 125cc</td>\n      <td>Conductor</td>\n      <td>32.0</td>\n      <td>1</td>\n      <td>1</td>\n      <td>0.0</td>\n      <td>0</td>\n      <td>1</td>\n      <td>1</td>\n    </tr>\n    <tr>\n      <th>3</th>\n      <td>2022S000002</td>\n      <td>30</td>\n      <td>3.0</td>\n      <td>Colisión fronto-lateral</td>\n      <td>Motocicleta hasta 125cc</td>\n      <td>Pasajero</td>\n      <td>37.0</td>\n      <td>0</td>\n      <td>0</td>\n      <td>0.0</td>\n      <td>0</td>\n      <td>1</td>\n      <td>1</td>\n    </tr>\n    <tr>\n      <th>4</th>\n      <td>2022S000002</td>\n      <td>30</td>\n      <td>3.0</td>\n      <td>Colisión fronto-lateral</td>\n      <td>Turismo</td>\n      <td>Conductor</td>\n      <td>42.0</td>\n      <td>1</td>\n      <td>0</td>\n      <td>0.0</td>\n      <td>0</td>\n      <td>1</td>\n      <td>1</td>\n    </tr>\n  </tbody>\n</table>\n</div>"
     },
     "execution_count": 279,
     "metadata": {},
     "output_type": "execute_result"
    }
   ],
   "source": [
    "import re\n",
    "\n",
    "\n",
    "def marca_de_clase_rango_edad(edad: str) -> float:\n",
    "    regex_format = r'\\b\\d+\\b'\n",
    "    numbers = re.findall(regex_format, edad)\n",
    "    if len(numbers) >= 2:\n",
    "        return (int(numbers[0]) + int(numbers[1])) / 2\n",
    "    else:\n",
    "        return -1\n",
    "\n",
    "\n",
    "df_2022['rango_edad'] = df_2022['rango_edad'].apply(marca_de_clase_rango_edad)\n",
    "df_2022.rename(columns={'rango_edad': 'marca_de_clase_edad'}, inplace=True)\n",
    "df_2022.head()"
   ],
   "metadata": {
    "collapsed": false,
    "ExecuteTime": {
     "end_time": "2023-10-26T16:42:32.241993257Z",
     "start_time": "2023-10-26T16:42:32.089818865Z"
    }
   },
   "id": "e10c6f740bac4ec5"
  },
  {
   "cell_type": "markdown",
   "source": [
    "Ahora computamos la media de edad de todos los pasajeros"
   ],
   "metadata": {
    "collapsed": false
   },
   "id": "f551c51960cd13a7"
  },
  {
   "cell_type": "code",
   "execution_count": 280,
   "outputs": [
    {
     "data": {
      "text/plain": "  num_expediente   minutes_from_midnight  cod_distrito  \\\n0    2022S000001                      90          13.0   \n1    2022S000001                      90          13.0   \n2    2022S000002                      30           3.0   \n3    2022S000002                      30           3.0   \n4    2022S000002                      30           3.0   \n\n            tipo_accidente            tipo_vehiculo tipo_persona  \\\n0                  Alcance                  Turismo    Conductor   \n1                  Alcance                  Turismo    Conductor   \n2  Colisión fronto-lateral  Motocicleta hasta 125cc    Conductor   \n3  Colisión fronto-lateral  Motocicleta hasta 125cc     Pasajero   \n4  Colisión fronto-lateral                  Turismo    Conductor   \n\n   marca_de_clase_edad  sexo  positiva_alcohol  positiva_droga  \\\n0                 32.0     0                 0             0.0   \n1                 47.0     1                 0             0.0   \n2                 32.0     1                 1             0.0   \n3                 37.0     0                 0             0.0   \n4                 42.0     1                 0             0.0   \n\n   bool_laborable  day  month  media_edad_pasajeros  numero_pasajeros  \n0               0    1      1                  39.5                 2  \n1               0    1      1                  39.5                 2  \n2               0    1      1                  37.0                 3  \n3               0    1      1                  37.0                 3  \n4               0    1      1                  37.0                 3  ",
      "text/html": "<div>\n<style scoped>\n    .dataframe tbody tr th:only-of-type {\n        vertical-align: middle;\n    }\n\n    .dataframe tbody tr th {\n        vertical-align: top;\n    }\n\n    .dataframe thead th {\n        text-align: right;\n    }\n</style>\n<table border=\"1\" class=\"dataframe\">\n  <thead>\n    <tr style=\"text-align: right;\">\n      <th></th>\n      <th>num_expediente</th>\n      <th>minutes_from_midnight</th>\n      <th>cod_distrito</th>\n      <th>tipo_accidente</th>\n      <th>tipo_vehiculo</th>\n      <th>tipo_persona</th>\n      <th>marca_de_clase_edad</th>\n      <th>sexo</th>\n      <th>positiva_alcohol</th>\n      <th>positiva_droga</th>\n      <th>bool_laborable</th>\n      <th>day</th>\n      <th>month</th>\n      <th>media_edad_pasajeros</th>\n      <th>numero_pasajeros</th>\n    </tr>\n  </thead>\n  <tbody>\n    <tr>\n      <th>0</th>\n      <td>2022S000001</td>\n      <td>90</td>\n      <td>13.0</td>\n      <td>Alcance</td>\n      <td>Turismo</td>\n      <td>Conductor</td>\n      <td>32.0</td>\n      <td>0</td>\n      <td>0</td>\n      <td>0.0</td>\n      <td>0</td>\n      <td>1</td>\n      <td>1</td>\n      <td>39.5</td>\n      <td>2</td>\n    </tr>\n    <tr>\n      <th>1</th>\n      <td>2022S000001</td>\n      <td>90</td>\n      <td>13.0</td>\n      <td>Alcance</td>\n      <td>Turismo</td>\n      <td>Conductor</td>\n      <td>47.0</td>\n      <td>1</td>\n      <td>0</td>\n      <td>0.0</td>\n      <td>0</td>\n      <td>1</td>\n      <td>1</td>\n      <td>39.5</td>\n      <td>2</td>\n    </tr>\n    <tr>\n      <th>2</th>\n      <td>2022S000002</td>\n      <td>30</td>\n      <td>3.0</td>\n      <td>Colisión fronto-lateral</td>\n      <td>Motocicleta hasta 125cc</td>\n      <td>Conductor</td>\n      <td>32.0</td>\n      <td>1</td>\n      <td>1</td>\n      <td>0.0</td>\n      <td>0</td>\n      <td>1</td>\n      <td>1</td>\n      <td>37.0</td>\n      <td>3</td>\n    </tr>\n    <tr>\n      <th>3</th>\n      <td>2022S000002</td>\n      <td>30</td>\n      <td>3.0</td>\n      <td>Colisión fronto-lateral</td>\n      <td>Motocicleta hasta 125cc</td>\n      <td>Pasajero</td>\n      <td>37.0</td>\n      <td>0</td>\n      <td>0</td>\n      <td>0.0</td>\n      <td>0</td>\n      <td>1</td>\n      <td>1</td>\n      <td>37.0</td>\n      <td>3</td>\n    </tr>\n    <tr>\n      <th>4</th>\n      <td>2022S000002</td>\n      <td>30</td>\n      <td>3.0</td>\n      <td>Colisión fronto-lateral</td>\n      <td>Turismo</td>\n      <td>Conductor</td>\n      <td>42.0</td>\n      <td>1</td>\n      <td>0</td>\n      <td>0.0</td>\n      <td>0</td>\n      <td>1</td>\n      <td>1</td>\n      <td>37.0</td>\n      <td>3</td>\n    </tr>\n  </tbody>\n</table>\n</div>"
     },
     "execution_count": 280,
     "metadata": {},
     "output_type": "execute_result"
    }
   ],
   "source": [
    "def media_edad_pasajeros(list_age: tuple) -> float:\n",
    "    age_sum = 0\n",
    "    count = 0\n",
    "    for age in list_age:\n",
    "        if age != -1:\n",
    "            age_sum = age_sum + age\n",
    "            count = count + 1\n",
    "    if count != 0:\n",
    "        return age_sum / count\n",
    "    return 0\n",
    "\n",
    "\n",
    "df_2022['media_edad_pasajeros'] = df_2022.groupby('num_expediente')['marca_de_clase_edad'].transform(\n",
    "    media_edad_pasajeros)\n",
    "df_2022['numero_pasajeros'] = df_2022.groupby('num_expediente')['num_expediente'].transform('count')\n",
    "df_2022.head()"
   ],
   "metadata": {
    "collapsed": false,
    "ExecuteTime": {
     "end_time": "2023-10-26T16:43:00.256253935Z",
     "start_time": "2023-10-26T16:42:32.182479553Z"
    }
   },
   "id": "4a7f45aa8078310"
  },
  {
   "cell_type": "markdown",
   "source": [
    "Ahora ya no necesitamos a los pasajeros, nos quedaremos solo con los conductores, cuyas edades habrá de computar"
   ],
   "metadata": {
    "collapsed": false
   },
   "id": "932587f0128f8b2b"
  },
  {
   "cell_type": "code",
   "execution_count": 281,
   "outputs": [
    {
     "data": {
      "text/plain": "  num_expediente   minutes_from_midnight  cod_distrito  \\\n0    2022S000001                      90          13.0   \n1    2022S000001                      90          13.0   \n2    2022S000002                      30           3.0   \n3    2022S000002                      30           3.0   \n4    2022S000003                     110           1.0   \n\n            tipo_accidente            tipo_vehiculo tipo_persona  \\\n0                  Alcance                  Turismo    Conductor   \n1                  Alcance                  Turismo    Conductor   \n2  Colisión fronto-lateral  Motocicleta hasta 125cc    Conductor   \n3  Colisión fronto-lateral                  Turismo    Conductor   \n4      Atropello a persona      Motocicleta > 125cc    Conductor   \n\n   marca_de_clase_edad  sexo  positiva_alcohol  positiva_droga  \\\n0                 32.0     0                 0             0.0   \n1                 47.0     1                 0             0.0   \n2                 32.0     1                 1             0.0   \n3                 42.0     1                 0             0.0   \n4                 -1.0     1                 0             0.0   \n\n   bool_laborable  day  month  media_edad_pasajeros  numero_pasajeros  \n0               0    1      1                  39.5                 2  \n1               0    1      1                  39.5                 2  \n2               0    1      1                  37.0                 3  \n3               0    1      1                  37.0                 3  \n4               0    1      1                  19.0                 2  ",
      "text/html": "<div>\n<style scoped>\n    .dataframe tbody tr th:only-of-type {\n        vertical-align: middle;\n    }\n\n    .dataframe tbody tr th {\n        vertical-align: top;\n    }\n\n    .dataframe thead th {\n        text-align: right;\n    }\n</style>\n<table border=\"1\" class=\"dataframe\">\n  <thead>\n    <tr style=\"text-align: right;\">\n      <th></th>\n      <th>num_expediente</th>\n      <th>minutes_from_midnight</th>\n      <th>cod_distrito</th>\n      <th>tipo_accidente</th>\n      <th>tipo_vehiculo</th>\n      <th>tipo_persona</th>\n      <th>marca_de_clase_edad</th>\n      <th>sexo</th>\n      <th>positiva_alcohol</th>\n      <th>positiva_droga</th>\n      <th>bool_laborable</th>\n      <th>day</th>\n      <th>month</th>\n      <th>media_edad_pasajeros</th>\n      <th>numero_pasajeros</th>\n    </tr>\n  </thead>\n  <tbody>\n    <tr>\n      <th>0</th>\n      <td>2022S000001</td>\n      <td>90</td>\n      <td>13.0</td>\n      <td>Alcance</td>\n      <td>Turismo</td>\n      <td>Conductor</td>\n      <td>32.0</td>\n      <td>0</td>\n      <td>0</td>\n      <td>0.0</td>\n      <td>0</td>\n      <td>1</td>\n      <td>1</td>\n      <td>39.5</td>\n      <td>2</td>\n    </tr>\n    <tr>\n      <th>1</th>\n      <td>2022S000001</td>\n      <td>90</td>\n      <td>13.0</td>\n      <td>Alcance</td>\n      <td>Turismo</td>\n      <td>Conductor</td>\n      <td>47.0</td>\n      <td>1</td>\n      <td>0</td>\n      <td>0.0</td>\n      <td>0</td>\n      <td>1</td>\n      <td>1</td>\n      <td>39.5</td>\n      <td>2</td>\n    </tr>\n    <tr>\n      <th>2</th>\n      <td>2022S000002</td>\n      <td>30</td>\n      <td>3.0</td>\n      <td>Colisión fronto-lateral</td>\n      <td>Motocicleta hasta 125cc</td>\n      <td>Conductor</td>\n      <td>32.0</td>\n      <td>1</td>\n      <td>1</td>\n      <td>0.0</td>\n      <td>0</td>\n      <td>1</td>\n      <td>1</td>\n      <td>37.0</td>\n      <td>3</td>\n    </tr>\n    <tr>\n      <th>3</th>\n      <td>2022S000002</td>\n      <td>30</td>\n      <td>3.0</td>\n      <td>Colisión fronto-lateral</td>\n      <td>Turismo</td>\n      <td>Conductor</td>\n      <td>42.0</td>\n      <td>1</td>\n      <td>0</td>\n      <td>0.0</td>\n      <td>0</td>\n      <td>1</td>\n      <td>1</td>\n      <td>37.0</td>\n      <td>3</td>\n    </tr>\n    <tr>\n      <th>4</th>\n      <td>2022S000003</td>\n      <td>110</td>\n      <td>1.0</td>\n      <td>Atropello a persona</td>\n      <td>Motocicleta &gt; 125cc</td>\n      <td>Conductor</td>\n      <td>-1.0</td>\n      <td>1</td>\n      <td>0</td>\n      <td>0.0</td>\n      <td>0</td>\n      <td>1</td>\n      <td>1</td>\n      <td>19.0</td>\n      <td>2</td>\n    </tr>\n  </tbody>\n</table>\n</div>"
     },
     "execution_count": 281,
     "metadata": {},
     "output_type": "execute_result"
    }
   ],
   "source": [
    "mask_conductores = (df_2022['tipo_persona'] == 'Conductor')\n",
    "df_2022 = df_2022[mask_conductores]\n",
    "df_2022 = df_2022.reset_index(drop=True)\n",
    "df_2022.head()"
   ],
   "metadata": {
    "collapsed": false,
    "ExecuteTime": {
     "end_time": "2023-10-26T16:43:00.284191891Z",
     "start_time": "2023-10-26T16:43:00.217913613Z"
    }
   },
   "id": "c6e7fc92650b05b5"
  },
  {
   "cell_type": "markdown",
   "source": [
    "Verificamos si existen conuctores menores de edad"
   ],
   "metadata": {
    "collapsed": false
   },
   "id": "7e90bf8b92125405"
  },
  {
   "cell_type": "code",
   "execution_count": 282,
   "outputs": [
    {
     "name": "stderr",
     "output_type": "stream",
     "text": [
      "/tmp/ipykernel_32971/3780877503.py:1: UserWarning: Boolean Series key will be reindexed to match DataFrame index.\n",
      "  df_2022[df_2022['marca_de_clase_edad'] < 18][df_2022['marca_de_clase_edad'] > -1]\n"
     ]
    },
    {
     "data": {
      "text/plain": "      num_expediente   minutes_from_midnight  cod_distrito  \\\n11       2022S000009                     320          20.0   \n283      2022S000209                    1275          11.0   \n552      2022S000416                     860           4.0   \n794      2022S000584                     990          20.0   \n1371     2022S001092                     590           9.0   \n...              ...                     ...           ...   \n59607    2023S027852                    1215          15.0   \n59668    2023S027899                    1340          11.0   \n59687    2023S027913                     610          12.0   \n59732    2023S027954                    1210          10.0   \n60015    2023S028220                     995          17.0   \n\n                     tipo_accidente                      tipo_vehiculo  \\\n11     Choque contra obstáculo fijo                            Turismo   \n283         Colisión fronto-lateral                      VMU eléctrico   \n552                Colisión lateral                          Bicicleta   \n794                           Caída                      VMU eléctrico   \n1371   Choque contra obstáculo fijo                 Cuadriciclo ligero   \n...                             ...                                ...   \n59607                         Caída                          Bicicleta   \n59668       Colisión fronto-lateral                      VMU eléctrico   \n59687                       Alcance  Bicicleta EPAC (pedaleo asistido)   \n59732                         Caída                          Bicicleta   \n60015       Colisión fronto-lateral  Bicicleta EPAC (pedaleo asistido)   \n\n      tipo_persona  marca_de_clase_edad  sexo  positiva_alcohol  \\\n11       Conductor                 16.0     0                 1   \n283      Conductor                 12.0     0                 0   \n552      Conductor                 12.0     1                 0   \n794      Conductor                 16.0     1                 0   \n1371     Conductor                 16.0     0                 0   \n...            ...                  ...   ...               ...   \n59607    Conductor                 16.0     0                 0   \n59668    Conductor                 16.0     1                 0   \n59687    Conductor                 16.0     1                 0   \n59732    Conductor                 16.0     0                 0   \n60015    Conductor                 16.0     1                 0   \n\n       positiva_droga  bool_laborable  day  month  media_edad_pasajeros  \\\n11                0.0               0    1      1                  16.0   \n283               0.0               1    5      1                  19.0   \n552               0.0               0    9      1                  47.0   \n794               0.0               1   12      1                  16.0   \n1371              0.0               1   11      1                  16.0   \n...               ...             ...  ...    ...                   ...   \n59607             0.0               1   23      8                  16.0   \n59668             0.0               1   24      8                  23.0   \n59687             0.0               1   25      8                  24.0   \n59732             0.0               1   24      8                  16.0   \n60015             0.0               1   30      8                  36.5   \n\n       numero_pasajeros  \n11                    2  \n283                   3  \n552                   4  \n794                   1  \n1371                  1  \n...                 ...  \n59607                 1  \n59668                 3  \n59687                 2  \n59732                 1  \n60015                 2  \n\n[269 rows x 15 columns]",
      "text/html": "<div>\n<style scoped>\n    .dataframe tbody tr th:only-of-type {\n        vertical-align: middle;\n    }\n\n    .dataframe tbody tr th {\n        vertical-align: top;\n    }\n\n    .dataframe thead th {\n        text-align: right;\n    }\n</style>\n<table border=\"1\" class=\"dataframe\">\n  <thead>\n    <tr style=\"text-align: right;\">\n      <th></th>\n      <th>num_expediente</th>\n      <th>minutes_from_midnight</th>\n      <th>cod_distrito</th>\n      <th>tipo_accidente</th>\n      <th>tipo_vehiculo</th>\n      <th>tipo_persona</th>\n      <th>marca_de_clase_edad</th>\n      <th>sexo</th>\n      <th>positiva_alcohol</th>\n      <th>positiva_droga</th>\n      <th>bool_laborable</th>\n      <th>day</th>\n      <th>month</th>\n      <th>media_edad_pasajeros</th>\n      <th>numero_pasajeros</th>\n    </tr>\n  </thead>\n  <tbody>\n    <tr>\n      <th>11</th>\n      <td>2022S000009</td>\n      <td>320</td>\n      <td>20.0</td>\n      <td>Choque contra obstáculo fijo</td>\n      <td>Turismo</td>\n      <td>Conductor</td>\n      <td>16.0</td>\n      <td>0</td>\n      <td>1</td>\n      <td>0.0</td>\n      <td>0</td>\n      <td>1</td>\n      <td>1</td>\n      <td>16.0</td>\n      <td>2</td>\n    </tr>\n    <tr>\n      <th>283</th>\n      <td>2022S000209</td>\n      <td>1275</td>\n      <td>11.0</td>\n      <td>Colisión fronto-lateral</td>\n      <td>VMU eléctrico</td>\n      <td>Conductor</td>\n      <td>12.0</td>\n      <td>0</td>\n      <td>0</td>\n      <td>0.0</td>\n      <td>1</td>\n      <td>5</td>\n      <td>1</td>\n      <td>19.0</td>\n      <td>3</td>\n    </tr>\n    <tr>\n      <th>552</th>\n      <td>2022S000416</td>\n      <td>860</td>\n      <td>4.0</td>\n      <td>Colisión lateral</td>\n      <td>Bicicleta</td>\n      <td>Conductor</td>\n      <td>12.0</td>\n      <td>1</td>\n      <td>0</td>\n      <td>0.0</td>\n      <td>0</td>\n      <td>9</td>\n      <td>1</td>\n      <td>47.0</td>\n      <td>4</td>\n    </tr>\n    <tr>\n      <th>794</th>\n      <td>2022S000584</td>\n      <td>990</td>\n      <td>20.0</td>\n      <td>Caída</td>\n      <td>VMU eléctrico</td>\n      <td>Conductor</td>\n      <td>16.0</td>\n      <td>1</td>\n      <td>0</td>\n      <td>0.0</td>\n      <td>1</td>\n      <td>12</td>\n      <td>1</td>\n      <td>16.0</td>\n      <td>1</td>\n    </tr>\n    <tr>\n      <th>1371</th>\n      <td>2022S001092</td>\n      <td>590</td>\n      <td>9.0</td>\n      <td>Choque contra obstáculo fijo</td>\n      <td>Cuadriciclo ligero</td>\n      <td>Conductor</td>\n      <td>16.0</td>\n      <td>0</td>\n      <td>0</td>\n      <td>0.0</td>\n      <td>1</td>\n      <td>11</td>\n      <td>1</td>\n      <td>16.0</td>\n      <td>1</td>\n    </tr>\n    <tr>\n      <th>...</th>\n      <td>...</td>\n      <td>...</td>\n      <td>...</td>\n      <td>...</td>\n      <td>...</td>\n      <td>...</td>\n      <td>...</td>\n      <td>...</td>\n      <td>...</td>\n      <td>...</td>\n      <td>...</td>\n      <td>...</td>\n      <td>...</td>\n      <td>...</td>\n      <td>...</td>\n    </tr>\n    <tr>\n      <th>59607</th>\n      <td>2023S027852</td>\n      <td>1215</td>\n      <td>15.0</td>\n      <td>Caída</td>\n      <td>Bicicleta</td>\n      <td>Conductor</td>\n      <td>16.0</td>\n      <td>0</td>\n      <td>0</td>\n      <td>0.0</td>\n      <td>1</td>\n      <td>23</td>\n      <td>8</td>\n      <td>16.0</td>\n      <td>1</td>\n    </tr>\n    <tr>\n      <th>59668</th>\n      <td>2023S027899</td>\n      <td>1340</td>\n      <td>11.0</td>\n      <td>Colisión fronto-lateral</td>\n      <td>VMU eléctrico</td>\n      <td>Conductor</td>\n      <td>16.0</td>\n      <td>1</td>\n      <td>0</td>\n      <td>0.0</td>\n      <td>1</td>\n      <td>24</td>\n      <td>8</td>\n      <td>23.0</td>\n      <td>3</td>\n    </tr>\n    <tr>\n      <th>59687</th>\n      <td>2023S027913</td>\n      <td>610</td>\n      <td>12.0</td>\n      <td>Alcance</td>\n      <td>Bicicleta EPAC (pedaleo asistido)</td>\n      <td>Conductor</td>\n      <td>16.0</td>\n      <td>1</td>\n      <td>0</td>\n      <td>0.0</td>\n      <td>1</td>\n      <td>25</td>\n      <td>8</td>\n      <td>24.0</td>\n      <td>2</td>\n    </tr>\n    <tr>\n      <th>59732</th>\n      <td>2023S027954</td>\n      <td>1210</td>\n      <td>10.0</td>\n      <td>Caída</td>\n      <td>Bicicleta</td>\n      <td>Conductor</td>\n      <td>16.0</td>\n      <td>0</td>\n      <td>0</td>\n      <td>0.0</td>\n      <td>1</td>\n      <td>24</td>\n      <td>8</td>\n      <td>16.0</td>\n      <td>1</td>\n    </tr>\n    <tr>\n      <th>60015</th>\n      <td>2023S028220</td>\n      <td>995</td>\n      <td>17.0</td>\n      <td>Colisión fronto-lateral</td>\n      <td>Bicicleta EPAC (pedaleo asistido)</td>\n      <td>Conductor</td>\n      <td>16.0</td>\n      <td>1</td>\n      <td>0</td>\n      <td>0.0</td>\n      <td>1</td>\n      <td>30</td>\n      <td>8</td>\n      <td>36.5</td>\n      <td>2</td>\n    </tr>\n  </tbody>\n</table>\n<p>269 rows × 15 columns</p>\n</div>"
     },
     "execution_count": 282,
     "metadata": {},
     "output_type": "execute_result"
    }
   ],
   "source": [
    "df_2022[df_2022['marca_de_clase_edad'] < 18][df_2022['marca_de_clase_edad'] > -1]"
   ],
   "metadata": {
    "collapsed": false,
    "ExecuteTime": {
     "end_time": "2023-10-26T16:43:05.567094695Z",
     "start_time": "2023-10-26T16:43:05.519773453Z"
    }
   },
   "id": "b7ed009ea4e8abdc"
  },
  {
   "cell_type": "markdown",
   "source": [
    "Ya que todos son conductores, no necesitamos la columna tipo_persona más"
   ],
   "metadata": {
    "collapsed": false
   },
   "id": "adb38a5856e5ad37"
  },
  {
   "cell_type": "code",
   "execution_count": 245,
   "outputs": [
    {
     "data": {
      "text/plain": "  num_expediente   minutes_from_midnight  cod_distrito  \\\n0    2022S000001                      90          13.0   \n1    2022S000001                      90          13.0   \n2    2022S000002                      30           3.0   \n3    2022S000002                      30           3.0   \n4    2022S000003                     110           1.0   \n\n            tipo_accidente            tipo_vehiculo  marca_de_clase_edad  \\\n0                  Alcance                  Turismo                 32.0   \n1                  Alcance                  Turismo                 47.0   \n2  Colisión fronto-lateral  Motocicleta hasta 125cc                 32.0   \n3  Colisión fronto-lateral                  Turismo                 42.0   \n4      Atropello a persona      Motocicleta > 125cc                 -1.0   \n\n   sexo  positiva_alcohol  positiva_droga  bool_laborable  day  month  \\\n0     0                 0             0.0               0    1      1   \n1     1                 0             0.0               0    1      1   \n2     1                 1             0.0               0    1      1   \n3     1                 0             0.0               0    1      1   \n4     1                 0             0.0               0    1      1   \n\n   media_edad_pasajeros  numero_pasajeros  \n0                  39.5                 2  \n1                  39.5                 2  \n2                  37.0                 3  \n3                  37.0                 3  \n4                  19.0                 2  ",
      "text/html": "<div>\n<style scoped>\n    .dataframe tbody tr th:only-of-type {\n        vertical-align: middle;\n    }\n\n    .dataframe tbody tr th {\n        vertical-align: top;\n    }\n\n    .dataframe thead th {\n        text-align: right;\n    }\n</style>\n<table border=\"1\" class=\"dataframe\">\n  <thead>\n    <tr style=\"text-align: right;\">\n      <th></th>\n      <th>num_expediente</th>\n      <th>minutes_from_midnight</th>\n      <th>cod_distrito</th>\n      <th>tipo_accidente</th>\n      <th>tipo_vehiculo</th>\n      <th>marca_de_clase_edad</th>\n      <th>sexo</th>\n      <th>positiva_alcohol</th>\n      <th>positiva_droga</th>\n      <th>bool_laborable</th>\n      <th>day</th>\n      <th>month</th>\n      <th>media_edad_pasajeros</th>\n      <th>numero_pasajeros</th>\n    </tr>\n  </thead>\n  <tbody>\n    <tr>\n      <th>0</th>\n      <td>2022S000001</td>\n      <td>90</td>\n      <td>13.0</td>\n      <td>Alcance</td>\n      <td>Turismo</td>\n      <td>32.0</td>\n      <td>0</td>\n      <td>0</td>\n      <td>0.0</td>\n      <td>0</td>\n      <td>1</td>\n      <td>1</td>\n      <td>39.5</td>\n      <td>2</td>\n    </tr>\n    <tr>\n      <th>1</th>\n      <td>2022S000001</td>\n      <td>90</td>\n      <td>13.0</td>\n      <td>Alcance</td>\n      <td>Turismo</td>\n      <td>47.0</td>\n      <td>1</td>\n      <td>0</td>\n      <td>0.0</td>\n      <td>0</td>\n      <td>1</td>\n      <td>1</td>\n      <td>39.5</td>\n      <td>2</td>\n    </tr>\n    <tr>\n      <th>2</th>\n      <td>2022S000002</td>\n      <td>30</td>\n      <td>3.0</td>\n      <td>Colisión fronto-lateral</td>\n      <td>Motocicleta hasta 125cc</td>\n      <td>32.0</td>\n      <td>1</td>\n      <td>1</td>\n      <td>0.0</td>\n      <td>0</td>\n      <td>1</td>\n      <td>1</td>\n      <td>37.0</td>\n      <td>3</td>\n    </tr>\n    <tr>\n      <th>3</th>\n      <td>2022S000002</td>\n      <td>30</td>\n      <td>3.0</td>\n      <td>Colisión fronto-lateral</td>\n      <td>Turismo</td>\n      <td>42.0</td>\n      <td>1</td>\n      <td>0</td>\n      <td>0.0</td>\n      <td>0</td>\n      <td>1</td>\n      <td>1</td>\n      <td>37.0</td>\n      <td>3</td>\n    </tr>\n    <tr>\n      <th>4</th>\n      <td>2022S000003</td>\n      <td>110</td>\n      <td>1.0</td>\n      <td>Atropello a persona</td>\n      <td>Motocicleta &gt; 125cc</td>\n      <td>-1.0</td>\n      <td>1</td>\n      <td>0</td>\n      <td>0.0</td>\n      <td>0</td>\n      <td>1</td>\n      <td>1</td>\n      <td>19.0</td>\n      <td>2</td>\n    </tr>\n  </tbody>\n</table>\n</div>"
     },
     "execution_count": 245,
     "metadata": {},
     "output_type": "execute_result"
    }
   ],
   "source": [
    "df_2022.pop('tipo_persona')\n",
    "df_2022.head()"
   ],
   "metadata": {
    "collapsed": false,
    "ExecuteTime": {
     "end_time": "2023-10-26T16:27:36.684072327Z",
     "start_time": "2023-10-26T16:27:36.663859332Z"
    }
   },
   "id": "45ef77667304d227"
  },
  {
   "cell_type": "markdown",
   "source": [
    "Transformamos el número de expediente en número de implicados en el accidente."
   ],
   "metadata": {
    "collapsed": false
   },
   "id": "70a12cdcf7ff340d"
  },
  {
   "cell_type": "code",
   "execution_count": 246,
   "outputs": [
    {
     "data": {
      "text/plain": "   num_implicados   minutes_from_midnight  cod_distrito  \\\n0               2                      90          13.0   \n1               2                      90          13.0   \n2               2                      30           3.0   \n3               2                      30           3.0   \n4               1                     110           1.0   \n\n            tipo_accidente            tipo_vehiculo  marca_de_clase_edad  \\\n0                  Alcance                  Turismo                 32.0   \n1                  Alcance                  Turismo                 47.0   \n2  Colisión fronto-lateral  Motocicleta hasta 125cc                 32.0   \n3  Colisión fronto-lateral                  Turismo                 42.0   \n4      Atropello a persona      Motocicleta > 125cc                 -1.0   \n\n   sexo  positiva_alcohol  positiva_droga  bool_laborable  day  month  \\\n0     0                 0             0.0               0    1      1   \n1     1                 0             0.0               0    1      1   \n2     1                 1             0.0               0    1      1   \n3     1                 0             0.0               0    1      1   \n4     1                 0             0.0               0    1      1   \n\n   media_edad_pasajeros  numero_pasajeros  \n0                  39.5                 2  \n1                  39.5                 2  \n2                  37.0                 3  \n3                  37.0                 3  \n4                  19.0                 2  ",
      "text/html": "<div>\n<style scoped>\n    .dataframe tbody tr th:only-of-type {\n        vertical-align: middle;\n    }\n\n    .dataframe tbody tr th {\n        vertical-align: top;\n    }\n\n    .dataframe thead th {\n        text-align: right;\n    }\n</style>\n<table border=\"1\" class=\"dataframe\">\n  <thead>\n    <tr style=\"text-align: right;\">\n      <th></th>\n      <th>num_implicados</th>\n      <th>minutes_from_midnight</th>\n      <th>cod_distrito</th>\n      <th>tipo_accidente</th>\n      <th>tipo_vehiculo</th>\n      <th>marca_de_clase_edad</th>\n      <th>sexo</th>\n      <th>positiva_alcohol</th>\n      <th>positiva_droga</th>\n      <th>bool_laborable</th>\n      <th>day</th>\n      <th>month</th>\n      <th>media_edad_pasajeros</th>\n      <th>numero_pasajeros</th>\n    </tr>\n  </thead>\n  <tbody>\n    <tr>\n      <th>0</th>\n      <td>2</td>\n      <td>90</td>\n      <td>13.0</td>\n      <td>Alcance</td>\n      <td>Turismo</td>\n      <td>32.0</td>\n      <td>0</td>\n      <td>0</td>\n      <td>0.0</td>\n      <td>0</td>\n      <td>1</td>\n      <td>1</td>\n      <td>39.5</td>\n      <td>2</td>\n    </tr>\n    <tr>\n      <th>1</th>\n      <td>2</td>\n      <td>90</td>\n      <td>13.0</td>\n      <td>Alcance</td>\n      <td>Turismo</td>\n      <td>47.0</td>\n      <td>1</td>\n      <td>0</td>\n      <td>0.0</td>\n      <td>0</td>\n      <td>1</td>\n      <td>1</td>\n      <td>39.5</td>\n      <td>2</td>\n    </tr>\n    <tr>\n      <th>2</th>\n      <td>2</td>\n      <td>30</td>\n      <td>3.0</td>\n      <td>Colisión fronto-lateral</td>\n      <td>Motocicleta hasta 125cc</td>\n      <td>32.0</td>\n      <td>1</td>\n      <td>1</td>\n      <td>0.0</td>\n      <td>0</td>\n      <td>1</td>\n      <td>1</td>\n      <td>37.0</td>\n      <td>3</td>\n    </tr>\n    <tr>\n      <th>3</th>\n      <td>2</td>\n      <td>30</td>\n      <td>3.0</td>\n      <td>Colisión fronto-lateral</td>\n      <td>Turismo</td>\n      <td>42.0</td>\n      <td>1</td>\n      <td>0</td>\n      <td>0.0</td>\n      <td>0</td>\n      <td>1</td>\n      <td>1</td>\n      <td>37.0</td>\n      <td>3</td>\n    </tr>\n    <tr>\n      <th>4</th>\n      <td>1</td>\n      <td>110</td>\n      <td>1.0</td>\n      <td>Atropello a persona</td>\n      <td>Motocicleta &gt; 125cc</td>\n      <td>-1.0</td>\n      <td>1</td>\n      <td>0</td>\n      <td>0.0</td>\n      <td>0</td>\n      <td>1</td>\n      <td>1</td>\n      <td>19.0</td>\n      <td>2</td>\n    </tr>\n  </tbody>\n</table>\n</div>"
     },
     "execution_count": 246,
     "metadata": {},
     "output_type": "execute_result"
    }
   ],
   "source": [
    "numero_implicados = df_2022['num_expediente'].value_counts()\n",
    "diccionario_expediente_implicados = numero_implicados.to_dict()\n",
    "df_2022['num_expediente'] = df_2022['num_expediente'].map(diccionario_expediente_implicados)\n",
    "df_2022.rename(columns={'num_expediente': 'num_implicados'}, inplace=True)\n",
    "\n",
    "df_2022.head()"
   ],
   "metadata": {
    "collapsed": false,
    "ExecuteTime": {
     "end_time": "2023-10-26T16:27:36.767375895Z",
     "start_time": "2023-10-26T16:27:36.668551323Z"
    }
   },
   "id": "16fad6ffc7814264"
  },
  {
   "cell_type": "markdown",
   "source": [
    "Transformamos el tipo de accidente en códigos por medio de un mapeo por diccionario, pero antes, debemos establecer el código."
   ],
   "metadata": {
    "collapsed": false
   },
   "id": "da25a9069ac7ab2e"
  },
  {
   "cell_type": "code",
   "execution_count": 247,
   "outputs": [
    {
     "data": {
      "text/plain": "{'Alcance': 0,\n 'Colisión fronto-lateral': 1,\n 'Atropello a persona': 2,\n 'Choque contra obstáculo fijo': 3,\n 'Colisión lateral': 4,\n 'Caída': 5,\n 'Colisión múltiple': 6,\n 'Colisión frontal': 7,\n 'Otro': 8,\n 'Solo salida de la vía': 9,\n 'Vuelco': 10,\n 'Atropello a animal': 11,\n 'Despeñamiento': 12}"
     },
     "execution_count": 247,
     "metadata": {},
     "output_type": "execute_result"
    }
   ],
   "source": [
    "valores_unicos = df_2022['tipo_accidente'].unique()\n",
    "diccionario_accidentes = {tipo_accidente: codigo for codigo, tipo_accidente in enumerate(valores_unicos)}\n",
    "diccionario_accidentes"
   ],
   "metadata": {
    "collapsed": false,
    "ExecuteTime": {
     "end_time": "2023-10-26T16:27:36.830981502Z",
     "start_time": "2023-10-26T16:27:36.717589894Z"
    }
   },
   "id": "b04f33821e7f5fc0"
  },
  {
   "cell_type": "markdown",
   "source": [
    "Una vez establecido el código mapeamos al índice"
   ],
   "metadata": {
    "collapsed": false
   },
   "id": "1165d0e2e8e2dbe6"
  },
  {
   "cell_type": "code",
   "execution_count": 248,
   "outputs": [
    {
     "data": {
      "text/plain": "0    0\n1    0\n2    1\n3    1\n4    2\nName: tipo_accidente, dtype: int64"
     },
     "execution_count": 248,
     "metadata": {},
     "output_type": "execute_result"
    }
   ],
   "source": [
    "df_2022['tipo_accidente'] = df_2022['tipo_accidente'].map(diccionario_accidentes)\n",
    "df_2022['tipo_accidente'].head()"
   ],
   "metadata": {
    "collapsed": false,
    "ExecuteTime": {
     "end_time": "2023-10-26T16:27:36.831369721Z",
     "start_time": "2023-10-26T16:27:36.761752006Z"
    }
   },
   "id": "fb79632a766b6bac"
  },
  {
   "cell_type": "markdown",
   "source": [
    "Hacemos lo mismo para los tipos de vehículo"
   ],
   "metadata": {
    "collapsed": false
   },
   "id": "c857eaa3e490d4d1"
  },
  {
   "cell_type": "code",
   "execution_count": 249,
   "outputs": [
    {
     "name": "stdout",
     "output_type": "stream",
     "text": [
      "{'Turismo': 0, 'Motocicleta hasta 125cc': 1, 'Motocicleta > 125cc': 2, 'Furgoneta': 3, 'Camión rígido': 4, 'Todo terreno': 5, 'Bicicleta EPAC (pedaleo asistido)': 6, 'VMU eléctrico': 7, 'Maquinaria de obras': 8, 'Ciclomotor': 9, 'Autobús articulado': 10, 'Vehículo articulado': 11, 'Otros vehículos con motor': 12, 'Autocaravana': 13, 'Autobús': 14, 'Tractocamión': 15, 'Bicicleta': 16, 'Cuadriciclo ligero': 17, 'Sin especificar': 18, 'Autobús articulado EMT': 19, 'Autobus EMT': 20, 'Cuadriciclo no ligero': 21, 'Camión de bomberos': 22, 'Ambulancia SAMUR': 23, 'Ciclo': 24, 'Moto de tres ruedas > 125cc': 25, 'Ciclomotor de dos ruedas L1e-B': 26, 'Moto de tres ruedas hasta 125cc': 27, 'Semiremolque': 28, 'Patinete no eléctrico': 29, 'Remolque': 30, 'Otros vehículos sin motor': 31, 'Microbús <= 17 plazas': 32, 'Tren/metro': 33}\n"
     ]
    },
    {
     "data": {
      "text/plain": "0    0\n1    0\n2    1\n3    0\n4    2\nName: tipo_vehiculo, dtype: int64"
     },
     "execution_count": 249,
     "metadata": {},
     "output_type": "execute_result"
    }
   ],
   "source": [
    "valores_unicos = df_2022['tipo_vehiculo'].unique()\n",
    "diccionario_vehiculos = {tipo_vehiculo: codigo for codigo, tipo_vehiculo in enumerate(valores_unicos)}\n",
    "print(diccionario_vehiculos)\n",
    "df_2022['tipo_vehiculo'] = df_2022['tipo_vehiculo'].map(diccionario_vehiculos)\n",
    "df_2022['tipo_vehiculo'].head()"
   ],
   "metadata": {
    "collapsed": false,
    "ExecuteTime": {
     "end_time": "2023-10-26T16:27:36.956059749Z",
     "start_time": "2023-10-26T16:27:36.761950528Z"
    }
   },
   "id": "f1eca232f6db30f4"
  },
  {
   "cell_type": "markdown",
   "source": [
    "Ya tenemos listos todos los sets"
   ],
   "metadata": {
    "collapsed": false
   },
   "id": "e6db03f39b6ea202"
  },
  {
   "cell_type": "markdown",
   "source": [
    "## Normalización de datos\n",
    "Es necesario tratar los datos para que estén centrados en 0 y con varianza 1. Recordemos que la función logistica y la función tangente hiperbólica, que utilizaremos más tarde, tienen la forma:"
   ],
   "metadata": {
    "collapsed": false
   },
   "id": "63d7f7ff796ee608"
  },
  {
   "cell_type": "code",
   "execution_count": 250,
   "outputs": [
    {
     "data": {
      "text/plain": "<Figure size 800x600 with 1 Axes>",
      "image/png": "[encoded data removed]"
     },
     "metadata": {},
     "output_type": "display_data"
    }
   ],
   "source": [
    "import matplotlib.pyplot as plt\n",
    "\n",
    "\n",
    "def logistic_function(x):\n",
    "    return 1 / (1 + np.exp(-x))\n",
    "\n",
    "\n",
    "x = np.arange(-6, 6, 0.1)\n",
    "y = logistic_function(x)\n",
    "yh = np.tanh(x)\n",
    "\n",
    "plt.figure(figsize=(8, 6))\n",
    "plt.plot(x, y, label='Función Logística', color='b')\n",
    "plt.plot(x, yh, label='Tangente Hiperbólica', color='r', linestyle='--')\n",
    "plt.title('Gráfica de la Función Logística vs Tangente Hiperbólica')\n",
    "plt.xlabel('x')\n",
    "plt.ylabel('y')\n",
    "plt.legend()\n",
    "plt.grid(True)\n",
    "plt.show()"
   ],
   "metadata": {
    "collapsed": false,
    "ExecuteTime": {
     "end_time": "2023-10-26T16:27:37.151130259Z",
     "start_time": "2023-10-26T16:27:36.805718131Z"
    }
   },
   "id": "98e17fd64fa8e4b"
  },
  {
   "cell_type": "markdown",
   "source": [
    "Eso significa que para todas las entradas mayores que 4, la derivada es aproximadamente 0, y el aprendizaje se detendrá. Además, como podemos observar, la función logística es una curva más \"suave\", que esperamos que rinda mejor al tener mayor región activa para aceptar valores antes de que desvanezca el gradiente.\n",
    "\n",
    "Utilizaremos la función logística inter-capas y la función softmax para la salida. Ahora recordamos los datos que tenemos que tratar:"
   ],
   "metadata": {
    "collapsed": false
   },
   "id": "eb8c5e73f8cad760"
  },
  {
   "cell_type": "markdown",
   "source": [
    "Procedemos a normalizar todas las columnas para centrarlas en 0 reducir su desviación típica a 1"
   ],
   "metadata": {
    "collapsed": false
   },
   "id": "8e3b65b496fa5ac2"
  },
  {
   "cell_type": "code",
   "execution_count": 251,
   "outputs": [],
   "source": [
    "def normalizer(column: pd.Series) -> pd.Series:\n",
    "    mean = column.mean()\n",
    "    std = column.std() + 0.0000001  # evitamos dividir entre 0\n",
    "    normalized_column = (column - mean) / std\n",
    "    return normalized_column\n",
    "\n",
    "# No hace falta normalizar la marca de clase, pues es lo que buscamos clasificar\n",
    "# # Es necesario no contar los -1 y preservarlos, utilizamos un predicado para decidir qué se le aplica a cada valor de la columna\n",
    "# def marca_de_clase_edad_normalizer(column: pd.Series) -> pd.Series:\n",
    "#     # Calcula la media y la desviación estándar solo para valores mayores que 0\n",
    "#     mean = column[column > 0].mean()\n",
    "#     std = column[column > 0].std() + 0.0000001  # evitamos dividir entre 0\n",
    "# \n",
    "#     # Aplicar normalización solo a los valores mayores que 0, de lo contrario, asignar valor -100\n",
    "#     normalized_column = np.where(column > 0, (column - mean) / std, column * 100)\n",
    "# \n",
    "#     return pd.Series(normalized_column)"
   ],
   "metadata": {
    "collapsed": false,
    "ExecuteTime": {
     "end_time": "2023-10-26T16:27:37.151350589Z",
     "start_time": "2023-10-26T16:27:37.001763478Z"
    }
   },
   "id": "cf4ff020aefc0973"
  },
  {
   "cell_type": "code",
   "execution_count": 252,
   "outputs": [
    {
     "data": {
      "text/plain": "       num_implicados  minutes_from_midnight  cod_distrito  tipo_accidente  \\\n0           -0.002662              -2.239487      0.552759       -1.078154   \n1           -0.002662              -2.239487      0.552759       -1.078154   \n2           -0.002662              -2.413881     -1.207473       -0.640552   \n3           -0.002662              -2.413881     -1.207473       -0.640552   \n4           -1.572507              -2.181356     -1.559519       -0.202949   \n...               ...                    ...           ...             ...   \n60147       -0.002662               1.568107      1.080829        2.422666   \n60148       -0.002662               1.422779      0.376736       -1.078154   \n60149       -0.002662               1.422779      0.376736       -1.078154   \n60150       -1.572507               0.056696     -0.855426        1.109858   \n60151       -1.572507               1.364648     -0.327357        0.234653   \n\n       tipo_vehiculo  sexo  positiva_alcohol  positiva_droga  bool_laborable  \\\n0          -0.458778     0                 0             0.0               0   \n1          -0.458778     1                 0             0.0               0   \n2          -0.193479     1                 1             0.0               0   \n3          -0.458778     1                 0             0.0               0   \n4           0.071820     1                 0             0.0               0   \n...              ...   ...               ...             ...             ...   \n60147      -0.458778     0                 0             0.0               1   \n60148      -0.193479     1                 0             0.0               1   \n60149      -0.458778     1                 0             0.0               1   \n60150      -0.193479     1                 0             0.0               1   \n60151      -0.458778     1                 0             0.0               1   \n\n       marca_de_clase_edad       day     month  media_edad_pasajeros  \\\n0                     32.0 -1.674463 -1.447034             -0.019074   \n1                     47.0 -1.674463 -1.447034             -0.019074   \n2                     32.0 -1.674463 -1.447034             -0.222083   \n3                     42.0 -1.674463 -1.447034             -0.222083   \n4                     -1.0 -1.674463 -1.447034             -1.683752   \n...                    ...       ...       ...                   ...   \n60147                 -1.0  1.740373  0.712848              0.183936   \n60148                 32.0  1.740373  0.712848             -0.425093   \n60149                 37.0  1.740373  0.712848             -0.425093   \n60150                 42.0  1.740373  0.712848              0.183936   \n60151                 37.0 -1.560635  0.712848             -0.222083   \n\n       numero_pasajeros  \n0             -0.401243  \n1             -0.401243  \n2              0.497628  \n3              0.497628  \n4             -0.401243  \n...                 ...  \n60147          0.497628  \n60148         -0.401243  \n60149         -0.401243  \n60150         -1.300115  \n60151         -1.300115  \n\n[60152 rows x 14 columns]",
      "text/html": "<div>\n<style scoped>\n    .dataframe tbody tr th:only-of-type {\n        vertical-align: middle;\n    }\n\n    .dataframe tbody tr th {\n        vertical-align: top;\n    }\n\n    .dataframe thead th {\n        text-align: right;\n    }\n</style>\n<table border=\"1\" class=\"dataframe\">\n  <thead>\n    <tr style=\"text-align: right;\">\n      <th></th>\n      <th>num_implicados</th>\n      <th>minutes_from_midnight</th>\n      <th>cod_distrito</th>\n      <th>tipo_accidente</th>\n      <th>tipo_vehiculo</th>\n      <th>sexo</th>\n      <th>positiva_alcohol</th>\n      <th>positiva_droga</th>\n      <th>bool_laborable</th>\n      <th>marca_de_clase_edad</th>\n      <th>day</th>\n      <th>month</th>\n      <th>media_edad_pasajeros</th>\n      <th>numero_pasajeros</th>\n    </tr>\n  </thead>\n  <tbody>\n    <tr>\n      <th>0</th>\n      <td>-0.002662</td>\n      <td>-2.239487</td>\n      <td>0.552759</td>\n      <td>-1.078154</td>\n      <td>-0.458778</td>\n      <td>0</td>\n      <td>0</td>\n      <td>0.0</td>\n      <td>0</td>\n      <td>32.0</td>\n      <td>-1.674463</td>\n      <td>-1.447034</td>\n      <td>-0.019074</td>\n      <td>-0.401243</td>\n    </tr>\n    <tr>\n      <th>1</th>\n      <td>-0.002662</td>\n      <td>-2.239487</td>\n      <td>0.552759</td>\n      <td>-1.078154</td>\n      <td>-0.458778</td>\n      <td>1</td>\n      <td>0</td>\n      <td>0.0</td>\n      <td>0</td>\n      <td>47.0</td>\n      <td>-1.674463</td>\n      <td>-1.447034</td>\n      <td>-0.019074</td>\n      <td>-0.401243</td>\n    </tr>\n    <tr>\n      <th>2</th>\n      <td>-0.002662</td>\n      <td>-2.413881</td>\n      <td>-1.207473</td>\n      <td>-0.640552</td>\n      <td>-0.193479</td>\n      <td>1</td>\n      <td>1</td>\n      <td>0.0</td>\n      <td>0</td>\n      <td>32.0</td>\n      <td>-1.674463</td>\n      <td>-1.447034</td>\n      <td>-0.222083</td>\n      <td>0.497628</td>\n    </tr>\n    <tr>\n      <th>3</th>\n      <td>-0.002662</td>\n      <td>-2.413881</td>\n      <td>-1.207473</td>\n      <td>-0.640552</td>\n      <td>-0.458778</td>\n      <td>1</td>\n      <td>0</td>\n      <td>0.0</td>\n      <td>0</td>\n      <td>42.0</td>\n      <td>-1.674463</td>\n      <td>-1.447034</td>\n      <td>-0.222083</td>\n      <td>0.497628</td>\n    </tr>\n    <tr>\n      <th>4</th>\n      <td>-1.572507</td>\n      <td>-2.181356</td>\n      <td>-1.559519</td>\n      <td>-0.202949</td>\n      <td>0.071820</td>\n      <td>1</td>\n      <td>0</td>\n      <td>0.0</td>\n      <td>0</td>\n      <td>-1.0</td>\n      <td>-1.674463</td>\n      <td>-1.447034</td>\n      <td>-1.683752</td>\n      <td>-0.401243</td>\n    </tr>\n    <tr>\n      <th>...</th>\n      <td>...</td>\n      <td>...</td>\n      <td>...</td>\n      <td>...</td>\n      <td>...</td>\n      <td>...</td>\n      <td>...</td>\n      <td>...</td>\n      <td>...</td>\n      <td>...</td>\n      <td>...</td>\n      <td>...</td>\n      <td>...</td>\n      <td>...</td>\n    </tr>\n    <tr>\n      <th>60147</th>\n      <td>-0.002662</td>\n      <td>1.568107</td>\n      <td>1.080829</td>\n      <td>2.422666</td>\n      <td>-0.458778</td>\n      <td>0</td>\n      <td>0</td>\n      <td>0.0</td>\n      <td>1</td>\n      <td>-1.0</td>\n      <td>1.740373</td>\n      <td>0.712848</td>\n      <td>0.183936</td>\n      <td>0.497628</td>\n    </tr>\n    <tr>\n      <th>60148</th>\n      <td>-0.002662</td>\n      <td>1.422779</td>\n      <td>0.376736</td>\n      <td>-1.078154</td>\n      <td>-0.193479</td>\n      <td>1</td>\n      <td>0</td>\n      <td>0.0</td>\n      <td>1</td>\n      <td>32.0</td>\n      <td>1.740373</td>\n      <td>0.712848</td>\n      <td>-0.425093</td>\n      <td>-0.401243</td>\n    </tr>\n    <tr>\n      <th>60149</th>\n      <td>-0.002662</td>\n      <td>1.422779</td>\n      <td>0.376736</td>\n      <td>-1.078154</td>\n      <td>-0.458778</td>\n      <td>1</td>\n      <td>0</td>\n      <td>0.0</td>\n      <td>1</td>\n      <td>37.0</td>\n      <td>1.740373</td>\n      <td>0.712848</td>\n      <td>-0.425093</td>\n      <td>-0.401243</td>\n    </tr>\n    <tr>\n      <th>60150</th>\n      <td>-1.572507</td>\n      <td>0.056696</td>\n      <td>-0.855426</td>\n      <td>1.109858</td>\n      <td>-0.193479</td>\n      <td>1</td>\n      <td>0</td>\n      <td>0.0</td>\n      <td>1</td>\n      <td>42.0</td>\n      <td>1.740373</td>\n      <td>0.712848</td>\n      <td>0.183936</td>\n      <td>-1.300115</td>\n    </tr>\n    <tr>\n      <th>60151</th>\n      <td>-1.572507</td>\n      <td>1.364648</td>\n      <td>-0.327357</td>\n      <td>0.234653</td>\n      <td>-0.458778</td>\n      <td>1</td>\n      <td>0</td>\n      <td>0.0</td>\n      <td>1</td>\n      <td>37.0</td>\n      <td>-1.560635</td>\n      <td>0.712848</td>\n      <td>-0.222083</td>\n      <td>-1.300115</td>\n    </tr>\n  </tbody>\n</table>\n<p>60152 rows × 14 columns</p>\n</div>"
     },
     "execution_count": 252,
     "metadata": {},
     "output_type": "execute_result"
    }
   ],
   "source": [
    "df_2022_normalized = pd.DataFrame()\n",
    "df_2022_normalized['num_implicados'] = normalizer(df_2022['num_implicados'])\n",
    "df_2022_normalized['minutes_from_midnight'] = normalizer(df_2022[' minutes_from_midnight'])\n",
    "df_2022_normalized['cod_distrito'] = normalizer(df_2022['cod_distrito'])\n",
    "df_2022_normalized['tipo_accidente'] = normalizer(df_2022['tipo_accidente'])\n",
    "df_2022_normalized['tipo_vehiculo'] = normalizer(df_2022['tipo_vehiculo'])\n",
    "\n",
    "# No se normalizan los valores binarios, pues perderían su carácter de datos discretos\n",
    "df_2022_normalized['sexo'] = df_2022['sexo']\n",
    "df_2022_normalized['positiva_alcohol'] = df_2022['positiva_alcohol']\n",
    "df_2022_normalized['positiva_droga'] = df_2022['positiva_droga']\n",
    "df_2022_normalized['bool_laborable'] = df_2022['bool_laborable']\n",
    "\n",
    "# Aplicamos una función especial para la marca de clase_edad\n",
    "df_2022_normalized['marca_de_clase_edad'] = df_2022['marca_de_clase_edad']\n",
    "\n",
    "# Normalizamos las fechas\n",
    "df_2022_normalized['day'] = normalizer(df_2022['day'])\n",
    "df_2022_normalized['month'] = normalizer(df_2022['month'])\n",
    "df_2022_normalized['media_edad_pasajeros'] = normalizer(df_2022['media_edad_pasajeros'])\n",
    "df_2022_normalized['numero_pasajeros'] = normalizer(df_2022['numero_pasajeros'])\n",
    "df_2022_normalized"
   ],
   "metadata": {
    "collapsed": false,
    "ExecuteTime": {
     "end_time": "2023-10-26T16:27:37.161186372Z",
     "start_time": "2023-10-26T16:27:37.001932275Z"
    }
   },
   "id": "823c91902af70bc7"
  },
  {
   "cell_type": "markdown",
   "source": [
    "## Separación\n",
    "Sacamos los conductores con marca_clase_edad = -1 pues ellos no van a participar en el entrenamiento del modelo.\n",
    "\n",
    "Creamos el conjunto de entrenamiento    training_set\n",
    "Creamos el conjunto de validación       test_set\n",
    "Creamos el conjunto inútilizable        predict_set\n",
    "\n",
    "El conjunto de validación será elegido por muestra aleatoria simple, y escogemos 80 - 20.\n",
    "En un futuro se realizará una validación cruzada"
   ],
   "metadata": {
    "collapsed": false
   },
   "id": "3535d69dba69eaf1"
  },
  {
   "cell_type": "code",
   "execution_count": 253,
   "outputs": [],
   "source": [
    "to_predict_set = df_2022_normalized[df_2022_normalized['marca_de_clase_edad'] == -100]\n",
    "df_2022_normalized.drop(to_predict_set.index)\n",
    "# Se escoge el 20% para validación\n",
    "test_set = df_2022_normalized.sample(frac=0.2, random_state=1234)  # todo validación cruzada\n",
    "# Eliminamos los datos de validación para evitar overfitting\n",
    "training_set = df_2022_normalized.drop(test_set.index)"
   ],
   "metadata": {
    "collapsed": false,
    "ExecuteTime": {
     "end_time": "2023-10-26T16:27:37.162182789Z",
     "start_time": "2023-10-26T16:27:37.006189784Z"
    }
   },
   "id": "569a2e9ed908309f"
  },
  {
   "cell_type": "code",
   "execution_count": 254,
   "outputs": [
    {
     "data": {
      "text/plain": "Empty DataFrame\nColumns: [num_implicados, minutes_from_midnight, cod_distrito, tipo_accidente, tipo_vehiculo, sexo, positiva_alcohol, positiva_droga, bool_laborable, marca_de_clase_edad, day, month, media_edad_pasajeros, numero_pasajeros]\nIndex: []",
      "text/html": "<div>\n<style scoped>\n    .dataframe tbody tr th:only-of-type {\n        vertical-align: middle;\n    }\n\n    .dataframe tbody tr th {\n        vertical-align: top;\n    }\n\n    .dataframe thead th {\n        text-align: right;\n    }\n</style>\n<table border=\"1\" class=\"dataframe\">\n  <thead>\n    <tr style=\"text-align: right;\">\n      <th></th>\n      <th>num_implicados</th>\n      <th>minutes_from_midnight</th>\n      <th>cod_distrito</th>\n      <th>tipo_accidente</th>\n      <th>tipo_vehiculo</th>\n      <th>sexo</th>\n      <th>positiva_alcohol</th>\n      <th>positiva_droga</th>\n      <th>bool_laborable</th>\n      <th>marca_de_clase_edad</th>\n      <th>day</th>\n      <th>month</th>\n      <th>media_edad_pasajeros</th>\n      <th>numero_pasajeros</th>\n    </tr>\n  </thead>\n  <tbody>\n  </tbody>\n</table>\n</div>"
     },
     "execution_count": 254,
     "metadata": {},
     "output_type": "execute_result"
    }
   ],
   "source": [
    "to_predict_set.head()"
   ],
   "metadata": {
    "collapsed": false,
    "ExecuteTime": {
     "end_time": "2023-10-26T16:27:37.162912963Z",
     "start_time": "2023-10-26T16:27:37.026295839Z"
    }
   },
   "id": "439b465a18f2207d"
  },
  {
   "cell_type": "code",
   "execution_count": 255,
   "outputs": [
    {
     "data": {
      "text/plain": "       num_implicados  minutes_from_midnight  cod_distrito  tipo_accidente  \\\n4412         1.567183              -1.129181     -0.855426        1.547461   \n37583       -0.002662              -1.416931      0.024690       -0.640552   \n23751       -0.002662              -1.047797     -0.503380       -0.640552   \n58004       -0.002662              -1.759905      0.552759        0.234653   \n2423        -0.002662               1.088525      0.728783       -0.640552   \n\n       tipo_vehiculo  sexo  positiva_alcohol  positiva_droga  bool_laborable  \\\n4412       -0.458778     1                 0             0.0               1   \n37583      -0.458778     0                 0             0.0               0   \n23751      -0.193479     0                 0             0.0               1   \n58004      -0.458778     0                 0             0.0               0   \n2423       -0.458778     1                 0             0.0               1   \n\n       marca_de_clase_edad       day     month  media_edad_pasajeros  \\\n4412                  -1.0  0.032955 -1.138480              0.792965   \n37583                 67.0 -0.194701 -1.447034              2.214032   \n23751                 32.0 -1.105323  1.021402              0.792965   \n58004                 -1.0  1.512717  0.404293             -1.013821   \n2423                  62.0  1.398889 -1.447034              1.808013   \n\n       numero_pasajeros  \n4412           0.497628  \n37583         -0.401243  \n23751         -0.401243  \n58004          0.497628  \n2423          -0.401243  ",
      "text/html": "<div>\n<style scoped>\n    .dataframe tbody tr th:only-of-type {\n        vertical-align: middle;\n    }\n\n    .dataframe tbody tr th {\n        vertical-align: top;\n    }\n\n    .dataframe thead th {\n        text-align: right;\n    }\n</style>\n<table border=\"1\" class=\"dataframe\">\n  <thead>\n    <tr style=\"text-align: right;\">\n      <th></th>\n      <th>num_implicados</th>\n      <th>minutes_from_midnight</th>\n      <th>cod_distrito</th>\n      <th>tipo_accidente</th>\n      <th>tipo_vehiculo</th>\n      <th>sexo</th>\n      <th>positiva_alcohol</th>\n      <th>positiva_droga</th>\n      <th>bool_laborable</th>\n      <th>marca_de_clase_edad</th>\n      <th>day</th>\n      <th>month</th>\n      <th>media_edad_pasajeros</th>\n      <th>numero_pasajeros</th>\n    </tr>\n  </thead>\n  <tbody>\n    <tr>\n      <th>4412</th>\n      <td>1.567183</td>\n      <td>-1.129181</td>\n      <td>-0.855426</td>\n      <td>1.547461</td>\n      <td>-0.458778</td>\n      <td>1</td>\n      <td>0</td>\n      <td>0.0</td>\n      <td>1</td>\n      <td>-1.0</td>\n      <td>0.032955</td>\n      <td>-1.138480</td>\n      <td>0.792965</td>\n      <td>0.497628</td>\n    </tr>\n    <tr>\n      <th>37583</th>\n      <td>-0.002662</td>\n      <td>-1.416931</td>\n      <td>0.024690</td>\n      <td>-0.640552</td>\n      <td>-0.458778</td>\n      <td>0</td>\n      <td>0</td>\n      <td>0.0</td>\n      <td>0</td>\n      <td>67.0</td>\n      <td>-0.194701</td>\n      <td>-1.447034</td>\n      <td>2.214032</td>\n      <td>-0.401243</td>\n    </tr>\n    <tr>\n      <th>23751</th>\n      <td>-0.002662</td>\n      <td>-1.047797</td>\n      <td>-0.503380</td>\n      <td>-0.640552</td>\n      <td>-0.193479</td>\n      <td>0</td>\n      <td>0</td>\n      <td>0.0</td>\n      <td>1</td>\n      <td>32.0</td>\n      <td>-1.105323</td>\n      <td>1.021402</td>\n      <td>0.792965</td>\n      <td>-0.401243</td>\n    </tr>\n    <tr>\n      <th>58004</th>\n      <td>-0.002662</td>\n      <td>-1.759905</td>\n      <td>0.552759</td>\n      <td>0.234653</td>\n      <td>-0.458778</td>\n      <td>0</td>\n      <td>0</td>\n      <td>0.0</td>\n      <td>0</td>\n      <td>-1.0</td>\n      <td>1.512717</td>\n      <td>0.404293</td>\n      <td>-1.013821</td>\n      <td>0.497628</td>\n    </tr>\n    <tr>\n      <th>2423</th>\n      <td>-0.002662</td>\n      <td>1.088525</td>\n      <td>0.728783</td>\n      <td>-0.640552</td>\n      <td>-0.458778</td>\n      <td>1</td>\n      <td>0</td>\n      <td>0.0</td>\n      <td>1</td>\n      <td>62.0</td>\n      <td>1.398889</td>\n      <td>-1.447034</td>\n      <td>1.808013</td>\n      <td>-0.401243</td>\n    </tr>\n  </tbody>\n</table>\n</div>"
     },
     "execution_count": 255,
     "metadata": {},
     "output_type": "execute_result"
    }
   ],
   "source": [
    "test_set.head()"
   ],
   "metadata": {
    "collapsed": false,
    "ExecuteTime": {
     "end_time": "2023-10-26T16:27:37.164899410Z",
     "start_time": "2023-10-26T16:27:37.028350690Z"
    }
   },
   "id": "98499ac908ec3318"
  },
  {
   "cell_type": "code",
   "execution_count": 256,
   "outputs": [
    {
     "data": {
      "text/plain": "   num_implicados  minutes_from_midnight  cod_distrito  tipo_accidente  \\\n0       -0.002662              -2.239487      0.552759       -1.078154   \n1       -0.002662              -2.239487      0.552759       -1.078154   \n2       -0.002662              -2.413881     -1.207473       -0.640552   \n3       -0.002662              -2.413881     -1.207473       -0.640552   \n5       -1.572507              -1.861634      1.784922        0.234653   \n\n   tipo_vehiculo  sexo  positiva_alcohol  positiva_droga  bool_laborable  \\\n0      -0.458778     0                 0             0.0               0   \n1      -0.458778     1                 0             0.0               0   \n2      -0.193479     1                 1             0.0               0   \n3      -0.458778     1                 0             0.0               0   \n5      -0.458778     1                 0             0.0               0   \n\n   marca_de_clase_edad       day     month  media_edad_pasajeros  \\\n0                 32.0 -1.674463 -1.447034             -0.019074   \n1                 47.0 -1.674463 -1.447034             -0.019074   \n2                 32.0 -1.674463 -1.447034             -0.222083   \n3                 42.0 -1.674463 -1.447034             -0.222083   \n5                 52.0 -1.674463 -1.447034              1.198984   \n\n   numero_pasajeros  \n0         -0.401243  \n1         -0.401243  \n2          0.497628  \n3          0.497628  \n5         -0.401243  ",
      "text/html": "<div>\n<style scoped>\n    .dataframe tbody tr th:only-of-type {\n        vertical-align: middle;\n    }\n\n    .dataframe tbody tr th {\n        vertical-align: top;\n    }\n\n    .dataframe thead th {\n        text-align: right;\n    }\n</style>\n<table border=\"1\" class=\"dataframe\">\n  <thead>\n    <tr style=\"text-align: right;\">\n      <th></th>\n      <th>num_implicados</th>\n      <th>minutes_from_midnight</th>\n      <th>cod_distrito</th>\n      <th>tipo_accidente</th>\n      <th>tipo_vehiculo</th>\n      <th>sexo</th>\n      <th>positiva_alcohol</th>\n      <th>positiva_droga</th>\n      <th>bool_laborable</th>\n      <th>marca_de_clase_edad</th>\n      <th>day</th>\n      <th>month</th>\n      <th>media_edad_pasajeros</th>\n      <th>numero_pasajeros</th>\n    </tr>\n  </thead>\n  <tbody>\n    <tr>\n      <th>0</th>\n      <td>-0.002662</td>\n      <td>-2.239487</td>\n      <td>0.552759</td>\n      <td>-1.078154</td>\n      <td>-0.458778</td>\n      <td>0</td>\n      <td>0</td>\n      <td>0.0</td>\n      <td>0</td>\n      <td>32.0</td>\n      <td>-1.674463</td>\n      <td>-1.447034</td>\n      <td>-0.019074</td>\n      <td>-0.401243</td>\n    </tr>\n    <tr>\n      <th>1</th>\n      <td>-0.002662</td>\n      <td>-2.239487</td>\n      <td>0.552759</td>\n      <td>-1.078154</td>\n      <td>-0.458778</td>\n      <td>1</td>\n      <td>0</td>\n      <td>0.0</td>\n      <td>0</td>\n      <td>47.0</td>\n      <td>-1.674463</td>\n      <td>-1.447034</td>\n      <td>-0.019074</td>\n      <td>-0.401243</td>\n    </tr>\n    <tr>\n      <th>2</th>\n      <td>-0.002662</td>\n      <td>-2.413881</td>\n      <td>-1.207473</td>\n      <td>-0.640552</td>\n      <td>-0.193479</td>\n      <td>1</td>\n      <td>1</td>\n      <td>0.0</td>\n      <td>0</td>\n      <td>32.0</td>\n      <td>-1.674463</td>\n      <td>-1.447034</td>\n      <td>-0.222083</td>\n      <td>0.497628</td>\n    </tr>\n    <tr>\n      <th>3</th>\n      <td>-0.002662</td>\n      <td>-2.413881</td>\n      <td>-1.207473</td>\n      <td>-0.640552</td>\n      <td>-0.458778</td>\n      <td>1</td>\n      <td>0</td>\n      <td>0.0</td>\n      <td>0</td>\n      <td>42.0</td>\n      <td>-1.674463</td>\n      <td>-1.447034</td>\n      <td>-0.222083</td>\n      <td>0.497628</td>\n    </tr>\n    <tr>\n      <th>5</th>\n      <td>-1.572507</td>\n      <td>-1.861634</td>\n      <td>1.784922</td>\n      <td>0.234653</td>\n      <td>-0.458778</td>\n      <td>1</td>\n      <td>0</td>\n      <td>0.0</td>\n      <td>0</td>\n      <td>52.0</td>\n      <td>-1.674463</td>\n      <td>-1.447034</td>\n      <td>1.198984</td>\n      <td>-0.401243</td>\n    </tr>\n  </tbody>\n</table>\n</div>"
     },
     "execution_count": 256,
     "metadata": {},
     "output_type": "execute_result"
    }
   ],
   "source": [
    "training_set.head()"
   ],
   "metadata": {
    "collapsed": false,
    "ExecuteTime": {
     "end_time": "2023-10-26T16:27:37.165393667Z",
     "start_time": "2023-10-26T16:27:37.053277987Z"
    }
   },
   "id": "37304f50fece50f2"
  },
  {
   "cell_type": "code",
   "execution_count": 257,
   "outputs": [
    {
     "data": {
      "text/plain": "                       num_implicados  minutes_from_midnight  cod_distrito  \\\nnum_implicados               1.000000               0.029559      0.000382   \nminutes_from_midnight        0.029559               1.000000      0.022495   \ncod_distrito                 0.000382               0.022495      1.000000   \ntipo_accidente              -0.016842              -0.036115     -0.011816   \ntipo_vehiculo               -0.105791               0.008364     -0.046983   \nsexo                        -0.031678              -0.017421     -0.035849   \npositiva_alcohol            -0.079482              -0.103176      0.016000   \npositiva_droga              -0.019005              -0.022130      0.011326   \nbool_laborable               0.046999               0.084657      0.005192   \nmarca_de_clase_edad         -0.001218               0.033446     -0.048053   \nday                         -0.004525              -0.006081     -0.006176   \nmonth                       -0.023235               0.010897     -0.001397   \nmedia_edad_pasajeros         0.113949               0.026120     -0.049746   \nnumero_pasajeros             0.649117               0.055869      0.006889   \n\n                       tipo_accidente  tipo_vehiculo      sexo  \\\nnum_implicados              -0.016842      -0.105791 -0.031678   \nminutes_from_midnight       -0.036115       0.008364 -0.017421   \ncod_distrito                -0.011816      -0.046983 -0.035849   \ntipo_accidente               1.000000       0.072681  0.026240   \ntipo_vehiculo                0.072681       1.000000  0.114353   \nsexo                         0.026240       0.114353  1.000000   \npositiva_alcohol             0.035083      -0.036653  0.051076   \npositiva_droga               0.005784      -0.008404  0.026995   \nbool_laborable              -0.016802       0.026118 -0.045393   \nmarca_de_clase_edad         -0.057728       0.019115 -0.030022   \nday                          0.006373      -0.004318 -0.004805   \nmonth                        0.016426       0.011493  0.003700   \nmedia_edad_pasajeros        -0.033356       0.022750  0.003871   \nnumero_pasajeros            -0.050278      -0.093354 -0.019840   \n\n                       positiva_alcohol  positiva_droga  bool_laborable  \\\nnum_implicados                -0.079482       -0.019005        0.046999   \nminutes_from_midnight         -0.103176       -0.022130        0.084657   \ncod_distrito                   0.016000        0.011326        0.005192   \ntipo_accidente                 0.035083        0.005784       -0.016802   \ntipo_vehiculo                 -0.036653       -0.008404        0.026118   \nsexo                           0.051076        0.026995       -0.045393   \npositiva_alcohol               1.000000        0.078286       -0.125057   \npositiva_droga                 0.078286        1.000000       -0.011536   \nbool_laborable                -0.125057       -0.011536        1.000000   \nmarca_de_clase_edad            0.022768        0.003401        0.088546   \nday                           -0.004923        0.006732        0.014567   \nmonth                          0.006093        0.001865        0.003115   \nmedia_edad_pasajeros          -0.019925       -0.009761        0.101129   \nnumero_pasajeros              -0.041046        0.005886       -0.023943   \n\n                       marca_de_clase_edad       day     month  \\\nnum_implicados                   -0.001218 -0.004525 -0.023235   \nminutes_from_midnight             0.033446 -0.006081  0.010897   \ncod_distrito                     -0.048053 -0.006176 -0.001397   \ntipo_accidente                   -0.057728  0.006373  0.016426   \ntipo_vehiculo                     0.019115 -0.004318  0.011493   \nsexo                             -0.030022 -0.004805  0.003700   \npositiva_alcohol                  0.022768 -0.004923  0.006093   \npositiva_droga                    0.003401  0.006732  0.001865   \nbool_laborable                    0.088546  0.014567  0.003115   \nmarca_de_clase_edad               1.000000 -0.002452  0.014822   \nday                              -0.002452  1.000000  0.002830   \nmonth                             0.014822  0.002830  1.000000   \nmedia_edad_pasajeros              0.569932 -0.006314  0.013729   \nnumero_pasajeros                  0.044287 -0.004231 -0.003656   \n\n                       media_edad_pasajeros  numero_pasajeros  \nnum_implicados                     0.113949          0.649117  \nminutes_from_midnight              0.026120          0.055869  \ncod_distrito                      -0.049746          0.006889  \ntipo_accidente                    -0.033356         -0.050278  \ntipo_vehiculo                      0.022750         -0.093354  \nsexo                               0.003871         -0.019840  \npositiva_alcohol                  -0.019925         -0.041046  \npositiva_droga                    -0.009761          0.005886  \nbool_laborable                     0.101129         -0.023943  \nmarca_de_clase_edad                0.569932          0.044287  \nday                               -0.006314         -0.004231  \nmonth                              0.013729         -0.003656  \nmedia_edad_pasajeros               1.000000          0.041113  \nnumero_pasajeros                   0.041113          1.000000  ",
      "text/html": "<div>\n<style scoped>\n    .dataframe tbody tr th:only-of-type {\n        vertical-align: middle;\n    }\n\n    .dataframe tbody tr th {\n        vertical-align: top;\n    }\n\n    .dataframe thead th {\n        text-align: right;\n    }\n</style>\n<table border=\"1\" class=\"dataframe\">\n  <thead>\n    <tr style=\"text-align: right;\">\n      <th></th>\n      <th>num_implicados</th>\n      <th>minutes_from_midnight</th>\n      <th>cod_distrito</th>\n      <th>tipo_accidente</th>\n      <th>tipo_vehiculo</th>\n      <th>sexo</th>\n      <th>positiva_alcohol</th>\n      <th>positiva_droga</th>\n      <th>bool_laborable</th>\n      <th>marca_de_clase_edad</th>\n      <th>day</th>\n      <th>month</th>\n      <th>media_edad_pasajeros</th>\n      <th>numero_pasajeros</th>\n    </tr>\n  </thead>\n  <tbody>\n    <tr>\n      <th>num_implicados</th>\n      <td>1.000000</td>\n      <td>0.029559</td>\n      <td>0.000382</td>\n      <td>-0.016842</td>\n      <td>-0.105791</td>\n      <td>-0.031678</td>\n      <td>-0.079482</td>\n      <td>-0.019005</td>\n      <td>0.046999</td>\n      <td>-0.001218</td>\n      <td>-0.004525</td>\n      <td>-0.023235</td>\n      <td>0.113949</td>\n      <td>0.649117</td>\n    </tr>\n    <tr>\n      <th>minutes_from_midnight</th>\n      <td>0.029559</td>\n      <td>1.000000</td>\n      <td>0.022495</td>\n      <td>-0.036115</td>\n      <td>0.008364</td>\n      <td>-0.017421</td>\n      <td>-0.103176</td>\n      <td>-0.022130</td>\n      <td>0.084657</td>\n      <td>0.033446</td>\n      <td>-0.006081</td>\n      <td>0.010897</td>\n      <td>0.026120</td>\n      <td>0.055869</td>\n    </tr>\n    <tr>\n      <th>cod_distrito</th>\n      <td>0.000382</td>\n      <td>0.022495</td>\n      <td>1.000000</td>\n      <td>-0.011816</td>\n      <td>-0.046983</td>\n      <td>-0.035849</td>\n      <td>0.016000</td>\n      <td>0.011326</td>\n      <td>0.005192</td>\n      <td>-0.048053</td>\n      <td>-0.006176</td>\n      <td>-0.001397</td>\n      <td>-0.049746</td>\n      <td>0.006889</td>\n    </tr>\n    <tr>\n      <th>tipo_accidente</th>\n      <td>-0.016842</td>\n      <td>-0.036115</td>\n      <td>-0.011816</td>\n      <td>1.000000</td>\n      <td>0.072681</td>\n      <td>0.026240</td>\n      <td>0.035083</td>\n      <td>0.005784</td>\n      <td>-0.016802</td>\n      <td>-0.057728</td>\n      <td>0.006373</td>\n      <td>0.016426</td>\n      <td>-0.033356</td>\n      <td>-0.050278</td>\n    </tr>\n    <tr>\n      <th>tipo_vehiculo</th>\n      <td>-0.105791</td>\n      <td>0.008364</td>\n      <td>-0.046983</td>\n      <td>0.072681</td>\n      <td>1.000000</td>\n      <td>0.114353</td>\n      <td>-0.036653</td>\n      <td>-0.008404</td>\n      <td>0.026118</td>\n      <td>0.019115</td>\n      <td>-0.004318</td>\n      <td>0.011493</td>\n      <td>0.022750</td>\n      <td>-0.093354</td>\n    </tr>\n    <tr>\n      <th>sexo</th>\n      <td>-0.031678</td>\n      <td>-0.017421</td>\n      <td>-0.035849</td>\n      <td>0.026240</td>\n      <td>0.114353</td>\n      <td>1.000000</td>\n      <td>0.051076</td>\n      <td>0.026995</td>\n      <td>-0.045393</td>\n      <td>-0.030022</td>\n      <td>-0.004805</td>\n      <td>0.003700</td>\n      <td>0.003871</td>\n      <td>-0.019840</td>\n    </tr>\n    <tr>\n      <th>positiva_alcohol</th>\n      <td>-0.079482</td>\n      <td>-0.103176</td>\n      <td>0.016000</td>\n      <td>0.035083</td>\n      <td>-0.036653</td>\n      <td>0.051076</td>\n      <td>1.000000</td>\n      <td>0.078286</td>\n      <td>-0.125057</td>\n      <td>0.022768</td>\n      <td>-0.004923</td>\n      <td>0.006093</td>\n      <td>-0.019925</td>\n      <td>-0.041046</td>\n    </tr>\n    <tr>\n      <th>positiva_droga</th>\n      <td>-0.019005</td>\n      <td>-0.022130</td>\n      <td>0.011326</td>\n      <td>0.005784</td>\n      <td>-0.008404</td>\n      <td>0.026995</td>\n      <td>0.078286</td>\n      <td>1.000000</td>\n      <td>-0.011536</td>\n      <td>0.003401</td>\n      <td>0.006732</td>\n      <td>0.001865</td>\n      <td>-0.009761</td>\n      <td>0.005886</td>\n    </tr>\n    <tr>\n      <th>bool_laborable</th>\n      <td>0.046999</td>\n      <td>0.084657</td>\n      <td>0.005192</td>\n      <td>-0.016802</td>\n      <td>0.026118</td>\n      <td>-0.045393</td>\n      <td>-0.125057</td>\n      <td>-0.011536</td>\n      <td>1.000000</td>\n      <td>0.088546</td>\n      <td>0.014567</td>\n      <td>0.003115</td>\n      <td>0.101129</td>\n      <td>-0.023943</td>\n    </tr>\n    <tr>\n      <th>marca_de_clase_edad</th>\n      <td>-0.001218</td>\n      <td>0.033446</td>\n      <td>-0.048053</td>\n      <td>-0.057728</td>\n      <td>0.019115</td>\n      <td>-0.030022</td>\n      <td>0.022768</td>\n      <td>0.003401</td>\n      <td>0.088546</td>\n      <td>1.000000</td>\n      <td>-0.002452</td>\n      <td>0.014822</td>\n      <td>0.569932</td>\n      <td>0.044287</td>\n    </tr>\n    <tr>\n      <th>day</th>\n      <td>-0.004525</td>\n      <td>-0.006081</td>\n      <td>-0.006176</td>\n      <td>0.006373</td>\n      <td>-0.004318</td>\n      <td>-0.004805</td>\n      <td>-0.004923</td>\n      <td>0.006732</td>\n      <td>0.014567</td>\n      <td>-0.002452</td>\n      <td>1.000000</td>\n      <td>0.002830</td>\n      <td>-0.006314</td>\n      <td>-0.004231</td>\n    </tr>\n    <tr>\n      <th>month</th>\n      <td>-0.023235</td>\n      <td>0.010897</td>\n      <td>-0.001397</td>\n      <td>0.016426</td>\n      <td>0.011493</td>\n      <td>0.003700</td>\n      <td>0.006093</td>\n      <td>0.001865</td>\n      <td>0.003115</td>\n      <td>0.014822</td>\n      <td>0.002830</td>\n      <td>1.000000</td>\n      <td>0.013729</td>\n      <td>-0.003656</td>\n    </tr>\n    <tr>\n      <th>media_edad_pasajeros</th>\n      <td>0.113949</td>\n      <td>0.026120</td>\n      <td>-0.049746</td>\n      <td>-0.033356</td>\n      <td>0.022750</td>\n      <td>0.003871</td>\n      <td>-0.019925</td>\n      <td>-0.009761</td>\n      <td>0.101129</td>\n      <td>0.569932</td>\n      <td>-0.006314</td>\n      <td>0.013729</td>\n      <td>1.000000</td>\n      <td>0.041113</td>\n    </tr>\n    <tr>\n      <th>numero_pasajeros</th>\n      <td>0.649117</td>\n      <td>0.055869</td>\n      <td>0.006889</td>\n      <td>-0.050278</td>\n      <td>-0.093354</td>\n      <td>-0.019840</td>\n      <td>-0.041046</td>\n      <td>0.005886</td>\n      <td>-0.023943</td>\n      <td>0.044287</td>\n      <td>-0.004231</td>\n      <td>-0.003656</td>\n      <td>0.041113</td>\n      <td>1.000000</td>\n    </tr>\n  </tbody>\n</table>\n</div>"
     },
     "execution_count": 257,
     "metadata": {},
     "output_type": "execute_result"
    }
   ],
   "source": [
    "training_set.corr()"
   ],
   "metadata": {
    "collapsed": false,
    "ExecuteTime": {
     "end_time": "2023-10-26T16:27:37.181930719Z",
     "start_time": "2023-10-26T16:27:37.093773897Z"
    }
   },
   "id": "6a5dc5f6d3acf0b2"
  },
  {
   "cell_type": "markdown",
   "source": [
    "# Modelo clasificatorio multiclass\n",
    "Para diseñar el modelo seguiremos esta pauta\n",
    "1. Comenzar Simple:\n",
    "        Inicializar una red neuronal con una capa oculta.\n",
    "        Definir una capa de entrada con 14 neuronas (para las 14 entradas) y una capa de salida con 9 neuronas.\n",
    "        Consideramos que el problema es de clasificación (9 neuronas) y no de regresión (1 neurona) ya que como se ve en la tabla anterior, marca de clase edad no sugiere ninguna correlación estadísticamente significante con ninguna otra variable\n",
    "2. Evaluar el Rendimiento:\n",
    "        Dividir los datos en conjuntos de entrenamiento y validación o prueba.\n",
    "        Entrenar la red neuronal con la estructura inicial en el conjunto de entrenamiento.\n",
    "        Evaluar el rendimiento de la red en el conjunto de validación utilizando métricas como precisión, recall y F1-score.\n",
    "\n",
    "3. Evitar el Sobreajuste:\n",
    "        Observar si hay signos de sobreajuste (diferencia significativa entre el rendimiento en entrenamiento y validación).\n",
    "        Considerar la adición de técnicas de regularización, como dropout o regularización L2, para evitar el sobreajuste.\n",
    "\n",
    "4. Incrementar la Complejidad Gradualmente:\n",
    "        Si la estructura inicial no proporciona un rendimiento satisfactorio, aumentar la complejidad de la red agregando capas ocultas.\n",
    "        Experimentar con diferentes cantidades de neuronas en cada capa.\n",
    "\n",
    "5. Experimentar con Hiperparámetros:\n",
    "        Utilizar búsqueda en cuadrícula o búsqueda aleatoria para explorar diferentes hiperparámetros, incluyendo el número de capas y neuronas.\n",
    "        Realizar experimentos con diversas configuraciones y registrar el rendimiento.\n",
    "\n",
    "6. Validación Cruzada:\n",
    "        Realizar validación cruzada para obtener una estimación más precisa del rendimiento del modelo en diferentes divisiones de datos.\n",
    "\n",
    "7. Considerar el Conocimiento del Dominio:\n",
    "        Tomar en cuenta cualquier conocimiento específico del dominio que pueda influir en la elección de la arquitectura de la red.\n"
   ],
   "metadata": {
    "collapsed": false
   },
   "id": "14c1130d395325df"
  },
  {
   "cell_type": "markdown",
   "source": [
    "## Preparaciones iniciales\n",
    "Se ha elegido para esta implementación, un modelo completamente conectado, donde la información de cada neurona se transmite a la siguiente.\n",
    "Tal que para las entradas x1 ... xn tendríamos el siguiente modelo: (se cuentan las capadas desde la entrada 1 hasta la salida 3).\n",
    "La función error será MSE\n",
    "\n",
    "### Capa 1\n",
    "Para la neurona f1 ... fn:\n",
    "f1 = w10 * x0 + w11 * x1 + ... + w1n * xn\n",
    "fn = w'10 * x0 + w11 * x1 + ... + w1n * xn\n",
    "\n",
    "El valor de la neurona es sigmoid(fn), donde sigmoid es logistic function\n",
    "S(x) = e ^ x / (e ^ x + 1)\n",
    "\n",
    "### Capa 2\n",
    "Para la neurona g1 ... gn\n",
    "g1 = w10 * f0 + w11 * f1 + ... + w1n * fn\n",
    "gn = w'10 * f0 + w11 * f1 + ... + w1n * fn\n",
    "\n",
    "El valor de la neurona es sigmoid(fn), donde sigmoid es logistic function\n",
    "S(x) = e^x / (e^x+1)\n",
    "\n",
    "### Capa 3\n",
    "Para la neurona h1 ... hn\n",
    "etc \n",
    "h1 = w10 * x0 + w11 * g1 + ... + w1n * gn"
   ],
   "metadata": {
    "collapsed": false
   },
   "id": "7caa1ae031ff5f9a"
  },
  {
   "cell_type": "markdown",
   "source": [
    "## Expresión matricial\n",
    "Para que sea fácil trabajar con tantos pesos, implementaremos todas las operaciones de forma matricial."
   ],
   "metadata": {
    "collapsed": false
   },
   "id": "862e532cfef40062"
  },
  {
   "cell_type": "markdown",
   "source": [
    "### Matriz de pesos\n",
    "\n",
    "Denotamos la matriz de los pesos de todas las neuronas de una capa como \\( W \\), en nuestro caso, una matriz. El input se denota \\( X \\), en nuestro caso, un vector. El resultado de la computación de una capa es \\( Z \\).\n",
    "\n",
    "Por ejemplo, para la capa 1 tenemos:\n",
    "\\[ Z = W \\times X \\]\n",
    "\n",
    "Donde\n",
    "\n",
    "\\( X = \\begin{bmatrix} x_1 \\\\ x_2 \\\\ \\vdots \\\\ x_n \\end{bmatrix} \\) y \\( W = \\begin{bmatrix} w_{11} & w_{12} & \\cdots & w_{1n} \\\\ w_{21} & w_{22} & \\cdots & w_{2n} \\\\ \\vdots & \\vdots & \\ddots & \\vdots \\\\ w_{n1} & w_{n2} & \\cdots & w_{nn} \\end{bmatrix} \\)\n",
    "\n",
    "Si hacemos el producto matricial \\( W * X^T \\) (trasponiendo \\( X \\)), obtenemos una matriz de dimensiones \\( n_neuronas * n_entradas = Z \\).\n",
    "\n",
    "\\[ Z \\] es de dimensión \\( n * 1 \\), y representa la entrada para la siguiente capa.\n"
   ],
   "metadata": {
    "collapsed": false
   },
   "id": "b5a7e108472125d1"
  },
  {
   "cell_type": "markdown",
   "source": [
    "### Vector sesgo\n",
    "El vector de los pesos del sesgo se inicializan a 0"
   ],
   "metadata": {
    "collapsed": false
   },
   "id": "d15fe53e2c62cc76"
  },
  {
   "cell_type": "markdown",
   "source": [
    "## Funciones de apoyo\n",
    "Se desarrollan las funciones auxiliares para computar los pesos y la salida de cada neurona.\n",
    "La derivada de la función logística es derv_logistic_function(x)\n",
    "\n",
    "La función softmax se utiliza para computar el valor más probable en la salida.\n",
    "La función softmax se define como:\n",
    "\n",
    "\\[ \\sigma(z)_i = \\frac{e^{z_i}}{\\sum_{j=1}^{K} e^{z_j}} \\]\n",
    "\n",
    "Donde:\n",
    "- \\( \\sigma(z)_i \\) es la componente i-ésima de la salida de la función softmax.\n",
    "- \\( z \\) es el vector de puntuaciones (logits) de entrada.\n",
    "- \\( K \\) es el número de clases (la longitud del vector de puntuaciones)."
   ],
   "metadata": {
    "collapsed": false
   },
   "id": "fe7c4e47334d471"
  },
  {
   "cell_type": "code",
   "execution_count": 287,
   "outputs": [],
   "source": [
    "def logistic_function(x):\n",
    "    return 1 / (1 + np.exp(-x))\n",
    "\n",
    "\n",
    "def derv_logistic_function(x):\n",
    "    return logistic_function(x) * (1 - logistic_function(x))\n",
    "\n",
    "\n",
    "def compute_output(w: list, x: list) -> float:\n",
    "    return logistic_function(np.dot(w, x))\n",
    "\n",
    "\n",
    "def softmax(x):\n",
    "    \"\"\"\n",
    "    Calcula la función softmax para un conjunto de datos. La suma de todos los valores de la salida es 1.\n",
    "    \n",
    "    Argumentos:\n",
    "    - x (ndarray): Vector de salida\n",
    "    \n",
    "    Devuelve:\n",
    "    - ndarray: Un arreglo con las mismas dimensiones de 'x', con las puntuaciones transformadas \n",
    "               en probabilidades mediante la función softmax.\n",
    "    \"\"\"\n",
    "    exp_x = np.exp(x)\n",
    "    # Se usa axis=-1 es que permite que la función np.sum opere a lo largo del último eje de la matriz exp_x, independientemente de la cantidad de ejes que tenga\n",
    "    return exp_x / np.sum(exp_x, axis=-1, keepdims=True)"
   ],
   "metadata": {
    "collapsed": false,
    "ExecuteTime": {
     "end_time": "2023-10-26T17:18:35.706615530Z",
     "start_time": "2023-10-26T17:18:35.663664557Z"
    }
   },
   "id": "db2ff1ca4379b7ba"
  },
  {
   "cell_type": "markdown",
   "source": [
    "### Inicialización de pesos, glorot uniform [Xavier Glorot y Yoshua Bengio 2010].\n",
    "\n",
    "Esta inicialización se basa en la idea de que los gradientes y las activaciones deben tener varianzas similares en todas las capas, lo que ayuda a tener una propagación más eficiente de los gradientes durante el entrenamiento.\n",
    "\n",
    "W = random(−6/(n_in + n_out), 6/(n_in + n_out))\n",
    "\n",
    "Donde:\n",
    "\n",
    "- **W**: Son los pesos a inicializar.\n",
    "- **n_in**: es el número de neuronas en la capa anterior (número de entradas de la neurona actual).\n",
    "- **n_out**: es el número de neuronas en la capa actual (o en la siguiente capa).\n",
    "\n",
    "Elegimos esta función de inicialización porque es la recomendada para utilizarse con la función logística y evitar la saturación o desvanecimiento del gradiente\n"
   ],
   "metadata": {
    "collapsed": false
   },
   "id": "df84a914ca8de189"
  },
  {
   "cell_type": "code",
   "execution_count": 259,
   "outputs": [],
   "source": [
    "from numpy import ndarray\n",
    "\n",
    "\n",
    "def glorot_uniform(shape: tuple) -> ndarray:\n",
    "    \"\"\"\n",
    "    Realiza la inicialización Glorot Uniform.\n",
    "    \n",
    "    Argumentos:\n",
    "    - shape (tuple): Forma de la matriz de pesos a inicializar, generalmente (n_{in}, n_{out})\n",
    "    \n",
    "    Devuelve:\n",
    "    - ndarray: Matriz de pesos inicializada de n dimensiones\n",
    "    \"\"\"\n",
    "    n_in, n_out = shape\n",
    "    limit = np.sqrt(6 / (n_in + n_out))\n",
    "\n",
    "    return np.random.uniform(-limit, limit, shape)"
   ],
   "metadata": {
    "collapsed": false,
    "ExecuteTime": {
     "end_time": "2023-10-26T16:27:37.250062275Z",
     "start_time": "2023-10-26T16:27:37.185889860Z"
    }
   },
   "id": "7c694d512fa09002"
  },
  {
   "cell_type": "markdown",
   "source": [
    "### La función error\n",
    "La función error elegida será la entropía cruzada categórica, ya que se diseñó específicamente para este uso.\n",
    "* Incorpora incertidumbre: Penaliza predicciones inconsistentes con etiquetas reales, considerando la incertidumbre.\n",
    "* Gradientes suaves y bien definidos: Facilita la optimización del modelo durante el entrenamiento.\n",
    "* Función logarítmica: Utiliza logaritmos para penalizar eficazmente predicciones erróneas con mayor certeza."
   ],
   "metadata": {
    "collapsed": false
   },
   "id": "3f038890b7f574e5"
  },
  {
   "cell_type": "code",
   "execution_count": 260,
   "outputs": [],
   "source": [
    "def categorical_cross_entropy(y_true, y_pred):\n",
    "    # Clip predicciones para evitar log(0)\n",
    "    y_pred = np.clip(y_pred, 1e-15, 1 - 1e-15)\n",
    "    # Calcular la entropía cruzada\n",
    "    loss = -np.sum(y_true * np.log(y_pred))\n",
    "    return loss"
   ],
   "metadata": {
    "collapsed": false,
    "ExecuteTime": {
     "end_time": "2023-10-26T16:27:37.250133538Z",
     "start_time": "2023-10-26T16:27:37.185947894Z"
    }
   },
   "id": "6b1ab304a784a347"
  },
  {
   "cell_type": "markdown",
   "source": [
    "El cómputo de las etiquetas de salida se realiza sobre las marcas de edad"
   ],
   "metadata": {
    "collapsed": false
   },
   "id": "452f2cbdec09c5d8"
  },
  {
   "cell_type": "code",
   "execution_count": 284,
   "outputs": [
    {
     "data": {
      "text/plain": "array([32. , 47. , 42. , -1. , 52. , 27. , 22.5, 16. , 37. , 72. , 62. ,\n       57. , 19. , 67. , 12. ,  7.5])"
     },
     "execution_count": 284,
     "metadata": {},
     "output_type": "execute_result"
    }
   ],
   "source": [
    "df_2022_normalized['marca_de_clase_edad'].unique()"
   ],
   "metadata": {
    "collapsed": false,
    "ExecuteTime": {
     "end_time": "2023-10-26T16:56:13.895710042Z",
     "start_time": "2023-10-26T16:56:13.840826002Z"
    }
   },
   "id": "351fa9fbb47e5388"
  },
  {
   "cell_type": "code",
   "execution_count": 286,
   "outputs": [],
   "source": [
    "# La edad corresponde a [7.5, 12, 16, 19, 22.5, 27, 32, 37, 42, 47, 52, 57, 62, 67, 72]\n",
    "# Si la edad es 16 ->   [0, 0, 1, 0 etc]\n",
    "def compute_true(y_true_edad: float) -> list:\n",
    "    reference = [7.5, 12, 16, 19, 22.5, 27, 32, 37, 42, 47, 52, 57, 62, 67, 72]\n",
    "    output_vector = np.zeros(len(reference))\n",
    "    mask = reference == y_true_edad\n",
    "    output_vector[mask] = 1\n",
    "    \n",
    "    return output_vector"
   ],
   "metadata": {
    "collapsed": false,
    "ExecuteTime": {
     "end_time": "2023-10-26T16:56:19.780983645Z",
     "start_time": "2023-10-26T16:56:19.742592962Z"
    }
   },
   "id": "db26d889e04f47e6"
  },
  {
   "cell_type": "markdown",
   "source": [
    "### Retropropagación\n",
    "Ahora definiremos la función de retropropagación para actualizar los pesos minimizando la función de error elegida.\n"
   ],
   "metadata": {
    "collapsed": false
   },
   "id": "c836ee324a26c3c8"
  },
  {
   "cell_type": "markdown",
   "source": [
    "## Inicialización\n",
    "Inicializamos el modelo secuencial, con capas completamente conectadas. Tenemos en la capa inicial con 14 entradas, y queremos una salida de 15 neuronas. El resultado elegido será el que después de aplicar el softmax, dé el mayor valor. Pero para valuación.\n",
    "\n",
    "Tendremos 3 capas en total\n",
    "\n",
    "X -> F -> G -> O\n",
    "\n",
    "X inputs\n",
    "F capa 1\n",
    "G capa 2\n",
    "O outputs"
   ],
   "metadata": {
    "collapsed": false
   },
   "id": "6878bb8f969fac8d"
  },
  {
   "cell_type": "code",
   "execution_count": null,
   "outputs": [],
   "source": [
    "first_layer_w = glorot_uniform((14, 14))\n",
    "second_layer_w = glorot_uniform((14,14))\n",
    "output_layer_w = glorot_uniform((14, 15))\n",
    "\n",
    "first_layer_bias = np.zeros((14,))\n",
    "second_layer_bias = np.zeros((14,))\n",
    "output_layer_bias = np.zeros((15,))"
   ],
   "metadata": {
    "collapsed": false
   },
   "id": "c9c71b241d9d0fae"
  },
  {
   "cell_type": "code",
   "execution_count": 210,
   "outputs": [
    {
     "data": {
      "text/plain": "       num_implicados  minutes_from_midnight  cod_distrito  tipo_accidente  \\\n0           -0.002662              -2.239487      0.552759       -1.078154   \n1           -0.002662              -2.239487      0.552759       -1.078154   \n2           -0.002662              -2.413881     -1.207473       -0.640552   \n3           -0.002662              -2.413881     -1.207473       -0.640552   \n4           -1.572507              -2.181356     -1.559519       -0.202949   \n...               ...                    ...           ...             ...   \n60147       -0.002662               1.568107      1.080829        2.422666   \n60148       -0.002662               1.422779      0.376736       -1.078154   \n60149       -0.002662               1.422779      0.376736       -1.078154   \n60150       -1.572507               0.056696     -0.855426        1.109858   \n60151       -1.572507               1.364648     -0.327357        0.234653   \n\n       tipo_vehiculo  sexo  positiva_alcohol  positiva_droga  bool_laborable  \\\n0          -0.458778     0                 0             0.0               0   \n1          -0.458778     1                 0             0.0               0   \n2          -0.193479     1                 1             0.0               0   \n3          -0.458778     1                 0             0.0               0   \n4           0.071820     1                 0             0.0               0   \n...              ...   ...               ...             ...             ...   \n60147      -0.458778     0                 0             0.0               1   \n60148      -0.193479     1                 0             0.0               1   \n60149      -0.458778     1                 0             0.0               1   \n60150      -0.193479     1                 0             0.0               1   \n60151      -0.458778     1                 0             0.0               1   \n\n       marca_de_clase_edad       day     month  media_edad_pasajeros  \\\n0                -0.727785 -1.674463 -1.447034             -0.019074   \n1                 0.416210 -1.674463 -1.447034             -0.019074   \n2                -0.727785 -1.674463 -1.447034             -0.222083   \n3                 0.034878 -1.674463 -1.447034             -0.222083   \n4              -100.000000 -1.674463 -1.447034             -1.683752   \n...                    ...       ...       ...                   ...   \n60147          -100.000000  1.740373  0.712848              0.183936   \n60148            -0.727785  1.740373  0.712848             -0.425093   \n60149            -0.346453  1.740373  0.712848             -0.425093   \n60150             0.034878  1.740373  0.712848              0.183936   \n60151            -0.346453 -1.560635  0.712848             -0.222083   \n\n       numero_pasajeros  \n0             -0.401243  \n1             -0.401243  \n2              0.497628  \n3              0.497628  \n4             -0.401243  \n...                 ...  \n60147          0.497628  \n60148         -0.401243  \n60149         -0.401243  \n60150         -1.300115  \n60151         -1.300115  \n\n[60152 rows x 14 columns]",
      "text/html": "<div>\n<style scoped>\n    .dataframe tbody tr th:only-of-type {\n        vertical-align: middle;\n    }\n\n    .dataframe tbody tr th {\n        vertical-align: top;\n    }\n\n    .dataframe thead th {\n        text-align: right;\n    }\n</style>\n<table border=\"1\" class=\"dataframe\">\n  <thead>\n    <tr style=\"text-align: right;\">\n      <th></th>\n      <th>num_implicados</th>\n      <th>minutes_from_midnight</th>\n      <th>cod_distrito</th>\n      <th>tipo_accidente</th>\n      <th>tipo_vehiculo</th>\n      <th>sexo</th>\n      <th>positiva_alcohol</th>\n      <th>positiva_droga</th>\n      <th>bool_laborable</th>\n      <th>marca_de_clase_edad</th>\n      <th>day</th>\n      <th>month</th>\n      <th>media_edad_pasajeros</th>\n      <th>numero_pasajeros</th>\n    </tr>\n  </thead>\n  <tbody>\n    <tr>\n      <th>0</th>\n      <td>-0.002662</td>\n      <td>-2.239487</td>\n      <td>0.552759</td>\n      <td>-1.078154</td>\n      <td>-0.458778</td>\n      <td>0</td>\n      <td>0</td>\n      <td>0.0</td>\n      <td>0</td>\n      <td>-0.727785</td>\n      <td>-1.674463</td>\n      <td>-1.447034</td>\n      <td>-0.019074</td>\n      <td>-0.401243</td>\n    </tr>\n    <tr>\n      <th>1</th>\n      <td>-0.002662</td>\n      <td>-2.239487</td>\n      <td>0.552759</td>\n      <td>-1.078154</td>\n      <td>-0.458778</td>\n      <td>1</td>\n      <td>0</td>\n      <td>0.0</td>\n      <td>0</td>\n      <td>0.416210</td>\n      <td>-1.674463</td>\n      <td>-1.447034</td>\n      <td>-0.019074</td>\n      <td>-0.401243</td>\n    </tr>\n    <tr>\n      <th>2</th>\n      <td>-0.002662</td>\n      <td>-2.413881</td>\n      <td>-1.207473</td>\n      <td>-0.640552</td>\n      <td>-0.193479</td>\n      <td>1</td>\n      <td>1</td>\n      <td>0.0</td>\n      <td>0</td>\n      <td>-0.727785</td>\n      <td>-1.674463</td>\n      <td>-1.447034</td>\n      <td>-0.222083</td>\n      <td>0.497628</td>\n    </tr>\n    <tr>\n      <th>3</th>\n      <td>-0.002662</td>\n      <td>-2.413881</td>\n      <td>-1.207473</td>\n      <td>-0.640552</td>\n      <td>-0.458778</td>\n      <td>1</td>\n      <td>0</td>\n      <td>0.0</td>\n      <td>0</td>\n      <td>0.034878</td>\n      <td>-1.674463</td>\n      <td>-1.447034</td>\n      <td>-0.222083</td>\n      <td>0.497628</td>\n    </tr>\n    <tr>\n      <th>4</th>\n      <td>-1.572507</td>\n      <td>-2.181356</td>\n      <td>-1.559519</td>\n      <td>-0.202949</td>\n      <td>0.071820</td>\n      <td>1</td>\n      <td>0</td>\n      <td>0.0</td>\n      <td>0</td>\n      <td>-100.000000</td>\n      <td>-1.674463</td>\n      <td>-1.447034</td>\n      <td>-1.683752</td>\n      <td>-0.401243</td>\n    </tr>\n    <tr>\n      <th>...</th>\n      <td>...</td>\n      <td>...</td>\n      <td>...</td>\n      <td>...</td>\n      <td>...</td>\n      <td>...</td>\n      <td>...</td>\n      <td>...</td>\n      <td>...</td>\n      <td>...</td>\n      <td>...</td>\n      <td>...</td>\n      <td>...</td>\n      <td>...</td>\n    </tr>\n    <tr>\n      <th>60147</th>\n      <td>-0.002662</td>\n      <td>1.568107</td>\n      <td>1.080829</td>\n      <td>2.422666</td>\n      <td>-0.458778</td>\n      <td>0</td>\n      <td>0</td>\n      <td>0.0</td>\n      <td>1</td>\n      <td>-100.000000</td>\n      <td>1.740373</td>\n      <td>0.712848</td>\n      <td>0.183936</td>\n      <td>0.497628</td>\n    </tr>\n    <tr>\n      <th>60148</th>\n      <td>-0.002662</td>\n      <td>1.422779</td>\n      <td>0.376736</td>\n      <td>-1.078154</td>\n      <td>-0.193479</td>\n      <td>1</td>\n      <td>0</td>\n      <td>0.0</td>\n      <td>1</td>\n      <td>-0.727785</td>\n      <td>1.740373</td>\n      <td>0.712848</td>\n      <td>-0.425093</td>\n      <td>-0.401243</td>\n    </tr>\n    <tr>\n      <th>60149</th>\n      <td>-0.002662</td>\n      <td>1.422779</td>\n      <td>0.376736</td>\n      <td>-1.078154</td>\n      <td>-0.458778</td>\n      <td>1</td>\n      <td>0</td>\n      <td>0.0</td>\n      <td>1</td>\n      <td>-0.346453</td>\n      <td>1.740373</td>\n      <td>0.712848</td>\n      <td>-0.425093</td>\n      <td>-0.401243</td>\n    </tr>\n    <tr>\n      <th>60150</th>\n      <td>-1.572507</td>\n      <td>0.056696</td>\n      <td>-0.855426</td>\n      <td>1.109858</td>\n      <td>-0.193479</td>\n      <td>1</td>\n      <td>0</td>\n      <td>0.0</td>\n      <td>1</td>\n      <td>0.034878</td>\n      <td>1.740373</td>\n      <td>0.712848</td>\n      <td>0.183936</td>\n      <td>-1.300115</td>\n    </tr>\n    <tr>\n      <th>60151</th>\n      <td>-1.572507</td>\n      <td>1.364648</td>\n      <td>-0.327357</td>\n      <td>0.234653</td>\n      <td>-0.458778</td>\n      <td>1</td>\n      <td>0</td>\n      <td>0.0</td>\n      <td>1</td>\n      <td>-0.346453</td>\n      <td>-1.560635</td>\n      <td>0.712848</td>\n      <td>-0.222083</td>\n      <td>-1.300115</td>\n    </tr>\n  </tbody>\n</table>\n<p>60152 rows × 14 columns</p>\n</div>"
     },
     "execution_count": 210,
     "metadata": {},
     "output_type": "execute_result"
    }
   ],
   "source": [
    "df_2022_normalized"
   ],
   "metadata": {
    "collapsed": false,
    "ExecuteTime": {
     "end_time": "2023-10-26T15:57:57.382644429Z",
     "start_time": "2023-10-26T15:57:57.320251943Z"
    }
   },
   "id": "84046db98d26c29a"
  }
 ],
 "metadata": {
  "kernelspec": {
   "display_name": "Python 3",
   "language": "python",
   "name": "python3"
  },
  "language_info": {
   "codemirror_mode": {
    "name": "ipython",
    "version": 2
   },
   "file_extension": ".py",
   "mimetype": "text/x-python",
   "name": "python",
   "nbconvert_exporter": "python",
   "pygments_lexer": "ipython2",
   "version": "2.7.6"
  }
 },
 "nbformat": 4,
 "nbformat_minor": 5
}
