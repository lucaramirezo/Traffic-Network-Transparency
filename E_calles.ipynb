{
 "cells": [
  {
   "cell_type": "code",
   "execution_count": 9,
   "id": "initial_id",
   "metadata": {
    "collapsed": true,
    "ExecuteTime": {
     "end_time": "2024-01-11T15:32:48.031556272Z",
     "start_time": "2024-01-11T15:32:47.982536059Z"
    }
   },
   "outputs": [],
   "source": [
    "import pandas as pd\n",
    "import numpy as np\n",
    "import re"
   ]
  },
  {
   "cell_type": "code",
   "outputs": [
    {
     "name": "stderr",
     "output_type": "stream",
     "text": [
      "/tmp/ipykernel_11842/2478976544.py:1: DtypeWarning: Columns (15,16) have mixed types. Specify dtype option on import or set low_memory=False.\n",
      "  df = pd.read_csv('./Datasets/Data_Combinada.csv')\n"
     ]
    }
   ],
   "source": [
    "df = pd.read_csv('./Datasets/Data_Combinada.csv')"
   ],
   "metadata": {
    "collapsed": false,
    "ExecuteTime": {
     "end_time": "2024-01-11T15:28:36.584363821Z",
     "start_time": "2024-01-11T15:28:36.261092492Z"
    }
   },
   "id": "a1e57b8c67dd31cb",
   "execution_count": 2
  },
  {
   "cell_type": "code",
   "outputs": [
    {
     "data": {
      "text/plain": "  num_expediente       fecha     hora  \\\n0    2022S000001  01/01/2022  1:30:00   \n1    2022S000001  01/01/2022  1:30:00   \n2    2022S000002  01/01/2022  0:30:00   \n3    2022S000002  01/01/2022  0:30:00   \n4    2022S000002  01/01/2022  0:30:00   \n\n                                 localizacion numero  cod_distrito  \\\n0                          AVDA. ALBUFERA, 19     19          13.0   \n1                          AVDA. ALBUFERA, 19     19          13.0   \n2  PLAZA. CANOVAS DEL CASTILLO / PASEO. PRADO      2           3.0   \n3  PLAZA. CANOVAS DEL CASTILLO / PASEO. PRADO      2           3.0   \n4  PLAZA. CANOVAS DEL CASTILLO / PASEO. PRADO      2           3.0   \n\n             distrito           tipo_accidente estado_meteorológico  \\\n0  PUENTE DE VALLECAS                  Alcance            Despejado   \n1  PUENTE DE VALLECAS                  Alcance            Despejado   \n2              RETIRO  Colisión fronto-lateral                  NaN   \n3              RETIRO  Colisión fronto-lateral                  NaN   \n4              RETIRO  Colisión fronto-lateral                  NaN   \n\n             tipo_vehiculo  ...       rango_edad sexo cod_lesividad  \\\n0                  Turismo  ...  De 30 a 34 años    M           NaN   \n1                  Turismo  ...  De 45 a 49 años    H           NaN   \n2  Motocicleta hasta 125cc  ...  De 30 a 34 años    H           NaN   \n3  Motocicleta hasta 125cc  ...  De 35 a 39 años    M           NaN   \n4                  Turismo  ...  De 40 a 44 años    H           NaN   \n\n   lesividad coordenada_x_utm coordenada_y_utm positiva_alcohol  \\\n0        NaN       443359,226      4472082,272              0.0   \n1        NaN       443359,226      4472082,272              0.0   \n2        NaN       441155,351      4474129,588              1.0   \n3        NaN       441155,351      4474129,588              0.0   \n4        NaN       441155,351      4474129,588              0.0   \n\n   positiva_droga  numero_pasajeros  fugado  \n0             0.0                 2      No  \n1             0.0                 2      No  \n2             0.0                 3      No  \n3             0.0                 3      No  \n4             0.0                 3      No  \n\n[5 rows x 21 columns]",
      "text/html": "<div>\n<style scoped>\n    .dataframe tbody tr th:only-of-type {\n        vertical-align: middle;\n    }\n\n    .dataframe tbody tr th {\n        vertical-align: top;\n    }\n\n    .dataframe thead th {\n        text-align: right;\n    }\n</style>\n<table border=\"1\" class=\"dataframe\">\n  <thead>\n    <tr style=\"text-align: right;\">\n      <th></th>\n      <th>num_expediente</th>\n      <th>fecha</th>\n      <th>hora</th>\n      <th>localizacion</th>\n      <th>numero</th>\n      <th>cod_distrito</th>\n      <th>distrito</th>\n      <th>tipo_accidente</th>\n      <th>estado_meteorológico</th>\n      <th>tipo_vehiculo</th>\n      <th>...</th>\n      <th>rango_edad</th>\n      <th>sexo</th>\n      <th>cod_lesividad</th>\n      <th>lesividad</th>\n      <th>coordenada_x_utm</th>\n      <th>coordenada_y_utm</th>\n      <th>positiva_alcohol</th>\n      <th>positiva_droga</th>\n      <th>numero_pasajeros</th>\n      <th>fugado</th>\n    </tr>\n  </thead>\n  <tbody>\n    <tr>\n      <th>0</th>\n      <td>2022S000001</td>\n      <td>01/01/2022</td>\n      <td>1:30:00</td>\n      <td>AVDA. ALBUFERA, 19</td>\n      <td>19</td>\n      <td>13.0</td>\n      <td>PUENTE DE VALLECAS</td>\n      <td>Alcance</td>\n      <td>Despejado</td>\n      <td>Turismo</td>\n      <td>...</td>\n      <td>De 30 a 34 años</td>\n      <td>M</td>\n      <td>NaN</td>\n      <td>NaN</td>\n      <td>443359,226</td>\n      <td>4472082,272</td>\n      <td>0.0</td>\n      <td>0.0</td>\n      <td>2</td>\n      <td>No</td>\n    </tr>\n    <tr>\n      <th>1</th>\n      <td>2022S000001</td>\n      <td>01/01/2022</td>\n      <td>1:30:00</td>\n      <td>AVDA. ALBUFERA, 19</td>\n      <td>19</td>\n      <td>13.0</td>\n      <td>PUENTE DE VALLECAS</td>\n      <td>Alcance</td>\n      <td>Despejado</td>\n      <td>Turismo</td>\n      <td>...</td>\n      <td>De 45 a 49 años</td>\n      <td>H</td>\n      <td>NaN</td>\n      <td>NaN</td>\n      <td>443359,226</td>\n      <td>4472082,272</td>\n      <td>0.0</td>\n      <td>0.0</td>\n      <td>2</td>\n      <td>No</td>\n    </tr>\n    <tr>\n      <th>2</th>\n      <td>2022S000002</td>\n      <td>01/01/2022</td>\n      <td>0:30:00</td>\n      <td>PLAZA. CANOVAS DEL CASTILLO / PASEO. PRADO</td>\n      <td>2</td>\n      <td>3.0</td>\n      <td>RETIRO</td>\n      <td>Colisión fronto-lateral</td>\n      <td>NaN</td>\n      <td>Motocicleta hasta 125cc</td>\n      <td>...</td>\n      <td>De 30 a 34 años</td>\n      <td>H</td>\n      <td>NaN</td>\n      <td>NaN</td>\n      <td>441155,351</td>\n      <td>4474129,588</td>\n      <td>1.0</td>\n      <td>0.0</td>\n      <td>3</td>\n      <td>No</td>\n    </tr>\n    <tr>\n      <th>3</th>\n      <td>2022S000002</td>\n      <td>01/01/2022</td>\n      <td>0:30:00</td>\n      <td>PLAZA. CANOVAS DEL CASTILLO / PASEO. PRADO</td>\n      <td>2</td>\n      <td>3.0</td>\n      <td>RETIRO</td>\n      <td>Colisión fronto-lateral</td>\n      <td>NaN</td>\n      <td>Motocicleta hasta 125cc</td>\n      <td>...</td>\n      <td>De 35 a 39 años</td>\n      <td>M</td>\n      <td>NaN</td>\n      <td>NaN</td>\n      <td>441155,351</td>\n      <td>4474129,588</td>\n      <td>0.0</td>\n      <td>0.0</td>\n      <td>3</td>\n      <td>No</td>\n    </tr>\n    <tr>\n      <th>4</th>\n      <td>2022S000002</td>\n      <td>01/01/2022</td>\n      <td>0:30:00</td>\n      <td>PLAZA. CANOVAS DEL CASTILLO / PASEO. PRADO</td>\n      <td>2</td>\n      <td>3.0</td>\n      <td>RETIRO</td>\n      <td>Colisión fronto-lateral</td>\n      <td>NaN</td>\n      <td>Turismo</td>\n      <td>...</td>\n      <td>De 40 a 44 años</td>\n      <td>H</td>\n      <td>NaN</td>\n      <td>NaN</td>\n      <td>441155,351</td>\n      <td>4474129,588</td>\n      <td>0.0</td>\n      <td>0.0</td>\n      <td>3</td>\n      <td>No</td>\n    </tr>\n  </tbody>\n</table>\n<p>5 rows × 21 columns</p>\n</div>"
     },
     "execution_count": 6,
     "metadata": {},
     "output_type": "execute_result"
    }
   ],
   "source": [
    "df.head()"
   ],
   "metadata": {
    "collapsed": false,
    "ExecuteTime": {
     "end_time": "2024-01-11T15:29:55.016432658Z",
     "start_time": "2024-01-11T15:29:55.001076699Z"
    }
   },
   "id": "2d9c1c8c2f0d7eba",
   "execution_count": 6
  },
  {
   "cell_type": "code",
   "outputs": [
    {
     "data": {
      "text/plain": "   num_expediente       fecha     hora         localizacion numero  \\\n0     2022S000001  01/01/2022  1:30:00   AVDA. ALBUFERA, 19     19   \n1     2022S000001  01/01/2022  1:30:00   AVDA. ALBUFERA, 19     19   \n30    2022S000015  01/01/2022  7:25:00  AVDA. ENTREVIAS, 94     94   \n31    2022S000015  01/01/2022  7:25:00  AVDA. ENTREVIAS, 94     94   \n32    2022S000015  01/01/2022  7:25:00  AVDA. ENTREVIAS, 94     94   \n\n    cod_distrito            distrito tipo_accidente estado_meteorológico  \\\n0           13.0  PUENTE DE VALLECAS        Alcance            Despejado   \n1           13.0  PUENTE DE VALLECAS        Alcance            Despejado   \n30          13.0  PUENTE DE VALLECAS        Alcance            Despejado   \n31          13.0  PUENTE DE VALLECAS        Alcance            Despejado   \n32          13.0  PUENTE DE VALLECAS        Alcance            Despejado   \n\n   tipo_vehiculo  ...       rango_edad sexo cod_lesividad  \\\n0        Turismo  ...  De 30 a 34 años    M           NaN   \n1        Turismo  ...  De 45 a 49 años    H           NaN   \n30       Turismo  ...  De 35 a 39 años    H           7.0   \n31       Turismo  ...  De 40 a 44 años    H          14.0   \n32       Turismo  ...  De 35 a 39 años    H           7.0   \n\n                                            lesividad coordenada_x_utm  \\\n0                                                 NaN       443359,226   \n1                                                 NaN       443359,226   \n30  Asistencia sanitaria sólo en el lugar del acci...       443634,572   \n31                           Sin asistencia sanitaria       443634,572   \n32  Asistencia sanitaria sólo en el lugar del acci...       443634,572   \n\n   coordenada_y_utm positiva_alcohol  positiva_droga  numero_pasajeros  fugado  \n0       4472082,272              0.0             0.0                 2      No  \n1       4472082,272              0.0             0.0                 2      No  \n30      4469942,483              0.0             0.0                 3      No  \n31      4469942,483              1.0             0.0                 3      No  \n32      4469942,483              0.0             0.0                 3      No  \n\n[5 rows x 21 columns]",
      "text/html": "<div>\n<style scoped>\n    .dataframe tbody tr th:only-of-type {\n        vertical-align: middle;\n    }\n\n    .dataframe tbody tr th {\n        vertical-align: top;\n    }\n\n    .dataframe thead th {\n        text-align: right;\n    }\n</style>\n<table border=\"1\" class=\"dataframe\">\n  <thead>\n    <tr style=\"text-align: right;\">\n      <th></th>\n      <th>num_expediente</th>\n      <th>fecha</th>\n      <th>hora</th>\n      <th>localizacion</th>\n      <th>numero</th>\n      <th>cod_distrito</th>\n      <th>distrito</th>\n      <th>tipo_accidente</th>\n      <th>estado_meteorológico</th>\n      <th>tipo_vehiculo</th>\n      <th>...</th>\n      <th>rango_edad</th>\n      <th>sexo</th>\n      <th>cod_lesividad</th>\n      <th>lesividad</th>\n      <th>coordenada_x_utm</th>\n      <th>coordenada_y_utm</th>\n      <th>positiva_alcohol</th>\n      <th>positiva_droga</th>\n      <th>numero_pasajeros</th>\n      <th>fugado</th>\n    </tr>\n  </thead>\n  <tbody>\n    <tr>\n      <th>0</th>\n      <td>2022S000001</td>\n      <td>01/01/2022</td>\n      <td>1:30:00</td>\n      <td>AVDA. ALBUFERA, 19</td>\n      <td>19</td>\n      <td>13.0</td>\n      <td>PUENTE DE VALLECAS</td>\n      <td>Alcance</td>\n      <td>Despejado</td>\n      <td>Turismo</td>\n      <td>...</td>\n      <td>De 30 a 34 años</td>\n      <td>M</td>\n      <td>NaN</td>\n      <td>NaN</td>\n      <td>443359,226</td>\n      <td>4472082,272</td>\n      <td>0.0</td>\n      <td>0.0</td>\n      <td>2</td>\n      <td>No</td>\n    </tr>\n    <tr>\n      <th>1</th>\n      <td>2022S000001</td>\n      <td>01/01/2022</td>\n      <td>1:30:00</td>\n      <td>AVDA. ALBUFERA, 19</td>\n      <td>19</td>\n      <td>13.0</td>\n      <td>PUENTE DE VALLECAS</td>\n      <td>Alcance</td>\n      <td>Despejado</td>\n      <td>Turismo</td>\n      <td>...</td>\n      <td>De 45 a 49 años</td>\n      <td>H</td>\n      <td>NaN</td>\n      <td>NaN</td>\n      <td>443359,226</td>\n      <td>4472082,272</td>\n      <td>0.0</td>\n      <td>0.0</td>\n      <td>2</td>\n      <td>No</td>\n    </tr>\n    <tr>\n      <th>30</th>\n      <td>2022S000015</td>\n      <td>01/01/2022</td>\n      <td>7:25:00</td>\n      <td>AVDA. ENTREVIAS, 94</td>\n      <td>94</td>\n      <td>13.0</td>\n      <td>PUENTE DE VALLECAS</td>\n      <td>Alcance</td>\n      <td>Despejado</td>\n      <td>Turismo</td>\n      <td>...</td>\n      <td>De 35 a 39 años</td>\n      <td>H</td>\n      <td>7.0</td>\n      <td>Asistencia sanitaria sólo en el lugar del acci...</td>\n      <td>443634,572</td>\n      <td>4469942,483</td>\n      <td>0.0</td>\n      <td>0.0</td>\n      <td>3</td>\n      <td>No</td>\n    </tr>\n    <tr>\n      <th>31</th>\n      <td>2022S000015</td>\n      <td>01/01/2022</td>\n      <td>7:25:00</td>\n      <td>AVDA. ENTREVIAS, 94</td>\n      <td>94</td>\n      <td>13.0</td>\n      <td>PUENTE DE VALLECAS</td>\n      <td>Alcance</td>\n      <td>Despejado</td>\n      <td>Turismo</td>\n      <td>...</td>\n      <td>De 40 a 44 años</td>\n      <td>H</td>\n      <td>14.0</td>\n      <td>Sin asistencia sanitaria</td>\n      <td>443634,572</td>\n      <td>4469942,483</td>\n      <td>1.0</td>\n      <td>0.0</td>\n      <td>3</td>\n      <td>No</td>\n    </tr>\n    <tr>\n      <th>32</th>\n      <td>2022S000015</td>\n      <td>01/01/2022</td>\n      <td>7:25:00</td>\n      <td>AVDA. ENTREVIAS, 94</td>\n      <td>94</td>\n      <td>13.0</td>\n      <td>PUENTE DE VALLECAS</td>\n      <td>Alcance</td>\n      <td>Despejado</td>\n      <td>Turismo</td>\n      <td>...</td>\n      <td>De 35 a 39 años</td>\n      <td>H</td>\n      <td>7.0</td>\n      <td>Asistencia sanitaria sólo en el lugar del acci...</td>\n      <td>443634,572</td>\n      <td>4469942,483</td>\n      <td>0.0</td>\n      <td>0.0</td>\n      <td>3</td>\n      <td>No</td>\n    </tr>\n  </tbody>\n</table>\n<p>5 rows × 21 columns</p>\n</div>"
     },
     "execution_count": 19,
     "metadata": {},
     "output_type": "execute_result"
    }
   ],
   "source": [
    "df_vallecas = df[df['distrito'] == \"PUENTE DE VALLECAS\"].copy()\n",
    "df_vallecas.head()"
   ],
   "metadata": {
    "collapsed": false,
    "ExecuteTime": {
     "end_time": "2024-01-11T15:39:07.533643957Z",
     "start_time": "2024-01-11T15:39:07.451939962Z"
    }
   },
   "id": "d3d48e97d94816ef",
   "execution_count": 19
  },
  {
   "cell_type": "code",
   "outputs": [],
   "source": [
    "def strip_num(string):\n",
    "    return re.sub(r'[\\d,]+', '', string)"
   ],
   "metadata": {
    "collapsed": false,
    "ExecuteTime": {
     "end_time": "2024-01-11T15:40:20.704989168Z",
     "start_time": "2024-01-11T15:40:20.696920183Z"
    }
   },
   "id": "8e0041611da7f4a3",
   "execution_count": 22
  },
  {
   "cell_type": "code",
   "outputs": [],
   "source": [
    "df_vallecas['localizacion'] = df_vallecas['localizacion'].apply(strip_num)"
   ],
   "metadata": {
    "collapsed": false,
    "ExecuteTime": {
     "end_time": "2024-01-11T15:40:23.674007426Z",
     "start_time": "2024-01-11T15:40:23.647752249Z"
    }
   },
   "id": "692024249692c93a",
   "execution_count": 23
  },
  {
   "cell_type": "code",
   "outputs": [
    {
     "data": {
      "text/plain": "   num_expediente       fecha     hora      localizacion numero  cod_distrito  \\\n0     2022S000001  01/01/2022  1:30:00   AVDA. ALBUFERA      19          13.0   \n1     2022S000001  01/01/2022  1:30:00   AVDA. ALBUFERA      19          13.0   \n30    2022S000015  01/01/2022  7:25:00  AVDA. ENTREVIAS      94          13.0   \n31    2022S000015  01/01/2022  7:25:00  AVDA. ENTREVIAS      94          13.0   \n32    2022S000015  01/01/2022  7:25:00  AVDA. ENTREVIAS      94          13.0   \n\n              distrito tipo_accidente estado_meteorológico tipo_vehiculo  ...  \\\n0   PUENTE DE VALLECAS        Alcance            Despejado       Turismo  ...   \n1   PUENTE DE VALLECAS        Alcance            Despejado       Turismo  ...   \n30  PUENTE DE VALLECAS        Alcance            Despejado       Turismo  ...   \n31  PUENTE DE VALLECAS        Alcance            Despejado       Turismo  ...   \n32  PUENTE DE VALLECAS        Alcance            Despejado       Turismo  ...   \n\n         rango_edad sexo cod_lesividad  \\\n0   De 30 a 34 años    M           NaN   \n1   De 45 a 49 años    H           NaN   \n30  De 35 a 39 años    H           7.0   \n31  De 40 a 44 años    H          14.0   \n32  De 35 a 39 años    H           7.0   \n\n                                            lesividad coordenada_x_utm  \\\n0                                                 NaN       443359,226   \n1                                                 NaN       443359,226   \n30  Asistencia sanitaria sólo en el lugar del acci...       443634,572   \n31                           Sin asistencia sanitaria       443634,572   \n32  Asistencia sanitaria sólo en el lugar del acci...       443634,572   \n\n   coordenada_y_utm positiva_alcohol  positiva_droga  numero_pasajeros  fugado  \n0       4472082,272              0.0             0.0                 2      No  \n1       4472082,272              0.0             0.0                 2      No  \n30      4469942,483              0.0             0.0                 3      No  \n31      4469942,483              1.0             0.0                 3      No  \n32      4469942,483              0.0             0.0                 3      No  \n\n[5 rows x 21 columns]",
      "text/html": "<div>\n<style scoped>\n    .dataframe tbody tr th:only-of-type {\n        vertical-align: middle;\n    }\n\n    .dataframe tbody tr th {\n        vertical-align: top;\n    }\n\n    .dataframe thead th {\n        text-align: right;\n    }\n</style>\n<table border=\"1\" class=\"dataframe\">\n  <thead>\n    <tr style=\"text-align: right;\">\n      <th></th>\n      <th>num_expediente</th>\n      <th>fecha</th>\n      <th>hora</th>\n      <th>localizacion</th>\n      <th>numero</th>\n      <th>cod_distrito</th>\n      <th>distrito</th>\n      <th>tipo_accidente</th>\n      <th>estado_meteorológico</th>\n      <th>tipo_vehiculo</th>\n      <th>...</th>\n      <th>rango_edad</th>\n      <th>sexo</th>\n      <th>cod_lesividad</th>\n      <th>lesividad</th>\n      <th>coordenada_x_utm</th>\n      <th>coordenada_y_utm</th>\n      <th>positiva_alcohol</th>\n      <th>positiva_droga</th>\n      <th>numero_pasajeros</th>\n      <th>fugado</th>\n    </tr>\n  </thead>\n  <tbody>\n    <tr>\n      <th>0</th>\n      <td>2022S000001</td>\n      <td>01/01/2022</td>\n      <td>1:30:00</td>\n      <td>AVDA. ALBUFERA</td>\n      <td>19</td>\n      <td>13.0</td>\n      <td>PUENTE DE VALLECAS</td>\n      <td>Alcance</td>\n      <td>Despejado</td>\n      <td>Turismo</td>\n      <td>...</td>\n      <td>De 30 a 34 años</td>\n      <td>M</td>\n      <td>NaN</td>\n      <td>NaN</td>\n      <td>443359,226</td>\n      <td>4472082,272</td>\n      <td>0.0</td>\n      <td>0.0</td>\n      <td>2</td>\n      <td>No</td>\n    </tr>\n    <tr>\n      <th>1</th>\n      <td>2022S000001</td>\n      <td>01/01/2022</td>\n      <td>1:30:00</td>\n      <td>AVDA. ALBUFERA</td>\n      <td>19</td>\n      <td>13.0</td>\n      <td>PUENTE DE VALLECAS</td>\n      <td>Alcance</td>\n      <td>Despejado</td>\n      <td>Turismo</td>\n      <td>...</td>\n      <td>De 45 a 49 años</td>\n      <td>H</td>\n      <td>NaN</td>\n      <td>NaN</td>\n      <td>443359,226</td>\n      <td>4472082,272</td>\n      <td>0.0</td>\n      <td>0.0</td>\n      <td>2</td>\n      <td>No</td>\n    </tr>\n    <tr>\n      <th>30</th>\n      <td>2022S000015</td>\n      <td>01/01/2022</td>\n      <td>7:25:00</td>\n      <td>AVDA. ENTREVIAS</td>\n      <td>94</td>\n      <td>13.0</td>\n      <td>PUENTE DE VALLECAS</td>\n      <td>Alcance</td>\n      <td>Despejado</td>\n      <td>Turismo</td>\n      <td>...</td>\n      <td>De 35 a 39 años</td>\n      <td>H</td>\n      <td>7.0</td>\n      <td>Asistencia sanitaria sólo en el lugar del acci...</td>\n      <td>443634,572</td>\n      <td>4469942,483</td>\n      <td>0.0</td>\n      <td>0.0</td>\n      <td>3</td>\n      <td>No</td>\n    </tr>\n    <tr>\n      <th>31</th>\n      <td>2022S000015</td>\n      <td>01/01/2022</td>\n      <td>7:25:00</td>\n      <td>AVDA. ENTREVIAS</td>\n      <td>94</td>\n      <td>13.0</td>\n      <td>PUENTE DE VALLECAS</td>\n      <td>Alcance</td>\n      <td>Despejado</td>\n      <td>Turismo</td>\n      <td>...</td>\n      <td>De 40 a 44 años</td>\n      <td>H</td>\n      <td>14.0</td>\n      <td>Sin asistencia sanitaria</td>\n      <td>443634,572</td>\n      <td>4469942,483</td>\n      <td>1.0</td>\n      <td>0.0</td>\n      <td>3</td>\n      <td>No</td>\n    </tr>\n    <tr>\n      <th>32</th>\n      <td>2022S000015</td>\n      <td>01/01/2022</td>\n      <td>7:25:00</td>\n      <td>AVDA. ENTREVIAS</td>\n      <td>94</td>\n      <td>13.0</td>\n      <td>PUENTE DE VALLECAS</td>\n      <td>Alcance</td>\n      <td>Despejado</td>\n      <td>Turismo</td>\n      <td>...</td>\n      <td>De 35 a 39 años</td>\n      <td>H</td>\n      <td>7.0</td>\n      <td>Asistencia sanitaria sólo en el lugar del acci...</td>\n      <td>443634,572</td>\n      <td>4469942,483</td>\n      <td>0.0</td>\n      <td>0.0</td>\n      <td>3</td>\n      <td>No</td>\n    </tr>\n  </tbody>\n</table>\n<p>5 rows × 21 columns</p>\n</div>"
     },
     "execution_count": 24,
     "metadata": {},
     "output_type": "execute_result"
    }
   ],
   "source": [
    "df_vallecas.head()"
   ],
   "metadata": {
    "collapsed": false,
    "ExecuteTime": {
     "end_time": "2024-01-11T15:40:25.316560584Z",
     "start_time": "2024-01-11T15:40:25.260407716Z"
    }
   },
   "id": "e38d723c755e95a7",
   "execution_count": 24
  },
  {
   "cell_type": "code",
   "outputs": [
    {
     "data": {
      "text/plain": "                                               num_expediente  fecha  hora  \\\nlocalizacion                                                                 \nAVDA. ALBUFERA                                            317    317   317   \nAUTOV. M- +E                                              123    123   123   \nAVDA. ENTREVIAS                                           115    115   115   \nAVDA. PABLO NERUDA                                         88     88    88   \nAVDA. ALBUFERA / AUTOV. M-                                 82     82    82   \n...                                                       ...    ...   ...   \nCALL. PEDRO CALLEJO                                         1      1     1   \nAVENIDA SANTA CATALINA FAROLA                               1      1     1   \nCALL. CONVENIO / AVDA. SAN DIEGO                            1      1     1   \nCALLE  PKRH (INCORPORACIÓN A A DESDE M- )                   1      1     1   \nAVDA. BUENOS AIRES / CALL. PUERTO DE BALBARAN               1      1     1   \n\n                                               numero  cod_distrito  distrito  \\\nlocalizacion                                                                    \nAVDA. ALBUFERA                                    317           317       317   \nAUTOV. M- +E                                      123           123       123   \nAVDA. ENTREVIAS                                   115           115       115   \nAVDA. PABLO NERUDA                                 88            88        88   \nAVDA. ALBUFERA / AUTOV. M-                         82            82        82   \n...                                               ...           ...       ...   \nCALL. PEDRO CALLEJO                                 1             1         1   \nAVENIDA SANTA CATALINA FAROLA                       1             1         1   \nCALL. CONVENIO / AVDA. SAN DIEGO                    1             1         1   \nCALLE  PKRH (INCORPORACIÓN A A DESDE M- )           1             1         1   \nAVDA. BUENOS AIRES / CALL. PUERTO DE BALBARAN       1             1         1   \n\n                                               tipo_accidente  \\\nlocalizacion                                                    \nAVDA. ALBUFERA                                            317   \nAUTOV. M- +E                                              123   \nAVDA. ENTREVIAS                                           115   \nAVDA. PABLO NERUDA                                         88   \nAVDA. ALBUFERA / AUTOV. M-                                 82   \n...                                                       ...   \nCALL. PEDRO CALLEJO                                         1   \nAVENIDA SANTA CATALINA FAROLA                               1   \nCALL. CONVENIO / AVDA. SAN DIEGO                            1   \nCALLE  PKRH (INCORPORACIÓN A A DESDE M- )                   1   \nAVDA. BUENOS AIRES / CALL. PUERTO DE BALBARAN               1   \n\n                                               estado_meteorológico  \\\nlocalizacion                                                          \nAVDA. ALBUFERA                                                  272   \nAUTOV. M- +E                                                    109   \nAVDA. ENTREVIAS                                                 101   \nAVDA. PABLO NERUDA                                               75   \nAVDA. ALBUFERA / AUTOV. M-                                       75   \n...                                                             ...   \nCALL. PEDRO CALLEJO                                               1   \nAVENIDA SANTA CATALINA FAROLA                                     1   \nCALL. CONVENIO / AVDA. SAN DIEGO                                  1   \nCALLE  PKRH (INCORPORACIÓN A A DESDE M- )                         1   \nAVDA. BUENOS AIRES / CALL. PUERTO DE BALBARAN                     1   \n\n                                               tipo_vehiculo  tipo_persona  \\\nlocalizacion                                                                 \nAVDA. ALBUFERA                                           315           317   \nAUTOV. M- +E                                             122           123   \nAVDA. ENTREVIAS                                          115           115   \nAVDA. PABLO NERUDA                                        88            88   \nAVDA. ALBUFERA / AUTOV. M-                                81            82   \n...                                                      ...           ...   \nCALL. PEDRO CALLEJO                                        1             1   \nAVENIDA SANTA CATALINA FAROLA                              1             1   \nCALL. CONVENIO / AVDA. SAN DIEGO                           1             1   \nCALLE  PKRH (INCORPORACIÓN A A DESDE M- )                  1             1   \nAVDA. BUENOS AIRES / CALL. PUERTO DE BALBARAN              1             1   \n\n                                               rango_edad  sexo  \\\nlocalizacion                                                      \nAVDA. ALBUFERA                                        317   317   \nAUTOV. M- +E                                          123   123   \nAVDA. ENTREVIAS                                       115   115   \nAVDA. PABLO NERUDA                                     88    88   \nAVDA. ALBUFERA / AUTOV. M-                             82    82   \n...                                                   ...   ...   \nCALL. PEDRO CALLEJO                                     1     1   \nAVENIDA SANTA CATALINA FAROLA                           1     1   \nCALL. CONVENIO / AVDA. SAN DIEGO                        1     1   \nCALLE  PKRH (INCORPORACIÓN A A DESDE M- )               1     1   \nAVDA. BUENOS AIRES / CALL. PUERTO DE BALBARAN           1     1   \n\n                                               cod_lesividad  lesividad  \\\nlocalizacion                                                              \nAVDA. ALBUFERA                                           185        185   \nAUTOV. M- +E                                              60         60   \nAVDA. ENTREVIAS                                           75         75   \nAVDA. PABLO NERUDA                                        48         48   \nAVDA. ALBUFERA / AUTOV. M-                                28         28   \n...                                                      ...        ...   \nCALL. PEDRO CALLEJO                                        1          1   \nAVENIDA SANTA CATALINA FAROLA                              1          1   \nCALL. CONVENIO / AVDA. SAN DIEGO                           1          1   \nCALLE  PKRH (INCORPORACIÓN A A DESDE M- )                  1          1   \nAVDA. BUENOS AIRES / CALL. PUERTO DE BALBARAN              0          0   \n\n                                               coordenada_x_utm  \\\nlocalizacion                                                      \nAVDA. ALBUFERA                                              317   \nAUTOV. M- +E                                                123   \nAVDA. ENTREVIAS                                             115   \nAVDA. PABLO NERUDA                                           88   \nAVDA. ALBUFERA / AUTOV. M-                                   82   \n...                                                         ...   \nCALL. PEDRO CALLEJO                                           1   \nAVENIDA SANTA CATALINA FAROLA                                 1   \nCALL. CONVENIO / AVDA. SAN DIEGO                              1   \nCALLE  PKRH (INCORPORACIÓN A A DESDE M- )                     1   \nAVDA. BUENOS AIRES / CALL. PUERTO DE BALBARAN                 1   \n\n                                               coordenada_y_utm  \\\nlocalizacion                                                      \nAVDA. ALBUFERA                                              317   \nAUTOV. M- +E                                                123   \nAVDA. ENTREVIAS                                             115   \nAVDA. PABLO NERUDA                                           88   \nAVDA. ALBUFERA / AUTOV. M-                                   82   \n...                                                         ...   \nCALL. PEDRO CALLEJO                                           1   \nAVENIDA SANTA CATALINA FAROLA                                 1   \nCALL. CONVENIO / AVDA. SAN DIEGO                              1   \nCALLE  PKRH (INCORPORACIÓN A A DESDE M- )                     1   \nAVDA. BUENOS AIRES / CALL. PUERTO DE BALBARAN                 1   \n\n                                               positiva_alcohol  \\\nlocalizacion                                                      \nAVDA. ALBUFERA                                              317   \nAUTOV. M- +E                                                123   \nAVDA. ENTREVIAS                                             115   \nAVDA. PABLO NERUDA                                           88   \nAVDA. ALBUFERA / AUTOV. M-                                   82   \n...                                                         ...   \nCALL. PEDRO CALLEJO                                           1   \nAVENIDA SANTA CATALINA FAROLA                                 1   \nCALL. CONVENIO / AVDA. SAN DIEGO                              1   \nCALLE  PKRH (INCORPORACIÓN A A DESDE M- )                     1   \nAVDA. BUENOS AIRES / CALL. PUERTO DE BALBARAN                 1   \n\n                                               positiva_droga  \\\nlocalizacion                                                    \nAVDA. ALBUFERA                                            317   \nAUTOV. M- +E                                              123   \nAVDA. ENTREVIAS                                           115   \nAVDA. PABLO NERUDA                                         88   \nAVDA. ALBUFERA / AUTOV. M-                                 82   \n...                                                       ...   \nCALL. PEDRO CALLEJO                                         1   \nAVENIDA SANTA CATALINA FAROLA                               1   \nCALL. CONVENIO / AVDA. SAN DIEGO                            1   \nCALLE  PKRH (INCORPORACIÓN A A DESDE M- )                   1   \nAVDA. BUENOS AIRES / CALL. PUERTO DE BALBARAN               1   \n\n                                               numero_pasajeros  fugado  \nlocalizacion                                                             \nAVDA. ALBUFERA                                              317     317  \nAUTOV. M- +E                                                123     123  \nAVDA. ENTREVIAS                                             115     115  \nAVDA. PABLO NERUDA                                           88      88  \nAVDA. ALBUFERA / AUTOV. M-                                   82      82  \n...                                                         ...     ...  \nCALL. PEDRO CALLEJO                                           1       1  \nAVENIDA SANTA CATALINA FAROLA                                 1       1  \nCALL. CONVENIO / AVDA. SAN DIEGO                              1       1  \nCALLE  PKRH (INCORPORACIÓN A A DESDE M- )                     1       1  \nAVDA. BUENOS AIRES / CALL. PUERTO DE BALBARAN                 1       1  \n\n[1221 rows x 20 columns]",
      "text/html": "<div>\n<style scoped>\n    .dataframe tbody tr th:only-of-type {\n        vertical-align: middle;\n    }\n\n    .dataframe tbody tr th {\n        vertical-align: top;\n    }\n\n    .dataframe thead th {\n        text-align: right;\n    }\n</style>\n<table border=\"1\" class=\"dataframe\">\n  <thead>\n    <tr style=\"text-align: right;\">\n      <th></th>\n      <th>num_expediente</th>\n      <th>fecha</th>\n      <th>hora</th>\n      <th>numero</th>\n      <th>cod_distrito</th>\n      <th>distrito</th>\n      <th>tipo_accidente</th>\n      <th>estado_meteorológico</th>\n      <th>tipo_vehiculo</th>\n      <th>tipo_persona</th>\n      <th>rango_edad</th>\n      <th>sexo</th>\n      <th>cod_lesividad</th>\n      <th>lesividad</th>\n      <th>coordenada_x_utm</th>\n      <th>coordenada_y_utm</th>\n      <th>positiva_alcohol</th>\n      <th>positiva_droga</th>\n      <th>numero_pasajeros</th>\n      <th>fugado</th>\n    </tr>\n    <tr>\n      <th>localizacion</th>\n      <th></th>\n      <th></th>\n      <th></th>\n      <th></th>\n      <th></th>\n      <th></th>\n      <th></th>\n      <th></th>\n      <th></th>\n      <th></th>\n      <th></th>\n      <th></th>\n      <th></th>\n      <th></th>\n      <th></th>\n      <th></th>\n      <th></th>\n      <th></th>\n      <th></th>\n      <th></th>\n    </tr>\n  </thead>\n  <tbody>\n    <tr>\n      <th>AVDA. ALBUFERA</th>\n      <td>317</td>\n      <td>317</td>\n      <td>317</td>\n      <td>317</td>\n      <td>317</td>\n      <td>317</td>\n      <td>317</td>\n      <td>272</td>\n      <td>315</td>\n      <td>317</td>\n      <td>317</td>\n      <td>317</td>\n      <td>185</td>\n      <td>185</td>\n      <td>317</td>\n      <td>317</td>\n      <td>317</td>\n      <td>317</td>\n      <td>317</td>\n      <td>317</td>\n    </tr>\n    <tr>\n      <th>AUTOV. M- +E</th>\n      <td>123</td>\n      <td>123</td>\n      <td>123</td>\n      <td>123</td>\n      <td>123</td>\n      <td>123</td>\n      <td>123</td>\n      <td>109</td>\n      <td>122</td>\n      <td>123</td>\n      <td>123</td>\n      <td>123</td>\n      <td>60</td>\n      <td>60</td>\n      <td>123</td>\n      <td>123</td>\n      <td>123</td>\n      <td>123</td>\n      <td>123</td>\n      <td>123</td>\n    </tr>\n    <tr>\n      <th>AVDA. ENTREVIAS</th>\n      <td>115</td>\n      <td>115</td>\n      <td>115</td>\n      <td>115</td>\n      <td>115</td>\n      <td>115</td>\n      <td>115</td>\n      <td>101</td>\n      <td>115</td>\n      <td>115</td>\n      <td>115</td>\n      <td>115</td>\n      <td>75</td>\n      <td>75</td>\n      <td>115</td>\n      <td>115</td>\n      <td>115</td>\n      <td>115</td>\n      <td>115</td>\n      <td>115</td>\n    </tr>\n    <tr>\n      <th>AVDA. PABLO NERUDA</th>\n      <td>88</td>\n      <td>88</td>\n      <td>88</td>\n      <td>88</td>\n      <td>88</td>\n      <td>88</td>\n      <td>88</td>\n      <td>75</td>\n      <td>88</td>\n      <td>88</td>\n      <td>88</td>\n      <td>88</td>\n      <td>48</td>\n      <td>48</td>\n      <td>88</td>\n      <td>88</td>\n      <td>88</td>\n      <td>88</td>\n      <td>88</td>\n      <td>88</td>\n    </tr>\n    <tr>\n      <th>AVDA. ALBUFERA / AUTOV. M-</th>\n      <td>82</td>\n      <td>82</td>\n      <td>82</td>\n      <td>82</td>\n      <td>82</td>\n      <td>82</td>\n      <td>82</td>\n      <td>75</td>\n      <td>81</td>\n      <td>82</td>\n      <td>82</td>\n      <td>82</td>\n      <td>28</td>\n      <td>28</td>\n      <td>82</td>\n      <td>82</td>\n      <td>82</td>\n      <td>82</td>\n      <td>82</td>\n      <td>82</td>\n    </tr>\n    <tr>\n      <th>...</th>\n      <td>...</td>\n      <td>...</td>\n      <td>...</td>\n      <td>...</td>\n      <td>...</td>\n      <td>...</td>\n      <td>...</td>\n      <td>...</td>\n      <td>...</td>\n      <td>...</td>\n      <td>...</td>\n      <td>...</td>\n      <td>...</td>\n      <td>...</td>\n      <td>...</td>\n      <td>...</td>\n      <td>...</td>\n      <td>...</td>\n      <td>...</td>\n      <td>...</td>\n    </tr>\n    <tr>\n      <th>CALL. PEDRO CALLEJO</th>\n      <td>1</td>\n      <td>1</td>\n      <td>1</td>\n      <td>1</td>\n      <td>1</td>\n      <td>1</td>\n      <td>1</td>\n      <td>1</td>\n      <td>1</td>\n      <td>1</td>\n      <td>1</td>\n      <td>1</td>\n      <td>1</td>\n      <td>1</td>\n      <td>1</td>\n      <td>1</td>\n      <td>1</td>\n      <td>1</td>\n      <td>1</td>\n      <td>1</td>\n    </tr>\n    <tr>\n      <th>AVENIDA SANTA CATALINA FAROLA</th>\n      <td>1</td>\n      <td>1</td>\n      <td>1</td>\n      <td>1</td>\n      <td>1</td>\n      <td>1</td>\n      <td>1</td>\n      <td>1</td>\n      <td>1</td>\n      <td>1</td>\n      <td>1</td>\n      <td>1</td>\n      <td>1</td>\n      <td>1</td>\n      <td>1</td>\n      <td>1</td>\n      <td>1</td>\n      <td>1</td>\n      <td>1</td>\n      <td>1</td>\n    </tr>\n    <tr>\n      <th>CALL. CONVENIO / AVDA. SAN DIEGO</th>\n      <td>1</td>\n      <td>1</td>\n      <td>1</td>\n      <td>1</td>\n      <td>1</td>\n      <td>1</td>\n      <td>1</td>\n      <td>1</td>\n      <td>1</td>\n      <td>1</td>\n      <td>1</td>\n      <td>1</td>\n      <td>1</td>\n      <td>1</td>\n      <td>1</td>\n      <td>1</td>\n      <td>1</td>\n      <td>1</td>\n      <td>1</td>\n      <td>1</td>\n    </tr>\n    <tr>\n      <th>CALLE  PKRH (INCORPORACIÓN A A DESDE M- )</th>\n      <td>1</td>\n      <td>1</td>\n      <td>1</td>\n      <td>1</td>\n      <td>1</td>\n      <td>1</td>\n      <td>1</td>\n      <td>1</td>\n      <td>1</td>\n      <td>1</td>\n      <td>1</td>\n      <td>1</td>\n      <td>1</td>\n      <td>1</td>\n      <td>1</td>\n      <td>1</td>\n      <td>1</td>\n      <td>1</td>\n      <td>1</td>\n      <td>1</td>\n    </tr>\n    <tr>\n      <th>AVDA. BUENOS AIRES / CALL. PUERTO DE BALBARAN</th>\n      <td>1</td>\n      <td>1</td>\n      <td>1</td>\n      <td>1</td>\n      <td>1</td>\n      <td>1</td>\n      <td>1</td>\n      <td>1</td>\n      <td>1</td>\n      <td>1</td>\n      <td>1</td>\n      <td>1</td>\n      <td>0</td>\n      <td>0</td>\n      <td>1</td>\n      <td>1</td>\n      <td>1</td>\n      <td>1</td>\n      <td>1</td>\n      <td>1</td>\n    </tr>\n  </tbody>\n</table>\n<p>1221 rows × 20 columns</p>\n</div>"
     },
     "execution_count": 31,
     "metadata": {},
     "output_type": "execute_result"
    }
   ],
   "source": [
    "(df_vallecas.groupby('localizacion').count().sort_values(by='num_expediente', ascending=False))"
   ],
   "metadata": {
    "collapsed": false,
    "ExecuteTime": {
     "end_time": "2024-01-11T15:42:03.409911950Z",
     "start_time": "2024-01-11T15:42:03.363335985Z"
    }
   },
   "id": "46a9613287387345",
   "execution_count": 31
  },
  {
   "cell_type": "markdown",
   "source": [
    "Miramos los accidentes en el cuartil más alto del distrito con más accidentes"
   ],
   "metadata": {
    "collapsed": false
   },
   "id": "4e6ab1a7ff196029"
  },
  {
   "cell_type": "code",
   "outputs": [],
   "source": [
    "df_grouped = df_vallecas.groupby('localizacion').count()\n",
    "counts = df_grouped['num_expediente']\n",
    "\n",
    "Q1 = counts.quantile(0.25)\n",
    "Q3 = counts.quantile(0.75)\n",
    "\n",
    "IQR = Q3 - Q1\n",
    "\n",
    "lower_bound = Q1 - 1.5 * IQR\n",
    "upper_bound = Q3 + 1.5 * IQR\n",
    "\n",
    "outliers = counts[(counts < lower_bound) | (counts > upper_bound)]\n",
    "\n",
    "percentile_95 = counts.quantile(0.95)\n",
    "\n",
    "top_5_percent_df = df_grouped[df_grouped['num_expediente'] >= percentile_95].reset_index()\n",
    "\n",
    "top_5_percent_df = top_5_percent_df.sort_values(by=['num_expediente'], ascending=False)"
   ],
   "metadata": {
    "collapsed": false,
    "ExecuteTime": {
     "end_time": "2024-01-11T15:56:46.432560251Z",
     "start_time": "2024-01-11T15:56:46.406661739Z"
    }
   },
   "id": "183ca4439691a397",
   "execution_count": 56
  },
  {
   "cell_type": "markdown",
   "source": [
    "Vamos a ver donde se concentran los accidentes, mirando ahora la imagen completa, con el número de calle, y los tipos de accidentes"
   ],
   "metadata": {
    "collapsed": false
   },
   "id": "5182b542dae2d039"
  },
  {
   "cell_type": "code",
   "outputs": [
    {
     "data": {
      "text/plain": "      num_expediente       fecha      hora        localizacion   numero  \\\n65935    2023S022405  09/06/2023  14:30:00        AUTOV. A- +E  +00400E   \n48973    2023S002829  01/02/2023   9:30:00        AUTOV. A- +E  +00400E   \n48972    2023S002829  01/02/2023   9:30:00        AUTOV. A- +E  +00400E   \n48971    2023S002829  01/02/2023   9:30:00        AUTOV. A- +E  +00400E   \n34181    2022S030123  14/10/2022  10:00:00        AUTOV. A- +E  +00400E   \n...              ...         ...       ...                 ...      ...   \n58048    2023S015043  12/04/2023  20:30:00  CMNO. VALDERRIBAS        99   \n58047    2023S015043  12/04/2023  20:30:00  CMNO. VALDERRIBAS        99   \n13400    2022S011209  22/04/2022   9:50:00  CMNO. VALDERRIBAS        97   \n28696    2022S024178  30/08/2022  18:10:00  CMNO. VALDERRIBAS        82   \n49243    2023S003225  03/02/2023   8:15:00  CMNO. VALDERRIBAS       113   \n\n       cod_distrito            distrito                tipo_accidente  \\\n65935          13.0  PUENTE DE VALLECAS                       Alcance   \n48973          13.0  PUENTE DE VALLECAS                       Alcance   \n48972          13.0  PUENTE DE VALLECAS                       Alcance   \n48971          13.0  PUENTE DE VALLECAS                       Alcance   \n34181          13.0  PUENTE DE VALLECAS                       Alcance   \n...             ...                 ...                           ...   \n58048          13.0  PUENTE DE VALLECAS  Choque contra obstáculo fijo   \n58047          13.0  PUENTE DE VALLECAS  Choque contra obstáculo fijo   \n13400          13.0  PUENTE DE VALLECAS       Colisión fronto-lateral   \n28696          13.0  PUENTE DE VALLECAS                       Alcance   \n49243          13.0  PUENTE DE VALLECAS                       Alcance   \n\n      estado_meteorológico        tipo_vehiculo  ...       rango_edad sexo  \\\n65935            Despejado  Vehículo articulado  ...  De 50 a 54 años    H   \n48973                  NaN              Turismo  ...  De 45 a 49 años    M   \n48972                  NaN            Furgoneta  ...  De 21 a 24 años    H   \n48971                  NaN            Furgoneta  ...  De 50 a 54 años    H   \n34181              Nublado              Turismo  ...  De 50 a 54 años    M   \n...                    ...                  ...  ...              ...  ...   \n58048              Nublado            Furgoneta  ...  De 45 a 49 años    H   \n58047              Nublado            Furgoneta  ...  De 55 a 59 años    H   \n13400            Despejado              Turismo  ...  De 40 a 44 años    M   \n28696            Despejado            Furgoneta  ...  De 21 a 24 años    H   \n49243                  NaN              Turismo  ...  De 40 a 44 años    M   \n\n      cod_lesividad                                          lesividad  \\\n65935           NaN                                                NaN   \n48973           NaN                                                NaN   \n48972           NaN                                                NaN   \n48971           NaN                                                NaN   \n34181          14.0                           Sin asistencia sanitaria   \n...             ...                                                ...   \n58048          14.0                           Sin asistencia sanitaria   \n58047           7.0  Asistencia sanitaria sólo en el lugar del acci...   \n13400           NaN                                                NaN   \n28696           NaN                                                NaN   \n49243           NaN                                                NaN   \n\n      coordenada_x_utm coordenada_y_utm positiva_alcohol  positiva_droga  \\\n65935       441797.648      4470004.005              0.0             0.0   \n48973       441868.907       4470324.24              0.0             0.0   \n48972       441868.907       4470324.24              0.0             0.0   \n48971       441868.907       4470324.24              0.0             0.0   \n34181       441908,387      4469874,818              0.0             0.0   \n...                ...              ...              ...             ...   \n58048       444071.691      4472239.309              0.0             0.0   \n58047       444071.691      4472239.309              0.0             0.0   \n13400       444019,558      4472219,955              0.0             0.0   \n28696       443872,126      4472304,979              0.0             0.0   \n49243       444239.418      4471771.265              0.0             0.0   \n\n       numero_pasajeros  fugado  \n65935                 7      No  \n48973                 3      No  \n48972                 3      No  \n48971                 3      No  \n34181                 5      No  \n...                 ...     ...  \n58048                 5      No  \n58047                 5      No  \n13400                 1      No  \n28696                 2      No  \n49243                 2      No  \n\n[2198 rows x 21 columns]",
      "text/html": "<div>\n<style scoped>\n    .dataframe tbody tr th:only-of-type {\n        vertical-align: middle;\n    }\n\n    .dataframe tbody tr th {\n        vertical-align: top;\n    }\n\n    .dataframe thead th {\n        text-align: right;\n    }\n</style>\n<table border=\"1\" class=\"dataframe\">\n  <thead>\n    <tr style=\"text-align: right;\">\n      <th></th>\n      <th>num_expediente</th>\n      <th>fecha</th>\n      <th>hora</th>\n      <th>localizacion</th>\n      <th>numero</th>\n      <th>cod_distrito</th>\n      <th>distrito</th>\n      <th>tipo_accidente</th>\n      <th>estado_meteorológico</th>\n      <th>tipo_vehiculo</th>\n      <th>...</th>\n      <th>rango_edad</th>\n      <th>sexo</th>\n      <th>cod_lesividad</th>\n      <th>lesividad</th>\n      <th>coordenada_x_utm</th>\n      <th>coordenada_y_utm</th>\n      <th>positiva_alcohol</th>\n      <th>positiva_droga</th>\n      <th>numero_pasajeros</th>\n      <th>fugado</th>\n    </tr>\n  </thead>\n  <tbody>\n    <tr>\n      <th>65935</th>\n      <td>2023S022405</td>\n      <td>09/06/2023</td>\n      <td>14:30:00</td>\n      <td>AUTOV. A- +E</td>\n      <td>+00400E</td>\n      <td>13.0</td>\n      <td>PUENTE DE VALLECAS</td>\n      <td>Alcance</td>\n      <td>Despejado</td>\n      <td>Vehículo articulado</td>\n      <td>...</td>\n      <td>De 50 a 54 años</td>\n      <td>H</td>\n      <td>NaN</td>\n      <td>NaN</td>\n      <td>441797.648</td>\n      <td>4470004.005</td>\n      <td>0.0</td>\n      <td>0.0</td>\n      <td>7</td>\n      <td>No</td>\n    </tr>\n    <tr>\n      <th>48973</th>\n      <td>2023S002829</td>\n      <td>01/02/2023</td>\n      <td>9:30:00</td>\n      <td>AUTOV. A- +E</td>\n      <td>+00400E</td>\n      <td>13.0</td>\n      <td>PUENTE DE VALLECAS</td>\n      <td>Alcance</td>\n      <td>NaN</td>\n      <td>Turismo</td>\n      <td>...</td>\n      <td>De 45 a 49 años</td>\n      <td>M</td>\n      <td>NaN</td>\n      <td>NaN</td>\n      <td>441868.907</td>\n      <td>4470324.24</td>\n      <td>0.0</td>\n      <td>0.0</td>\n      <td>3</td>\n      <td>No</td>\n    </tr>\n    <tr>\n      <th>48972</th>\n      <td>2023S002829</td>\n      <td>01/02/2023</td>\n      <td>9:30:00</td>\n      <td>AUTOV. A- +E</td>\n      <td>+00400E</td>\n      <td>13.0</td>\n      <td>PUENTE DE VALLECAS</td>\n      <td>Alcance</td>\n      <td>NaN</td>\n      <td>Furgoneta</td>\n      <td>...</td>\n      <td>De 21 a 24 años</td>\n      <td>H</td>\n      <td>NaN</td>\n      <td>NaN</td>\n      <td>441868.907</td>\n      <td>4470324.24</td>\n      <td>0.0</td>\n      <td>0.0</td>\n      <td>3</td>\n      <td>No</td>\n    </tr>\n    <tr>\n      <th>48971</th>\n      <td>2023S002829</td>\n      <td>01/02/2023</td>\n      <td>9:30:00</td>\n      <td>AUTOV. A- +E</td>\n      <td>+00400E</td>\n      <td>13.0</td>\n      <td>PUENTE DE VALLECAS</td>\n      <td>Alcance</td>\n      <td>NaN</td>\n      <td>Furgoneta</td>\n      <td>...</td>\n      <td>De 50 a 54 años</td>\n      <td>H</td>\n      <td>NaN</td>\n      <td>NaN</td>\n      <td>441868.907</td>\n      <td>4470324.24</td>\n      <td>0.0</td>\n      <td>0.0</td>\n      <td>3</td>\n      <td>No</td>\n    </tr>\n    <tr>\n      <th>34181</th>\n      <td>2022S030123</td>\n      <td>14/10/2022</td>\n      <td>10:00:00</td>\n      <td>AUTOV. A- +E</td>\n      <td>+00400E</td>\n      <td>13.0</td>\n      <td>PUENTE DE VALLECAS</td>\n      <td>Alcance</td>\n      <td>Nublado</td>\n      <td>Turismo</td>\n      <td>...</td>\n      <td>De 50 a 54 años</td>\n      <td>M</td>\n      <td>14.0</td>\n      <td>Sin asistencia sanitaria</td>\n      <td>441908,387</td>\n      <td>4469874,818</td>\n      <td>0.0</td>\n      <td>0.0</td>\n      <td>5</td>\n      <td>No</td>\n    </tr>\n    <tr>\n      <th>...</th>\n      <td>...</td>\n      <td>...</td>\n      <td>...</td>\n      <td>...</td>\n      <td>...</td>\n      <td>...</td>\n      <td>...</td>\n      <td>...</td>\n      <td>...</td>\n      <td>...</td>\n      <td>...</td>\n      <td>...</td>\n      <td>...</td>\n      <td>...</td>\n      <td>...</td>\n      <td>...</td>\n      <td>...</td>\n      <td>...</td>\n      <td>...</td>\n      <td>...</td>\n      <td>...</td>\n    </tr>\n    <tr>\n      <th>58048</th>\n      <td>2023S015043</td>\n      <td>12/04/2023</td>\n      <td>20:30:00</td>\n      <td>CMNO. VALDERRIBAS</td>\n      <td>99</td>\n      <td>13.0</td>\n      <td>PUENTE DE VALLECAS</td>\n      <td>Choque contra obstáculo fijo</td>\n      <td>Nublado</td>\n      <td>Furgoneta</td>\n      <td>...</td>\n      <td>De 45 a 49 años</td>\n      <td>H</td>\n      <td>14.0</td>\n      <td>Sin asistencia sanitaria</td>\n      <td>444071.691</td>\n      <td>4472239.309</td>\n      <td>0.0</td>\n      <td>0.0</td>\n      <td>5</td>\n      <td>No</td>\n    </tr>\n    <tr>\n      <th>58047</th>\n      <td>2023S015043</td>\n      <td>12/04/2023</td>\n      <td>20:30:00</td>\n      <td>CMNO. VALDERRIBAS</td>\n      <td>99</td>\n      <td>13.0</td>\n      <td>PUENTE DE VALLECAS</td>\n      <td>Choque contra obstáculo fijo</td>\n      <td>Nublado</td>\n      <td>Furgoneta</td>\n      <td>...</td>\n      <td>De 55 a 59 años</td>\n      <td>H</td>\n      <td>7.0</td>\n      <td>Asistencia sanitaria sólo en el lugar del acci...</td>\n      <td>444071.691</td>\n      <td>4472239.309</td>\n      <td>0.0</td>\n      <td>0.0</td>\n      <td>5</td>\n      <td>No</td>\n    </tr>\n    <tr>\n      <th>13400</th>\n      <td>2022S011209</td>\n      <td>22/04/2022</td>\n      <td>9:50:00</td>\n      <td>CMNO. VALDERRIBAS</td>\n      <td>97</td>\n      <td>13.0</td>\n      <td>PUENTE DE VALLECAS</td>\n      <td>Colisión fronto-lateral</td>\n      <td>Despejado</td>\n      <td>Turismo</td>\n      <td>...</td>\n      <td>De 40 a 44 años</td>\n      <td>M</td>\n      <td>NaN</td>\n      <td>NaN</td>\n      <td>444019,558</td>\n      <td>4472219,955</td>\n      <td>0.0</td>\n      <td>0.0</td>\n      <td>1</td>\n      <td>No</td>\n    </tr>\n    <tr>\n      <th>28696</th>\n      <td>2022S024178</td>\n      <td>30/08/2022</td>\n      <td>18:10:00</td>\n      <td>CMNO. VALDERRIBAS</td>\n      <td>82</td>\n      <td>13.0</td>\n      <td>PUENTE DE VALLECAS</td>\n      <td>Alcance</td>\n      <td>Despejado</td>\n      <td>Furgoneta</td>\n      <td>...</td>\n      <td>De 21 a 24 años</td>\n      <td>H</td>\n      <td>NaN</td>\n      <td>NaN</td>\n      <td>443872,126</td>\n      <td>4472304,979</td>\n      <td>0.0</td>\n      <td>0.0</td>\n      <td>2</td>\n      <td>No</td>\n    </tr>\n    <tr>\n      <th>49243</th>\n      <td>2023S003225</td>\n      <td>03/02/2023</td>\n      <td>8:15:00</td>\n      <td>CMNO. VALDERRIBAS</td>\n      <td>113</td>\n      <td>13.0</td>\n      <td>PUENTE DE VALLECAS</td>\n      <td>Alcance</td>\n      <td>NaN</td>\n      <td>Turismo</td>\n      <td>...</td>\n      <td>De 40 a 44 años</td>\n      <td>M</td>\n      <td>NaN</td>\n      <td>NaN</td>\n      <td>444239.418</td>\n      <td>4471771.265</td>\n      <td>0.0</td>\n      <td>0.0</td>\n      <td>2</td>\n      <td>No</td>\n    </tr>\n  </tbody>\n</table>\n<p>2198 rows × 21 columns</p>\n</div>"
     },
     "execution_count": 101,
     "metadata": {},
     "output_type": "execute_result"
    }
   ],
   "source": [
    "filtered_df_vallecas = df_vallecas[df_vallecas['localizacion'].isin(top_5_percent_df['localizacion'])].copy()\n",
    "filtered_df_vallecas.sort_values(by=['localizacion'])"
   ],
   "metadata": {
    "collapsed": false,
    "ExecuteTime": {
     "end_time": "2024-01-11T16:34:58.720944633Z",
     "start_time": "2024-01-11T16:34:58.633226743Z"
    }
   },
   "id": "477730ae5c14b1a4",
   "execution_count": 101
  },
  {
   "cell_type": "code",
   "outputs": [],
   "source": [
    "import pandas as pd\n",
    "\n",
    "filtered_df_vallecas['coordenada_x_utm'] = pd.to_numeric(filtered_df_vallecas['coordenada_x_utm'].str.replace(',', '.'), errors='coerce')\n",
    "filtered_df_vallecas['coordenada_y_utm'] = pd.to_numeric(filtered_df_vallecas['coordenada_y_utm'].str.replace(',', '.'), errors='coerce')\n",
    "\n",
    "filtered_df_vallecas.dropna(subset=['coordenada_x_utm', 'coordenada_y_utm'], inplace=True)"
   ],
   "metadata": {
    "collapsed": false,
    "ExecuteTime": {
     "end_time": "2024-01-11T16:35:00.762423627Z",
     "start_time": "2024-01-11T16:35:00.723195602Z"
    }
   },
   "id": "99f703f548093aab",
   "execution_count": 102
  },
  {
   "cell_type": "code",
   "outputs": [
    {
     "data": {
      "text/plain": "      num_expediente       fecha      hora                localizacion numero  \\\n0        2022S000001  01/01/2022   1:30:00             AVDA. ALBUFERA      19   \n1        2022S000001  01/01/2022   1:30:00             AVDA. ALBUFERA      19   \n30       2022S000015  01/01/2022   7:25:00            AVDA. ENTREVIAS      94   \n31       2022S000015  01/01/2022   7:25:00            AVDA. ENTREVIAS      94   \n32       2022S000015  01/01/2022   7:25:00            AVDA. ENTREVIAS      94   \n...              ...         ...       ...                         ...    ...   \n65455    2023S022129  05/06/2023  20:15:00  AVDA. ALBUFERA / AUTOV. M-    302   \n65456    2023S022129  05/06/2023  20:15:00  AVDA. ALBUFERA / AUTOV. M-    302   \n65512    2023S022164  06/06/2023  11:25:00         AVDA. PABLO NERUDA      50   \n65513    2023S022164  06/06/2023  11:25:00         AVDA. PABLO NERUDA      50   \n65514    2023S022164  06/06/2023  11:25:00         AVDA. PABLO NERUDA      50   \n\n       cod_distrito            distrito     tipo_accidente  \\\n0              13.0  PUENTE DE VALLECAS            Alcance   \n1              13.0  PUENTE DE VALLECAS            Alcance   \n30             13.0  PUENTE DE VALLECAS            Alcance   \n31             13.0  PUENTE DE VALLECAS            Alcance   \n32             13.0  PUENTE DE VALLECAS            Alcance   \n...             ...                 ...                ...   \n65455          13.0  PUENTE DE VALLECAS   Colisión lateral   \n65456          13.0  PUENTE DE VALLECAS   Colisión lateral   \n65512          13.0  PUENTE DE VALLECAS  Colisión múltiple   \n65513          13.0  PUENTE DE VALLECAS  Colisión múltiple   \n65514          13.0  PUENTE DE VALLECAS  Colisión múltiple   \n\n      estado_meteorológico tipo_vehiculo  ...       rango_edad sexo  \\\n0                Despejado       Turismo  ...  De 30 a 34 años    M   \n1                Despejado       Turismo  ...  De 45 a 49 años    H   \n30               Despejado       Turismo  ...  De 35 a 39 años    H   \n31               Despejado       Turismo  ...  De 40 a 44 años    H   \n32               Despejado       Turismo  ...  De 35 a 39 años    H   \n...                    ...           ...  ...              ...  ...   \n65455              Nublado       Turismo  ...  De 25 a 29 años    H   \n65456              Nublado       Turismo  ...  De 35 a 39 años    H   \n65512                  NaN     Furgoneta  ...  De 40 a 44 años    H   \n65513                  NaN       Turismo  ...      Desconocido    H   \n65514                  NaN       Turismo  ...      Desconocido    H   \n\n      cod_lesividad                                          lesividad  \\\n0               NaN                                                NaN   \n1               NaN                                                NaN   \n30              7.0  Asistencia sanitaria sólo en el lugar del acci...   \n31             14.0                           Sin asistencia sanitaria   \n32              7.0  Asistencia sanitaria sólo en el lugar del acci...   \n...             ...                                                ...   \n65455           NaN                                                NaN   \n65456           NaN                                                NaN   \n65512           NaN                                                NaN   \n65513           NaN                                                NaN   \n65514           NaN                                                NaN   \n\n      coordenada_x_utm  coordenada_y_utm  positiva_alcohol  positiva_droga  \\\n0           443359.226       4472082.272               0.0             0.0   \n1           443359.226       4472082.272               0.0             0.0   \n30          443634.572       4469942.483               0.0             0.0   \n31          443634.572       4469942.483               1.0             0.0   \n32          443634.572       4469942.483               0.0             0.0   \n...                ...               ...               ...             ...   \n65455       446019.735       4470758.527               0.0             0.0   \n65456       446019.735       4470758.527               0.0             0.0   \n65512       445291.488       4471072.805               0.0             0.0   \n65513       445291.488       4471072.805               0.0             0.0   \n65514       445291.488       4471072.805               0.0             0.0   \n\n       numero_pasajeros  fugado  \n0                     2      No  \n1                     2      No  \n30                    3      No  \n31                    3      No  \n32                    3      No  \n...                 ...     ...  \n65455                 4      No  \n65456                 4      No  \n65512                 3      No  \n65513                 3      No  \n65514                 3      No  \n\n[1943 rows x 21 columns]",
      "text/html": "<div>\n<style scoped>\n    .dataframe tbody tr th:only-of-type {\n        vertical-align: middle;\n    }\n\n    .dataframe tbody tr th {\n        vertical-align: top;\n    }\n\n    .dataframe thead th {\n        text-align: right;\n    }\n</style>\n<table border=\"1\" class=\"dataframe\">\n  <thead>\n    <tr style=\"text-align: right;\">\n      <th></th>\n      <th>num_expediente</th>\n      <th>fecha</th>\n      <th>hora</th>\n      <th>localizacion</th>\n      <th>numero</th>\n      <th>cod_distrito</th>\n      <th>distrito</th>\n      <th>tipo_accidente</th>\n      <th>estado_meteorológico</th>\n      <th>tipo_vehiculo</th>\n      <th>...</th>\n      <th>rango_edad</th>\n      <th>sexo</th>\n      <th>cod_lesividad</th>\n      <th>lesividad</th>\n      <th>coordenada_x_utm</th>\n      <th>coordenada_y_utm</th>\n      <th>positiva_alcohol</th>\n      <th>positiva_droga</th>\n      <th>numero_pasajeros</th>\n      <th>fugado</th>\n    </tr>\n  </thead>\n  <tbody>\n    <tr>\n      <th>0</th>\n      <td>2022S000001</td>\n      <td>01/01/2022</td>\n      <td>1:30:00</td>\n      <td>AVDA. ALBUFERA</td>\n      <td>19</td>\n      <td>13.0</td>\n      <td>PUENTE DE VALLECAS</td>\n      <td>Alcance</td>\n      <td>Despejado</td>\n      <td>Turismo</td>\n      <td>...</td>\n      <td>De 30 a 34 años</td>\n      <td>M</td>\n      <td>NaN</td>\n      <td>NaN</td>\n      <td>443359.226</td>\n      <td>4472082.272</td>\n      <td>0.0</td>\n      <td>0.0</td>\n      <td>2</td>\n      <td>No</td>\n    </tr>\n    <tr>\n      <th>1</th>\n      <td>2022S000001</td>\n      <td>01/01/2022</td>\n      <td>1:30:00</td>\n      <td>AVDA. ALBUFERA</td>\n      <td>19</td>\n      <td>13.0</td>\n      <td>PUENTE DE VALLECAS</td>\n      <td>Alcance</td>\n      <td>Despejado</td>\n      <td>Turismo</td>\n      <td>...</td>\n      <td>De 45 a 49 años</td>\n      <td>H</td>\n      <td>NaN</td>\n      <td>NaN</td>\n      <td>443359.226</td>\n      <td>4472082.272</td>\n      <td>0.0</td>\n      <td>0.0</td>\n      <td>2</td>\n      <td>No</td>\n    </tr>\n    <tr>\n      <th>30</th>\n      <td>2022S000015</td>\n      <td>01/01/2022</td>\n      <td>7:25:00</td>\n      <td>AVDA. ENTREVIAS</td>\n      <td>94</td>\n      <td>13.0</td>\n      <td>PUENTE DE VALLECAS</td>\n      <td>Alcance</td>\n      <td>Despejado</td>\n      <td>Turismo</td>\n      <td>...</td>\n      <td>De 35 a 39 años</td>\n      <td>H</td>\n      <td>7.0</td>\n      <td>Asistencia sanitaria sólo en el lugar del acci...</td>\n      <td>443634.572</td>\n      <td>4469942.483</td>\n      <td>0.0</td>\n      <td>0.0</td>\n      <td>3</td>\n      <td>No</td>\n    </tr>\n    <tr>\n      <th>31</th>\n      <td>2022S000015</td>\n      <td>01/01/2022</td>\n      <td>7:25:00</td>\n      <td>AVDA. ENTREVIAS</td>\n      <td>94</td>\n      <td>13.0</td>\n      <td>PUENTE DE VALLECAS</td>\n      <td>Alcance</td>\n      <td>Despejado</td>\n      <td>Turismo</td>\n      <td>...</td>\n      <td>De 40 a 44 años</td>\n      <td>H</td>\n      <td>14.0</td>\n      <td>Sin asistencia sanitaria</td>\n      <td>443634.572</td>\n      <td>4469942.483</td>\n      <td>1.0</td>\n      <td>0.0</td>\n      <td>3</td>\n      <td>No</td>\n    </tr>\n    <tr>\n      <th>32</th>\n      <td>2022S000015</td>\n      <td>01/01/2022</td>\n      <td>7:25:00</td>\n      <td>AVDA. ENTREVIAS</td>\n      <td>94</td>\n      <td>13.0</td>\n      <td>PUENTE DE VALLECAS</td>\n      <td>Alcance</td>\n      <td>Despejado</td>\n      <td>Turismo</td>\n      <td>...</td>\n      <td>De 35 a 39 años</td>\n      <td>H</td>\n      <td>7.0</td>\n      <td>Asistencia sanitaria sólo en el lugar del acci...</td>\n      <td>443634.572</td>\n      <td>4469942.483</td>\n      <td>0.0</td>\n      <td>0.0</td>\n      <td>3</td>\n      <td>No</td>\n    </tr>\n    <tr>\n      <th>...</th>\n      <td>...</td>\n      <td>...</td>\n      <td>...</td>\n      <td>...</td>\n      <td>...</td>\n      <td>...</td>\n      <td>...</td>\n      <td>...</td>\n      <td>...</td>\n      <td>...</td>\n      <td>...</td>\n      <td>...</td>\n      <td>...</td>\n      <td>...</td>\n      <td>...</td>\n      <td>...</td>\n      <td>...</td>\n      <td>...</td>\n      <td>...</td>\n      <td>...</td>\n      <td>...</td>\n    </tr>\n    <tr>\n      <th>65455</th>\n      <td>2023S022129</td>\n      <td>05/06/2023</td>\n      <td>20:15:00</td>\n      <td>AVDA. ALBUFERA / AUTOV. M-</td>\n      <td>302</td>\n      <td>13.0</td>\n      <td>PUENTE DE VALLECAS</td>\n      <td>Colisión lateral</td>\n      <td>Nublado</td>\n      <td>Turismo</td>\n      <td>...</td>\n      <td>De 25 a 29 años</td>\n      <td>H</td>\n      <td>NaN</td>\n      <td>NaN</td>\n      <td>446019.735</td>\n      <td>4470758.527</td>\n      <td>0.0</td>\n      <td>0.0</td>\n      <td>4</td>\n      <td>No</td>\n    </tr>\n    <tr>\n      <th>65456</th>\n      <td>2023S022129</td>\n      <td>05/06/2023</td>\n      <td>20:15:00</td>\n      <td>AVDA. ALBUFERA / AUTOV. M-</td>\n      <td>302</td>\n      <td>13.0</td>\n      <td>PUENTE DE VALLECAS</td>\n      <td>Colisión lateral</td>\n      <td>Nublado</td>\n      <td>Turismo</td>\n      <td>...</td>\n      <td>De 35 a 39 años</td>\n      <td>H</td>\n      <td>NaN</td>\n      <td>NaN</td>\n      <td>446019.735</td>\n      <td>4470758.527</td>\n      <td>0.0</td>\n      <td>0.0</td>\n      <td>4</td>\n      <td>No</td>\n    </tr>\n    <tr>\n      <th>65512</th>\n      <td>2023S022164</td>\n      <td>06/06/2023</td>\n      <td>11:25:00</td>\n      <td>AVDA. PABLO NERUDA</td>\n      <td>50</td>\n      <td>13.0</td>\n      <td>PUENTE DE VALLECAS</td>\n      <td>Colisión múltiple</td>\n      <td>NaN</td>\n      <td>Furgoneta</td>\n      <td>...</td>\n      <td>De 40 a 44 años</td>\n      <td>H</td>\n      <td>NaN</td>\n      <td>NaN</td>\n      <td>445291.488</td>\n      <td>4471072.805</td>\n      <td>0.0</td>\n      <td>0.0</td>\n      <td>3</td>\n      <td>No</td>\n    </tr>\n    <tr>\n      <th>65513</th>\n      <td>2023S022164</td>\n      <td>06/06/2023</td>\n      <td>11:25:00</td>\n      <td>AVDA. PABLO NERUDA</td>\n      <td>50</td>\n      <td>13.0</td>\n      <td>PUENTE DE VALLECAS</td>\n      <td>Colisión múltiple</td>\n      <td>NaN</td>\n      <td>Turismo</td>\n      <td>...</td>\n      <td>Desconocido</td>\n      <td>H</td>\n      <td>NaN</td>\n      <td>NaN</td>\n      <td>445291.488</td>\n      <td>4471072.805</td>\n      <td>0.0</td>\n      <td>0.0</td>\n      <td>3</td>\n      <td>No</td>\n    </tr>\n    <tr>\n      <th>65514</th>\n      <td>2023S022164</td>\n      <td>06/06/2023</td>\n      <td>11:25:00</td>\n      <td>AVDA. PABLO NERUDA</td>\n      <td>50</td>\n      <td>13.0</td>\n      <td>PUENTE DE VALLECAS</td>\n      <td>Colisión múltiple</td>\n      <td>NaN</td>\n      <td>Turismo</td>\n      <td>...</td>\n      <td>Desconocido</td>\n      <td>H</td>\n      <td>NaN</td>\n      <td>NaN</td>\n      <td>445291.488</td>\n      <td>4471072.805</td>\n      <td>0.0</td>\n      <td>0.0</td>\n      <td>3</td>\n      <td>No</td>\n    </tr>\n  </tbody>\n</table>\n<p>1943 rows × 21 columns</p>\n</div>"
     },
     "execution_count": 103,
     "metadata": {},
     "output_type": "execute_result"
    }
   ],
   "source": [
    "filtered_df_vallecas"
   ],
   "metadata": {
    "collapsed": false,
    "ExecuteTime": {
     "end_time": "2024-01-11T16:35:03.047309652Z",
     "start_time": "2024-01-11T16:35:02.986049394Z"
    }
   },
   "id": "1ed0b3e9b5c3cbe0",
   "execution_count": 103
  },
  {
   "cell_type": "code",
   "outputs": [
    {
     "data": {
      "text/plain": "'/home/duo/Desktop/madrid_map.html'"
     },
     "execution_count": 112,
     "metadata": {},
     "output_type": "execute_result"
    }
   ],
   "source": [
    "import utm\n",
    "import folium\n",
    "\n",
    "def utm_to_latlon(utm_x, utm_y, zone_number=30, zone_letter='T'):\n",
    "    \"\"\"\n",
    "    Convert UTM coordinates to Latitude and Longitude.\n",
    "    Assumes zone number 30 and zone letter 'T' for Madrid.\n",
    "    \"\"\"\n",
    "    try:\n",
    "        lat, lon = utm.to_latlon(utm_x, utm_y, zone_number, zone_letter)\n",
    "        return lat, lon\n",
    "    except Exception as e:\n",
    "        print(\"Error en la conversión:\", e, \" utmx: \", utm_x, \"utmy: \", utm_y, \" \")\n",
    "        return None, None\n",
    "\n",
    "# Processing the data: converting UTM coordinates to latitude and longitude\n",
    "coordinates = filtered_df_vallecas.filter(items=['coordenada_x_utm', 'coordenada_y_utm', 'tipo_accidente', 'tipo_vehiculo'])\n",
    "coordinates.columns = ['utm_x', 'utm_y', 'tipo_accidente', 'tipo_vehiculo']\n",
    "# Apply the conversion\n",
    "coordinates['lat'], coordinates['lon'] = zip(*coordinates.apply(lambda row: utm_to_latlon(row['utm_x'], row['utm_y']), axis=1))\n",
    "# Drop rows with NaN values in lat/lon\n",
    "coordinates.dropna(subset=['lat', 'lon'], inplace=True)\n",
    "\n",
    "# Creating a map centered around Madrid\n",
    "madrid_map = folium.Map(location=[40.4168, -3.7038], zoom_start=12)\n",
    "\n",
    "# Adding the coordinates to the map\n",
    "for idx, row in coordinates.iterrows():\n",
    "    label = f'Lat: {row[\"lat\"]}, Lon: {row[\"lon\"]}, \\nAccidente: {row[\"tipo_accidente\"]}, \\nVehículo: {row[\"tipo_vehiculo\"]}'\n",
    "    folium.Marker([row['lat'], row['lon']], popup=label).add_to(madrid_map)\n",
    "# Save the map to an HTML file\n",
    "map_file = '/home/duo/Desktop/madrid_map.html'\n",
    "madrid_map.save(map_file)\n",
    "\n",
    "map_file"
   ],
   "metadata": {
    "collapsed": false,
    "ExecuteTime": {
     "end_time": "2024-01-11T16:47:43.897893914Z",
     "start_time": "2024-01-11T16:47:42.337028743Z"
    }
   },
   "id": "69e1d704e9f05898",
   "execution_count": 112
  },
  {
   "cell_type": "markdown",
   "source": [
    "Vamos a filtrar todas las carreteras"
   ],
   "metadata": {
    "collapsed": false
   },
   "id": "b06ab4e9947a48ec"
  },
  {
   "cell_type": "code",
   "outputs": [],
   "source": [
    "def path_denomination(path:str):\n",
    "    return path.split()[0].upper().replace(',', '').replace('.', '')"
   ],
   "metadata": {
    "collapsed": false,
    "ExecuteTime": {
     "end_time": "2024-01-11T17:34:44.960615607Z",
     "start_time": "2024-01-11T17:34:44.919037636Z"
    }
   },
   "id": "1b4d422e3f0ea5cb",
   "execution_count": 135
  },
  {
   "cell_type": "code",
   "outputs": [
    {
     "data": {
      "text/plain": "first_word\nCALL        41024\nAVDA        12934\nAUTOV        7212\nPASEO        4690\nPLAZA        2501\n            ...  \nLEONARDO        1\nLATINA          1\nENLACE          1\nRETIRO          1\nZONA            1\nName: localizacion, Length: 343, dtype: int64"
     },
     "execution_count": 136,
     "metadata": {},
     "output_type": "execute_result"
    }
   ],
   "source": [
    "df['first_word'] = df['localizacion'].apply(path_denomination)\n",
    "result = df.groupby('first_word')['localizacion'].count()\n",
    "result.sort_values(ascending=False)"
   ],
   "metadata": {
    "collapsed": false,
    "ExecuteTime": {
     "end_time": "2024-01-11T17:34:46.328215608Z",
     "start_time": "2024-01-11T17:34:46.249697430Z"
    }
   },
   "id": "5fb4c2a1c913bfd3",
   "execution_count": 136
  }
 ],
 "metadata": {
  "kernelspec": {
   "display_name": "Python 3",
   "language": "python",
   "name": "python3"
  },
  "language_info": {
   "codemirror_mode": {
    "name": "ipython",
    "version": 2
   },
   "file_extension": ".py",
   "mimetype": "text/x-python",
   "name": "python",
   "nbconvert_exporter": "python",
   "pygments_lexer": "ipython2",
   "version": "2.7.6"
  }
 },
 "nbformat": 4,
 "nbformat_minor": 5
}
