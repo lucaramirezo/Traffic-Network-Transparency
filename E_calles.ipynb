{
 "cells": [
  {
   "cell_type": "code",
   "execution_count": 2,
   "id": "initial_id",
   "metadata": {
    "collapsed": true,
    "ExecuteTime": {
     "end_time": "2024-01-11T15:32:48.031556272Z",
     "start_time": "2024-01-11T15:32:47.982536059Z"
    }
   },
   "outputs": [],
   "source": [
    "import pandas as pd\n",
    "import numpy as np\n",
    "import re"
   ]
  },
  {
   "cell_type": "code",
   "outputs": [
    {
     "name": "stderr",
     "output_type": "stream",
     "text": [
      "C:\\Users\\Usuario\\AppData\\Local\\Temp\\ipykernel_18060\\2478976544.py:1: DtypeWarning: Columns (15,16) have mixed types. Specify dtype option on import or set low_memory=False.\n",
      "  df = pd.read_csv('./Datasets/Data_Combinada.csv')\n"
     ]
    }
   ],
   "source": [
    "df = pd.read_csv('./Datasets/Data_Combinada.csv')"
   ],
   "metadata": {
    "collapsed": false,
    "ExecuteTime": {
     "end_time": "2024-01-11T15:28:36.584363821Z",
     "start_time": "2024-01-11T15:28:36.261092492Z"
    }
   },
   "id": "a1e57b8c67dd31cb",
   "execution_count": 3
  },
  {
   "cell_type": "code",
   "outputs": [
    {
     "data": {
      "text/plain": "  num_expediente       fecha     hora  \\\n0    2022S000001  01/01/2022  1:30:00   \n1    2022S000001  01/01/2022  1:30:00   \n2    2022S000002  01/01/2022  0:30:00   \n3    2022S000002  01/01/2022  0:30:00   \n4    2022S000002  01/01/2022  0:30:00   \n\n                                 localizacion numero  cod_distrito  \\\n0                          AVDA. ALBUFERA, 19     19          13.0   \n1                          AVDA. ALBUFERA, 19     19          13.0   \n2  PLAZA. CANOVAS DEL CASTILLO / PASEO. PRADO      2           3.0   \n3  PLAZA. CANOVAS DEL CASTILLO / PASEO. PRADO      2           3.0   \n4  PLAZA. CANOVAS DEL CASTILLO / PASEO. PRADO      2           3.0   \n\n             distrito           tipo_accidente estado_meteorológico  \\\n0  PUENTE DE VALLECAS                  Alcance            Despejado   \n1  PUENTE DE VALLECAS                  Alcance            Despejado   \n2              RETIRO  Colisión fronto-lateral                  NaN   \n3              RETIRO  Colisión fronto-lateral                  NaN   \n4              RETIRO  Colisión fronto-lateral                  NaN   \n\n             tipo_vehiculo  ...       rango_edad sexo cod_lesividad  \\\n0                  Turismo  ...  De 30 a 34 años    M           NaN   \n1                  Turismo  ...  De 45 a 49 años    H           NaN   \n2  Motocicleta hasta 125cc  ...  De 30 a 34 años    H           NaN   \n3  Motocicleta hasta 125cc  ...  De 35 a 39 años    M           NaN   \n4                  Turismo  ...  De 40 a 44 años    H           NaN   \n\n   lesividad coordenada_x_utm coordenada_y_utm positiva_alcohol  \\\n0        NaN       443359,226      4472082,272              0.0   \n1        NaN       443359,226      4472082,272              0.0   \n2        NaN       441155,351      4474129,588              1.0   \n3        NaN       441155,351      4474129,588              0.0   \n4        NaN       441155,351      4474129,588              0.0   \n\n   positiva_droga  numero_pasajeros  fugado  \n0             0.0                 2      No  \n1             0.0                 2      No  \n2             0.0                 3      No  \n3             0.0                 3      No  \n4             0.0                 3      No  \n\n[5 rows x 21 columns]",
      "text/html": "<div>\n<style scoped>\n    .dataframe tbody tr th:only-of-type {\n        vertical-align: middle;\n    }\n\n    .dataframe tbody tr th {\n        vertical-align: top;\n    }\n\n    .dataframe thead th {\n        text-align: right;\n    }\n</style>\n<table border=\"1\" class=\"dataframe\">\n  <thead>\n    <tr style=\"text-align: right;\">\n      <th></th>\n      <th>num_expediente</th>\n      <th>fecha</th>\n      <th>hora</th>\n      <th>localizacion</th>\n      <th>numero</th>\n      <th>cod_distrito</th>\n      <th>distrito</th>\n      <th>tipo_accidente</th>\n      <th>estado_meteorológico</th>\n      <th>tipo_vehiculo</th>\n      <th>...</th>\n      <th>rango_edad</th>\n      <th>sexo</th>\n      <th>cod_lesividad</th>\n      <th>lesividad</th>\n      <th>coordenada_x_utm</th>\n      <th>coordenada_y_utm</th>\n      <th>positiva_alcohol</th>\n      <th>positiva_droga</th>\n      <th>numero_pasajeros</th>\n      <th>fugado</th>\n    </tr>\n  </thead>\n  <tbody>\n    <tr>\n      <th>0</th>\n      <td>2022S000001</td>\n      <td>01/01/2022</td>\n      <td>1:30:00</td>\n      <td>AVDA. ALBUFERA, 19</td>\n      <td>19</td>\n      <td>13.0</td>\n      <td>PUENTE DE VALLECAS</td>\n      <td>Alcance</td>\n      <td>Despejado</td>\n      <td>Turismo</td>\n      <td>...</td>\n      <td>De 30 a 34 años</td>\n      <td>M</td>\n      <td>NaN</td>\n      <td>NaN</td>\n      <td>443359,226</td>\n      <td>4472082,272</td>\n      <td>0.0</td>\n      <td>0.0</td>\n      <td>2</td>\n      <td>No</td>\n    </tr>\n    <tr>\n      <th>1</th>\n      <td>2022S000001</td>\n      <td>01/01/2022</td>\n      <td>1:30:00</td>\n      <td>AVDA. ALBUFERA, 19</td>\n      <td>19</td>\n      <td>13.0</td>\n      <td>PUENTE DE VALLECAS</td>\n      <td>Alcance</td>\n      <td>Despejado</td>\n      <td>Turismo</td>\n      <td>...</td>\n      <td>De 45 a 49 años</td>\n      <td>H</td>\n      <td>NaN</td>\n      <td>NaN</td>\n      <td>443359,226</td>\n      <td>4472082,272</td>\n      <td>0.0</td>\n      <td>0.0</td>\n      <td>2</td>\n      <td>No</td>\n    </tr>\n    <tr>\n      <th>2</th>\n      <td>2022S000002</td>\n      <td>01/01/2022</td>\n      <td>0:30:00</td>\n      <td>PLAZA. CANOVAS DEL CASTILLO / PASEO. PRADO</td>\n      <td>2</td>\n      <td>3.0</td>\n      <td>RETIRO</td>\n      <td>Colisión fronto-lateral</td>\n      <td>NaN</td>\n      <td>Motocicleta hasta 125cc</td>\n      <td>...</td>\n      <td>De 30 a 34 años</td>\n      <td>H</td>\n      <td>NaN</td>\n      <td>NaN</td>\n      <td>441155,351</td>\n      <td>4474129,588</td>\n      <td>1.0</td>\n      <td>0.0</td>\n      <td>3</td>\n      <td>No</td>\n    </tr>\n    <tr>\n      <th>3</th>\n      <td>2022S000002</td>\n      <td>01/01/2022</td>\n      <td>0:30:00</td>\n      <td>PLAZA. CANOVAS DEL CASTILLO / PASEO. PRADO</td>\n      <td>2</td>\n      <td>3.0</td>\n      <td>RETIRO</td>\n      <td>Colisión fronto-lateral</td>\n      <td>NaN</td>\n      <td>Motocicleta hasta 125cc</td>\n      <td>...</td>\n      <td>De 35 a 39 años</td>\n      <td>M</td>\n      <td>NaN</td>\n      <td>NaN</td>\n      <td>441155,351</td>\n      <td>4474129,588</td>\n      <td>0.0</td>\n      <td>0.0</td>\n      <td>3</td>\n      <td>No</td>\n    </tr>\n    <tr>\n      <th>4</th>\n      <td>2022S000002</td>\n      <td>01/01/2022</td>\n      <td>0:30:00</td>\n      <td>PLAZA. CANOVAS DEL CASTILLO / PASEO. PRADO</td>\n      <td>2</td>\n      <td>3.0</td>\n      <td>RETIRO</td>\n      <td>Colisión fronto-lateral</td>\n      <td>NaN</td>\n      <td>Turismo</td>\n      <td>...</td>\n      <td>De 40 a 44 años</td>\n      <td>H</td>\n      <td>NaN</td>\n      <td>NaN</td>\n      <td>441155,351</td>\n      <td>4474129,588</td>\n      <td>0.0</td>\n      <td>0.0</td>\n      <td>3</td>\n      <td>No</td>\n    </tr>\n  </tbody>\n</table>\n<p>5 rows × 21 columns</p>\n</div>"
     },
     "execution_count": 4,
     "metadata": {},
     "output_type": "execute_result"
    }
   ],
   "source": [
    "df.head()"
   ],
   "metadata": {
    "collapsed": false,
    "ExecuteTime": {
     "end_time": "2024-01-11T15:29:55.016432658Z",
     "start_time": "2024-01-11T15:29:55.001076699Z"
    }
   },
   "id": "2d9c1c8c2f0d7eba",
   "execution_count": 4
  },
  {
   "cell_type": "code",
   "outputs": [
    {
     "data": {
      "text/plain": "   num_expediente       fecha     hora         localizacion numero  \\\n0     2022S000001  01/01/2022  1:30:00   AVDA. ALBUFERA, 19     19   \n1     2022S000001  01/01/2022  1:30:00   AVDA. ALBUFERA, 19     19   \n30    2022S000015  01/01/2022  7:25:00  AVDA. ENTREVIAS, 94     94   \n31    2022S000015  01/01/2022  7:25:00  AVDA. ENTREVIAS, 94     94   \n32    2022S000015  01/01/2022  7:25:00  AVDA. ENTREVIAS, 94     94   \n\n    cod_distrito            distrito tipo_accidente estado_meteorológico  \\\n0           13.0  PUENTE DE VALLECAS        Alcance            Despejado   \n1           13.0  PUENTE DE VALLECAS        Alcance            Despejado   \n30          13.0  PUENTE DE VALLECAS        Alcance            Despejado   \n31          13.0  PUENTE DE VALLECAS        Alcance            Despejado   \n32          13.0  PUENTE DE VALLECAS        Alcance            Despejado   \n\n   tipo_vehiculo  ...       rango_edad sexo cod_lesividad  \\\n0        Turismo  ...  De 30 a 34 años    M           NaN   \n1        Turismo  ...  De 45 a 49 años    H           NaN   \n30       Turismo  ...  De 35 a 39 años    H           7.0   \n31       Turismo  ...  De 40 a 44 años    H          14.0   \n32       Turismo  ...  De 35 a 39 años    H           7.0   \n\n                                            lesividad coordenada_x_utm  \\\n0                                                 NaN       443359,226   \n1                                                 NaN       443359,226   \n30  Asistencia sanitaria sólo en el lugar del acci...       443634,572   \n31                           Sin asistencia sanitaria       443634,572   \n32  Asistencia sanitaria sólo en el lugar del acci...       443634,572   \n\n   coordenada_y_utm positiva_alcohol  positiva_droga  numero_pasajeros  fugado  \n0       4472082,272              0.0             0.0                 2      No  \n1       4472082,272              0.0             0.0                 2      No  \n30      4469942,483              0.0             0.0                 3      No  \n31      4469942,483              1.0             0.0                 3      No  \n32      4469942,483              0.0             0.0                 3      No  \n\n[5 rows x 21 columns]",
      "text/html": "<div>\n<style scoped>\n    .dataframe tbody tr th:only-of-type {\n        vertical-align: middle;\n    }\n\n    .dataframe tbody tr th {\n        vertical-align: top;\n    }\n\n    .dataframe thead th {\n        text-align: right;\n    }\n</style>\n<table border=\"1\" class=\"dataframe\">\n  <thead>\n    <tr style=\"text-align: right;\">\n      <th></th>\n      <th>num_expediente</th>\n      <th>fecha</th>\n      <th>hora</th>\n      <th>localizacion</th>\n      <th>numero</th>\n      <th>cod_distrito</th>\n      <th>distrito</th>\n      <th>tipo_accidente</th>\n      <th>estado_meteorológico</th>\n      <th>tipo_vehiculo</th>\n      <th>...</th>\n      <th>rango_edad</th>\n      <th>sexo</th>\n      <th>cod_lesividad</th>\n      <th>lesividad</th>\n      <th>coordenada_x_utm</th>\n      <th>coordenada_y_utm</th>\n      <th>positiva_alcohol</th>\n      <th>positiva_droga</th>\n      <th>numero_pasajeros</th>\n      <th>fugado</th>\n    </tr>\n  </thead>\n  <tbody>\n    <tr>\n      <th>0</th>\n      <td>2022S000001</td>\n      <td>01/01/2022</td>\n      <td>1:30:00</td>\n      <td>AVDA. ALBUFERA, 19</td>\n      <td>19</td>\n      <td>13.0</td>\n      <td>PUENTE DE VALLECAS</td>\n      <td>Alcance</td>\n      <td>Despejado</td>\n      <td>Turismo</td>\n      <td>...</td>\n      <td>De 30 a 34 años</td>\n      <td>M</td>\n      <td>NaN</td>\n      <td>NaN</td>\n      <td>443359,226</td>\n      <td>4472082,272</td>\n      <td>0.0</td>\n      <td>0.0</td>\n      <td>2</td>\n      <td>No</td>\n    </tr>\n    <tr>\n      <th>1</th>\n      <td>2022S000001</td>\n      <td>01/01/2022</td>\n      <td>1:30:00</td>\n      <td>AVDA. ALBUFERA, 19</td>\n      <td>19</td>\n      <td>13.0</td>\n      <td>PUENTE DE VALLECAS</td>\n      <td>Alcance</td>\n      <td>Despejado</td>\n      <td>Turismo</td>\n      <td>...</td>\n      <td>De 45 a 49 años</td>\n      <td>H</td>\n      <td>NaN</td>\n      <td>NaN</td>\n      <td>443359,226</td>\n      <td>4472082,272</td>\n      <td>0.0</td>\n      <td>0.0</td>\n      <td>2</td>\n      <td>No</td>\n    </tr>\n    <tr>\n      <th>30</th>\n      <td>2022S000015</td>\n      <td>01/01/2022</td>\n      <td>7:25:00</td>\n      <td>AVDA. ENTREVIAS, 94</td>\n      <td>94</td>\n      <td>13.0</td>\n      <td>PUENTE DE VALLECAS</td>\n      <td>Alcance</td>\n      <td>Despejado</td>\n      <td>Turismo</td>\n      <td>...</td>\n      <td>De 35 a 39 años</td>\n      <td>H</td>\n      <td>7.0</td>\n      <td>Asistencia sanitaria sólo en el lugar del acci...</td>\n      <td>443634,572</td>\n      <td>4469942,483</td>\n      <td>0.0</td>\n      <td>0.0</td>\n      <td>3</td>\n      <td>No</td>\n    </tr>\n    <tr>\n      <th>31</th>\n      <td>2022S000015</td>\n      <td>01/01/2022</td>\n      <td>7:25:00</td>\n      <td>AVDA. ENTREVIAS, 94</td>\n      <td>94</td>\n      <td>13.0</td>\n      <td>PUENTE DE VALLECAS</td>\n      <td>Alcance</td>\n      <td>Despejado</td>\n      <td>Turismo</td>\n      <td>...</td>\n      <td>De 40 a 44 años</td>\n      <td>H</td>\n      <td>14.0</td>\n      <td>Sin asistencia sanitaria</td>\n      <td>443634,572</td>\n      <td>4469942,483</td>\n      <td>1.0</td>\n      <td>0.0</td>\n      <td>3</td>\n      <td>No</td>\n    </tr>\n    <tr>\n      <th>32</th>\n      <td>2022S000015</td>\n      <td>01/01/2022</td>\n      <td>7:25:00</td>\n      <td>AVDA. ENTREVIAS, 94</td>\n      <td>94</td>\n      <td>13.0</td>\n      <td>PUENTE DE VALLECAS</td>\n      <td>Alcance</td>\n      <td>Despejado</td>\n      <td>Turismo</td>\n      <td>...</td>\n      <td>De 35 a 39 años</td>\n      <td>H</td>\n      <td>7.0</td>\n      <td>Asistencia sanitaria sólo en el lugar del acci...</td>\n      <td>443634,572</td>\n      <td>4469942,483</td>\n      <td>0.0</td>\n      <td>0.0</td>\n      <td>3</td>\n      <td>No</td>\n    </tr>\n  </tbody>\n</table>\n<p>5 rows × 21 columns</p>\n</div>"
     },
     "execution_count": 5,
     "metadata": {},
     "output_type": "execute_result"
    }
   ],
   "source": [
    "df_vallecas = df[df['distrito'] == \"PUENTE DE VALLECAS\"].copy()\n",
    "df_vallecas.head()"
   ],
   "metadata": {
    "collapsed": false,
    "ExecuteTime": {
     "end_time": "2024-01-11T15:39:07.533643957Z",
     "start_time": "2024-01-11T15:39:07.451939962Z"
    }
   },
   "id": "d3d48e97d94816ef",
   "execution_count": 5
  },
  {
   "cell_type": "code",
   "outputs": [],
   "source": [
    "def strip_num(string):\n",
    "    return re.sub(r'[\\d,]+', '', string)"
   ],
   "metadata": {
    "collapsed": false,
    "ExecuteTime": {
     "end_time": "2024-01-11T15:40:20.704989168Z",
     "start_time": "2024-01-11T15:40:20.696920183Z"
    }
   },
   "id": "8e0041611da7f4a3",
   "execution_count": 6
  },
  {
   "cell_type": "code",
   "outputs": [],
   "source": [
    "df_vallecas['localizacion'] = df_vallecas['localizacion'].apply(strip_num)"
   ],
   "metadata": {
    "collapsed": false,
    "ExecuteTime": {
     "end_time": "2024-01-11T15:40:23.674007426Z",
     "start_time": "2024-01-11T15:40:23.647752249Z"
    }
   },
   "id": "692024249692c93a",
   "execution_count": 7
  },
  {
   "cell_type": "code",
   "outputs": [
    {
     "data": {
      "text/plain": "   num_expediente       fecha     hora      localizacion numero  cod_distrito  \\\n0     2022S000001  01/01/2022  1:30:00   AVDA. ALBUFERA      19          13.0   \n1     2022S000001  01/01/2022  1:30:00   AVDA. ALBUFERA      19          13.0   \n30    2022S000015  01/01/2022  7:25:00  AVDA. ENTREVIAS      94          13.0   \n31    2022S000015  01/01/2022  7:25:00  AVDA. ENTREVIAS      94          13.0   \n32    2022S000015  01/01/2022  7:25:00  AVDA. ENTREVIAS      94          13.0   \n\n              distrito tipo_accidente estado_meteorológico tipo_vehiculo  ...  \\\n0   PUENTE DE VALLECAS        Alcance            Despejado       Turismo  ...   \n1   PUENTE DE VALLECAS        Alcance            Despejado       Turismo  ...   \n30  PUENTE DE VALLECAS        Alcance            Despejado       Turismo  ...   \n31  PUENTE DE VALLECAS        Alcance            Despejado       Turismo  ...   \n32  PUENTE DE VALLECAS        Alcance            Despejado       Turismo  ...   \n\n         rango_edad sexo cod_lesividad  \\\n0   De 30 a 34 años    M           NaN   \n1   De 45 a 49 años    H           NaN   \n30  De 35 a 39 años    H           7.0   \n31  De 40 a 44 años    H          14.0   \n32  De 35 a 39 años    H           7.0   \n\n                                            lesividad coordenada_x_utm  \\\n0                                                 NaN       443359,226   \n1                                                 NaN       443359,226   \n30  Asistencia sanitaria sólo en el lugar del acci...       443634,572   \n31                           Sin asistencia sanitaria       443634,572   \n32  Asistencia sanitaria sólo en el lugar del acci...       443634,572   \n\n   coordenada_y_utm positiva_alcohol  positiva_droga  numero_pasajeros  fugado  \n0       4472082,272              0.0             0.0                 2      No  \n1       4472082,272              0.0             0.0                 2      No  \n30      4469942,483              0.0             0.0                 3      No  \n31      4469942,483              1.0             0.0                 3      No  \n32      4469942,483              0.0             0.0                 3      No  \n\n[5 rows x 21 columns]",
      "text/html": "<div>\n<style scoped>\n    .dataframe tbody tr th:only-of-type {\n        vertical-align: middle;\n    }\n\n    .dataframe tbody tr th {\n        vertical-align: top;\n    }\n\n    .dataframe thead th {\n        text-align: right;\n    }\n</style>\n<table border=\"1\" class=\"dataframe\">\n  <thead>\n    <tr style=\"text-align: right;\">\n      <th></th>\n      <th>num_expediente</th>\n      <th>fecha</th>\n      <th>hora</th>\n      <th>localizacion</th>\n      <th>numero</th>\n      <th>cod_distrito</th>\n      <th>distrito</th>\n      <th>tipo_accidente</th>\n      <th>estado_meteorológico</th>\n      <th>tipo_vehiculo</th>\n      <th>...</th>\n      <th>rango_edad</th>\n      <th>sexo</th>\n      <th>cod_lesividad</th>\n      <th>lesividad</th>\n      <th>coordenada_x_utm</th>\n      <th>coordenada_y_utm</th>\n      <th>positiva_alcohol</th>\n      <th>positiva_droga</th>\n      <th>numero_pasajeros</th>\n      <th>fugado</th>\n    </tr>\n  </thead>\n  <tbody>\n    <tr>\n      <th>0</th>\n      <td>2022S000001</td>\n      <td>01/01/2022</td>\n      <td>1:30:00</td>\n      <td>AVDA. ALBUFERA</td>\n      <td>19</td>\n      <td>13.0</td>\n      <td>PUENTE DE VALLECAS</td>\n      <td>Alcance</td>\n      <td>Despejado</td>\n      <td>Turismo</td>\n      <td>...</td>\n      <td>De 30 a 34 años</td>\n      <td>M</td>\n      <td>NaN</td>\n      <td>NaN</td>\n      <td>443359,226</td>\n      <td>4472082,272</td>\n      <td>0.0</td>\n      <td>0.0</td>\n      <td>2</td>\n      <td>No</td>\n    </tr>\n    <tr>\n      <th>1</th>\n      <td>2022S000001</td>\n      <td>01/01/2022</td>\n      <td>1:30:00</td>\n      <td>AVDA. ALBUFERA</td>\n      <td>19</td>\n      <td>13.0</td>\n      <td>PUENTE DE VALLECAS</td>\n      <td>Alcance</td>\n      <td>Despejado</td>\n      <td>Turismo</td>\n      <td>...</td>\n      <td>De 45 a 49 años</td>\n      <td>H</td>\n      <td>NaN</td>\n      <td>NaN</td>\n      <td>443359,226</td>\n      <td>4472082,272</td>\n      <td>0.0</td>\n      <td>0.0</td>\n      <td>2</td>\n      <td>No</td>\n    </tr>\n    <tr>\n      <th>30</th>\n      <td>2022S000015</td>\n      <td>01/01/2022</td>\n      <td>7:25:00</td>\n      <td>AVDA. ENTREVIAS</td>\n      <td>94</td>\n      <td>13.0</td>\n      <td>PUENTE DE VALLECAS</td>\n      <td>Alcance</td>\n      <td>Despejado</td>\n      <td>Turismo</td>\n      <td>...</td>\n      <td>De 35 a 39 años</td>\n      <td>H</td>\n      <td>7.0</td>\n      <td>Asistencia sanitaria sólo en el lugar del acci...</td>\n      <td>443634,572</td>\n      <td>4469942,483</td>\n      <td>0.0</td>\n      <td>0.0</td>\n      <td>3</td>\n      <td>No</td>\n    </tr>\n    <tr>\n      <th>31</th>\n      <td>2022S000015</td>\n      <td>01/01/2022</td>\n      <td>7:25:00</td>\n      <td>AVDA. ENTREVIAS</td>\n      <td>94</td>\n      <td>13.0</td>\n      <td>PUENTE DE VALLECAS</td>\n      <td>Alcance</td>\n      <td>Despejado</td>\n      <td>Turismo</td>\n      <td>...</td>\n      <td>De 40 a 44 años</td>\n      <td>H</td>\n      <td>14.0</td>\n      <td>Sin asistencia sanitaria</td>\n      <td>443634,572</td>\n      <td>4469942,483</td>\n      <td>1.0</td>\n      <td>0.0</td>\n      <td>3</td>\n      <td>No</td>\n    </tr>\n    <tr>\n      <th>32</th>\n      <td>2022S000015</td>\n      <td>01/01/2022</td>\n      <td>7:25:00</td>\n      <td>AVDA. ENTREVIAS</td>\n      <td>94</td>\n      <td>13.0</td>\n      <td>PUENTE DE VALLECAS</td>\n      <td>Alcance</td>\n      <td>Despejado</td>\n      <td>Turismo</td>\n      <td>...</td>\n      <td>De 35 a 39 años</td>\n      <td>H</td>\n      <td>7.0</td>\n      <td>Asistencia sanitaria sólo en el lugar del acci...</td>\n      <td>443634,572</td>\n      <td>4469942,483</td>\n      <td>0.0</td>\n      <td>0.0</td>\n      <td>3</td>\n      <td>No</td>\n    </tr>\n  </tbody>\n</table>\n<p>5 rows × 21 columns</p>\n</div>"
     },
     "execution_count": 8,
     "metadata": {},
     "output_type": "execute_result"
    }
   ],
   "source": [
    "df_vallecas.head()"
   ],
   "metadata": {
    "collapsed": false,
    "ExecuteTime": {
     "end_time": "2024-01-11T15:40:25.316560584Z",
     "start_time": "2024-01-11T15:40:25.260407716Z"
    }
   },
   "id": "e38d723c755e95a7",
   "execution_count": 8
  },
  {
   "cell_type": "code",
   "outputs": [
    {
     "data": {
      "text/plain": "                                            num_expediente  fecha  hora  \\\nlocalizacion                                                              \nAVDA. ALBUFERA                                         317    317   317   \nAUTOV. M- +E                                           123    123   123   \nAVDA. ENTREVIAS                                        115    115   115   \nAVDA. PABLO NERUDA                                      88     88    88   \nAVDA. ALBUFERA / AUTOV. M-                              82     82    82   \n...                                                    ...    ...   ...   \nAVDA. PABLO NERUDA G                                     1      1     1   \nCALL. SIERRA DE ALQUIFE / PUERTO DE ARLA                 1      1     1   \nAVDA. PABLO NERUDA / CALL. LEONESES                      1      1     1   \nCALL. SIERRA DE CADI / AVDA. ALBUFERA                    1      1     1   \nCALL. DOCTOR LOZANO / CALL. PICO CUADRAMON               1      1     1   \n\n                                            numero  cod_distrito  distrito  \\\nlocalizacion                                                                 \nAVDA. ALBUFERA                                 317           317       317   \nAUTOV. M- +E                                   123           123       123   \nAVDA. ENTREVIAS                                115           115       115   \nAVDA. PABLO NERUDA                              88            88        88   \nAVDA. ALBUFERA / AUTOV. M-                      82            82        82   \n...                                            ...           ...       ...   \nAVDA. PABLO NERUDA G                             1             1         1   \nCALL. SIERRA DE ALQUIFE / PUERTO DE ARLA         1             1         1   \nAVDA. PABLO NERUDA / CALL. LEONESES              1             1         1   \nCALL. SIERRA DE CADI / AVDA. ALBUFERA            1             1         1   \nCALL. DOCTOR LOZANO / CALL. PICO CUADRAMON       1             1         1   \n\n                                            tipo_accidente  \\\nlocalizacion                                                 \nAVDA. ALBUFERA                                         317   \nAUTOV. M- +E                                           123   \nAVDA. ENTREVIAS                                        115   \nAVDA. PABLO NERUDA                                      88   \nAVDA. ALBUFERA / AUTOV. M-                              82   \n...                                                    ...   \nAVDA. PABLO NERUDA G                                     1   \nCALL. SIERRA DE ALQUIFE / PUERTO DE ARLA                 1   \nAVDA. PABLO NERUDA / CALL. LEONESES                      1   \nCALL. SIERRA DE CADI / AVDA. ALBUFERA                    1   \nCALL. DOCTOR LOZANO / CALL. PICO CUADRAMON               1   \n\n                                            estado_meteorológico  \\\nlocalizacion                                                       \nAVDA. ALBUFERA                                               272   \nAUTOV. M- +E                                                 109   \nAVDA. ENTREVIAS                                              101   \nAVDA. PABLO NERUDA                                            75   \nAVDA. ALBUFERA / AUTOV. M-                                    75   \n...                                                          ...   \nAVDA. PABLO NERUDA G                                           0   \nCALL. SIERRA DE ALQUIFE / PUERTO DE ARLA                       1   \nAVDA. PABLO NERUDA / CALL. LEONESES                            0   \nCALL. SIERRA DE CADI / AVDA. ALBUFERA                          0   \nCALL. DOCTOR LOZANO / CALL. PICO CUADRAMON                     1   \n\n                                            tipo_vehiculo  tipo_persona  \\\nlocalizacion                                                              \nAVDA. ALBUFERA                                        315           317   \nAUTOV. M- +E                                          122           123   \nAVDA. ENTREVIAS                                       115           115   \nAVDA. PABLO NERUDA                                     88            88   \nAVDA. ALBUFERA / AUTOV. M-                             81            82   \n...                                                   ...           ...   \nAVDA. PABLO NERUDA G                                    1             1   \nCALL. SIERRA DE ALQUIFE / PUERTO DE ARLA                1             1   \nAVDA. PABLO NERUDA / CALL. LEONESES                     1             1   \nCALL. SIERRA DE CADI / AVDA. ALBUFERA                   1             1   \nCALL. DOCTOR LOZANO / CALL. PICO CUADRAMON              1             1   \n\n                                            rango_edad  sexo  cod_lesividad  \\\nlocalizacion                                                                  \nAVDA. ALBUFERA                                     317   317            185   \nAUTOV. M- +E                                       123   123             60   \nAVDA. ENTREVIAS                                    115   115             75   \nAVDA. PABLO NERUDA                                  88    88             48   \nAVDA. ALBUFERA / AUTOV. M-                          82    82             28   \n...                                                ...   ...            ...   \nAVDA. PABLO NERUDA G                                 1     1              0   \nCALL. SIERRA DE ALQUIFE / PUERTO DE ARLA             1     1              0   \nAVDA. PABLO NERUDA / CALL. LEONESES                  1     1              0   \nCALL. SIERRA DE CADI / AVDA. ALBUFERA                1     1              0   \nCALL. DOCTOR LOZANO / CALL. PICO CUADRAMON           1     1              0   \n\n                                            lesividad  coordenada_x_utm  \\\nlocalizacion                                                              \nAVDA. ALBUFERA                                    185               317   \nAUTOV. M- +E                                       60               123   \nAVDA. ENTREVIAS                                    75               115   \nAVDA. PABLO NERUDA                                 48                88   \nAVDA. ALBUFERA / AUTOV. M-                         28                82   \n...                                               ...               ...   \nAVDA. PABLO NERUDA G                                0                 1   \nCALL. SIERRA DE ALQUIFE / PUERTO DE ARLA            0                 1   \nAVDA. PABLO NERUDA / CALL. LEONESES                 0                 1   \nCALL. SIERRA DE CADI / AVDA. ALBUFERA               0                 1   \nCALL. DOCTOR LOZANO / CALL. PICO CUADRAMON          0                 1   \n\n                                            coordenada_y_utm  \\\nlocalizacion                                                   \nAVDA. ALBUFERA                                           317   \nAUTOV. M- +E                                             123   \nAVDA. ENTREVIAS                                          115   \nAVDA. PABLO NERUDA                                        88   \nAVDA. ALBUFERA / AUTOV. M-                                82   \n...                                                      ...   \nAVDA. PABLO NERUDA G                                       1   \nCALL. SIERRA DE ALQUIFE / PUERTO DE ARLA                   1   \nAVDA. PABLO NERUDA / CALL. LEONESES                        1   \nCALL. SIERRA DE CADI / AVDA. ALBUFERA                      1   \nCALL. DOCTOR LOZANO / CALL. PICO CUADRAMON                 1   \n\n                                            positiva_alcohol  positiva_droga  \\\nlocalizacion                                                                   \nAVDA. ALBUFERA                                           317             317   \nAUTOV. M- +E                                             123             123   \nAVDA. ENTREVIAS                                          115             115   \nAVDA. PABLO NERUDA                                        88              88   \nAVDA. ALBUFERA / AUTOV. M-                                82              82   \n...                                                      ...             ...   \nAVDA. PABLO NERUDA G                                       1               1   \nCALL. SIERRA DE ALQUIFE / PUERTO DE ARLA                   1               1   \nAVDA. PABLO NERUDA / CALL. LEONESES                        1               1   \nCALL. SIERRA DE CADI / AVDA. ALBUFERA                      1               1   \nCALL. DOCTOR LOZANO / CALL. PICO CUADRAMON                 1               1   \n\n                                            numero_pasajeros  fugado  \nlocalizacion                                                          \nAVDA. ALBUFERA                                           317     317  \nAUTOV. M- +E                                             123     123  \nAVDA. ENTREVIAS                                          115     115  \nAVDA. PABLO NERUDA                                        88      88  \nAVDA. ALBUFERA / AUTOV. M-                                82      82  \n...                                                      ...     ...  \nAVDA. PABLO NERUDA G                                       1       1  \nCALL. SIERRA DE ALQUIFE / PUERTO DE ARLA                   1       1  \nAVDA. PABLO NERUDA / CALL. LEONESES                        1       1  \nCALL. SIERRA DE CADI / AVDA. ALBUFERA                      1       1  \nCALL. DOCTOR LOZANO / CALL. PICO CUADRAMON                 1       1  \n\n[1228 rows x 20 columns]",
      "text/html": "<div>\n<style scoped>\n    .dataframe tbody tr th:only-of-type {\n        vertical-align: middle;\n    }\n\n    .dataframe tbody tr th {\n        vertical-align: top;\n    }\n\n    .dataframe thead th {\n        text-align: right;\n    }\n</style>\n<table border=\"1\" class=\"dataframe\">\n  <thead>\n    <tr style=\"text-align: right;\">\n      <th></th>\n      <th>num_expediente</th>\n      <th>fecha</th>\n      <th>hora</th>\n      <th>numero</th>\n      <th>cod_distrito</th>\n      <th>distrito</th>\n      <th>tipo_accidente</th>\n      <th>estado_meteorológico</th>\n      <th>tipo_vehiculo</th>\n      <th>tipo_persona</th>\n      <th>rango_edad</th>\n      <th>sexo</th>\n      <th>cod_lesividad</th>\n      <th>lesividad</th>\n      <th>coordenada_x_utm</th>\n      <th>coordenada_y_utm</th>\n      <th>positiva_alcohol</th>\n      <th>positiva_droga</th>\n      <th>numero_pasajeros</th>\n      <th>fugado</th>\n    </tr>\n    <tr>\n      <th>localizacion</th>\n      <th></th>\n      <th></th>\n      <th></th>\n      <th></th>\n      <th></th>\n      <th></th>\n      <th></th>\n      <th></th>\n      <th></th>\n      <th></th>\n      <th></th>\n      <th></th>\n      <th></th>\n      <th></th>\n      <th></th>\n      <th></th>\n      <th></th>\n      <th></th>\n      <th></th>\n      <th></th>\n    </tr>\n  </thead>\n  <tbody>\n    <tr>\n      <th>AVDA. ALBUFERA</th>\n      <td>317</td>\n      <td>317</td>\n      <td>317</td>\n      <td>317</td>\n      <td>317</td>\n      <td>317</td>\n      <td>317</td>\n      <td>272</td>\n      <td>315</td>\n      <td>317</td>\n      <td>317</td>\n      <td>317</td>\n      <td>185</td>\n      <td>185</td>\n      <td>317</td>\n      <td>317</td>\n      <td>317</td>\n      <td>317</td>\n      <td>317</td>\n      <td>317</td>\n    </tr>\n    <tr>\n      <th>AUTOV. M- +E</th>\n      <td>123</td>\n      <td>123</td>\n      <td>123</td>\n      <td>123</td>\n      <td>123</td>\n      <td>123</td>\n      <td>123</td>\n      <td>109</td>\n      <td>122</td>\n      <td>123</td>\n      <td>123</td>\n      <td>123</td>\n      <td>60</td>\n      <td>60</td>\n      <td>123</td>\n      <td>123</td>\n      <td>123</td>\n      <td>123</td>\n      <td>123</td>\n      <td>123</td>\n    </tr>\n    <tr>\n      <th>AVDA. ENTREVIAS</th>\n      <td>115</td>\n      <td>115</td>\n      <td>115</td>\n      <td>115</td>\n      <td>115</td>\n      <td>115</td>\n      <td>115</td>\n      <td>101</td>\n      <td>115</td>\n      <td>115</td>\n      <td>115</td>\n      <td>115</td>\n      <td>75</td>\n      <td>75</td>\n      <td>115</td>\n      <td>115</td>\n      <td>115</td>\n      <td>115</td>\n      <td>115</td>\n      <td>115</td>\n    </tr>\n    <tr>\n      <th>AVDA. PABLO NERUDA</th>\n      <td>88</td>\n      <td>88</td>\n      <td>88</td>\n      <td>88</td>\n      <td>88</td>\n      <td>88</td>\n      <td>88</td>\n      <td>75</td>\n      <td>88</td>\n      <td>88</td>\n      <td>88</td>\n      <td>88</td>\n      <td>48</td>\n      <td>48</td>\n      <td>88</td>\n      <td>88</td>\n      <td>88</td>\n      <td>88</td>\n      <td>88</td>\n      <td>88</td>\n    </tr>\n    <tr>\n      <th>AVDA. ALBUFERA / AUTOV. M-</th>\n      <td>82</td>\n      <td>82</td>\n      <td>82</td>\n      <td>82</td>\n      <td>82</td>\n      <td>82</td>\n      <td>82</td>\n      <td>75</td>\n      <td>81</td>\n      <td>82</td>\n      <td>82</td>\n      <td>82</td>\n      <td>28</td>\n      <td>28</td>\n      <td>82</td>\n      <td>82</td>\n      <td>82</td>\n      <td>82</td>\n      <td>82</td>\n      <td>82</td>\n    </tr>\n    <tr>\n      <th>...</th>\n      <td>...</td>\n      <td>...</td>\n      <td>...</td>\n      <td>...</td>\n      <td>...</td>\n      <td>...</td>\n      <td>...</td>\n      <td>...</td>\n      <td>...</td>\n      <td>...</td>\n      <td>...</td>\n      <td>...</td>\n      <td>...</td>\n      <td>...</td>\n      <td>...</td>\n      <td>...</td>\n      <td>...</td>\n      <td>...</td>\n      <td>...</td>\n      <td>...</td>\n    </tr>\n    <tr>\n      <th>AVDA. PABLO NERUDA G</th>\n      <td>1</td>\n      <td>1</td>\n      <td>1</td>\n      <td>1</td>\n      <td>1</td>\n      <td>1</td>\n      <td>1</td>\n      <td>0</td>\n      <td>1</td>\n      <td>1</td>\n      <td>1</td>\n      <td>1</td>\n      <td>0</td>\n      <td>0</td>\n      <td>1</td>\n      <td>1</td>\n      <td>1</td>\n      <td>1</td>\n      <td>1</td>\n      <td>1</td>\n    </tr>\n    <tr>\n      <th>CALL. SIERRA DE ALQUIFE / PUERTO DE ARLA</th>\n      <td>1</td>\n      <td>1</td>\n      <td>1</td>\n      <td>1</td>\n      <td>1</td>\n      <td>1</td>\n      <td>1</td>\n      <td>1</td>\n      <td>1</td>\n      <td>1</td>\n      <td>1</td>\n      <td>1</td>\n      <td>0</td>\n      <td>0</td>\n      <td>1</td>\n      <td>1</td>\n      <td>1</td>\n      <td>1</td>\n      <td>1</td>\n      <td>1</td>\n    </tr>\n    <tr>\n      <th>AVDA. PABLO NERUDA / CALL. LEONESES</th>\n      <td>1</td>\n      <td>1</td>\n      <td>1</td>\n      <td>1</td>\n      <td>1</td>\n      <td>1</td>\n      <td>1</td>\n      <td>0</td>\n      <td>1</td>\n      <td>1</td>\n      <td>1</td>\n      <td>1</td>\n      <td>0</td>\n      <td>0</td>\n      <td>1</td>\n      <td>1</td>\n      <td>1</td>\n      <td>1</td>\n      <td>1</td>\n      <td>1</td>\n    </tr>\n    <tr>\n      <th>CALL. SIERRA DE CADI / AVDA. ALBUFERA</th>\n      <td>1</td>\n      <td>1</td>\n      <td>1</td>\n      <td>1</td>\n      <td>1</td>\n      <td>1</td>\n      <td>1</td>\n      <td>0</td>\n      <td>1</td>\n      <td>1</td>\n      <td>1</td>\n      <td>1</td>\n      <td>0</td>\n      <td>0</td>\n      <td>1</td>\n      <td>1</td>\n      <td>1</td>\n      <td>1</td>\n      <td>1</td>\n      <td>1</td>\n    </tr>\n    <tr>\n      <th>CALL. DOCTOR LOZANO / CALL. PICO CUADRAMON</th>\n      <td>1</td>\n      <td>1</td>\n      <td>1</td>\n      <td>1</td>\n      <td>1</td>\n      <td>1</td>\n      <td>1</td>\n      <td>1</td>\n      <td>1</td>\n      <td>1</td>\n      <td>1</td>\n      <td>1</td>\n      <td>0</td>\n      <td>0</td>\n      <td>1</td>\n      <td>1</td>\n      <td>1</td>\n      <td>1</td>\n      <td>1</td>\n      <td>1</td>\n    </tr>\n  </tbody>\n</table>\n<p>1228 rows × 20 columns</p>\n</div>"
     },
     "execution_count": 9,
     "metadata": {},
     "output_type": "execute_result"
    }
   ],
   "source": [
    "(df_vallecas.groupby('localizacion').count().sort_values(by='num_expediente', ascending=False))"
   ],
   "metadata": {
    "collapsed": false,
    "ExecuteTime": {
     "end_time": "2024-01-11T15:42:03.409911950Z",
     "start_time": "2024-01-11T15:42:03.363335985Z"
    }
   },
   "id": "46a9613287387345",
   "execution_count": 9
  },
  {
   "cell_type": "markdown",
   "source": [
    "Miramos los accidentes en el cuartil más alto del distrito con más accidentes"
   ],
   "metadata": {
    "collapsed": false
   },
   "id": "4e6ab1a7ff196029"
  },
  {
   "cell_type": "code",
   "outputs": [],
   "source": [
    "df_grouped = df_vallecas.groupby('localizacion').count()\n",
    "counts = df_grouped['num_expediente']\n",
    "\n",
    "Q1 = counts.quantile(0.25)\n",
    "Q3 = counts.quantile(0.75)\n",
    "\n",
    "IQR = Q3 - Q1\n",
    "\n",
    "lower_bound = Q1 - 1.5 * IQR\n",
    "upper_bound = Q3 + 1.5 * IQR\n",
    "\n",
    "outliers = counts[(counts < lower_bound) | (counts > upper_bound)]\n",
    "\n",
    "percentile_95 = counts.quantile(0.95)\n",
    "\n",
    "top_5_percent_df = df_grouped[df_grouped['num_expediente'] >= percentile_95].reset_index()\n",
    "\n",
    "top_5_percent_df = top_5_percent_df.sort_values(by=['num_expediente'], ascending=False)"
   ],
   "metadata": {
    "collapsed": false,
    "ExecuteTime": {
     "end_time": "2024-01-11T15:56:46.432560251Z",
     "start_time": "2024-01-11T15:56:46.406661739Z"
    }
   },
   "id": "183ca4439691a397",
   "execution_count": 10
  },
  {
   "cell_type": "markdown",
   "source": [
    "Vamos a ver donde se concentran los accidentes, mirando ahora la imagen completa, con el número de calle, y los tipos de accidentes"
   ],
   "metadata": {
    "collapsed": false
   },
   "id": "5182b542dae2d039"
  },
  {
   "cell_type": "code",
   "outputs": [
    {
     "data": {
      "text/plain": "      num_expediente       fecha      hora        localizacion   numero  \\\n26493    2022S022610  02/08/2022  18:10:00        AUTOV. A- +E  +00400E   \n13166    2022S011020  20/04/2022  18:15:00        AUTOV. A- +E  +00500E   \n31734    2022S027913  26/09/2022   7:00:00        AUTOV. A- +E  +00500E   \n31733    2022S027913  26/09/2022   7:00:00        AUTOV. A- +E  +00500E   \n31732    2022S027913  26/09/2022   7:00:00        AUTOV. A- +E  +00500E   \n...              ...         ...       ...                 ...      ...   \n39301    2022S035733  21/11/2022   9:15:00  CMNO. VALDERRIBAS       120   \n49243    2023S003225  03/02/2023   8:15:00  CMNO. VALDERRIBAS       113   \n58049    2023S015043  12/04/2023  20:30:00  CMNO. VALDERRIBAS        99   \n58047    2023S015043  12/04/2023  20:30:00  CMNO. VALDERRIBAS        99   \n73453    2023S027263  12/08/2023   1:25:00  CMNO. VALDERRIBAS       113   \n\n       cod_distrito            distrito                tipo_accidente  \\\n26493          13.0  PUENTE DE VALLECAS             Colisión múltiple   \n13166          13.0  PUENTE DE VALLECAS                       Alcance   \n31734          13.0  PUENTE DE VALLECAS                       Alcance   \n31733          13.0  PUENTE DE VALLECAS                       Alcance   \n31732          13.0  PUENTE DE VALLECAS                       Alcance   \n...             ...                 ...                           ...   \n39301          13.0  PUENTE DE VALLECAS              Colisión lateral   \n49243          13.0  PUENTE DE VALLECAS                       Alcance   \n58049          13.0  PUENTE DE VALLECAS  Choque contra obstáculo fijo   \n58047          13.0  PUENTE DE VALLECAS  Choque contra obstáculo fijo   \n73453          13.0  PUENTE DE VALLECAS  Choque contra obstáculo fijo   \n\n      estado_meteorológico  tipo_vehiculo  ...       rango_edad sexo  \\\n26493                  NaN        Turismo  ...  De 45 a 49 años    H   \n13166            Despejado        Turismo  ...  De 30 a 34 años    H   \n31734            Despejado        Turismo  ...  De 45 a 49 años    M   \n31733            Despejado        Turismo  ...  De 50 a 54 años    H   \n31732            Despejado  Camión rígido  ...  De 40 a 44 años    H   \n...                    ...            ...  ...              ...  ...   \n39301              Nublado        Turismo  ...  De 30 a 34 años    H   \n49243                  NaN        Turismo  ...  De 40 a 44 años    M   \n58049              Nublado      Furgoneta  ...  De 55 a 59 años    H   \n58047              Nublado      Furgoneta  ...  De 55 a 59 años    H   \n73453            Despejado        Turismo  ...      Desconocido    H   \n\n      cod_lesividad                                          lesividad  \\\n26493           NaN                                                NaN   \n13166          14.0                           Sin asistencia sanitaria   \n31734           NaN                                                NaN   \n31733           NaN                                                NaN   \n31732           NaN                                                NaN   \n...             ...                                                ...   \n39301           NaN                                                NaN   \n49243           NaN                                                NaN   \n58049          14.0                           Sin asistencia sanitaria   \n58047           7.0  Asistencia sanitaria sólo en el lugar del acci...   \n73453           NaN                                                NaN   \n\n      coordenada_x_utm coordenada_y_utm positiva_alcohol  positiva_droga  \\\n26493       441976,313      4469760,365              0.0             0.0   \n13166       442028,358      4469677,005              0.0             0.0   \n31734       442086,031      4469589,003              0.0             0.0   \n31733       442086,031      4469589,003              0.0             0.0   \n31732       442086,031      4469589,003              0.0             0.0   \n...                ...              ...              ...             ...   \n39301       444150,018       4471900,63              0.0             0.0   \n49243       444239.418      4471771.265              0.0             0.0   \n58049       444071.691      4472239.309              0.0             0.0   \n58047       444071.691      4472239.309              0.0             0.0   \n73453       444238.598      4471773.203              0.0             0.0   \n\n       numero_pasajeros  fugado  \n26493                 3      No  \n13166                 5      No  \n31734                 3      No  \n31733                 3      No  \n31732                 3      No  \n...                 ...     ...  \n39301                 2      No  \n49243                 2      No  \n58049                 5      No  \n58047                 5      No  \n73453                 2      No  \n\n[2189 rows x 21 columns]",
      "text/html": "<div>\n<style scoped>\n    .dataframe tbody tr th:only-of-type {\n        vertical-align: middle;\n    }\n\n    .dataframe tbody tr th {\n        vertical-align: top;\n    }\n\n    .dataframe thead th {\n        text-align: right;\n    }\n</style>\n<table border=\"1\" class=\"dataframe\">\n  <thead>\n    <tr style=\"text-align: right;\">\n      <th></th>\n      <th>num_expediente</th>\n      <th>fecha</th>\n      <th>hora</th>\n      <th>localizacion</th>\n      <th>numero</th>\n      <th>cod_distrito</th>\n      <th>distrito</th>\n      <th>tipo_accidente</th>\n      <th>estado_meteorológico</th>\n      <th>tipo_vehiculo</th>\n      <th>...</th>\n      <th>rango_edad</th>\n      <th>sexo</th>\n      <th>cod_lesividad</th>\n      <th>lesividad</th>\n      <th>coordenada_x_utm</th>\n      <th>coordenada_y_utm</th>\n      <th>positiva_alcohol</th>\n      <th>positiva_droga</th>\n      <th>numero_pasajeros</th>\n      <th>fugado</th>\n    </tr>\n  </thead>\n  <tbody>\n    <tr>\n      <th>26493</th>\n      <td>2022S022610</td>\n      <td>02/08/2022</td>\n      <td>18:10:00</td>\n      <td>AUTOV. A- +E</td>\n      <td>+00400E</td>\n      <td>13.0</td>\n      <td>PUENTE DE VALLECAS</td>\n      <td>Colisión múltiple</td>\n      <td>NaN</td>\n      <td>Turismo</td>\n      <td>...</td>\n      <td>De 45 a 49 años</td>\n      <td>H</td>\n      <td>NaN</td>\n      <td>NaN</td>\n      <td>441976,313</td>\n      <td>4469760,365</td>\n      <td>0.0</td>\n      <td>0.0</td>\n      <td>3</td>\n      <td>No</td>\n    </tr>\n    <tr>\n      <th>13166</th>\n      <td>2022S011020</td>\n      <td>20/04/2022</td>\n      <td>18:15:00</td>\n      <td>AUTOV. A- +E</td>\n      <td>+00500E</td>\n      <td>13.0</td>\n      <td>PUENTE DE VALLECAS</td>\n      <td>Alcance</td>\n      <td>Despejado</td>\n      <td>Turismo</td>\n      <td>...</td>\n      <td>De 30 a 34 años</td>\n      <td>H</td>\n      <td>14.0</td>\n      <td>Sin asistencia sanitaria</td>\n      <td>442028,358</td>\n      <td>4469677,005</td>\n      <td>0.0</td>\n      <td>0.0</td>\n      <td>5</td>\n      <td>No</td>\n    </tr>\n    <tr>\n      <th>31734</th>\n      <td>2022S027913</td>\n      <td>26/09/2022</td>\n      <td>7:00:00</td>\n      <td>AUTOV. A- +E</td>\n      <td>+00500E</td>\n      <td>13.0</td>\n      <td>PUENTE DE VALLECAS</td>\n      <td>Alcance</td>\n      <td>Despejado</td>\n      <td>Turismo</td>\n      <td>...</td>\n      <td>De 45 a 49 años</td>\n      <td>M</td>\n      <td>NaN</td>\n      <td>NaN</td>\n      <td>442086,031</td>\n      <td>4469589,003</td>\n      <td>0.0</td>\n      <td>0.0</td>\n      <td>3</td>\n      <td>No</td>\n    </tr>\n    <tr>\n      <th>31733</th>\n      <td>2022S027913</td>\n      <td>26/09/2022</td>\n      <td>7:00:00</td>\n      <td>AUTOV. A- +E</td>\n      <td>+00500E</td>\n      <td>13.0</td>\n      <td>PUENTE DE VALLECAS</td>\n      <td>Alcance</td>\n      <td>Despejado</td>\n      <td>Turismo</td>\n      <td>...</td>\n      <td>De 50 a 54 años</td>\n      <td>H</td>\n      <td>NaN</td>\n      <td>NaN</td>\n      <td>442086,031</td>\n      <td>4469589,003</td>\n      <td>0.0</td>\n      <td>0.0</td>\n      <td>3</td>\n      <td>No</td>\n    </tr>\n    <tr>\n      <th>31732</th>\n      <td>2022S027913</td>\n      <td>26/09/2022</td>\n      <td>7:00:00</td>\n      <td>AUTOV. A- +E</td>\n      <td>+00500E</td>\n      <td>13.0</td>\n      <td>PUENTE DE VALLECAS</td>\n      <td>Alcance</td>\n      <td>Despejado</td>\n      <td>Camión rígido</td>\n      <td>...</td>\n      <td>De 40 a 44 años</td>\n      <td>H</td>\n      <td>NaN</td>\n      <td>NaN</td>\n      <td>442086,031</td>\n      <td>4469589,003</td>\n      <td>0.0</td>\n      <td>0.0</td>\n      <td>3</td>\n      <td>No</td>\n    </tr>\n    <tr>\n      <th>...</th>\n      <td>...</td>\n      <td>...</td>\n      <td>...</td>\n      <td>...</td>\n      <td>...</td>\n      <td>...</td>\n      <td>...</td>\n      <td>...</td>\n      <td>...</td>\n      <td>...</td>\n      <td>...</td>\n      <td>...</td>\n      <td>...</td>\n      <td>...</td>\n      <td>...</td>\n      <td>...</td>\n      <td>...</td>\n      <td>...</td>\n      <td>...</td>\n      <td>...</td>\n      <td>...</td>\n    </tr>\n    <tr>\n      <th>39301</th>\n      <td>2022S035733</td>\n      <td>21/11/2022</td>\n      <td>9:15:00</td>\n      <td>CMNO. VALDERRIBAS</td>\n      <td>120</td>\n      <td>13.0</td>\n      <td>PUENTE DE VALLECAS</td>\n      <td>Colisión lateral</td>\n      <td>Nublado</td>\n      <td>Turismo</td>\n      <td>...</td>\n      <td>De 30 a 34 años</td>\n      <td>H</td>\n      <td>NaN</td>\n      <td>NaN</td>\n      <td>444150,018</td>\n      <td>4471900,63</td>\n      <td>0.0</td>\n      <td>0.0</td>\n      <td>2</td>\n      <td>No</td>\n    </tr>\n    <tr>\n      <th>49243</th>\n      <td>2023S003225</td>\n      <td>03/02/2023</td>\n      <td>8:15:00</td>\n      <td>CMNO. VALDERRIBAS</td>\n      <td>113</td>\n      <td>13.0</td>\n      <td>PUENTE DE VALLECAS</td>\n      <td>Alcance</td>\n      <td>NaN</td>\n      <td>Turismo</td>\n      <td>...</td>\n      <td>De 40 a 44 años</td>\n      <td>M</td>\n      <td>NaN</td>\n      <td>NaN</td>\n      <td>444239.418</td>\n      <td>4471771.265</td>\n      <td>0.0</td>\n      <td>0.0</td>\n      <td>2</td>\n      <td>No</td>\n    </tr>\n    <tr>\n      <th>58049</th>\n      <td>2023S015043</td>\n      <td>12/04/2023</td>\n      <td>20:30:00</td>\n      <td>CMNO. VALDERRIBAS</td>\n      <td>99</td>\n      <td>13.0</td>\n      <td>PUENTE DE VALLECAS</td>\n      <td>Choque contra obstáculo fijo</td>\n      <td>Nublado</td>\n      <td>Furgoneta</td>\n      <td>...</td>\n      <td>De 55 a 59 años</td>\n      <td>H</td>\n      <td>14.0</td>\n      <td>Sin asistencia sanitaria</td>\n      <td>444071.691</td>\n      <td>4472239.309</td>\n      <td>0.0</td>\n      <td>0.0</td>\n      <td>5</td>\n      <td>No</td>\n    </tr>\n    <tr>\n      <th>58047</th>\n      <td>2023S015043</td>\n      <td>12/04/2023</td>\n      <td>20:30:00</td>\n      <td>CMNO. VALDERRIBAS</td>\n      <td>99</td>\n      <td>13.0</td>\n      <td>PUENTE DE VALLECAS</td>\n      <td>Choque contra obstáculo fijo</td>\n      <td>Nublado</td>\n      <td>Furgoneta</td>\n      <td>...</td>\n      <td>De 55 a 59 años</td>\n      <td>H</td>\n      <td>7.0</td>\n      <td>Asistencia sanitaria sólo en el lugar del acci...</td>\n      <td>444071.691</td>\n      <td>4472239.309</td>\n      <td>0.0</td>\n      <td>0.0</td>\n      <td>5</td>\n      <td>No</td>\n    </tr>\n    <tr>\n      <th>73453</th>\n      <td>2023S027263</td>\n      <td>12/08/2023</td>\n      <td>1:25:00</td>\n      <td>CMNO. VALDERRIBAS</td>\n      <td>113</td>\n      <td>13.0</td>\n      <td>PUENTE DE VALLECAS</td>\n      <td>Choque contra obstáculo fijo</td>\n      <td>Despejado</td>\n      <td>Turismo</td>\n      <td>...</td>\n      <td>Desconocido</td>\n      <td>H</td>\n      <td>NaN</td>\n      <td>NaN</td>\n      <td>444238.598</td>\n      <td>4471773.203</td>\n      <td>0.0</td>\n      <td>0.0</td>\n      <td>2</td>\n      <td>No</td>\n    </tr>\n  </tbody>\n</table>\n<p>2189 rows × 21 columns</p>\n</div>"
     },
     "execution_count": 11,
     "metadata": {},
     "output_type": "execute_result"
    }
   ],
   "source": [
    "filtered_df_vallecas = df_vallecas[df_vallecas['localizacion'].isin(top_5_percent_df['localizacion'])].copy()\n",
    "filtered_df_vallecas.sort_values(by=['localizacion'])"
   ],
   "metadata": {
    "collapsed": false,
    "ExecuteTime": {
     "end_time": "2024-01-11T16:34:58.720944633Z",
     "start_time": "2024-01-11T16:34:58.633226743Z"
    }
   },
   "id": "477730ae5c14b1a4",
   "execution_count": 11
  },
  {
   "cell_type": "code",
   "outputs": [],
   "source": [
    "filtered_df_vallecas['coordenada_x_utm'] = pd.to_numeric(filtered_df_vallecas['coordenada_x_utm'].str.replace(',', '.'), errors='coerce')\n",
    "filtered_df_vallecas['coordenada_y_utm'] = pd.to_numeric(filtered_df_vallecas['coordenada_y_utm'].str.replace(',', '.'), errors='coerce')\n",
    "\n",
    "filtered_df_vallecas.dropna(subset=['coordenada_x_utm', 'coordenada_y_utm'], inplace=True)"
   ],
   "metadata": {
    "collapsed": false,
    "ExecuteTime": {
     "end_time": "2024-01-11T16:35:00.762423627Z",
     "start_time": "2024-01-11T16:35:00.723195602Z"
    }
   },
   "id": "99f703f548093aab",
   "execution_count": 12
  },
  {
   "cell_type": "code",
   "outputs": [
    {
     "data": {
      "text/plain": "      num_expediente       fecha      hora                localizacion numero  \\\n0        2022S000001  01/01/2022   1:30:00             AVDA. ALBUFERA      19   \n1        2022S000001  01/01/2022   1:30:00             AVDA. ALBUFERA      19   \n30       2022S000015  01/01/2022   7:25:00            AVDA. ENTREVIAS      94   \n31       2022S000015  01/01/2022   7:25:00            AVDA. ENTREVIAS      94   \n32       2022S000015  01/01/2022   7:25:00            AVDA. ENTREVIAS      94   \n...              ...         ...       ...                         ...    ...   \n65455    2023S022129  05/06/2023  20:15:00  AVDA. ALBUFERA / AUTOV. M-    302   \n65456    2023S022129  05/06/2023  20:15:00  AVDA. ALBUFERA / AUTOV. M-    302   \n65512    2023S022164  06/06/2023  11:25:00         AVDA. PABLO NERUDA      50   \n65513    2023S022164  06/06/2023  11:25:00         AVDA. PABLO NERUDA      50   \n65514    2023S022164  06/06/2023  11:25:00         AVDA. PABLO NERUDA      50   \n\n       cod_distrito            distrito     tipo_accidente  \\\n0              13.0  PUENTE DE VALLECAS            Alcance   \n1              13.0  PUENTE DE VALLECAS            Alcance   \n30             13.0  PUENTE DE VALLECAS            Alcance   \n31             13.0  PUENTE DE VALLECAS            Alcance   \n32             13.0  PUENTE DE VALLECAS            Alcance   \n...             ...                 ...                ...   \n65455          13.0  PUENTE DE VALLECAS   Colisión lateral   \n65456          13.0  PUENTE DE VALLECAS   Colisión lateral   \n65512          13.0  PUENTE DE VALLECAS  Colisión múltiple   \n65513          13.0  PUENTE DE VALLECAS  Colisión múltiple   \n65514          13.0  PUENTE DE VALLECAS  Colisión múltiple   \n\n      estado_meteorológico tipo_vehiculo  ...       rango_edad sexo  \\\n0                Despejado       Turismo  ...  De 30 a 34 años    M   \n1                Despejado       Turismo  ...  De 45 a 49 años    H   \n30               Despejado       Turismo  ...  De 35 a 39 años    H   \n31               Despejado       Turismo  ...  De 40 a 44 años    H   \n32               Despejado       Turismo  ...  De 35 a 39 años    H   \n...                    ...           ...  ...              ...  ...   \n65455              Nublado       Turismo  ...  De 25 a 29 años    H   \n65456              Nublado       Turismo  ...  De 35 a 39 años    H   \n65512                  NaN     Furgoneta  ...  De 40 a 44 años    H   \n65513                  NaN       Turismo  ...      Desconocido    H   \n65514                  NaN       Turismo  ...      Desconocido    H   \n\n      cod_lesividad                                          lesividad  \\\n0               NaN                                                NaN   \n1               NaN                                                NaN   \n30              7.0  Asistencia sanitaria sólo en el lugar del acci...   \n31             14.0                           Sin asistencia sanitaria   \n32              7.0  Asistencia sanitaria sólo en el lugar del acci...   \n...             ...                                                ...   \n65455           NaN                                                NaN   \n65456           NaN                                                NaN   \n65512           NaN                                                NaN   \n65513           NaN                                                NaN   \n65514           NaN                                                NaN   \n\n      coordenada_x_utm  coordenada_y_utm  positiva_alcohol  positiva_droga  \\\n0           443359.226       4472082.272               0.0             0.0   \n1           443359.226       4472082.272               0.0             0.0   \n30          443634.572       4469942.483               0.0             0.0   \n31          443634.572       4469942.483               1.0             0.0   \n32          443634.572       4469942.483               0.0             0.0   \n...                ...               ...               ...             ...   \n65455       446019.735       4470758.527               0.0             0.0   \n65456       446019.735       4470758.527               0.0             0.0   \n65512       445291.488       4471072.805               0.0             0.0   \n65513       445291.488       4471072.805               0.0             0.0   \n65514       445291.488       4471072.805               0.0             0.0   \n\n       numero_pasajeros  fugado  \n0                     2      No  \n1                     2      No  \n30                    3      No  \n31                    3      No  \n32                    3      No  \n...                 ...     ...  \n65455                 4      No  \n65456                 4      No  \n65512                 3      No  \n65513                 3      No  \n65514                 3      No  \n\n[1934 rows x 21 columns]",
      "text/html": "<div>\n<style scoped>\n    .dataframe tbody tr th:only-of-type {\n        vertical-align: middle;\n    }\n\n    .dataframe tbody tr th {\n        vertical-align: top;\n    }\n\n    .dataframe thead th {\n        text-align: right;\n    }\n</style>\n<table border=\"1\" class=\"dataframe\">\n  <thead>\n    <tr style=\"text-align: right;\">\n      <th></th>\n      <th>num_expediente</th>\n      <th>fecha</th>\n      <th>hora</th>\n      <th>localizacion</th>\n      <th>numero</th>\n      <th>cod_distrito</th>\n      <th>distrito</th>\n      <th>tipo_accidente</th>\n      <th>estado_meteorológico</th>\n      <th>tipo_vehiculo</th>\n      <th>...</th>\n      <th>rango_edad</th>\n      <th>sexo</th>\n      <th>cod_lesividad</th>\n      <th>lesividad</th>\n      <th>coordenada_x_utm</th>\n      <th>coordenada_y_utm</th>\n      <th>positiva_alcohol</th>\n      <th>positiva_droga</th>\n      <th>numero_pasajeros</th>\n      <th>fugado</th>\n    </tr>\n  </thead>\n  <tbody>\n    <tr>\n      <th>0</th>\n      <td>2022S000001</td>\n      <td>01/01/2022</td>\n      <td>1:30:00</td>\n      <td>AVDA. ALBUFERA</td>\n      <td>19</td>\n      <td>13.0</td>\n      <td>PUENTE DE VALLECAS</td>\n      <td>Alcance</td>\n      <td>Despejado</td>\n      <td>Turismo</td>\n      <td>...</td>\n      <td>De 30 a 34 años</td>\n      <td>M</td>\n      <td>NaN</td>\n      <td>NaN</td>\n      <td>443359.226</td>\n      <td>4472082.272</td>\n      <td>0.0</td>\n      <td>0.0</td>\n      <td>2</td>\n      <td>No</td>\n    </tr>\n    <tr>\n      <th>1</th>\n      <td>2022S000001</td>\n      <td>01/01/2022</td>\n      <td>1:30:00</td>\n      <td>AVDA. ALBUFERA</td>\n      <td>19</td>\n      <td>13.0</td>\n      <td>PUENTE DE VALLECAS</td>\n      <td>Alcance</td>\n      <td>Despejado</td>\n      <td>Turismo</td>\n      <td>...</td>\n      <td>De 45 a 49 años</td>\n      <td>H</td>\n      <td>NaN</td>\n      <td>NaN</td>\n      <td>443359.226</td>\n      <td>4472082.272</td>\n      <td>0.0</td>\n      <td>0.0</td>\n      <td>2</td>\n      <td>No</td>\n    </tr>\n    <tr>\n      <th>30</th>\n      <td>2022S000015</td>\n      <td>01/01/2022</td>\n      <td>7:25:00</td>\n      <td>AVDA. ENTREVIAS</td>\n      <td>94</td>\n      <td>13.0</td>\n      <td>PUENTE DE VALLECAS</td>\n      <td>Alcance</td>\n      <td>Despejado</td>\n      <td>Turismo</td>\n      <td>...</td>\n      <td>De 35 a 39 años</td>\n      <td>H</td>\n      <td>7.0</td>\n      <td>Asistencia sanitaria sólo en el lugar del acci...</td>\n      <td>443634.572</td>\n      <td>4469942.483</td>\n      <td>0.0</td>\n      <td>0.0</td>\n      <td>3</td>\n      <td>No</td>\n    </tr>\n    <tr>\n      <th>31</th>\n      <td>2022S000015</td>\n      <td>01/01/2022</td>\n      <td>7:25:00</td>\n      <td>AVDA. ENTREVIAS</td>\n      <td>94</td>\n      <td>13.0</td>\n      <td>PUENTE DE VALLECAS</td>\n      <td>Alcance</td>\n      <td>Despejado</td>\n      <td>Turismo</td>\n      <td>...</td>\n      <td>De 40 a 44 años</td>\n      <td>H</td>\n      <td>14.0</td>\n      <td>Sin asistencia sanitaria</td>\n      <td>443634.572</td>\n      <td>4469942.483</td>\n      <td>1.0</td>\n      <td>0.0</td>\n      <td>3</td>\n      <td>No</td>\n    </tr>\n    <tr>\n      <th>32</th>\n      <td>2022S000015</td>\n      <td>01/01/2022</td>\n      <td>7:25:00</td>\n      <td>AVDA. ENTREVIAS</td>\n      <td>94</td>\n      <td>13.0</td>\n      <td>PUENTE DE VALLECAS</td>\n      <td>Alcance</td>\n      <td>Despejado</td>\n      <td>Turismo</td>\n      <td>...</td>\n      <td>De 35 a 39 años</td>\n      <td>H</td>\n      <td>7.0</td>\n      <td>Asistencia sanitaria sólo en el lugar del acci...</td>\n      <td>443634.572</td>\n      <td>4469942.483</td>\n      <td>0.0</td>\n      <td>0.0</td>\n      <td>3</td>\n      <td>No</td>\n    </tr>\n    <tr>\n      <th>...</th>\n      <td>...</td>\n      <td>...</td>\n      <td>...</td>\n      <td>...</td>\n      <td>...</td>\n      <td>...</td>\n      <td>...</td>\n      <td>...</td>\n      <td>...</td>\n      <td>...</td>\n      <td>...</td>\n      <td>...</td>\n      <td>...</td>\n      <td>...</td>\n      <td>...</td>\n      <td>...</td>\n      <td>...</td>\n      <td>...</td>\n      <td>...</td>\n      <td>...</td>\n      <td>...</td>\n    </tr>\n    <tr>\n      <th>65455</th>\n      <td>2023S022129</td>\n      <td>05/06/2023</td>\n      <td>20:15:00</td>\n      <td>AVDA. ALBUFERA / AUTOV. M-</td>\n      <td>302</td>\n      <td>13.0</td>\n      <td>PUENTE DE VALLECAS</td>\n      <td>Colisión lateral</td>\n      <td>Nublado</td>\n      <td>Turismo</td>\n      <td>...</td>\n      <td>De 25 a 29 años</td>\n      <td>H</td>\n      <td>NaN</td>\n      <td>NaN</td>\n      <td>446019.735</td>\n      <td>4470758.527</td>\n      <td>0.0</td>\n      <td>0.0</td>\n      <td>4</td>\n      <td>No</td>\n    </tr>\n    <tr>\n      <th>65456</th>\n      <td>2023S022129</td>\n      <td>05/06/2023</td>\n      <td>20:15:00</td>\n      <td>AVDA. ALBUFERA / AUTOV. M-</td>\n      <td>302</td>\n      <td>13.0</td>\n      <td>PUENTE DE VALLECAS</td>\n      <td>Colisión lateral</td>\n      <td>Nublado</td>\n      <td>Turismo</td>\n      <td>...</td>\n      <td>De 35 a 39 años</td>\n      <td>H</td>\n      <td>NaN</td>\n      <td>NaN</td>\n      <td>446019.735</td>\n      <td>4470758.527</td>\n      <td>0.0</td>\n      <td>0.0</td>\n      <td>4</td>\n      <td>No</td>\n    </tr>\n    <tr>\n      <th>65512</th>\n      <td>2023S022164</td>\n      <td>06/06/2023</td>\n      <td>11:25:00</td>\n      <td>AVDA. PABLO NERUDA</td>\n      <td>50</td>\n      <td>13.0</td>\n      <td>PUENTE DE VALLECAS</td>\n      <td>Colisión múltiple</td>\n      <td>NaN</td>\n      <td>Furgoneta</td>\n      <td>...</td>\n      <td>De 40 a 44 años</td>\n      <td>H</td>\n      <td>NaN</td>\n      <td>NaN</td>\n      <td>445291.488</td>\n      <td>4471072.805</td>\n      <td>0.0</td>\n      <td>0.0</td>\n      <td>3</td>\n      <td>No</td>\n    </tr>\n    <tr>\n      <th>65513</th>\n      <td>2023S022164</td>\n      <td>06/06/2023</td>\n      <td>11:25:00</td>\n      <td>AVDA. PABLO NERUDA</td>\n      <td>50</td>\n      <td>13.0</td>\n      <td>PUENTE DE VALLECAS</td>\n      <td>Colisión múltiple</td>\n      <td>NaN</td>\n      <td>Turismo</td>\n      <td>...</td>\n      <td>Desconocido</td>\n      <td>H</td>\n      <td>NaN</td>\n      <td>NaN</td>\n      <td>445291.488</td>\n      <td>4471072.805</td>\n      <td>0.0</td>\n      <td>0.0</td>\n      <td>3</td>\n      <td>No</td>\n    </tr>\n    <tr>\n      <th>65514</th>\n      <td>2023S022164</td>\n      <td>06/06/2023</td>\n      <td>11:25:00</td>\n      <td>AVDA. PABLO NERUDA</td>\n      <td>50</td>\n      <td>13.0</td>\n      <td>PUENTE DE VALLECAS</td>\n      <td>Colisión múltiple</td>\n      <td>NaN</td>\n      <td>Turismo</td>\n      <td>...</td>\n      <td>Desconocido</td>\n      <td>H</td>\n      <td>NaN</td>\n      <td>NaN</td>\n      <td>445291.488</td>\n      <td>4471072.805</td>\n      <td>0.0</td>\n      <td>0.0</td>\n      <td>3</td>\n      <td>No</td>\n    </tr>\n  </tbody>\n</table>\n<p>1934 rows × 21 columns</p>\n</div>"
     },
     "execution_count": 13,
     "metadata": {},
     "output_type": "execute_result"
    }
   ],
   "source": [
    "filtered_df_vallecas"
   ],
   "metadata": {
    "collapsed": false,
    "ExecuteTime": {
     "end_time": "2024-01-11T16:35:03.047309652Z",
     "start_time": "2024-01-11T16:35:02.986049394Z"
    }
   },
   "id": "1ed0b3e9b5c3cbe0",
   "execution_count": 13
  },
  {
   "cell_type": "code",
   "outputs": [
    {
     "data": {
      "text/plain": "'Maps/madrid_map.html'"
     },
     "execution_count": 14,
     "metadata": {},
     "output_type": "execute_result"
    }
   ],
   "source": [
    "import utm\n",
    "import folium\n",
    "\n",
    "def utm_to_latlon(utm_x, utm_y, zone_number=30, zone_letter='T'):\n",
    "    \"\"\"\n",
    "    Convert UTM coordinates to Latitude and Longitude.\n",
    "    Assumes zone number 30 and zone letter 'T' for Madrid.\n",
    "    \"\"\"\n",
    "    try:\n",
    "        lat, lon = utm.to_latlon(utm_x, utm_y, zone_number, zone_letter)\n",
    "        return lat, lon\n",
    "    except Exception as e:\n",
    "        print(\"Error en la conversión:\", e, \" utmx: \", utm_x, \"utmy: \", utm_y, \" \")\n",
    "        return None, None\n",
    "\n",
    "# Processing the data: converting UTM coordinates to latitude and longitude\n",
    "coordinates = filtered_df_vallecas.filter(items=['coordenada_x_utm', 'coordenada_y_utm', 'tipo_accidente', 'tipo_vehiculo'])\n",
    "coordinates.columns = ['utm_x', 'utm_y', 'tipo_accidente', 'tipo_vehiculo']\n",
    "# Apply the conversion\n",
    "coordinates['lat'], coordinates['lon'] = zip(*coordinates.apply(lambda row: utm_to_latlon(row['utm_x'], row['utm_y']), axis=1))\n",
    "# Drop rows with NaN values in lat/lon\n",
    "coordinates.dropna(subset=['lat', 'lon'], inplace=True)\n",
    "\n",
    "# Creating a map centered around Madrid\n",
    "madrid_map = folium.Map(location=[40.4168, -3.7038], zoom_start=12)\n",
    "\n",
    "# Adding the coordinates to the map\n",
    "for idx, row in coordinates.iterrows():\n",
    "    label = f'Lat: {row[\"lat\"]}, Lon: {row[\"lon\"]}, \\nAccidente: {row[\"tipo_accidente\"]}, \\nVehículo: {row[\"tipo_vehiculo\"]}'\n",
    "    folium.Marker([row['lat'], row['lon']], popup=label).add_to(madrid_map)\n",
    "# Save the map to an HTML file\n",
    "map_file = 'Maps/madrid_map.html'\n",
    "madrid_map.save(map_file)\n",
    "\n",
    "map_file"
   ],
   "metadata": {
    "collapsed": false,
    "ExecuteTime": {
     "end_time": "2024-01-11T16:47:43.897893914Z",
     "start_time": "2024-01-11T16:47:42.337028743Z"
    }
   },
   "id": "69e1d704e9f05898",
   "execution_count": 14
  },
  {
   "cell_type": "markdown",
   "source": [
    "Vamos a filtrar todas las carreteras"
   ],
   "metadata": {
    "collapsed": false
   },
   "id": "b06ab4e9947a48ec"
  },
  {
   "cell_type": "code",
   "outputs": [],
   "source": [
    "def path_denomination(path:str):\n",
    "    return path.split()[0].upper().replace(',', '').replace('.', '')"
   ],
   "metadata": {
    "collapsed": false,
    "ExecuteTime": {
     "end_time": "2024-01-11T17:34:44.960615607Z",
     "start_time": "2024-01-11T17:34:44.919037636Z"
    }
   },
   "id": "1b4d422e3f0ea5cb",
   "execution_count": 15
  },
  {
   "cell_type": "code",
   "outputs": [
    {
     "data": {
      "text/plain": "first_word\nCALL        41024\nAVDA        12934\nAUTOV        7212\nPASEO        4690\nPLAZA        2501\n            ...  \nLEONARDO        1\nLATINA          1\nENLACE          1\nRETIRO          1\nZONA            1\nName: localizacion, Length: 343, dtype: int64"
     },
     "execution_count": 16,
     "metadata": {},
     "output_type": "execute_result"
    }
   ],
   "source": [
    "df['first_word'] = df['localizacion'].apply(path_denomination)\n",
    "result = df.groupby('first_word')['localizacion'].count()\n",
    "result.sort_values(ascending=False)"
   ],
   "metadata": {
    "collapsed": false,
    "ExecuteTime": {
     "end_time": "2024-01-11T17:34:46.328215608Z",
     "start_time": "2024-01-11T17:34:46.249697430Z"
    }
   },
   "id": "5fb4c2a1c913bfd3",
   "execution_count": 16
  },
  {
   "cell_type": "markdown",
   "source": [
    "# Estudio Medidas implementadas en la M-30 desde el 2022\n",
    "A continuación iniciaremos un análisis exploratorio sobre las medidas ZBE implementadas a partir del año 2022 en la ciudad de Madrid:\n",
    "En resumen las Medidas Implementadas:\n",
    "1. Zona de Bajas Emisiones (ZBE):\n",
    "\n",
    "**En enero de 2022**, se prohibió el acceso y la circulación de vehículos sin distintivo ambiental en las vías públicas urbanas del interior de la M-30 (excluyendo la propia M-30).\n",
    "**En enero de 2023**, se extendió la prohibición al propio tramo de la M-30.\n",
    "**En enero de 2024**, la prohibición cubrió todas las vías públicas urbanas del municipio de Madrid.\n",
    "**Para enero de 2025**, se espera que la prohibición se extienda a los turismos A domiciliados en Madrid y a otros vehículos A no turismos (camiones, furgonetas, motocicletas y ciclomotores) que hasta el 31 de diciembre de 2024 no tenían restricciones.\n",
    "\n",
    "2. Instalación de cámaras y sistemas de control:\n",
    "\n",
    "Para vigilar y controlar la ZBE, se han instalado 207 cámaras de tráfico adicionales en el exterior de la M-30, sumándose a las 257 cámaras y 37 semáforos con control foto-rojo ya existentes."
   ],
   "metadata": {
    "collapsed": false
   }
  },
  {
   "cell_type": "code",
   "execution_count": 17,
   "outputs": [
    {
     "name": "stderr",
     "output_type": "stream",
     "text": [
      "C:\\Users\\Usuario\\AppData\\Local\\Temp\\ipykernel_18060\\2716251663.py:18: SettingWithCopyWarning: \n",
      "A value is trying to be set on a copy of a slice from a DataFrame.\n",
      "Try using .loc[row_indexer,col_indexer] = value instead\n",
      "\n",
      "See the caveats in the documentation: https://pandas.pydata.org/pandas-docs/stable/user_guide/indexing.html#returning-a-view-versus-a-copy\n",
      "  m30_2021['mes'] = m30_2021['fecha'].dt.month\n",
      "C:\\Users\\Usuario\\AppData\\Local\\Temp\\ipykernel_18060\\2716251663.py:19: SettingWithCopyWarning: \n",
      "A value is trying to be set on a copy of a slice from a DataFrame.\n",
      "Try using .loc[row_indexer,col_indexer] = value instead\n",
      "\n",
      "See the caveats in the documentation: https://pandas.pydata.org/pandas-docs/stable/user_guide/indexing.html#returning-a-view-versus-a-copy\n",
      "  m30_2022['mes'] = m30_2022['fecha'].dt.month\n",
      "C:\\Users\\Usuario\\AppData\\Local\\Temp\\ipykernel_18060\\2716251663.py:20: SettingWithCopyWarning: \n",
      "A value is trying to be set on a copy of a slice from a DataFrame.\n",
      "Try using .loc[row_indexer,col_indexer] = value instead\n",
      "\n",
      "See the caveats in the documentation: https://pandas.pydata.org/pandas-docs/stable/user_guide/indexing.html#returning-a-view-versus-a-copy\n",
      "  m30_2023['mes'] = m30_2023['fecha'].dt.month\n"
     ]
    },
    {
     "data": {
      "text/plain": "(mes\n 1     185\n 2     277\n 3     359\n 4     276\n 5     246\n 6     281\n 7     235\n 8     144\n 9     512\n 10    478\n 11    472\n 12    454\n dtype: int64,\n mes\n 1     276\n 2     367\n 3     308\n 4     347\n 5     370\n 6     314\n 7     259\n 8     171\n 9     274\n 10    289\n 11    402\n 12    434\n dtype: int64,\n mes\n 1    310\n 2    330\n 3    309\n 4    250\n 5    299\n 6    231\n 7    204\n 8    175\n dtype: int64)"
     },
     "execution_count": 17,
     "metadata": {},
     "output_type": "execute_result"
    }
   ],
   "source": [
    "# Lee el archivo CSV de 2021\n",
    "data_2021 = pd.read_csv(\"./Datasets/2021_Accidentalidad.csv\", sep=\";\")\n",
    "\n",
    "# Convierte la columna 'fecha' a datetime para poder filtrar por año en ambos datasets\n",
    "df['fecha'] = pd.to_datetime(df['fecha'], format='%d/%m/%Y')\n",
    "data_2021['fecha'] = pd.to_datetime(data_2021['fecha'], format='%d/%m/%Y')\n",
    "\n",
    "# Filtra los datos de 2022 y 2023 a partir del conjunto de datos 'df'\n",
    "data_2022 = df[df['fecha'].dt.year == 2022]\n",
    "data_2023 = df[df['fecha'].dt.year == 2023]\n",
    "\n",
    "# Filtrar los registros específicos de la M-30 para 2021, 2022 y 2023\n",
    "m30_2021 = data_2021[data_2021['localizacion'].str.contains('M-30')]\n",
    "m30_2022 = data_2022[data_2022['localizacion'].str.contains('M-30')]\n",
    "m30_2023 = data_2023[data_2023['localizacion'].str.contains('M-30')]\n",
    "\n",
    "# Calculando el número de registros mensuales para cada año para la M-30\n",
    "m30_2021['mes'] = m30_2021['fecha'].dt.month\n",
    "m30_2022['mes'] = m30_2022['fecha'].dt.month\n",
    "m30_2023['mes'] = m30_2023['fecha'].dt.month\n",
    "\n",
    "registros_mensuales_2021 = m30_2021.groupby('mes').size()\n",
    "registros_mensuales_2022 = m30_2022.groupby('mes').size()\n",
    "registros_mensuales_2023 = m30_2023.groupby('mes').size()\n",
    "\n",
    "registros_mensuales_2021, registros_mensuales_2022, registros_mensuales_2023"
   ],
   "metadata": {
    "collapsed": false
   }
  },
  {
   "cell_type": "markdown",
   "source": [
    "Hemos realizado los registros mensuales de accidentes en la M-30 para los años 2021, 2022 y 2023 (hasta septiembre). A continuación, se presenta el número de registros por mes para cada año, lo que nos permitirá evaluar cómo ha evolucionado el tráfico en la M-30 en relación con las medidas implementadas.\n",
    "\n",
    "### Número de Registros por Mes en la M-30:\n",
    "**2021**:\n",
    "Enero: 185\n",
    "Febrero: 277\n",
    "Marzo: 359\n",
    "Abril: 276\n",
    "Mayo: 246\n",
    "Junio: 281\n",
    "Julio: 235\n",
    "Agosto: 144\n",
    "Septiembre: 512\n",
    "Octubre: 478\n",
    "Noviembre: 472\n",
    "Diciembre: 454\n",
    "\n",
    "**2022**:\n",
    "Enero: 276\n",
    "Febrero: 367\n",
    "Marzo: 308\n",
    "Abril: 347\n",
    "Mayo: 370\n",
    "Junio: 314\n",
    "Julio: 259\n",
    "Agosto: 171\n",
    "Septiembre: 274\n",
    "Octubre: 289\n",
    "Noviembre: 402\n",
    "Diciembre: 434\n",
    "\n",
    "**2023 (hasta septiembre)**:\n",
    "Enero: 310\n",
    "Febrero: 330\n",
    "Marzo: 309\n",
    "Abril: 250\n",
    "Mayo: 299\n",
    "Junio: 231\n",
    "Julio: 204\n",
    "Agosto: 175\n",
    "\n",
    "#### Análisis Comparativo:\n",
    "Al comparar los datos de 2021 y 2022, se observa un incremento en la mayoría de los meses en 2022. Esto podría deberse a una recuperación del tráfico tras las restricciones de la pandemia o a cambios en la detección y reporte de incidentes.\n",
    "Para 2023, aunque los datos están disponibles solo hasta septiembre, se observa una tendencia a la disminución en la cantidad de registros en comparación con 2022, particularmente en los meses más recientes (junio a agosto). Esto podría ser indicativo de un impacto positivo de las medidas implementadas en la M-30, especialmente considerando que en enero de 2023, la prohibición se extendió al propio tramo de la M-30.\n",
    "\n",
    "#### **Conclusiones**:\n",
    "La tendencia decreciente en los últimos meses de 2023 podría ser un indicador temprano de la efectividad de las medidas de ZBE implementadas en la M-30, aunque se necesita más tiempo y datos para confirmar esta tendencia y entender su impacto total. Además, se deberían considerar factores externos que puedan afectar el tráfico y la incidencia de accidentes, como cambios en los patrones de movilidad urbana, el clima, y eventos específicos en la ciudad.\n",
    "\n",
    "Además, dicha medida no fue del todo implementada para mejorar el tráfico únicamente, sino para mejorar la calidad del aire en la ciudad.\n",
    "#### Impactos y Observaciones de la Medida ZBE:\n",
    "**-Reducción de la Contaminación**: En 2023, los niveles de dióxido de nitrógeno en Madrid fueron más bajos que el año anterior, lo que indica una mejora en la calidad del aire de la ciudad, atribuida a la implementación de la ZBE​​.\n",
    "**-Cumplimiento de Normativas Europeas**: El 2022 fue el primer año en que Madrid cumplió con la directiva europea de calidad del aire, lo que sugiere un impacto positivo de las medidas de tráfico implementadas​​.\n",
    "**-Reducción de Vehículos Contaminantes**: Se observó una disminución en el número de vehículos más contaminantes (matrícula A) hasta un 2.3% del total en el interior de la ciudad. Las cámaras detectan diariamente unos 2.000 vehículos tipo A sancionables​"
   ],
   "metadata": {
    "collapsed": false
   }
  },
  {
   "cell_type": "markdown",
   "source": [
    "## Análisis de tramos con mayor Índice de accidentes de la autovía M-30\n",
    "A continuación haremos un estudio sobre los tramos con mayor cantidad de accidentes en la autovía M-30 para acercarnos algo a lo que puede ser el causante de este problema"
   ],
   "metadata": {
    "collapsed": false
   }
  },
  {
   "cell_type": "code",
   "execution_count": 23,
   "outputs": [
    {
     "data": {
      "text/plain": "   num_expediente      fecha     hora  \\\n27    2022S000013 2022-01-01  8:10:00   \n35    2022S000018 2022-01-01  9:00:00   \n36    2022S000018 2022-01-01  9:00:00   \n66    2022S000032 2022-01-02  1:00:00   \n81    2022S000049 2022-01-01  7:10:00   \n\n                                    localizacion   numero  cod_distrito  \\\n27                          AUTOV. M-30, +01100I  +01100I           2.0   \n35  AUTOV. M-30, +01100I PTO KM. 11,300 INTERIOR  +01100I           2.0   \n36  AUTOV. M-30, +01100I PTO KM. 11,300 INTERIOR  +01100I           2.0   \n66                      CALL. VADO / AUTOV. M-30        1          12.0   \n81                    AUTOV. M-30, +00900E, 09XC  +00900E          14.0   \n\n      distrito                tipo_accidente estado_meteorológico  \\\n27  ARGANZUELA  Choque contra obstáculo fijo            Despejado   \n35  ARGANZUELA       Colisión fronto-lateral            Despejado   \n36  ARGANZUELA       Colisión fronto-lateral            Despejado   \n66       USERA  Choque contra obstáculo fijo            Despejado   \n81   MORATALAZ                       Alcance            Despejado   \n\n   tipo_vehiculo  ... sexo cod_lesividad  \\\n27       Turismo  ...    H           NaN   \n35       Turismo  ...    H          14.0   \n36       Turismo  ...    M           1.0   \n66     Furgoneta  ...    H           NaN   \n81       Turismo  ...    M           NaN   \n\n                                      lesividad  coordenada_x_utm  \\\n27                                          NaN        442679,507   \n35                     Sin asistencia sanitaria        442366,272   \n36  Atención en urgencias sin posterior ingreso        442366,272   \n66                                          NaN        440991,275   \n81                                          NaN        443429,899   \n\n   coordenada_y_utm positiva_alcohol positiva_droga  numero_pasajeros  fugado  \\\n27      4471637,799              1.0            0.0                 1      No   \n35      4471296,603              0.0            0.0                 2      No   \n36      4471296,603              0.0            0.0                 2      No   \n66       4470831,56              1.0            0.0                 1      No   \n81      4472683,605              0.0            0.0                 6      No   \n\n    first_word  \n27       AUTOV  \n35       AUTOV  \n36       AUTOV  \n66        CALL  \n81       AUTOV  \n\n[5 rows x 22 columns]",
      "text/html": "<div>\n<style scoped>\n    .dataframe tbody tr th:only-of-type {\n        vertical-align: middle;\n    }\n\n    .dataframe tbody tr th {\n        vertical-align: top;\n    }\n\n    .dataframe thead th {\n        text-align: right;\n    }\n</style>\n<table border=\"1\" class=\"dataframe\">\n  <thead>\n    <tr style=\"text-align: right;\">\n      <th></th>\n      <th>num_expediente</th>\n      <th>fecha</th>\n      <th>hora</th>\n      <th>localizacion</th>\n      <th>numero</th>\n      <th>cod_distrito</th>\n      <th>distrito</th>\n      <th>tipo_accidente</th>\n      <th>estado_meteorológico</th>\n      <th>tipo_vehiculo</th>\n      <th>...</th>\n      <th>sexo</th>\n      <th>cod_lesividad</th>\n      <th>lesividad</th>\n      <th>coordenada_x_utm</th>\n      <th>coordenada_y_utm</th>\n      <th>positiva_alcohol</th>\n      <th>positiva_droga</th>\n      <th>numero_pasajeros</th>\n      <th>fugado</th>\n      <th>first_word</th>\n    </tr>\n  </thead>\n  <tbody>\n    <tr>\n      <th>27</th>\n      <td>2022S000013</td>\n      <td>2022-01-01</td>\n      <td>8:10:00</td>\n      <td>AUTOV. M-30, +01100I</td>\n      <td>+01100I</td>\n      <td>2.0</td>\n      <td>ARGANZUELA</td>\n      <td>Choque contra obstáculo fijo</td>\n      <td>Despejado</td>\n      <td>Turismo</td>\n      <td>...</td>\n      <td>H</td>\n      <td>NaN</td>\n      <td>NaN</td>\n      <td>442679,507</td>\n      <td>4471637,799</td>\n      <td>1.0</td>\n      <td>0.0</td>\n      <td>1</td>\n      <td>No</td>\n      <td>AUTOV</td>\n    </tr>\n    <tr>\n      <th>35</th>\n      <td>2022S000018</td>\n      <td>2022-01-01</td>\n      <td>9:00:00</td>\n      <td>AUTOV. M-30, +01100I PTO KM. 11,300 INTERIOR</td>\n      <td>+01100I</td>\n      <td>2.0</td>\n      <td>ARGANZUELA</td>\n      <td>Colisión fronto-lateral</td>\n      <td>Despejado</td>\n      <td>Turismo</td>\n      <td>...</td>\n      <td>H</td>\n      <td>14.0</td>\n      <td>Sin asistencia sanitaria</td>\n      <td>442366,272</td>\n      <td>4471296,603</td>\n      <td>0.0</td>\n      <td>0.0</td>\n      <td>2</td>\n      <td>No</td>\n      <td>AUTOV</td>\n    </tr>\n    <tr>\n      <th>36</th>\n      <td>2022S000018</td>\n      <td>2022-01-01</td>\n      <td>9:00:00</td>\n      <td>AUTOV. M-30, +01100I PTO KM. 11,300 INTERIOR</td>\n      <td>+01100I</td>\n      <td>2.0</td>\n      <td>ARGANZUELA</td>\n      <td>Colisión fronto-lateral</td>\n      <td>Despejado</td>\n      <td>Turismo</td>\n      <td>...</td>\n      <td>M</td>\n      <td>1.0</td>\n      <td>Atención en urgencias sin posterior ingreso</td>\n      <td>442366,272</td>\n      <td>4471296,603</td>\n      <td>0.0</td>\n      <td>0.0</td>\n      <td>2</td>\n      <td>No</td>\n      <td>AUTOV</td>\n    </tr>\n    <tr>\n      <th>66</th>\n      <td>2022S000032</td>\n      <td>2022-01-02</td>\n      <td>1:00:00</td>\n      <td>CALL. VADO / AUTOV. M-30</td>\n      <td>1</td>\n      <td>12.0</td>\n      <td>USERA</td>\n      <td>Choque contra obstáculo fijo</td>\n      <td>Despejado</td>\n      <td>Furgoneta</td>\n      <td>...</td>\n      <td>H</td>\n      <td>NaN</td>\n      <td>NaN</td>\n      <td>440991,275</td>\n      <td>4470831,56</td>\n      <td>1.0</td>\n      <td>0.0</td>\n      <td>1</td>\n      <td>No</td>\n      <td>CALL</td>\n    </tr>\n    <tr>\n      <th>81</th>\n      <td>2022S000049</td>\n      <td>2022-01-01</td>\n      <td>7:10:00</td>\n      <td>AUTOV. M-30, +00900E, 09XC</td>\n      <td>+00900E</td>\n      <td>14.0</td>\n      <td>MORATALAZ</td>\n      <td>Alcance</td>\n      <td>Despejado</td>\n      <td>Turismo</td>\n      <td>...</td>\n      <td>M</td>\n      <td>NaN</td>\n      <td>NaN</td>\n      <td>443429,899</td>\n      <td>4472683,605</td>\n      <td>0.0</td>\n      <td>0.0</td>\n      <td>6</td>\n      <td>No</td>\n      <td>AUTOV</td>\n    </tr>\n  </tbody>\n</table>\n<p>5 rows × 22 columns</p>\n</div>"
     },
     "execution_count": 23,
     "metadata": {},
     "output_type": "execute_result"
    }
   ],
   "source": [
    "# Filtrando data solo para la autov. M-30\n",
    "m30_data = df[df['localizacion'].str.contains('M-30', na=False)].copy()\n",
    "\n",
    "m30_data_head = m30_data.head()\n",
    "\n",
    "m30_data_head"
   ],
   "metadata": {
    "collapsed": false
   }
  },
  {
   "cell_type": "code",
   "execution_count": 24,
   "outputs": [
    {
     "data": {
      "text/plain": "                                    localizacion  accident_count\n405                         AUTOV. M-30, +01100I              63\n328                         AUTOV. M-30, +00800I              61\n372                         AUTOV. M-30, +01000E              54\n381                         AUTOV. M-30, +01000I              41\n598                         AUTOV. M-30, +03200E              38\n...                                          ...             ...\n588   AUTOV. M-30, +03100I, M-30 PK 30.900 Cª 1ª               1\n593                        AUTOV. M-30, +031500I               1\n1439     AUTOV. M-30, CALZADA INTERIOR PK 31.800               1\n594                AUTOV. M-30, +031700 INTERIOR               1\n0      ACCESO DE M-23 DE SALIDA A AUTOV. M-30 C2               1\n\n[1834 rows x 2 columns]",
      "text/html": "<div>\n<style scoped>\n    .dataframe tbody tr th:only-of-type {\n        vertical-align: middle;\n    }\n\n    .dataframe tbody tr th {\n        vertical-align: top;\n    }\n\n    .dataframe thead th {\n        text-align: right;\n    }\n</style>\n<table border=\"1\" class=\"dataframe\">\n  <thead>\n    <tr style=\"text-align: right;\">\n      <th></th>\n      <th>localizacion</th>\n      <th>accident_count</th>\n    </tr>\n  </thead>\n  <tbody>\n    <tr>\n      <th>405</th>\n      <td>AUTOV. M-30, +01100I</td>\n      <td>63</td>\n    </tr>\n    <tr>\n      <th>328</th>\n      <td>AUTOV. M-30, +00800I</td>\n      <td>61</td>\n    </tr>\n    <tr>\n      <th>372</th>\n      <td>AUTOV. M-30, +01000E</td>\n      <td>54</td>\n    </tr>\n    <tr>\n      <th>381</th>\n      <td>AUTOV. M-30, +01000I</td>\n      <td>41</td>\n    </tr>\n    <tr>\n      <th>598</th>\n      <td>AUTOV. M-30, +03200E</td>\n      <td>38</td>\n    </tr>\n    <tr>\n      <th>...</th>\n      <td>...</td>\n      <td>...</td>\n    </tr>\n    <tr>\n      <th>588</th>\n      <td>AUTOV. M-30, +03100I, M-30 PK 30.900 Cª 1ª</td>\n      <td>1</td>\n    </tr>\n    <tr>\n      <th>593</th>\n      <td>AUTOV. M-30, +031500I</td>\n      <td>1</td>\n    </tr>\n    <tr>\n      <th>1439</th>\n      <td>AUTOV. M-30, CALZADA INTERIOR PK 31.800</td>\n      <td>1</td>\n    </tr>\n    <tr>\n      <th>594</th>\n      <td>AUTOV. M-30, +031700 INTERIOR</td>\n      <td>1</td>\n    </tr>\n    <tr>\n      <th>0</th>\n      <td>ACCESO DE M-23 DE SALIDA A AUTOV. M-30 C2</td>\n      <td>1</td>\n    </tr>\n  </tbody>\n</table>\n<p>1834 rows × 2 columns</p>\n</div>"
     },
     "execution_count": 24,
     "metadata": {},
     "output_type": "execute_result"
    }
   ],
   "source": [
    "# Agrupando por 'localizacion' y contando\n",
    "accident_counts = m30_data.groupby('localizacion').size().reset_index(name='accident_count')\n",
    "\n",
    "top_accident_locations = accident_counts.sort_values(by='accident_count', ascending=False)\n",
    "\n",
    "top_accident_locations"
   ],
   "metadata": {
    "collapsed": false
   }
  },
  {
   "cell_type": "markdown",
   "source": [
    "Los tramos de la M-30 con el mayor número de accidentes son:\n",
    "\n",
    "1. AUTOV. M-30, +01100I con 63 accidentes.\n",
    "2. AUTOV. M-30, +00800I con 61 accidentes.\n",
    "3. AUTOV. M-30, +01000E con 54 accidentes.\n",
    "4. AUTOV. M-30, +01000I con 41 accidentes.\n",
    "5. AUTOV. M-30, +03200E con 38 accidentes.\n",
    "6. AUTOV. A-2 / AUTOV. M-30 con 34 accidentes.\n",
    "7. AUTOV. M-30, +00100E con 29 accidentes.\n",
    "8. AUTOV. M-30, +01200E con 28 accidentes.\n",
    "9. AUTOV. M-30, +00700I con 28 accidentes.\n",
    "10. CALL. ALCALA / AUTOV. M-30 con 26 accidentes."
   ],
   "metadata": {
    "collapsed": false
   }
  },
  {
   "cell_type": "code",
   "execution_count": 25,
   "outputs": [],
   "source": [
    "from my_map_creator import MapCreator\n",
    "m30_data['coordenada_x_utm'] = pd.to_numeric(m30_data['coordenada_x_utm'].str.replace(',', '.'), errors='coerce')\n",
    "m30_data['coordenada_y_utm'] = pd.to_numeric(m30_data['coordenada_y_utm'].str.replace(',', '.'), errors='coerce')\n",
    "mapa_M30 = MapCreator(m30_data, lat_col_name= \"coordenada_x_utm\", long_col_name=\"coordenada_y_utm\")"
   ],
   "metadata": {
    "collapsed": false
   }
  },
  {
   "cell_type": "code",
   "execution_count": 26,
   "outputs": [],
   "source": [
    "mapa_M30.create_map(map_name= \"mapa_M30\")"
   ],
   "metadata": {
    "collapsed": false
   }
  },
  {
   "cell_type": "code",
   "execution_count": null,
   "outputs": [],
   "source": [],
   "metadata": {
    "collapsed": false
   }
  }
 ],
 "metadata": {
  "kernelspec": {
   "display_name": "Python 3",
   "language": "python",
   "name": "python3"
  },
  "language_info": {
   "codemirror_mode": {
    "name": "ipython",
    "version": 2
   },
   "file_extension": ".py",
   "mimetype": "text/x-python",
   "name": "python",
   "nbconvert_exporter": "python",
   "pygments_lexer": "ipython2",
   "version": "2.7.6"
  }
 },
 "nbformat": 4,
 "nbformat_minor": 5
}
