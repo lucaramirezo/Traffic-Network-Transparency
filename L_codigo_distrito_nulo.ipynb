{
 "cells": [
  {
   "cell_type": "code",
   "execution_count": 1,
   "id": "initial_id",
   "metadata": {
    "collapsed": true,
    "ExecuteTime": {
     "end_time": "2023-11-17T17:13:39.880137854Z",
     "start_time": "2023-11-17T17:13:39.629272946Z"
    }
   },
   "outputs": [],
   "source": [
    "import pandas as pd"
   ]
  },
  {
   "cell_type": "code",
   "execution_count": 2,
   "outputs": [
    {
     "name": "stderr",
     "output_type": "stream",
     "text": [
      "/tmp/ipykernel_7362/4064952317.py:1: DtypeWarning: Columns (15,16) have mixed types. Specify dtype option on import or set low_memory=False.\n",
      "  df = pd.read_csv('Datasets/Data_Combinada.csv')\n"
     ]
    }
   ],
   "source": [
    "df = pd.read_csv('Datasets/Data_Combinada.csv')"
   ],
   "metadata": {
    "collapsed": false,
    "ExecuteTime": {
     "end_time": "2023-11-17T17:13:40.104022404Z",
     "start_time": "2023-11-17T17:13:39.881954744Z"
    }
   },
   "id": "75abe00924c98487"
  },
  {
   "cell_type": "code",
   "execution_count": 3,
   "outputs": [
    {
     "data": {
      "text/plain": "      num_expediente       fecha      hora  \\\n54805    2023S009762  16/03/2023  22:40:00   \n\n                                            localizacion numero  cod_distrito  \\\n54805  GTA. ISIDRO GONZALEZ VELAZQUEZ / CALL. FRANCIS...    NaN           NaN   \n\n      distrito                tipo_accidente estado_meteorológico  \\\n54805      NaN  Choque contra obstáculo fijo            Despejado   \n\n      tipo_vehiculo  ...       rango_edad sexo cod_lesividad  lesividad  \\\n54805       Turismo  ...  De 45 a 49 años    M           NaN        NaN   \n\n      coordenada_x_utm coordenada_y_utm positiva_alcohol  positiva_droga  \\\n54805       446979.419      4481398.946              0.0             0.0   \n\n       numero_pasajeros  fugado  \n54805                 1      No  \n\n[1 rows x 21 columns]",
      "text/html": "<div>\n<style scoped>\n    .dataframe tbody tr th:only-of-type {\n        vertical-align: middle;\n    }\n\n    .dataframe tbody tr th {\n        vertical-align: top;\n    }\n\n    .dataframe thead th {\n        text-align: right;\n    }\n</style>\n<table border=\"1\" class=\"dataframe\">\n  <thead>\n    <tr style=\"text-align: right;\">\n      <th></th>\n      <th>num_expediente</th>\n      <th>fecha</th>\n      <th>hora</th>\n      <th>localizacion</th>\n      <th>numero</th>\n      <th>cod_distrito</th>\n      <th>distrito</th>\n      <th>tipo_accidente</th>\n      <th>estado_meteorológico</th>\n      <th>tipo_vehiculo</th>\n      <th>...</th>\n      <th>rango_edad</th>\n      <th>sexo</th>\n      <th>cod_lesividad</th>\n      <th>lesividad</th>\n      <th>coordenada_x_utm</th>\n      <th>coordenada_y_utm</th>\n      <th>positiva_alcohol</th>\n      <th>positiva_droga</th>\n      <th>numero_pasajeros</th>\n      <th>fugado</th>\n    </tr>\n  </thead>\n  <tbody>\n    <tr>\n      <th>54805</th>\n      <td>2023S009762</td>\n      <td>16/03/2023</td>\n      <td>22:40:00</td>\n      <td>GTA. ISIDRO GONZALEZ VELAZQUEZ / CALL. FRANCIS...</td>\n      <td>NaN</td>\n      <td>NaN</td>\n      <td>NaN</td>\n      <td>Choque contra obstáculo fijo</td>\n      <td>Despejado</td>\n      <td>Turismo</td>\n      <td>...</td>\n      <td>De 45 a 49 años</td>\n      <td>M</td>\n      <td>NaN</td>\n      <td>NaN</td>\n      <td>446979.419</td>\n      <td>4481398.946</td>\n      <td>0.0</td>\n      <td>0.0</td>\n      <td>1</td>\n      <td>No</td>\n    </tr>\n  </tbody>\n</table>\n<p>1 rows × 21 columns</p>\n</div>"
     },
     "execution_count": 3,
     "metadata": {},
     "output_type": "execute_result"
    }
   ],
   "source": [
    "df[df['cod_distrito'].isnull()]"
   ],
   "metadata": {
    "collapsed": false,
    "ExecuteTime": {
     "end_time": "2023-11-17T17:13:40.122073148Z",
     "start_time": "2023-11-17T17:13:40.104679564Z"
    }
   },
   "id": "97dfb1bb4f289b2b"
  },
  {
   "cell_type": "markdown",
   "source": [
    "Se realiza una búsqueda en google de la dirección para saber el distrito. Resulta que es distrito de barajas\n",
    "Con código postal 28055"
   ],
   "metadata": {
    "collapsed": false
   },
   "id": "b161037dec5f1107"
  },
  {
   "cell_type": "code",
   "execution_count": 4,
   "outputs": [
    {
     "data": {
      "text/plain": "    num_expediente       fecha      hora  \\\n172    2022S000091  03/01/2022   9:50:00   \n173    2022S000091  03/01/2022   9:50:00   \n422    2022S000240  06/01/2022  10:00:00   \n546    2022S000298  07/01/2022  16:35:00   \n547    2022S000298  07/01/2022  16:35:00   \n\n                                          localizacion numero  cod_distrito  \\\n172                             AEROP. TERMINAL T-2, 0      0          21.0   \n173                             AEROP. TERMINAL T-2, 0      0          21.0   \n422                                        SALIDA M-11      1          21.0   \n546  GTA. ERMITA DE LA VIRGEN DE LA SOLEDAD / AVDA....      0          21.0   \n547  GTA. ERMITA DE LA VIRGEN DE LA SOLEDAD / AVDA....      0          21.0   \n\n    distrito    tipo_accidente estado_meteorológico            tipo_vehiculo  \\\n172  BARAJAS  Colisión lateral            Despejado                  Turismo   \n173  BARAJAS  Colisión lateral            Despejado                  Turismo   \n422  BARAJAS             Caída            Despejado  Motocicleta hasta 125cc   \n546  BARAJAS           Alcance            Despejado                  Turismo   \n547  BARAJAS           Alcance            Despejado                  Turismo   \n\n     ...       rango_edad sexo cod_lesividad  \\\n172  ...  De 35 a 39 años    H           NaN   \n173  ...  De 55 a 59 años    H           NaN   \n422  ...  De 40 a 44 años    H           1.0   \n546  ...  De 25 a 29 años    M          14.0   \n547  ...  De 40 a 44 años    M           7.0   \n\n                                             lesividad coordenada_x_utm  \\\n172                                                NaN        451350,93   \n173                                                NaN        451350,93   \n422        Atención en urgencias sin posterior ingreso       447558,404   \n546                           Sin asistencia sanitaria       450586,357   \n547  Asistencia sanitaria sólo en el lugar del acci...       450586,357   \n\n    coordenada_y_utm positiva_alcohol  positiva_droga  numero_pasajeros  \\\n172       4479345,54              0.0             0.0                 2   \n173       4479345,54              0.0             0.0                 2   \n422      4480407,883              0.0             0.0                 1   \n546      4479813,482              0.0             0.0                 2   \n547      4479813,482              0.0             0.0                 2   \n\n     fugado  \n172      No  \n173      No  \n422      No  \n546      No  \n547      No  \n\n[5 rows x 21 columns]",
      "text/html": "<div>\n<style scoped>\n    .dataframe tbody tr th:only-of-type {\n        vertical-align: middle;\n    }\n\n    .dataframe tbody tr th {\n        vertical-align: top;\n    }\n\n    .dataframe thead th {\n        text-align: right;\n    }\n</style>\n<table border=\"1\" class=\"dataframe\">\n  <thead>\n    <tr style=\"text-align: right;\">\n      <th></th>\n      <th>num_expediente</th>\n      <th>fecha</th>\n      <th>hora</th>\n      <th>localizacion</th>\n      <th>numero</th>\n      <th>cod_distrito</th>\n      <th>distrito</th>\n      <th>tipo_accidente</th>\n      <th>estado_meteorológico</th>\n      <th>tipo_vehiculo</th>\n      <th>...</th>\n      <th>rango_edad</th>\n      <th>sexo</th>\n      <th>cod_lesividad</th>\n      <th>lesividad</th>\n      <th>coordenada_x_utm</th>\n      <th>coordenada_y_utm</th>\n      <th>positiva_alcohol</th>\n      <th>positiva_droga</th>\n      <th>numero_pasajeros</th>\n      <th>fugado</th>\n    </tr>\n  </thead>\n  <tbody>\n    <tr>\n      <th>172</th>\n      <td>2022S000091</td>\n      <td>03/01/2022</td>\n      <td>9:50:00</td>\n      <td>AEROP. TERMINAL T-2, 0</td>\n      <td>0</td>\n      <td>21.0</td>\n      <td>BARAJAS</td>\n      <td>Colisión lateral</td>\n      <td>Despejado</td>\n      <td>Turismo</td>\n      <td>...</td>\n      <td>De 35 a 39 años</td>\n      <td>H</td>\n      <td>NaN</td>\n      <td>NaN</td>\n      <td>451350,93</td>\n      <td>4479345,54</td>\n      <td>0.0</td>\n      <td>0.0</td>\n      <td>2</td>\n      <td>No</td>\n    </tr>\n    <tr>\n      <th>173</th>\n      <td>2022S000091</td>\n      <td>03/01/2022</td>\n      <td>9:50:00</td>\n      <td>AEROP. TERMINAL T-2, 0</td>\n      <td>0</td>\n      <td>21.0</td>\n      <td>BARAJAS</td>\n      <td>Colisión lateral</td>\n      <td>Despejado</td>\n      <td>Turismo</td>\n      <td>...</td>\n      <td>De 55 a 59 años</td>\n      <td>H</td>\n      <td>NaN</td>\n      <td>NaN</td>\n      <td>451350,93</td>\n      <td>4479345,54</td>\n      <td>0.0</td>\n      <td>0.0</td>\n      <td>2</td>\n      <td>No</td>\n    </tr>\n    <tr>\n      <th>422</th>\n      <td>2022S000240</td>\n      <td>06/01/2022</td>\n      <td>10:00:00</td>\n      <td>SALIDA M-11</td>\n      <td>1</td>\n      <td>21.0</td>\n      <td>BARAJAS</td>\n      <td>Caída</td>\n      <td>Despejado</td>\n      <td>Motocicleta hasta 125cc</td>\n      <td>...</td>\n      <td>De 40 a 44 años</td>\n      <td>H</td>\n      <td>1.0</td>\n      <td>Atención en urgencias sin posterior ingreso</td>\n      <td>447558,404</td>\n      <td>4480407,883</td>\n      <td>0.0</td>\n      <td>0.0</td>\n      <td>1</td>\n      <td>No</td>\n    </tr>\n    <tr>\n      <th>546</th>\n      <td>2022S000298</td>\n      <td>07/01/2022</td>\n      <td>16:35:00</td>\n      <td>GTA. ERMITA DE LA VIRGEN DE LA SOLEDAD / AVDA....</td>\n      <td>0</td>\n      <td>21.0</td>\n      <td>BARAJAS</td>\n      <td>Alcance</td>\n      <td>Despejado</td>\n      <td>Turismo</td>\n      <td>...</td>\n      <td>De 25 a 29 años</td>\n      <td>M</td>\n      <td>14.0</td>\n      <td>Sin asistencia sanitaria</td>\n      <td>450586,357</td>\n      <td>4479813,482</td>\n      <td>0.0</td>\n      <td>0.0</td>\n      <td>2</td>\n      <td>No</td>\n    </tr>\n    <tr>\n      <th>547</th>\n      <td>2022S000298</td>\n      <td>07/01/2022</td>\n      <td>16:35:00</td>\n      <td>GTA. ERMITA DE LA VIRGEN DE LA SOLEDAD / AVDA....</td>\n      <td>0</td>\n      <td>21.0</td>\n      <td>BARAJAS</td>\n      <td>Alcance</td>\n      <td>Despejado</td>\n      <td>Turismo</td>\n      <td>...</td>\n      <td>De 40 a 44 años</td>\n      <td>M</td>\n      <td>7.0</td>\n      <td>Asistencia sanitaria sólo en el lugar del acci...</td>\n      <td>450586,357</td>\n      <td>4479813,482</td>\n      <td>0.0</td>\n      <td>0.0</td>\n      <td>2</td>\n      <td>No</td>\n    </tr>\n  </tbody>\n</table>\n<p>5 rows × 21 columns</p>\n</div>"
     },
     "execution_count": 4,
     "metadata": {},
     "output_type": "execute_result"
    }
   ],
   "source": [
    "df[df['distrito'] == 'BARAJAS'].head()"
   ],
   "metadata": {
    "collapsed": false,
    "ExecuteTime": {
     "end_time": "2023-11-17T17:13:40.183332312Z",
     "start_time": "2023-11-17T17:13:40.121771959Z"
    }
   },
   "id": "c5b809601f9e9d16"
  },
  {
   "cell_type": "code",
   "execution_count": 5,
   "outputs": [
    {
     "data": {
      "text/plain": "num_expediente                                                2023S009762\nfecha                                                          16/03/2023\nhora                                                             22:40:00\nlocalizacion            GTA. ISIDRO GONZALEZ VELAZQUEZ / CALL. FRANCIS...\nnumero                                                                NaN\ncod_distrito                                                         21.0\ndistrito                                                          BARAJAS\ntipo_accidente                               Choque contra obstáculo fijo\nestado_meteorológico                                            Despejado\ntipo_vehiculo                                                     Turismo\ntipo_persona                                                    Conductor\nrango_edad                                                De 45 a 49 años\nsexo                                                                    M\ncod_lesividad                                                         NaN\nlesividad                                                             NaN\ncoordenada_x_utm                                               446979.419\ncoordenada_y_utm                                              4481398.946\npositiva_alcohol                                                      0.0\npositiva_droga                                                        0.0\nnumero_pasajeros                                                        1\nfugado                                                                 No\nName: 54805, dtype: object"
     },
     "execution_count": 5,
     "metadata": {},
     "output_type": "execute_result"
    }
   ],
   "source": [
    "df.loc[54805, 'cod_distrito'] = 21\n",
    "df.loc[54805, 'distrito'] = 'BARAJAS'\n",
    "df.loc[54805]"
   ],
   "metadata": {
    "collapsed": false,
    "ExecuteTime": {
     "end_time": "2023-11-17T17:13:40.199992175Z",
     "start_time": "2023-11-17T17:13:40.147878316Z"
    }
   },
   "id": "ef05a037a66b18b9"
  },
  {
   "cell_type": "code",
   "execution_count": 6,
   "outputs": [],
   "source": [
    "df.to_csv('Datasets/Data_Combinada.csv', index=False)"
   ],
   "metadata": {
    "collapsed": false,
    "ExecuteTime": {
     "end_time": "2023-11-17T17:13:43.488959041Z",
     "start_time": "2023-11-17T17:13:43.052581150Z"
    }
   },
   "id": "e3745f4e91a5a1f"
  }
 ],
 "metadata": {
  "kernelspec": {
   "display_name": "Python 3",
   "language": "python",
   "name": "python3"
  },
  "language_info": {
   "codemirror_mode": {
    "name": "ipython",
    "version": 2
   },
   "file_extension": ".py",
   "mimetype": "text/x-python",
   "name": "python",
   "nbconvert_exporter": "python",
   "pygments_lexer": "ipython2",
   "version": "2.7.6"
  }
 },
 "nbformat": 4,
 "nbformat_minor": 5
}
