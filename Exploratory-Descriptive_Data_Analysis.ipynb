{
 "cells": [
  {
   "cell_type": "markdown",
   "source": [
    "# Analisis Exploratorio"
   ],
   "metadata": {
    "collapsed": false
   }
  },
  {
   "cell_type": "code",
   "execution_count": 71,
   "outputs": [],
   "source": [
    "import numpy as np\n",
    "import pandas as pd\n",
    "import matplotlib.pyplot as plt"
   ],
   "metadata": {
    "collapsed": false,
    "ExecuteTime": {
     "end_time": "2023-11-23T14:30:58.766783765Z",
     "start_time": "2023-11-23T14:30:58.681848076Z"
    }
   }
  },
  {
   "cell_type": "markdown",
   "source": [
    "Luego de la limpieza de datos se hace un analisis exploratorio sobre los dataframes recurriendo a herramientas estadísticas y de visualización y  combinando dichas herramientas comenzaremos a extraer información adicional que pueda dar respuesta a nuestro problema."
   ],
   "metadata": {
    "collapsed": false
   }
  },
  {
   "cell_type": "markdown",
   "source": [
    "## Relación Fecha - Número de accidentes"
   ],
   "metadata": {
    "collapsed": false
   }
  },
  {
   "cell_type": "markdown",
   "source": [
    "Verificamos si existen fechas puntuales en las que existan mas ocurrencias de accidentes para poder preveer los mismos encontrando soluciones a futuro"
   ],
   "metadata": {
    "collapsed": false
   }
  },
  {
   "cell_type": "code",
   "execution_count": 72,
   "outputs": [
    {
     "name": "stderr",
     "output_type": "stream",
     "text": [
      "/tmp/ipykernel_12250/2582469843.py:1: DtypeWarning: Columns (15,16) have mixed types. Specify dtype option on import or set low_memory=False.\n",
      "  combined_data = pd.read_csv('./Datasets/Data_Combinada.csv')\n"
     ]
    },
    {
     "data": {
      "text/plain": "  num_expediente       fecha     hora  \\\n0    2022S000001  01/01/2022  1:30:00   \n1    2022S000001  01/01/2022  1:30:00   \n2    2022S000002  01/01/2022  0:30:00   \n3    2022S000002  01/01/2022  0:30:00   \n4    2022S000002  01/01/2022  0:30:00   \n\n                                 localizacion numero  cod_distrito  \\\n0                          AVDA. ALBUFERA, 19     19          13.0   \n1                          AVDA. ALBUFERA, 19     19          13.0   \n2  PLAZA. CANOVAS DEL CASTILLO / PASEO. PRADO      2           3.0   \n3  PLAZA. CANOVAS DEL CASTILLO / PASEO. PRADO      2           3.0   \n4  PLAZA. CANOVAS DEL CASTILLO / PASEO. PRADO      2           3.0   \n\n             distrito           tipo_accidente estado_meteorológico  \\\n0  PUENTE DE VALLECAS                  Alcance            Despejado   \n1  PUENTE DE VALLECAS                  Alcance            Despejado   \n2              RETIRO  Colisión fronto-lateral                  NaN   \n3              RETIRO  Colisión fronto-lateral                  NaN   \n4              RETIRO  Colisión fronto-lateral                  NaN   \n\n             tipo_vehiculo  ...       rango_edad sexo cod_lesividad  \\\n0                  Turismo  ...  De 30 a 34 años    M           NaN   \n1                  Turismo  ...  De 45 a 49 años    H           NaN   \n2  Motocicleta hasta 125cc  ...  De 30 a 34 años    H           NaN   \n3  Motocicleta hasta 125cc  ...  De 35 a 39 años    M           NaN   \n4                  Turismo  ...  De 40 a 44 años    H           NaN   \n\n   lesividad coordenada_x_utm coordenada_y_utm positiva_alcohol  \\\n0        NaN       443359,226      4472082,272              0.0   \n1        NaN       443359,226      4472082,272              0.0   \n2        NaN       441155,351      4474129,588              1.0   \n3        NaN       441155,351      4474129,588              0.0   \n4        NaN       441155,351      4474129,588              0.0   \n\n   positiva_droga  numero_pasajeros  fugado  \n0             0.0                 2      No  \n1             0.0                 2      No  \n2             0.0                 3      No  \n3             0.0                 3      No  \n4             0.0                 3      No  \n\n[5 rows x 21 columns]",
      "text/html": "<div>\n<style scoped>\n    .dataframe tbody tr th:only-of-type {\n        vertical-align: middle;\n    }\n\n    .dataframe tbody tr th {\n        vertical-align: top;\n    }\n\n    .dataframe thead th {\n        text-align: right;\n    }\n</style>\n<table border=\"1\" class=\"dataframe\">\n  <thead>\n    <tr style=\"text-align: right;\">\n      <th></th>\n      <th>num_expediente</th>\n      <th>fecha</th>\n      <th>hora</th>\n      <th>localizacion</th>\n      <th>numero</th>\n      <th>cod_distrito</th>\n      <th>distrito</th>\n      <th>tipo_accidente</th>\n      <th>estado_meteorológico</th>\n      <th>tipo_vehiculo</th>\n      <th>...</th>\n      <th>rango_edad</th>\n      <th>sexo</th>\n      <th>cod_lesividad</th>\n      <th>lesividad</th>\n      <th>coordenada_x_utm</th>\n      <th>coordenada_y_utm</th>\n      <th>positiva_alcohol</th>\n      <th>positiva_droga</th>\n      <th>numero_pasajeros</th>\n      <th>fugado</th>\n    </tr>\n  </thead>\n  <tbody>\n    <tr>\n      <th>0</th>\n      <td>2022S000001</td>\n      <td>01/01/2022</td>\n      <td>1:30:00</td>\n      <td>AVDA. ALBUFERA, 19</td>\n      <td>19</td>\n      <td>13.0</td>\n      <td>PUENTE DE VALLECAS</td>\n      <td>Alcance</td>\n      <td>Despejado</td>\n      <td>Turismo</td>\n      <td>...</td>\n      <td>De 30 a 34 años</td>\n      <td>M</td>\n      <td>NaN</td>\n      <td>NaN</td>\n      <td>443359,226</td>\n      <td>4472082,272</td>\n      <td>0.0</td>\n      <td>0.0</td>\n      <td>2</td>\n      <td>No</td>\n    </tr>\n    <tr>\n      <th>1</th>\n      <td>2022S000001</td>\n      <td>01/01/2022</td>\n      <td>1:30:00</td>\n      <td>AVDA. ALBUFERA, 19</td>\n      <td>19</td>\n      <td>13.0</td>\n      <td>PUENTE DE VALLECAS</td>\n      <td>Alcance</td>\n      <td>Despejado</td>\n      <td>Turismo</td>\n      <td>...</td>\n      <td>De 45 a 49 años</td>\n      <td>H</td>\n      <td>NaN</td>\n      <td>NaN</td>\n      <td>443359,226</td>\n      <td>4472082,272</td>\n      <td>0.0</td>\n      <td>0.0</td>\n      <td>2</td>\n      <td>No</td>\n    </tr>\n    <tr>\n      <th>2</th>\n      <td>2022S000002</td>\n      <td>01/01/2022</td>\n      <td>0:30:00</td>\n      <td>PLAZA. CANOVAS DEL CASTILLO / PASEO. PRADO</td>\n      <td>2</td>\n      <td>3.0</td>\n      <td>RETIRO</td>\n      <td>Colisión fronto-lateral</td>\n      <td>NaN</td>\n      <td>Motocicleta hasta 125cc</td>\n      <td>...</td>\n      <td>De 30 a 34 años</td>\n      <td>H</td>\n      <td>NaN</td>\n      <td>NaN</td>\n      <td>441155,351</td>\n      <td>4474129,588</td>\n      <td>1.0</td>\n      <td>0.0</td>\n      <td>3</td>\n      <td>No</td>\n    </tr>\n    <tr>\n      <th>3</th>\n      <td>2022S000002</td>\n      <td>01/01/2022</td>\n      <td>0:30:00</td>\n      <td>PLAZA. CANOVAS DEL CASTILLO / PASEO. PRADO</td>\n      <td>2</td>\n      <td>3.0</td>\n      <td>RETIRO</td>\n      <td>Colisión fronto-lateral</td>\n      <td>NaN</td>\n      <td>Motocicleta hasta 125cc</td>\n      <td>...</td>\n      <td>De 35 a 39 años</td>\n      <td>M</td>\n      <td>NaN</td>\n      <td>NaN</td>\n      <td>441155,351</td>\n      <td>4474129,588</td>\n      <td>0.0</td>\n      <td>0.0</td>\n      <td>3</td>\n      <td>No</td>\n    </tr>\n    <tr>\n      <th>4</th>\n      <td>2022S000002</td>\n      <td>01/01/2022</td>\n      <td>0:30:00</td>\n      <td>PLAZA. CANOVAS DEL CASTILLO / PASEO. PRADO</td>\n      <td>2</td>\n      <td>3.0</td>\n      <td>RETIRO</td>\n      <td>Colisión fronto-lateral</td>\n      <td>NaN</td>\n      <td>Turismo</td>\n      <td>...</td>\n      <td>De 40 a 44 años</td>\n      <td>H</td>\n      <td>NaN</td>\n      <td>NaN</td>\n      <td>441155,351</td>\n      <td>4474129,588</td>\n      <td>0.0</td>\n      <td>0.0</td>\n      <td>3</td>\n      <td>No</td>\n    </tr>\n  </tbody>\n</table>\n<p>5 rows × 21 columns</p>\n</div>"
     },
     "execution_count": 72,
     "metadata": {},
     "output_type": "execute_result"
    }
   ],
   "source": [
    "combined_data = pd.read_csv('./Datasets/Data_Combinada.csv')\n",
    "combined_data.head()"
   ],
   "metadata": {
    "collapsed": false,
    "ExecuteTime": {
     "end_time": "2023-11-23T14:30:58.979582806Z",
     "start_time": "2023-11-23T14:30:58.699171458Z"
    }
   }
  },
  {
   "cell_type": "code",
   "execution_count": 73,
   "outputs": [
    {
     "data": {
      "text/plain": "          fecha  ocurrencia\n358  18/11/2022         207\n319  16/12/2022         207\n142  08/02/2022         206\n25   02/03/2023         205\n465  24/03/2023         202",
      "text/html": "<div>\n<style scoped>\n    .dataframe tbody tr th:only-of-type {\n        vertical-align: middle;\n    }\n\n    .dataframe tbody tr th {\n        vertical-align: top;\n    }\n\n    .dataframe thead th {\n        text-align: right;\n    }\n</style>\n<table border=\"1\" class=\"dataframe\">\n  <thead>\n    <tr style=\"text-align: right;\">\n      <th></th>\n      <th>fecha</th>\n      <th>ocurrencia</th>\n    </tr>\n  </thead>\n  <tbody>\n    <tr>\n      <th>358</th>\n      <td>18/11/2022</td>\n      <td>207</td>\n    </tr>\n    <tr>\n      <th>319</th>\n      <td>16/12/2022</td>\n      <td>207</td>\n    </tr>\n    <tr>\n      <th>142</th>\n      <td>08/02/2022</td>\n      <td>206</td>\n    </tr>\n    <tr>\n      <th>25</th>\n      <td>02/03/2023</td>\n      <td>205</td>\n    </tr>\n    <tr>\n      <th>465</th>\n      <td>24/03/2023</td>\n      <td>202</td>\n    </tr>\n  </tbody>\n</table>\n</div>"
     },
     "execution_count": 73,
     "metadata": {},
     "output_type": "execute_result"
    }
   ],
   "source": [
    "#Crear el df date_ocurrency para saber las ocurrencias por fecha\n",
    "date_ocurrency = combined_data.groupby('fecha').size().reset_index(name='ocurrencia')\n",
    "date_ocurrency.sort_values(by='ocurrencia', ascending=False, inplace = True)\n",
    "date_ocurrency.head()"
   ],
   "metadata": {
    "collapsed": false,
    "ExecuteTime": {
     "end_time": "2023-11-23T14:30:58.980234468Z",
     "start_time": "2023-11-23T14:30:58.929972214Z"
    }
   }
  },
  {
   "cell_type": "code",
   "execution_count": 74,
   "outputs": [
    {
     "data": {
      "text/plain": "          fecha  ocurrencia\n358  18/11/2022         207\n319  16/12/2022         207\n142  08/02/2022         206\n25   02/03/2023         205\n465  24/03/2023         202\n..          ...         ...\n571  29/07/2023          52\n534  27/08/2022          51\n394  20/08/2022          47\n535  27/08/2023          44\n295  15/08/2023          28\n\n[608 rows x 2 columns]",
      "text/html": "<div>\n<style scoped>\n    .dataframe tbody tr th:only-of-type {\n        vertical-align: middle;\n    }\n\n    .dataframe tbody tr th {\n        vertical-align: top;\n    }\n\n    .dataframe thead th {\n        text-align: right;\n    }\n</style>\n<table border=\"1\" class=\"dataframe\">\n  <thead>\n    <tr style=\"text-align: right;\">\n      <th></th>\n      <th>fecha</th>\n      <th>ocurrencia</th>\n    </tr>\n  </thead>\n  <tbody>\n    <tr>\n      <th>358</th>\n      <td>18/11/2022</td>\n      <td>207</td>\n    </tr>\n    <tr>\n      <th>319</th>\n      <td>16/12/2022</td>\n      <td>207</td>\n    </tr>\n    <tr>\n      <th>142</th>\n      <td>08/02/2022</td>\n      <td>206</td>\n    </tr>\n    <tr>\n      <th>25</th>\n      <td>02/03/2023</td>\n      <td>205</td>\n    </tr>\n    <tr>\n      <th>465</th>\n      <td>24/03/2023</td>\n      <td>202</td>\n    </tr>\n    <tr>\n      <th>...</th>\n      <td>...</td>\n      <td>...</td>\n    </tr>\n    <tr>\n      <th>571</th>\n      <td>29/07/2023</td>\n      <td>52</td>\n    </tr>\n    <tr>\n      <th>534</th>\n      <td>27/08/2022</td>\n      <td>51</td>\n    </tr>\n    <tr>\n      <th>394</th>\n      <td>20/08/2022</td>\n      <td>47</td>\n    </tr>\n    <tr>\n      <th>535</th>\n      <td>27/08/2023</td>\n      <td>44</td>\n    </tr>\n    <tr>\n      <th>295</th>\n      <td>15/08/2023</td>\n      <td>28</td>\n    </tr>\n  </tbody>\n</table>\n<p>608 rows × 2 columns</p>\n</div>"
     },
     "execution_count": 74,
     "metadata": {},
     "output_type": "execute_result"
    }
   ],
   "source": [
    "date_ocurrency"
   ],
   "metadata": {
    "collapsed": false,
    "ExecuteTime": {
     "end_time": "2023-11-23T14:30:58.980634785Z",
     "start_time": "2023-11-23T14:30:58.930136749Z"
    }
   }
  },
  {
   "cell_type": "markdown",
   "source": [
    "Creamos un gráfico de lineas de las ocurrencias agrupadas por mes del año para facilitar la visualizacion de los datos y sacar conclusiones a traves de este"
   ],
   "metadata": {
    "collapsed": false
   }
  },
  {
   "cell_type": "code",
   "execution_count": 75,
   "outputs": [],
   "source": [
    "def extract_day(date_str: str) -> int:\n",
    "    date_parts = date_str.split('/')\n",
    "    if len(date_parts) >= 3:\n",
    "        return int(date_parts[0])\n",
    "\n",
    "\n",
    "def extract_month(date_str: str) -> int:\n",
    "    date_parts = date_str.split('/')\n",
    "    if len(date_parts) >= 3:\n",
    "        return int(date_parts[1])\n",
    "\n",
    "\n",
    "def extract_year(date_str: str) -> int:\n",
    "    date_parts = date_str.split('/')\n",
    "    if len(date_parts) >= 3:\n",
    "        return int(date_parts[2])\n",
    "\n",
    "\n",
    "date_ocurrency['day'] = date_ocurrency['fecha'].transform(extract_day)\n",
    "date_ocurrency['month'] = date_ocurrency['fecha'].transform(extract_month)\n",
    "date_ocurrency['year'] = date_ocurrency['fecha'].transform(extract_year)\n",
    "date_ocurrency.pop('fecha')\n",
    "date_ocurrency.sort_values(by=['year','month', 'day'], ascending=True, inplace=True)"
   ],
   "metadata": {
    "collapsed": false,
    "ExecuteTime": {
     "end_time": "2023-11-23T14:30:58.980793521Z",
     "start_time": "2023-11-23T14:30:58.930260548Z"
    }
   }
  },
  {
   "cell_type": "code",
   "execution_count": 76,
   "outputs": [
    {
     "data": {
      "text/plain": "    ocurrencia  day  month  year\n0           78    1      1  2022\n20          91    2      1  2022\n40          78    3      1  2022\n60          80    4      1  2022\n80         112    5      1  2022",
      "text/html": "<div>\n<style scoped>\n    .dataframe tbody tr th:only-of-type {\n        vertical-align: middle;\n    }\n\n    .dataframe tbody tr th {\n        vertical-align: top;\n    }\n\n    .dataframe thead th {\n        text-align: right;\n    }\n</style>\n<table border=\"1\" class=\"dataframe\">\n  <thead>\n    <tr style=\"text-align: right;\">\n      <th></th>\n      <th>ocurrencia</th>\n      <th>day</th>\n      <th>month</th>\n      <th>year</th>\n    </tr>\n  </thead>\n  <tbody>\n    <tr>\n      <th>0</th>\n      <td>78</td>\n      <td>1</td>\n      <td>1</td>\n      <td>2022</td>\n    </tr>\n    <tr>\n      <th>20</th>\n      <td>91</td>\n      <td>2</td>\n      <td>1</td>\n      <td>2022</td>\n    </tr>\n    <tr>\n      <th>40</th>\n      <td>78</td>\n      <td>3</td>\n      <td>1</td>\n      <td>2022</td>\n    </tr>\n    <tr>\n      <th>60</th>\n      <td>80</td>\n      <td>4</td>\n      <td>1</td>\n      <td>2022</td>\n    </tr>\n    <tr>\n      <th>80</th>\n      <td>112</td>\n      <td>5</td>\n      <td>1</td>\n      <td>2022</td>\n    </tr>\n  </tbody>\n</table>\n</div>"
     },
     "execution_count": 76,
     "metadata": {},
     "output_type": "execute_result"
    }
   ],
   "source": [
    "date_ocurrency.head()"
   ],
   "metadata": {
    "collapsed": false,
    "ExecuteTime": {
     "end_time": "2023-11-23T14:30:59.001705462Z",
     "start_time": "2023-11-23T14:30:58.930315639Z"
    }
   }
  },
  {
   "cell_type": "code",
   "execution_count": 77,
   "outputs": [
    {
     "data": {
      "text/plain": "month  year\n1      2022    496\n       2023    496\n2      2022    406\n       2023    406\n3      2022    496\n       2023    496\n4      2022    465\n       2023    465\n5      2022    496\n       2023    496\n6      2022    465\n       2023    465\n7      2022    496\n       2023    496\n8      2022    496\n       2023    496\n9      2022    465\n10     2022    496\n11     2022    465\n12     2022    496\nName: day, dtype: int64"
     },
     "execution_count": 77,
     "metadata": {},
     "output_type": "execute_result"
    }
   ],
   "source": [
    "df_monthly_ocurrency = date_ocurrency.groupby(['month', 'year']).sum()\n",
    "df_monthly_ocurrency.pop('day')"
   ],
   "metadata": {
    "collapsed": false,
    "ExecuteTime": {
     "end_time": "2023-11-23T14:30:59.002093229Z",
     "start_time": "2023-11-23T14:30:58.973945120Z"
    }
   }
  },
  {
   "cell_type": "code",
   "execution_count": 79,
   "outputs": [
    {
     "data": {
      "text/plain": "            ocurrencia\nmonth year            \n1     2022        3467\n      2023        3872\n2     2022        3678\n      2023        3636\n3     2022        3802",
      "text/html": "<div>\n<style scoped>\n    .dataframe tbody tr th:only-of-type {\n        vertical-align: middle;\n    }\n\n    .dataframe tbody tr th {\n        vertical-align: top;\n    }\n\n    .dataframe thead th {\n        text-align: right;\n    }\n</style>\n<table border=\"1\" class=\"dataframe\">\n  <thead>\n    <tr style=\"text-align: right;\">\n      <th></th>\n      <th></th>\n      <th>ocurrencia</th>\n    </tr>\n    <tr>\n      <th>month</th>\n      <th>year</th>\n      <th></th>\n    </tr>\n  </thead>\n  <tbody>\n    <tr>\n      <th rowspan=\"2\" valign=\"top\">1</th>\n      <th>2022</th>\n      <td>3467</td>\n    </tr>\n    <tr>\n      <th>2023</th>\n      <td>3872</td>\n    </tr>\n    <tr>\n      <th rowspan=\"2\" valign=\"top\">2</th>\n      <th>2022</th>\n      <td>3678</td>\n    </tr>\n    <tr>\n      <th>2023</th>\n      <td>3636</td>\n    </tr>\n    <tr>\n      <th>3</th>\n      <th>2022</th>\n      <td>3802</td>\n    </tr>\n  </tbody>\n</table>\n</div>"
     },
     "execution_count": 79,
     "metadata": {},
     "output_type": "execute_result"
    }
   ],
   "source": [
    "df_monthly_ocurrency.head()"
   ],
   "metadata": {
    "collapsed": false,
    "ExecuteTime": {
     "end_time": "2023-11-23T14:31:04.442383958Z",
     "start_time": "2023-11-23T14:31:04.422319653Z"
    }
   }
  },
  {
   "cell_type": "code",
   "execution_count": 81,
   "outputs": [],
   "source": [
    "df_monthly_ocurrency.reset_index(inplace=True)"
   ],
   "metadata": {
    "collapsed": false,
    "ExecuteTime": {
     "end_time": "2023-11-23T14:33:00.646640822Z",
     "start_time": "2023-11-23T14:33:00.623902334Z"
    }
   }
  },
  {
   "cell_type": "code",
   "execution_count": 82,
   "outputs": [
    {
     "data": {
      "text/plain": "<Figure size 1500x700 with 1 Axes>",
      "image/png": "[encoded data removed]"
     },
     "metadata": {},
     "output_type": "display_data"
    }
   ],
   "source": [
    "# Generar el gráfico de líneas agrupado por meses\n",
    "plt.figure(figsize=(15, 7))\n",
    "plt.plot(df_monthly_ocurrency[df_monthly_ocurrency['year']==2022].month, df_monthly_ocurrency[df_monthly_ocurrency['year']==2022].ocurrencia, marker='o', linestyle='-', color='b')\n",
    "plt.title('Ocurrencia de Accidentes por Mes 2022')\n",
    "plt.xlabel('Mes del Año')\n",
    "plt.ylabel('Número de Ocurrencias')\n",
    "plt.xticks(rotation=45)\n",
    "plt.grid(True, which='both', linestyle='--', linewidth=0.5)\n",
    "plt.tight_layout()\n",
    "plt.show()"
   ],
   "metadata": {
    "collapsed": false,
    "ExecuteTime": {
     "end_time": "2023-11-23T14:33:31.138247839Z",
     "start_time": "2023-11-23T14:33:30.925565938Z"
    }
   }
  },
  {
   "cell_type": "code",
   "execution_count": 84,
   "outputs": [
    {
     "data": {
      "text/plain": "<Figure size 1500x700 with 1 Axes>",
      "image/png": "[encoded data removed]"
     },
     "metadata": {},
     "output_type": "display_data"
    }
   ],
   "source": [
    "# Generar el gráfico de líneas agrupado por meses\n",
    "plt.figure(figsize=(15, 7))\n",
    "plt.plot(df_monthly_ocurrency[df_monthly_ocurrency['year']==2023].month, df_monthly_ocurrency[df_monthly_ocurrency['year']==2023].ocurrencia, marker='o', linestyle='-', color='b')\n",
    "plt.title('Ocurrencia de Accidentes por Mes 2023')\n",
    "plt.xlabel('Mes del Año')\n",
    "plt.ylabel('Número de Ocurrencias')\n",
    "plt.xticks(rotation=45)\n",
    "plt.grid(True, which='both', linestyle='--', linewidth=0.5)\n",
    "plt.tight_layout()\n",
    "plt.show()"
   ],
   "metadata": {
    "collapsed": false,
    "ExecuteTime": {
     "end_time": "2023-11-23T14:33:59.363510289Z",
     "start_time": "2023-11-23T14:33:59.184247287Z"
    }
   }
  },
  {
   "cell_type": "markdown",
   "source": [
    "El gráfico muestra una fluctuación en la ocurrencia de accidentes mes a mes, con ciertos periodos evidenciando picos elevados. Esta variabilidad puede estar influenciada por una serie de factores, como condiciones climáticas, festividades, o eventos locales. Distinguir los meses con alta ocurrencia de accidentes es crucial para tomar medidas preventivas y mejorar la seguridad vial.\n",
    "\n",
    "Entender las tendencias y patrones en este gráfico nos va a permitir anticipar y prepararnos mejor para futuros escenarios. Al cruzar estos datos con otros factores relevantes, se podrían identificar causas específicas detrás de los incrementos y descensos en las ocurrencias y, por lo tanto, desarrollar soluciones más efectivas."
   ],
   "metadata": {
    "collapsed": false
   }
  },
  {
   "cell_type": "markdown",
   "source": [
    "## Siguiendo con el análisis exploratorio contamos por distrito la cantidad de ocurrencias por mes y año"
   ],
   "metadata": {
    "collapsed": false
   }
  },
  {
   "cell_type": "code",
   "execution_count": null,
   "outputs": [],
   "source": [
    "# Extrayendo año y mes de la columna 'fecha' y creando una nueva columna 'year_month' sin modificar el dataframe original\n",
    "year_month = pd.to_datetime(combined_data['fecha'], dayfirst=True).dt.to_period('M')\n",
    "\n",
    "# Agrupando por 'year_month' y 'distrito' para contar las ocurrencias\n",
    "grouped_data = combined_data.groupby([year_month, 'distrito']).size().unstack().fillna(0)\n",
    "\n",
    "grouped_data.head()"
   ],
   "metadata": {
    "collapsed": false,
    "ExecuteTime": {
     "start_time": "2023-11-23T14:26:51.871488280Z"
    }
   }
  },
  {
   "cell_type": "markdown",
   "source": [
    "Ahora que hemos agrupado los datos por year_month y distrito y contado las ocurrencias, podemos proceder a crear un gráfico de barras sobrepuestas que muestra la distribución de ocurrencias por distrito a lo largo de los meses por año y visualizar si existe alg."
   ],
   "metadata": {
    "collapsed": false
   }
  },
  {
   "cell_type": "code",
   "execution_count": null,
   "outputs": [],
   "source": [
    "# Creando el gráfico de barras sobrepuestas\n",
    "fig, ax = plt.subplots(figsize=(15, 8))\n",
    "\n",
    "\n",
    "grouped_data.plot(kind='bar', stacked=True, ax=ax, colormap='tab20c')\n",
    "plt.title('Distribución de ocurrencias por distrito a lo largo de los meses por año')\n",
    "plt.ylabel('Número de ocurrencias')\n",
    "plt.xlabel('Año-Mes')\n",
    "plt.legend(title='Distrito', bbox_to_anchor=(1.05, 1), loc='upper left')\n",
    "\n",
    "# Rotando las etiquetas del eje x para mejorar la legibilidad\n",
    "plt.xticks(rotation=45)\n",
    "plt.tight_layout()\n",
    "plt.show()"
   ],
   "metadata": {
    "collapsed": false,
    "ExecuteTime": {
     "start_time": "2023-11-23T14:26:51.871670481Z"
    }
   }
  },
  {
   "cell_type": "markdown",
   "source": [
    "## Análisis del Gráfico de Barras por Distrito\n",
    "* **Distribución de Ocurrencias**: Algunos distritos presentan una mayor cantidad de ocurrencias que otros. Esto podría indicar áreas con mayor tráfico vehicular o puntos críticos que requieren atención.\n",
    "* **Variabilidad Temporal**: Existen variaciones mensuales en las ocurrencias por distrito que podrían estar influenciadas por factores estacionales como condiciones meteorológicas, períodos vacacionales, o eventos locales.\n",
    "* **Picos y Valles**: Los picos específicos en ciertos distritos pueden sugerir eventos o cambios temporales en el tráfico, como obras en carreteras, mientras que los valles podrían indicar períodos de menor actividad, como pueden ser las restricciones de tráfico."
   ],
   "metadata": {
    "collapsed": false
   }
  },
  {
   "cell_type": "markdown",
   "source": [
    "## Conclusión General Ocurrencias\n",
    "Los dos gráficos proporcionan perspectivas valiosas sobre las ocurrencias de accidentes. El gráfico de líneas es útil para comprender la tendencia general y los patrones estacionales de los accidentes a nivel de toda la ciudad. En cambio, el gráfico de barras sobrepuestas destaca las diferencias entre los distritos y puede ser clave para las intervenciones y políticas locales más dirigidas. La combinación de ambos enfoques puede ayudar a las autoridades a diseñar estrategias de prevención de accidentes más efectivas, dirigidas tanto a áreas específicas como a la ciudad en general."
   ],
   "metadata": {
    "collapsed": false
   }
  },
  {
   "cell_type": "markdown",
   "source": [
    "# Verificamos si afecta el numero de pasajeros en un choque\n",
    "### De esta manera sabremos si podemos quitarnos los datos de los pasajeros"
   ],
   "metadata": {
    "collapsed": false
   }
  },
  {
   "cell_type": "markdown",
   "source": [
    "1. fusionar nuestra serie pasajeros_por_accidente con el DataFrame combined_data para tener el número de pasajeros junto con los demás datos"
   ],
   "metadata": {
    "collapsed": false
   }
  },
  {
   "cell_type": "code",
   "execution_count": null,
   "outputs": [],
   "source": [
    "# Explorar la relación entre el número de pasajeros y el tipo de accidente\n",
    "relacion_pasajeros_tipo = combined_data.groupby(['tipo_accidente', 'numero_pasajeros']).size().unstack().fillna(0)\n",
    "\n",
    "# Mostrar la relación\n",
    "relacion_pasajeros_tipo"
   ],
   "metadata": {
    "collapsed": false,
    "ExecuteTime": {
     "start_time": "2023-11-23T14:26:51.871766985Z"
    }
   }
  },
  {
   "cell_type": "markdown",
   "source": [
    "Observamos que no tiene mucha relacion el tipo de accidente con el numero de pasajeros, más que la mayoría de los accidentes involucran vehículos sin pasajeros o con un número limitado de pasajeros."
   ],
   "metadata": {
    "collapsed": false
   }
  },
  {
   "cell_type": "markdown",
   "source": [
    "## Verificamos con la gravedad del accidente (lesividad)"
   ],
   "metadata": {
    "collapsed": false
   }
  },
  {
   "cell_type": "markdown",
   "source": [
    "1. Calculamos la proporción de accidentes con distintos niveles de lesividad en función del número de pasajeros"
   ],
   "metadata": {
    "collapsed": false
   }
  },
  {
   "cell_type": "code",
   "execution_count": null,
   "outputs": [],
   "source": [
    "proporcion_lesividad = combined_data.groupby(['numero_pasajeros', 'lesividad']).size().unstack().fillna(0)\n",
    "proporcion_lesividad = proporcion_lesividad.div(proporcion_lesividad.sum(axis=1), axis=0)  # Convertir a proporciones\n",
    "\n",
    "# Visualizar las proporciones\n",
    "proporcion_lesividad"
   ],
   "metadata": {
    "collapsed": false,
    "ExecuteTime": {
     "start_time": "2023-11-23T14:26:51.871885052Z"
    }
   }
  },
  {
   "cell_type": "markdown",
   "source": [
    "Observamos que en accidentes sin pasajeros o con un número limitado de pasajeros, la proporción de accidentes donde no se requiere asistencia sanitaria (columna \"Sin asistencia sanitaria\") tiende a ser más alta."
   ],
   "metadata": {
    "collapsed": false
   }
  },
  {
   "cell_type": "markdown",
   "source": [
    "2. Para obtener una imagen más clara, podemos visualizar estos datos. Un gráfico de áreas apiladas será útil para visualizar la distribución de niveles de lesividad en función del número de pasajeros."
   ],
   "metadata": {
    "collapsed": false
   }
  },
  {
   "cell_type": "code",
   "execution_count": null,
   "outputs": [],
   "source": [
    "colors = ['steelblue', 'darkorange', 'limegreen', 'red', 'purple', 'brown', 'pink', 'cyan']\n",
    "\n",
    "# Gráfico de barras apiladas\n",
    "#proporcion_lesividad.plot(kind='bar', stacked=True, figsize=(14,7), color=colors)\n",
    "#plt.title('Proporción de Lesividad en función del Número de Pasajeros')\n",
    "#plt.xlabel('Número de Pasajeros')\n",
    "#plt.ylabel('Proporción')\n",
    "#plt.legend(title='Lesividad', bbox_to_anchor=(1.05, 1), loc='upper left')\n",
    "#plt.tight_layout()\n",
    "#plt.show()\n",
    "\n",
    "# Gráfico de áreas apiladas\n",
    "fig, ax = plt.subplots(figsize=(14,7))\n",
    "proporcion_lesividad.plot(kind='area', stacked=True, ax=ax, color=colors, alpha=0.7)\n",
    "ax.set_title('Proporción de Lesividad en función del Número de Pasajeros')\n",
    "ax.set_xlabel('Número de Pasajeros')\n",
    "ax.set_ylabel('Proporción')\n",
    "ax.legend(title='Lesividad', bbox_to_anchor=(1.05, 1), loc='upper left')\n",
    "plt.tight_layout()\n",
    "plt.show()"
   ],
   "metadata": {
    "collapsed": false,
    "ExecuteTime": {
     "start_time": "2023-11-23T14:26:51.871966699Z"
    }
   }
  },
  {
   "cell_type": "markdown",
   "source": [
    "### Del Gráfico podemos sacar varias conclusiones:\n",
    "1. La mayoría de los accidentes, independientemente del número de pasajeros, caen en la categoría \"Sin asistencia sanitaria\", lo que indica que estos accidentes no resultaron en lesiones que requirieran atención médica.\n",
    "2. Para accidentes con un número más alto de pasajeros (por ejemplo, 12, 14 y 18 pasajeros), aunque el tamaño de la muestra es pequeño, parece haber una proporción mayor de accidentes en la categoría \"Sin asistencia sanitaria\" en comparación con los accidentes con menos pasajeros.\n",
    "3. Las proporciones de otras categorías de lesividad varían, pero no se observa un patrón claro en relación con el número de pasajeros.\n",
    "En general, basándonos en este análisis visual, no parece que el número de pasajeros tenga una influencia fuerte y clara en la gravedad del accidente, al menos en términos de lesividad."
   ],
   "metadata": {
    "collapsed": false
   }
  },
  {
   "cell_type": "markdown",
   "source": [
    "# Estudio de Momento del día y condición meteorológica\n",
    "Analizamos cómo la combinación de estos dos factores influye en la frecuencia de los accidentes. Específicamente, buscamos determinar si ciertas condiciones meteorológicas, como días despejados o lluviosos, tenían diferentes impactos en la ocurrencia de accidentes durante distintos momentos del día (mañana, tarde, noche). Este análisis ayudaría a identificar patrones y posibles correlaciones entre el momento del día y las condiciones del clima"
   ],
   "metadata": {
    "collapsed": false
   }
  },
  {
   "cell_type": "markdown",
   "source": [
    "Identificamos y comprender las columnas 'hora' y el 'estado meteorológico'."
   ],
   "metadata": {
    "collapsed": false
   }
  },
  {
   "cell_type": "code",
   "execution_count": null,
   "outputs": [],
   "source": [
    "# Revisar los valores únicos en las columnas relevantes: 'hora' y 'estado_meteorológico'\n",
    "unique_hours = combined_data['hora'].unique()\n",
    "unique_weather_conditions = combined_data['estado_meteorológico'].unique()\n",
    "unique_hours, unique_weather_conditions"
   ],
   "metadata": {
    "collapsed": false,
    "ExecuteTime": {
     "start_time": "2023-11-23T14:26:51.872043069Z"
    }
   }
  },
  {
   "cell_type": "markdown",
   "source": [
    "Agrupamos los datos según las nuevas categorías de hora y estado meteorológico. Luego calculamos la frecuencia de los accidentes para cada combinación de estas dos variables."
   ],
   "metadata": {
    "collapsed": false
   }
  },
  {
   "cell_type": "code",
   "execution_count": null,
   "outputs": [],
   "source": [
    "# Función para categorizar la hora del día\n",
    "def categorize_hour(time_str):\n",
    "    if not pd.isnull(time_str):\n",
    "        hour = int(time_str.split(':')[0])\n",
    "        if 5 <= hour < 12:\n",
    "            return 'Mañana'\n",
    "        elif 12 <= hour < 18:\n",
    "            return 'Tarde'\n",
    "        else:\n",
    "            return 'Noche'\n",
    "    else:\n",
    "        return 'Desconocido'\n",
    "\n",
    "# Aplicar la función a la columna 'hora'\n",
    "combined_data['categoria_hora'] = combined_data['hora'].apply(categorize_hour)\n",
    "\n",
    "# Manejar los valores nulos y desconocidos en 'estado_meteorológico'\n",
    "combined_data['estado_meteorológico'] = combined_data['estado_meteorológico'].fillna('Desconocido')\n",
    "\n",
    "# Contar la frecuencia de accidentes por combinación de categoría de hora y estado meteorológico\n",
    "accident_frequency = combined_data.groupby(['categoria_hora', 'estado_meteorológico']).size().unstack(fill_value=0)\n",
    "\n",
    "accident_frequency"
   ],
   "metadata": {
    "collapsed": false,
    "ExecuteTime": {
     "start_time": "2023-11-23T14:26:51.878909357Z"
    }
   }
  },
  {
   "cell_type": "markdown",
   "source": [
    "Creamos una visualización gráfica para interpretar de manera más sencilla y efectiva los resultados del análisis de frecuencia."
   ],
   "metadata": {
    "collapsed": false
   }
  },
  {
   "cell_type": "code",
   "execution_count": null,
   "outputs": [],
   "source": [
    "import seaborn as sns\n",
    "\n",
    "# Configuración de estilo de gráfico\n",
    "sns.set(style=\"whitegrid\")\n",
    "\n",
    "# Crear un gráfico de barras apiladas\n",
    "accident_frequency.plot(kind='bar', stacked=True, figsize=(12, 6))\n",
    "\n",
    "# Título y etiquetas\n",
    "plt.title('Frecuencia de Accidentes por Hora del Día y Estado Meteorológico')\n",
    "plt.xlabel('Categoría de Hora del Día')\n",
    "plt.ylabel('Frecuencia de Accidentes')\n",
    "plt.xticks(rotation=45)\n",
    "plt.legend(title='Estado Meteorológico', bbox_to_anchor=(1.05, 1), loc='upper left')\n",
    "\n",
    "# Mostrar el gráfico\n",
    "plt.tight_layout()\n",
    "plt.show()\n"
   ],
   "metadata": {
    "collapsed": false,
    "ExecuteTime": {
     "start_time": "2023-11-23T14:26:51.879102733Z"
    }
   }
  },
  {
   "cell_type": "markdown",
   "source": [
    "Al observar el gráfico de barras apiladas, concluimos que la mayoría de los accidentes ocurren durante la noche, especialmente en condiciones meteorológicas despejadas (debido a que mayor parte del tiempo está despejado, por lo que aumenta su frecuencia). También notamos un aumento significativo en la frecuencia de accidentes bajo lluvia débil durante las horas nocturnas. Esta tendencia sugiere que, aunque las condiciones despejadas son las más comunes para accidentes en todos los momentos del día, la lluvia débil parece ser un factor de riesgo particularmente importante durante la noche. Nuestro estudio resalta la importancia de considerar la interacción entre la hora del día y las condiciones meteorológicas al evaluar los riesgos de accidentes."
   ],
   "metadata": {
    "collapsed": false
   }
  },
  {
   "cell_type": "markdown",
   "source": [
    "# Distribución de las edades de las personas involucradas en distintos tipos de accidentes."
   ],
   "metadata": {
    "collapsed": false
   }
  },
  {
   "cell_type": "markdown",
   "source": [
    "1. Transformamos los rangos de edad en marcas de clase (valores numéricos medios) para permitir cálculos estadísticos.\n",
    "2. Agrupar los datos por tipo de accidente y calcular los percentiles para entender la distribución de la edad dentro de cada categoría de accidente."
   ],
   "metadata": {
    "collapsed": false
   }
  },
  {
   "cell_type": "code",
   "execution_count": 36,
   "outputs": [
    {
     "ename": "KeyError",
     "evalue": "'Column not found: edad_media'",
     "output_type": "error",
     "traceback": [
      "\u001B[0;31m---------------------------------------------------------------------------\u001B[0m",
      "\u001B[0;31mKeyError\u001B[0m                                  Traceback (most recent call last)",
      "Cell \u001B[0;32mIn[36], line 27\u001B[0m\n\u001B[1;32m     24\u001B[0m combined_data[\u001B[38;5;124m'\u001B[39m\u001B[38;5;124mmarca_clase_edad\u001B[39m\u001B[38;5;124m'\u001B[39m] \u001B[38;5;241m=\u001B[39m combined_data[\u001B[38;5;124m'\u001B[39m\u001B[38;5;124mrango_edad\u001B[39m\u001B[38;5;124m'\u001B[39m]\u001B[38;5;241m.\u001B[39mmap(age_range_to_midpoint)\n\u001B[1;32m     26\u001B[0m \u001B[38;5;66;03m# Agrupar los datos por tipo de accidente y calcular los percentiles de edad\u001B[39;00m\n\u001B[0;32m---> 27\u001B[0m percentiles_age_by_accident_type \u001B[38;5;241m=\u001B[39m combined_data\u001B[38;5;241m.\u001B[39mgroupby(\u001B[38;5;124m'\u001B[39m\u001B[38;5;124mtipo_accidente\u001B[39m\u001B[38;5;124m'\u001B[39m)[\u001B[38;5;124m'\u001B[39m\u001B[38;5;124medad_media\u001B[39m\u001B[38;5;124m'\u001B[39m]\u001B[38;5;241m.\u001B[39mdescribe(percentiles\u001B[38;5;241m=\u001B[39m[\u001B[38;5;241m.25\u001B[39m, \u001B[38;5;241m.5\u001B[39m, \u001B[38;5;241m.75\u001B[39m])\n\u001B[1;32m     29\u001B[0m percentiles_age_by_accident_type\n",
      "File \u001B[0;32m~/anaconda3/lib/python3.11/site-packages/pandas/core/groupby/generic.py:1961\u001B[0m, in \u001B[0;36mDataFrameGroupBy.__getitem__\u001B[0;34m(self, key)\u001B[0m\n\u001B[1;32m   1954\u001B[0m \u001B[38;5;28;01mif\u001B[39;00m \u001B[38;5;28misinstance\u001B[39m(key, \u001B[38;5;28mtuple\u001B[39m) \u001B[38;5;129;01mand\u001B[39;00m \u001B[38;5;28mlen\u001B[39m(key) \u001B[38;5;241m>\u001B[39m \u001B[38;5;241m1\u001B[39m:\n\u001B[1;32m   1955\u001B[0m     \u001B[38;5;66;03m# if len == 1, then it becomes a SeriesGroupBy and this is actually\u001B[39;00m\n\u001B[1;32m   1956\u001B[0m     \u001B[38;5;66;03m# valid syntax, so don't raise\u001B[39;00m\n\u001B[1;32m   1957\u001B[0m     \u001B[38;5;28;01mraise\u001B[39;00m \u001B[38;5;167;01mValueError\u001B[39;00m(\n\u001B[1;32m   1958\u001B[0m         \u001B[38;5;124m\"\u001B[39m\u001B[38;5;124mCannot subset columns with a tuple with more than one element. \u001B[39m\u001B[38;5;124m\"\u001B[39m\n\u001B[1;32m   1959\u001B[0m         \u001B[38;5;124m\"\u001B[39m\u001B[38;5;124mUse a list instead.\u001B[39m\u001B[38;5;124m\"\u001B[39m\n\u001B[1;32m   1960\u001B[0m     )\n\u001B[0;32m-> 1961\u001B[0m \u001B[38;5;28;01mreturn\u001B[39;00m \u001B[38;5;28msuper\u001B[39m()\u001B[38;5;241m.\u001B[39m\u001B[38;5;21m__getitem__\u001B[39m(key)\n",
      "File \u001B[0;32m~/anaconda3/lib/python3.11/site-packages/pandas/core/base.py:244\u001B[0m, in \u001B[0;36mSelectionMixin.__getitem__\u001B[0;34m(self, key)\u001B[0m\n\u001B[1;32m    242\u001B[0m \u001B[38;5;28;01melse\u001B[39;00m:\n\u001B[1;32m    243\u001B[0m     \u001B[38;5;28;01mif\u001B[39;00m key \u001B[38;5;129;01mnot\u001B[39;00m \u001B[38;5;129;01min\u001B[39;00m \u001B[38;5;28mself\u001B[39m\u001B[38;5;241m.\u001B[39mobj:\n\u001B[0;32m--> 244\u001B[0m         \u001B[38;5;28;01mraise\u001B[39;00m \u001B[38;5;167;01mKeyError\u001B[39;00m(\u001B[38;5;124mf\u001B[39m\u001B[38;5;124m\"\u001B[39m\u001B[38;5;124mColumn not found: \u001B[39m\u001B[38;5;132;01m{\u001B[39;00mkey\u001B[38;5;132;01m}\u001B[39;00m\u001B[38;5;124m\"\u001B[39m)\n\u001B[1;32m    245\u001B[0m     ndim \u001B[38;5;241m=\u001B[39m \u001B[38;5;28mself\u001B[39m\u001B[38;5;241m.\u001B[39mobj[key]\u001B[38;5;241m.\u001B[39mndim\n\u001B[1;32m    246\u001B[0m     \u001B[38;5;28;01mreturn\u001B[39;00m \u001B[38;5;28mself\u001B[39m\u001B[38;5;241m.\u001B[39m_gotitem(key, ndim\u001B[38;5;241m=\u001B[39mndim)\n",
      "\u001B[0;31mKeyError\u001B[0m: 'Column not found: edad_media'"
     ]
    }
   ],
   "source": [
    "# Crear un diccionario para mapear los rangos de edad a marcas de clase (valor medio)\n",
    "age_range_to_midpoint = {\n",
    "    'Menor de 5 años': 2.5,\n",
    "    'De 6 a 9 años': 7.5,\n",
    "    'De 10 a 14 años': 12.5,\n",
    "    'De 15 a 17 años': 16,\n",
    "    'De 18 a 20 años': 19,\n",
    "    'De 21 a 24 años': 22.5,\n",
    "    'De 25 a 29 años': 27,\n",
    "    'De 30 a 34 años': 32,\n",
    "    'De 35 a 39 años': 37,\n",
    "    'De 40 a 44 años': 42,\n",
    "    'De 45 a 49 años': 47,\n",
    "    'De 50 a 54 años': 52,\n",
    "    'De 55 a 59 años': 57,\n",
    "    'De 60 a 64 años': 62,\n",
    "    'De 65 a 69 años': 67,\n",
    "    'De 70 a 74 años': 72,\n",
    "    'Más de 74 años': 77,\n",
    "    'Desconocido': np.nan  # Asignar NaN para los rangos de edad desconocidos\n",
    "}\n",
    "\n",
    "# Convertir los rangos de edad a marcas de clase\n",
    "combined_data['marca_clase_edad'] = combined_data['rango_edad'].map(age_range_to_midpoint)\n",
    "\n",
    "# Agrupar los datos por tipo de accidente y calcular los percentiles de edad\n",
    "percentiles_age_by_accident_type = combined_data.groupby('tipo_accidente')['edad_media'].describe(percentiles=[.25, .5, .75])\n",
    "\n",
    "percentiles_age_by_accident_type"
   ],
   "metadata": {
    "collapsed": false,
    "ExecuteTime": {
     "start_time": "2023-11-23T14:26:51.894620599Z"
    }
   }
  },
  {
   "cell_type": "markdown",
   "source": [
    "Creamos una visualización gráfica para interpretar de manera clara y efectiva la distribución de edades por tipo de accidente."
   ],
   "metadata": {
    "collapsed": false
   }
  },
  {
   "cell_type": "code",
   "execution_count": null,
   "outputs": [],
   "source": [
    "# Crear un gráfico de caja para visualizar la distribución de edades por tipo de accidente\n",
    "plt.figure(figsize=(15, 8))\n",
    "sns.boxplot(x='edad_media', y='tipo_accidente', data=combined_data, palette=\"Set3\")\n",
    "\n",
    "# Título y etiquetas\n",
    "plt.title('Distribución de Edades por Tipo de Accidente')\n",
    "plt.xlabel('Edad')\n",
    "plt.ylabel('Tipo de Accidente')\n",
    "\n",
    "# Mostrar el gráfico\n",
    "plt.tight_layout()\n",
    "plt.show()"
   ],
   "metadata": {
    "collapsed": false,
    "ExecuteTime": {
     "start_time": "2023-11-23T14:26:52.211608045Z"
    }
   }
  },
  {
   "cell_type": "markdown",
   "source": [
    "El gráfico de caja que hemos creado revela diferencias significativas en la distribución de edades entre los distintos tipos de accidentes. Se observa que algunos tipos de accidentes, como los atropellos a personas, presentan una distribución de edades más amplia y una mediana más alta, lo que indica una mayor participación de individuos de edad avanzada en estos accidentes. Por otro lado, otros tipos de accidentes muestran una concentración más estrecha de edades, sugiriendo un grupo objetivo específico más susceptible"
   ],
   "metadata": {
    "collapsed": false
   }
  },
  {
   "cell_type": "markdown",
   "source": [
    "Del análisis de los datos de accidentes, centrado en la relación entre la edad de los individuos involucrados y los tipos de accidentes, se puede resumir en los siguientes puntos clave:\n",
    "\n",
    "1. Diversidad en la Distribución de Edades: Observamos una variabilidad significativa en la distribución de edades entre los distintos tipos de accidentes. Esto indica que ciertos tipos de accidentes son más propensos a involucrar a grupos de edad específicos.\n",
    "\n",
    "2. Mayor Involucramiento de Edades Avanzadas en Algunos Accidentes: En particular, tipos de accidentes como atropellos a personas mostraron una mayor participación de individuos de mayor edad, lo cual se evidenció por una mediana de edad más alta y un rango más amplio en la distribución de edades.\n",
    "\n",
    "3. Concentración de Grupos de Edad en Accidentes Específicos: Algunos tipos de accidentes tenían una distribución de edades más concentrada, sugiriendo que ciertos grupos de edad son más susceptibles a estos accidentes específicos.\n",
    "\n",
    "4. Importancia para la Prevención y Seguridad: Estos hallazgos son cruciales para diseñar estrategias de prevención y seguridad vial que sean específicas para diferentes grupos de edad, especialmente para aquellos más vulnerables a ciertos tipos de accidentes."
   ],
   "metadata": {
    "collapsed": false
   }
  },
  {
   "cell_type": "markdown",
   "source": [
    "# Relación entre la ubicación de los accidentes (distritos específicos) y los tipos de accidentes que ocurren en esos lugares\n",
    "Determinamos las categorías únicas existentes en las columnas 'distrito' y 'tipo_accidente' para comprender la variedad de datos con los que trabajaríamos."
   ],
   "metadata": {
    "collapsed": false
   }
  },
  {
   "cell_type": "code",
   "execution_count": null,
   "outputs": [],
   "source": [
    "# Revisar los valores únicos para las columnas 'distrito' y 'tipo_accidente'\n",
    "unique_districts = combined_data['distrito'].unique()\n",
    "unique_accident_types = combined_data['tipo_accidente'].unique()\n",
    "\n",
    "unique_districts, unique_accident_types"
   ],
   "metadata": {
    "collapsed": false,
    "ExecuteTime": {
     "start_time": "2023-11-23T14:26:52.211745290Z"
    }
   }
  },
  {
   "cell_type": "markdown",
   "source": [
    "Normalizamos los datos para que las diferencias en el número total de accidentes por distrito no afecten el análisis y visualizar la relación mediante un mapa de calor."
   ],
   "metadata": {
    "collapsed": false
   }
  },
  {
   "cell_type": "code",
   "execution_count": null,
   "outputs": [],
   "source": [
    "# Crear una tabla cruzada (crosstab) para contar la frecuencia de tipos de accidente por distrito\n",
    "accident_type_by_district = pd.crosstab(combined_data['distrito'], combined_data['tipo_accidente'])\n",
    "\n",
    "# Normalizar los datos para que las diferencias en el número total de accidentes por distrito no sesguen los resultados\n",
    "accident_type_by_district_normalized = accident_type_by_district.div(accident_type_by_district.sum(axis=1), axis=0)\n",
    "\n",
    "# Crear el mapa de calor con una paleta de colores adecuada para ambos modos (oscuro y claro)\n",
    "plt.figure(figsize=(15, 10))\n",
    "sns.heatmap(accident_type_by_district_normalized, annot=False, cmap='Blues')\n",
    "\n",
    "# Título y etiquetas\n",
    "plt.title('Mapa de Calor de Tipos de Accidentes por Distrito')\n",
    "plt.xlabel('Tipo de Accidente')\n",
    "plt.ylabel('Distrito')\n",
    "\n",
    "# Mostrar el gráfico\n",
    "plt.xticks(rotation=45, ha='right')\n",
    "plt.yticks(rotation=0)\n",
    "plt.show()"
   ],
   "metadata": {
    "collapsed": false,
    "ExecuteTime": {
     "start_time": "2023-11-23T14:26:52.211815703Z"
    }
   }
  },
  {
   "cell_type": "markdown",
   "source": [
    "El mapa de calor que hemos creado muestra la frecuencia relativa de diferentes tipos de accidentes en cada distrito. A través de los gradientes de color, podemos observar patrones interesantes:\n",
    "\n",
    "* **Patrones de Frecuencia**: Algunos distritos presentan una mayor frecuencia de ciertos tipos de accidentes en comparación con otros. Por ejemplo, un distrito puede mostrar una mayor incidencia de \"Alcances\" o \"Colisiones laterales\" en comparación con otros tipos de accidentes.\n",
    "\n",
    "* **Distribución Geográfica**: La distribución de los tipos de accidentes no es uniforme a través de los distritos, indicando posibles factores geográficos o urbanísticos que influyen en el tipo de accidentes más comunes en cada área.\n",
    "\n",
    "* **Detección de Hotspots**: El mapa ayuda a identificar 'hotspots' o áreas donde ciertos tipos de accidentes son particularmente frecuentes. Estos puntos calientes podrían requerir atención especial en términos de seguridad vial o medidas preventivas.\n",
    "\n",
    "Este tipo de visualización es útil para una variedad de aplicaciones, especialmente en la planificación urbana, la gestión de la seguridad vial y en la toma de decisiones políticas:\n",
    "\n",
    "* **Planificación Urbana y Mejoras en la Infraestructura**: Identificar áreas con alta incidencia de ciertos tipos de accidentes puede indicar la necesidad de mejoras en la infraestructura, como señalización mejorada, cambios en el diseño de las carreteras, o la implementación de medidas de calmado de tráfico.\n",
    "\n",
    "* **Enfoque en la Seguridad Vial**: Permite a las autoridades locales y a las organizaciones de seguridad vial centrarse en áreas y tipos de accidentes específicos para campañas de concienciación y educación.\n",
    "\n",
    "* **Asignación de Recursos**: Ayuda a los servicios de emergencia y a los planificadores urbanos a asignar recursos y servicios de manera más eficiente, concentrándose en las áreas con mayor frecuencia de tipos específicos de accidentes."
   ],
   "metadata": {
    "collapsed": false
   }
  },
  {
   "cell_type": "markdown",
   "source": [
    "### Mapa de accidentes por distrito"
   ],
   "metadata": {
    "collapsed": false
   }
  },
  {
   "cell_type": "markdown",
   "source": [
    "Las columnas de coordenadas coordenada_x_utm y coordenada_y_utm están presentes en todos los registros, pero están en formato de objeto (probablemente debido a la presencia de comas como separadores decimales). Necesitamos convertir estas columnas a un formato numérico adecuado para poder utilizarlas en un mapa.\n",
    "\n",
    "Realizamos la conversión de estas coordenadas y luego procederé a crear un mapa que muestre los accidentes por distrito."
   ],
   "metadata": {
    "collapsed": false
   }
  },
  {
   "cell_type": "code",
   "execution_count": null,
   "outputs": [],
   "source": [
    "# Checking the data types and missing values in the coordinate columns\n",
    "coord_columns_info = combined_data[['coordenada_x_utm', 'coordenada_y_utm']].info()\n",
    "\n",
    "# Displaying the first few non-null coordinate values to understand their format\n",
    "sample_coords = combined_data.dropna(subset=['coordenada_x_utm', 'coordenada_y_utm']).head()[['coordenada_x_utm', 'coordenada_y_utm']]\n",
    "sample_coords"
   ],
   "metadata": {
    "collapsed": false,
    "ExecuteTime": {
     "start_time": "2023-11-23T14:26:52.211910956Z"
    }
   }
  },
  {
   "cell_type": "code",
   "execution_count": null,
   "outputs": [],
   "source": [
    "# Reemplazamos comas con puntos y convertimos coordenadas a numérico\n",
    "combined_data['coordenada_x_utm'] = pd.to_numeric(combined_data['coordenada_x_utm'].str.replace(',', '.'))\n",
    "combined_data['coordenada_y_utm'] = pd.to_numeric(combined_data['coordenada_y_utm'].str.replace(',', '.'))\n",
    "\n",
    "# Check\n",
    "combined_data[['coordenada_x_utm', 'coordenada_y_utm']].info()"
   ],
   "metadata": {
    "collapsed": false,
    "ExecuteTime": {
     "start_time": "2023-11-23T14:26:52.212101781Z"
    }
   }
  },
  {
   "cell_type": "markdown",
   "source": [
    "Parece que hay un problema con la conversión de las coordenadas a formato numérico. Algunas entradas en las columnas de coordenadas contienen valores no numéricos, como \"#¡VALOR!\", lo que está causando un error.\n",
    "Limpiamos los datos eliminando o reemplazando estos valores no numéricos. Luego intentaré nuevamente convertir las coordenadas a formato numérico. Vamos a proceder con este enfoque."
   ],
   "metadata": {
    "collapsed": false
   }
  },
  {
   "cell_type": "code",
   "execution_count": null,
   "outputs": [],
   "source": [
    "# Cleaning non-numeric values in coordinate columns\n",
    "combined_data['coordenada_x_utm'] = pd.to_numeric(combined_data['coordenada_x_utm'].replace(',', '.').replace('#¡VALOR!', np.nan), errors='coerce')\n",
    "combined_data['coordenada_y_utm'] = pd.to_numeric(combined_data['coordenada_y_utm'].replace(',', '.').replace('#¡VALOR!', np.nan), errors='coerce')\n",
    "\n",
    "# Check if the conversion was successful and count non-null values\n",
    "converted_coords_info = combined_data[['coordenada_x_utm', 'coordenada_y_utm']].info()\n",
    "non_null_coords_count = combined_data[['coordenada_x_utm', 'coordenada_y_utm']].notnull().sum()\n",
    "\n",
    "converted_coords_info, non_null_coords_count"
   ],
   "metadata": {
    "collapsed": false,
    "ExecuteTime": {
     "start_time": "2023-11-23T14:26:52.212216Z"
    }
   }
  },
  {
   "cell_type": "markdown",
   "source": [
    "Para el mapa, utilizaremos las coordenadas UTM (Universal Transverse Mercator), que son adecuadas para representar datos a nivel local o regional. Vamos a crear un mapa que muestre la distribución de los accidentes en estos distritos"
   ],
   "metadata": {
    "collapsed": false
   }
  },
  {
   "cell_type": "code",
   "execution_count": null,
   "outputs": [],
   "source": [
    "import geopandas as gpd\n",
    "\n",
    "# Converting the DataFrame to a GeoDataFrame\n",
    "gdf = gpd.GeoDataFrame(combined_data, geometry=gpd.points_from_xy(combined_data.coordenada_x_utm, combined_data.coordenada_y_utm))\n",
    "\n",
    "# Setting the coordinate system to UTM (assuming the data is in a UTM zone appropriate for the location)\n",
    "gdf.set_crs(epsg=25830, inplace=True)\n",
    "\n",
    "# Convert to geographic coordinates (longitude, latitude) for mapping\n",
    "gdf = gdf.to_crs(epsg=4326)\n",
    "\n",
    "# Plotting the data\n",
    "plt.figure(figsize=(10, 10))\n",
    "gdf.plot(markersize=1, color='blue')\n",
    "plt.title('Mapa de Accidentes por Distrito')\n",
    "plt.xlabel('Longitud')\n",
    "plt.ylabel('Latitud')\n",
    "plt.grid(True)\n",
    "plt.show()"
   ],
   "metadata": {
    "collapsed": false,
    "ExecuteTime": {
     "start_time": "2023-11-23T14:26:52.212319057Z"
    }
   }
  },
  {
   "cell_type": "markdown",
   "source": [
    "Limpiamos las filas duplicadas o filas completamente nulas las eliminamos para evitar tener datos repetidos"
   ],
   "metadata": {
    "collapsed": false
   }
  },
  {
   "cell_type": "markdown",
   "source": [
    "Eliminamos las siguientes columnas:\n",
    " 1. **Provincia, Municipio, Estación y Punto Muestreo**, ya que no nos vamos a especificar tan detalladamente la localización\n",
    "2. Trabajamos sobre las columnas que comiencen en '**V**', ya que estas solo verifican si el valor es valido, cuando sea 'N' eliminamos ese dato, ya que no es válido y luego eliminamos estas columnas."
   ],
   "metadata": {
    "collapsed": false
   }
  },
  {
   "cell_type": "markdown",
   "source": [
    "# Tabla de Códigos de Magnitud:"
   ],
   "metadata": {
    "collapsed": false
   }
  },
  {
   "cell_type": "markdown",
   "source": [
    "# Buscamos el estado meteorológico por fecha y hora para reemplazar los valores nulos de esta columna"
   ],
   "metadata": {
    "collapsed": false
   }
  },
  {
   "cell_type": "markdown",
   "source": [
    "Iniciamos verificando los tipos de datos que hay en la columna estado meteorológico para saber los valores a reemplazar"
   ],
   "metadata": {
    "collapsed": false
   }
  },
  {
   "cell_type": "code",
   "execution_count": null,
   "outputs": [],
   "source": [
    "combined_data['estado_meteorológico'].value_counts()"
   ],
   "metadata": {
    "collapsed": false,
    "ExecuteTime": {
     "start_time": "2023-11-23T14:26:52.212415276Z"
    }
   }
  },
  {
   "cell_type": "markdown",
   "source": [
    "Cuando el valor sea desconocido los convertimos a nulo para reemplazarlos con los nulos, ya que esto no nos aporta información adicional"
   ],
   "metadata": {
    "collapsed": false
   }
  },
  {
   "cell_type": "code",
   "execution_count": null,
   "outputs": [],
   "source": [
    "combined_data.loc[combined_data['estado_meteorológico'] == 'Se desconoce'] = None\n",
    "combined_data['estado_meteorológico'].value_counts()"
   ],
   "metadata": {
    "collapsed": false,
    "ExecuteTime": {
     "start_time": "2023-11-23T14:26:52.212496249Z"
    }
   }
  },
  {
   "cell_type": "code",
   "execution_count": null,
   "outputs": [],
   "source": [
    "weather_data_sep23 = pd.read_csv('./Datasets/sep_meteo23.csv', sep = ';')\n",
    "weather_data_sep23.head()"
   ],
   "metadata": {
    "collapsed": false,
    "ExecuteTime": {
     "start_time": "2023-11-23T14:26:52.212561672Z"
    }
   }
  },
  {
   "cell_type": "code",
   "execution_count": null,
   "outputs": [],
   "source": [
    "weather_data_sep23.drop_duplicates(inplace=True)\n",
    "weather_data_sep23.dropna(how='all', inplace=True)\n",
    "weather_data_sep23"
   ],
   "metadata": {
    "collapsed": false,
    "ExecuteTime": {
     "start_time": "2023-11-23T14:26:52.212624456Z"
    }
   }
  },
  {
   "cell_type": "markdown",
   "source": [
    "### Eliminamos las filas que no nos ayuden a saber el estado"
   ],
   "metadata": {
    "collapsed": false
   }
  },
  {
   "cell_type": "code",
   "execution_count": null,
   "outputs": [],
   "source": [
    "# Filtrar filas donde cualquier columna que comience con \"V\" contenga 'N'\n",
    "cols_v = [col for col in weather_data_sep23.columns if col.startswith('V')]\n",
    "weather_data_sep23.drop(index=weather_data_sep23[weather_data_sep23[cols_v].isin(['N']).any(axis=1)].index, inplace=True)\n",
    "\n",
    "# Eliminar columnas específicas directamente en el df\n",
    "columns_to_drop = ['PROVINCIA', 'MUNICIPIO', 'ESTACION', 'PUNTO_MUESTREO']\n",
    "weather_data_sep23.drop(columns=columns_to_drop, inplace=True, errors='ignore')\n",
    "\n",
    "weather_data_sep23[cols_v].value_counts()"
   ],
   "metadata": {
    "collapsed": false,
    "ExecuteTime": {
     "start_time": "2023-11-23T14:26:52.212690616Z"
    }
   }
  },
  {
   "cell_type": "markdown",
   "source": [
    "### Eliminamos las columnas que comiencen con 'V', ya que eliminamos los datos que no estaban aprobados"
   ],
   "metadata": {
    "collapsed": false
   }
  },
  {
   "cell_type": "code",
   "execution_count": null,
   "outputs": [],
   "source": [
    "weather_data_sep23.drop(columns= cols_v)"
   ],
   "metadata": {
    "collapsed": false,
    "ExecuteTime": {
     "start_time": "2023-11-23T14:26:52.212755202Z"
    }
   }
  },
  {
   "cell_type": "code",
   "execution_count": null,
   "outputs": [],
   "source": [
    "from IPython.display import display, Image\n",
    "display(Image(filename='Images/Captura de pantalla 2023-11-16 162330.png'))"
   ],
   "metadata": {
    "collapsed": false,
    "ExecuteTime": {
     "start_time": "2023-11-23T14:26:52.212844242Z"
    }
   }
  },
  {
   "cell_type": "markdown",
   "source": [
    "Eliminamos de la columna magnitud los siguientes códigos que no nos interesan en este momento:\n",
    "1. **80 (Radiación Ultravioleta)**\n",
    "2. **82 (Dirección del viento)**\n",
    "3. **86 (Humedad Relativa)**\n",
    "4. **87 (Presión Barométrica)**"
   ],
   "metadata": {
    "collapsed": false
   }
  },
  {
   "cell_type": "code",
   "execution_count": null,
   "outputs": [],
   "source": [
    "mask_unwanted = weather_data_sep23[weather_data_sep23['MAGNITUD'].isin([80, 82, 86, 87])].index\n",
    "weather_data_sep23.drop(index = mask_unwanted, inplace=True)\n",
    "weather_data_sep23['MAGNITUD'].value_counts()"
   ],
   "metadata": {
    "collapsed": false,
    "ExecuteTime": {
     "start_time": "2023-11-23T14:26:52.257847969Z"
    }
   }
  },
  {
   "cell_type": "code",
   "execution_count": null,
   "outputs": [],
   "source": [
    "mask_unwanted = weather_data_sep23['estado_meteorológico'] == 'Se desconoce'"
   ],
   "metadata": {
    "collapsed": false,
    "ExecuteTime": {
     "start_time": "2023-11-23T14:26:52.257991247Z"
    }
   }
  }
 ],
 "metadata": {
  "kernelspec": {
   "display_name": "Python 3",
   "language": "python",
   "name": "python3"
  },
  "language_info": {
   "codemirror_mode": {
    "name": "ipython",
    "version": 2
   },
   "file_extension": ".py",
   "mimetype": "text/x-python",
   "name": "python",
   "nbconvert_exporter": "python",
   "pygments_lexer": "ipython2",
   "version": "2.7.6"
  }
 },
 "nbformat": 4,
 "nbformat_minor": 0
}
