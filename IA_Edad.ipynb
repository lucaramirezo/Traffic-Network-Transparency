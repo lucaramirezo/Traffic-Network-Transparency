{
 "cells": [
  {
   "cell_type": "code",
   "execution_count": 79,
   "id": "initial_id",
   "metadata": {
    "collapsed": true,
    "ExecuteTime": {
     "end_time": "2023-11-17T17:17:22.871813932Z",
     "start_time": "2023-11-17T17:17:22.787991798Z"
    }
   },
   "outputs": [],
   "source": [
    "import numpy as np\n",
    "import pandas as pd\n",
    "import re\n",
    "import tensorflow as tf\n",
    "from tensorflow.python.keras.callbacks import ModelCheckpoint, TensorBoard\n",
    "from tensorflow.python.keras.models import Sequential\n",
    "from tensorflow.python.keras.layers import Dense, LeakyReLU\n",
    "from tensorflow.python.keras.models import load_model\n",
    "from tensorflow.python.keras.optimizers import adam_v2\n",
    "from sklearn.model_selection import train_test_split\n",
    "from datetime import datetime"
   ]
  },
  {
   "cell_type": "markdown",
   "source": [
    "# Preparar los datos\n",
    "Preparamos los datos previa separación. Codificamos numéricamente y eliminamos columnas que no vamos a utilizar"
   ],
   "metadata": {
    "collapsed": false
   },
   "id": "c459cc7eaf7ac21d"
  },
  {
   "cell_type": "code",
   "execution_count": 80,
   "outputs": [
    {
     "name": "stderr",
     "output_type": "stream",
     "text": [
      "/tmp/ipykernel_6794/4064952317.py:1: DtypeWarning: Columns (15,16) have mixed types. Specify dtype option on import or set low_memory=False.\n",
      "  df = pd.read_csv('Datasets/Data_Combinada.csv')\n"
     ]
    }
   ],
   "source": [
    "df = pd.read_csv('Datasets/Data_Combinada.csv')"
   ],
   "metadata": {
    "collapsed": false,
    "ExecuteTime": {
     "end_time": "2023-11-17T17:17:23.122044124Z",
     "start_time": "2023-11-17T17:17:22.803605123Z"
    }
   },
   "id": "944713f267db8d48"
  },
  {
   "cell_type": "markdown",
   "source": [
    "Eliminamos columnas que no utilizaremos, como las coordenadas, o columnas repetidas como distrito con código distrito y lesividad con código lesividad"
   ],
   "metadata": {
    "collapsed": false
   },
   "id": "2550294496817fb"
  },
  {
   "cell_type": "code",
   "execution_count": 81,
   "outputs": [],
   "source": [
    "df.drop(columns=['distrito', 'coordenada_y_utm', 'coordenada_x_utm', 'localizacion', 'numero', 'lesividad'],\n",
    "        inplace=True)"
   ],
   "metadata": {
    "collapsed": false,
    "ExecuteTime": {
     "end_time": "2023-11-17T17:17:23.122254489Z",
     "start_time": "2023-11-17T17:17:23.113189296Z"
    }
   },
   "id": "e613d44dfa52586f"
  },
  {
   "cell_type": "code",
   "execution_count": 82,
   "outputs": [],
   "source": [
    "df['sexo'].replace({'M': 0, 'H': 1}, inplace=True)"
   ],
   "metadata": {
    "collapsed": false,
    "ExecuteTime": {
     "end_time": "2023-11-17T17:17:23.122348798Z",
     "start_time": "2023-11-17T17:17:23.113338082Z"
    }
   },
   "id": "e0d47b76a44fb3ed"
  },
  {
   "cell_type": "code",
   "execution_count": 83,
   "outputs": [],
   "source": [
    "df['fugado'].replace({'No': 0, 'Si': 1}, inplace=True)"
   ],
   "metadata": {
    "collapsed": false,
    "ExecuteTime": {
     "end_time": "2023-11-17T17:17:23.201092621Z",
     "start_time": "2023-11-17T17:17:23.117564644Z"
    }
   },
   "id": "5959f19036105faa"
  },
  {
   "cell_type": "code",
   "execution_count": 84,
   "outputs": [],
   "source": [
    "df['tipo_persona'].replace({'Conductor': 3, 'Pasajero': 2, 'No': 1}, inplace=True)"
   ],
   "metadata": {
    "collapsed": false,
    "ExecuteTime": {
     "end_time": "2023-11-17T17:17:23.212309722Z",
     "start_time": "2023-11-17T17:17:23.132381033Z"
    }
   },
   "id": "febf13b0176cc46"
  },
  {
   "cell_type": "code",
   "execution_count": 85,
   "outputs": [],
   "source": [
    "# El criterio según la fuente de datos es que si es None es nada, de todas formas si fue ingresado debería existir registro\n",
    "# por lo que es muy raro el caso contrario\n",
    "df['cod_lesividad'].fillna(0, inplace=True)"
   ],
   "metadata": {
    "collapsed": false,
    "ExecuteTime": {
     "end_time": "2023-11-17T17:17:23.212568890Z",
     "start_time": "2023-11-17T17:17:23.173212794Z"
    }
   },
   "id": "5c69ddabcaf72893"
  },
  {
   "cell_type": "code",
   "execution_count": 86,
   "outputs": [],
   "source": [
    "def marca_de_clase_rango_edad(edad: str) -> float:\n",
    "    regex_format = r'\\b\\d+\\b'\n",
    "    numbers = re.findall(regex_format, edad)\n",
    "    if len(numbers) >= 2:\n",
    "        return (int(numbers[0]) + int(numbers[1])) / 2\n",
    "\n",
    "    if edad == 'Menor de 5 años':\n",
    "        return 5\n",
    "\n",
    "    if edad == 'Más de 74 años':\n",
    "        return 74\n",
    "\n",
    "    else:\n",
    "        return -1\n",
    "\n",
    "\n",
    "df['rango_edad'] = df['rango_edad'].apply(marca_de_clase_rango_edad)\n",
    "df.rename(columns={'rango_edad': 'marca_de_clase_edad'}, inplace=True)"
   ],
   "metadata": {
    "collapsed": false,
    "ExecuteTime": {
     "end_time": "2023-11-17T17:17:23.266704196Z",
     "start_time": "2023-11-17T17:17:23.173334008Z"
    }
   },
   "id": "dbe8f16f92437a17"
  },
  {
   "cell_type": "code",
   "execution_count": 87,
   "outputs": [
    {
     "name": "stdout",
     "output_type": "stream",
     "text": [
      "[-1.0, 5.0, 7.5, 12.0, 16.0, 19.0, 22.5, 27.0, 32.0, 37.0, 42.0, 47.0, 52.0, 57.0, 62.0, 67.0, 72.0, 74.0]\n"
     ]
    }
   ],
   "source": [
    "print(sorted(df['marca_de_clase_edad'].unique()))"
   ],
   "metadata": {
    "collapsed": false,
    "ExecuteTime": {
     "end_time": "2023-11-17T17:17:23.313504547Z",
     "start_time": "2023-11-17T17:17:23.267695587Z"
    }
   },
   "id": "a9cdef155709d5e0"
  },
  {
   "cell_type": "code",
   "execution_count": 88,
   "outputs": [
    {
     "data": {
      "text/plain": "0    90\n1    90\n2    30\n3    30\n4    30\nName: hora, dtype: int64"
     },
     "execution_count": 88,
     "metadata": {},
     "output_type": "execute_result"
    }
   ],
   "source": [
    "def minutes_from_midnight(hour_str: str) -> int:\n",
    "    clock = hour_str.split(':')\n",
    "    minutes = 0\n",
    "\n",
    "    minutes = int(clock[0]) * 60\n",
    "    minutes = minutes + int(clock[1])\n",
    "\n",
    "    return minutes\n",
    "\n",
    "\n",
    "df['hora'] = df['hora'].apply(minutes_from_midnight)\n",
    "df.pop('hora').head()"
   ],
   "metadata": {
    "collapsed": false,
    "ExecuteTime": {
     "end_time": "2023-11-17T17:17:23.367953422Z",
     "start_time": "2023-11-17T17:17:23.313212455Z"
    }
   },
   "id": "943464f7ea88d824"
  },
  {
   "cell_type": "code",
   "execution_count": 89,
   "outputs": [],
   "source": [
    "def extract_day(date_str: str) -> int:\n",
    "    date_parts = date_str.split('/')\n",
    "    if len(date_parts) >= 3:\n",
    "        return int(date_parts[0])\n",
    "\n",
    "\n",
    "def extract_month(date_str: str) -> int:\n",
    "    date_parts = date_str.split('/')\n",
    "    if len(date_parts) >= 3:\n",
    "        return int(date_parts[1])\n",
    "\n",
    "\n",
    "def extract_year(date_str: str) -> int:\n",
    "    date_parts = date_str.split('/')\n",
    "    if len(date_parts) >= 3:\n",
    "        return int(date_parts[2])\n",
    "\n",
    "\n",
    "df['day'] = df['fecha'].transform(extract_day)\n",
    "df['month'] = df['fecha'].transform(extract_month)\n",
    "df['year'] = df['fecha'].transform(extract_year)"
   ],
   "metadata": {
    "collapsed": false,
    "ExecuteTime": {
     "end_time": "2023-11-17T17:17:23.429571230Z",
     "start_time": "2023-11-17T17:17:23.357359624Z"
    }
   },
   "id": "c566f74538a1d37a"
  },
  {
   "cell_type": "code",
   "execution_count": 90,
   "outputs": [
    {
     "data": {
      "text/plain": "0    01/01/2022\n1    01/01/2022\n2    01/01/2022\n3    01/01/2022\n4    01/01/2022\nName: fecha, dtype: object"
     },
     "execution_count": 90,
     "metadata": {},
     "output_type": "execute_result"
    }
   ],
   "source": [
    "def is_work_day(date_str: str) -> int:\n",
    "    date_format = '%d/%m/%Y'  # Formato para 'dd-MM-yyyy'\n",
    "\n",
    "    holidays_madrid = ['']  # todo\n",
    "    try:\n",
    "        date_obj = datetime.strptime(date_str, date_format)\n",
    "        day_of_week_int = date_obj.weekday()\n",
    "        if day_of_week_int == 5 or day_of_week_int == 6 or date_str in holidays_madrid:\n",
    "            return 0\n",
    "        return 1\n",
    "\n",
    "    except ValueError:\n",
    "        return -1\n",
    "\n",
    "\n",
    "df['bool_laborable'] = df['fecha'].transform(is_work_day)\n",
    "df.pop('fecha').head()"
   ],
   "metadata": {
    "collapsed": false,
    "ExecuteTime": {
     "end_time": "2023-11-17T17:17:23.818712730Z",
     "start_time": "2023-11-17T17:17:23.436170556Z"
    }
   },
   "id": "a8481dc604e6c2fc"
  },
  {
   "cell_type": "code",
   "execution_count": 91,
   "outputs": [],
   "source": [
    "unique_values = df['tipo_accidente'].unique()\n",
    "dictionary = {type_of: code for code, type_of in enumerate(unique_values)}\n",
    "df['tipo_accidente'] = df['tipo_accidente'].map(dictionary)"
   ],
   "metadata": {
    "collapsed": false,
    "ExecuteTime": {
     "end_time": "2023-11-17T17:17:23.831370358Z",
     "start_time": "2023-11-17T17:17:23.823842474Z"
    }
   },
   "id": "d1b193eab35abedc"
  },
  {
   "cell_type": "code",
   "execution_count": 92,
   "outputs": [],
   "source": [
    "unique_values = df['tipo_vehiculo'].unique()\n",
    "dictionary = {type_of: code for code, type_of in enumerate(unique_values)}\n",
    "df['tipo_vehiculo'] = df['tipo_vehiculo'].map(dictionary)"
   ],
   "metadata": {
    "collapsed": false,
    "ExecuteTime": {
     "end_time": "2023-11-17T17:17:23.883621860Z",
     "start_time": "2023-11-17T17:17:23.832358452Z"
    }
   },
   "id": "b4164dc36a3ca905"
  },
  {
   "cell_type": "code",
   "execution_count": 93,
   "outputs": [],
   "source": [
    "# TODO eliminar esto cuando se rellene con criterio\n",
    "df['estado_meteorológico'].fillna('Desconocido', inplace=True)\n",
    "\n",
    "unique_values = df['estado_meteorológico'].unique()\n",
    "dictionary = {type_of: code for code, type_of in enumerate(unique_values)}\n",
    "df['estado_meteorológico'] = df['estado_meteorológico'].map(dictionary)"
   ],
   "metadata": {
    "collapsed": false,
    "ExecuteTime": {
     "end_time": "2023-11-17T17:17:23.886578643Z",
     "start_time": "2023-11-17T17:17:23.851914912Z"
    }
   },
   "id": "832dd48945c290c0"
  },
  {
   "cell_type": "code",
   "execution_count": 94,
   "outputs": [
    {
     "data": {
      "text/plain": "num_expediente          False\ncod_distrito            False\ntipo_accidente          False\nestado_meteorológico    False\ntipo_vehiculo           False\ntipo_persona            False\nmarca_de_clase_edad     False\nsexo                    False\ncod_lesividad           False\npositiva_alcohol        False\npositiva_droga          False\nnumero_pasajeros        False\nfugado                  False\nday                     False\nmonth                   False\nyear                    False\nbool_laborable          False\ndtype: bool"
     },
     "execution_count": 94,
     "metadata": {},
     "output_type": "execute_result"
    }
   ],
   "source": [
    "df.isnull().any()"
   ],
   "metadata": {
    "collapsed": false,
    "ExecuteTime": {
     "end_time": "2023-11-17T17:17:23.942476399Z",
     "start_time": "2023-11-17T17:17:23.876094478Z"
    }
   },
   "id": "c10b2dd1a439bce6"
  },
  {
   "cell_type": "markdown",
   "source": [
    "Todo listo. Dropeamos número de expediente y procedemos a separar los datos"
   ],
   "metadata": {
    "collapsed": false
   },
   "id": "60da7b90ae1d028b"
  },
  {
   "cell_type": "code",
   "execution_count": 95,
   "outputs": [
    {
     "data": {
      "text/plain": "0    2022S000001\n1    2022S000001\n2    2022S000002\n3    2022S000002\n4    2022S000002\nName: num_expediente, dtype: object"
     },
     "execution_count": 95,
     "metadata": {},
     "output_type": "execute_result"
    }
   ],
   "source": [
    "df.pop('num_expediente').head()"
   ],
   "metadata": {
    "collapsed": false,
    "ExecuteTime": {
     "end_time": "2023-11-17T17:17:23.942814831Z",
     "start_time": "2023-11-17T17:17:23.917225380Z"
    }
   },
   "id": "7c5791b20db6c32"
  },
  {
   "cell_type": "markdown",
   "source": [
    "# Separamos en tres datasets\n",
    "1. Normalizamos los datos\n",
    "2. Separamos en:\n",
    "    * A entrenar: el 80% de los datos\n",
    "    * A validar: el 20% muestreado aleatoriamente\n",
    "    * A predecir: Los que marca de edad sean igual a -1"
   ],
   "metadata": {
    "collapsed": false
   },
   "id": "4c7f4dd756f478b0"
  },
  {
   "cell_type": "code",
   "execution_count": 96,
   "outputs": [],
   "source": [
    "predict_df = df[df['marca_de_clase_edad'] == -1]\n",
    "df_ex_predict = df.drop(predict_df.index)"
   ],
   "metadata": {
    "collapsed": false,
    "ExecuteTime": {
     "end_time": "2023-11-17T17:17:23.942933499Z",
     "start_time": "2023-11-17T17:17:23.917438829Z"
    }
   },
   "id": "7f8a8f9ccb0a91b0"
  },
  {
   "cell_type": "code",
   "execution_count": 97,
   "outputs": [
    {
     "name": "stdout",
     "output_type": "stream",
     "text": [
      "[5.0, 7.5, 12.0, 16.0, 19.0, 22.5, 27.0, 32.0, 37.0, 42.0, 47.0, 52.0, 57.0, 62.0, 67.0, 72.0, 74.0]\n"
     ]
    }
   ],
   "source": [
    "print(sorted(df_ex_predict['marca_de_clase_edad'].unique()))"
   ],
   "metadata": {
    "collapsed": false,
    "ExecuteTime": {
     "end_time": "2023-11-17T17:17:23.986396243Z",
     "start_time": "2023-11-17T17:17:23.917506422Z"
    }
   },
   "id": "d4208215edd57fcb"
  },
  {
   "cell_type": "code",
   "execution_count": 98,
   "outputs": [],
   "source": [
    "# 'tipo_persona', 'sexo', 'positivo_alcohol', 'positivo_droga', 'fugado' no necesitan ser normalizadas\n",
    "def custom_normalizer(__df: pd.DataFrame) -> None:\n",
    "    cols_to_preserve = ['tipo_persona', 'sexo', 'positiva_alcohol', 'positiva_droga', 'fugado', 'marca_de_clase_edad']\n",
    "    # Normalizar las demás columnas\n",
    "    for col in __df.columns:\n",
    "        if col not in cols_to_preserve:\n",
    "            __df[col] = (__df[col] - __df[col].mean()) / __df[col].std()"
   ],
   "metadata": {
    "collapsed": false,
    "ExecuteTime": {
     "end_time": "2023-11-17T17:17:23.986598265Z",
     "start_time": "2023-11-17T17:17:23.965234255Z"
    }
   },
   "id": "66b793b17ee9321d"
  },
  {
   "cell_type": "code",
   "execution_count": 99,
   "outputs": [
    {
     "data": {
      "text/plain": "   cod_distrito  tipo_accidente  estado_meteorológico  tipo_vehiculo  \\\n0      0.561046       -1.034915             -0.469983      -0.443075   \n1      0.561046       -1.034915             -0.469983      -0.443075   \n2     -1.194866       -0.595482              0.318022      -0.193187   \n3     -1.194866       -0.595482              0.318022      -0.193187   \n4     -1.194866       -0.595482              0.318022      -0.443075   \n\n   tipo_persona  marca_de_clase_edad  sexo  cod_lesividad  positiva_alcohol  \\\n0             3                 32.0     0      -0.967438               0.0   \n1             3                 47.0     1      -0.967438               0.0   \n2             3                 32.0     1      -0.967438               1.0   \n3             2                 37.0     0      -0.967438               0.0   \n4             3                 42.0     1      -0.967438               0.0   \n\n   positiva_droga  numero_pasajeros  fugado       day     month      year  \\\n0             0.0         -0.539943       0 -1.673878 -1.450272 -0.813778   \n1             0.0         -0.539943       0 -1.673878 -1.450272 -0.813778   \n2             0.0          0.177063       0 -1.673878 -1.450272 -0.813778   \n3             0.0          0.177063       0 -1.673878 -1.450272 -0.813778   \n4             0.0          0.177063       0 -1.673878 -1.450272 -0.813778   \n\n   bool_laborable  \n0       -1.777059  \n1       -1.777059  \n2       -1.777059  \n3       -1.777059  \n4       -1.777059  ",
      "text/html": "<div>\n<style scoped>\n    .dataframe tbody tr th:only-of-type {\n        vertical-align: middle;\n    }\n\n    .dataframe tbody tr th {\n        vertical-align: top;\n    }\n\n    .dataframe thead th {\n        text-align: right;\n    }\n</style>\n<table border=\"1\" class=\"dataframe\">\n  <thead>\n    <tr style=\"text-align: right;\">\n      <th></th>\n      <th>cod_distrito</th>\n      <th>tipo_accidente</th>\n      <th>estado_meteorológico</th>\n      <th>tipo_vehiculo</th>\n      <th>tipo_persona</th>\n      <th>marca_de_clase_edad</th>\n      <th>sexo</th>\n      <th>cod_lesividad</th>\n      <th>positiva_alcohol</th>\n      <th>positiva_droga</th>\n      <th>numero_pasajeros</th>\n      <th>fugado</th>\n      <th>day</th>\n      <th>month</th>\n      <th>year</th>\n      <th>bool_laborable</th>\n    </tr>\n  </thead>\n  <tbody>\n    <tr>\n      <th>0</th>\n      <td>0.561046</td>\n      <td>-1.034915</td>\n      <td>-0.469983</td>\n      <td>-0.443075</td>\n      <td>3</td>\n      <td>32.0</td>\n      <td>0</td>\n      <td>-0.967438</td>\n      <td>0.0</td>\n      <td>0.0</td>\n      <td>-0.539943</td>\n      <td>0</td>\n      <td>-1.673878</td>\n      <td>-1.450272</td>\n      <td>-0.813778</td>\n      <td>-1.777059</td>\n    </tr>\n    <tr>\n      <th>1</th>\n      <td>0.561046</td>\n      <td>-1.034915</td>\n      <td>-0.469983</td>\n      <td>-0.443075</td>\n      <td>3</td>\n      <td>47.0</td>\n      <td>1</td>\n      <td>-0.967438</td>\n      <td>0.0</td>\n      <td>0.0</td>\n      <td>-0.539943</td>\n      <td>0</td>\n      <td>-1.673878</td>\n      <td>-1.450272</td>\n      <td>-0.813778</td>\n      <td>-1.777059</td>\n    </tr>\n    <tr>\n      <th>2</th>\n      <td>-1.194866</td>\n      <td>-0.595482</td>\n      <td>0.318022</td>\n      <td>-0.193187</td>\n      <td>3</td>\n      <td>32.0</td>\n      <td>1</td>\n      <td>-0.967438</td>\n      <td>1.0</td>\n      <td>0.0</td>\n      <td>0.177063</td>\n      <td>0</td>\n      <td>-1.673878</td>\n      <td>-1.450272</td>\n      <td>-0.813778</td>\n      <td>-1.777059</td>\n    </tr>\n    <tr>\n      <th>3</th>\n      <td>-1.194866</td>\n      <td>-0.595482</td>\n      <td>0.318022</td>\n      <td>-0.193187</td>\n      <td>2</td>\n      <td>37.0</td>\n      <td>0</td>\n      <td>-0.967438</td>\n      <td>0.0</td>\n      <td>0.0</td>\n      <td>0.177063</td>\n      <td>0</td>\n      <td>-1.673878</td>\n      <td>-1.450272</td>\n      <td>-0.813778</td>\n      <td>-1.777059</td>\n    </tr>\n    <tr>\n      <th>4</th>\n      <td>-1.194866</td>\n      <td>-0.595482</td>\n      <td>0.318022</td>\n      <td>-0.443075</td>\n      <td>3</td>\n      <td>42.0</td>\n      <td>1</td>\n      <td>-0.967438</td>\n      <td>0.0</td>\n      <td>0.0</td>\n      <td>0.177063</td>\n      <td>0</td>\n      <td>-1.673878</td>\n      <td>-1.450272</td>\n      <td>-0.813778</td>\n      <td>-1.777059</td>\n    </tr>\n  </tbody>\n</table>\n</div>"
     },
     "execution_count": 99,
     "metadata": {},
     "output_type": "execute_result"
    }
   ],
   "source": [
    "custom_normalizer(df_ex_predict)\n",
    "df_ex_predict.head()"
   ],
   "metadata": {
    "collapsed": false,
    "ExecuteTime": {
     "end_time": "2023-11-17T17:17:23.987102482Z",
     "start_time": "2023-11-17T17:17:23.965397294Z"
    }
   },
   "id": "a975f157304a6a16"
  },
  {
   "cell_type": "code",
   "execution_count": 100,
   "outputs": [
    {
     "name": "stderr",
     "output_type": "stream",
     "text": [
      "/tmp/ipykernel_6794/2811105002.py:7: SettingWithCopyWarning: \n",
      "A value is trying to be set on a copy of a slice from a DataFrame.\n",
      "Try using .loc[row_indexer,col_indexer] = value instead\n",
      "\n",
      "See the caveats in the documentation: https://pandas.pydata.org/pandas-docs/stable/user_guide/indexing.html#returning-a-view-versus-a-copy\n",
      "  __df[col] = (__df[col] - __df[col].mean()) / __df[col].std()\n"
     ]
    },
    {
     "data": {
      "text/plain": "    cod_distrito  tipo_accidente  estado_meteorológico  tipo_vehiculo  \\\n5      -1.818079       -0.496001             -0.514858       0.000252   \n12     -0.706536       -0.014323             -0.514858      -0.471443   \n14      1.701806       -0.014323             -0.514858       0.236099   \n17     -0.150765        0.467356             -0.514858      -0.471443   \n18      1.701806       -0.014323             -0.514858      -0.471443   \n\n    tipo_persona  marca_de_clase_edad  sexo  cod_lesividad  positiva_alcohol  \\\n5              3                 -1.0     1       -0.12309               0.0   \n12             3                 -1.0     1       -0.12309               0.0   \n14             3                 -1.0     1       -0.12309               0.0   \n17             3                 -1.0     1       -0.12309               0.0   \n18             3                 -1.0     1       -0.12309               0.0   \n\n    positiva_droga  numero_pasajeros  fugado      day     month     year  \\\n5              0.0         -0.330996       0 -1.66251 -1.433202 -0.82184   \n12             0.0         -0.330996       0 -1.66251 -1.433202 -0.82184   \n14             0.0         -0.330996       0 -1.66251 -1.433202 -0.82184   \n17             0.0         -0.330996       0 -1.66251 -1.433202 -0.82184   \n18             0.0          0.639787       0 -1.66251 -1.433202 -0.82184   \n\n    bool_laborable  \n5        -1.435229  \n12       -1.435229  \n14       -1.435229  \n17       -1.435229  \n18       -1.435229  ",
      "text/html": "<div>\n<style scoped>\n    .dataframe tbody tr th:only-of-type {\n        vertical-align: middle;\n    }\n\n    .dataframe tbody tr th {\n        vertical-align: top;\n    }\n\n    .dataframe thead th {\n        text-align: right;\n    }\n</style>\n<table border=\"1\" class=\"dataframe\">\n  <thead>\n    <tr style=\"text-align: right;\">\n      <th></th>\n      <th>cod_distrito</th>\n      <th>tipo_accidente</th>\n      <th>estado_meteorológico</th>\n      <th>tipo_vehiculo</th>\n      <th>tipo_persona</th>\n      <th>marca_de_clase_edad</th>\n      <th>sexo</th>\n      <th>cod_lesividad</th>\n      <th>positiva_alcohol</th>\n      <th>positiva_droga</th>\n      <th>numero_pasajeros</th>\n      <th>fugado</th>\n      <th>day</th>\n      <th>month</th>\n      <th>year</th>\n      <th>bool_laborable</th>\n    </tr>\n  </thead>\n  <tbody>\n    <tr>\n      <th>5</th>\n      <td>-1.818079</td>\n      <td>-0.496001</td>\n      <td>-0.514858</td>\n      <td>0.000252</td>\n      <td>3</td>\n      <td>-1.0</td>\n      <td>1</td>\n      <td>-0.12309</td>\n      <td>0.0</td>\n      <td>0.0</td>\n      <td>-0.330996</td>\n      <td>0</td>\n      <td>-1.66251</td>\n      <td>-1.433202</td>\n      <td>-0.82184</td>\n      <td>-1.435229</td>\n    </tr>\n    <tr>\n      <th>12</th>\n      <td>-0.706536</td>\n      <td>-0.014323</td>\n      <td>-0.514858</td>\n      <td>-0.471443</td>\n      <td>3</td>\n      <td>-1.0</td>\n      <td>1</td>\n      <td>-0.12309</td>\n      <td>0.0</td>\n      <td>0.0</td>\n      <td>-0.330996</td>\n      <td>0</td>\n      <td>-1.66251</td>\n      <td>-1.433202</td>\n      <td>-0.82184</td>\n      <td>-1.435229</td>\n    </tr>\n    <tr>\n      <th>14</th>\n      <td>1.701806</td>\n      <td>-0.014323</td>\n      <td>-0.514858</td>\n      <td>0.236099</td>\n      <td>3</td>\n      <td>-1.0</td>\n      <td>1</td>\n      <td>-0.12309</td>\n      <td>0.0</td>\n      <td>0.0</td>\n      <td>-0.330996</td>\n      <td>0</td>\n      <td>-1.66251</td>\n      <td>-1.433202</td>\n      <td>-0.82184</td>\n      <td>-1.435229</td>\n    </tr>\n    <tr>\n      <th>17</th>\n      <td>-0.150765</td>\n      <td>0.467356</td>\n      <td>-0.514858</td>\n      <td>-0.471443</td>\n      <td>3</td>\n      <td>-1.0</td>\n      <td>1</td>\n      <td>-0.12309</td>\n      <td>0.0</td>\n      <td>0.0</td>\n      <td>-0.330996</td>\n      <td>0</td>\n      <td>-1.66251</td>\n      <td>-1.433202</td>\n      <td>-0.82184</td>\n      <td>-1.435229</td>\n    </tr>\n    <tr>\n      <th>18</th>\n      <td>1.701806</td>\n      <td>-0.014323</td>\n      <td>-0.514858</td>\n      <td>-0.471443</td>\n      <td>3</td>\n      <td>-1.0</td>\n      <td>1</td>\n      <td>-0.12309</td>\n      <td>0.0</td>\n      <td>0.0</td>\n      <td>0.639787</td>\n      <td>0</td>\n      <td>-1.66251</td>\n      <td>-1.433202</td>\n      <td>-0.82184</td>\n      <td>-1.435229</td>\n    </tr>\n  </tbody>\n</table>\n</div>"
     },
     "execution_count": 100,
     "metadata": {},
     "output_type": "execute_result"
    }
   ],
   "source": [
    "custom_normalizer(predict_df)\n",
    "predict_df.head()"
   ],
   "metadata": {
    "collapsed": false,
    "ExecuteTime": {
     "end_time": "2023-11-17T17:17:24.037929660Z",
     "start_time": "2023-11-17T17:17:23.965480819Z"
    }
   },
   "id": "45b55a1c83659e83"
  },
  {
   "cell_type": "markdown",
   "source": [
    "Verificamos la integridad del corte"
   ],
   "metadata": {
    "collapsed": false
   },
   "id": "e27e11246239aca9"
  },
  {
   "cell_type": "code",
   "execution_count": 101,
   "outputs": [
    {
     "data": {
      "text/plain": "0"
     },
     "execution_count": 101,
     "metadata": {},
     "output_type": "execute_result"
    }
   ],
   "source": [
    "# TODO remove this on production\n",
    "df['marca_de_clase_edad'].count() - predict_df['marca_de_clase_edad'].count() - df_ex_predict[\n",
    "    'marca_de_clase_edad'].count()"
   ],
   "metadata": {
    "collapsed": false,
    "ExecuteTime": {
     "end_time": "2023-11-17T17:17:24.038326541Z",
     "start_time": "2023-11-17T17:17:24.013324598Z"
    }
   },
   "id": "939443442ee2e489"
  },
  {
   "cell_type": "code",
   "execution_count": 102,
   "outputs": [],
   "source": [
    "train_df, val_df = train_test_split(df_ex_predict, test_size=0.2, random_state=1234)"
   ],
   "metadata": {
    "collapsed": false,
    "ExecuteTime": {
     "end_time": "2023-11-17T17:17:24.038455389Z",
     "start_time": "2023-11-17T17:17:24.013583875Z"
    }
   },
   "id": "9a3ad53d0de7edf7"
  },
  {
   "cell_type": "code",
   "execution_count": 103,
   "outputs": [],
   "source": [
    "# # TODO Remove this test cell\n",
    "# train_df.pop('cod_lesividad')\n",
    "# val_df.pop('cod_lesividad')"
   ],
   "metadata": {
    "collapsed": false,
    "ExecuteTime": {
     "end_time": "2023-11-17T17:17:24.038587849Z",
     "start_time": "2023-11-17T17:17:24.013707326Z"
    }
   },
   "id": "f4bbe45b40719633"
  },
  {
   "cell_type": "code",
   "execution_count": 104,
   "outputs": [],
   "source": [
    "classes = [5.0, 7.5, 12.0, 16.0, 19.0, 22.5, 27.0, 32.0, 37.0, 42.0, 47.0, 52.0, 57.0, 62.0, 67.0, 72.0, 74.0]\n",
    "\n",
    "\n",
    "def extract_labels(df, target_column, classes):\n",
    "    labels = df[target_column].values\n",
    "\n",
    "    one_hot_labels = []\n",
    "\n",
    "    for label in labels:\n",
    "        one_hot_vector = [1 if label == cls else 0 for cls in classes]\n",
    "        one_hot_labels.append(one_hot_vector)\n",
    "\n",
    "    return np.array(one_hot_labels)"
   ],
   "metadata": {
    "collapsed": false,
    "ExecuteTime": {
     "end_time": "2023-11-17T17:17:24.113420774Z",
     "start_time": "2023-11-17T17:17:24.013873175Z"
    }
   },
   "id": "91173613870f9373"
  },
  {
   "cell_type": "code",
   "execution_count": 105,
   "outputs": [],
   "source": [
    "train_labels = extract_labels(train_df, 'marca_de_clase_edad', classes)\n",
    "val_labels = extract_labels(val_df, 'marca_de_clase_edad', classes)\n",
    "train_data = train_df.drop('marca_de_clase_edad', axis=1).values\n",
    "val_data = val_df.drop('marca_de_clase_edad', axis=1).values"
   ],
   "metadata": {
    "collapsed": false,
    "ExecuteTime": {
     "end_time": "2023-11-17T17:17:24.278967548Z",
     "start_time": "2023-11-17T17:17:24.057169060Z"
    }
   },
   "id": "112b28ab43995997"
  },
  {
   "cell_type": "code",
   "execution_count": 731,
   "outputs": [],
   "source": [],
   "metadata": {
    "collapsed": false,
    "ExecuteTime": {
     "end_time": "2023-11-16T21:40:47.643472948Z",
     "start_time": "2023-11-16T21:40:47.637798690Z"
    }
   },
   "id": "811d3cc9ed64f10c"
  },
  {
   "cell_type": "markdown",
   "source": [
    "# Modelo\n",
    "Modelo de clasificación con 15 entradas y 17 salidas. \n",
    "Activación Leaky ReLu + He uniform, con gradient clipping, Lr = 0.001, 10 capas intermedias completamente conectadas de 32 neuronas, tamaño de batch 140, epochs 20, guarda el mejor modelo com checkpoint en bestmodelv4.h5 . Aplica softmax y categorical cross entropy en la salida"
   ],
   "metadata": {
    "collapsed": false
   },
   "id": "fcb69f8122107a0c"
  },
  {
   "cell_type": "code",
   "execution_count": 106,
   "outputs": [
    {
     "name": "stdout",
     "output_type": "stream",
     "text": [
      "Model: \"sequential_4\"\n",
      "_________________________________________________________________\n",
      "Layer (type)                 Output Shape              Param #   \n",
      "=================================================================\n",
      "dense_128 (Dense)            (None, 64)                1024      \n",
      "_________________________________________________________________\n",
      "leaky_re_lu_124 (LeakyReLU)  (None, 64)                0         \n",
      "_________________________________________________________________\n",
      "dense_129 (Dense)            (None, 32)                2080      \n",
      "_________________________________________________________________\n",
      "leaky_re_lu_125 (LeakyReLU)  (None, 32)                0         \n",
      "_________________________________________________________________\n",
      "dense_130 (Dense)            (None, 32)                1056      \n",
      "_________________________________________________________________\n",
      "leaky_re_lu_126 (LeakyReLU)  (None, 32)                0         \n",
      "_________________________________________________________________\n",
      "dense_131 (Dense)            (None, 32)                1056      \n",
      "_________________________________________________________________\n",
      "leaky_re_lu_127 (LeakyReLU)  (None, 32)                0         \n",
      "_________________________________________________________________\n",
      "dense_132 (Dense)            (None, 32)                1056      \n",
      "_________________________________________________________________\n",
      "leaky_re_lu_128 (LeakyReLU)  (None, 32)                0         \n",
      "_________________________________________________________________\n",
      "dense_133 (Dense)            (None, 32)                1056      \n",
      "_________________________________________________________________\n",
      "leaky_re_lu_129 (LeakyReLU)  (None, 32)                0         \n",
      "_________________________________________________________________\n",
      "dense_134 (Dense)            (None, 32)                1056      \n",
      "_________________________________________________________________\n",
      "leaky_re_lu_130 (LeakyReLU)  (None, 32)                0         \n",
      "_________________________________________________________________\n",
      "dense_135 (Dense)            (None, 32)                1056      \n",
      "_________________________________________________________________\n",
      "leaky_re_lu_131 (LeakyReLU)  (None, 32)                0         \n",
      "_________________________________________________________________\n",
      "dense_136 (Dense)            (None, 32)                1056      \n",
      "_________________________________________________________________\n",
      "leaky_re_lu_132 (LeakyReLU)  (None, 32)                0         \n",
      "_________________________________________________________________\n",
      "dense_137 (Dense)            (None, 32)                1056      \n",
      "_________________________________________________________________\n",
      "leaky_re_lu_133 (LeakyReLU)  (None, 32)                0         \n",
      "_________________________________________________________________\n",
      "dense_138 (Dense)            (None, 32)                1056      \n",
      "_________________________________________________________________\n",
      "leaky_re_lu_134 (LeakyReLU)  (None, 32)                0         \n",
      "_________________________________________________________________\n",
      "dense_139 (Dense)            (None, 32)                1056      \n",
      "_________________________________________________________________\n",
      "leaky_re_lu_135 (LeakyReLU)  (None, 32)                0         \n",
      "_________________________________________________________________\n",
      "dense_140 (Dense)            (None, 32)                1056      \n",
      "_________________________________________________________________\n",
      "leaky_re_lu_136 (LeakyReLU)  (None, 32)                0         \n",
      "_________________________________________________________________\n",
      "dense_141 (Dense)            (None, 32)                1056      \n",
      "_________________________________________________________________\n",
      "leaky_re_lu_137 (LeakyReLU)  (None, 32)                0         \n",
      "_________________________________________________________________\n",
      "dense_142 (Dense)            (None, 32)                1056      \n",
      "_________________________________________________________________\n",
      "leaky_re_lu_138 (LeakyReLU)  (None, 32)                0         \n",
      "_________________________________________________________________\n",
      "dense_143 (Dense)            (None, 32)                1056      \n",
      "_________________________________________________________________\n",
      "leaky_re_lu_139 (LeakyReLU)  (None, 32)                0         \n",
      "_________________________________________________________________\n",
      "dense_144 (Dense)            (None, 32)                1056      \n",
      "_________________________________________________________________\n",
      "leaky_re_lu_140 (LeakyReLU)  (None, 32)                0         \n",
      "_________________________________________________________________\n",
      "dense_145 (Dense)            (None, 32)                1056      \n",
      "_________________________________________________________________\n",
      "leaky_re_lu_141 (LeakyReLU)  (None, 32)                0         \n",
      "_________________________________________________________________\n",
      "dense_146 (Dense)            (None, 32)                1056      \n",
      "_________________________________________________________________\n",
      "leaky_re_lu_142 (LeakyReLU)  (None, 32)                0         \n",
      "_________________________________________________________________\n",
      "dense_147 (Dense)            (None, 32)                1056      \n",
      "_________________________________________________________________\n",
      "leaky_re_lu_143 (LeakyReLU)  (None, 32)                0         \n",
      "_________________________________________________________________\n",
      "dense_148 (Dense)            (None, 32)                1056      \n",
      "_________________________________________________________________\n",
      "leaky_re_lu_144 (LeakyReLU)  (None, 32)                0         \n",
      "_________________________________________________________________\n",
      "dense_149 (Dense)            (None, 32)                1056      \n",
      "_________________________________________________________________\n",
      "leaky_re_lu_145 (LeakyReLU)  (None, 32)                0         \n",
      "_________________________________________________________________\n",
      "dense_150 (Dense)            (None, 32)                1056      \n",
      "_________________________________________________________________\n",
      "leaky_re_lu_146 (LeakyReLU)  (None, 32)                0         \n",
      "_________________________________________________________________\n",
      "dense_151 (Dense)            (None, 32)                1056      \n",
      "_________________________________________________________________\n",
      "leaky_re_lu_147 (LeakyReLU)  (None, 32)                0         \n",
      "_________________________________________________________________\n",
      "dense_152 (Dense)            (None, 32)                1056      \n",
      "_________________________________________________________________\n",
      "leaky_re_lu_148 (LeakyReLU)  (None, 32)                0         \n",
      "_________________________________________________________________\n",
      "dense_153 (Dense)            (None, 32)                1056      \n",
      "_________________________________________________________________\n",
      "leaky_re_lu_149 (LeakyReLU)  (None, 32)                0         \n",
      "_________________________________________________________________\n",
      "dense_154 (Dense)            (None, 32)                1056      \n",
      "_________________________________________________________________\n",
      "leaky_re_lu_150 (LeakyReLU)  (None, 32)                0         \n",
      "_________________________________________________________________\n",
      "dense_155 (Dense)            (None, 32)                1056      \n",
      "_________________________________________________________________\n",
      "leaky_re_lu_151 (LeakyReLU)  (None, 32)                0         \n",
      "_________________________________________________________________\n",
      "dense_156 (Dense)            (None, 32)                1056      \n",
      "_________________________________________________________________\n",
      "leaky_re_lu_152 (LeakyReLU)  (None, 32)                0         \n",
      "_________________________________________________________________\n",
      "dense_157 (Dense)            (None, 32)                1056      \n",
      "_________________________________________________________________\n",
      "leaky_re_lu_153 (LeakyReLU)  (None, 32)                0         \n",
      "_________________________________________________________________\n",
      "dense_158 (Dense)            (None, 32)                1056      \n",
      "_________________________________________________________________\n",
      "leaky_re_lu_154 (LeakyReLU)  (None, 32)                0         \n",
      "_________________________________________________________________\n",
      "dense_159 (Dense)            (None, 17)                561       \n",
      "=================================================================\n",
      "Total params: 34,289\n",
      "Trainable params: 34,289\n",
      "Non-trainable params: 0\n",
      "_________________________________________________________________\n",
      "Epoch 1/40\n",
      "391/391 [==============================] - 6s 12ms/step - loss: 2.5425 - accuracy: 0.1123 - val_loss: 2.5042 - val_accuracy: 0.1077\n",
      "\n",
      "Epoch 00001: val_accuracy improved from -inf to 0.10774, saving model to bestmodelv4.h5\n",
      "Epoch 2/40\n",
      "391/391 [==============================] - 4s 10ms/step - loss: 2.4951 - accuracy: 0.1142 - val_loss: 2.4945 - val_accuracy: 0.1157\n",
      "\n",
      "Epoch 00002: val_accuracy improved from 0.10774 to 0.11571, saving model to bestmodelv4.h5\n",
      "Epoch 3/40\n",
      "391/391 [==============================] - 4s 11ms/step - loss: 2.4855 - accuracy: 0.1161 - val_loss: 2.4871 - val_accuracy: 0.1199\n",
      "\n",
      "Epoch 00003: val_accuracy improved from 0.11571 to 0.11987, saving model to bestmodelv4.h5\n",
      "Epoch 4/40\n",
      "391/391 [==============================] - 4s 11ms/step - loss: 2.4818 - accuracy: 0.1187 - val_loss: 2.4978 - val_accuracy: 0.1194\n",
      "\n",
      "Epoch 00004: val_accuracy did not improve from 0.11987\n",
      "Epoch 5/40\n",
      "391/391 [==============================] - 5s 12ms/step - loss: 2.4811 - accuracy: 0.1175 - val_loss: 2.4869 - val_accuracy: 0.1176\n",
      "\n",
      "Epoch 00005: val_accuracy did not improve from 0.11987\n",
      "Epoch 6/40\n",
      "391/391 [==============================] - 5s 12ms/step - loss: 2.4799 - accuracy: 0.1194 - val_loss: 2.4849 - val_accuracy: 0.1173\n",
      "\n",
      "Epoch 00006: val_accuracy did not improve from 0.11987\n",
      "Epoch 7/40\n",
      "391/391 [==============================] - 5s 12ms/step - loss: 2.4755 - accuracy: 0.1203 - val_loss: 2.4814 - val_accuracy: 0.1179\n",
      "\n",
      "Epoch 00007: val_accuracy did not improve from 0.11987\n",
      "Epoch 8/40\n",
      "391/391 [==============================] - 5s 13ms/step - loss: 2.4724 - accuracy: 0.1204 - val_loss: 2.4826 - val_accuracy: 0.1151\n",
      "\n",
      "Epoch 00008: val_accuracy did not improve from 0.11987\n",
      "Epoch 9/40\n",
      "391/391 [==============================] - 5s 12ms/step - loss: 2.4712 - accuracy: 0.1194 - val_loss: 2.4774 - val_accuracy: 0.1240\n",
      "\n",
      "Epoch 00009: val_accuracy improved from 0.11987 to 0.12397, saving model to bestmodelv4.h5\n",
      "Epoch 10/40\n",
      "391/391 [==============================] - 6s 14ms/step - loss: 2.4677 - accuracy: 0.1213 - val_loss: 2.4706 - val_accuracy: 0.1250\n",
      "\n",
      "Epoch 00010: val_accuracy improved from 0.12397 to 0.12499, saving model to bestmodelv4.h5\n",
      "Epoch 11/40\n",
      "391/391 [==============================] - 5s 12ms/step - loss: 2.4647 - accuracy: 0.1236 - val_loss: 2.4700 - val_accuracy: 0.1224\n",
      "\n",
      "Epoch 00011: val_accuracy did not improve from 0.12499\n",
      "Epoch 12/40\n",
      "391/391 [==============================] - 5s 12ms/step - loss: 2.4644 - accuracy: 0.1253 - val_loss: 2.4694 - val_accuracy: 0.1234\n",
      "\n",
      "Epoch 00012: val_accuracy did not improve from 0.12499\n",
      "Epoch 13/40\n",
      "391/391 [==============================] - 4s 11ms/step - loss: 2.4643 - accuracy: 0.1241 - val_loss: 2.4704 - val_accuracy: 0.1215\n",
      "\n",
      "Epoch 00013: val_accuracy did not improve from 0.12499\n",
      "Epoch 14/40\n",
      "391/391 [==============================] - 5s 14ms/step - loss: 2.4647 - accuracy: 0.1250 - val_loss: 2.4679 - val_accuracy: 0.1204\n",
      "\n",
      "Epoch 00014: val_accuracy did not improve from 0.12499\n",
      "Epoch 15/40\n",
      "391/391 [==============================] - 4s 11ms/step - loss: 2.4586 - accuracy: 0.1271 - val_loss: 2.4668 - val_accuracy: 0.1233\n",
      "\n",
      "Epoch 00015: val_accuracy did not improve from 0.12499\n",
      "Epoch 16/40\n",
      "391/391 [==============================] - 5s 12ms/step - loss: 2.4639 - accuracy: 0.1267 - val_loss: 2.4856 - val_accuracy: 0.1197\n",
      "\n",
      "Epoch 00016: val_accuracy did not improve from 0.12499\n",
      "Epoch 17/40\n",
      "391/391 [==============================] - 5s 13ms/step - loss: 2.4693 - accuracy: 0.1250 - val_loss: 2.4767 - val_accuracy: 0.1203\n",
      "\n",
      "Epoch 00017: val_accuracy did not improve from 0.12499\n",
      "Epoch 18/40\n",
      "391/391 [==============================] - 5s 13ms/step - loss: 2.4669 - accuracy: 0.1244 - val_loss: 2.4766 - val_accuracy: 0.1186\n",
      "\n",
      "Epoch 00018: val_accuracy did not improve from 0.12499\n",
      "Epoch 19/40\n",
      "391/391 [==============================] - 5s 12ms/step - loss: 2.4646 - accuracy: 0.1298 - val_loss: 2.4624 - val_accuracy: 0.1284\n",
      "\n",
      "Epoch 00019: val_accuracy improved from 0.12499 to 0.12843, saving model to bestmodelv4.h5\n",
      "Epoch 20/40\n",
      "391/391 [==============================] - 5s 12ms/step - loss: 2.4597 - accuracy: 0.1307 - val_loss: 2.4654 - val_accuracy: 0.1256\n",
      "\n",
      "Epoch 00020: val_accuracy did not improve from 0.12843\n",
      "Epoch 21/40\n",
      "391/391 [==============================] - 4s 11ms/step - loss: 2.4554 - accuracy: 0.1304 - val_loss: 2.4605 - val_accuracy: 0.1303\n",
      "\n",
      "Epoch 00021: val_accuracy improved from 0.12843 to 0.13033, saving model to bestmodelv4.h5\n",
      "Epoch 22/40\n",
      "391/391 [==============================] - 5s 12ms/step - loss: 2.4569 - accuracy: 0.1302 - val_loss: 2.4576 - val_accuracy: 0.1303\n",
      "\n",
      "Epoch 00022: val_accuracy did not improve from 0.13033\n",
      "Epoch 23/40\n",
      "391/391 [==============================] - 5s 12ms/step - loss: 2.4536 - accuracy: 0.1311 - val_loss: 2.4603 - val_accuracy: 0.1302\n",
      "\n",
      "Epoch 00023: val_accuracy did not improve from 0.13033\n",
      "Epoch 24/40\n",
      "391/391 [==============================] - 5s 13ms/step - loss: 2.4498 - accuracy: 0.1339 - val_loss: 2.4626 - val_accuracy: 0.1285\n",
      "\n",
      "Epoch 00024: val_accuracy did not improve from 0.13033\n",
      "Epoch 25/40\n",
      "391/391 [==============================] - 5s 13ms/step - loss: 2.4501 - accuracy: 0.1347 - val_loss: 2.4683 - val_accuracy: 0.1272\n",
      "\n",
      "Epoch 00025: val_accuracy did not improve from 0.13033\n",
      "Epoch 26/40\n",
      "391/391 [==============================] - 5s 14ms/step - loss: 2.4498 - accuracy: 0.1334 - val_loss: 2.4575 - val_accuracy: 0.1282\n",
      "\n",
      "Epoch 00026: val_accuracy did not improve from 0.13033\n",
      "Epoch 27/40\n",
      "391/391 [==============================] - 5s 13ms/step - loss: 2.4512 - accuracy: 0.1304 - val_loss: 2.4535 - val_accuracy: 0.1357\n",
      "\n",
      "Epoch 00027: val_accuracy improved from 0.13033 to 0.13574, saving model to bestmodelv4.h5\n",
      "Epoch 28/40\n",
      "391/391 [==============================] - 5s 13ms/step - loss: 2.4532 - accuracy: 0.1323 - val_loss: 2.4674 - val_accuracy: 0.1281\n",
      "\n",
      "Epoch 00028: val_accuracy did not improve from 0.13574\n",
      "Epoch 29/40\n",
      "391/391 [==============================] - 5s 12ms/step - loss: 2.4529 - accuracy: 0.1323 - val_loss: 2.4701 - val_accuracy: 0.1288\n",
      "\n",
      "Epoch 00029: val_accuracy did not improve from 0.13574\n",
      "Epoch 30/40\n",
      "391/391 [==============================] - 6s 14ms/step - loss: 2.4476 - accuracy: 0.1338 - val_loss: 2.4557 - val_accuracy: 0.1343\n",
      "\n",
      "Epoch 00030: val_accuracy did not improve from 0.13574\n",
      "Epoch 31/40\n",
      "391/391 [==============================] - 5s 12ms/step - loss: 2.4466 - accuracy: 0.1351 - val_loss: 2.4535 - val_accuracy: 0.1298\n",
      "\n",
      "Epoch 00031: val_accuracy did not improve from 0.13574\n",
      "Epoch 32/40\n",
      "391/391 [==============================] - 5s 12ms/step - loss: 2.4437 - accuracy: 0.1332 - val_loss: 2.4534 - val_accuracy: 0.1316\n",
      "\n",
      "Epoch 00032: val_accuracy did not improve from 0.13574\n",
      "Epoch 33/40\n",
      "391/391 [==============================] - 5s 13ms/step - loss: 2.4566 - accuracy: 0.1296 - val_loss: 2.4637 - val_accuracy: 0.1273\n",
      "\n",
      "Epoch 00033: val_accuracy did not improve from 0.13574\n",
      "Epoch 34/40\n",
      "391/391 [==============================] - 5s 13ms/step - loss: 2.4526 - accuracy: 0.1315 - val_loss: 2.4699 - val_accuracy: 0.1264\n",
      "\n",
      "Epoch 00034: val_accuracy did not improve from 0.13574\n",
      "Epoch 35/40\n",
      "391/391 [==============================] - 5s 12ms/step - loss: 2.4470 - accuracy: 0.1342 - val_loss: 2.4525 - val_accuracy: 0.1330\n",
      "\n",
      "Epoch 00035: val_accuracy did not improve from 0.13574\n",
      "Epoch 36/40\n",
      "391/391 [==============================] - 5s 12ms/step - loss: 2.4468 - accuracy: 0.1336 - val_loss: 2.4721 - val_accuracy: 0.1306\n",
      "\n",
      "Epoch 00036: val_accuracy did not improve from 0.13574\n",
      "Epoch 37/40\n",
      "391/391 [==============================] - 7s 17ms/step - loss: 2.4487 - accuracy: 0.1342 - val_loss: 2.4557 - val_accuracy: 0.1264\n",
      "\n",
      "Epoch 00037: val_accuracy did not improve from 0.13574\n",
      "Epoch 38/40\n",
      "391/391 [==============================] - 7s 17ms/step - loss: 2.4543 - accuracy: 0.1350 - val_loss: 2.4660 - val_accuracy: 0.1305\n",
      "\n",
      "Epoch 00038: val_accuracy did not improve from 0.13574\n",
      "Epoch 39/40\n",
      "391/391 [==============================] - 6s 16ms/step - loss: 2.4520 - accuracy: 0.1333 - val_loss: 2.4603 - val_accuracy: 0.1321\n",
      "\n",
      "Epoch 00039: val_accuracy did not improve from 0.13574\n",
      "Epoch 40/40\n",
      "391/391 [==============================] - 6s 15ms/step - loss: 2.4459 - accuracy: 0.1354 - val_loss: 2.4649 - val_accuracy: 0.1279\n",
      "\n",
      "Epoch 00040: val_accuracy did not improve from 0.13574\n"
     ]
    },
    {
     "data": {
      "text/plain": "<tensorflow.python.keras.callbacks.History at 0x7fc6409dbbd0>"
     },
     "execution_count": 106,
     "metadata": {},
     "output_type": "execute_result"
    }
   ],
   "source": [
    "# Crear el modelo\n",
    "model = Sequential()\n",
    "\n",
    "# Agregar la capa de entrada\n",
    "model.add(Dense(64, input_dim=15, kernel_initializer='he_uniform'))\n",
    "model.add(LeakyReLU(alpha=0.01))\n",
    "\n",
    "# Agregar 5 capas intermedias completamente conectadas\n",
    "for _ in range(30):\n",
    "    model.add(Dense(32, kernel_initializer='he_uniform'))\n",
    "    model.add(LeakyReLU(alpha=0.01))\n",
    "\n",
    "# Agregar la capa de salida\n",
    "model.add(Dense(17, activation='softmax'))\n",
    "\n",
    "# Configurar el optimizador Adam con gradient clipping\n",
    "adam = adam_v2.Adam(learning_rate=0.001, clipvalue=1.)\n",
    "\n",
    "# Compilar el modelo\n",
    "model.compile(optimizer=adam, loss=tf.losses.categorical_crossentropy, metrics=['accuracy'])\n",
    "\n",
    "# Callback para guardar el mejor modelo\n",
    "checkpoint = ModelCheckpoint('bestmodelv4.h5', save_best_only=True, monitor='val_accuracy', mode='max', verbose=1)\n",
    "\n",
    "model.summary()\n",
    "\n",
    "# Entrenar el modelo\n",
    "model.fit(\n",
    "    train_data, train_labels,\n",
    "    validation_data=(val_data, val_labels),\n",
    "    epochs=40,\n",
    "    batch_size=140,\n",
    "    callbacks=[checkpoint]\n",
    ")"
   ],
   "metadata": {
    "collapsed": false,
    "ExecuteTime": {
     "end_time": "2023-11-17T17:20:52.054990734Z",
     "start_time": "2023-11-17T17:17:28.067478748Z"
    }
   },
   "id": "eb72dfd802b83c78"
  },
  {
   "cell_type": "code",
   "execution_count": 107,
   "outputs": [
    {
     "name": "stdout",
     "output_type": "stream",
     "text": [
      "Model: \"sequential_4\"\n",
      "_________________________________________________________________\n",
      "Layer (type)                 Output Shape              Param #   \n",
      "=================================================================\n",
      "dense_128 (Dense)            (None, 64)                1024      \n",
      "_________________________________________________________________\n",
      "leaky_re_lu_124 (LeakyReLU)  (None, 64)                0         \n",
      "_________________________________________________________________\n",
      "dense_129 (Dense)            (None, 32)                2080      \n",
      "_________________________________________________________________\n",
      "leaky_re_lu_125 (LeakyReLU)  (None, 32)                0         \n",
      "_________________________________________________________________\n",
      "dense_130 (Dense)            (None, 32)                1056      \n",
      "_________________________________________________________________\n",
      "leaky_re_lu_126 (LeakyReLU)  (None, 32)                0         \n",
      "_________________________________________________________________\n",
      "dense_131 (Dense)            (None, 32)                1056      \n",
      "_________________________________________________________________\n",
      "leaky_re_lu_127 (LeakyReLU)  (None, 32)                0         \n",
      "_________________________________________________________________\n",
      "dense_132 (Dense)            (None, 32)                1056      \n",
      "_________________________________________________________________\n",
      "leaky_re_lu_128 (LeakyReLU)  (None, 32)                0         \n",
      "_________________________________________________________________\n",
      "dense_133 (Dense)            (None, 32)                1056      \n",
      "_________________________________________________________________\n",
      "leaky_re_lu_129 (LeakyReLU)  (None, 32)                0         \n",
      "_________________________________________________________________\n",
      "dense_134 (Dense)            (None, 32)                1056      \n",
      "_________________________________________________________________\n",
      "leaky_re_lu_130 (LeakyReLU)  (None, 32)                0         \n",
      "_________________________________________________________________\n",
      "dense_135 (Dense)            (None, 32)                1056      \n",
      "_________________________________________________________________\n",
      "leaky_re_lu_131 (LeakyReLU)  (None, 32)                0         \n",
      "_________________________________________________________________\n",
      "dense_136 (Dense)            (None, 32)                1056      \n",
      "_________________________________________________________________\n",
      "leaky_re_lu_132 (LeakyReLU)  (None, 32)                0         \n",
      "_________________________________________________________________\n",
      "dense_137 (Dense)            (None, 32)                1056      \n",
      "_________________________________________________________________\n",
      "leaky_re_lu_133 (LeakyReLU)  (None, 32)                0         \n",
      "_________________________________________________________________\n",
      "dense_138 (Dense)            (None, 32)                1056      \n",
      "_________________________________________________________________\n",
      "leaky_re_lu_134 (LeakyReLU)  (None, 32)                0         \n",
      "_________________________________________________________________\n",
      "dense_139 (Dense)            (None, 32)                1056      \n",
      "_________________________________________________________________\n",
      "leaky_re_lu_135 (LeakyReLU)  (None, 32)                0         \n",
      "_________________________________________________________________\n",
      "dense_140 (Dense)            (None, 32)                1056      \n",
      "_________________________________________________________________\n",
      "leaky_re_lu_136 (LeakyReLU)  (None, 32)                0         \n",
      "_________________________________________________________________\n",
      "dense_141 (Dense)            (None, 32)                1056      \n",
      "_________________________________________________________________\n",
      "leaky_re_lu_137 (LeakyReLU)  (None, 32)                0         \n",
      "_________________________________________________________________\n",
      "dense_142 (Dense)            (None, 32)                1056      \n",
      "_________________________________________________________________\n",
      "leaky_re_lu_138 (LeakyReLU)  (None, 32)                0         \n",
      "_________________________________________________________________\n",
      "dense_143 (Dense)            (None, 32)                1056      \n",
      "_________________________________________________________________\n",
      "leaky_re_lu_139 (LeakyReLU)  (None, 32)                0         \n",
      "_________________________________________________________________\n",
      "dense_144 (Dense)            (None, 32)                1056      \n",
      "_________________________________________________________________\n",
      "leaky_re_lu_140 (LeakyReLU)  (None, 32)                0         \n",
      "_________________________________________________________________\n",
      "dense_145 (Dense)            (None, 32)                1056      \n",
      "_________________________________________________________________\n",
      "leaky_re_lu_141 (LeakyReLU)  (None, 32)                0         \n",
      "_________________________________________________________________\n",
      "dense_146 (Dense)            (None, 32)                1056      \n",
      "_________________________________________________________________\n",
      "leaky_re_lu_142 (LeakyReLU)  (None, 32)                0         \n",
      "_________________________________________________________________\n",
      "dense_147 (Dense)            (None, 32)                1056      \n",
      "_________________________________________________________________\n",
      "leaky_re_lu_143 (LeakyReLU)  (None, 32)                0         \n",
      "_________________________________________________________________\n",
      "dense_148 (Dense)            (None, 32)                1056      \n",
      "_________________________________________________________________\n",
      "leaky_re_lu_144 (LeakyReLU)  (None, 32)                0         \n",
      "_________________________________________________________________\n",
      "dense_149 (Dense)            (None, 32)                1056      \n",
      "_________________________________________________________________\n",
      "leaky_re_lu_145 (LeakyReLU)  (None, 32)                0         \n",
      "_________________________________________________________________\n",
      "dense_150 (Dense)            (None, 32)                1056      \n",
      "_________________________________________________________________\n",
      "leaky_re_lu_146 (LeakyReLU)  (None, 32)                0         \n",
      "_________________________________________________________________\n",
      "dense_151 (Dense)            (None, 32)                1056      \n",
      "_________________________________________________________________\n",
      "leaky_re_lu_147 (LeakyReLU)  (None, 32)                0         \n",
      "_________________________________________________________________\n",
      "dense_152 (Dense)            (None, 32)                1056      \n",
      "_________________________________________________________________\n",
      "leaky_re_lu_148 (LeakyReLU)  (None, 32)                0         \n",
      "_________________________________________________________________\n",
      "dense_153 (Dense)            (None, 32)                1056      \n",
      "_________________________________________________________________\n",
      "leaky_re_lu_149 (LeakyReLU)  (None, 32)                0         \n",
      "_________________________________________________________________\n",
      "dense_154 (Dense)            (None, 32)                1056      \n",
      "_________________________________________________________________\n",
      "leaky_re_lu_150 (LeakyReLU)  (None, 32)                0         \n",
      "_________________________________________________________________\n",
      "dense_155 (Dense)            (None, 32)                1056      \n",
      "_________________________________________________________________\n",
      "leaky_re_lu_151 (LeakyReLU)  (None, 32)                0         \n",
      "_________________________________________________________________\n",
      "dense_156 (Dense)            (None, 32)                1056      \n",
      "_________________________________________________________________\n",
      "leaky_re_lu_152 (LeakyReLU)  (None, 32)                0         \n",
      "_________________________________________________________________\n",
      "dense_157 (Dense)            (None, 32)                1056      \n",
      "_________________________________________________________________\n",
      "leaky_re_lu_153 (LeakyReLU)  (None, 32)                0         \n",
      "_________________________________________________________________\n",
      "dense_158 (Dense)            (None, 32)                1056      \n",
      "_________________________________________________________________\n",
      "leaky_re_lu_154 (LeakyReLU)  (None, 32)                0         \n",
      "_________________________________________________________________\n",
      "dense_159 (Dense)            (None, 17)                561       \n",
      "=================================================================\n",
      "Total params: 34,289\n",
      "Trainable params: 34,289\n",
      "Non-trainable params: 0\n",
      "_________________________________________________________________\n",
      "Epoch 1/40\n"
     ]
    },
    {
     "name": "stderr",
     "output_type": "stream",
     "text": [
      "2023-11-17 18:22:10.315359: I tensorflow/tsl/profiler/lib/profiler_session.cc:104] Profiler session initializing.\n",
      "2023-11-17 18:22:10.315657: I tensorflow/tsl/profiler/lib/profiler_session.cc:119] Profiler session started.\n",
      "2023-11-17 18:22:10.316022: I tensorflow/tsl/profiler/lib/profiler_session.cc:131] Profiler session tear down.\n"
     ]
    },
    {
     "name": "stdout",
     "output_type": "stream",
     "text": [
      "391/391 [==============================] - 5s 12ms/step - loss: 2.4495 - accuracy: 0.1330 - val_loss: 2.4584 - val_accuracy: 0.1308\n",
      "\n",
      "Epoch 00001: val_accuracy improved from -inf to 0.13084, saving model to bestmodelv1-0.31422.h5\n",
      "Epoch 2/40\n",
      "391/391 [==============================] - 4s 11ms/step - loss: 2.4515 - accuracy: 0.1327 - val_loss: 2.4605 - val_accuracy: 0.1247\n",
      "\n",
      "Epoch 00002: val_accuracy did not improve from 0.13084\n",
      "Epoch 3/40\n",
      "391/391 [==============================] - 4s 9ms/step - loss: 2.4480 - accuracy: 0.1325 - val_loss: 2.4611 - val_accuracy: 0.1274\n",
      "\n",
      "Epoch 00003: val_accuracy did not improve from 0.13084\n",
      "Epoch 4/40\n",
      "391/391 [==============================] - 4s 11ms/step - loss: 2.4473 - accuracy: 0.1334 - val_loss: 2.4522 - val_accuracy: 0.1312\n",
      "\n",
      "Epoch 00004: val_accuracy improved from 0.13084 to 0.13120, saving model to bestmodelv1-0.31422.h5\n",
      "Epoch 5/40\n",
      "391/391 [==============================] - 4s 10ms/step - loss: 2.4499 - accuracy: 0.1312 - val_loss: 2.4620 - val_accuracy: 0.1300\n",
      "\n",
      "Epoch 00005: val_accuracy did not improve from 0.13120\n",
      "Epoch 6/40\n",
      "391/391 [==============================] - 4s 10ms/step - loss: 2.4482 - accuracy: 0.1313 - val_loss: 2.4533 - val_accuracy: 0.1309\n",
      "\n",
      "Epoch 00006: val_accuracy did not improve from 0.13120\n",
      "Epoch 7/40\n",
      "391/391 [==============================] - 4s 10ms/step - loss: 2.4436 - accuracy: 0.1339 - val_loss: 2.4614 - val_accuracy: 0.1312\n",
      "\n",
      "Epoch 00007: val_accuracy did not improve from 0.13120\n",
      "Epoch 8/40\n",
      "391/391 [==============================] - 5s 12ms/step - loss: 2.4421 - accuracy: 0.1337 - val_loss: 2.4707 - val_accuracy: 0.1238\n",
      "\n",
      "Epoch 00008: val_accuracy did not improve from 0.13120\n",
      "Epoch 9/40\n",
      "391/391 [==============================] - 5s 12ms/step - loss: 2.4709 - accuracy: 0.1219 - val_loss: 2.4858 - val_accuracy: 0.1175\n",
      "\n",
      "Epoch 00009: val_accuracy did not improve from 0.13120\n",
      "Epoch 10/40\n",
      "391/391 [==============================] - 6s 16ms/step - loss: 2.4745 - accuracy: 0.1215 - val_loss: 2.4760 - val_accuracy: 0.1212\n",
      "\n",
      "Epoch 00010: val_accuracy did not improve from 0.13120\n",
      "Epoch 11/40\n",
      "391/391 [==============================] - 4s 11ms/step - loss: 2.4678 - accuracy: 0.1216 - val_loss: 2.4725 - val_accuracy: 0.1225\n",
      "\n",
      "Epoch 00011: val_accuracy did not improve from 0.13120\n",
      "Epoch 12/40\n",
      "391/391 [==============================] - 5s 13ms/step - loss: 2.4636 - accuracy: 0.1261 - val_loss: 2.4701 - val_accuracy: 0.1201\n",
      "\n",
      "Epoch 00012: val_accuracy did not improve from 0.13120\n",
      "Epoch 13/40\n",
      "391/391 [==============================] - 5s 12ms/step - loss: 2.4602 - accuracy: 0.1253 - val_loss: 2.4667 - val_accuracy: 0.1240\n",
      "\n",
      "Epoch 00013: val_accuracy did not improve from 0.13120\n",
      "Epoch 14/40\n",
      "391/391 [==============================] - 5s 12ms/step - loss: 2.4609 - accuracy: 0.1272 - val_loss: 2.4617 - val_accuracy: 0.1271\n",
      "\n",
      "Epoch 00014: val_accuracy did not improve from 0.13120\n",
      "Epoch 15/40\n",
      "391/391 [==============================] - 5s 13ms/step - loss: 2.4566 - accuracy: 0.1304 - val_loss: 2.4606 - val_accuracy: 0.1281\n",
      "\n",
      "Epoch 00015: val_accuracy did not improve from 0.13120\n",
      "Epoch 16/40\n",
      "391/391 [==============================] - 5s 12ms/step - loss: 2.4531 - accuracy: 0.1315 - val_loss: 2.4596 - val_accuracy: 0.1273\n",
      "\n",
      "Epoch 00016: val_accuracy did not improve from 0.13120\n",
      "Epoch 17/40\n",
      "391/391 [==============================] - 5s 13ms/step - loss: 2.4552 - accuracy: 0.1312 - val_loss: 2.4668 - val_accuracy: 0.1282\n",
      "\n",
      "Epoch 00017: val_accuracy did not improve from 0.13120\n",
      "Epoch 18/40\n",
      "391/391 [==============================] - 5s 12ms/step - loss: 2.4528 - accuracy: 0.1330 - val_loss: 2.4637 - val_accuracy: 0.1300\n",
      "\n",
      "Epoch 00018: val_accuracy did not improve from 0.13120\n",
      "Epoch 19/40\n",
      "391/391 [==============================] - 5s 12ms/step - loss: 2.4487 - accuracy: 0.1352 - val_loss: 2.4694 - val_accuracy: 0.1294\n",
      "\n",
      "Epoch 00019: val_accuracy did not improve from 0.13120\n",
      "Epoch 20/40\n",
      "391/391 [==============================] - 4s 11ms/step - loss: 2.4493 - accuracy: 0.1341 - val_loss: 2.4561 - val_accuracy: 0.1309\n",
      "\n",
      "Epoch 00020: val_accuracy did not improve from 0.13120\n",
      "Epoch 21/40\n",
      "391/391 [==============================] - 5s 13ms/step - loss: 2.4615 - accuracy: 0.1293 - val_loss: 2.4768 - val_accuracy: 0.1235\n",
      "\n",
      "Epoch 00021: val_accuracy did not improve from 0.13120\n",
      "Epoch 22/40\n",
      "391/391 [==============================] - 5s 13ms/step - loss: 2.4655 - accuracy: 0.1309 - val_loss: 2.4675 - val_accuracy: 0.1251\n",
      "\n",
      "Epoch 00022: val_accuracy did not improve from 0.13120\n",
      "Epoch 23/40\n",
      "391/391 [==============================] - 6s 14ms/step - loss: 2.4573 - accuracy: 0.1324 - val_loss: 2.4782 - val_accuracy: 0.1229\n",
      "\n",
      "Epoch 00023: val_accuracy did not improve from 0.13120\n",
      "Epoch 24/40\n",
      "391/391 [==============================] - 5s 12ms/step - loss: 2.4535 - accuracy: 0.1329 - val_loss: 2.4638 - val_accuracy: 0.1309\n",
      "\n",
      "Epoch 00024: val_accuracy did not improve from 0.13120\n",
      "Epoch 25/40\n",
      "391/391 [==============================] - 5s 14ms/step - loss: 2.4583 - accuracy: 0.1321 - val_loss: 2.4595 - val_accuracy: 0.1305\n",
      "\n",
      "Epoch 00025: val_accuracy did not improve from 0.13120\n",
      "Epoch 26/40\n",
      "391/391 [==============================] - 5s 12ms/step - loss: 2.4516 - accuracy: 0.1325 - val_loss: 2.4552 - val_accuracy: 0.1270\n",
      "\n",
      "Epoch 00026: val_accuracy did not improve from 0.13120\n",
      "Epoch 27/40\n",
      "391/391 [==============================] - 4s 11ms/step - loss: 2.4531 - accuracy: 0.1322 - val_loss: 2.4607 - val_accuracy: 0.1294\n",
      "\n",
      "Epoch 00027: val_accuracy did not improve from 0.13120\n",
      "Epoch 28/40\n",
      "391/391 [==============================] - 4s 11ms/step - loss: 2.4496 - accuracy: 0.1346 - val_loss: 2.4688 - val_accuracy: 0.1257\n",
      "\n",
      "Epoch 00028: val_accuracy did not improve from 0.13120\n",
      "Epoch 29/40\n",
      "391/391 [==============================] - 5s 12ms/step - loss: 2.4564 - accuracy: 0.1325 - val_loss: 2.4669 - val_accuracy: 0.1248\n",
      "\n",
      "Epoch 00029: val_accuracy did not improve from 0.13120\n",
      "Epoch 30/40\n",
      "391/391 [==============================] - 4s 11ms/step - loss: 2.4518 - accuracy: 0.1335 - val_loss: 2.4580 - val_accuracy: 0.1309\n",
      "\n",
      "Epoch 00030: val_accuracy did not improve from 0.13120\n",
      "Epoch 31/40\n",
      "391/391 [==============================] - 5s 12ms/step - loss: 2.4593 - accuracy: 0.1303 - val_loss: 2.4677 - val_accuracy: 0.1284\n",
      "\n",
      "Epoch 00031: val_accuracy did not improve from 0.13120\n",
      "Epoch 32/40\n",
      "391/391 [==============================] - 5s 12ms/step - loss: 2.4635 - accuracy: 0.1306 - val_loss: 2.4819 - val_accuracy: 0.1254\n",
      "\n",
      "Epoch 00032: val_accuracy did not improve from 0.13120\n",
      "Epoch 33/40\n",
      "391/391 [==============================] - 5s 12ms/step - loss: 2.4704 - accuracy: 0.1269 - val_loss: 2.4799 - val_accuracy: 0.1259\n",
      "\n",
      "Epoch 00033: val_accuracy did not improve from 0.13120\n",
      "Epoch 34/40\n",
      "391/391 [==============================] - 5s 12ms/step - loss: 2.4710 - accuracy: 0.1301 - val_loss: 2.4859 - val_accuracy: 0.1259\n",
      "\n",
      "Epoch 00034: val_accuracy did not improve from 0.13120\n",
      "Epoch 35/40\n",
      "391/391 [==============================] - 5s 13ms/step - loss: 2.4641 - accuracy: 0.1323 - val_loss: 2.4772 - val_accuracy: 0.1251\n",
      "\n",
      "Epoch 00035: val_accuracy did not improve from 0.13120\n",
      "Epoch 36/40\n",
      "391/391 [==============================] - 5s 13ms/step - loss: 2.4815 - accuracy: 0.1227 - val_loss: 2.4927 - val_accuracy: 0.1149\n",
      "\n",
      "Epoch 00036: val_accuracy did not improve from 0.13120\n",
      "Epoch 37/40\n",
      "391/391 [==============================] - 8s 20ms/step - loss: 2.4791 - accuracy: 0.1199 - val_loss: 2.4837 - val_accuracy: 0.1207\n",
      "\n",
      "Epoch 00037: val_accuracy did not improve from 0.13120\n",
      "Epoch 38/40\n",
      "391/391 [==============================] - 5s 12ms/step - loss: 2.4720 - accuracy: 0.1248 - val_loss: 2.4743 - val_accuracy: 0.1229\n",
      "\n",
      "Epoch 00038: val_accuracy did not improve from 0.13120\n",
      "Epoch 39/40\n",
      "391/391 [==============================] - 6s 14ms/step - loss: 2.4715 - accuracy: 0.1246 - val_loss: 2.4725 - val_accuracy: 0.1216\n",
      "\n",
      "Epoch 00039: val_accuracy did not improve from 0.13120\n",
      "Epoch 40/40\n",
      "391/391 [==============================] - 5s 12ms/step - loss: 2.4676 - accuracy: 0.1274 - val_loss: 2.5120 - val_accuracy: 0.1210\n",
      "\n",
      "Epoch 00040: val_accuracy did not improve from 0.13120\n"
     ]
    },
    {
     "data": {
      "text/plain": "<tensorflow.python.keras.callbacks.History at 0x7fc640997490>"
     },
     "execution_count": 107,
     "metadata": {},
     "output_type": "execute_result"
    }
   ],
   "source": [
    "model = load_model('bestmodelv4.h5')\n",
    "\n",
    "model.summary()\n",
    "\n",
    "# Callback to save the best model during training\n",
    "checkpoint = ModelCheckpoint('bestmodelv1-0.31422.h5', verbose=1, monitor='val_accuracy', save_best_only=True,\n",
    "                             mode='auto')\n",
    "\n",
    "# Callback for TensorBoard\n",
    "tensorboard_callback = TensorBoard(log_dir='./logs', histogram_freq=1)\n",
    "\n",
    "# Train the model\n",
    "model.fit(\n",
    "    train_data, train_labels,\n",
    "    validation_data=(val_data, val_labels),\n",
    "    epochs=40,\n",
    "    batch_size=140,\n",
    "    callbacks=[checkpoint]\n",
    ")"
   ],
   "metadata": {
    "collapsed": false,
    "ExecuteTime": {
     "end_time": "2023-11-17T17:25:22.197805284Z",
     "start_time": "2023-11-17T17:22:09.796034107Z"
    }
   },
   "id": "4255d3528eb8b681"
  },
  {
   "cell_type": "code",
   "execution_count": 735,
   "outputs": [
    {
     "data": {
      "text/plain": "[]"
     },
     "execution_count": 735,
     "metadata": {},
     "output_type": "execute_result"
    }
   ],
   "source": [
    "tf.config.list_physical_devices('GPU')"
   ],
   "metadata": {
    "collapsed": false,
    "ExecuteTime": {
     "end_time": "2023-11-16T21:52:08.213942166Z",
     "start_time": "2023-11-16T21:52:08.170570984Z"
    }
   },
   "id": "e9a15965541dbf24"
  }
 ],
 "metadata": {
  "kernelspec": {
   "display_name": "Python 3",
   "language": "python",
   "name": "python3"
  },
  "language_info": {
   "codemirror_mode": {
    "name": "ipython",
    "version": 2
   },
   "file_extension": ".py",
   "mimetype": "text/x-python",
   "name": "python",
   "nbconvert_exporter": "python",
   "pygments_lexer": "ipython2",
   "version": "2.7.6"
  }
 },
 "nbformat": 4,
 "nbformat_minor": 5
}
