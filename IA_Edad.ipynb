{
 "cells": [
  {
   "cell_type": "code",
   "execution_count": 706,
   "id": "initial_id",
   "metadata": {
    "collapsed": true,
    "ExecuteTime": {
     "end_time": "2023-11-16T21:40:43.979063129Z",
     "start_time": "2023-11-16T21:40:43.928964915Z"
    }
   },
   "outputs": [],
   "source": [
    "import numpy as np\n",
    "import pandas as pd\n",
    "import re\n",
    "import tensorflow as tf\n",
    "from tensorflow.python.keras.callbacks import ModelCheckpoint, TensorBoard\n",
    "from tensorflow.python.keras.models import Sequential\n",
    "from tensorflow.python.keras.layers import Dense, LeakyReLU\n",
    "from tensorflow.python.keras.models import load_model\n",
    "from tensorflow.python.keras.optimizers import adam_v2\n",
    "from sklearn.model_selection import train_test_split\n",
    "from datetime import datetime"
   ]
  },
  {
   "cell_type": "markdown",
   "source": [
    "# Preparar los datos\n",
    "Preparamos los datos previa separación. Codificamos numéricamente y eliminamos columnas que no vamos a utilizar"
   ],
   "metadata": {
    "collapsed": false
   },
   "id": "c459cc7eaf7ac21d"
  },
  {
   "cell_type": "code",
   "execution_count": 707,
   "outputs": [
    {
     "name": "stderr",
     "output_type": "stream",
     "text": [
      "/tmp/ipykernel_7744/4064952317.py:1: DtypeWarning: Columns (15,16) have mixed types. Specify dtype option on import or set low_memory=False.\n",
      "  df = pd.read_csv('Datasets/Data_Combinada.csv')\n"
     ]
    }
   ],
   "source": [
    "df = pd.read_csv('Datasets/Data_Combinada.csv')"
   ],
   "metadata": {
    "collapsed": false,
    "ExecuteTime": {
     "end_time": "2023-11-16T21:40:44.199510237Z",
     "start_time": "2023-11-16T21:40:43.939252544Z"
    }
   },
   "id": "944713f267db8d48"
  },
  {
   "cell_type": "markdown",
   "source": [
    "Eliminamos columnas que no utilizaremos, como las coordenadas, o columnas repetidas como distrito con código distrito y lesividad con código lesividad"
   ],
   "metadata": {
    "collapsed": false
   },
   "id": "2550294496817fb"
  },
  {
   "cell_type": "code",
   "execution_count": 708,
   "outputs": [],
   "source": [
    "df.drop(columns=['distrito', 'coordenada_y_utm', 'coordenada_x_utm', 'localizacion', 'numero', 'lesividad'],\n",
    "        inplace=True)"
   ],
   "metadata": {
    "collapsed": false,
    "ExecuteTime": {
     "end_time": "2023-11-16T21:40:44.208779377Z",
     "start_time": "2023-11-16T21:40:44.175111426Z"
    }
   },
   "id": "e613d44dfa52586f"
  },
  {
   "cell_type": "code",
   "execution_count": 709,
   "outputs": [],
   "source": [
    "df['sexo'].replace({'M': 0, 'H': 1}, inplace=True)"
   ],
   "metadata": {
    "collapsed": false,
    "ExecuteTime": {
     "end_time": "2023-11-16T21:40:44.209480562Z",
     "start_time": "2023-11-16T21:40:44.175245580Z"
    }
   },
   "id": "e0d47b76a44fb3ed"
  },
  {
   "cell_type": "code",
   "execution_count": 710,
   "outputs": [],
   "source": [
    "df['fugado'].replace({'No': 0, 'Si': 1}, inplace=True)"
   ],
   "metadata": {
    "collapsed": false,
    "ExecuteTime": {
     "end_time": "2023-11-16T21:40:44.243267889Z",
     "start_time": "2023-11-16T21:40:44.194999378Z"
    }
   },
   "id": "5959f19036105faa"
  },
  {
   "cell_type": "code",
   "execution_count": 711,
   "outputs": [],
   "source": [
    "df['tipo_persona'].replace({'Conductor': 1, 'Pasajero': 0, 'No': 0}, inplace=True)"
   ],
   "metadata": {
    "collapsed": false,
    "ExecuteTime": {
     "end_time": "2023-11-16T21:40:44.243556320Z",
     "start_time": "2023-11-16T21:40:44.239009829Z"
    }
   },
   "id": "febf13b0176cc46"
  },
  {
   "cell_type": "code",
   "execution_count": 712,
   "outputs": [],
   "source": [
    "# El criterio según la fuente de datos es que si es None es nada, de todas formas si fue ingresado debería existir registro\n",
    "# por lo que es muy raro el caso contrario\n",
    "df['cod_lesividad'].fillna(0, inplace=True)"
   ],
   "metadata": {
    "collapsed": false,
    "ExecuteTime": {
     "end_time": "2023-11-16T21:40:44.243638384Z",
     "start_time": "2023-11-16T21:40:44.239122006Z"
    }
   },
   "id": "5c69ddabcaf72893"
  },
  {
   "cell_type": "code",
   "execution_count": 713,
   "outputs": [],
   "source": [
    "def marca_de_clase_rango_edad(edad: str) -> float:\n",
    "    regex_format = r'\\b\\d+\\b'\n",
    "    numbers = re.findall(regex_format, edad)\n",
    "    if len(numbers) >= 2:\n",
    "        return (int(numbers[0]) + int(numbers[1])) / 2\n",
    "\n",
    "    if edad == 'Menor de 5 años':\n",
    "        return 5\n",
    "\n",
    "    if edad == 'Más de 74 años':\n",
    "        return 74\n",
    "\n",
    "    else:\n",
    "        return -1\n",
    "\n",
    "\n",
    "df['rango_edad'] = df['rango_edad'].apply(marca_de_clase_rango_edad)\n",
    "df.rename(columns={'rango_edad': 'marca_de_clase_edad'}, inplace=True)"
   ],
   "metadata": {
    "collapsed": false,
    "ExecuteTime": {
     "end_time": "2023-11-16T21:40:44.324910706Z",
     "start_time": "2023-11-16T21:40:44.239158287Z"
    }
   },
   "id": "dbe8f16f92437a17"
  },
  {
   "cell_type": "code",
   "execution_count": 714,
   "outputs": [
    {
     "name": "stdout",
     "output_type": "stream",
     "text": [
      "[-1.0, 5.0, 7.5, 12.0, 16.0, 19.0, 22.5, 27.0, 32.0, 37.0, 42.0, 47.0, 52.0, 57.0, 62.0, 67.0, 72.0, 74.0]\n"
     ]
    }
   ],
   "source": [
    "print(sorted(df['marca_de_clase_edad'].unique()))"
   ],
   "metadata": {
    "collapsed": false,
    "ExecuteTime": {
     "end_time": "2023-11-16T21:40:44.367361135Z",
     "start_time": "2023-11-16T21:40:44.325593468Z"
    }
   },
   "id": "a9cdef155709d5e0"
  },
  {
   "cell_type": "code",
   "execution_count": 715,
   "outputs": [
    {
     "data": {
      "text/plain": "0    90\n1    90\n2    30\n3    30\n4    30\nName: hora, dtype: int64"
     },
     "execution_count": 715,
     "metadata": {},
     "output_type": "execute_result"
    }
   ],
   "source": [
    "def minutes_from_midnight(hour_str: str) -> int:\n",
    "    clock = hour_str.split(':')\n",
    "    minutes = 0\n",
    "\n",
    "    minutes = int(clock[0]) * 60\n",
    "    minutes = minutes + int(clock[1])\n",
    "\n",
    "    return minutes\n",
    "\n",
    "\n",
    "df['hora'] = df['hora'].apply(minutes_from_midnight)\n",
    "df.pop('hora').head()"
   ],
   "metadata": {
    "collapsed": false,
    "ExecuteTime": {
     "end_time": "2023-11-16T21:40:44.417150459Z",
     "start_time": "2023-11-16T21:40:44.367114366Z"
    }
   },
   "id": "943464f7ea88d824"
  },
  {
   "cell_type": "code",
   "execution_count": 716,
   "outputs": [],
   "source": [
    "def extract_day(date_str: str) -> int:\n",
    "    date_parts = date_str.split('/')\n",
    "    if len(date_parts) >= 3:\n",
    "        return int(date_parts[0])\n",
    "\n",
    "\n",
    "def extract_month(date_str: str) -> int:\n",
    "    date_parts = date_str.split('/')\n",
    "    if len(date_parts) >= 3:\n",
    "        return int(date_parts[1])\n",
    "\n",
    "\n",
    "def extract_year(date_str: str) -> int:\n",
    "    date_parts = date_str.split('/')\n",
    "    if len(date_parts) >= 3:\n",
    "        return int(date_parts[2])\n",
    "\n",
    "\n",
    "df['day'] = df['fecha'].transform(extract_day)\n",
    "df['month'] = df['fecha'].transform(extract_month)\n",
    "df['year'] = df['fecha'].transform(extract_year)"
   ],
   "metadata": {
    "collapsed": false,
    "ExecuteTime": {
     "end_time": "2023-11-16T21:40:44.497310884Z",
     "start_time": "2023-11-16T21:40:44.411025553Z"
    }
   },
   "id": "c566f74538a1d37a"
  },
  {
   "cell_type": "code",
   "execution_count": 717,
   "outputs": [
    {
     "data": {
      "text/plain": "0    01/01/2022\n1    01/01/2022\n2    01/01/2022\n3    01/01/2022\n4    01/01/2022\nName: fecha, dtype: object"
     },
     "execution_count": 717,
     "metadata": {},
     "output_type": "execute_result"
    }
   ],
   "source": [
    "def is_work_day(date_str: str) -> int:\n",
    "    date_format = '%d/%m/%Y'  # Formato para 'dd-MM-yyyy'\n",
    "\n",
    "    holidays_madrid = ['']  # todo\n",
    "    try:\n",
    "        date_obj = datetime.strptime(date_str, date_format)\n",
    "        day_of_week_int = date_obj.weekday()\n",
    "        if day_of_week_int == 5 or day_of_week_int == 6 or date_str in holidays_madrid:\n",
    "            return 0\n",
    "        return 1\n",
    "\n",
    "    except ValueError:\n",
    "        return -1\n",
    "\n",
    "\n",
    "df['bool_laborable'] = df['fecha'].transform(is_work_day)\n",
    "df.pop('fecha').head()"
   ],
   "metadata": {
    "collapsed": false,
    "ExecuteTime": {
     "end_time": "2023-11-16T21:40:44.829730780Z",
     "start_time": "2023-11-16T21:40:44.523429256Z"
    }
   },
   "id": "a8481dc604e6c2fc"
  },
  {
   "cell_type": "code",
   "execution_count": 718,
   "outputs": [],
   "source": [
    "unique_values = df['tipo_accidente'].unique()\n",
    "dictionary = {type_of: code for code, type_of in enumerate(unique_values)}\n",
    "df['tipo_accidente'] = df['tipo_accidente'].map(dictionary)"
   ],
   "metadata": {
    "collapsed": false,
    "ExecuteTime": {
     "end_time": "2023-11-16T21:40:44.838568046Z",
     "start_time": "2023-11-16T21:40:44.832423845Z"
    }
   },
   "id": "d1b193eab35abedc"
  },
  {
   "cell_type": "code",
   "execution_count": 719,
   "outputs": [],
   "source": [
    "unique_values = df['tipo_vehiculo'].unique()\n",
    "dictionary = {type_of: code for code, type_of in enumerate(unique_values)}\n",
    "df['tipo_vehiculo'] = df['tipo_vehiculo'].map(dictionary)"
   ],
   "metadata": {
    "collapsed": false,
    "ExecuteTime": {
     "end_time": "2023-11-16T21:40:44.862090969Z",
     "start_time": "2023-11-16T21:40:44.838673155Z"
    }
   },
   "id": "b4164dc36a3ca905"
  },
  {
   "cell_type": "code",
   "execution_count": 720,
   "outputs": [],
   "source": [
    "# TODO eliminar esto cuando se rellene con criterio\n",
    "df['estado_meteorológico'].fillna('Desconocido', inplace=True)\n",
    "\n",
    "unique_values = df['estado_meteorológico'].unique()\n",
    "dictionary = {type_of: code for code, type_of in enumerate(unique_values)}\n",
    "df['estado_meteorológico'] = df['estado_meteorológico'].map(dictionary)"
   ],
   "metadata": {
    "collapsed": false,
    "ExecuteTime": {
     "end_time": "2023-11-16T21:40:44.879185334Z",
     "start_time": "2023-11-16T21:40:44.859575134Z"
    }
   },
   "id": "832dd48945c290c0"
  },
  {
   "cell_type": "code",
   "execution_count": 721,
   "outputs": [
    {
     "data": {
      "text/plain": "num_expediente          False\ncod_distrito            False\ntipo_accidente          False\nestado_meteorológico    False\ntipo_vehiculo           False\ntipo_persona            False\nmarca_de_clase_edad     False\nsexo                    False\ncod_lesividad           False\npositiva_alcohol        False\npositiva_droga          False\nnumero_pasajeros        False\nfugado                  False\nday                     False\nmonth                   False\nyear                    False\nbool_laborable          False\ndtype: bool"
     },
     "execution_count": 721,
     "metadata": {},
     "output_type": "execute_result"
    }
   ],
   "source": [
    "df.isnull().any()"
   ],
   "metadata": {
    "collapsed": false,
    "ExecuteTime": {
     "end_time": "2023-11-16T21:40:44.923383390Z",
     "start_time": "2023-11-16T21:40:44.879412468Z"
    }
   },
   "id": "c10b2dd1a439bce6"
  },
  {
   "cell_type": "markdown",
   "source": [
    "Todo listo. Dropeamos número de expediente y procedemos a separar los datos"
   ],
   "metadata": {
    "collapsed": false
   },
   "id": "60da7b90ae1d028b"
  },
  {
   "cell_type": "code",
   "execution_count": 722,
   "outputs": [
    {
     "data": {
      "text/plain": "0    2022S000001\n1    2022S000001\n2    2022S000002\n3    2022S000002\n4    2022S000002\nName: num_expediente, dtype: object"
     },
     "execution_count": 722,
     "metadata": {},
     "output_type": "execute_result"
    }
   ],
   "source": [
    "df.pop('num_expediente').head()"
   ],
   "metadata": {
    "collapsed": false,
    "ExecuteTime": {
     "end_time": "2023-11-16T21:40:44.923608567Z",
     "start_time": "2023-11-16T21:40:44.923037027Z"
    }
   },
   "id": "7c5791b20db6c32"
  },
  {
   "cell_type": "markdown",
   "source": [
    "# Separamos en tres datasets\n",
    "1. Normalizamos los datos\n",
    "2. Separamos en:\n",
    "    * A entrenar: el 80% de los datos\n",
    "    * A validar: el 20% muestreado aleatoriamente\n",
    "    * A predecir: Los que marca de edad sean igual a -1"
   ],
   "metadata": {
    "collapsed": false
   },
   "id": "4c7f4dd756f478b0"
  },
  {
   "cell_type": "code",
   "execution_count": 723,
   "outputs": [],
   "source": [
    "predict_df = df[df['marca_de_clase_edad'] == -1]\n",
    "df_ex_predict = df.drop(predict_df.index)"
   ],
   "metadata": {
    "collapsed": false,
    "ExecuteTime": {
     "end_time": "2023-11-16T21:40:44.967531666Z",
     "start_time": "2023-11-16T21:40:44.923202123Z"
    }
   },
   "id": "7f8a8f9ccb0a91b0"
  },
  {
   "cell_type": "code",
   "execution_count": 724,
   "outputs": [
    {
     "name": "stdout",
     "output_type": "stream",
     "text": [
      "[5.0, 7.5, 12.0, 16.0, 19.0, 22.5, 27.0, 32.0, 37.0, 42.0, 47.0, 52.0, 57.0, 62.0, 67.0, 72.0, 74.0]\n"
     ]
    }
   ],
   "source": [
    "print(sorted(df_ex_predict['marca_de_clase_edad'].unique()))"
   ],
   "metadata": {
    "collapsed": false,
    "ExecuteTime": {
     "end_time": "2023-11-16T21:40:44.967785302Z",
     "start_time": "2023-11-16T21:40:44.967048437Z"
    }
   },
   "id": "d4208215edd57fcb"
  },
  {
   "cell_type": "code",
   "execution_count": 725,
   "outputs": [],
   "source": [
    "# 'tipo_persona', 'sexo', 'positivo_alcohol', 'positivo_droga', 'fugado' no necesitan ser normalizadas\n",
    "def custom_normalizer(__df: pd.DataFrame) -> None:\n",
    "    cols_to_preserve = ['tipo_persona', 'sexo', 'positiva_alcohol', 'positiva_droga', 'fugado', 'marca_de_clase_edad']\n",
    "    # Normalizar las demás columnas\n",
    "    for col in __df.columns:\n",
    "        if col not in cols_to_preserve:\n",
    "            __df[col] = (__df[col] - __df[col].mean()) / __df[col].std()"
   ],
   "metadata": {
    "collapsed": false,
    "ExecuteTime": {
     "end_time": "2023-11-16T21:40:44.967841901Z",
     "start_time": "2023-11-16T21:40:44.967180880Z"
    }
   },
   "id": "66b793b17ee9321d"
  },
  {
   "cell_type": "code",
   "execution_count": 726,
   "outputs": [
    {
     "data": {
      "text/plain": "   cod_distrito  tipo_accidente  estado_meteorológico  tipo_vehiculo  \\\n0      0.561046       -1.034915             -0.469983      -0.443075   \n1      0.561046       -1.034915             -0.469983      -0.443075   \n2     -1.194866       -0.595482              0.318022      -0.193187   \n3     -1.194866       -0.595482              0.318022      -0.193187   \n4     -1.194866       -0.595482              0.318022      -0.443075   \n\n   tipo_persona  marca_de_clase_edad  sexo  cod_lesividad  positiva_alcohol  \\\n0             1                 32.0     0      -0.967438               0.0   \n1             1                 47.0     1      -0.967438               0.0   \n2             1                 32.0     1      -0.967438               1.0   \n3             0                 37.0     0      -0.967438               0.0   \n4             1                 42.0     1      -0.967438               0.0   \n\n   positiva_droga  numero_pasajeros  fugado       day     month      year  \\\n0             0.0         -0.539943       0 -1.673878 -1.450272 -0.813778   \n1             0.0         -0.539943       0 -1.673878 -1.450272 -0.813778   \n2             0.0          0.177063       0 -1.673878 -1.450272 -0.813778   \n3             0.0          0.177063       0 -1.673878 -1.450272 -0.813778   \n4             0.0          0.177063       0 -1.673878 -1.450272 -0.813778   \n\n   bool_laborable  \n0       -1.777059  \n1       -1.777059  \n2       -1.777059  \n3       -1.777059  \n4       -1.777059  ",
      "text/html": "<div>\n<style scoped>\n    .dataframe tbody tr th:only-of-type {\n        vertical-align: middle;\n    }\n\n    .dataframe tbody tr th {\n        vertical-align: top;\n    }\n\n    .dataframe thead th {\n        text-align: right;\n    }\n</style>\n<table border=\"1\" class=\"dataframe\">\n  <thead>\n    <tr style=\"text-align: right;\">\n      <th></th>\n      <th>cod_distrito</th>\n      <th>tipo_accidente</th>\n      <th>estado_meteorológico</th>\n      <th>tipo_vehiculo</th>\n      <th>tipo_persona</th>\n      <th>marca_de_clase_edad</th>\n      <th>sexo</th>\n      <th>cod_lesividad</th>\n      <th>positiva_alcohol</th>\n      <th>positiva_droga</th>\n      <th>numero_pasajeros</th>\n      <th>fugado</th>\n      <th>day</th>\n      <th>month</th>\n      <th>year</th>\n      <th>bool_laborable</th>\n    </tr>\n  </thead>\n  <tbody>\n    <tr>\n      <th>0</th>\n      <td>0.561046</td>\n      <td>-1.034915</td>\n      <td>-0.469983</td>\n      <td>-0.443075</td>\n      <td>1</td>\n      <td>32.0</td>\n      <td>0</td>\n      <td>-0.967438</td>\n      <td>0.0</td>\n      <td>0.0</td>\n      <td>-0.539943</td>\n      <td>0</td>\n      <td>-1.673878</td>\n      <td>-1.450272</td>\n      <td>-0.813778</td>\n      <td>-1.777059</td>\n    </tr>\n    <tr>\n      <th>1</th>\n      <td>0.561046</td>\n      <td>-1.034915</td>\n      <td>-0.469983</td>\n      <td>-0.443075</td>\n      <td>1</td>\n      <td>47.0</td>\n      <td>1</td>\n      <td>-0.967438</td>\n      <td>0.0</td>\n      <td>0.0</td>\n      <td>-0.539943</td>\n      <td>0</td>\n      <td>-1.673878</td>\n      <td>-1.450272</td>\n      <td>-0.813778</td>\n      <td>-1.777059</td>\n    </tr>\n    <tr>\n      <th>2</th>\n      <td>-1.194866</td>\n      <td>-0.595482</td>\n      <td>0.318022</td>\n      <td>-0.193187</td>\n      <td>1</td>\n      <td>32.0</td>\n      <td>1</td>\n      <td>-0.967438</td>\n      <td>1.0</td>\n      <td>0.0</td>\n      <td>0.177063</td>\n      <td>0</td>\n      <td>-1.673878</td>\n      <td>-1.450272</td>\n      <td>-0.813778</td>\n      <td>-1.777059</td>\n    </tr>\n    <tr>\n      <th>3</th>\n      <td>-1.194866</td>\n      <td>-0.595482</td>\n      <td>0.318022</td>\n      <td>-0.193187</td>\n      <td>0</td>\n      <td>37.0</td>\n      <td>0</td>\n      <td>-0.967438</td>\n      <td>0.0</td>\n      <td>0.0</td>\n      <td>0.177063</td>\n      <td>0</td>\n      <td>-1.673878</td>\n      <td>-1.450272</td>\n      <td>-0.813778</td>\n      <td>-1.777059</td>\n    </tr>\n    <tr>\n      <th>4</th>\n      <td>-1.194866</td>\n      <td>-0.595482</td>\n      <td>0.318022</td>\n      <td>-0.443075</td>\n      <td>1</td>\n      <td>42.0</td>\n      <td>1</td>\n      <td>-0.967438</td>\n      <td>0.0</td>\n      <td>0.0</td>\n      <td>0.177063</td>\n      <td>0</td>\n      <td>-1.673878</td>\n      <td>-1.450272</td>\n      <td>-0.813778</td>\n      <td>-1.777059</td>\n    </tr>\n  </tbody>\n</table>\n</div>"
     },
     "execution_count": 726,
     "metadata": {},
     "output_type": "execute_result"
    }
   ],
   "source": [
    "custom_normalizer(df_ex_predict)\n",
    "df_ex_predict.head()"
   ],
   "metadata": {
    "collapsed": false,
    "ExecuteTime": {
     "end_time": "2023-11-16T21:40:45.012499996Z",
     "start_time": "2023-11-16T21:40:44.967232846Z"
    }
   },
   "id": "a975f157304a6a16"
  },
  {
   "cell_type": "code",
   "execution_count": 727,
   "outputs": [
    {
     "name": "stderr",
     "output_type": "stream",
     "text": [
      "/tmp/ipykernel_7744/2811105002.py:7: SettingWithCopyWarning: \n",
      "A value is trying to be set on a copy of a slice from a DataFrame.\n",
      "Try using .loc[row_indexer,col_indexer] = value instead\n",
      "\n",
      "See the caveats in the documentation: https://pandas.pydata.org/pandas-docs/stable/user_guide/indexing.html#returning-a-view-versus-a-copy\n",
      "  __df[col] = (__df[col] - __df[col].mean()) / __df[col].std()\n"
     ]
    },
    {
     "data": {
      "text/plain": "    cod_distrito  tipo_accidente  estado_meteorológico  tipo_vehiculo  \\\n5      -1.818079       -0.496001             -0.514858       0.000252   \n12     -0.706536       -0.014323             -0.514858      -0.471443   \n14      1.701806       -0.014323             -0.514858       0.236099   \n17     -0.150765        0.467356             -0.514858      -0.471443   \n18      1.701806       -0.014323             -0.514858      -0.471443   \n\n    tipo_persona  marca_de_clase_edad  sexo  cod_lesividad  positiva_alcohol  \\\n5              1                 -1.0     1       -0.12309               0.0   \n12             1                 -1.0     1       -0.12309               0.0   \n14             1                 -1.0     1       -0.12309               0.0   \n17             1                 -1.0     1       -0.12309               0.0   \n18             1                 -1.0     1       -0.12309               0.0   \n\n    positiva_droga  numero_pasajeros  fugado      day     month     year  \\\n5              0.0         -0.330996       0 -1.66251 -1.433202 -0.82184   \n12             0.0         -0.330996       0 -1.66251 -1.433202 -0.82184   \n14             0.0         -0.330996       0 -1.66251 -1.433202 -0.82184   \n17             0.0         -0.330996       0 -1.66251 -1.433202 -0.82184   \n18             0.0          0.639787       0 -1.66251 -1.433202 -0.82184   \n\n    bool_laborable  \n5        -1.435229  \n12       -1.435229  \n14       -1.435229  \n17       -1.435229  \n18       -1.435229  ",
      "text/html": "<div>\n<style scoped>\n    .dataframe tbody tr th:only-of-type {\n        vertical-align: middle;\n    }\n\n    .dataframe tbody tr th {\n        vertical-align: top;\n    }\n\n    .dataframe thead th {\n        text-align: right;\n    }\n</style>\n<table border=\"1\" class=\"dataframe\">\n  <thead>\n    <tr style=\"text-align: right;\">\n      <th></th>\n      <th>cod_distrito</th>\n      <th>tipo_accidente</th>\n      <th>estado_meteorológico</th>\n      <th>tipo_vehiculo</th>\n      <th>tipo_persona</th>\n      <th>marca_de_clase_edad</th>\n      <th>sexo</th>\n      <th>cod_lesividad</th>\n      <th>positiva_alcohol</th>\n      <th>positiva_droga</th>\n      <th>numero_pasajeros</th>\n      <th>fugado</th>\n      <th>day</th>\n      <th>month</th>\n      <th>year</th>\n      <th>bool_laborable</th>\n    </tr>\n  </thead>\n  <tbody>\n    <tr>\n      <th>5</th>\n      <td>-1.818079</td>\n      <td>-0.496001</td>\n      <td>-0.514858</td>\n      <td>0.000252</td>\n      <td>1</td>\n      <td>-1.0</td>\n      <td>1</td>\n      <td>-0.12309</td>\n      <td>0.0</td>\n      <td>0.0</td>\n      <td>-0.330996</td>\n      <td>0</td>\n      <td>-1.66251</td>\n      <td>-1.433202</td>\n      <td>-0.82184</td>\n      <td>-1.435229</td>\n    </tr>\n    <tr>\n      <th>12</th>\n      <td>-0.706536</td>\n      <td>-0.014323</td>\n      <td>-0.514858</td>\n      <td>-0.471443</td>\n      <td>1</td>\n      <td>-1.0</td>\n      <td>1</td>\n      <td>-0.12309</td>\n      <td>0.0</td>\n      <td>0.0</td>\n      <td>-0.330996</td>\n      <td>0</td>\n      <td>-1.66251</td>\n      <td>-1.433202</td>\n      <td>-0.82184</td>\n      <td>-1.435229</td>\n    </tr>\n    <tr>\n      <th>14</th>\n      <td>1.701806</td>\n      <td>-0.014323</td>\n      <td>-0.514858</td>\n      <td>0.236099</td>\n      <td>1</td>\n      <td>-1.0</td>\n      <td>1</td>\n      <td>-0.12309</td>\n      <td>0.0</td>\n      <td>0.0</td>\n      <td>-0.330996</td>\n      <td>0</td>\n      <td>-1.66251</td>\n      <td>-1.433202</td>\n      <td>-0.82184</td>\n      <td>-1.435229</td>\n    </tr>\n    <tr>\n      <th>17</th>\n      <td>-0.150765</td>\n      <td>0.467356</td>\n      <td>-0.514858</td>\n      <td>-0.471443</td>\n      <td>1</td>\n      <td>-1.0</td>\n      <td>1</td>\n      <td>-0.12309</td>\n      <td>0.0</td>\n      <td>0.0</td>\n      <td>-0.330996</td>\n      <td>0</td>\n      <td>-1.66251</td>\n      <td>-1.433202</td>\n      <td>-0.82184</td>\n      <td>-1.435229</td>\n    </tr>\n    <tr>\n      <th>18</th>\n      <td>1.701806</td>\n      <td>-0.014323</td>\n      <td>-0.514858</td>\n      <td>-0.471443</td>\n      <td>1</td>\n      <td>-1.0</td>\n      <td>1</td>\n      <td>-0.12309</td>\n      <td>0.0</td>\n      <td>0.0</td>\n      <td>0.639787</td>\n      <td>0</td>\n      <td>-1.66251</td>\n      <td>-1.433202</td>\n      <td>-0.82184</td>\n      <td>-1.435229</td>\n    </tr>\n  </tbody>\n</table>\n</div>"
     },
     "execution_count": 727,
     "metadata": {},
     "output_type": "execute_result"
    }
   ],
   "source": [
    "custom_normalizer(predict_df)\n",
    "predict_df.head()"
   ],
   "metadata": {
    "collapsed": false,
    "ExecuteTime": {
     "end_time": "2023-11-16T21:40:45.012926150Z",
     "start_time": "2023-11-16T21:40:45.011073386Z"
    }
   },
   "id": "45b55a1c83659e83"
  },
  {
   "cell_type": "markdown",
   "source": [
    "Verificamos la integridad del corte"
   ],
   "metadata": {
    "collapsed": false
   },
   "id": "e27e11246239aca9"
  },
  {
   "cell_type": "code",
   "execution_count": 728,
   "outputs": [
    {
     "data": {
      "text/plain": "0"
     },
     "execution_count": 728,
     "metadata": {},
     "output_type": "execute_result"
    }
   ],
   "source": [
    "# TODO remove this on production\n",
    "df['marca_de_clase_edad'].count() - predict_df['marca_de_clase_edad'].count() - df_ex_predict[\n",
    "    'marca_de_clase_edad'].count()"
   ],
   "metadata": {
    "collapsed": false,
    "ExecuteTime": {
     "end_time": "2023-11-16T21:40:45.013060652Z",
     "start_time": "2023-11-16T21:40:45.011182822Z"
    }
   },
   "id": "939443442ee2e489"
  },
  {
   "cell_type": "code",
   "execution_count": 729,
   "outputs": [],
   "source": [
    "train_df, val_df = train_test_split(df_ex_predict, test_size=0.2, random_state=1234)"
   ],
   "metadata": {
    "collapsed": false,
    "ExecuteTime": {
     "end_time": "2023-11-16T21:40:45.099104257Z",
     "start_time": "2023-11-16T21:40:45.011242053Z"
    }
   },
   "id": "9a3ad53d0de7edf7"
  },
  {
   "cell_type": "code",
   "execution_count": 730,
   "outputs": [],
   "source": [
    "classes = [5.0, 7.5, 12.0, 16.0, 19.0, 22.5, 27.0, 32.0, 37.0, 42.0, 47.0, 52.0, 57.0, 62.0, 67.0, 72.0, 74.0]\n",
    "\n",
    "\n",
    "def extract_labels(df, target_column, classes):\n",
    "    labels = df[target_column].values\n",
    "\n",
    "    one_hot_labels = []\n",
    "\n",
    "    for label in labels:\n",
    "        one_hot_vector = [1 if label == cls else 0 for cls in classes]\n",
    "        one_hot_labels.append(one_hot_vector)\n",
    "\n",
    "    return np.array(one_hot_labels)"
   ],
   "metadata": {
    "collapsed": false,
    "ExecuteTime": {
     "end_time": "2023-11-16T21:40:45.108168359Z",
     "start_time": "2023-11-16T21:40:45.055033193Z"
    }
   },
   "id": "91173613870f9373"
  },
  {
   "cell_type": "code",
   "execution_count": 731,
   "outputs": [],
   "source": [
    "train_labels = extract_labels(train_df, 'marca_de_clase_edad', classes)\n",
    "val_labels = extract_labels(val_df, 'marca_de_clase_edad', classes)\n",
    "train_data = train_df.drop('marca_de_clase_edad', axis=1).values\n",
    "val_data = val_df.drop('marca_de_clase_edad', axis=1).values"
   ],
   "metadata": {
    "collapsed": false,
    "ExecuteTime": {
     "end_time": "2023-11-16T21:40:45.169059041Z",
     "start_time": "2023-11-16T21:40:45.055168079Z"
    }
   },
   "id": "112b28ab43995997"
  },
  {
   "cell_type": "code",
   "execution_count": 731,
   "outputs": [],
   "source": [],
   "metadata": {
    "collapsed": false,
    "ExecuteTime": {
     "end_time": "2023-11-16T21:40:47.643472948Z",
     "start_time": "2023-11-16T21:40:47.637798690Z"
    }
   },
   "id": "811d3cc9ed64f10c"
  },
  {
   "cell_type": "markdown",
   "source": [
    "# Modelo\n",
    "Modelo de clasificación con 15 entradas y 17 salidas. \n",
    "Activación Leaky ReLu + He uniform, con gradient clipping, Lr = 0.001, 10 capas intermedias completamente conectadas de 32 neuronas, tamaño de batch 140, epochs 20, guarda el mejor modelo com checkpoint en bestmodelv4.h5 . Aplica softmax y categorical cross entropy en la salida"
   ],
   "metadata": {
    "collapsed": false
   },
   "id": "fcb69f8122107a0c"
  },
  {
   "cell_type": "code",
   "execution_count": 734,
   "outputs": [
    {
     "name": "stdout",
     "output_type": "stream",
     "text": [
      "Model: \"sequential_11\"\n",
      "_________________________________________________________________\n",
      "Layer (type)                 Output Shape              Param #   \n",
      "=================================================================\n",
      "dense_132 (Dense)            (None, 32)                512       \n",
      "_________________________________________________________________\n",
      "leaky_re_lu_121 (LeakyReLU)  (None, 32)                0         \n",
      "_________________________________________________________________\n",
      "dense_133 (Dense)            (None, 32)                1056      \n",
      "_________________________________________________________________\n",
      "leaky_re_lu_122 (LeakyReLU)  (None, 32)                0         \n",
      "_________________________________________________________________\n",
      "dense_134 (Dense)            (None, 32)                1056      \n",
      "_________________________________________________________________\n",
      "leaky_re_lu_123 (LeakyReLU)  (None, 32)                0         \n",
      "_________________________________________________________________\n",
      "dense_135 (Dense)            (None, 32)                1056      \n",
      "_________________________________________________________________\n",
      "leaky_re_lu_124 (LeakyReLU)  (None, 32)                0         \n",
      "_________________________________________________________________\n",
      "dense_136 (Dense)            (None, 32)                1056      \n",
      "_________________________________________________________________\n",
      "leaky_re_lu_125 (LeakyReLU)  (None, 32)                0         \n",
      "_________________________________________________________________\n",
      "dense_137 (Dense)            (None, 32)                1056      \n",
      "_________________________________________________________________\n",
      "leaky_re_lu_126 (LeakyReLU)  (None, 32)                0         \n",
      "_________________________________________________________________\n",
      "dense_138 (Dense)            (None, 17)                561       \n",
      "=================================================================\n",
      "Total params: 6,353\n",
      "Trainable params: 6,353\n",
      "Non-trainable params: 0\n",
      "_________________________________________________________________\n",
      "Epoch 1/200\n",
      "391/391 [==============================] - 2s 4ms/step - loss: 2.7717 - accuracy: 0.0786 - val_loss: 2.6433 - val_accuracy: 0.1010\n",
      "\n",
      "Epoch 00001: val_accuracy improved from -inf to 0.10102, saving model to bestmodelv4.h5\n",
      "Epoch 2/200\n",
      "391/391 [==============================] - 1s 3ms/step - loss: 2.5853 - accuracy: 0.1117 - val_loss: 2.5699 - val_accuracy: 0.1064\n",
      "\n",
      "Epoch 00002: val_accuracy improved from 0.10102 to 0.10635, saving model to bestmodelv4.h5\n",
      "Epoch 3/200\n",
      "391/391 [==============================] - 1s 4ms/step - loss: 2.5477 - accuracy: 0.1142 - val_loss: 2.5514 - val_accuracy: 0.1112\n",
      "\n",
      "Epoch 00003: val_accuracy improved from 0.10635 to 0.11125, saving model to bestmodelv4.h5\n",
      "Epoch 4/200\n",
      "391/391 [==============================] - 1s 3ms/step - loss: 2.5336 - accuracy: 0.1174 - val_loss: 2.5406 - val_accuracy: 0.1123\n",
      "\n",
      "Epoch 00004: val_accuracy improved from 0.11125 to 0.11227, saving model to bestmodelv4.h5\n",
      "Epoch 5/200\n",
      "391/391 [==============================] - 1s 4ms/step - loss: 2.5243 - accuracy: 0.1183 - val_loss: 2.5332 - val_accuracy: 0.1137\n",
      "\n",
      "Epoch 00005: val_accuracy improved from 0.11227 to 0.11373, saving model to bestmodelv4.h5\n",
      "Epoch 6/200\n",
      "391/391 [==============================] - 1s 4ms/step - loss: 2.5168 - accuracy: 0.1190 - val_loss: 2.5265 - val_accuracy: 0.1108\n",
      "\n",
      "Epoch 00006: val_accuracy did not improve from 0.11373\n",
      "Epoch 7/200\n",
      "391/391 [==============================] - 1s 3ms/step - loss: 2.5106 - accuracy: 0.1203 - val_loss: 2.5210 - val_accuracy: 0.1140\n",
      "\n",
      "Epoch 00007: val_accuracy improved from 0.11373 to 0.11403, saving model to bestmodelv4.h5\n",
      "Epoch 8/200\n",
      "391/391 [==============================] - 1s 3ms/step - loss: 2.5053 - accuracy: 0.1198 - val_loss: 2.5165 - val_accuracy: 0.1183\n",
      "\n",
      "Epoch 00008: val_accuracy improved from 0.11403 to 0.11827, saving model to bestmodelv4.h5\n",
      "Epoch 9/200\n",
      "391/391 [==============================] - 1s 3ms/step - loss: 2.5005 - accuracy: 0.1203 - val_loss: 2.5115 - val_accuracy: 0.1177\n",
      "\n",
      "Epoch 00009: val_accuracy did not improve from 0.11827\n",
      "Epoch 10/200\n",
      "391/391 [==============================] - 1s 3ms/step - loss: 2.4964 - accuracy: 0.1219 - val_loss: 2.5076 - val_accuracy: 0.1161\n",
      "\n",
      "Epoch 00010: val_accuracy did not improve from 0.11827\n",
      "Epoch 11/200\n",
      "391/391 [==============================] - 2s 4ms/step - loss: 2.4926 - accuracy: 0.1215 - val_loss: 2.5043 - val_accuracy: 0.1164\n",
      "\n",
      "Epoch 00011: val_accuracy did not improve from 0.11827\n",
      "Epoch 12/200\n",
      "391/391 [==============================] - 1s 3ms/step - loss: 2.4891 - accuracy: 0.1224 - val_loss: 2.5021 - val_accuracy: 0.1136\n",
      "\n",
      "Epoch 00012: val_accuracy did not improve from 0.11827\n",
      "Epoch 13/200\n",
      "391/391 [==============================] - 1s 4ms/step - loss: 2.4863 - accuracy: 0.1244 - val_loss: 2.4984 - val_accuracy: 0.1158\n",
      "\n",
      "Epoch 00013: val_accuracy did not improve from 0.11827\n",
      "Epoch 14/200\n",
      "391/391 [==============================] - 1s 4ms/step - loss: 2.4839 - accuracy: 0.1256 - val_loss: 2.4967 - val_accuracy: 0.1166\n",
      "\n",
      "Epoch 00014: val_accuracy did not improve from 0.11827\n",
      "Epoch 15/200\n",
      "391/391 [==============================] - 2s 4ms/step - loss: 2.4816 - accuracy: 0.1260 - val_loss: 2.4947 - val_accuracy: 0.1180\n",
      "\n",
      "Epoch 00015: val_accuracy did not improve from 0.11827\n",
      "Epoch 16/200\n",
      "391/391 [==============================] - 1s 3ms/step - loss: 2.4796 - accuracy: 0.1281 - val_loss: 2.4940 - val_accuracy: 0.1169\n",
      "\n",
      "Epoch 00016: val_accuracy did not improve from 0.11827\n",
      "Epoch 17/200\n",
      "391/391 [==============================] - 1s 3ms/step - loss: 2.4781 - accuracy: 0.1275 - val_loss: 2.4916 - val_accuracy: 0.1181\n",
      "\n",
      "Epoch 00017: val_accuracy did not improve from 0.11827\n",
      "Epoch 18/200\n",
      "391/391 [==============================] - 1s 4ms/step - loss: 2.4766 - accuracy: 0.1282 - val_loss: 2.4910 - val_accuracy: 0.1188\n",
      "\n",
      "Epoch 00018: val_accuracy improved from 0.11827 to 0.11878, saving model to bestmodelv4.h5\n",
      "Epoch 19/200\n",
      "391/391 [==============================] - 1s 3ms/step - loss: 2.4752 - accuracy: 0.1281 - val_loss: 2.4899 - val_accuracy: 0.1158\n",
      "\n",
      "Epoch 00019: val_accuracy did not improve from 0.11878\n",
      "Epoch 20/200\n",
      "391/391 [==============================] - 1s 3ms/step - loss: 2.4741 - accuracy: 0.1289 - val_loss: 2.4891 - val_accuracy: 0.1172\n",
      "\n",
      "Epoch 00020: val_accuracy did not improve from 0.11878\n",
      "Epoch 21/200\n",
      "391/391 [==============================] - 1s 3ms/step - loss: 2.4729 - accuracy: 0.1289 - val_loss: 2.4885 - val_accuracy: 0.1171\n",
      "\n",
      "Epoch 00021: val_accuracy did not improve from 0.11878\n",
      "Epoch 22/200\n",
      "391/391 [==============================] - 2s 4ms/step - loss: 2.4722 - accuracy: 0.1283 - val_loss: 2.4880 - val_accuracy: 0.1176\n",
      "\n",
      "Epoch 00022: val_accuracy did not improve from 0.11878\n",
      "Epoch 23/200\n",
      "391/391 [==============================] - 2s 4ms/step - loss: 2.4711 - accuracy: 0.1300 - val_loss: 2.4876 - val_accuracy: 0.1187\n",
      "\n",
      "Epoch 00023: val_accuracy did not improve from 0.11878\n",
      "Epoch 24/200\n",
      "391/391 [==============================] - 1s 3ms/step - loss: 2.4705 - accuracy: 0.1291 - val_loss: 2.4873 - val_accuracy: 0.1170\n",
      "\n",
      "Epoch 00024: val_accuracy did not improve from 0.11878\n",
      "Epoch 25/200\n",
      "391/391 [==============================] - 1s 3ms/step - loss: 2.4696 - accuracy: 0.1291 - val_loss: 2.4869 - val_accuracy: 0.1175\n",
      "\n",
      "Epoch 00025: val_accuracy did not improve from 0.11878\n",
      "Epoch 26/200\n",
      "391/391 [==============================] - 1s 4ms/step - loss: 2.4688 - accuracy: 0.1293 - val_loss: 2.4861 - val_accuracy: 0.1159\n",
      "\n",
      "Epoch 00026: val_accuracy did not improve from 0.11878\n",
      "Epoch 27/200\n",
      "391/391 [==============================] - 1s 4ms/step - loss: 2.4682 - accuracy: 0.1297 - val_loss: 2.4864 - val_accuracy: 0.1175\n",
      "\n",
      "Epoch 00027: val_accuracy did not improve from 0.11878\n",
      "Epoch 28/200\n",
      "391/391 [==============================] - 2s 4ms/step - loss: 2.4674 - accuracy: 0.1306 - val_loss: 2.4862 - val_accuracy: 0.1178\n",
      "\n",
      "Epoch 00028: val_accuracy did not improve from 0.11878\n",
      "Epoch 29/200\n",
      "391/391 [==============================] - 2s 5ms/step - loss: 2.4668 - accuracy: 0.1293 - val_loss: 2.4855 - val_accuracy: 0.1157\n",
      "\n",
      "Epoch 00029: val_accuracy did not improve from 0.11878\n",
      "Epoch 30/200\n",
      "391/391 [==============================] - 2s 4ms/step - loss: 2.4663 - accuracy: 0.1301 - val_loss: 2.4855 - val_accuracy: 0.1163\n",
      "\n",
      "Epoch 00030: val_accuracy did not improve from 0.11878\n",
      "Epoch 31/200\n",
      "391/391 [==============================] - 2s 4ms/step - loss: 2.4655 - accuracy: 0.1294 - val_loss: 2.4848 - val_accuracy: 0.1179\n",
      "\n",
      "Epoch 00031: val_accuracy did not improve from 0.11878\n",
      "Epoch 32/200\n",
      "391/391 [==============================] - 2s 4ms/step - loss: 2.4649 - accuracy: 0.1302 - val_loss: 2.4849 - val_accuracy: 0.1148\n",
      "\n",
      "Epoch 00032: val_accuracy did not improve from 0.11878\n",
      "Epoch 33/200\n",
      "391/391 [==============================] - 1s 4ms/step - loss: 2.4644 - accuracy: 0.1310 - val_loss: 2.4851 - val_accuracy: 0.1166\n",
      "\n",
      "Epoch 00033: val_accuracy did not improve from 0.11878\n",
      "Epoch 34/200\n",
      "391/391 [==============================] - 1s 4ms/step - loss: 2.4638 - accuracy: 0.1316 - val_loss: 2.4842 - val_accuracy: 0.1170\n",
      "\n",
      "Epoch 00034: val_accuracy did not improve from 0.11878\n",
      "Epoch 35/200\n",
      "391/391 [==============================] - 1s 4ms/step - loss: 2.4632 - accuracy: 0.1309 - val_loss: 2.4840 - val_accuracy: 0.1159\n",
      "\n",
      "Epoch 00035: val_accuracy did not improve from 0.11878\n",
      "Epoch 36/200\n",
      "391/391 [==============================] - 1s 3ms/step - loss: 2.4628 - accuracy: 0.1300 - val_loss: 2.4839 - val_accuracy: 0.1175\n",
      "\n",
      "Epoch 00036: val_accuracy did not improve from 0.11878\n",
      "Epoch 37/200\n",
      "391/391 [==============================] - 1s 4ms/step - loss: 2.4622 - accuracy: 0.1309 - val_loss: 2.4832 - val_accuracy: 0.1161\n",
      "\n",
      "Epoch 00037: val_accuracy did not improve from 0.11878\n",
      "Epoch 38/200\n",
      "391/391 [==============================] - 2s 4ms/step - loss: 2.4616 - accuracy: 0.1313 - val_loss: 2.4832 - val_accuracy: 0.1157\n",
      "\n",
      "Epoch 00038: val_accuracy did not improve from 0.11878\n",
      "Epoch 39/200\n",
      "391/391 [==============================] - 2s 4ms/step - loss: 2.4610 - accuracy: 0.1324 - val_loss: 2.4830 - val_accuracy: 0.1201\n",
      "\n",
      "Epoch 00039: val_accuracy improved from 0.11878 to 0.12009, saving model to bestmodelv4.h5\n",
      "Epoch 40/200\n",
      "391/391 [==============================] - 1s 3ms/step - loss: 2.4605 - accuracy: 0.1323 - val_loss: 2.4828 - val_accuracy: 0.1164\n",
      "\n",
      "Epoch 00040: val_accuracy did not improve from 0.12009\n",
      "Epoch 41/200\n",
      "391/391 [==============================] - 1s 4ms/step - loss: 2.4603 - accuracy: 0.1326 - val_loss: 2.4828 - val_accuracy: 0.1175\n",
      "\n",
      "Epoch 00041: val_accuracy did not improve from 0.12009\n",
      "Epoch 42/200\n",
      "391/391 [==============================] - 1s 4ms/step - loss: 2.4597 - accuracy: 0.1313 - val_loss: 2.4826 - val_accuracy: 0.1176\n",
      "\n",
      "Epoch 00042: val_accuracy did not improve from 0.12009\n",
      "Epoch 43/200\n",
      "391/391 [==============================] - 1s 4ms/step - loss: 2.4592 - accuracy: 0.1308 - val_loss: 2.4820 - val_accuracy: 0.1169\n",
      "\n",
      "Epoch 00043: val_accuracy did not improve from 0.12009\n",
      "Epoch 44/200\n",
      "391/391 [==============================] - 2s 4ms/step - loss: 2.4587 - accuracy: 0.1328 - val_loss: 2.4816 - val_accuracy: 0.1171\n",
      "\n",
      "Epoch 00044: val_accuracy did not improve from 0.12009\n",
      "Epoch 45/200\n",
      "391/391 [==============================] - 2s 4ms/step - loss: 2.4581 - accuracy: 0.1318 - val_loss: 2.4824 - val_accuracy: 0.1183\n",
      "\n",
      "Epoch 00045: val_accuracy did not improve from 0.12009\n",
      "Epoch 46/200\n",
      "391/391 [==============================] - 1s 3ms/step - loss: 2.4576 - accuracy: 0.1322 - val_loss: 2.4821 - val_accuracy: 0.1191\n",
      "\n",
      "Epoch 00046: val_accuracy did not improve from 0.12009\n",
      "Epoch 47/200\n",
      "391/391 [==============================] - 2s 4ms/step - loss: 2.4571 - accuracy: 0.1320 - val_loss: 2.4816 - val_accuracy: 0.1207\n",
      "\n",
      "Epoch 00047: val_accuracy improved from 0.12009 to 0.12068, saving model to bestmodelv4.h5\n",
      "Epoch 48/200\n",
      "391/391 [==============================] - 1s 4ms/step - loss: 2.4566 - accuracy: 0.1323 - val_loss: 2.4812 - val_accuracy: 0.1171\n",
      "\n",
      "Epoch 00048: val_accuracy did not improve from 0.12068\n",
      "Epoch 49/200\n",
      "391/391 [==============================] - 1s 4ms/step - loss: 2.4562 - accuracy: 0.1313 - val_loss: 2.4811 - val_accuracy: 0.1187\n",
      "\n",
      "Epoch 00049: val_accuracy did not improve from 0.12068\n",
      "Epoch 50/200\n",
      "391/391 [==============================] - 1s 4ms/step - loss: 2.4557 - accuracy: 0.1319 - val_loss: 2.4807 - val_accuracy: 0.1186\n",
      "\n",
      "Epoch 00050: val_accuracy did not improve from 0.12068\n",
      "Epoch 51/200\n",
      "391/391 [==============================] - 1s 3ms/step - loss: 2.4552 - accuracy: 0.1334 - val_loss: 2.4806 - val_accuracy: 0.1192\n",
      "\n",
      "Epoch 00051: val_accuracy did not improve from 0.12068\n",
      "Epoch 52/200\n",
      "391/391 [==============================] - 2s 4ms/step - loss: 2.4548 - accuracy: 0.1331 - val_loss: 2.4811 - val_accuracy: 0.1193\n",
      "\n",
      "Epoch 00052: val_accuracy did not improve from 0.12068\n",
      "Epoch 53/200\n",
      "391/391 [==============================] - 2s 4ms/step - loss: 2.4542 - accuracy: 0.1329 - val_loss: 2.4802 - val_accuracy: 0.1194\n",
      "\n",
      "Epoch 00053: val_accuracy did not improve from 0.12068\n",
      "Epoch 54/200\n",
      "391/391 [==============================] - 1s 4ms/step - loss: 2.4538 - accuracy: 0.1337 - val_loss: 2.4805 - val_accuracy: 0.1208\n",
      "\n",
      "Epoch 00054: val_accuracy improved from 0.12068 to 0.12082, saving model to bestmodelv4.h5\n",
      "Epoch 55/200\n",
      "391/391 [==============================] - 1s 3ms/step - loss: 2.4532 - accuracy: 0.1346 - val_loss: 2.4803 - val_accuracy: 0.1173\n",
      "\n",
      "Epoch 00055: val_accuracy did not improve from 0.12082\n",
      "Epoch 56/200\n",
      "391/391 [==============================] - 2s 4ms/step - loss: 2.4530 - accuracy: 0.1340 - val_loss: 2.4796 - val_accuracy: 0.1192\n",
      "\n",
      "Epoch 00056: val_accuracy did not improve from 0.12082\n",
      "Epoch 57/200\n",
      "391/391 [==============================] - 2s 4ms/step - loss: 2.4524 - accuracy: 0.1347 - val_loss: 2.4796 - val_accuracy: 0.1173\n",
      "\n",
      "Epoch 00057: val_accuracy did not improve from 0.12082\n",
      "Epoch 58/200\n",
      "391/391 [==============================] - 1s 4ms/step - loss: 2.4519 - accuracy: 0.1344 - val_loss: 2.4798 - val_accuracy: 0.1180\n",
      "\n",
      "Epoch 00058: val_accuracy did not improve from 0.12082\n",
      "Epoch 59/200\n",
      "391/391 [==============================] - 1s 4ms/step - loss: 2.4515 - accuracy: 0.1332 - val_loss: 2.4791 - val_accuracy: 0.1186\n",
      "\n",
      "Epoch 00059: val_accuracy did not improve from 0.12082\n",
      "Epoch 60/200\n",
      "391/391 [==============================] - 1s 4ms/step - loss: 2.4511 - accuracy: 0.1343 - val_loss: 2.4789 - val_accuracy: 0.1205\n",
      "\n",
      "Epoch 00060: val_accuracy did not improve from 0.12082\n",
      "Epoch 61/200\n",
      "391/391 [==============================] - 1s 3ms/step - loss: 2.4508 - accuracy: 0.1341 - val_loss: 2.4789 - val_accuracy: 0.1189\n",
      "\n",
      "Epoch 00061: val_accuracy did not improve from 0.12082\n",
      "Epoch 62/200\n",
      "391/391 [==============================] - 2s 4ms/step - loss: 2.4502 - accuracy: 0.1336 - val_loss: 2.4791 - val_accuracy: 0.1196\n",
      "\n",
      "Epoch 00062: val_accuracy did not improve from 0.12082\n",
      "Epoch 63/200\n",
      "391/391 [==============================] - 2s 4ms/step - loss: 2.4498 - accuracy: 0.1343 - val_loss: 2.4783 - val_accuracy: 0.1186\n",
      "\n",
      "Epoch 00063: val_accuracy did not improve from 0.12082\n",
      "Epoch 64/200\n",
      "391/391 [==============================] - 2s 5ms/step - loss: 2.4494 - accuracy: 0.1341 - val_loss: 2.4786 - val_accuracy: 0.1195\n",
      "\n",
      "Epoch 00064: val_accuracy did not improve from 0.12082\n",
      "Epoch 65/200\n",
      "391/391 [==============================] - 2s 5ms/step - loss: 2.4490 - accuracy: 0.1346 - val_loss: 2.4780 - val_accuracy: 0.1210\n",
      "\n",
      "Epoch 00065: val_accuracy improved from 0.12082 to 0.12104, saving model to bestmodelv4.h5\n",
      "Epoch 66/200\n",
      "391/391 [==============================] - 2s 5ms/step - loss: 2.4486 - accuracy: 0.1341 - val_loss: 2.4781 - val_accuracy: 0.1194\n",
      "\n",
      "Epoch 00066: val_accuracy did not improve from 0.12104\n",
      "Epoch 67/200\n",
      "391/391 [==============================] - 1s 4ms/step - loss: 2.4481 - accuracy: 0.1348 - val_loss: 2.4777 - val_accuracy: 0.1213\n",
      "\n",
      "Epoch 00067: val_accuracy improved from 0.12104 to 0.12126, saving model to bestmodelv4.h5\n",
      "Epoch 68/200\n",
      "391/391 [==============================] - 1s 4ms/step - loss: 2.4478 - accuracy: 0.1353 - val_loss: 2.4779 - val_accuracy: 0.1210\n",
      "\n",
      "Epoch 00068: val_accuracy did not improve from 0.12126\n",
      "Epoch 69/200\n",
      "391/391 [==============================] - 1s 3ms/step - loss: 2.4474 - accuracy: 0.1356 - val_loss: 2.4771 - val_accuracy: 0.1199\n",
      "\n",
      "Epoch 00069: val_accuracy did not improve from 0.12126\n",
      "Epoch 70/200\n",
      "391/391 [==============================] - 1s 3ms/step - loss: 2.4469 - accuracy: 0.1345 - val_loss: 2.4776 - val_accuracy: 0.1199\n",
      "\n",
      "Epoch 00070: val_accuracy did not improve from 0.12126\n",
      "Epoch 71/200\n",
      "391/391 [==============================] - 1s 4ms/step - loss: 2.4466 - accuracy: 0.1342 - val_loss: 2.4769 - val_accuracy: 0.1220\n",
      "\n",
      "Epoch 00071: val_accuracy improved from 0.12126 to 0.12199, saving model to bestmodelv4.h5\n",
      "Epoch 72/200\n",
      "391/391 [==============================] - 2s 5ms/step - loss: 2.4463 - accuracy: 0.1349 - val_loss: 2.4776 - val_accuracy: 0.1199\n",
      "\n",
      "Epoch 00072: val_accuracy did not improve from 0.12199\n",
      "Epoch 73/200\n",
      "391/391 [==============================] - 2s 4ms/step - loss: 2.4460 - accuracy: 0.1346 - val_loss: 2.4773 - val_accuracy: 0.1206\n",
      "\n",
      "Epoch 00073: val_accuracy did not improve from 0.12199\n",
      "Epoch 74/200\n",
      "391/391 [==============================] - 2s 4ms/step - loss: 2.4456 - accuracy: 0.1367 - val_loss: 2.4764 - val_accuracy: 0.1205\n",
      "\n",
      "Epoch 00074: val_accuracy did not improve from 0.12199\n",
      "Epoch 75/200\n",
      "391/391 [==============================] - 2s 4ms/step - loss: 2.4451 - accuracy: 0.1356 - val_loss: 2.4767 - val_accuracy: 0.1202\n",
      "\n",
      "Epoch 00075: val_accuracy did not improve from 0.12199\n",
      "Epoch 76/200\n",
      "391/391 [==============================] - 1s 4ms/step - loss: 2.4449 - accuracy: 0.1354 - val_loss: 2.4766 - val_accuracy: 0.1197\n",
      "\n",
      "Epoch 00076: val_accuracy did not improve from 0.12199\n",
      "Epoch 77/200\n",
      "391/391 [==============================] - 2s 4ms/step - loss: 2.4445 - accuracy: 0.1356 - val_loss: 2.4762 - val_accuracy: 0.1208\n",
      "\n",
      "Epoch 00077: val_accuracy did not improve from 0.12199\n",
      "Epoch 78/200\n",
      "391/391 [==============================] - 1s 3ms/step - loss: 2.4442 - accuracy: 0.1365 - val_loss: 2.4759 - val_accuracy: 0.1191\n",
      "\n",
      "Epoch 00078: val_accuracy did not improve from 0.12199\n",
      "Epoch 79/200\n",
      "391/391 [==============================] - 1s 4ms/step - loss: 2.4437 - accuracy: 0.1365 - val_loss: 2.4759 - val_accuracy: 0.1217\n",
      "\n",
      "Epoch 00079: val_accuracy did not improve from 0.12199\n",
      "Epoch 80/200\n",
      "391/391 [==============================] - 1s 3ms/step - loss: 2.4434 - accuracy: 0.1352 - val_loss: 2.4758 - val_accuracy: 0.1212\n",
      "\n",
      "Epoch 00080: val_accuracy did not improve from 0.12199\n",
      "Epoch 81/200\n",
      "391/391 [==============================] - 2s 4ms/step - loss: 2.4432 - accuracy: 0.1381 - val_loss: 2.4757 - val_accuracy: 0.1229\n",
      "\n",
      "Epoch 00081: val_accuracy improved from 0.12199 to 0.12294, saving model to bestmodelv4.h5\n",
      "Epoch 82/200\n",
      "391/391 [==============================] - 1s 3ms/step - loss: 2.4426 - accuracy: 0.1379 - val_loss: 2.4759 - val_accuracy: 0.1208\n",
      "\n",
      "Epoch 00082: val_accuracy did not improve from 0.12294\n",
      "Epoch 83/200\n",
      "391/391 [==============================] - 2s 4ms/step - loss: 2.4422 - accuracy: 0.1359 - val_loss: 2.4758 - val_accuracy: 0.1227\n",
      "\n",
      "Epoch 00083: val_accuracy did not improve from 0.12294\n",
      "Epoch 84/200\n",
      "391/391 [==============================] - 2s 4ms/step - loss: 2.4419 - accuracy: 0.1362 - val_loss: 2.4755 - val_accuracy: 0.1206\n",
      "\n",
      "Epoch 00084: val_accuracy did not improve from 0.12294\n",
      "Epoch 85/200\n",
      "391/391 [==============================] - 2s 4ms/step - loss: 2.4416 - accuracy: 0.1365 - val_loss: 2.4753 - val_accuracy: 0.1216\n",
      "\n",
      "Epoch 00085: val_accuracy did not improve from 0.12294\n",
      "Epoch 86/200\n",
      "391/391 [==============================] - 2s 4ms/step - loss: 2.4413 - accuracy: 0.1373 - val_loss: 2.4757 - val_accuracy: 0.1200\n",
      "\n",
      "Epoch 00086: val_accuracy did not improve from 0.12294\n",
      "Epoch 87/200\n",
      "391/391 [==============================] - 2s 4ms/step - loss: 2.4411 - accuracy: 0.1362 - val_loss: 2.4757 - val_accuracy: 0.1211\n",
      "\n",
      "Epoch 00087: val_accuracy did not improve from 0.12294\n",
      "Epoch 88/200\n",
      "391/391 [==============================] - 2s 4ms/step - loss: 2.4406 - accuracy: 0.1362 - val_loss: 2.4753 - val_accuracy: 0.1237\n",
      "\n",
      "Epoch 00088: val_accuracy improved from 0.12294 to 0.12375, saving model to bestmodelv4.h5\n",
      "Epoch 89/200\n",
      "391/391 [==============================] - 2s 4ms/step - loss: 2.4404 - accuracy: 0.1374 - val_loss: 2.4752 - val_accuracy: 0.1217\n",
      "\n",
      "Epoch 00089: val_accuracy did not improve from 0.12375\n",
      "Epoch 90/200\n",
      "391/391 [==============================] - 1s 4ms/step - loss: 2.4401 - accuracy: 0.1373 - val_loss: 2.4751 - val_accuracy: 0.1208\n",
      "\n",
      "Epoch 00090: val_accuracy did not improve from 0.12375\n",
      "Epoch 91/200\n",
      "391/391 [==============================] - 2s 4ms/step - loss: 2.4397 - accuracy: 0.1376 - val_loss: 2.4760 - val_accuracy: 0.1191\n",
      "\n",
      "Epoch 00091: val_accuracy did not improve from 0.12375\n",
      "Epoch 92/200\n",
      "391/391 [==============================] - 1s 4ms/step - loss: 2.4394 - accuracy: 0.1375 - val_loss: 2.4744 - val_accuracy: 0.1189\n",
      "\n",
      "Epoch 00092: val_accuracy did not improve from 0.12375\n",
      "Epoch 93/200\n",
      "391/391 [==============================] - 1s 4ms/step - loss: 2.4392 - accuracy: 0.1377 - val_loss: 2.4746 - val_accuracy: 0.1214\n",
      "\n",
      "Epoch 00093: val_accuracy did not improve from 0.12375\n",
      "Epoch 94/200\n",
      "391/391 [==============================] - 1s 4ms/step - loss: 2.4389 - accuracy: 0.1375 - val_loss: 2.4746 - val_accuracy: 0.1221\n",
      "\n",
      "Epoch 00094: val_accuracy did not improve from 0.12375\n",
      "Epoch 95/200\n",
      "391/391 [==============================] - 2s 4ms/step - loss: 2.4386 - accuracy: 0.1371 - val_loss: 2.4751 - val_accuracy: 0.1221\n",
      "\n",
      "Epoch 00095: val_accuracy did not improve from 0.12375\n",
      "Epoch 96/200\n",
      "391/391 [==============================] - 2s 4ms/step - loss: 2.4382 - accuracy: 0.1373 - val_loss: 2.4751 - val_accuracy: 0.1202\n",
      "\n",
      "Epoch 00096: val_accuracy did not improve from 0.12375\n",
      "Epoch 97/200\n",
      "391/391 [==============================] - 1s 4ms/step - loss: 2.4380 - accuracy: 0.1382 - val_loss: 2.4747 - val_accuracy: 0.1207\n",
      "\n",
      "Epoch 00097: val_accuracy did not improve from 0.12375\n",
      "Epoch 98/200\n",
      "391/391 [==============================] - 1s 3ms/step - loss: 2.4376 - accuracy: 0.1375 - val_loss: 2.4746 - val_accuracy: 0.1210\n",
      "\n",
      "Epoch 00098: val_accuracy did not improve from 0.12375\n",
      "Epoch 99/200\n",
      "391/391 [==============================] - 2s 4ms/step - loss: 2.4375 - accuracy: 0.1382 - val_loss: 2.4742 - val_accuracy: 0.1227\n",
      "\n",
      "Epoch 00099: val_accuracy did not improve from 0.12375\n",
      "Epoch 100/200\n",
      "391/391 [==============================] - 1s 4ms/step - loss: 2.4371 - accuracy: 0.1388 - val_loss: 2.4739 - val_accuracy: 0.1212\n",
      "\n",
      "Epoch 00100: val_accuracy did not improve from 0.12375\n",
      "Epoch 101/200\n",
      "391/391 [==============================] - 2s 4ms/step - loss: 2.4369 - accuracy: 0.1379 - val_loss: 2.4752 - val_accuracy: 0.1232\n",
      "\n",
      "Epoch 00101: val_accuracy did not improve from 0.12375\n",
      "Epoch 102/200\n",
      "391/391 [==============================] - 2s 5ms/step - loss: 2.4367 - accuracy: 0.1400 - val_loss: 2.4739 - val_accuracy: 0.1236\n",
      "\n",
      "Epoch 00102: val_accuracy did not improve from 0.12375\n",
      "Epoch 103/200\n",
      "391/391 [==============================] - 2s 4ms/step - loss: 2.4361 - accuracy: 0.1380 - val_loss: 2.4738 - val_accuracy: 0.1232\n",
      "\n",
      "Epoch 00103: val_accuracy did not improve from 0.12375\n",
      "Epoch 104/200\n",
      "391/391 [==============================] - 1s 3ms/step - loss: 2.4360 - accuracy: 0.1387 - val_loss: 2.4747 - val_accuracy: 0.1210\n",
      "\n",
      "Epoch 00104: val_accuracy did not improve from 0.12375\n",
      "Epoch 105/200\n",
      "391/391 [==============================] - 1s 3ms/step - loss: 2.4357 - accuracy: 0.1384 - val_loss: 2.4738 - val_accuracy: 0.1234\n",
      "\n",
      "Epoch 00105: val_accuracy did not improve from 0.12375\n",
      "Epoch 106/200\n",
      "391/391 [==============================] - 2s 5ms/step - loss: 2.4356 - accuracy: 0.1370 - val_loss: 2.4735 - val_accuracy: 0.1220\n",
      "\n",
      "Epoch 00106: val_accuracy did not improve from 0.12375\n",
      "Epoch 107/200\n",
      "391/391 [==============================] - 2s 4ms/step - loss: 2.4352 - accuracy: 0.1383 - val_loss: 2.4739 - val_accuracy: 0.1230\n",
      "\n",
      "Epoch 00107: val_accuracy did not improve from 0.12375\n",
      "Epoch 108/200\n",
      "391/391 [==============================] - 1s 4ms/step - loss: 2.4349 - accuracy: 0.1387 - val_loss: 2.4741 - val_accuracy: 0.1225\n",
      "\n",
      "Epoch 00108: val_accuracy did not improve from 0.12375\n",
      "Epoch 109/200\n",
      "391/391 [==============================] - 2s 4ms/step - loss: 2.4346 - accuracy: 0.1394 - val_loss: 2.4728 - val_accuracy: 0.1216\n",
      "\n",
      "Epoch 00109: val_accuracy did not improve from 0.12375\n",
      "Epoch 110/200\n",
      "391/391 [==============================] - 1s 4ms/step - loss: 2.4343 - accuracy: 0.1387 - val_loss: 2.4744 - val_accuracy: 0.1217\n",
      "\n",
      "Epoch 00110: val_accuracy did not improve from 0.12375\n",
      "Epoch 111/200\n",
      "391/391 [==============================] - 2s 5ms/step - loss: 2.4341 - accuracy: 0.1396 - val_loss: 2.4734 - val_accuracy: 0.1209\n",
      "\n",
      "Epoch 00111: val_accuracy did not improve from 0.12375\n",
      "Epoch 112/200\n",
      "391/391 [==============================] - 2s 4ms/step - loss: 2.4338 - accuracy: 0.1397 - val_loss: 2.4733 - val_accuracy: 0.1216\n",
      "\n",
      "Epoch 00112: val_accuracy did not improve from 0.12375\n",
      "Epoch 113/200\n",
      "391/391 [==============================] - 2s 5ms/step - loss: 2.4336 - accuracy: 0.1391 - val_loss: 2.4737 - val_accuracy: 0.1229\n",
      "\n",
      "Epoch 00113: val_accuracy did not improve from 0.12375\n",
      "Epoch 114/200\n",
      "391/391 [==============================] - 2s 5ms/step - loss: 2.4334 - accuracy: 0.1393 - val_loss: 2.4728 - val_accuracy: 0.1232\n",
      "\n",
      "Epoch 00114: val_accuracy did not improve from 0.12375\n",
      "Epoch 115/200\n",
      "391/391 [==============================] - 1s 4ms/step - loss: 2.4331 - accuracy: 0.1394 - val_loss: 2.4741 - val_accuracy: 0.1245\n",
      "\n",
      "Epoch 00115: val_accuracy improved from 0.12375 to 0.12448, saving model to bestmodelv4.h5\n",
      "Epoch 116/200\n",
      "391/391 [==============================] - 1s 4ms/step - loss: 2.4328 - accuracy: 0.1400 - val_loss: 2.4738 - val_accuracy: 0.1235\n",
      "\n",
      "Epoch 00116: val_accuracy did not improve from 0.12448\n",
      "Epoch 117/200\n",
      "391/391 [==============================] - 2s 4ms/step - loss: 2.4326 - accuracy: 0.1400 - val_loss: 2.4735 - val_accuracy: 0.1219\n",
      "\n",
      "Epoch 00117: val_accuracy did not improve from 0.12448\n",
      "Epoch 118/200\n",
      "391/391 [==============================] - 2s 4ms/step - loss: 2.4324 - accuracy: 0.1389 - val_loss: 2.4731 - val_accuracy: 0.1228\n",
      "\n",
      "Epoch 00118: val_accuracy did not improve from 0.12448\n",
      "Epoch 119/200\n",
      "391/391 [==============================] - 1s 4ms/step - loss: 2.4321 - accuracy: 0.1404 - val_loss: 2.4736 - val_accuracy: 0.1248\n",
      "\n",
      "Epoch 00119: val_accuracy improved from 0.12448 to 0.12484, saving model to bestmodelv4.h5\n",
      "Epoch 120/200\n",
      "391/391 [==============================] - 2s 5ms/step - loss: 2.4318 - accuracy: 0.1395 - val_loss: 2.4736 - val_accuracy: 0.1239\n",
      "\n",
      "Epoch 00120: val_accuracy did not improve from 0.12484\n",
      "Epoch 121/200\n",
      "391/391 [==============================] - 1s 3ms/step - loss: 2.4315 - accuracy: 0.1407 - val_loss: 2.4735 - val_accuracy: 0.1239\n",
      "\n",
      "Epoch 00121: val_accuracy did not improve from 0.12484\n",
      "Epoch 122/200\n",
      "391/391 [==============================] - 1s 3ms/step - loss: 2.4313 - accuracy: 0.1388 - val_loss: 2.4739 - val_accuracy: 0.1258\n",
      "\n",
      "Epoch 00122: val_accuracy improved from 0.12484 to 0.12579, saving model to bestmodelv4.h5\n",
      "Epoch 123/200\n",
      "391/391 [==============================] - 2s 4ms/step - loss: 2.4310 - accuracy: 0.1399 - val_loss: 2.4729 - val_accuracy: 0.1237\n",
      "\n",
      "Epoch 00123: val_accuracy did not improve from 0.12579\n",
      "Epoch 124/200\n",
      "391/391 [==============================] - 2s 4ms/step - loss: 2.4309 - accuracy: 0.1409 - val_loss: 2.4732 - val_accuracy: 0.1248\n",
      "\n",
      "Epoch 00124: val_accuracy did not improve from 0.12579\n",
      "Epoch 125/200\n",
      "391/391 [==============================] - 2s 4ms/step - loss: 2.4306 - accuracy: 0.1398 - val_loss: 2.4737 - val_accuracy: 0.1236\n",
      "\n",
      "Epoch 00125: val_accuracy did not improve from 0.12579\n",
      "Epoch 126/200\n",
      "391/391 [==============================] - 1s 4ms/step - loss: 2.4304 - accuracy: 0.1407 - val_loss: 2.4730 - val_accuracy: 0.1236\n",
      "\n",
      "Epoch 00126: val_accuracy did not improve from 0.12579\n",
      "Epoch 127/200\n",
      "391/391 [==============================] - 1s 4ms/step - loss: 2.4301 - accuracy: 0.1410 - val_loss: 2.4741 - val_accuracy: 0.1222\n",
      "\n",
      "Epoch 00127: val_accuracy did not improve from 0.12579\n",
      "Epoch 128/200\n",
      "391/391 [==============================] - 2s 4ms/step - loss: 2.4298 - accuracy: 0.1393 - val_loss: 2.4737 - val_accuracy: 0.1218\n",
      "\n",
      "Epoch 00128: val_accuracy did not improve from 0.12579\n",
      "Epoch 129/200\n",
      "387/391 [============================>.] - ETA: 0s - loss: 2.4297 - accuracy: 0.1403"
     ]
    },
    {
     "ename": "KeyboardInterrupt",
     "evalue": "",
     "output_type": "error",
     "traceback": [
      "\u001B[0;31m---------------------------------------------------------------------------\u001B[0m",
      "\u001B[0;31mKeyboardInterrupt\u001B[0m                         Traceback (most recent call last)",
      "Cell \u001B[0;32mIn[734], line 28\u001B[0m\n\u001B[1;32m     25\u001B[0m model\u001B[38;5;241m.\u001B[39msummary()\n\u001B[1;32m     27\u001B[0m \u001B[38;5;66;03m# Entrenar el modelo\u001B[39;00m\n\u001B[0;32m---> 28\u001B[0m model\u001B[38;5;241m.\u001B[39mfit(\n\u001B[1;32m     29\u001B[0m     train_data, train_labels,\n\u001B[1;32m     30\u001B[0m     validation_data\u001B[38;5;241m=\u001B[39m(val_data, val_labels),\n\u001B[1;32m     31\u001B[0m     epochs\u001B[38;5;241m=\u001B[39m\u001B[38;5;241m200\u001B[39m,\n\u001B[1;32m     32\u001B[0m     batch_size\u001B[38;5;241m=\u001B[39m\u001B[38;5;241m140\u001B[39m,\n\u001B[1;32m     33\u001B[0m     callbacks\u001B[38;5;241m=\u001B[39m[checkpoint])\n",
      "File \u001B[0;32m~/anaconda3/lib/python3.11/site-packages/tensorflow/python/keras/engine/training.py:1218\u001B[0m, in \u001B[0;36mModel.fit\u001B[0;34m(self, x, y, batch_size, epochs, verbose, callbacks, validation_split, validation_data, shuffle, class_weight, sample_weight, initial_epoch, steps_per_epoch, validation_steps, validation_batch_size, validation_freq, max_queue_size, workers, use_multiprocessing)\u001B[0m\n\u001B[1;32m   1204\u001B[0m \u001B[38;5;28;01mif\u001B[39;00m \u001B[38;5;28mgetattr\u001B[39m(\u001B[38;5;28mself\u001B[39m, \u001B[38;5;124m'\u001B[39m\u001B[38;5;124m_eval_data_handler\u001B[39m\u001B[38;5;124m'\u001B[39m, \u001B[38;5;28;01mNone\u001B[39;00m) \u001B[38;5;129;01mis\u001B[39;00m \u001B[38;5;28;01mNone\u001B[39;00m:\n\u001B[1;32m   1205\u001B[0m   \u001B[38;5;28mself\u001B[39m\u001B[38;5;241m.\u001B[39m_eval_data_handler \u001B[38;5;241m=\u001B[39m data_adapter\u001B[38;5;241m.\u001B[39mget_data_handler(\n\u001B[1;32m   1206\u001B[0m       x\u001B[38;5;241m=\u001B[39mval_x,\n\u001B[1;32m   1207\u001B[0m       y\u001B[38;5;241m=\u001B[39mval_y,\n\u001B[0;32m   (...)\u001B[0m\n\u001B[1;32m   1216\u001B[0m       model\u001B[38;5;241m=\u001B[39m\u001B[38;5;28mself\u001B[39m,\n\u001B[1;32m   1217\u001B[0m       steps_per_execution\u001B[38;5;241m=\u001B[39m\u001B[38;5;28mself\u001B[39m\u001B[38;5;241m.\u001B[39m_steps_per_execution)\n\u001B[0;32m-> 1218\u001B[0m val_logs \u001B[38;5;241m=\u001B[39m \u001B[38;5;28mself\u001B[39m\u001B[38;5;241m.\u001B[39mevaluate(\n\u001B[1;32m   1219\u001B[0m     x\u001B[38;5;241m=\u001B[39mval_x,\n\u001B[1;32m   1220\u001B[0m     y\u001B[38;5;241m=\u001B[39mval_y,\n\u001B[1;32m   1221\u001B[0m     sample_weight\u001B[38;5;241m=\u001B[39mval_sample_weight,\n\u001B[1;32m   1222\u001B[0m     batch_size\u001B[38;5;241m=\u001B[39mvalidation_batch_size \u001B[38;5;129;01mor\u001B[39;00m batch_size,\n\u001B[1;32m   1223\u001B[0m     steps\u001B[38;5;241m=\u001B[39mvalidation_steps,\n\u001B[1;32m   1224\u001B[0m     callbacks\u001B[38;5;241m=\u001B[39mcallbacks,\n\u001B[1;32m   1225\u001B[0m     max_queue_size\u001B[38;5;241m=\u001B[39mmax_queue_size,\n\u001B[1;32m   1226\u001B[0m     workers\u001B[38;5;241m=\u001B[39mworkers,\n\u001B[1;32m   1227\u001B[0m     use_multiprocessing\u001B[38;5;241m=\u001B[39muse_multiprocessing,\n\u001B[1;32m   1228\u001B[0m     return_dict\u001B[38;5;241m=\u001B[39m\u001B[38;5;28;01mTrue\u001B[39;00m,\n\u001B[1;32m   1229\u001B[0m     _use_cached_eval_dataset\u001B[38;5;241m=\u001B[39m\u001B[38;5;28;01mTrue\u001B[39;00m)\n\u001B[1;32m   1230\u001B[0m val_logs \u001B[38;5;241m=\u001B[39m {\u001B[38;5;124m'\u001B[39m\u001B[38;5;124mval_\u001B[39m\u001B[38;5;124m'\u001B[39m \u001B[38;5;241m+\u001B[39m name: val \u001B[38;5;28;01mfor\u001B[39;00m name, val \u001B[38;5;129;01min\u001B[39;00m val_logs\u001B[38;5;241m.\u001B[39mitems()}\n\u001B[1;32m   1231\u001B[0m epoch_logs\u001B[38;5;241m.\u001B[39mupdate(val_logs)\n",
      "File \u001B[0;32m~/anaconda3/lib/python3.11/site-packages/tensorflow/python/keras/engine/training.py:1497\u001B[0m, in \u001B[0;36mModel.evaluate\u001B[0;34m(self, x, y, batch_size, verbose, sample_weight, steps, callbacks, max_queue_size, workers, use_multiprocessing, return_dict, **kwargs)\u001B[0m\n\u001B[1;32m   1495\u001B[0m \u001B[38;5;28;01mwith\u001B[39;00m trace\u001B[38;5;241m.\u001B[39mTrace(\u001B[38;5;124m'\u001B[39m\u001B[38;5;124mtest\u001B[39m\u001B[38;5;124m'\u001B[39m, step_num\u001B[38;5;241m=\u001B[39mstep, _r\u001B[38;5;241m=\u001B[39m\u001B[38;5;241m1\u001B[39m):\n\u001B[1;32m   1496\u001B[0m   callbacks\u001B[38;5;241m.\u001B[39mon_test_batch_begin(step)\n\u001B[0;32m-> 1497\u001B[0m   tmp_logs \u001B[38;5;241m=\u001B[39m \u001B[38;5;28mself\u001B[39m\u001B[38;5;241m.\u001B[39mtest_function(iterator)\n\u001B[1;32m   1498\u001B[0m   \u001B[38;5;28;01mif\u001B[39;00m data_handler\u001B[38;5;241m.\u001B[39mshould_sync:\n\u001B[1;32m   1499\u001B[0m     context\u001B[38;5;241m.\u001B[39masync_wait()\n",
      "File \u001B[0;32m~/anaconda3/lib/python3.11/site-packages/tensorflow/python/util/traceback_utils.py:150\u001B[0m, in \u001B[0;36mfilter_traceback.<locals>.error_handler\u001B[0;34m(*args, **kwargs)\u001B[0m\n\u001B[1;32m    148\u001B[0m filtered_tb \u001B[38;5;241m=\u001B[39m \u001B[38;5;28;01mNone\u001B[39;00m\n\u001B[1;32m    149\u001B[0m \u001B[38;5;28;01mtry\u001B[39;00m:\n\u001B[0;32m--> 150\u001B[0m   \u001B[38;5;28;01mreturn\u001B[39;00m fn(\u001B[38;5;241m*\u001B[39margs, \u001B[38;5;241m*\u001B[39m\u001B[38;5;241m*\u001B[39mkwargs)\n\u001B[1;32m    151\u001B[0m \u001B[38;5;28;01mexcept\u001B[39;00m \u001B[38;5;167;01mException\u001B[39;00m \u001B[38;5;28;01mas\u001B[39;00m e:\n\u001B[1;32m    152\u001B[0m   filtered_tb \u001B[38;5;241m=\u001B[39m _process_traceback_frames(e\u001B[38;5;241m.\u001B[39m__traceback__)\n",
      "File \u001B[0;32m~/anaconda3/lib/python3.11/site-packages/tensorflow/python/eager/polymorphic_function/polymorphic_function.py:894\u001B[0m, in \u001B[0;36mFunction.__call__\u001B[0;34m(self, *args, **kwds)\u001B[0m\n\u001B[1;32m    891\u001B[0m compiler \u001B[38;5;241m=\u001B[39m \u001B[38;5;124m\"\u001B[39m\u001B[38;5;124mxla\u001B[39m\u001B[38;5;124m\"\u001B[39m \u001B[38;5;28;01mif\u001B[39;00m \u001B[38;5;28mself\u001B[39m\u001B[38;5;241m.\u001B[39m_jit_compile \u001B[38;5;28;01melse\u001B[39;00m \u001B[38;5;124m\"\u001B[39m\u001B[38;5;124mnonXla\u001B[39m\u001B[38;5;124m\"\u001B[39m\n\u001B[1;32m    893\u001B[0m \u001B[38;5;28;01mwith\u001B[39;00m OptionalXlaContext(\u001B[38;5;28mself\u001B[39m\u001B[38;5;241m.\u001B[39m_jit_compile):\n\u001B[0;32m--> 894\u001B[0m   result \u001B[38;5;241m=\u001B[39m \u001B[38;5;28mself\u001B[39m\u001B[38;5;241m.\u001B[39m_call(\u001B[38;5;241m*\u001B[39margs, \u001B[38;5;241m*\u001B[39m\u001B[38;5;241m*\u001B[39mkwds)\n\u001B[1;32m    896\u001B[0m new_tracing_count \u001B[38;5;241m=\u001B[39m \u001B[38;5;28mself\u001B[39m\u001B[38;5;241m.\u001B[39mexperimental_get_tracing_count()\n\u001B[1;32m    897\u001B[0m without_tracing \u001B[38;5;241m=\u001B[39m (tracing_count \u001B[38;5;241m==\u001B[39m new_tracing_count)\n",
      "File \u001B[0;32m~/anaconda3/lib/python3.11/site-packages/tensorflow/python/eager/polymorphic_function/polymorphic_function.py:933\u001B[0m, in \u001B[0;36mFunction._call\u001B[0;34m(self, *args, **kwds)\u001B[0m\n\u001B[1;32m    930\u001B[0m \u001B[38;5;28mself\u001B[39m\u001B[38;5;241m.\u001B[39m_lock\u001B[38;5;241m.\u001B[39mrelease()\n\u001B[1;32m    931\u001B[0m \u001B[38;5;66;03m# In this case we have not created variables on the first call. So we can\u001B[39;00m\n\u001B[1;32m    932\u001B[0m \u001B[38;5;66;03m# run the first trace but we should fail if variables are created.\u001B[39;00m\n\u001B[0;32m--> 933\u001B[0m results \u001B[38;5;241m=\u001B[39m \u001B[38;5;28mself\u001B[39m\u001B[38;5;241m.\u001B[39m_variable_creation_fn(\u001B[38;5;241m*\u001B[39margs, \u001B[38;5;241m*\u001B[39m\u001B[38;5;241m*\u001B[39mkwds)\n\u001B[1;32m    934\u001B[0m \u001B[38;5;28;01mif\u001B[39;00m \u001B[38;5;28mself\u001B[39m\u001B[38;5;241m.\u001B[39m_created_variables \u001B[38;5;129;01mand\u001B[39;00m \u001B[38;5;129;01mnot\u001B[39;00m ALLOW_DYNAMIC_VARIABLE_CREATION:\n\u001B[1;32m    935\u001B[0m   \u001B[38;5;28;01mraise\u001B[39;00m \u001B[38;5;167;01mValueError\u001B[39;00m(\u001B[38;5;124m\"\u001B[39m\u001B[38;5;124mCreating variables on a non-first call to a function\u001B[39m\u001B[38;5;124m\"\u001B[39m\n\u001B[1;32m    936\u001B[0m                    \u001B[38;5;124m\"\u001B[39m\u001B[38;5;124m decorated with tf.function.\u001B[39m\u001B[38;5;124m\"\u001B[39m)\n",
      "File \u001B[0;32m~/anaconda3/lib/python3.11/site-packages/tensorflow/python/eager/polymorphic_function/tracing_compiler.py:143\u001B[0m, in \u001B[0;36mTracingCompiler.__call__\u001B[0;34m(self, *args, **kwargs)\u001B[0m\n\u001B[1;32m    140\u001B[0m \u001B[38;5;28;01mwith\u001B[39;00m \u001B[38;5;28mself\u001B[39m\u001B[38;5;241m.\u001B[39m_lock:\n\u001B[1;32m    141\u001B[0m   (concrete_function,\n\u001B[1;32m    142\u001B[0m    filtered_flat_args) \u001B[38;5;241m=\u001B[39m \u001B[38;5;28mself\u001B[39m\u001B[38;5;241m.\u001B[39m_maybe_define_function(args, kwargs)\n\u001B[0;32m--> 143\u001B[0m \u001B[38;5;28;01mreturn\u001B[39;00m concrete_function\u001B[38;5;241m.\u001B[39m_call_flat(\n\u001B[1;32m    144\u001B[0m     filtered_flat_args, captured_inputs\u001B[38;5;241m=\u001B[39mconcrete_function\u001B[38;5;241m.\u001B[39mcaptured_inputs)\n",
      "File \u001B[0;32m~/anaconda3/lib/python3.11/site-packages/tensorflow/python/eager/polymorphic_function/monomorphic_function.py:1757\u001B[0m, in \u001B[0;36mConcreteFunction._call_flat\u001B[0;34m(self, args, captured_inputs, cancellation_manager)\u001B[0m\n\u001B[1;32m   1753\u001B[0m possible_gradient_type \u001B[38;5;241m=\u001B[39m gradients_util\u001B[38;5;241m.\u001B[39mPossibleTapeGradientTypes(args)\n\u001B[1;32m   1754\u001B[0m \u001B[38;5;28;01mif\u001B[39;00m (possible_gradient_type \u001B[38;5;241m==\u001B[39m gradients_util\u001B[38;5;241m.\u001B[39mPOSSIBLE_GRADIENT_TYPES_NONE\n\u001B[1;32m   1755\u001B[0m     \u001B[38;5;129;01mand\u001B[39;00m executing_eagerly):\n\u001B[1;32m   1756\u001B[0m   \u001B[38;5;66;03m# No tape is watching; skip to running the function.\u001B[39;00m\n\u001B[0;32m-> 1757\u001B[0m   \u001B[38;5;28;01mreturn\u001B[39;00m \u001B[38;5;28mself\u001B[39m\u001B[38;5;241m.\u001B[39m_build_call_outputs(\u001B[38;5;28mself\u001B[39m\u001B[38;5;241m.\u001B[39m_inference_function\u001B[38;5;241m.\u001B[39mcall(\n\u001B[1;32m   1758\u001B[0m       ctx, args, cancellation_manager\u001B[38;5;241m=\u001B[39mcancellation_manager))\n\u001B[1;32m   1759\u001B[0m forward_backward \u001B[38;5;241m=\u001B[39m \u001B[38;5;28mself\u001B[39m\u001B[38;5;241m.\u001B[39m_select_forward_and_backward_functions(\n\u001B[1;32m   1760\u001B[0m     args,\n\u001B[1;32m   1761\u001B[0m     possible_gradient_type,\n\u001B[1;32m   1762\u001B[0m     executing_eagerly)\n\u001B[1;32m   1763\u001B[0m forward_function, args_with_tangents \u001B[38;5;241m=\u001B[39m forward_backward\u001B[38;5;241m.\u001B[39mforward()\n",
      "File \u001B[0;32m~/anaconda3/lib/python3.11/site-packages/tensorflow/python/eager/polymorphic_function/monomorphic_function.py:381\u001B[0m, in \u001B[0;36m_EagerDefinedFunction.call\u001B[0;34m(self, ctx, args, cancellation_manager)\u001B[0m\n\u001B[1;32m    379\u001B[0m \u001B[38;5;28;01mwith\u001B[39;00m _InterpolateFunctionError(\u001B[38;5;28mself\u001B[39m):\n\u001B[1;32m    380\u001B[0m   \u001B[38;5;28;01mif\u001B[39;00m cancellation_manager \u001B[38;5;129;01mis\u001B[39;00m \u001B[38;5;28;01mNone\u001B[39;00m:\n\u001B[0;32m--> 381\u001B[0m     outputs \u001B[38;5;241m=\u001B[39m execute\u001B[38;5;241m.\u001B[39mexecute(\n\u001B[1;32m    382\u001B[0m         \u001B[38;5;28mstr\u001B[39m(\u001B[38;5;28mself\u001B[39m\u001B[38;5;241m.\u001B[39msignature\u001B[38;5;241m.\u001B[39mname),\n\u001B[1;32m    383\u001B[0m         num_outputs\u001B[38;5;241m=\u001B[39m\u001B[38;5;28mself\u001B[39m\u001B[38;5;241m.\u001B[39m_num_outputs,\n\u001B[1;32m    384\u001B[0m         inputs\u001B[38;5;241m=\u001B[39margs,\n\u001B[1;32m    385\u001B[0m         attrs\u001B[38;5;241m=\u001B[39mattrs,\n\u001B[1;32m    386\u001B[0m         ctx\u001B[38;5;241m=\u001B[39mctx)\n\u001B[1;32m    387\u001B[0m   \u001B[38;5;28;01melse\u001B[39;00m:\n\u001B[1;32m    388\u001B[0m     outputs \u001B[38;5;241m=\u001B[39m execute\u001B[38;5;241m.\u001B[39mexecute_with_cancellation(\n\u001B[1;32m    389\u001B[0m         \u001B[38;5;28mstr\u001B[39m(\u001B[38;5;28mself\u001B[39m\u001B[38;5;241m.\u001B[39msignature\u001B[38;5;241m.\u001B[39mname),\n\u001B[1;32m    390\u001B[0m         num_outputs\u001B[38;5;241m=\u001B[39m\u001B[38;5;28mself\u001B[39m\u001B[38;5;241m.\u001B[39m_num_outputs,\n\u001B[0;32m   (...)\u001B[0m\n\u001B[1;32m    393\u001B[0m         ctx\u001B[38;5;241m=\u001B[39mctx,\n\u001B[1;32m    394\u001B[0m         cancellation_manager\u001B[38;5;241m=\u001B[39mcancellation_manager)\n",
      "File \u001B[0;32m~/anaconda3/lib/python3.11/site-packages/tensorflow/python/eager/execute.py:52\u001B[0m, in \u001B[0;36mquick_execute\u001B[0;34m(op_name, num_outputs, inputs, attrs, ctx, name)\u001B[0m\n\u001B[1;32m     50\u001B[0m \u001B[38;5;28;01mtry\u001B[39;00m:\n\u001B[1;32m     51\u001B[0m   ctx\u001B[38;5;241m.\u001B[39mensure_initialized()\n\u001B[0;32m---> 52\u001B[0m   tensors \u001B[38;5;241m=\u001B[39m pywrap_tfe\u001B[38;5;241m.\u001B[39mTFE_Py_Execute(ctx\u001B[38;5;241m.\u001B[39m_handle, device_name, op_name,\n\u001B[1;32m     53\u001B[0m                                       inputs, attrs, num_outputs)\n\u001B[1;32m     54\u001B[0m \u001B[38;5;28;01mexcept\u001B[39;00m core\u001B[38;5;241m.\u001B[39m_NotOkStatusException \u001B[38;5;28;01mas\u001B[39;00m e:\n\u001B[1;32m     55\u001B[0m   \u001B[38;5;28;01mif\u001B[39;00m name \u001B[38;5;129;01mis\u001B[39;00m \u001B[38;5;129;01mnot\u001B[39;00m \u001B[38;5;28;01mNone\u001B[39;00m:\n",
      "\u001B[0;31mKeyboardInterrupt\u001B[0m: "
     ]
    }
   ],
   "source": [
    "# Crear el modelo\n",
    "model = Sequential()\n",
    "\n",
    "# Agregar la capa de entrada\n",
    "model.add(Dense(32, input_dim=15, kernel_initializer='he_uniform'))\n",
    "model.add(LeakyReLU(alpha=0.01))\n",
    "\n",
    "# Agregar 5 capas intermedias completamente conectadas\n",
    "for _ in range(5):\n",
    "    model.add(Dense(32, kernel_initializer='he_uniform'))\n",
    "    model.add(LeakyReLU(alpha=0.01))\n",
    "\n",
    "# Agregar la capa de salida\n",
    "model.add(Dense(17, activation='softmax'))\n",
    "\n",
    "# Configurar el optimizador Adam con gradient clipping\n",
    "adam = adam_v2.Adam(learning_rate=0.0001, clipvalue=1.)\n",
    "\n",
    "# Compilar el modelo\n",
    "model.compile(optimizer=adam, loss=tf.losses.categorical_crossentropy, metrics=['accuracy'])\n",
    "\n",
    "# Callback para guardar el mejor modelo\n",
    "checkpoint = ModelCheckpoint('bestmodelv4.h5', save_best_only=True, monitor='val_accuracy', mode='max', verbose=1)\n",
    "\n",
    "model.summary()\n",
    "\n",
    "# Entrenar el modelo\n",
    "model.fit(\n",
    "    train_data, train_labels,\n",
    "    validation_data=(val_data, val_labels),\n",
    "    epochs=200,\n",
    "    batch_size=140,\n",
    "    callbacks=[checkpoint])"
   ],
   "metadata": {
    "collapsed": false,
    "ExecuteTime": {
     "end_time": "2023-11-16T21:48:30.398687450Z",
     "start_time": "2023-11-16T21:45:13.545229708Z"
    }
   },
   "id": "eb72dfd802b83c78"
  },
  {
   "cell_type": "code",
   "execution_count": null,
   "outputs": [],
   "source": [],
   "metadata": {
    "collapsed": false
   },
   "id": "e9a15965541dbf24"
  }
 ],
 "metadata": {
  "kernelspec": {
   "display_name": "Python 3",
   "language": "python",
   "name": "python3"
  },
  "language_info": {
   "codemirror_mode": {
    "name": "ipython",
    "version": 2
   },
   "file_extension": ".py",
   "mimetype": "text/x-python",
   "name": "python",
   "nbconvert_exporter": "python",
   "pygments_lexer": "ipython2",
   "version": "2.7.6"
  }
 },
 "nbformat": 4,
 "nbformat_minor": 5
}
