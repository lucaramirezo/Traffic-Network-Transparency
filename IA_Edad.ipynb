{
 "cells": [
  {
   "cell_type": "code",
   "execution_count": 272,
   "id": "initial_id",
   "metadata": {
    "collapsed": true,
    "ExecuteTime": {
     "end_time": "2023-11-23T03:32:26.879171342Z",
     "start_time": "2023-11-23T03:32:26.822128710Z"
    }
   },
   "outputs": [],
   "source": [
    "import numpy as np\n",
    "import pandas as pd\n",
    "import re\n",
    "import tensorflow as tf\n",
    "from tensorflow.python.keras.callbacks import ModelCheckpoint, TensorBoard\n",
    "from tensorflow.python.keras.models import Sequential\n",
    "from tensorflow.python.keras.layers import Dense, LeakyReLU\n",
    "from tensorflow.python.keras.models import load_model\n",
    "from tensorflow.python.keras.optimizers import adam_v2\n",
    "from sklearn.model_selection import train_test_split\n",
    "import matplotlib.pyplot as plt\n",
    "import seaborn as sns\n",
    "from sklearn.metrics import confusion_matrix\n",
    "from sklearn.metrics import classification_report\n",
    "from datetime import datetime"
   ]
  },
  {
   "cell_type": "markdown",
   "source": [
    "# Preparar los datos\n",
    "Preparamos los datos previa separación. Codificamos numéricamente y eliminamos columnas que no vamos a utilizar"
   ],
   "metadata": {
    "collapsed": false
   },
   "id": "c459cc7eaf7ac21d"
  },
  {
   "cell_type": "code",
   "execution_count": 273,
   "outputs": [],
   "source": [
    "df = pd.read_csv('Datasets/Data_Combinada.csv', low_memory=False)"
   ],
   "metadata": {
    "collapsed": false,
    "ExecuteTime": {
     "end_time": "2023-11-23T03:32:27.127312915Z",
     "start_time": "2023-11-23T03:32:26.829470536Z"
    }
   },
   "id": "944713f267db8d48"
  },
  {
   "cell_type": "markdown",
   "source": [
    "Eliminamos columnas que no utilizaremos, como las coordenadas, o columnas repetidas como distrito con código distrito y lesividad con código lesividad"
   ],
   "metadata": {
    "collapsed": false
   },
   "id": "2550294496817fb"
  },
  {
   "cell_type": "code",
   "execution_count": 274,
   "outputs": [],
   "source": [
    "df.drop(columns=['distrito', 'coordenada_y_utm', 'coordenada_x_utm', 'localizacion', 'numero', 'lesividad'],\n",
    "        inplace=True)"
   ],
   "metadata": {
    "collapsed": false,
    "ExecuteTime": {
     "end_time": "2023-11-23T03:32:27.127470729Z",
     "start_time": "2023-11-23T03:32:27.102118324Z"
    }
   },
   "id": "e613d44dfa52586f"
  },
  {
   "cell_type": "code",
   "execution_count": 275,
   "outputs": [
    {
     "data": {
      "text/plain": "0        Conductor\n1        Conductor\n2        Conductor\n4        Conductor\n5        Conductor\n           ...    \n74955    Conductor\n74957    Conductor\n74958    Conductor\n74959    Conductor\n74960    Conductor\nName: tipo_persona, Length: 60493, dtype: object"
     },
     "execution_count": 275,
     "metadata": {},
     "output_type": "execute_result"
    }
   ],
   "source": [
    "# # TODO Pruebas eficiencia modelo IA Dropeamos todos los que no son conductores y dropeamos la columna luego ya que es redundante\n",
    "df.drop(df[df['tipo_persona'] != 'Conductor'].index, inplace=True)\n",
    "df.pop('tipo_persona')"
   ],
   "metadata": {
    "collapsed": false,
    "ExecuteTime": {
     "end_time": "2023-11-23T03:32:27.127627531Z",
     "start_time": "2023-11-23T03:32:27.102239215Z"
    }
   },
   "id": "12004aa7f77adab6"
  },
  {
   "cell_type": "code",
   "execution_count": 276,
   "outputs": [],
   "source": [
    "df['sexo'].replace({'M': 0, 'H': 1}, inplace=True)"
   ],
   "metadata": {
    "collapsed": false,
    "ExecuteTime": {
     "end_time": "2023-11-23T03:32:27.127674783Z",
     "start_time": "2023-11-23T03:32:27.102272587Z"
    }
   },
   "id": "e0d47b76a44fb3ed"
  },
  {
   "cell_type": "code",
   "execution_count": 277,
   "outputs": [],
   "source": [
    "df['fugado'].replace({'No': 0, 'Si': 1}, inplace=True)"
   ],
   "metadata": {
    "collapsed": false,
    "ExecuteTime": {
     "end_time": "2023-11-23T03:32:27.127806757Z",
     "start_time": "2023-11-23T03:32:27.111650244Z"
    }
   },
   "id": "5959f19036105faa"
  },
  {
   "cell_type": "code",
   "execution_count": 278,
   "outputs": [],
   "source": [
    "# df['tipo_persona'].replace({'Conductor': 3, 'Pasajero': 2, 'No': 1}, inplace=True)"
   ],
   "metadata": {
    "collapsed": false,
    "ExecuteTime": {
     "end_time": "2023-11-23T03:32:27.144605583Z",
     "start_time": "2023-11-23T03:32:27.126966375Z"
    }
   },
   "id": "febf13b0176cc46"
  },
  {
   "cell_type": "code",
   "execution_count": 279,
   "outputs": [],
   "source": [
    "# El criterio según la fuente de datos es que si es None es nada, de todas formas si fue ingresado debería existir registro\n",
    "# por lo que es muy raro el caso contrario\n",
    "df['cod_lesividad'].fillna(0, inplace=True)"
   ],
   "metadata": {
    "collapsed": false,
    "ExecuteTime": {
     "end_time": "2023-11-23T03:32:27.147820031Z",
     "start_time": "2023-11-23T03:32:27.133180431Z"
    }
   },
   "id": "5c69ddabcaf72893"
  },
  {
   "cell_type": "code",
   "execution_count": 280,
   "outputs": [],
   "source": [
    "def marca_de_clase_rango_edad(edad: str) -> float:\n",
    "    regex_format = r'\\b\\d+\\b'\n",
    "    numbers = re.findall(regex_format, edad)\n",
    "    if len(numbers) >= 2:\n",
    "        return (int(numbers[0]) + int(numbers[1])) / 2\n",
    "\n",
    "    # if edad == 'Menor de 5 años':\n",
    "    #     return 5\n",
    "    # \n",
    "    # if edad == 'Más de 74 años':\n",
    "    #     return 74\n",
    "    else:\n",
    "        return -1\n",
    "\n",
    "\n",
    "df['rango_edad'] = df['rango_edad'].apply(marca_de_clase_rango_edad)\n",
    "df.rename(columns={'rango_edad': 'marca_de_clase_edad'}, inplace=True)"
   ],
   "metadata": {
    "collapsed": false,
    "ExecuteTime": {
     "end_time": "2023-11-23T03:32:27.228035993Z",
     "start_time": "2023-11-23T03:32:27.148456724Z"
    }
   },
   "id": "dbe8f16f92437a17"
  },
  {
   "cell_type": "code",
   "execution_count": 281,
   "outputs": [
    {
     "name": "stdout",
     "output_type": "stream",
     "text": [
      "[-1.0, 7.5, 12.0, 16.0, 19.0, 22.5, 27.0, 32.0, 37.0, 42.0, 47.0, 52.0, 57.0, 62.0, 67.0, 72.0]\n"
     ]
    }
   ],
   "source": [
    "print(sorted(df['marca_de_clase_edad'].unique()))"
   ],
   "metadata": {
    "collapsed": false,
    "ExecuteTime": {
     "end_time": "2023-11-23T03:32:27.231964811Z",
     "start_time": "2023-11-23T03:32:27.228792025Z"
    }
   },
   "id": "a9cdef155709d5e0"
  },
  {
   "cell_type": "code",
   "execution_count": 282,
   "outputs": [
    {
     "data": {
      "text/plain": "0     90\n1     90\n2     30\n4     30\n5    110\nName: hora, dtype: int64"
     },
     "execution_count": 282,
     "metadata": {},
     "output_type": "execute_result"
    }
   ],
   "source": [
    "def minutes_from_midnight(hour_str: str) -> int:\n",
    "    clock = hour_str.split(':')\n",
    "    minutes = 0\n",
    "\n",
    "    minutes = int(clock[0]) * 60\n",
    "    minutes = minutes + int(clock[1])\n",
    "\n",
    "    return minutes\n",
    "\n",
    "\n",
    "df['hora'] = df['hora'].apply(minutes_from_midnight)\n",
    "df.pop('hora').head()"
   ],
   "metadata": {
    "collapsed": false,
    "ExecuteTime": {
     "end_time": "2023-11-23T03:32:27.276393632Z",
     "start_time": "2023-11-23T03:32:27.232727080Z"
    }
   },
   "id": "943464f7ea88d824"
  },
  {
   "cell_type": "code",
   "execution_count": 283,
   "outputs": [],
   "source": [
    "def extract_day(date_str: str) -> int:\n",
    "    date_parts = date_str.split('/')\n",
    "    if len(date_parts) >= 3:\n",
    "        return int(date_parts[0])\n",
    "\n",
    "\n",
    "def extract_month(date_str: str) -> int:\n",
    "    date_parts = date_str.split('/')\n",
    "    if len(date_parts) >= 3:\n",
    "        return int(date_parts[1])\n",
    "\n",
    "\n",
    "def extract_year(date_str: str) -> int:\n",
    "    date_parts = date_str.split('/')\n",
    "    if len(date_parts) >= 3:\n",
    "        return int(date_parts[2])\n",
    "\n",
    "\n",
    "df['day'] = df['fecha'].transform(extract_day)\n",
    "df['month'] = df['fecha'].transform(extract_month)\n",
    "df['year'] = df['fecha'].transform(extract_year)"
   ],
   "metadata": {
    "collapsed": false,
    "ExecuteTime": {
     "end_time": "2023-11-23T03:32:27.382239060Z",
     "start_time": "2023-11-23T03:32:27.295433Z"
    }
   },
   "id": "c566f74538a1d37a"
  },
  {
   "cell_type": "code",
   "execution_count": 284,
   "outputs": [
    {
     "data": {
      "text/plain": "0    01/01/2022\n1    01/01/2022\n2    01/01/2022\n4    01/01/2022\n5    01/01/2022\nName: fecha, dtype: object"
     },
     "execution_count": 284,
     "metadata": {},
     "output_type": "execute_result"
    }
   ],
   "source": [
    "def is_work_day(date_str: str) -> int:\n",
    "    date_format = '%d/%m/%Y'  # Formato para 'dd-MM-yyyy'\n",
    "\n",
    "    holidays_madrid = ['']  # todo\n",
    "    try:\n",
    "        date_obj = datetime.strptime(date_str, date_format)\n",
    "        day_of_week_int = date_obj.weekday()\n",
    "        if day_of_week_int == 5 or day_of_week_int == 6 or date_str in holidays_madrid:\n",
    "            return 0\n",
    "        return 1\n",
    "\n",
    "    except ValueError:\n",
    "        return -1\n",
    "\n",
    "\n",
    "df['bool_laborable'] = df['fecha'].transform(is_work_day)\n",
    "df.pop('fecha').head()"
   ],
   "metadata": {
    "collapsed": false,
    "ExecuteTime": {
     "end_time": "2023-11-23T03:32:27.563576529Z",
     "start_time": "2023-11-23T03:32:27.382143602Z"
    }
   },
   "id": "a8481dc604e6c2fc"
  },
  {
   "cell_type": "code",
   "execution_count": 285,
   "outputs": [],
   "source": [
    "unique_values = df['tipo_accidente'].unique()\n",
    "dictionary = {type_of: code for code, type_of in enumerate(unique_values)}\n",
    "df['tipo_accidente'] = df['tipo_accidente'].map(dictionary)"
   ],
   "metadata": {
    "collapsed": false,
    "ExecuteTime": {
     "end_time": "2023-11-23T03:32:27.610248023Z",
     "start_time": "2023-11-23T03:32:27.565874244Z"
    }
   },
   "id": "d1b193eab35abedc"
  },
  {
   "cell_type": "code",
   "execution_count": 286,
   "outputs": [],
   "source": [
    "unique_values = df['tipo_vehiculo'].unique()\n",
    "dictionary = {type_of: code for code, type_of in enumerate(unique_values)}\n",
    "df['tipo_vehiculo'] = df['tipo_vehiculo'].map(dictionary)"
   ],
   "metadata": {
    "collapsed": false,
    "ExecuteTime": {
     "end_time": "2023-11-23T03:32:27.610402748Z",
     "start_time": "2023-11-23T03:32:27.610159914Z"
    }
   },
   "id": "b4164dc36a3ca905"
  },
  {
   "cell_type": "code",
   "execution_count": 287,
   "outputs": [],
   "source": [
    "# TODO eliminar esto cuando se rellene con criterio\n",
    "df['estado_meteorológico'].fillna('Desconocido', inplace=True)\n",
    "\n",
    "unique_values = df['estado_meteorológico'].unique()\n",
    "dictionary = {type_of: code for code, type_of in enumerate(unique_values)}\n",
    "df['estado_meteorológico'] = df['estado_meteorológico'].map(dictionary)"
   ],
   "metadata": {
    "collapsed": false,
    "ExecuteTime": {
     "end_time": "2023-11-23T03:32:27.654305274Z",
     "start_time": "2023-11-23T03:32:27.610333557Z"
    }
   },
   "id": "832dd48945c290c0"
  },
  {
   "cell_type": "code",
   "execution_count": 288,
   "outputs": [
    {
     "data": {
      "text/plain": "cod_distrito            False\ntipo_accidente          False\nestado_meteorológico    False\ntipo_vehiculo           False\nmarca_de_clase_edad     False\nsexo                    False\ncod_lesividad           False\npositiva_alcohol        False\npositiva_droga          False\nnumero_pasajeros        False\nfugado                  False\nday                     False\nmonth                   False\nyear                    False\nbool_laborable          False\ndtype: bool"
     },
     "execution_count": 288,
     "metadata": {},
     "output_type": "execute_result"
    }
   ],
   "source": [
    "df.isnull().any()"
   ],
   "metadata": {
    "collapsed": false,
    "ExecuteTime": {
     "end_time": "2023-11-23T03:32:27.654692395Z",
     "start_time": "2023-11-23T03:32:27.654181441Z"
    }
   },
   "id": "c10b2dd1a439bce6"
  },
  {
   "cell_type": "markdown",
   "source": [
    "Todo listo. Dropeamos número de expediente y procedemos a separar los datos"
   ],
   "metadata": {
    "collapsed": false
   },
   "id": "60da7b90ae1d028b"
  },
  {
   "cell_type": "code",
   "execution_count": 289,
   "outputs": [
    {
     "ename": "KeyError",
     "evalue": "'num_expediente'",
     "output_type": "error",
     "traceback": [
      "\u001B[0;31m---------------------------------------------------------------------------\u001B[0m",
      "\u001B[0;31mKeyError\u001B[0m                                  Traceback (most recent call last)",
      "File \u001B[0;32m~/anaconda3/lib/python3.11/site-packages/pandas/core/indexes/base.py:3790\u001B[0m, in \u001B[0;36mIndex.get_loc\u001B[0;34m(self, key)\u001B[0m\n\u001B[1;32m   3789\u001B[0m \u001B[38;5;28;01mtry\u001B[39;00m:\n\u001B[0;32m-> 3790\u001B[0m     \u001B[38;5;28;01mreturn\u001B[39;00m \u001B[38;5;28mself\u001B[39m\u001B[38;5;241m.\u001B[39m_engine\u001B[38;5;241m.\u001B[39mget_loc(casted_key)\n\u001B[1;32m   3791\u001B[0m \u001B[38;5;28;01mexcept\u001B[39;00m \u001B[38;5;167;01mKeyError\u001B[39;00m \u001B[38;5;28;01mas\u001B[39;00m err:\n",
      "File \u001B[0;32mindex.pyx:152\u001B[0m, in \u001B[0;36mpandas._libs.index.IndexEngine.get_loc\u001B[0;34m()\u001B[0m\n",
      "File \u001B[0;32mindex.pyx:181\u001B[0m, in \u001B[0;36mpandas._libs.index.IndexEngine.get_loc\u001B[0;34m()\u001B[0m\n",
      "File \u001B[0;32mpandas/_libs/hashtable_class_helper.pxi:7080\u001B[0m, in \u001B[0;36mpandas._libs.hashtable.PyObjectHashTable.get_item\u001B[0;34m()\u001B[0m\n",
      "File \u001B[0;32mpandas/_libs/hashtable_class_helper.pxi:7088\u001B[0m, in \u001B[0;36mpandas._libs.hashtable.PyObjectHashTable.get_item\u001B[0;34m()\u001B[0m\n",
      "\u001B[0;31mKeyError\u001B[0m: 'num_expediente'",
      "\nThe above exception was the direct cause of the following exception:\n",
      "\u001B[0;31mKeyError\u001B[0m                                  Traceback (most recent call last)",
      "Cell \u001B[0;32mIn[289], line 1\u001B[0m\n\u001B[0;32m----> 1\u001B[0m df\u001B[38;5;241m.\u001B[39mpop(\u001B[38;5;124m'\u001B[39m\u001B[38;5;124mnum_expediente\u001B[39m\u001B[38;5;124m'\u001B[39m)\u001B[38;5;241m.\u001B[39mhead()\n",
      "File \u001B[0;32m~/anaconda3/lib/python3.11/site-packages/pandas/core/frame.py:5573\u001B[0m, in \u001B[0;36mDataFrame.pop\u001B[0;34m(self, item)\u001B[0m\n\u001B[1;32m   5532\u001B[0m \u001B[38;5;28;01mdef\u001B[39;00m \u001B[38;5;21mpop\u001B[39m(\u001B[38;5;28mself\u001B[39m, item: Hashable) \u001B[38;5;241m-\u001B[39m\u001B[38;5;241m>\u001B[39m Series:\n\u001B[1;32m   5533\u001B[0m \u001B[38;5;250m    \u001B[39m\u001B[38;5;124;03m\"\"\"\u001B[39;00m\n\u001B[1;32m   5534\u001B[0m \u001B[38;5;124;03m    Return item and drop from frame. Raise KeyError if not found.\u001B[39;00m\n\u001B[1;32m   5535\u001B[0m \n\u001B[0;32m   (...)\u001B[0m\n\u001B[1;32m   5571\u001B[0m \u001B[38;5;124;03m    3  monkey        NaN\u001B[39;00m\n\u001B[1;32m   5572\u001B[0m \u001B[38;5;124;03m    \"\"\"\u001B[39;00m\n\u001B[0;32m-> 5573\u001B[0m     \u001B[38;5;28;01mreturn\u001B[39;00m \u001B[38;5;28msuper\u001B[39m()\u001B[38;5;241m.\u001B[39mpop(item\u001B[38;5;241m=\u001B[39mitem)\n",
      "File \u001B[0;32m~/anaconda3/lib/python3.11/site-packages/pandas/core/generic.py:901\u001B[0m, in \u001B[0;36mNDFrame.pop\u001B[0;34m(self, item)\u001B[0m\n\u001B[1;32m    900\u001B[0m \u001B[38;5;28;01mdef\u001B[39;00m \u001B[38;5;21mpop\u001B[39m(\u001B[38;5;28mself\u001B[39m, item: Hashable) \u001B[38;5;241m-\u001B[39m\u001B[38;5;241m>\u001B[39m Series \u001B[38;5;241m|\u001B[39m Any:\n\u001B[0;32m--> 901\u001B[0m     result \u001B[38;5;241m=\u001B[39m \u001B[38;5;28mself\u001B[39m[item]\n\u001B[1;32m    902\u001B[0m     \u001B[38;5;28;01mdel\u001B[39;00m \u001B[38;5;28mself\u001B[39m[item]\n\u001B[1;32m    904\u001B[0m     \u001B[38;5;28;01mreturn\u001B[39;00m result\n",
      "File \u001B[0;32m~/anaconda3/lib/python3.11/site-packages/pandas/core/frame.py:3896\u001B[0m, in \u001B[0;36mDataFrame.__getitem__\u001B[0;34m(self, key)\u001B[0m\n\u001B[1;32m   3894\u001B[0m \u001B[38;5;28;01mif\u001B[39;00m \u001B[38;5;28mself\u001B[39m\u001B[38;5;241m.\u001B[39mcolumns\u001B[38;5;241m.\u001B[39mnlevels \u001B[38;5;241m>\u001B[39m \u001B[38;5;241m1\u001B[39m:\n\u001B[1;32m   3895\u001B[0m     \u001B[38;5;28;01mreturn\u001B[39;00m \u001B[38;5;28mself\u001B[39m\u001B[38;5;241m.\u001B[39m_getitem_multilevel(key)\n\u001B[0;32m-> 3896\u001B[0m indexer \u001B[38;5;241m=\u001B[39m \u001B[38;5;28mself\u001B[39m\u001B[38;5;241m.\u001B[39mcolumns\u001B[38;5;241m.\u001B[39mget_loc(key)\n\u001B[1;32m   3897\u001B[0m \u001B[38;5;28;01mif\u001B[39;00m is_integer(indexer):\n\u001B[1;32m   3898\u001B[0m     indexer \u001B[38;5;241m=\u001B[39m [indexer]\n",
      "File \u001B[0;32m~/anaconda3/lib/python3.11/site-packages/pandas/core/indexes/base.py:3797\u001B[0m, in \u001B[0;36mIndex.get_loc\u001B[0;34m(self, key)\u001B[0m\n\u001B[1;32m   3792\u001B[0m     \u001B[38;5;28;01mif\u001B[39;00m \u001B[38;5;28misinstance\u001B[39m(casted_key, \u001B[38;5;28mslice\u001B[39m) \u001B[38;5;129;01mor\u001B[39;00m (\n\u001B[1;32m   3793\u001B[0m         \u001B[38;5;28misinstance\u001B[39m(casted_key, abc\u001B[38;5;241m.\u001B[39mIterable)\n\u001B[1;32m   3794\u001B[0m         \u001B[38;5;129;01mand\u001B[39;00m \u001B[38;5;28many\u001B[39m(\u001B[38;5;28misinstance\u001B[39m(x, \u001B[38;5;28mslice\u001B[39m) \u001B[38;5;28;01mfor\u001B[39;00m x \u001B[38;5;129;01min\u001B[39;00m casted_key)\n\u001B[1;32m   3795\u001B[0m     ):\n\u001B[1;32m   3796\u001B[0m         \u001B[38;5;28;01mraise\u001B[39;00m InvalidIndexError(key)\n\u001B[0;32m-> 3797\u001B[0m     \u001B[38;5;28;01mraise\u001B[39;00m \u001B[38;5;167;01mKeyError\u001B[39;00m(key) \u001B[38;5;28;01mfrom\u001B[39;00m \u001B[38;5;21;01merr\u001B[39;00m\n\u001B[1;32m   3798\u001B[0m \u001B[38;5;28;01mexcept\u001B[39;00m \u001B[38;5;167;01mTypeError\u001B[39;00m:\n\u001B[1;32m   3799\u001B[0m     \u001B[38;5;66;03m# If we have a listlike key, _check_indexing_error will raise\u001B[39;00m\n\u001B[1;32m   3800\u001B[0m     \u001B[38;5;66;03m#  InvalidIndexError. Otherwise we fall through and re-raise\u001B[39;00m\n\u001B[1;32m   3801\u001B[0m     \u001B[38;5;66;03m#  the TypeError.\u001B[39;00m\n\u001B[1;32m   3802\u001B[0m     \u001B[38;5;28mself\u001B[39m\u001B[38;5;241m.\u001B[39m_check_indexing_error(key)\n",
      "\u001B[0;31mKeyError\u001B[0m: 'num_expediente'"
     ]
    }
   ],
   "source": [
    "df.pop('num_expediente').head()"
   ],
   "metadata": {
    "collapsed": false,
    "ExecuteTime": {
     "end_time": "2023-11-23T03:32:27.756567257Z",
     "start_time": "2023-11-23T03:32:27.654288113Z"
    }
   },
   "id": "7c5791b20db6c32"
  },
  {
   "cell_type": "code",
   "execution_count": null,
   "outputs": [],
   "source": [
    "# # TODO quitar luego\n",
    "# df.pop('cod_lesividad')\n",
    "# df.pop('year')\n",
    "# df.pop('estado_meteorológico')"
   ],
   "metadata": {
    "collapsed": false,
    "ExecuteTime": {
     "start_time": "2023-11-23T03:32:27.754181623Z"
    }
   },
   "id": "92c88d697fd2e933"
  },
  {
   "cell_type": "code",
   "execution_count": null,
   "outputs": [],
   "source": [
    "df"
   ],
   "metadata": {
    "collapsed": false,
    "ExecuteTime": {
     "start_time": "2023-11-23T03:32:27.754273096Z"
    }
   },
   "id": "8e07a8cfd38dea4"
  },
  {
   "cell_type": "markdown",
   "source": [
    "# Separamos en tres datasets\n",
    "1. Normalizamos los datos\n",
    "2. Separamos en:\n",
    "    * A entrenar: el 80% de los datos\n",
    "    * A validar: el 20% muestreado aleatoriamente\n",
    "    * A predecir: Los que marca de edad sean igual a -1"
   ],
   "metadata": {
    "collapsed": false
   },
   "id": "4c7f4dd756f478b0"
  },
  {
   "cell_type": "code",
   "execution_count": null,
   "outputs": [],
   "source": [
    "predict_df = df[df['marca_de_clase_edad'] == -1]\n",
    "df_ex_predict = df.drop(predict_df.index)"
   ],
   "metadata": {
    "collapsed": false,
    "ExecuteTime": {
     "start_time": "2023-11-23T03:32:27.754299816Z"
    }
   },
   "id": "7f8a8f9ccb0a91b0"
  },
  {
   "cell_type": "code",
   "execution_count": null,
   "outputs": [],
   "source": [
    "print(sorted(df_ex_predict['marca_de_clase_edad'].unique()))"
   ],
   "metadata": {
    "collapsed": false,
    "ExecuteTime": {
     "start_time": "2023-11-23T03:32:27.754320225Z"
    }
   },
   "id": "d4208215edd57fcb"
  },
  {
   "cell_type": "code",
   "execution_count": null,
   "outputs": [],
   "source": [
    "# 'tipo_persona', 'sexo', 'positivo_alcohol', 'positivo_droga', 'fugado' no necesitan ser normalizadas\n",
    "def custom_normalizer(__df: pd.DataFrame) -> None:\n",
    "    cols_to_preserve = ['sexo', 'positiva_alcohol', 'positiva_droga', 'fugado', 'marca_de_clase_edad']\n",
    "    # Normalizar las demás columnas\n",
    "    for col in __df.columns:\n",
    "        if col not in cols_to_preserve:\n",
    "            mean = __df[col].mean()\n",
    "            deviation = __df[col].std()\n",
    "            __df[col] = (__df[col] - mean) / deviation"
   ],
   "metadata": {
    "collapsed": false,
    "ExecuteTime": {
     "start_time": "2023-11-23T03:32:27.754393102Z"
    }
   },
   "id": "66b793b17ee9321d"
  },
  {
   "cell_type": "code",
   "execution_count": null,
   "outputs": [],
   "source": [
    "custom_normalizer(df_ex_predict)\n",
    "df_ex_predict.head()"
   ],
   "metadata": {
    "collapsed": false,
    "ExecuteTime": {
     "start_time": "2023-11-23T03:32:27.754418714Z"
    }
   },
   "id": "a975f157304a6a16"
  },
  {
   "cell_type": "code",
   "execution_count": null,
   "outputs": [],
   "source": [
    "custom_normalizer(predict_df)\n",
    "predict_df.head()"
   ],
   "metadata": {
    "collapsed": false,
    "ExecuteTime": {
     "start_time": "2023-11-23T03:32:27.754443133Z"
    }
   },
   "id": "45b55a1c83659e83"
  },
  {
   "cell_type": "markdown",
   "source": [
    "Verificamos la integridad del corte"
   ],
   "metadata": {
    "collapsed": false
   },
   "id": "e27e11246239aca9"
  },
  {
   "cell_type": "code",
   "execution_count": null,
   "outputs": [],
   "source": [
    "# TODO remove this on production\n",
    "df['marca_de_clase_edad'].count() - predict_df['marca_de_clase_edad'].count() - df_ex_predict[\n",
    "    'marca_de_clase_edad'].count()"
   ],
   "metadata": {
    "collapsed": false,
    "ExecuteTime": {
     "start_time": "2023-11-23T03:32:27.754466899Z"
    }
   },
   "id": "939443442ee2e489"
  },
  {
   "cell_type": "code",
   "execution_count": null,
   "outputs": [],
   "source": [
    "train_df, val_df = train_test_split(df_ex_predict, test_size=0.2, random_state=4321)"
   ],
   "metadata": {
    "collapsed": false,
    "ExecuteTime": {
     "start_time": "2023-11-23T03:32:27.754482699Z"
    }
   },
   "id": "9a3ad53d0de7edf7"
  },
  {
   "cell_type": "code",
   "execution_count": null,
   "outputs": [],
   "source": [
    "# # TODO Remove this test cell\n",
    "# train_df.pop('cod_lesividad')\n",
    "# val_df.pop('cod_lesividad')"
   ],
   "metadata": {
    "collapsed": false,
    "ExecuteTime": {
     "start_time": "2023-11-23T03:32:27.754498688Z"
    }
   },
   "id": "f4bbe45b40719633"
  },
  {
   "cell_type": "code",
   "execution_count": null,
   "outputs": [],
   "source": [
    "classes = [ 7.5, 12.0, 16.0, 19.0, 22.5, 27.0, 32.0, 37.0, 42.0, 47.0, 52.0, 57.0, 62.0, 67.0, 72.0]\n",
    "\n",
    "\n",
    "def extract_labels(df, target_column, classes):\n",
    "    labels = df[target_column].values\n",
    "\n",
    "    one_hot_labels = []\n",
    "\n",
    "    for label in labels:\n",
    "        one_hot_vector = [1 if label == cls else 0 for cls in classes]\n",
    "        one_hot_labels.append(one_hot_vector)\n",
    "\n",
    "    return np.array(one_hot_labels)"
   ],
   "metadata": {
    "collapsed": false,
    "ExecuteTime": {
     "start_time": "2023-11-23T03:32:27.754514692Z"
    }
   },
   "id": "91173613870f9373"
  },
  {
   "cell_type": "code",
   "execution_count": null,
   "outputs": [],
   "source": [
    "train_labels = extract_labels(train_df, 'marca_de_clase_edad', classes)\n",
    "val_labels = extract_labels(val_df, 'marca_de_clase_edad', classes)\n",
    "train_data = train_df.drop('marca_de_clase_edad', axis=1).values\n",
    "val_data = val_df.drop('marca_de_clase_edad', axis=1).values"
   ],
   "metadata": {
    "collapsed": false,
    "ExecuteTime": {
     "start_time": "2023-11-23T03:32:27.754530799Z"
    }
   },
   "id": "112b28ab43995997"
  },
  {
   "cell_type": "code",
   "execution_count": 290,
   "outputs": [
    {
     "data": {
      "text/plain": "array([[-0.3144906 , -1.03402422, -0.44673542, ...,  1.05718374,\n        -0.22029291,  0.56246689],\n       [-1.36576225,  1.59509831,  0.30354063, ...,  1.51237213,\n        -0.22029291, -1.77785546],\n       [ 0.5615691 ,  1.59509831, -0.44673542, ...,  0.37440115,\n        -0.52792276,  0.56246689],\n       ...,\n       [ 0.91199298,  1.59509831, -0.44673542, ...,  0.60199535,\n         1.62548617,  0.56246689],\n       [ 0.5615691 , -1.03402422, -0.44673542, ...,  1.17098083,\n        -1.45081229,  0.56246689],\n       [ 0.5615691 , -1.03402422, -0.44673542, ...,  1.17098083,\n        -0.8355526 , -1.77785546]])"
     },
     "execution_count": 290,
     "metadata": {},
     "output_type": "execute_result"
    }
   ],
   "source": [
    "train_data"
   ],
   "metadata": {
    "collapsed": false,
    "ExecuteTime": {
     "end_time": "2023-11-23T03:32:32.678404304Z",
     "start_time": "2023-11-23T03:32:32.637495367Z"
    }
   },
   "id": "811d3cc9ed64f10c"
  },
  {
   "cell_type": "markdown",
   "source": [
    "# Modelo\n",
    "Modelo de clasificación con 15 entradas y 17 salidas. \n",
    "Activación Leaky ReLu + He uniform, con gradient clipping, Lr = 0.001, 10 capas intermedias completamente conectadas de 32 neuronas, tamaño de batch 140, epochs 20, guarda el mejor modelo com checkpoint en bestmodelv4.h5 . Aplica softmax y categorical cross entropy en la salida"
   ],
   "metadata": {
    "collapsed": false
   },
   "id": "fcb69f8122107a0c"
  },
  {
   "cell_type": "code",
   "execution_count": 232,
   "outputs": [
    {
     "name": "stdout",
     "output_type": "stream",
     "text": [
      "Model: \"sequential_14\"\n",
      "_________________________________________________________________\n",
      "Layer (type)                 Output Shape              Param #   \n",
      "=================================================================\n",
      "dense_97 (Dense)             (None, 16)                208       \n",
      "_________________________________________________________________\n",
      "leaky_re_lu_77 (LeakyReLU)   (None, 16)                0         \n",
      "_________________________________________________________________\n",
      "dense_98 (Dense)             (None, 16)                272       \n",
      "_________________________________________________________________\n",
      "leaky_re_lu_78 (LeakyReLU)   (None, 16)                0         \n",
      "_________________________________________________________________\n",
      "dense_99 (Dense)             (None, 16)                272       \n",
      "_________________________________________________________________\n",
      "leaky_re_lu_79 (LeakyReLU)   (None, 16)                0         \n",
      "_________________________________________________________________\n",
      "dense_100 (Dense)            (None, 16)                272       \n",
      "_________________________________________________________________\n",
      "leaky_re_lu_80 (LeakyReLU)   (None, 16)                0         \n",
      "_________________________________________________________________\n",
      "dense_101 (Dense)            (None, 16)                272       \n",
      "_________________________________________________________________\n",
      "leaky_re_lu_81 (LeakyReLU)   (None, 16)                0         \n",
      "_________________________________________________________________\n",
      "dense_102 (Dense)            (None, 16)                272       \n",
      "_________________________________________________________________\n",
      "leaky_re_lu_82 (LeakyReLU)   (None, 16)                0         \n",
      "_________________________________________________________________\n",
      "dense_103 (Dense)            (None, 15)                255       \n",
      "=================================================================\n",
      "Total params: 1,823\n",
      "Trainable params: 1,823\n",
      "Non-trainable params: 0\n",
      "_________________________________________________________________\n",
      "Epoch 1/200\n",
      "660/660 [==============================] - 3s 3ms/step - loss: 2.4660 - accuracy: 0.1167 - val_loss: 2.4326 - val_accuracy: 0.1215\n",
      "\n",
      "Epoch 00001: val_accuracy improved from -inf to 0.12150, saving model to bestmodelv5.h5\n",
      "Epoch 2/200\n",
      "660/660 [==============================] - 2s 3ms/step - loss: 2.4246 - accuracy: 0.1193 - val_loss: 2.4212 - val_accuracy: 0.1220\n",
      "\n",
      "Epoch 00002: val_accuracy improved from 0.12150 to 0.12203, saving model to bestmodelv5.h5\n",
      "Epoch 3/200\n",
      "660/660 [==============================] - 2s 3ms/step - loss: 2.4151 - accuracy: 0.1238 - val_loss: 2.4167 - val_accuracy: 0.1223\n",
      "\n",
      "Epoch 00003: val_accuracy improved from 0.12203 to 0.12234, saving model to bestmodelv5.h5\n",
      "Epoch 4/200\n",
      "660/660 [==============================] - 2s 2ms/step - loss: 2.4067 - accuracy: 0.1261 - val_loss: 2.4076 - val_accuracy: 0.1301\n",
      "\n",
      "Epoch 00004: val_accuracy improved from 0.12234 to 0.13015, saving model to bestmodelv5.h5\n",
      "Epoch 5/200\n",
      "660/660 [==============================] - 2s 3ms/step - loss: 2.4012 - accuracy: 0.1287 - val_loss: 2.4013 - val_accuracy: 0.1296\n",
      "\n",
      "Epoch 00005: val_accuracy did not improve from 0.13015\n",
      "Epoch 6/200\n",
      "660/660 [==============================] - 2s 3ms/step - loss: 2.3964 - accuracy: 0.1306 - val_loss: 2.3981 - val_accuracy: 0.1273\n",
      "\n",
      "Epoch 00006: val_accuracy did not improve from 0.13015\n",
      "Epoch 7/200\n",
      "660/660 [==============================] - 2s 3ms/step - loss: 2.3930 - accuracy: 0.1306 - val_loss: 2.3958 - val_accuracy: 0.1299\n",
      "\n",
      "Epoch 00007: val_accuracy did not improve from 0.13015\n",
      "Epoch 8/200\n",
      "660/660 [==============================] - 2s 2ms/step - loss: 2.3896 - accuracy: 0.1324 - val_loss: 2.3934 - val_accuracy: 0.1308\n",
      "\n",
      "Epoch 00008: val_accuracy improved from 0.13015 to 0.13075, saving model to bestmodelv5.h5\n",
      "Epoch 9/200\n",
      "660/660 [==============================] - 2s 2ms/step - loss: 2.3870 - accuracy: 0.1334 - val_loss: 2.3900 - val_accuracy: 0.1305\n",
      "\n",
      "Epoch 00009: val_accuracy did not improve from 0.13075\n",
      "Epoch 10/200\n",
      "660/660 [==============================] - 2s 3ms/step - loss: 2.3841 - accuracy: 0.1323 - val_loss: 2.3914 - val_accuracy: 0.1302\n",
      "\n",
      "Epoch 00010: val_accuracy did not improve from 0.13075\n",
      "Epoch 11/200\n",
      "660/660 [==============================] - 2s 2ms/step - loss: 2.3815 - accuracy: 0.1352 - val_loss: 2.3857 - val_accuracy: 0.1378\n",
      "\n",
      "Epoch 00011: val_accuracy improved from 0.13075 to 0.13781, saving model to bestmodelv5.h5\n",
      "Epoch 12/200\n",
      "660/660 [==============================] - 2s 3ms/step - loss: 2.3781 - accuracy: 0.1395 - val_loss: 2.3873 - val_accuracy: 0.1355\n",
      "\n",
      "Epoch 00012: val_accuracy did not improve from 0.13781\n",
      "Epoch 13/200\n",
      "660/660 [==============================] - 2s 2ms/step - loss: 2.3749 - accuracy: 0.1396 - val_loss: 2.3871 - val_accuracy: 0.1361\n",
      "\n",
      "Epoch 00013: val_accuracy did not improve from 0.13781\n",
      "Epoch 14/200\n",
      "660/660 [==============================] - 2s 2ms/step - loss: 2.3721 - accuracy: 0.1405 - val_loss: 2.3773 - val_accuracy: 0.1370\n",
      "\n",
      "Epoch 00014: val_accuracy did not improve from 0.13781\n",
      "Epoch 15/200\n",
      "660/660 [==============================] - 2s 2ms/step - loss: 2.3705 - accuracy: 0.1393 - val_loss: 2.3756 - val_accuracy: 0.1373\n",
      "\n",
      "Epoch 00015: val_accuracy did not improve from 0.13781\n",
      "Epoch 16/200\n",
      "660/660 [==============================] - 2s 3ms/step - loss: 2.3689 - accuracy: 0.1432 - val_loss: 2.3802 - val_accuracy: 0.1361\n",
      "\n",
      "Epoch 00016: val_accuracy did not improve from 0.13781\n",
      "Epoch 17/200\n",
      "660/660 [==============================] - 2s 3ms/step - loss: 2.3677 - accuracy: 0.1403 - val_loss: 2.3792 - val_accuracy: 0.1397\n",
      "\n",
      "Epoch 00017: val_accuracy improved from 0.13781 to 0.13970, saving model to bestmodelv5.h5\n",
      "Epoch 18/200\n",
      "660/660 [==============================] - 1s 2ms/step - loss: 2.3670 - accuracy: 0.1426 - val_loss: 2.3749 - val_accuracy: 0.1348\n",
      "\n",
      "Epoch 00018: val_accuracy did not improve from 0.13970\n",
      "Epoch 19/200\n",
      "660/660 [==============================] - 2s 3ms/step - loss: 2.3659 - accuracy: 0.1404 - val_loss: 2.3746 - val_accuracy: 0.1367\n",
      "\n",
      "Epoch 00019: val_accuracy did not improve from 0.13970\n",
      "Epoch 20/200\n",
      "660/660 [==============================] - 2s 3ms/step - loss: 2.3648 - accuracy: 0.1433 - val_loss: 2.3737 - val_accuracy: 0.1361\n",
      "\n",
      "Epoch 00020: val_accuracy did not improve from 0.13970\n",
      "Epoch 21/200\n",
      "660/660 [==============================] - 2s 3ms/step - loss: 2.3639 - accuracy: 0.1436 - val_loss: 2.3778 - val_accuracy: 0.1371\n",
      "\n",
      "Epoch 00021: val_accuracy did not improve from 0.13970\n",
      "Epoch 22/200\n",
      "660/660 [==============================] - 2s 3ms/step - loss: 2.3634 - accuracy: 0.1423 - val_loss: 2.3758 - val_accuracy: 0.1334\n",
      "\n",
      "Epoch 00022: val_accuracy did not improve from 0.13970\n",
      "Epoch 23/200\n",
      "660/660 [==============================] - 2s 3ms/step - loss: 2.3628 - accuracy: 0.1425 - val_loss: 2.3754 - val_accuracy: 0.1377\n",
      "\n",
      "Epoch 00023: val_accuracy did not improve from 0.13970\n",
      "Epoch 24/200\n",
      "660/660 [==============================] - 2s 3ms/step - loss: 2.3620 - accuracy: 0.1443 - val_loss: 2.3719 - val_accuracy: 0.1342\n",
      "\n",
      "Epoch 00024: val_accuracy did not improve from 0.13970\n",
      "Epoch 25/200\n",
      "660/660 [==============================] - 2s 3ms/step - loss: 2.3620 - accuracy: 0.1417 - val_loss: 2.3742 - val_accuracy: 0.1388\n",
      "\n",
      "Epoch 00025: val_accuracy did not improve from 0.13970\n",
      "Epoch 26/200\n",
      "535/660 [=======================>......] - ETA: 0s - loss: 2.3631 - accuracy: 0.1421"
     ]
    },
    {
     "ename": "KeyboardInterrupt",
     "evalue": "",
     "output_type": "error",
     "traceback": [
      "\u001B[0;31m---------------------------------------------------------------------------\u001B[0m",
      "\u001B[0;31mKeyboardInterrupt\u001B[0m                         Traceback (most recent call last)",
      "Cell \u001B[0;32mIn[232], line 27\u001B[0m\n\u001B[1;32m     24\u001B[0m model\u001B[38;5;241m.\u001B[39msummary()\n\u001B[1;32m     26\u001B[0m \u001B[38;5;66;03m# Entrenar el modelo\u001B[39;00m\n\u001B[0;32m---> 27\u001B[0m history \u001B[38;5;241m=\u001B[39m model\u001B[38;5;241m.\u001B[39mfit(\n\u001B[1;32m     28\u001B[0m     train_data, train_labels,\n\u001B[1;32m     29\u001B[0m     validation_data\u001B[38;5;241m=\u001B[39m(val_data, val_labels),\n\u001B[1;32m     30\u001B[0m     epochs\u001B[38;5;241m=\u001B[39m\u001B[38;5;241m200\u001B[39m,\n\u001B[1;32m     31\u001B[0m     batch_size\u001B[38;5;241m=\u001B[39m\u001B[38;5;241m80\u001B[39m,\n\u001B[1;32m     32\u001B[0m     callbacks\u001B[38;5;241m=\u001B[39m[checkpoint]\n\u001B[1;32m     33\u001B[0m )\n",
      "File \u001B[0;32m~/anaconda3/lib/python3.11/site-packages/tensorflow/python/keras/engine/training.py:1187\u001B[0m, in \u001B[0;36mModel.fit\u001B[0;34m(self, x, y, batch_size, epochs, verbose, callbacks, validation_split, validation_data, shuffle, class_weight, sample_weight, initial_epoch, steps_per_epoch, validation_steps, validation_batch_size, validation_freq, max_queue_size, workers, use_multiprocessing)\u001B[0m\n\u001B[1;32m   1180\u001B[0m \u001B[38;5;28;01mwith\u001B[39;00m trace\u001B[38;5;241m.\u001B[39mTrace(\n\u001B[1;32m   1181\u001B[0m     \u001B[38;5;124m'\u001B[39m\u001B[38;5;124mtrain\u001B[39m\u001B[38;5;124m'\u001B[39m,\n\u001B[1;32m   1182\u001B[0m     epoch_num\u001B[38;5;241m=\u001B[39mepoch,\n\u001B[1;32m   1183\u001B[0m     step_num\u001B[38;5;241m=\u001B[39mstep,\n\u001B[1;32m   1184\u001B[0m     batch_size\u001B[38;5;241m=\u001B[39mbatch_size,\n\u001B[1;32m   1185\u001B[0m     _r\u001B[38;5;241m=\u001B[39m\u001B[38;5;241m1\u001B[39m):\n\u001B[1;32m   1186\u001B[0m   callbacks\u001B[38;5;241m.\u001B[39mon_train_batch_begin(step)\n\u001B[0;32m-> 1187\u001B[0m   tmp_logs \u001B[38;5;241m=\u001B[39m \u001B[38;5;28mself\u001B[39m\u001B[38;5;241m.\u001B[39mtrain_function(iterator)\n\u001B[1;32m   1188\u001B[0m   \u001B[38;5;28;01mif\u001B[39;00m data_handler\u001B[38;5;241m.\u001B[39mshould_sync:\n\u001B[1;32m   1189\u001B[0m     context\u001B[38;5;241m.\u001B[39masync_wait()\n",
      "File \u001B[0;32m~/anaconda3/lib/python3.11/site-packages/tensorflow/python/util/traceback_utils.py:150\u001B[0m, in \u001B[0;36mfilter_traceback.<locals>.error_handler\u001B[0;34m(*args, **kwargs)\u001B[0m\n\u001B[1;32m    148\u001B[0m filtered_tb \u001B[38;5;241m=\u001B[39m \u001B[38;5;28;01mNone\u001B[39;00m\n\u001B[1;32m    149\u001B[0m \u001B[38;5;28;01mtry\u001B[39;00m:\n\u001B[0;32m--> 150\u001B[0m   \u001B[38;5;28;01mreturn\u001B[39;00m fn(\u001B[38;5;241m*\u001B[39margs, \u001B[38;5;241m*\u001B[39m\u001B[38;5;241m*\u001B[39mkwargs)\n\u001B[1;32m    151\u001B[0m \u001B[38;5;28;01mexcept\u001B[39;00m \u001B[38;5;167;01mException\u001B[39;00m \u001B[38;5;28;01mas\u001B[39;00m e:\n\u001B[1;32m    152\u001B[0m   filtered_tb \u001B[38;5;241m=\u001B[39m _process_traceback_frames(e\u001B[38;5;241m.\u001B[39m__traceback__)\n",
      "File \u001B[0;32m~/anaconda3/lib/python3.11/site-packages/tensorflow/python/eager/polymorphic_function/polymorphic_function.py:894\u001B[0m, in \u001B[0;36mFunction.__call__\u001B[0;34m(self, *args, **kwds)\u001B[0m\n\u001B[1;32m    891\u001B[0m compiler \u001B[38;5;241m=\u001B[39m \u001B[38;5;124m\"\u001B[39m\u001B[38;5;124mxla\u001B[39m\u001B[38;5;124m\"\u001B[39m \u001B[38;5;28;01mif\u001B[39;00m \u001B[38;5;28mself\u001B[39m\u001B[38;5;241m.\u001B[39m_jit_compile \u001B[38;5;28;01melse\u001B[39;00m \u001B[38;5;124m\"\u001B[39m\u001B[38;5;124mnonXla\u001B[39m\u001B[38;5;124m\"\u001B[39m\n\u001B[1;32m    893\u001B[0m \u001B[38;5;28;01mwith\u001B[39;00m OptionalXlaContext(\u001B[38;5;28mself\u001B[39m\u001B[38;5;241m.\u001B[39m_jit_compile):\n\u001B[0;32m--> 894\u001B[0m   result \u001B[38;5;241m=\u001B[39m \u001B[38;5;28mself\u001B[39m\u001B[38;5;241m.\u001B[39m_call(\u001B[38;5;241m*\u001B[39margs, \u001B[38;5;241m*\u001B[39m\u001B[38;5;241m*\u001B[39mkwds)\n\u001B[1;32m    896\u001B[0m new_tracing_count \u001B[38;5;241m=\u001B[39m \u001B[38;5;28mself\u001B[39m\u001B[38;5;241m.\u001B[39mexperimental_get_tracing_count()\n\u001B[1;32m    897\u001B[0m without_tracing \u001B[38;5;241m=\u001B[39m (tracing_count \u001B[38;5;241m==\u001B[39m new_tracing_count)\n",
      "File \u001B[0;32m~/anaconda3/lib/python3.11/site-packages/tensorflow/python/eager/polymorphic_function/polymorphic_function.py:926\u001B[0m, in \u001B[0;36mFunction._call\u001B[0;34m(self, *args, **kwds)\u001B[0m\n\u001B[1;32m    923\u001B[0m   \u001B[38;5;28mself\u001B[39m\u001B[38;5;241m.\u001B[39m_lock\u001B[38;5;241m.\u001B[39mrelease()\n\u001B[1;32m    924\u001B[0m   \u001B[38;5;66;03m# In this case we have created variables on the first call, so we run the\u001B[39;00m\n\u001B[1;32m    925\u001B[0m   \u001B[38;5;66;03m# defunned version which is guaranteed to never create variables.\u001B[39;00m\n\u001B[0;32m--> 926\u001B[0m   \u001B[38;5;28;01mreturn\u001B[39;00m \u001B[38;5;28mself\u001B[39m\u001B[38;5;241m.\u001B[39m_no_variable_creation_fn(\u001B[38;5;241m*\u001B[39margs, \u001B[38;5;241m*\u001B[39m\u001B[38;5;241m*\u001B[39mkwds)  \u001B[38;5;66;03m# pylint: disable=not-callable\u001B[39;00m\n\u001B[1;32m    927\u001B[0m \u001B[38;5;28;01melif\u001B[39;00m \u001B[38;5;28mself\u001B[39m\u001B[38;5;241m.\u001B[39m_variable_creation_fn \u001B[38;5;129;01mis\u001B[39;00m \u001B[38;5;129;01mnot\u001B[39;00m \u001B[38;5;28;01mNone\u001B[39;00m:\n\u001B[1;32m    928\u001B[0m   \u001B[38;5;66;03m# Release the lock early so that multiple threads can perform the call\u001B[39;00m\n\u001B[1;32m    929\u001B[0m   \u001B[38;5;66;03m# in parallel.\u001B[39;00m\n\u001B[1;32m    930\u001B[0m   \u001B[38;5;28mself\u001B[39m\u001B[38;5;241m.\u001B[39m_lock\u001B[38;5;241m.\u001B[39mrelease()\n",
      "File \u001B[0;32m~/anaconda3/lib/python3.11/site-packages/tensorflow/python/eager/polymorphic_function/tracing_compiler.py:143\u001B[0m, in \u001B[0;36mTracingCompiler.__call__\u001B[0;34m(self, *args, **kwargs)\u001B[0m\n\u001B[1;32m    140\u001B[0m \u001B[38;5;28;01mwith\u001B[39;00m \u001B[38;5;28mself\u001B[39m\u001B[38;5;241m.\u001B[39m_lock:\n\u001B[1;32m    141\u001B[0m   (concrete_function,\n\u001B[1;32m    142\u001B[0m    filtered_flat_args) \u001B[38;5;241m=\u001B[39m \u001B[38;5;28mself\u001B[39m\u001B[38;5;241m.\u001B[39m_maybe_define_function(args, kwargs)\n\u001B[0;32m--> 143\u001B[0m \u001B[38;5;28;01mreturn\u001B[39;00m concrete_function\u001B[38;5;241m.\u001B[39m_call_flat(\n\u001B[1;32m    144\u001B[0m     filtered_flat_args, captured_inputs\u001B[38;5;241m=\u001B[39mconcrete_function\u001B[38;5;241m.\u001B[39mcaptured_inputs)\n",
      "File \u001B[0;32m~/anaconda3/lib/python3.11/site-packages/tensorflow/python/eager/polymorphic_function/monomorphic_function.py:1757\u001B[0m, in \u001B[0;36mConcreteFunction._call_flat\u001B[0;34m(self, args, captured_inputs, cancellation_manager)\u001B[0m\n\u001B[1;32m   1753\u001B[0m possible_gradient_type \u001B[38;5;241m=\u001B[39m gradients_util\u001B[38;5;241m.\u001B[39mPossibleTapeGradientTypes(args)\n\u001B[1;32m   1754\u001B[0m \u001B[38;5;28;01mif\u001B[39;00m (possible_gradient_type \u001B[38;5;241m==\u001B[39m gradients_util\u001B[38;5;241m.\u001B[39mPOSSIBLE_GRADIENT_TYPES_NONE\n\u001B[1;32m   1755\u001B[0m     \u001B[38;5;129;01mand\u001B[39;00m executing_eagerly):\n\u001B[1;32m   1756\u001B[0m   \u001B[38;5;66;03m# No tape is watching; skip to running the function.\u001B[39;00m\n\u001B[0;32m-> 1757\u001B[0m   \u001B[38;5;28;01mreturn\u001B[39;00m \u001B[38;5;28mself\u001B[39m\u001B[38;5;241m.\u001B[39m_build_call_outputs(\u001B[38;5;28mself\u001B[39m\u001B[38;5;241m.\u001B[39m_inference_function\u001B[38;5;241m.\u001B[39mcall(\n\u001B[1;32m   1758\u001B[0m       ctx, args, cancellation_manager\u001B[38;5;241m=\u001B[39mcancellation_manager))\n\u001B[1;32m   1759\u001B[0m forward_backward \u001B[38;5;241m=\u001B[39m \u001B[38;5;28mself\u001B[39m\u001B[38;5;241m.\u001B[39m_select_forward_and_backward_functions(\n\u001B[1;32m   1760\u001B[0m     args,\n\u001B[1;32m   1761\u001B[0m     possible_gradient_type,\n\u001B[1;32m   1762\u001B[0m     executing_eagerly)\n\u001B[1;32m   1763\u001B[0m forward_function, args_with_tangents \u001B[38;5;241m=\u001B[39m forward_backward\u001B[38;5;241m.\u001B[39mforward()\n",
      "File \u001B[0;32m~/anaconda3/lib/python3.11/site-packages/tensorflow/python/eager/polymorphic_function/monomorphic_function.py:381\u001B[0m, in \u001B[0;36m_EagerDefinedFunction.call\u001B[0;34m(self, ctx, args, cancellation_manager)\u001B[0m\n\u001B[1;32m    379\u001B[0m \u001B[38;5;28;01mwith\u001B[39;00m _InterpolateFunctionError(\u001B[38;5;28mself\u001B[39m):\n\u001B[1;32m    380\u001B[0m   \u001B[38;5;28;01mif\u001B[39;00m cancellation_manager \u001B[38;5;129;01mis\u001B[39;00m \u001B[38;5;28;01mNone\u001B[39;00m:\n\u001B[0;32m--> 381\u001B[0m     outputs \u001B[38;5;241m=\u001B[39m execute\u001B[38;5;241m.\u001B[39mexecute(\n\u001B[1;32m    382\u001B[0m         \u001B[38;5;28mstr\u001B[39m(\u001B[38;5;28mself\u001B[39m\u001B[38;5;241m.\u001B[39msignature\u001B[38;5;241m.\u001B[39mname),\n\u001B[1;32m    383\u001B[0m         num_outputs\u001B[38;5;241m=\u001B[39m\u001B[38;5;28mself\u001B[39m\u001B[38;5;241m.\u001B[39m_num_outputs,\n\u001B[1;32m    384\u001B[0m         inputs\u001B[38;5;241m=\u001B[39margs,\n\u001B[1;32m    385\u001B[0m         attrs\u001B[38;5;241m=\u001B[39mattrs,\n\u001B[1;32m    386\u001B[0m         ctx\u001B[38;5;241m=\u001B[39mctx)\n\u001B[1;32m    387\u001B[0m   \u001B[38;5;28;01melse\u001B[39;00m:\n\u001B[1;32m    388\u001B[0m     outputs \u001B[38;5;241m=\u001B[39m execute\u001B[38;5;241m.\u001B[39mexecute_with_cancellation(\n\u001B[1;32m    389\u001B[0m         \u001B[38;5;28mstr\u001B[39m(\u001B[38;5;28mself\u001B[39m\u001B[38;5;241m.\u001B[39msignature\u001B[38;5;241m.\u001B[39mname),\n\u001B[1;32m    390\u001B[0m         num_outputs\u001B[38;5;241m=\u001B[39m\u001B[38;5;28mself\u001B[39m\u001B[38;5;241m.\u001B[39m_num_outputs,\n\u001B[0;32m   (...)\u001B[0m\n\u001B[1;32m    393\u001B[0m         ctx\u001B[38;5;241m=\u001B[39mctx,\n\u001B[1;32m    394\u001B[0m         cancellation_manager\u001B[38;5;241m=\u001B[39mcancellation_manager)\n",
      "File \u001B[0;32m~/anaconda3/lib/python3.11/site-packages/tensorflow/python/eager/execute.py:52\u001B[0m, in \u001B[0;36mquick_execute\u001B[0;34m(op_name, num_outputs, inputs, attrs, ctx, name)\u001B[0m\n\u001B[1;32m     50\u001B[0m \u001B[38;5;28;01mtry\u001B[39;00m:\n\u001B[1;32m     51\u001B[0m   ctx\u001B[38;5;241m.\u001B[39mensure_initialized()\n\u001B[0;32m---> 52\u001B[0m   tensors \u001B[38;5;241m=\u001B[39m pywrap_tfe\u001B[38;5;241m.\u001B[39mTFE_Py_Execute(ctx\u001B[38;5;241m.\u001B[39m_handle, device_name, op_name,\n\u001B[1;32m     53\u001B[0m                                       inputs, attrs, num_outputs)\n\u001B[1;32m     54\u001B[0m \u001B[38;5;28;01mexcept\u001B[39;00m core\u001B[38;5;241m.\u001B[39m_NotOkStatusException \u001B[38;5;28;01mas\u001B[39;00m e:\n\u001B[1;32m     55\u001B[0m   \u001B[38;5;28;01mif\u001B[39;00m name \u001B[38;5;129;01mis\u001B[39;00m \u001B[38;5;129;01mnot\u001B[39;00m \u001B[38;5;28;01mNone\u001B[39;00m:\n",
      "\u001B[0;31mKeyboardInterrupt\u001B[0m: "
     ]
    }
   ],
   "source": [
    "# Crear el modelo\n",
    "model = Sequential()\n",
    "\n",
    "# Agregar la capa de entrada\n",
    "model.add(Dense(16, input_dim=12, kernel_initializer='he_uniform', bias_initializer='zeros'))\n",
    "model.add(LeakyReLU(alpha=0.01))\n",
    "\n",
    "# Agregar capas intermedias completamente conectadas\n",
    "for _ in range(5):\n",
    "    model.add(Dense(16, kernel_initializer='he_uniform', bias_initializer='zeros'))\n",
    "    model.add(LeakyReLU(alpha=0.01))\n",
    "# Agregar la capa de salida\n",
    "model.add(Dense(15, activation='softmax', kernel_initializer='he_uniform', bias_initializer='zeros'))\n",
    "\n",
    "# Configurar el optimizador Adam con gradient clipping\n",
    "adam = adam_v2.Adam(learning_rate=0.001, clipvalue=1.)\n",
    "\n",
    "# Compilar el modelo\n",
    "model.compile(optimizer=adam, loss='categorical_crossentropy', metrics=['accuracy'])\n",
    "\n",
    "# Callback para guardar el mejor modelo\n",
    "checkpoint = ModelCheckpoint('bestmodelv5.h5', save_best_only=True, monitor='val_accuracy', mode='max', verbose=1)\n",
    "\n",
    "model.summary()\n",
    "\n",
    "# Entrenar el modelo\n",
    "history = model.fit(\n",
    "    train_data, train_labels,\n",
    "    validation_data=(val_data, val_labels),\n",
    "    epochs=200,\n",
    "    batch_size=80,\n",
    "    callbacks=[checkpoint]\n",
    ")"
   ],
   "metadata": {
    "collapsed": false,
    "ExecuteTime": {
     "end_time": "2023-11-23T03:29:04.740479879Z",
     "start_time": "2023-11-23T03:28:17.758513988Z"
    }
   },
   "id": "eb72dfd802b83c78"
  },
  {
   "cell_type": "code",
   "execution_count": 214,
   "outputs": [
    {
     "name": "stdout",
     "output_type": "stream",
     "text": [
      "Model: \"sequential_11\"\n",
      "_________________________________________________________________\n",
      "Layer (type)                 Output Shape              Param #   \n",
      "=================================================================\n",
      "dense_76 (Dense)             (None, 16)                208       \n",
      "_________________________________________________________________\n",
      "leaky_re_lu_65 (LeakyReLU)   (None, 16)                0         \n",
      "_________________________________________________________________\n",
      "dense_77 (Dense)             (None, 16)                272       \n",
      "_________________________________________________________________\n",
      "leaky_re_lu_66 (LeakyReLU)   (None, 16)                0         \n",
      "_________________________________________________________________\n",
      "dense_78 (Dense)             (None, 16)                272       \n",
      "_________________________________________________________________\n",
      "leaky_re_lu_67 (LeakyReLU)   (None, 16)                0         \n",
      "_________________________________________________________________\n",
      "dense_79 (Dense)             (None, 16)                272       \n",
      "_________________________________________________________________\n",
      "leaky_re_lu_68 (LeakyReLU)   (None, 16)                0         \n",
      "_________________________________________________________________\n",
      "dense_80 (Dense)             (None, 16)                272       \n",
      "_________________________________________________________________\n",
      "leaky_re_lu_69 (LeakyReLU)   (None, 16)                0         \n",
      "_________________________________________________________________\n",
      "dense_81 (Dense)             (None, 16)                272       \n",
      "_________________________________________________________________\n",
      "leaky_re_lu_70 (LeakyReLU)   (None, 16)                0         \n",
      "_________________________________________________________________\n",
      "dense_82 (Dense)             (None, 15)                255       \n",
      "=================================================================\n",
      "Total params: 1,823\n",
      "Trainable params: 1,823\n",
      "Non-trainable params: 0\n",
      "_________________________________________________________________\n",
      "Epoch 1/200\n"
     ]
    },
    {
     "name": "stderr",
     "output_type": "stream",
     "text": [
      "2023-11-23 04:06:55.017072: I tensorflow/tsl/profiler/lib/profiler_session.cc:104] Profiler session initializing.\n",
      "2023-11-23 04:06:55.017109: I tensorflow/tsl/profiler/lib/profiler_session.cc:119] Profiler session started.\n",
      "2023-11-23 04:06:55.017215: I tensorflow/tsl/profiler/lib/profiler_session.cc:131] Profiler session tear down.\n"
     ]
    },
    {
     "name": "stdout",
     "output_type": "stream",
     "text": [
      "528/528 [==============================] - 3s 5ms/step - loss: 2.3681 - accuracy: 0.1400 - val_loss: 2.3778 - val_accuracy: 0.1298\n",
      "\n",
      "Epoch 00001: val_accuracy improved from -inf to 0.12977, saving model to bestmodelv4.h5\n",
      "Epoch 2/200\n",
      "528/528 [==============================] - 2s 3ms/step - loss: 2.3673 - accuracy: 0.1372 - val_loss: 2.3775 - val_accuracy: 0.1314\n",
      "\n",
      "Epoch 00002: val_accuracy improved from 0.12977 to 0.13144, saving model to bestmodelv4.h5\n",
      "Epoch 3/200\n",
      "528/528 [==============================] - 1s 3ms/step - loss: 2.3661 - accuracy: 0.1392 - val_loss: 2.3778 - val_accuracy: 0.1349\n",
      "\n",
      "Epoch 00003: val_accuracy improved from 0.13144 to 0.13485, saving model to bestmodelv4.h5\n",
      "Epoch 4/200\n",
      "528/528 [==============================] - 1s 3ms/step - loss: 2.3654 - accuracy: 0.1398 - val_loss: 2.3777 - val_accuracy: 0.1316\n",
      "\n",
      "Epoch 00004: val_accuracy did not improve from 0.13485\n",
      "Epoch 5/200\n",
      "528/528 [==============================] - 1s 3ms/step - loss: 2.3650 - accuracy: 0.1398 - val_loss: 2.3731 - val_accuracy: 0.1383\n",
      "\n",
      "Epoch 00005: val_accuracy improved from 0.13485 to 0.13826, saving model to bestmodelv4.h5\n",
      "Epoch 6/200\n",
      "528/528 [==============================] - 2s 3ms/step - loss: 2.3646 - accuracy: 0.1397 - val_loss: 2.3762 - val_accuracy: 0.1349\n",
      "\n",
      "Epoch 00006: val_accuracy did not improve from 0.13826\n",
      "Epoch 7/200\n",
      "528/528 [==============================] - 2s 3ms/step - loss: 2.3633 - accuracy: 0.1409 - val_loss: 2.3738 - val_accuracy: 0.1367\n",
      "\n",
      "Epoch 00007: val_accuracy did not improve from 0.13826\n",
      "Epoch 8/200\n",
      "528/528 [==============================] - 2s 3ms/step - loss: 2.3636 - accuracy: 0.1400 - val_loss: 2.3745 - val_accuracy: 0.1358\n",
      "\n",
      "Epoch 00008: val_accuracy did not improve from 0.13826\n",
      "Epoch 9/200\n",
      "528/528 [==============================] - 1s 2ms/step - loss: 2.3627 - accuracy: 0.1401 - val_loss: 2.3729 - val_accuracy: 0.1367\n",
      "\n",
      "Epoch 00009: val_accuracy did not improve from 0.13826\n",
      "Epoch 10/200\n",
      "528/528 [==============================] - 2s 3ms/step - loss: 2.3619 - accuracy: 0.1406 - val_loss: 2.3753 - val_accuracy: 0.1388\n",
      "\n",
      "Epoch 00010: val_accuracy improved from 0.13826 to 0.13879, saving model to bestmodelv4.h5\n",
      "Epoch 11/200\n",
      "528/528 [==============================] - 1s 3ms/step - loss: 2.3608 - accuracy: 0.1414 - val_loss: 2.3727 - val_accuracy: 0.1364\n",
      "\n",
      "Epoch 00011: val_accuracy did not improve from 0.13879\n",
      "Epoch 12/200\n",
      "528/528 [==============================] - 2s 3ms/step - loss: 2.3615 - accuracy: 0.1406 - val_loss: 2.3762 - val_accuracy: 0.1312\n",
      "\n",
      "Epoch 00012: val_accuracy did not improve from 0.13879\n",
      "Epoch 13/200\n",
      "229/528 [============>.................] - ETA: 0s - loss: 2.3531 - accuracy: 0.1466"
     ]
    },
    {
     "ename": "KeyboardInterrupt",
     "evalue": "",
     "output_type": "error",
     "traceback": [
      "\u001B[0;31m---------------------------------------------------------------------------\u001B[0m",
      "\u001B[0;31mKeyboardInterrupt\u001B[0m                         Traceback (most recent call last)",
      "Cell \u001B[0;32mIn[214], line 13\u001B[0m\n\u001B[1;32m     10\u001B[0m tensorboard_callback \u001B[38;5;241m=\u001B[39m TensorBoard(log_dir\u001B[38;5;241m=\u001B[39m\u001B[38;5;124m'\u001B[39m\u001B[38;5;124m./logs\u001B[39m\u001B[38;5;124m'\u001B[39m, histogram_freq\u001B[38;5;241m=\u001B[39m\u001B[38;5;241m1\u001B[39m)\n\u001B[1;32m     12\u001B[0m \u001B[38;5;66;03m# Train the model\u001B[39;00m\n\u001B[0;32m---> 13\u001B[0m model\u001B[38;5;241m.\u001B[39mfit(\n\u001B[1;32m     14\u001B[0m     train_data, train_labels,\n\u001B[1;32m     15\u001B[0m     validation_data\u001B[38;5;241m=\u001B[39m(val_data, val_labels),\n\u001B[1;32m     16\u001B[0m     epochs\u001B[38;5;241m=\u001B[39m\u001B[38;5;241m200\u001B[39m,\n\u001B[1;32m     17\u001B[0m     batch_size\u001B[38;5;241m=\u001B[39m\u001B[38;5;241m100\u001B[39m,\n\u001B[1;32m     18\u001B[0m     callbacks\u001B[38;5;241m=\u001B[39m[checkpoint]\n\u001B[1;32m     19\u001B[0m )\n",
      "File \u001B[0;32m~/anaconda3/lib/python3.11/site-packages/tensorflow/python/keras/engine/training.py:1187\u001B[0m, in \u001B[0;36mModel.fit\u001B[0;34m(self, x, y, batch_size, epochs, verbose, callbacks, validation_split, validation_data, shuffle, class_weight, sample_weight, initial_epoch, steps_per_epoch, validation_steps, validation_batch_size, validation_freq, max_queue_size, workers, use_multiprocessing)\u001B[0m\n\u001B[1;32m   1180\u001B[0m \u001B[38;5;28;01mwith\u001B[39;00m trace\u001B[38;5;241m.\u001B[39mTrace(\n\u001B[1;32m   1181\u001B[0m     \u001B[38;5;124m'\u001B[39m\u001B[38;5;124mtrain\u001B[39m\u001B[38;5;124m'\u001B[39m,\n\u001B[1;32m   1182\u001B[0m     epoch_num\u001B[38;5;241m=\u001B[39mepoch,\n\u001B[1;32m   1183\u001B[0m     step_num\u001B[38;5;241m=\u001B[39mstep,\n\u001B[1;32m   1184\u001B[0m     batch_size\u001B[38;5;241m=\u001B[39mbatch_size,\n\u001B[1;32m   1185\u001B[0m     _r\u001B[38;5;241m=\u001B[39m\u001B[38;5;241m1\u001B[39m):\n\u001B[1;32m   1186\u001B[0m   callbacks\u001B[38;5;241m.\u001B[39mon_train_batch_begin(step)\n\u001B[0;32m-> 1187\u001B[0m   tmp_logs \u001B[38;5;241m=\u001B[39m \u001B[38;5;28mself\u001B[39m\u001B[38;5;241m.\u001B[39mtrain_function(iterator)\n\u001B[1;32m   1188\u001B[0m   \u001B[38;5;28;01mif\u001B[39;00m data_handler\u001B[38;5;241m.\u001B[39mshould_sync:\n\u001B[1;32m   1189\u001B[0m     context\u001B[38;5;241m.\u001B[39masync_wait()\n",
      "File \u001B[0;32m~/anaconda3/lib/python3.11/site-packages/tensorflow/python/util/traceback_utils.py:150\u001B[0m, in \u001B[0;36mfilter_traceback.<locals>.error_handler\u001B[0;34m(*args, **kwargs)\u001B[0m\n\u001B[1;32m    148\u001B[0m filtered_tb \u001B[38;5;241m=\u001B[39m \u001B[38;5;28;01mNone\u001B[39;00m\n\u001B[1;32m    149\u001B[0m \u001B[38;5;28;01mtry\u001B[39;00m:\n\u001B[0;32m--> 150\u001B[0m   \u001B[38;5;28;01mreturn\u001B[39;00m fn(\u001B[38;5;241m*\u001B[39margs, \u001B[38;5;241m*\u001B[39m\u001B[38;5;241m*\u001B[39mkwargs)\n\u001B[1;32m    151\u001B[0m \u001B[38;5;28;01mexcept\u001B[39;00m \u001B[38;5;167;01mException\u001B[39;00m \u001B[38;5;28;01mas\u001B[39;00m e:\n\u001B[1;32m    152\u001B[0m   filtered_tb \u001B[38;5;241m=\u001B[39m _process_traceback_frames(e\u001B[38;5;241m.\u001B[39m__traceback__)\n",
      "File \u001B[0;32m~/anaconda3/lib/python3.11/site-packages/tensorflow/python/eager/polymorphic_function/polymorphic_function.py:894\u001B[0m, in \u001B[0;36mFunction.__call__\u001B[0;34m(self, *args, **kwds)\u001B[0m\n\u001B[1;32m    891\u001B[0m compiler \u001B[38;5;241m=\u001B[39m \u001B[38;5;124m\"\u001B[39m\u001B[38;5;124mxla\u001B[39m\u001B[38;5;124m\"\u001B[39m \u001B[38;5;28;01mif\u001B[39;00m \u001B[38;5;28mself\u001B[39m\u001B[38;5;241m.\u001B[39m_jit_compile \u001B[38;5;28;01melse\u001B[39;00m \u001B[38;5;124m\"\u001B[39m\u001B[38;5;124mnonXla\u001B[39m\u001B[38;5;124m\"\u001B[39m\n\u001B[1;32m    893\u001B[0m \u001B[38;5;28;01mwith\u001B[39;00m OptionalXlaContext(\u001B[38;5;28mself\u001B[39m\u001B[38;5;241m.\u001B[39m_jit_compile):\n\u001B[0;32m--> 894\u001B[0m   result \u001B[38;5;241m=\u001B[39m \u001B[38;5;28mself\u001B[39m\u001B[38;5;241m.\u001B[39m_call(\u001B[38;5;241m*\u001B[39margs, \u001B[38;5;241m*\u001B[39m\u001B[38;5;241m*\u001B[39mkwds)\n\u001B[1;32m    896\u001B[0m new_tracing_count \u001B[38;5;241m=\u001B[39m \u001B[38;5;28mself\u001B[39m\u001B[38;5;241m.\u001B[39mexperimental_get_tracing_count()\n\u001B[1;32m    897\u001B[0m without_tracing \u001B[38;5;241m=\u001B[39m (tracing_count \u001B[38;5;241m==\u001B[39m new_tracing_count)\n",
      "File \u001B[0;32m~/anaconda3/lib/python3.11/site-packages/tensorflow/python/eager/polymorphic_function/polymorphic_function.py:933\u001B[0m, in \u001B[0;36mFunction._call\u001B[0;34m(self, *args, **kwds)\u001B[0m\n\u001B[1;32m    930\u001B[0m \u001B[38;5;28mself\u001B[39m\u001B[38;5;241m.\u001B[39m_lock\u001B[38;5;241m.\u001B[39mrelease()\n\u001B[1;32m    931\u001B[0m \u001B[38;5;66;03m# In this case we have not created variables on the first call. So we can\u001B[39;00m\n\u001B[1;32m    932\u001B[0m \u001B[38;5;66;03m# run the first trace but we should fail if variables are created.\u001B[39;00m\n\u001B[0;32m--> 933\u001B[0m results \u001B[38;5;241m=\u001B[39m \u001B[38;5;28mself\u001B[39m\u001B[38;5;241m.\u001B[39m_variable_creation_fn(\u001B[38;5;241m*\u001B[39margs, \u001B[38;5;241m*\u001B[39m\u001B[38;5;241m*\u001B[39mkwds)\n\u001B[1;32m    934\u001B[0m \u001B[38;5;28;01mif\u001B[39;00m \u001B[38;5;28mself\u001B[39m\u001B[38;5;241m.\u001B[39m_created_variables \u001B[38;5;129;01mand\u001B[39;00m \u001B[38;5;129;01mnot\u001B[39;00m ALLOW_DYNAMIC_VARIABLE_CREATION:\n\u001B[1;32m    935\u001B[0m   \u001B[38;5;28;01mraise\u001B[39;00m \u001B[38;5;167;01mValueError\u001B[39;00m(\u001B[38;5;124m\"\u001B[39m\u001B[38;5;124mCreating variables on a non-first call to a function\u001B[39m\u001B[38;5;124m\"\u001B[39m\n\u001B[1;32m    936\u001B[0m                    \u001B[38;5;124m\"\u001B[39m\u001B[38;5;124m decorated with tf.function.\u001B[39m\u001B[38;5;124m\"\u001B[39m)\n",
      "File \u001B[0;32m~/anaconda3/lib/python3.11/site-packages/tensorflow/python/eager/polymorphic_function/tracing_compiler.py:143\u001B[0m, in \u001B[0;36mTracingCompiler.__call__\u001B[0;34m(self, *args, **kwargs)\u001B[0m\n\u001B[1;32m    140\u001B[0m \u001B[38;5;28;01mwith\u001B[39;00m \u001B[38;5;28mself\u001B[39m\u001B[38;5;241m.\u001B[39m_lock:\n\u001B[1;32m    141\u001B[0m   (concrete_function,\n\u001B[1;32m    142\u001B[0m    filtered_flat_args) \u001B[38;5;241m=\u001B[39m \u001B[38;5;28mself\u001B[39m\u001B[38;5;241m.\u001B[39m_maybe_define_function(args, kwargs)\n\u001B[0;32m--> 143\u001B[0m \u001B[38;5;28;01mreturn\u001B[39;00m concrete_function\u001B[38;5;241m.\u001B[39m_call_flat(\n\u001B[1;32m    144\u001B[0m     filtered_flat_args, captured_inputs\u001B[38;5;241m=\u001B[39mconcrete_function\u001B[38;5;241m.\u001B[39mcaptured_inputs)\n",
      "File \u001B[0;32m~/anaconda3/lib/python3.11/site-packages/tensorflow/python/eager/polymorphic_function/monomorphic_function.py:1757\u001B[0m, in \u001B[0;36mConcreteFunction._call_flat\u001B[0;34m(self, args, captured_inputs, cancellation_manager)\u001B[0m\n\u001B[1;32m   1753\u001B[0m possible_gradient_type \u001B[38;5;241m=\u001B[39m gradients_util\u001B[38;5;241m.\u001B[39mPossibleTapeGradientTypes(args)\n\u001B[1;32m   1754\u001B[0m \u001B[38;5;28;01mif\u001B[39;00m (possible_gradient_type \u001B[38;5;241m==\u001B[39m gradients_util\u001B[38;5;241m.\u001B[39mPOSSIBLE_GRADIENT_TYPES_NONE\n\u001B[1;32m   1755\u001B[0m     \u001B[38;5;129;01mand\u001B[39;00m executing_eagerly):\n\u001B[1;32m   1756\u001B[0m   \u001B[38;5;66;03m# No tape is watching; skip to running the function.\u001B[39;00m\n\u001B[0;32m-> 1757\u001B[0m   \u001B[38;5;28;01mreturn\u001B[39;00m \u001B[38;5;28mself\u001B[39m\u001B[38;5;241m.\u001B[39m_build_call_outputs(\u001B[38;5;28mself\u001B[39m\u001B[38;5;241m.\u001B[39m_inference_function\u001B[38;5;241m.\u001B[39mcall(\n\u001B[1;32m   1758\u001B[0m       ctx, args, cancellation_manager\u001B[38;5;241m=\u001B[39mcancellation_manager))\n\u001B[1;32m   1759\u001B[0m forward_backward \u001B[38;5;241m=\u001B[39m \u001B[38;5;28mself\u001B[39m\u001B[38;5;241m.\u001B[39m_select_forward_and_backward_functions(\n\u001B[1;32m   1760\u001B[0m     args,\n\u001B[1;32m   1761\u001B[0m     possible_gradient_type,\n\u001B[1;32m   1762\u001B[0m     executing_eagerly)\n\u001B[1;32m   1763\u001B[0m forward_function, args_with_tangents \u001B[38;5;241m=\u001B[39m forward_backward\u001B[38;5;241m.\u001B[39mforward()\n",
      "File \u001B[0;32m~/anaconda3/lib/python3.11/site-packages/tensorflow/python/eager/polymorphic_function/monomorphic_function.py:381\u001B[0m, in \u001B[0;36m_EagerDefinedFunction.call\u001B[0;34m(self, ctx, args, cancellation_manager)\u001B[0m\n\u001B[1;32m    379\u001B[0m \u001B[38;5;28;01mwith\u001B[39;00m _InterpolateFunctionError(\u001B[38;5;28mself\u001B[39m):\n\u001B[1;32m    380\u001B[0m   \u001B[38;5;28;01mif\u001B[39;00m cancellation_manager \u001B[38;5;129;01mis\u001B[39;00m \u001B[38;5;28;01mNone\u001B[39;00m:\n\u001B[0;32m--> 381\u001B[0m     outputs \u001B[38;5;241m=\u001B[39m execute\u001B[38;5;241m.\u001B[39mexecute(\n\u001B[1;32m    382\u001B[0m         \u001B[38;5;28mstr\u001B[39m(\u001B[38;5;28mself\u001B[39m\u001B[38;5;241m.\u001B[39msignature\u001B[38;5;241m.\u001B[39mname),\n\u001B[1;32m    383\u001B[0m         num_outputs\u001B[38;5;241m=\u001B[39m\u001B[38;5;28mself\u001B[39m\u001B[38;5;241m.\u001B[39m_num_outputs,\n\u001B[1;32m    384\u001B[0m         inputs\u001B[38;5;241m=\u001B[39margs,\n\u001B[1;32m    385\u001B[0m         attrs\u001B[38;5;241m=\u001B[39mattrs,\n\u001B[1;32m    386\u001B[0m         ctx\u001B[38;5;241m=\u001B[39mctx)\n\u001B[1;32m    387\u001B[0m   \u001B[38;5;28;01melse\u001B[39;00m:\n\u001B[1;32m    388\u001B[0m     outputs \u001B[38;5;241m=\u001B[39m execute\u001B[38;5;241m.\u001B[39mexecute_with_cancellation(\n\u001B[1;32m    389\u001B[0m         \u001B[38;5;28mstr\u001B[39m(\u001B[38;5;28mself\u001B[39m\u001B[38;5;241m.\u001B[39msignature\u001B[38;5;241m.\u001B[39mname),\n\u001B[1;32m    390\u001B[0m         num_outputs\u001B[38;5;241m=\u001B[39m\u001B[38;5;28mself\u001B[39m\u001B[38;5;241m.\u001B[39m_num_outputs,\n\u001B[0;32m   (...)\u001B[0m\n\u001B[1;32m    393\u001B[0m         ctx\u001B[38;5;241m=\u001B[39mctx,\n\u001B[1;32m    394\u001B[0m         cancellation_manager\u001B[38;5;241m=\u001B[39mcancellation_manager)\n",
      "File \u001B[0;32m~/anaconda3/lib/python3.11/site-packages/tensorflow/python/eager/execute.py:52\u001B[0m, in \u001B[0;36mquick_execute\u001B[0;34m(op_name, num_outputs, inputs, attrs, ctx, name)\u001B[0m\n\u001B[1;32m     50\u001B[0m \u001B[38;5;28;01mtry\u001B[39;00m:\n\u001B[1;32m     51\u001B[0m   ctx\u001B[38;5;241m.\u001B[39mensure_initialized()\n\u001B[0;32m---> 52\u001B[0m   tensors \u001B[38;5;241m=\u001B[39m pywrap_tfe\u001B[38;5;241m.\u001B[39mTFE_Py_Execute(ctx\u001B[38;5;241m.\u001B[39m_handle, device_name, op_name,\n\u001B[1;32m     53\u001B[0m                                       inputs, attrs, num_outputs)\n\u001B[1;32m     54\u001B[0m \u001B[38;5;28;01mexcept\u001B[39;00m core\u001B[38;5;241m.\u001B[39m_NotOkStatusException \u001B[38;5;28;01mas\u001B[39;00m e:\n\u001B[1;32m     55\u001B[0m   \u001B[38;5;28;01mif\u001B[39;00m name \u001B[38;5;129;01mis\u001B[39;00m \u001B[38;5;129;01mnot\u001B[39;00m \u001B[38;5;28;01mNone\u001B[39;00m:\n",
      "\u001B[0;31mKeyboardInterrupt\u001B[0m: "
     ]
    }
   ],
   "source": [
    "model = load_model('bestmodelv5.h5')\n",
    "\n",
    "model.summary()\n",
    "\n",
    "# Callback to save the best model during training\n",
    "checkpoint = ModelCheckpoint('bestmodelv4.h5', verbose=1, monitor='val_accuracy', save_best_only=True,\n",
    "                             mode='auto')\n",
    "\n",
    "# Callback for TensorBoard\n",
    "tensorboard_callback = TensorBoard(log_dir='./logs', histogram_freq=1)\n",
    "\n",
    "# Train the model\n",
    "model.fit(\n",
    "    train_data, train_labels,\n",
    "    validation_data=(val_data, val_labels),\n",
    "    epochs=200,\n",
    "    batch_size=100,\n",
    "    callbacks=[checkpoint]\n",
    ")"
   ],
   "metadata": {
    "collapsed": false,
    "ExecuteTime": {
     "end_time": "2023-11-23T03:07:15.714449844Z",
     "start_time": "2023-11-23T03:06:54.883692419Z"
    }
   },
   "id": "4255d3528eb8b681"
  },
  {
   "cell_type": "code",
   "execution_count": 210,
   "outputs": [
    {
     "name": "stdout",
     "output_type": "stream",
     "text": [
      "Model: \"sequential_1\"\n",
      "_________________________________________________________________\n",
      "Layer (type)                 Output Shape              Param #   \n",
      "=================================================================\n",
      "dense (Dense)                (None, 64)                896       \n",
      "_________________________________________________________________\n",
      "leaky_re_lu (LeakyReLU)      (None, 64)                0         \n",
      "_________________________________________________________________\n",
      "dense_1 (Dense)              (None, 64)                4160      \n",
      "_________________________________________________________________\n",
      "leaky_re_lu_1 (LeakyReLU)    (None, 64)                0         \n",
      "_________________________________________________________________\n",
      "dense_2 (Dense)              (None, 64)                4160      \n",
      "_________________________________________________________________\n",
      "leaky_re_lu_2 (LeakyReLU)    (None, 64)                0         \n",
      "_________________________________________________________________\n",
      "dense_3 (Dense)              (None, 64)                4160      \n",
      "_________________________________________________________________\n",
      "leaky_re_lu_3 (LeakyReLU)    (None, 64)                0         \n",
      "_________________________________________________________________\n",
      "dense_4 (Dense)              (None, 32)                2080      \n",
      "_________________________________________________________________\n",
      "leaky_re_lu_4 (LeakyReLU)    (None, 32)                0         \n",
      "_________________________________________________________________\n",
      "dense_5 (Dense)              (None, 32)                1056      \n",
      "_________________________________________________________________\n",
      "leaky_re_lu_5 (LeakyReLU)    (None, 32)                0         \n",
      "_________________________________________________________________\n",
      "dense_6 (Dense)              (None, 32)                1056      \n",
      "_________________________________________________________________\n",
      "leaky_re_lu_6 (LeakyReLU)    (None, 32)                0         \n",
      "_________________________________________________________________\n",
      "dense_7 (Dense)              (None, 32)                1056      \n",
      "_________________________________________________________________\n",
      "leaky_re_lu_7 (LeakyReLU)    (None, 32)                0         \n",
      "_________________________________________________________________\n",
      "dense_8 (Dense)              (None, 32)                1056      \n",
      "_________________________________________________________________\n",
      "leaky_re_lu_8 (LeakyReLU)    (None, 32)                0         \n",
      "_________________________________________________________________\n",
      "dense_9 (Dense)              (None, 32)                1056      \n",
      "_________________________________________________________________\n",
      "leaky_re_lu_9 (LeakyReLU)    (None, 32)                0         \n",
      "_________________________________________________________________\n",
      "dense_10 (Dense)             (None, 32)                1056      \n",
      "_________________________________________________________________\n",
      "leaky_re_lu_10 (LeakyReLU)   (None, 32)                0         \n",
      "_________________________________________________________________\n",
      "dense_11 (Dense)             (None, 32)                1056      \n",
      "_________________________________________________________________\n",
      "leaky_re_lu_11 (LeakyReLU)   (None, 32)                0         \n",
      "_________________________________________________________________\n",
      "dense_12 (Dense)             (None, 32)                1056      \n",
      "_________________________________________________________________\n",
      "leaky_re_lu_12 (LeakyReLU)   (None, 32)                0         \n",
      "_________________________________________________________________\n",
      "dense_13 (Dense)             (None, 32)                1056      \n",
      "_________________________________________________________________\n",
      "leaky_re_lu_13 (LeakyReLU)   (None, 32)                0         \n",
      "_________________________________________________________________\n",
      "dense_14 (Dense)             (None, 15)                495       \n",
      "=================================================================\n",
      "Total params: 25,455\n",
      "Trainable params: 25,455\n",
      "Non-trainable params: 0\n",
      "_________________________________________________________________\n"
     ]
    }
   ],
   "source": [
    "model = load_model('bestmodelv2-0.31403.h5')\n",
    "\n",
    "model.summary()"
   ],
   "metadata": {
    "collapsed": false,
    "ExecuteTime": {
     "end_time": "2023-11-17T18:01:44.306742312Z",
     "start_time": "2023-11-17T18:01:44.151325720Z"
    }
   },
   "id": "654bb90f69f7fd95"
  },
  {
   "cell_type": "code",
   "execution_count": 208,
   "outputs": [
    {
     "data": {
      "text/plain": "[]"
     },
     "execution_count": 208,
     "metadata": {},
     "output_type": "execute_result"
    }
   ],
   "source": [
    "tf.config.list_physical_devices('GPU')"
   ],
   "metadata": {
    "collapsed": false,
    "ExecuteTime": {
     "end_time": "2023-11-17T18:01:03.027990815Z",
     "start_time": "2023-11-17T18:01:03.011367684Z"
    }
   },
   "id": "e9a15965541dbf24"
  },
  {
   "cell_type": "markdown",
   "source": [
    "## Tuneando el modelo\n",
    "\n",
    "Abajo son algunas herramientas que nos permiten evaluar cómo está progresando el moodelo"
   ],
   "metadata": {
    "collapsed": false
   },
   "id": "89deccc99cf470ce"
  },
  {
   "cell_type": "code",
   "execution_count": 78,
   "outputs": [
    {
     "name": "stdout",
     "output_type": "stream",
     "text": [
      "Model: \"sequential_5\"\n",
      "_________________________________________________________________\n",
      "Layer (type)                 Output Shape              Param #   \n",
      "=================================================================\n",
      "dense_36 (Dense)             (None, 32)                512       \n",
      "_________________________________________________________________\n",
      "leaky_re_lu_31 (LeakyReLU)   (None, 32)                0         \n",
      "_________________________________________________________________\n",
      "dense_37 (Dense)             (None, 32)                1056      \n",
      "_________________________________________________________________\n",
      "leaky_re_lu_32 (LeakyReLU)   (None, 32)                0         \n",
      "_________________________________________________________________\n",
      "dense_38 (Dense)             (None, 32)                1056      \n",
      "_________________________________________________________________\n",
      "leaky_re_lu_33 (LeakyReLU)   (None, 32)                0         \n",
      "_________________________________________________________________\n",
      "dense_39 (Dense)             (None, 32)                1056      \n",
      "_________________________________________________________________\n",
      "leaky_re_lu_34 (LeakyReLU)   (None, 32)                0         \n",
      "_________________________________________________________________\n",
      "dense_40 (Dense)             (None, 17)                561       \n",
      "=================================================================\n",
      "Total params: 4,241\n",
      "Trainable params: 4,241\n",
      "Non-trainable params: 0\n",
      "_________________________________________________________________\n"
     ]
    }
   ],
   "source": [
    "model = load_model('bestmodelv5.h5')\n",
    "model.summary()"
   ],
   "metadata": {
    "collapsed": false,
    "ExecuteTime": {
     "end_time": "2023-11-23T02:33:31.225750089Z",
     "start_time": "2023-11-23T02:33:31.122348775Z"
    }
   },
   "id": "b9d4eb1b60e22090"
  },
  {
   "cell_type": "code",
   "execution_count": 216,
   "outputs": [
    {
     "name": "stdout",
     "output_type": "stream",
     "text": [
      "              precision    recall  f1-score   support\n",
      "\n",
      "           0       0.12      0.08      0.09        93\n",
      "           1       0.07      0.04      0.05       126\n",
      "           2       0.00      0.00      0.00       111\n",
      "           3       0.00      0.00      0.00       500\n",
      "           4       0.14      0.03      0.05       974\n",
      "           5       0.16      0.37      0.22      1553\n",
      "           6       0.10      0.05      0.07      1514\n",
      "           7       0.00      0.00      0.00      1458\n",
      "           8       0.13      0.61      0.21      1565\n",
      "           9       0.10      0.01      0.02      1535\n",
      "          10       0.16      0.06      0.08      1291\n",
      "          11       0.11      0.02      0.03      1115\n",
      "          12       0.00      0.00      0.00       772\n",
      "          13       0.50      0.00      0.01       365\n",
      "          14       0.13      0.01      0.02       213\n",
      "\n",
      "    accuracy                           0.13     13185\n",
      "   macro avg       0.11      0.08      0.06     13185\n",
      "weighted avg       0.11      0.13      0.08     13185\n"
     ]
    },
    {
     "name": "stderr",
     "output_type": "stream",
     "text": [
      "/home/duo/anaconda3/lib/python3.11/site-packages/sklearn/metrics/_classification.py:1469: UndefinedMetricWarning: Precision and F-score are ill-defined and being set to 0.0 in labels with no predicted samples. Use `zero_division` parameter to control this behavior.\n",
      "  _warn_prf(average, modifier, msg_start, len(result))\n",
      "/home/duo/anaconda3/lib/python3.11/site-packages/sklearn/metrics/_classification.py:1469: UndefinedMetricWarning: Precision and F-score are ill-defined and being set to 0.0 in labels with no predicted samples. Use `zero_division` parameter to control this behavior.\n",
      "  _warn_prf(average, modifier, msg_start, len(result))\n",
      "/home/duo/anaconda3/lib/python3.11/site-packages/sklearn/metrics/_classification.py:1469: UndefinedMetricWarning: Precision and F-score are ill-defined and being set to 0.0 in labels with no predicted samples. Use `zero_division` parameter to control this behavior.\n",
      "  _warn_prf(average, modifier, msg_start, len(result))\n"
     ]
    }
   ],
   "source": [
    "y_val_pred = model.predict(val_data)\n",
    "y_val_pred_classes = np.argmax(y_val_pred, axis=1)\n",
    "y_val_true = np.argmax(val_labels, axis=1)\n",
    "\n",
    "print(classification_report(y_val_true, y_val_pred_classes))"
   ],
   "metadata": {
    "collapsed": false,
    "ExecuteTime": {
     "end_time": "2023-11-23T03:10:17.806001802Z",
     "start_time": "2023-11-23T03:10:16.380396137Z"
    }
   },
   "id": "5f5fb492a0dba11b"
  },
  {
   "cell_type": "code",
   "execution_count": 217,
   "outputs": [
    {
     "data": {
      "text/plain": "<Figure size 1000x800 with 2 Axes>",
      "image/png": "[encoded data removed]"
     },
     "metadata": {},
     "output_type": "display_data"
    }
   ],
   "source": [
    "cm = confusion_matrix(y_val_true, y_val_pred_classes)\n",
    "\n",
    "# Plotting the confusion matrix\n",
    "plt.figure(figsize=(10, 8))\n",
    "sns.heatmap(cm, annot=True, fmt=\"d\", cmap=\"Blues\")\n",
    "plt.title('Confusion Matrix')\n",
    "plt.ylabel('Actual Labels')\n",
    "plt.xlabel('Predicted Labels')\n",
    "\n",
    "# Adding tick labels for better readability\n",
    "classes = [5, 7.5, 12, 16, 19, 22.5, 27, 32, 37, 42, 47, 52, 57, 62, 67, 72, 74]  # Replace with your actual class names\n",
    "plt.xticks(ticks=np.arange(len(classes)) + 0.5, labels=classes, rotation=90)\n",
    "plt.yticks(ticks=np.arange(len(classes)) + 0.5, labels=classes, rotation=0)\n",
    "\n",
    "plt.show()\n"
   ],
   "metadata": {
    "collapsed": false,
    "ExecuteTime": {
     "end_time": "2023-11-23T03:10:22.736977528Z",
     "start_time": "2023-11-23T03:10:22.027713577Z"
    }
   },
   "id": "35c5c69daccb0324"
  }
 ],
 "metadata": {
  "kernelspec": {
   "display_name": "Python 3",
   "language": "python",
   "name": "python3"
  },
  "language_info": {
   "codemirror_mode": {
    "name": "ipython",
    "version": 2
   },
   "file_extension": ".py",
   "mimetype": "text/x-python",
   "name": "python",
   "nbconvert_exporter": "python",
   "pygments_lexer": "ipython2",
   "version": "2.7.6"
  }
 },
 "nbformat": 4,
 "nbformat_minor": 5
}
