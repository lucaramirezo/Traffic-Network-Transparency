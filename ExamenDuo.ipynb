{
 "cells": [
  {
   "cell_type": "code",
   "execution_count": 33,
   "id": "initial_id",
   "metadata": {
    "collapsed": true,
    "ExecuteTime": {
     "end_time": "2024-01-18T14:49:19.263067784Z",
     "start_time": "2024-01-18T14:49:18.984266400Z"
    }
   },
   "outputs": [
    {
     "name": "stderr",
     "output_type": "stream",
     "text": [
      "/tmp/ipykernel_26026/3208406358.py:5: DtypeWarning: Columns (15,16) have mixed types. Specify dtype option on import or set low_memory=False.\n",
      "  df = pd.read_csv('./Datasets/Data_Combinada.csv')\n"
     ]
    }
   ],
   "source": [
    "import pandas as pd\n",
    "import numpy as np\n",
    "import matplotlib.pyplot as plt\n",
    "\n",
    "df = pd.read_csv('./Datasets/Data_Combinada.csv')"
   ]
  },
  {
   "cell_type": "code",
   "outputs": [
    {
     "data": {
      "text/plain": "  num_expediente       fecha     hora  \\\n0    2022S000001  01/01/2022  1:30:00   \n1    2022S000001  01/01/2022  1:30:00   \n2    2022S000002  01/01/2022  0:30:00   \n3    2022S000002  01/01/2022  0:30:00   \n4    2022S000002  01/01/2022  0:30:00   \n5    2022S000003  01/01/2022  1:50:00   \n6    2022S000003  01/01/2022  1:50:00   \n7    2022S000004  01/01/2022  3:40:00   \n8    2022S000004  01/01/2022  3:40:00   \n9    2022S000005  01/01/2022  4:30:00   \n\n                                 localizacion   numero  cod_distrito  \\\n0                          AVDA. ALBUFERA, 19       19          13.0   \n1                          AVDA. ALBUFERA, 19       19          13.0   \n2  PLAZA. CANOVAS DEL CASTILLO / PASEO. PRADO        2           3.0   \n3  PLAZA. CANOVAS DEL CASTILLO / PASEO. PRADO        2           3.0   \n4  PLAZA. CANOVAS DEL CASTILLO / PASEO. PRADO        2           3.0   \n5                      CALL. SAN BERNARDO, 53       53           1.0   \n6                      CALL. SAN BERNARDO, 53       53           1.0   \n7            CALL. ALCALA / PLAZA. EISENHOWER      728          20.0   \n8            CALL. ALCALA / PLAZA. EISENHOWER      728          20.0   \n9                        AUTOV. A-42, +00500E  +00500E          12.0   \n\n              distrito                tipo_accidente estado_meteorológico  \\\n0   PUENTE DE VALLECAS                       Alcance            Despejado   \n1   PUENTE DE VALLECAS                       Alcance            Despejado   \n2               RETIRO       Colisión fronto-lateral                  NaN   \n3               RETIRO       Colisión fronto-lateral                  NaN   \n4               RETIRO       Colisión fronto-lateral                  NaN   \n5               CENTRO           Atropello a persona            Despejado   \n6               CENTRO           Atropello a persona            Despejado   \n7  SAN BLAS-CANILLEJAS  Choque contra obstáculo fijo            Despejado   \n8  SAN BLAS-CANILLEJAS  Choque contra obstáculo fijo            Despejado   \n9                USERA  Choque contra obstáculo fijo            Despejado   \n\n             tipo_vehiculo  ...       rango_edad sexo cod_lesividad  \\\n0                  Turismo  ...  De 30 a 34 años    M           NaN   \n1                  Turismo  ...  De 45 a 49 años    H           NaN   \n2  Motocicleta hasta 125cc  ...  De 30 a 34 años    H           NaN   \n3  Motocicleta hasta 125cc  ...  De 35 a 39 años    M           NaN   \n4                  Turismo  ...  De 40 a 44 años    H           NaN   \n5      Motocicleta > 125cc  ...      Desconocido    H           NaN   \n6      Motocicleta > 125cc  ...  De 18 a 20 años    M           7.0   \n7                  Turismo  ...  De 50 a 54 años    H           2.0   \n8                  Turismo  ...  De 55 a 59 años    M           3.0   \n9                  Turismo  ...  De 45 a 49 años    H           NaN   \n\n                                           lesividad coordenada_x_utm  \\\n0                                                NaN       443359,226   \n1                                                NaN       443359,226   \n2                                                NaN       441155,351   \n3                                                NaN       441155,351   \n4                                                NaN       441155,351   \n5                                                NaN       439995,351   \n6  Asistencia sanitaria sólo en el lugar del acci...       439995,351   \n7                Ingreso inferior o igual a 24 horas       449693,925   \n8                        Ingreso superior a 24 horas       449693,925   \n9                                                NaN       438952,303   \n\n  coordenada_y_utm positiva_alcohol  positiva_droga  numero_pasajeros  fugado  \n0      4472082,272              0.0             0.0                 2      No  \n1      4472082,272              0.0             0.0                 2      No  \n2      4474129,588              1.0             0.0                 3      No  \n3      4474129,588              0.0             0.0                 3      No  \n4      4474129,588              0.0             0.0                 3      No  \n5      4475212,523              0.0             0.0                 2      No  \n6      4475212,523              0.0             0.0                 2      No  \n7      4477837,552              0.0             0.0                 2      No  \n8      4477837,552              0.0             0.0                 2      No  \n9      4469985,021              1.0             0.0                 2      No  \n\n[10 rows x 21 columns]",
      "text/html": "<div>\n<style scoped>\n    .dataframe tbody tr th:only-of-type {\n        vertical-align: middle;\n    }\n\n    .dataframe tbody tr th {\n        vertical-align: top;\n    }\n\n    .dataframe thead th {\n        text-align: right;\n    }\n</style>\n<table border=\"1\" class=\"dataframe\">\n  <thead>\n    <tr style=\"text-align: right;\">\n      <th></th>\n      <th>num_expediente</th>\n      <th>fecha</th>\n      <th>hora</th>\n      <th>localizacion</th>\n      <th>numero</th>\n      <th>cod_distrito</th>\n      <th>distrito</th>\n      <th>tipo_accidente</th>\n      <th>estado_meteorológico</th>\n      <th>tipo_vehiculo</th>\n      <th>...</th>\n      <th>rango_edad</th>\n      <th>sexo</th>\n      <th>cod_lesividad</th>\n      <th>lesividad</th>\n      <th>coordenada_x_utm</th>\n      <th>coordenada_y_utm</th>\n      <th>positiva_alcohol</th>\n      <th>positiva_droga</th>\n      <th>numero_pasajeros</th>\n      <th>fugado</th>\n    </tr>\n  </thead>\n  <tbody>\n    <tr>\n      <th>0</th>\n      <td>2022S000001</td>\n      <td>01/01/2022</td>\n      <td>1:30:00</td>\n      <td>AVDA. ALBUFERA, 19</td>\n      <td>19</td>\n      <td>13.0</td>\n      <td>PUENTE DE VALLECAS</td>\n      <td>Alcance</td>\n      <td>Despejado</td>\n      <td>Turismo</td>\n      <td>...</td>\n      <td>De 30 a 34 años</td>\n      <td>M</td>\n      <td>NaN</td>\n      <td>NaN</td>\n      <td>443359,226</td>\n      <td>4472082,272</td>\n      <td>0.0</td>\n      <td>0.0</td>\n      <td>2</td>\n      <td>No</td>\n    </tr>\n    <tr>\n      <th>1</th>\n      <td>2022S000001</td>\n      <td>01/01/2022</td>\n      <td>1:30:00</td>\n      <td>AVDA. ALBUFERA, 19</td>\n      <td>19</td>\n      <td>13.0</td>\n      <td>PUENTE DE VALLECAS</td>\n      <td>Alcance</td>\n      <td>Despejado</td>\n      <td>Turismo</td>\n      <td>...</td>\n      <td>De 45 a 49 años</td>\n      <td>H</td>\n      <td>NaN</td>\n      <td>NaN</td>\n      <td>443359,226</td>\n      <td>4472082,272</td>\n      <td>0.0</td>\n      <td>0.0</td>\n      <td>2</td>\n      <td>No</td>\n    </tr>\n    <tr>\n      <th>2</th>\n      <td>2022S000002</td>\n      <td>01/01/2022</td>\n      <td>0:30:00</td>\n      <td>PLAZA. CANOVAS DEL CASTILLO / PASEO. PRADO</td>\n      <td>2</td>\n      <td>3.0</td>\n      <td>RETIRO</td>\n      <td>Colisión fronto-lateral</td>\n      <td>NaN</td>\n      <td>Motocicleta hasta 125cc</td>\n      <td>...</td>\n      <td>De 30 a 34 años</td>\n      <td>H</td>\n      <td>NaN</td>\n      <td>NaN</td>\n      <td>441155,351</td>\n      <td>4474129,588</td>\n      <td>1.0</td>\n      <td>0.0</td>\n      <td>3</td>\n      <td>No</td>\n    </tr>\n    <tr>\n      <th>3</th>\n      <td>2022S000002</td>\n      <td>01/01/2022</td>\n      <td>0:30:00</td>\n      <td>PLAZA. CANOVAS DEL CASTILLO / PASEO. PRADO</td>\n      <td>2</td>\n      <td>3.0</td>\n      <td>RETIRO</td>\n      <td>Colisión fronto-lateral</td>\n      <td>NaN</td>\n      <td>Motocicleta hasta 125cc</td>\n      <td>...</td>\n      <td>De 35 a 39 años</td>\n      <td>M</td>\n      <td>NaN</td>\n      <td>NaN</td>\n      <td>441155,351</td>\n      <td>4474129,588</td>\n      <td>0.0</td>\n      <td>0.0</td>\n      <td>3</td>\n      <td>No</td>\n    </tr>\n    <tr>\n      <th>4</th>\n      <td>2022S000002</td>\n      <td>01/01/2022</td>\n      <td>0:30:00</td>\n      <td>PLAZA. CANOVAS DEL CASTILLO / PASEO. PRADO</td>\n      <td>2</td>\n      <td>3.0</td>\n      <td>RETIRO</td>\n      <td>Colisión fronto-lateral</td>\n      <td>NaN</td>\n      <td>Turismo</td>\n      <td>...</td>\n      <td>De 40 a 44 años</td>\n      <td>H</td>\n      <td>NaN</td>\n      <td>NaN</td>\n      <td>441155,351</td>\n      <td>4474129,588</td>\n      <td>0.0</td>\n      <td>0.0</td>\n      <td>3</td>\n      <td>No</td>\n    </tr>\n    <tr>\n      <th>5</th>\n      <td>2022S000003</td>\n      <td>01/01/2022</td>\n      <td>1:50:00</td>\n      <td>CALL. SAN BERNARDO, 53</td>\n      <td>53</td>\n      <td>1.0</td>\n      <td>CENTRO</td>\n      <td>Atropello a persona</td>\n      <td>Despejado</td>\n      <td>Motocicleta &gt; 125cc</td>\n      <td>...</td>\n      <td>Desconocido</td>\n      <td>H</td>\n      <td>NaN</td>\n      <td>NaN</td>\n      <td>439995,351</td>\n      <td>4475212,523</td>\n      <td>0.0</td>\n      <td>0.0</td>\n      <td>2</td>\n      <td>No</td>\n    </tr>\n    <tr>\n      <th>6</th>\n      <td>2022S000003</td>\n      <td>01/01/2022</td>\n      <td>1:50:00</td>\n      <td>CALL. SAN BERNARDO, 53</td>\n      <td>53</td>\n      <td>1.0</td>\n      <td>CENTRO</td>\n      <td>Atropello a persona</td>\n      <td>Despejado</td>\n      <td>Motocicleta &gt; 125cc</td>\n      <td>...</td>\n      <td>De 18 a 20 años</td>\n      <td>M</td>\n      <td>7.0</td>\n      <td>Asistencia sanitaria sólo en el lugar del acci...</td>\n      <td>439995,351</td>\n      <td>4475212,523</td>\n      <td>0.0</td>\n      <td>0.0</td>\n      <td>2</td>\n      <td>No</td>\n    </tr>\n    <tr>\n      <th>7</th>\n      <td>2022S000004</td>\n      <td>01/01/2022</td>\n      <td>3:40:00</td>\n      <td>CALL. ALCALA / PLAZA. EISENHOWER</td>\n      <td>728</td>\n      <td>20.0</td>\n      <td>SAN BLAS-CANILLEJAS</td>\n      <td>Choque contra obstáculo fijo</td>\n      <td>Despejado</td>\n      <td>Turismo</td>\n      <td>...</td>\n      <td>De 50 a 54 años</td>\n      <td>H</td>\n      <td>2.0</td>\n      <td>Ingreso inferior o igual a 24 horas</td>\n      <td>449693,925</td>\n      <td>4477837,552</td>\n      <td>0.0</td>\n      <td>0.0</td>\n      <td>2</td>\n      <td>No</td>\n    </tr>\n    <tr>\n      <th>8</th>\n      <td>2022S000004</td>\n      <td>01/01/2022</td>\n      <td>3:40:00</td>\n      <td>CALL. ALCALA / PLAZA. EISENHOWER</td>\n      <td>728</td>\n      <td>20.0</td>\n      <td>SAN BLAS-CANILLEJAS</td>\n      <td>Choque contra obstáculo fijo</td>\n      <td>Despejado</td>\n      <td>Turismo</td>\n      <td>...</td>\n      <td>De 55 a 59 años</td>\n      <td>M</td>\n      <td>3.0</td>\n      <td>Ingreso superior a 24 horas</td>\n      <td>449693,925</td>\n      <td>4477837,552</td>\n      <td>0.0</td>\n      <td>0.0</td>\n      <td>2</td>\n      <td>No</td>\n    </tr>\n    <tr>\n      <th>9</th>\n      <td>2022S000005</td>\n      <td>01/01/2022</td>\n      <td>4:30:00</td>\n      <td>AUTOV. A-42, +00500E</td>\n      <td>+00500E</td>\n      <td>12.0</td>\n      <td>USERA</td>\n      <td>Choque contra obstáculo fijo</td>\n      <td>Despejado</td>\n      <td>Turismo</td>\n      <td>...</td>\n      <td>De 45 a 49 años</td>\n      <td>H</td>\n      <td>NaN</td>\n      <td>NaN</td>\n      <td>438952,303</td>\n      <td>4469985,021</td>\n      <td>1.0</td>\n      <td>0.0</td>\n      <td>2</td>\n      <td>No</td>\n    </tr>\n  </tbody>\n</table>\n<p>10 rows × 21 columns</p>\n</div>"
     },
     "execution_count": 34,
     "metadata": {},
     "output_type": "execute_result"
    }
   ],
   "source": [
    "df.head(10)"
   ],
   "metadata": {
    "collapsed": false,
    "ExecuteTime": {
     "end_time": "2024-01-18T14:49:19.264838628Z",
     "start_time": "2024-01-18T14:49:19.260000294Z"
    }
   },
   "id": "80fe8b85347d960c",
   "execution_count": 34
  },
  {
   "cell_type": "markdown",
   "source": [
    "Procedemos a separar norte de sur"
   ],
   "metadata": {
    "collapsed": false
   },
   "id": "6fd606168a6b2861"
  },
  {
   "cell_type": "code",
   "outputs": [
    {
     "data": {
      "text/plain": "0              ARGANZUELA\n1                 BARAJAS\n2             CARABANCHEL\n3                  CENTRO\n4               CHAMARTÍN\n5                CHAMBERÍ\n6           CIUDAD LINEAL\n7     FUENCARRAL-EL PARDO\n8               HORTALEZA\n9                  LATINA\n10        MONCLOA-ARAVACA\n11              MORATALAZ\n12     PUENTE DE VALLECAS\n13                 RETIRO\n14              SALAMANCA\n15    SAN BLAS-CANILLEJAS\n16                 TETUÁN\n17                  USERA\n18              VICÁLVARO\n19      VILLA DE VALLECAS\n20             VILLAVERDE\nName: distrito, dtype: object"
     },
     "execution_count": 35,
     "metadata": {},
     "output_type": "execute_result"
    }
   ],
   "source": [
    "unique_districts = df.groupby('distrito').count().reset_index()\n",
    "unique_districts['distrito']"
   ],
   "metadata": {
    "collapsed": false,
    "ExecuteTime": {
     "end_time": "2024-01-18T14:49:19.319924235Z",
     "start_time": "2024-01-18T14:49:19.260390996Z"
    }
   },
   "id": "98f56080c5cf2290",
   "execution_count": 35
  },
  {
   "cell_type": "code",
   "outputs": [],
   "source": [
    "distritos_norte = pd.DataFrame()\n",
    "distritos_norte['distrito'] = ['FUENCARRAL-EL PARDO', 'MONCLOA-ARAVACA', 'TETUÁN', 'CHAMARTÍN', 'HORTALEZA',\n",
    "                               'CIUDAD LINEAL', 'BARAJAS', 'CHAMBERÍ', 'SALAMANCA', 'SAN BLAS-CANILLEJAS']"
   ],
   "metadata": {
    "collapsed": false,
    "ExecuteTime": {
     "end_time": "2024-01-18T14:49:19.320300785Z",
     "start_time": "2024-01-18T14:49:19.301523996Z"
    }
   },
   "id": "98dc505e1088ec42",
   "execution_count": 36
  },
  {
   "cell_type": "code",
   "outputs": [],
   "source": [
    "distritos_sur = pd.DataFrame()\n",
    "distritos_sur['distrito'] = ['CENTRO', 'RETIRO', 'MORATALAZ', 'VICÁLVARO', 'LATINA', 'CARABANCHEL', 'USERA',\n",
    "                             'VILLA DE VALLECAS', 'VILLAVERDE', 'ARGANZUELA', 'PUENTE DE VALLECAS']"
   ],
   "metadata": {
    "collapsed": false,
    "ExecuteTime": {
     "end_time": "2024-01-18T14:51:13.944174049Z",
     "start_time": "2024-01-18T14:51:13.899337652Z"
    }
   },
   "id": "2ca066aa96bcddb4",
   "execution_count": 40
  },
  {
   "cell_type": "code",
   "outputs": [
    {
     "data": {
      "text/plain": "              distrito\n0  FUENCARRAL-EL PARDO\n1      MONCLOA-ARAVACA\n2               TETUÁN\n3            CHAMARTÍN\n4            HORTALEZA\n5        CIUDAD LINEAL\n6              BARAJAS\n7             CHAMBERÍ\n8            SALAMANCA\n9  SAN BLAS-CANILLEJAS",
      "text/html": "<div>\n<style scoped>\n    .dataframe tbody tr th:only-of-type {\n        vertical-align: middle;\n    }\n\n    .dataframe tbody tr th {\n        vertical-align: top;\n    }\n\n    .dataframe thead th {\n        text-align: right;\n    }\n</style>\n<table border=\"1\" class=\"dataframe\">\n  <thead>\n    <tr style=\"text-align: right;\">\n      <th></th>\n      <th>distrito</th>\n    </tr>\n  </thead>\n  <tbody>\n    <tr>\n      <th>0</th>\n      <td>FUENCARRAL-EL PARDO</td>\n    </tr>\n    <tr>\n      <th>1</th>\n      <td>MONCLOA-ARAVACA</td>\n    </tr>\n    <tr>\n      <th>2</th>\n      <td>TETUÁN</td>\n    </tr>\n    <tr>\n      <th>3</th>\n      <td>CHAMARTÍN</td>\n    </tr>\n    <tr>\n      <th>4</th>\n      <td>HORTALEZA</td>\n    </tr>\n    <tr>\n      <th>5</th>\n      <td>CIUDAD LINEAL</td>\n    </tr>\n    <tr>\n      <th>6</th>\n      <td>BARAJAS</td>\n    </tr>\n    <tr>\n      <th>7</th>\n      <td>CHAMBERÍ</td>\n    </tr>\n    <tr>\n      <th>8</th>\n      <td>SALAMANCA</td>\n    </tr>\n    <tr>\n      <th>9</th>\n      <td>SAN BLAS-CANILLEJAS</td>\n    </tr>\n  </tbody>\n</table>\n</div>"
     },
     "execution_count": 41,
     "metadata": {},
     "output_type": "execute_result"
    }
   ],
   "source": [
    "distritos_norte"
   ],
   "metadata": {
    "collapsed": false,
    "ExecuteTime": {
     "end_time": "2024-01-18T14:51:17.028477034Z",
     "start_time": "2024-01-18T14:51:16.984857129Z"
    }
   },
   "id": "bba7ce6f7683135",
   "execution_count": 41
  },
  {
   "cell_type": "code",
   "outputs": [
    {
     "data": {
      "text/plain": "              distrito\n0               CENTRO\n1               RETIRO\n2            MORATALAZ\n3            VICÁLVARO\n4               LATINA\n5          CARABANCHEL\n6                USERA\n7    VILLA DE VALLECAS\n8           VILLAVERDE\n9           ARGANZUELA\n10  PUENTE DE VALLECAS",
      "text/html": "<div>\n<style scoped>\n    .dataframe tbody tr th:only-of-type {\n        vertical-align: middle;\n    }\n\n    .dataframe tbody tr th {\n        vertical-align: top;\n    }\n\n    .dataframe thead th {\n        text-align: right;\n    }\n</style>\n<table border=\"1\" class=\"dataframe\">\n  <thead>\n    <tr style=\"text-align: right;\">\n      <th></th>\n      <th>distrito</th>\n    </tr>\n  </thead>\n  <tbody>\n    <tr>\n      <th>0</th>\n      <td>CENTRO</td>\n    </tr>\n    <tr>\n      <th>1</th>\n      <td>RETIRO</td>\n    </tr>\n    <tr>\n      <th>2</th>\n      <td>MORATALAZ</td>\n    </tr>\n    <tr>\n      <th>3</th>\n      <td>VICÁLVARO</td>\n    </tr>\n    <tr>\n      <th>4</th>\n      <td>LATINA</td>\n    </tr>\n    <tr>\n      <th>5</th>\n      <td>CARABANCHEL</td>\n    </tr>\n    <tr>\n      <th>6</th>\n      <td>USERA</td>\n    </tr>\n    <tr>\n      <th>7</th>\n      <td>VILLA DE VALLECAS</td>\n    </tr>\n    <tr>\n      <th>8</th>\n      <td>VILLAVERDE</td>\n    </tr>\n    <tr>\n      <th>9</th>\n      <td>ARGANZUELA</td>\n    </tr>\n    <tr>\n      <th>10</th>\n      <td>PUENTE DE VALLECAS</td>\n    </tr>\n  </tbody>\n</table>\n</div>"
     },
     "execution_count": 42,
     "metadata": {},
     "output_type": "execute_result"
    }
   ],
   "source": [
    "distritos_sur"
   ],
   "metadata": {
    "collapsed": false,
    "ExecuteTime": {
     "end_time": "2024-01-18T14:51:19.144180121Z",
     "start_time": "2024-01-18T14:51:19.139280414Z"
    }
   },
   "id": "ee3e7047d29bca4d",
   "execution_count": 42
  },
  {
   "cell_type": "code",
   "outputs": [],
   "source": [
    "df_norte = df[df['distrito'].isin(distritos_norte['distrito'])].copy()\n",
    "df_sur = df[df['distrito'].isin(distritos_sur['distrito'])].copy()"
   ],
   "metadata": {
    "collapsed": false,
    "ExecuteTime": {
     "end_time": "2024-01-18T15:06:28.791481276Z",
     "start_time": "2024-01-18T15:06:28.767077600Z"
    }
   },
   "id": "502ecf1671a8d5c",
   "execution_count": 79
  },
  {
   "cell_type": "markdown",
   "source": [
    "Procedemos a contar el número de accidentes. Para ello no necesitamos la información del lugar ya que está demasiado granulado para lo que queremos hacer"
   ],
   "metadata": {
    "collapsed": false
   },
   "id": "fde24544f8e8ad37"
  },
  {
   "cell_type": "code",
   "outputs": [],
   "source": [
    "df_norte.drop(\n",
    "    columns=['localizacion', 'coordenada_y_utm', 'coordenada_x_utm', 'cod_distrito', 'lesividad', 'tipo_vehiculo',\n",
    "             'tipo_persona', 'tipo_vehiculo', 'fugado', 'estado_meteorológico', 'numero_pasajeros', 'rango_edad',\n",
    "             'numero', 'sexo', 'cod_lesividad', 'tipo_accidente', 'hora'], inplace=True)\n",
    "df_sur.drop(\n",
    "    columns=['localizacion', 'coordenada_y_utm', 'coordenada_x_utm', 'cod_distrito', 'lesividad', 'tipo_vehiculo',\n",
    "             'tipo_persona', 'tipo_vehiculo', 'fugado', 'estado_meteorológico', 'numero_pasajeros', 'rango_edad',\n",
    "             'numero', 'sexo', 'cod_lesividad', 'tipo_accidente', 'hora'], inplace=True)"
   ],
   "metadata": {
    "collapsed": false,
    "ExecuteTime": {
     "end_time": "2024-01-18T15:06:30.143912378Z",
     "start_time": "2024-01-18T15:06:30.134159694Z"
    }
   },
   "id": "166044bc0c803a86",
   "execution_count": 80
  },
  {
   "cell_type": "code",
   "outputs": [
    {
     "data": {
      "text/plain": "      num_expediente       fecha      hora             distrito  \\\n7        2022S000004  01/01/2022   3:40:00  SAN BLAS-CANILLEJAS   \n8        2022S000004  01/01/2022   3:40:00  SAN BLAS-CANILLEJAS   \n11       2022S000006  01/01/2022   5:15:00             CHAMBERÍ   \n12       2022S000006  01/01/2022   5:15:00             CHAMBERÍ   \n14       2022S000009  01/01/2022   5:20:00  SAN BLAS-CANILLEJAS   \n...              ...         ...       ...                  ...   \n74954    2023S028337  31/08/2023  23:20:00            HORTALEZA   \n74955    2023S028337  31/08/2023  23:20:00            HORTALEZA   \n74956    2023S028337  31/08/2023  23:20:00            HORTALEZA   \n74959    2023S028352  31/08/2023  14:40:00            CHAMARTÍN   \n74960    2023S029136  02/08/2023  22:10:00  FUENCARRAL-EL PARDO   \n\n       positiva_alcohol  positiva_droga  \n7                   0.0             0.0  \n8                   0.0             0.0  \n11                  0.0             0.0  \n12                  0.0             0.0  \n14                  0.0             0.0  \n...                 ...             ...  \n74954               0.0             0.0  \n74955               0.0             0.0  \n74956               0.0             0.0  \n74959               0.0             0.0  \n74960               0.0             0.0  \n\n[38197 rows x 6 columns]",
      "text/html": "<div>\n<style scoped>\n    .dataframe tbody tr th:only-of-type {\n        vertical-align: middle;\n    }\n\n    .dataframe tbody tr th {\n        vertical-align: top;\n    }\n\n    .dataframe thead th {\n        text-align: right;\n    }\n</style>\n<table border=\"1\" class=\"dataframe\">\n  <thead>\n    <tr style=\"text-align: right;\">\n      <th></th>\n      <th>num_expediente</th>\n      <th>fecha</th>\n      <th>hora</th>\n      <th>distrito</th>\n      <th>positiva_alcohol</th>\n      <th>positiva_droga</th>\n    </tr>\n  </thead>\n  <tbody>\n    <tr>\n      <th>7</th>\n      <td>2022S000004</td>\n      <td>01/01/2022</td>\n      <td>3:40:00</td>\n      <td>SAN BLAS-CANILLEJAS</td>\n      <td>0.0</td>\n      <td>0.0</td>\n    </tr>\n    <tr>\n      <th>8</th>\n      <td>2022S000004</td>\n      <td>01/01/2022</td>\n      <td>3:40:00</td>\n      <td>SAN BLAS-CANILLEJAS</td>\n      <td>0.0</td>\n      <td>0.0</td>\n    </tr>\n    <tr>\n      <th>11</th>\n      <td>2022S000006</td>\n      <td>01/01/2022</td>\n      <td>5:15:00</td>\n      <td>CHAMBERÍ</td>\n      <td>0.0</td>\n      <td>0.0</td>\n    </tr>\n    <tr>\n      <th>12</th>\n      <td>2022S000006</td>\n      <td>01/01/2022</td>\n      <td>5:15:00</td>\n      <td>CHAMBERÍ</td>\n      <td>0.0</td>\n      <td>0.0</td>\n    </tr>\n    <tr>\n      <th>14</th>\n      <td>2022S000009</td>\n      <td>01/01/2022</td>\n      <td>5:20:00</td>\n      <td>SAN BLAS-CANILLEJAS</td>\n      <td>0.0</td>\n      <td>0.0</td>\n    </tr>\n    <tr>\n      <th>...</th>\n      <td>...</td>\n      <td>...</td>\n      <td>...</td>\n      <td>...</td>\n      <td>...</td>\n      <td>...</td>\n    </tr>\n    <tr>\n      <th>74954</th>\n      <td>2023S028337</td>\n      <td>31/08/2023</td>\n      <td>23:20:00</td>\n      <td>HORTALEZA</td>\n      <td>0.0</td>\n      <td>0.0</td>\n    </tr>\n    <tr>\n      <th>74955</th>\n      <td>2023S028337</td>\n      <td>31/08/2023</td>\n      <td>23:20:00</td>\n      <td>HORTALEZA</td>\n      <td>0.0</td>\n      <td>0.0</td>\n    </tr>\n    <tr>\n      <th>74956</th>\n      <td>2023S028337</td>\n      <td>31/08/2023</td>\n      <td>23:20:00</td>\n      <td>HORTALEZA</td>\n      <td>0.0</td>\n      <td>0.0</td>\n    </tr>\n    <tr>\n      <th>74959</th>\n      <td>2023S028352</td>\n      <td>31/08/2023</td>\n      <td>14:40:00</td>\n      <td>CHAMARTÍN</td>\n      <td>0.0</td>\n      <td>0.0</td>\n    </tr>\n    <tr>\n      <th>74960</th>\n      <td>2023S029136</td>\n      <td>02/08/2023</td>\n      <td>22:10:00</td>\n      <td>FUENCARRAL-EL PARDO</td>\n      <td>0.0</td>\n      <td>0.0</td>\n    </tr>\n  </tbody>\n</table>\n<p>38197 rows × 6 columns</p>\n</div>"
     },
     "execution_count": 75,
     "metadata": {},
     "output_type": "execute_result"
    }
   ],
   "source": [
    "df_norte"
   ],
   "metadata": {
    "collapsed": false,
    "ExecuteTime": {
     "end_time": "2024-01-18T15:05:57.842662921Z",
     "start_time": "2024-01-18T15:05:57.839122686Z"
    }
   },
   "id": "15726ac12b61b9fd",
   "execution_count": 75
  },
  {
   "cell_type": "code",
   "outputs": [],
   "source": [
    "expedientes_por_distrito_norte = df_norte.groupby(['distrito'])['num_expediente'].nunique().reset_index()\n",
    "expedientes_por_distrito_sur = df_sur.groupby(['distrito'])['num_expediente'].nunique().reset_index()"
   ],
   "metadata": {
    "collapsed": false,
    "ExecuteTime": {
     "end_time": "2024-01-18T15:08:55.167966564Z",
     "start_time": "2024-01-18T15:08:55.121956028Z"
    }
   },
   "id": "cf88b845917efb3",
   "execution_count": 84
  },
  {
   "cell_type": "code",
   "outputs": [
    {
     "name": "stdout",
     "output_type": "stream",
     "text": [
      "Conjunto Norte:\n",
      "Desviación estándar: 511.271454317567, Media: 1713.5, Mediana: 1733.0\n",
      "Asimetría: -0.7267803156878198, Curtosis: 0.9957888310995626\n",
      "Primer Cuartil (Q1): 1481.75, Tercer Cuartil (Q3): 2042.75\n",
      "\n",
      "Conjunto Sur:\n",
      "Desviación estándar: 577.2443156931041, Media: 1483.0, Mediana: 1504.0\n",
      "Asimetría: 0.1802089413362764, Curtosis: -0.6854804901558929\n",
      "Primer Cuartil (Q1): 1056.5, Tercer Cuartil (Q3): 1852.5\n",
      "\n",
      "Conjunto Combinado:\n",
      "Desviación estándar: 546.0310343526187, Media: 1592.7619047619048, Mediana: 1604.0\n",
      "Asimetría: -0.22328235430724933, Curtosis: -0.6467812668454891\n",
      "Primer Cuartil (Q1): 1329.0, Tercer Cuartil (Q3): 2092.0\n"
     ]
    }
   ],
   "source": [
    "std_norte = expedientes_por_distrito_norte['num_expediente'].std()\n",
    "mean_norte = expedientes_por_distrito_norte['num_expediente'].mean()\n",
    "median_norte = expedientes_por_distrito_norte['num_expediente'].median()\n",
    "skewness_norte = expedientes_por_distrito_norte['num_expediente'].skew()\n",
    "kurtosis_norte = expedientes_por_distrito_norte['num_expediente'].kurt()\n",
    "q1_norte = expedientes_por_distrito_norte['num_expediente'].quantile(0.25)\n",
    "q3_norte = expedientes_por_distrito_norte['num_expediente'].quantile(0.75)\n",
    "\n",
    "std_sur = expedientes_por_distrito_sur['num_expediente'].std()\n",
    "mean_sur = expedientes_por_distrito_sur['num_expediente'].mean()\n",
    "median_sur = expedientes_por_distrito_sur['num_expediente'].median()\n",
    "skewness_sur = expedientes_por_distrito_sur['num_expediente'].skew()\n",
    "kurtosis_sur = expedientes_por_distrito_sur['num_expediente'].kurt()\n",
    "q1_sur = expedientes_por_distrito_sur['num_expediente'].quantile(0.25)\n",
    "q3_sur = expedientes_por_distrito_sur['num_expediente'].quantile(0.75)\n",
    "\n",
    "combined_data = pd.concat([expedientes_por_distrito_norte['num_expediente'], expedientes_por_distrito_sur['num_expediente']])\n",
    "std_combined = combined_data.std()\n",
    "mean_combined = combined_data.mean()\n",
    "median_combined = combined_data.median()\n",
    "skewness_combined = combined_data.skew()\n",
    "kurtosis_combined = combined_data.kurt()\n",
    "q1_combined = combined_data.quantile(0.25)\n",
    "q3_combined = combined_data.quantile(0.75)\n",
    "\n",
    "print(f\"Conjunto Norte:\")\n",
    "print(f\"Desviación estándar: {std_norte}, Media: {mean_norte}, Mediana: {median_norte}\")\n",
    "print(f\"Asimetría: {skewness_norte}, Curtosis: {kurtosis_norte}\")\n",
    "print(f\"Primer Cuartil (Q1): {q1_norte}, Tercer Cuartil (Q3): {q3_norte}\\n\")\n",
    "\n",
    "print(f\"Conjunto Sur:\")\n",
    "print(f\"Desviación estándar: {std_sur}, Media: {mean_sur}, Mediana: {median_sur}\")\n",
    "print(f\"Asimetría: {skewness_sur}, Curtosis: {kurtosis_sur}\")\n",
    "print(f\"Primer Cuartil (Q1): {q1_sur}, Tercer Cuartil (Q3): {q3_sur}\\n\")\n",
    "\n",
    "print(f\"Conjunto Combinado:\")\n",
    "print(f\"Desviación estándar: {std_combined}, Media: {mean_combined}, Mediana: {median_combined}\")\n",
    "print(f\"Asimetría: {skewness_combined}, Curtosis: {kurtosis_combined}\")\n",
    "print(f\"Primer Cuartil (Q1): {q1_combined}, Tercer Cuartil (Q3): {q3_combined}\")"
   ],
   "metadata": {
    "collapsed": false,
    "ExecuteTime": {
     "end_time": "2024-01-18T15:38:32.333477844Z",
     "start_time": "2024-01-18T15:38:32.309635209Z"
    }
   },
   "id": "1291084e34f495b6",
   "execution_count": 93
  },
  {
   "cell_type": "markdown",
   "source": [
    "Según la información calculada sobre las desviaciones típicas podemos realizar las siguientes conclusiones:\n",
    "1. Existe una mayor tasa de accidentalidad en los distritos del norte, cuya media es más alta, sin embargo, la dispersión del conjunto es algo menos que la accidentalidad en el sur. También podemos concluir que la accidentalidad en el norte es más uniforme que la del sur, que está más dispersa respecto de la media.\n",
    "2. Los datos de ambos conjuntos están bastante dispersos alrededor de la media\n",
    "3. Calculamos los intervalos de confianza dentro de los cuales podemos esperar encontrar la verdadera media de la población con un 95% de confianza. Recordamos que conocemos el tamaño de muestra de ambos conjuntos.\n",
    "    * Norte (10 distritos): Intervalo de confianza 95%: (1396.62, 2030.38) Amplitud del intervalo: 633.76\n",
    "        *  El 50% de los datos están entre Q1: 1481.75 y Q3: 2042.75. La distancia entre Q1 y Q3 también da una idea de la dispersión de los datos.\n",
    "    * Sur (11 distritos): Intervalo de confianza 95%: (1141.88, 1824.12) Amplitud del intervalo: 682.24\n",
    "        * El 50% de los datos están entre estos Q1: 1056.5, Q3: 1852.5 valores. El rango intercuartílico también es bastante amplio, sugiriendo una dispersión significativa.\n",
    "    * Ambos conjuntos (21 distritos en total) 95%: Intervalo de confianza: (1359.22, 1826.30)\n",
    "4. La mediana es aproximadamente igual en ambos casos, lo que indica una distribución bastante simétrica\n",
    "5. El conjunto norte tiene una ligera asimetría hacia la izquierda con una cola más larga y el conjunto sur tiene una ligera asimetría a la derecha\n",
    "6. El conjunto norte tiene una distribución más cercana a la normalidad en términos de curtosis que el conjunto sur. El conjunto sur muestra una distribución con colas significativamente más ligeras y un pico más plano, indicando una menor presencia de valores extremos en comparación con una distribución normal y también en comparación con el conjunto norte.\n",
    "\n",
    "En resumen el conjunto sur tiene una mayor dispersión general de valores (mayor std), pero al mismo tiempo, tiene colas más ligeras y un pico más plano (menor curtosis), lo que implica que tiene menos valores extremos. Esto podría significar que, aunque los valores en el sur varían más de la media, no tienden a alcanzar valores tan extremos como podrían ser en el norte."
   ],
   "metadata": {
    "collapsed": false
   },
   "id": "5d117173a3432c03"
  }
 ],
 "metadata": {
  "kernelspec": {
   "display_name": "Python 3",
   "language": "python",
   "name": "python3"
  },
  "language_info": {
   "codemirror_mode": {
    "name": "ipython",
    "version": 2
   },
   "file_extension": ".py",
   "mimetype": "text/x-python",
   "name": "python",
   "nbconvert_exporter": "python",
   "pygments_lexer": "ipython2",
   "version": "2.7.6"
  }
 },
 "nbformat": 4,
 "nbformat_minor": 5
}
