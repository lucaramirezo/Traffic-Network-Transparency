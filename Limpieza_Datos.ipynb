{
 "cells": [
  {
   "cell_type": "markdown",
   "id": "12719a4a",
   "metadata": {},
   "source": [
    "# Limpiado de Datos "
   ]
  },
  {
   "cell_type": "code",
   "execution_count": 16,
   "id": "2baabc55",
   "metadata": {
    "ExecuteTime": {
     "end_time": "2023-10-26T13:46:58.795401418Z",
     "start_time": "2023-10-26T13:46:58.065831889Z"
    }
   },
   "outputs": [],
   "source": [
    "import pandas as pd\n",
    "import numpy as np\n",
    "import matplotlib.pyplot as plt"
   ]
  },
  {
   "cell_type": "markdown",
   "id": "005c06cf",
   "metadata": {},
   "source": [
    "## Accidentalidad 2022-2023"
   ]
  },
  {
   "cell_type": "markdown",
   "id": "bc382a57",
   "metadata": {},
   "source": [
    "\n",
    "El fichero 202X_Accidentalidad.csv recoge los datos de Accidentes de tráfico en la Ciudad de Madrid registrados por la Policía Municipal."
   ]
  },
  {
   "cell_type": "markdown",
   "id": "a9ecb78f",
   "metadata": {},
   "source": [
    "1. Tomamos los datos de los ficheros 2022_Accidentalidad.csv y 2023_Accidentalidad.csv y creamos dataframes con los datos de los ficheros"
   ]
  },
  {
   "cell_type": "code",
   "execution_count": 17,
   "id": "dafdf6ff",
   "metadata": {
    "ExecuteTime": {
     "end_time": "2023-10-26T13:47:00.336157741Z",
     "start_time": "2023-10-26T13:47:00.137997950Z"
    }
   },
   "outputs": [
    {
     "data": {
      "text/plain": "  num_expediente       fecha     hora  \\\n0    2022S000001  01/01/2022  1:30:00   \n1    2022S000001  01/01/2022  1:30:00   \n2    2022S000002  01/01/2022  0:30:00   \n3    2022S000002  01/01/2022  0:30:00   \n4    2022S000002  01/01/2022  0:30:00   \n\n                                 localizacion numero  cod_distrito  \\\n0                          AVDA. ALBUFERA, 19     19            13   \n1                          AVDA. ALBUFERA, 19     19            13   \n2  PLAZA. CANOVAS DEL CASTILLO / PASEO. PRADO      2             3   \n3  PLAZA. CANOVAS DEL CASTILLO / PASEO. PRADO      2             3   \n4  PLAZA. CANOVAS DEL CASTILLO / PASEO. PRADO      2             3   \n\n             distrito           tipo_accidente estado_meteorológico  \\\n0  PUENTE DE VALLECAS                  Alcance            Despejado   \n1  PUENTE DE VALLECAS                  Alcance            Despejado   \n2              RETIRO  Colisión fronto-lateral                  NaN   \n3              RETIRO  Colisión fronto-lateral                  NaN   \n4              RETIRO  Colisión fronto-lateral                  NaN   \n\n             tipo_vehiculo  ...       rango_edad    sexo cod_lesividad  \\\n0                  Turismo  ...  De 30 a 34 años   Mujer           NaN   \n1                  Turismo  ...  De 45 a 49 años  Hombre           NaN   \n2  Motocicleta hasta 125cc  ...  De 30 a 34 años  Hombre           NaN   \n3  Motocicleta hasta 125cc  ...  De 35 a 39 años   Mujer           NaN   \n4                  Turismo  ...  De 40 a 44 años  Hombre           NaN   \n\n   lesividad coordenada_x_utm coordenada_y_utm positiva_alcohol  \\\n0        NaN       443359,226      4472082,272                N   \n1        NaN       443359,226      4472082,272                N   \n2        NaN       441155,351      4474129,588                S   \n3        NaN       441155,351      4474129,588                N   \n4        NaN       441155,351      4474129,588                N   \n\n  positiva_droga  Unnamed: 19  Unnamed: 20  \n0            NaN          NaN          NaN  \n1            NaN          NaN          NaN  \n2            NaN          NaN          NaN  \n3            NaN          NaN          NaN  \n4            NaN          NaN          NaN  \n\n[5 rows x 21 columns]",
      "text/html": "<div>\n<style scoped>\n    .dataframe tbody tr th:only-of-type {\n        vertical-align: middle;\n    }\n\n    .dataframe tbody tr th {\n        vertical-align: top;\n    }\n\n    .dataframe thead th {\n        text-align: right;\n    }\n</style>\n<table border=\"1\" class=\"dataframe\">\n  <thead>\n    <tr style=\"text-align: right;\">\n      <th></th>\n      <th>num_expediente</th>\n      <th>fecha</th>\n      <th>hora</th>\n      <th>localizacion</th>\n      <th>numero</th>\n      <th>cod_distrito</th>\n      <th>distrito</th>\n      <th>tipo_accidente</th>\n      <th>estado_meteorológico</th>\n      <th>tipo_vehiculo</th>\n      <th>...</th>\n      <th>rango_edad</th>\n      <th>sexo</th>\n      <th>cod_lesividad</th>\n      <th>lesividad</th>\n      <th>coordenada_x_utm</th>\n      <th>coordenada_y_utm</th>\n      <th>positiva_alcohol</th>\n      <th>positiva_droga</th>\n      <th>Unnamed: 19</th>\n      <th>Unnamed: 20</th>\n    </tr>\n  </thead>\n  <tbody>\n    <tr>\n      <th>0</th>\n      <td>2022S000001</td>\n      <td>01/01/2022</td>\n      <td>1:30:00</td>\n      <td>AVDA. ALBUFERA, 19</td>\n      <td>19</td>\n      <td>13</td>\n      <td>PUENTE DE VALLECAS</td>\n      <td>Alcance</td>\n      <td>Despejado</td>\n      <td>Turismo</td>\n      <td>...</td>\n      <td>De 30 a 34 años</td>\n      <td>Mujer</td>\n      <td>NaN</td>\n      <td>NaN</td>\n      <td>443359,226</td>\n      <td>4472082,272</td>\n      <td>N</td>\n      <td>NaN</td>\n      <td>NaN</td>\n      <td>NaN</td>\n    </tr>\n    <tr>\n      <th>1</th>\n      <td>2022S000001</td>\n      <td>01/01/2022</td>\n      <td>1:30:00</td>\n      <td>AVDA. ALBUFERA, 19</td>\n      <td>19</td>\n      <td>13</td>\n      <td>PUENTE DE VALLECAS</td>\n      <td>Alcance</td>\n      <td>Despejado</td>\n      <td>Turismo</td>\n      <td>...</td>\n      <td>De 45 a 49 años</td>\n      <td>Hombre</td>\n      <td>NaN</td>\n      <td>NaN</td>\n      <td>443359,226</td>\n      <td>4472082,272</td>\n      <td>N</td>\n      <td>NaN</td>\n      <td>NaN</td>\n      <td>NaN</td>\n    </tr>\n    <tr>\n      <th>2</th>\n      <td>2022S000002</td>\n      <td>01/01/2022</td>\n      <td>0:30:00</td>\n      <td>PLAZA. CANOVAS DEL CASTILLO / PASEO. PRADO</td>\n      <td>2</td>\n      <td>3</td>\n      <td>RETIRO</td>\n      <td>Colisión fronto-lateral</td>\n      <td>NaN</td>\n      <td>Motocicleta hasta 125cc</td>\n      <td>...</td>\n      <td>De 30 a 34 años</td>\n      <td>Hombre</td>\n      <td>NaN</td>\n      <td>NaN</td>\n      <td>441155,351</td>\n      <td>4474129,588</td>\n      <td>S</td>\n      <td>NaN</td>\n      <td>NaN</td>\n      <td>NaN</td>\n    </tr>\n    <tr>\n      <th>3</th>\n      <td>2022S000002</td>\n      <td>01/01/2022</td>\n      <td>0:30:00</td>\n      <td>PLAZA. CANOVAS DEL CASTILLO / PASEO. PRADO</td>\n      <td>2</td>\n      <td>3</td>\n      <td>RETIRO</td>\n      <td>Colisión fronto-lateral</td>\n      <td>NaN</td>\n      <td>Motocicleta hasta 125cc</td>\n      <td>...</td>\n      <td>De 35 a 39 años</td>\n      <td>Mujer</td>\n      <td>NaN</td>\n      <td>NaN</td>\n      <td>441155,351</td>\n      <td>4474129,588</td>\n      <td>N</td>\n      <td>NaN</td>\n      <td>NaN</td>\n      <td>NaN</td>\n    </tr>\n    <tr>\n      <th>4</th>\n      <td>2022S000002</td>\n      <td>01/01/2022</td>\n      <td>0:30:00</td>\n      <td>PLAZA. CANOVAS DEL CASTILLO / PASEO. PRADO</td>\n      <td>2</td>\n      <td>3</td>\n      <td>RETIRO</td>\n      <td>Colisión fronto-lateral</td>\n      <td>NaN</td>\n      <td>Turismo</td>\n      <td>...</td>\n      <td>De 40 a 44 años</td>\n      <td>Hombre</td>\n      <td>NaN</td>\n      <td>NaN</td>\n      <td>441155,351</td>\n      <td>4474129,588</td>\n      <td>N</td>\n      <td>NaN</td>\n      <td>NaN</td>\n      <td>NaN</td>\n    </tr>\n  </tbody>\n</table>\n<p>5 rows × 21 columns</p>\n</div>"
     },
     "execution_count": 17,
     "metadata": {},
     "output_type": "execute_result"
    }
   ],
   "source": [
    "accidentes_2022 = pd.read_csv('./Datasets/2022_Accidentalidad.csv', sep = ';')\n",
    "accidentes_2022.head()"
   ]
  },
  {
   "cell_type": "code",
   "execution_count": 18,
   "id": "07f4436f",
   "metadata": {
    "ExecuteTime": {
     "end_time": "2023-10-26T13:47:02.841516116Z",
     "start_time": "2023-10-26T13:47:02.699373180Z"
    }
   },
   "outputs": [
    {
     "data": {
      "text/plain": "  num_expediente       fecha     hora            localizacion numero  \\\n0    2023S000001  01/01/2023  1:15:00  AVDA. ALFONSO XIII, 33     33   \n1    2023S000001  01/01/2023  1:15:00  AVDA. ALFONSO XIII, 33     33   \n2    2023S000001  01/01/2023  1:15:00  AVDA. ALFONSO XIII, 33     33   \n3    2023S000001  01/01/2023  1:15:00  AVDA. ALFONSO XIII, 33     33   \n4    2023S000001  01/01/2023  1:15:00  AVDA. ALFONSO XIII, 33     33   \n\n   cod_distrito   distrito tipo_accidente estado_meteorológico tipo_vehiculo  \\\n0           5.0  CHAMARTÍN        Alcance            Despejado  Todo terreno   \n1           5.0  CHAMARTÍN        Alcance            Despejado  Todo terreno   \n2           5.0  CHAMARTÍN        Alcance            Despejado  Todo terreno   \n3           5.0  CHAMARTÍN        Alcance            Despejado  Todo terreno   \n4           5.0  CHAMARTÍN        Alcance            Despejado  Todo terreno   \n\n  tipo_persona       rango_edad    sexo  cod_lesividad  \\\n0    Conductor  De 55 a 59 años   Mujer           14.0   \n1     Pasajero  De 21 a 24 años  Hombre           14.0   \n2     Pasajero  De 21 a 24 años  Hombre           14.0   \n3     Pasajero  De 21 a 24 años   Mujer            7.0   \n4     Pasajero  De 55 a 59 años  Hombre            7.0   \n\n                                           lesividad  coordenada_x_utm  \\\n0                           Sin asistencia sanitaria        443397.166   \n1                           Sin asistencia sanitaria        443397.166   \n2                           Sin asistencia sanitaria        443397.166   \n3  Asistencia sanitaria sólo en el lugar del acci...        443397.166   \n4  Asistencia sanitaria sólo en el lugar del acci...        443397.166   \n\n   coordenada_y_utm positiva_alcohol  positiva_droga  \n0       4478129.388                N             NaN  \n1       4478129.388                N             NaN  \n2       4478129.388                N             NaN  \n3       4478129.388                N             NaN  \n4       4478129.388                N             NaN  ",
      "text/html": "<div>\n<style scoped>\n    .dataframe tbody tr th:only-of-type {\n        vertical-align: middle;\n    }\n\n    .dataframe tbody tr th {\n        vertical-align: top;\n    }\n\n    .dataframe thead th {\n        text-align: right;\n    }\n</style>\n<table border=\"1\" class=\"dataframe\">\n  <thead>\n    <tr style=\"text-align: right;\">\n      <th></th>\n      <th>num_expediente</th>\n      <th>fecha</th>\n      <th>hora</th>\n      <th>localizacion</th>\n      <th>numero</th>\n      <th>cod_distrito</th>\n      <th>distrito</th>\n      <th>tipo_accidente</th>\n      <th>estado_meteorológico</th>\n      <th>tipo_vehiculo</th>\n      <th>tipo_persona</th>\n      <th>rango_edad</th>\n      <th>sexo</th>\n      <th>cod_lesividad</th>\n      <th>lesividad</th>\n      <th>coordenada_x_utm</th>\n      <th>coordenada_y_utm</th>\n      <th>positiva_alcohol</th>\n      <th>positiva_droga</th>\n    </tr>\n  </thead>\n  <tbody>\n    <tr>\n      <th>0</th>\n      <td>2023S000001</td>\n      <td>01/01/2023</td>\n      <td>1:15:00</td>\n      <td>AVDA. ALFONSO XIII, 33</td>\n      <td>33</td>\n      <td>5.0</td>\n      <td>CHAMARTÍN</td>\n      <td>Alcance</td>\n      <td>Despejado</td>\n      <td>Todo terreno</td>\n      <td>Conductor</td>\n      <td>De 55 a 59 años</td>\n      <td>Mujer</td>\n      <td>14.0</td>\n      <td>Sin asistencia sanitaria</td>\n      <td>443397.166</td>\n      <td>4478129.388</td>\n      <td>N</td>\n      <td>NaN</td>\n    </tr>\n    <tr>\n      <th>1</th>\n      <td>2023S000001</td>\n      <td>01/01/2023</td>\n      <td>1:15:00</td>\n      <td>AVDA. ALFONSO XIII, 33</td>\n      <td>33</td>\n      <td>5.0</td>\n      <td>CHAMARTÍN</td>\n      <td>Alcance</td>\n      <td>Despejado</td>\n      <td>Todo terreno</td>\n      <td>Pasajero</td>\n      <td>De 21 a 24 años</td>\n      <td>Hombre</td>\n      <td>14.0</td>\n      <td>Sin asistencia sanitaria</td>\n      <td>443397.166</td>\n      <td>4478129.388</td>\n      <td>N</td>\n      <td>NaN</td>\n    </tr>\n    <tr>\n      <th>2</th>\n      <td>2023S000001</td>\n      <td>01/01/2023</td>\n      <td>1:15:00</td>\n      <td>AVDA. ALFONSO XIII, 33</td>\n      <td>33</td>\n      <td>5.0</td>\n      <td>CHAMARTÍN</td>\n      <td>Alcance</td>\n      <td>Despejado</td>\n      <td>Todo terreno</td>\n      <td>Pasajero</td>\n      <td>De 21 a 24 años</td>\n      <td>Hombre</td>\n      <td>14.0</td>\n      <td>Sin asistencia sanitaria</td>\n      <td>443397.166</td>\n      <td>4478129.388</td>\n      <td>N</td>\n      <td>NaN</td>\n    </tr>\n    <tr>\n      <th>3</th>\n      <td>2023S000001</td>\n      <td>01/01/2023</td>\n      <td>1:15:00</td>\n      <td>AVDA. ALFONSO XIII, 33</td>\n      <td>33</td>\n      <td>5.0</td>\n      <td>CHAMARTÍN</td>\n      <td>Alcance</td>\n      <td>Despejado</td>\n      <td>Todo terreno</td>\n      <td>Pasajero</td>\n      <td>De 21 a 24 años</td>\n      <td>Mujer</td>\n      <td>7.0</td>\n      <td>Asistencia sanitaria sólo en el lugar del acci...</td>\n      <td>443397.166</td>\n      <td>4478129.388</td>\n      <td>N</td>\n      <td>NaN</td>\n    </tr>\n    <tr>\n      <th>4</th>\n      <td>2023S000001</td>\n      <td>01/01/2023</td>\n      <td>1:15:00</td>\n      <td>AVDA. ALFONSO XIII, 33</td>\n      <td>33</td>\n      <td>5.0</td>\n      <td>CHAMARTÍN</td>\n      <td>Alcance</td>\n      <td>Despejado</td>\n      <td>Todo terreno</td>\n      <td>Pasajero</td>\n      <td>De 55 a 59 años</td>\n      <td>Hombre</td>\n      <td>7.0</td>\n      <td>Asistencia sanitaria sólo en el lugar del acci...</td>\n      <td>443397.166</td>\n      <td>4478129.388</td>\n      <td>N</td>\n      <td>NaN</td>\n    </tr>\n  </tbody>\n</table>\n</div>"
     },
     "execution_count": 18,
     "metadata": {},
     "output_type": "execute_result"
    }
   ],
   "source": [
    "accidentes_2023 = pd.read_csv('./Datasets/2023_Accidentalidad.csv', sep = ';')\n",
    "accidentes_2023.head()"
   ]
  },
  {
   "cell_type": "markdown",
   "id": "1eed27a9",
   "metadata": {},
   "source": [
    "2. Combinamos los dataframes en uno solo para facilitar el trabajo y si hay filas duplicadas o filas completamente nulas las eliminamos para evitar tener datos repetidos"
   ]
  },
  {
   "cell_type": "code",
   "execution_count": 19,
   "id": "d928e46d",
   "metadata": {},
   "outputs": [],
   "source": [
    "combined_data = pd.concat([accidentes_2022, accidentes_2023])\n",
    "# Restablecer índices para evitar índices duplicados\n",
    "combined_data.reset_index(drop=True, inplace=True)\n",
    "# Limpiar los datos\n",
    "combined_data.drop_duplicates(inplace=True)\n",
    "combined_data.dropna(how='all', inplace=True)"
   ]
  },
  {
   "cell_type": "markdown",
   "source": [
    "### Cazar valores nulos\n",
    "Buscamos nulos en las distintas columnas para mantener la integridad de los datos, conseguir precisión en el análisis, lograr compatibilidad con algoritmos y optimizar recursos"
   ],
   "metadata": {
    "collapsed": false
   }
  },
  {
   "cell_type": "markdown",
   "source": [],
   "metadata": {
    "collapsed": false
   }
  },
  {
   "cell_type": "code",
   "execution_count": 20,
   "outputs": [
    {
     "data": {
      "text/plain": "Empty DataFrame\nColumns: [num_expediente, fecha, hora, localizacion, numero, cod_distrito, distrito, tipo_accidente, estado_meteorológico, tipo_vehiculo, tipo_persona, rango_edad, sexo, cod_lesividad, lesividad, coordenada_x_utm, coordenada_y_utm, positiva_alcohol, positiva_droga, Unnamed: 19, Unnamed: 20]\nIndex: []\n\n[0 rows x 21 columns]",
      "text/html": "<div>\n<style scoped>\n    .dataframe tbody tr th:only-of-type {\n        vertical-align: middle;\n    }\n\n    .dataframe tbody tr th {\n        vertical-align: top;\n    }\n\n    .dataframe thead th {\n        text-align: right;\n    }\n</style>\n<table border=\"1\" class=\"dataframe\">\n  <thead>\n    <tr style=\"text-align: right;\">\n      <th></th>\n      <th>num_expediente</th>\n      <th>fecha</th>\n      <th>hora</th>\n      <th>localizacion</th>\n      <th>numero</th>\n      <th>cod_distrito</th>\n      <th>distrito</th>\n      <th>tipo_accidente</th>\n      <th>estado_meteorológico</th>\n      <th>tipo_vehiculo</th>\n      <th>...</th>\n      <th>rango_edad</th>\n      <th>sexo</th>\n      <th>cod_lesividad</th>\n      <th>lesividad</th>\n      <th>coordenada_x_utm</th>\n      <th>coordenada_y_utm</th>\n      <th>positiva_alcohol</th>\n      <th>positiva_droga</th>\n      <th>Unnamed: 19</th>\n      <th>Unnamed: 20</th>\n    </tr>\n  </thead>\n  <tbody>\n  </tbody>\n</table>\n<p>0 rows × 21 columns</p>\n</div>"
     },
     "execution_count": 20,
     "metadata": {},
     "output_type": "execute_result"
    }
   ],
   "source": [
    "filas_con_nulos = combined_data['tipo_persona'].isnull()\n",
    "combined_data[filas_con_nulos]"
   ],
   "metadata": {
    "collapsed": false
   },
   "id": "6d095a26212d5600"
  },
  {
   "cell_type": "code",
   "execution_count": 33,
   "outputs": [
    {
     "data": {
      "text/plain": "      num_expediente       fecha      hora  \\\n291      2022S000148  04/01/2022  18:15:00   \n341      2022S000180  04/01/2022  20:25:00   \n634      2022S000342  08/01/2022   0:00:00   \n661      2022S000356  08/01/2022  15:07:00   \n764      2022S000413  09/01/2022  12:46:00   \n...              ...         ...       ...   \n77312    2023S027718  21/08/2023  16:10:00   \n77313    2023S027718  21/08/2023  16:10:00   \n77537    2023S027875  24/08/2023  16:45:00   \n77546    2023S027879  24/08/2023  18:45:00   \n77655    2023S027944  25/08/2023  20:15:00   \n\n                                            localizacion numero  cod_distrito  \\\n291             CALL. EDUARDO BARREIROS / AVDA. POBLADOS      5          12.0   \n341                  AVDA LOS POBLADOS - C/ EXPROPIACIÓN    146          12.0   \n634                                CALL. PUERTO RICO, 6A     6A           5.0   \n661          CALL. FRANCISCO JOSE ARROYO / CALL. ARMONIA      2          16.0   \n764                 CALL. ESTRONCIO / CALL. BENITA LOPEZ     17          17.0   \n...                                                  ...    ...           ...   \n77312                           INTER. AEROPUERTO T-4, 0      0          21.0   \n77313                           INTER. AEROPUERTO T-4, 0      0          21.0   \n77537                                    CALL. LINNEO, 5      5           2.0   \n77546  AVDA. DOCTOR FEDERICO RUBIO Y GALI / CALL. ARA...     29           6.0   \n77655   CALL. SIERRA BERMEJA / CALL. MARTINEZ DE LA RIVA      1          13.0   \n\n                 distrito       tipo_accidente estado_meteorológico  \\\n291                 USERA     Colisión lateral         Lluvia débil   \n341                 USERA     Colisión lateral              Nublado   \n634             CHAMARTÍN     Colisión lateral            Despejado   \n661             HORTALEZA    Colisión múltiple            Despejado   \n764            VILLAVERDE    Colisión múltiple                  NaN   \n...                   ...                  ...                  ...   \n77312             BARAJAS  Atropello a persona            Despejado   \n77313             BARAJAS  Atropello a persona            Despejado   \n77537          ARGANZUELA  Atropello a persona            Despejado   \n77546              TETUÁN                Caída            Despejado   \n77655  PUENTE DE VALLECAS     Colisión lateral            Despejado   \n\n      tipo_vehiculo tipo_persona       rango_edad         sexo  cod_lesividad  \\\n291             NaN    Conductor      Desconocido  Desconocido            NaN   \n341             NaN    Conductor      Desconocido  Desconocido            NaN   \n634             NaN    Conductor      Desconocido  Desconocido            NaN   \n661             NaN    Conductor      Desconocido  Desconocido            NaN   \n764             NaN    Conductor      Desconocido  Desconocido            NaN   \n...             ...          ...              ...          ...            ...   \n77312           NaN    Conductor      Desconocido  Desconocido            NaN   \n77313           NaN       Peatón  De 55 a 59 años       Hombre            7.0   \n77537           NaN    Conductor      Desconocido  Desconocido            NaN   \n77546           NaN    Conductor      Desconocido  Desconocido            NaN   \n77655           NaN    Conductor      Desconocido  Desconocido            NaN   \n\n                                               lesividad coordenada_x_utm  \\\n291                                                  NaN       440801,217   \n341                                                  NaN       440082,365   \n634                                                  NaN       442801,043   \n661                                                  NaN       448109,781   \n764                                                  NaN        441498,93   \n...                                                  ...              ...   \n77312                                                NaN       449534.661   \n77313  Asistencia sanitaria sólo en el lugar del acci...       449534.661   \n77537                                                NaN       438869.987   \n77546                                                NaN       439852.639   \n77655                                                NaN       443526.233   \n\n      coordenada_y_utm  positiva_alcohol  positiva_droga  \n291         4469164,69               NaN             0.0  \n341        4469234,182               0.0             0.0  \n634        4478205,366               NaN             0.0  \n661        4478305,503               0.0             0.0  \n764        4466555,878               0.0             0.0  \n...                ...               ...             ...  \n77312      4482821.908               0.0             0.0  \n77313      4482821.908               0.0             0.0  \n77537      4473821.066               NaN             0.0  \n77546      4477958.865               0.0             0.0  \n77655      4471423.936               0.0             0.0  \n\n[452 rows x 19 columns]",
      "text/html": "<div>\n<style scoped>\n    .dataframe tbody tr th:only-of-type {\n        vertical-align: middle;\n    }\n\n    .dataframe tbody tr th {\n        vertical-align: top;\n    }\n\n    .dataframe thead th {\n        text-align: right;\n    }\n</style>\n<table border=\"1\" class=\"dataframe\">\n  <thead>\n    <tr style=\"text-align: right;\">\n      <th></th>\n      <th>num_expediente</th>\n      <th>fecha</th>\n      <th>hora</th>\n      <th>localizacion</th>\n      <th>numero</th>\n      <th>cod_distrito</th>\n      <th>distrito</th>\n      <th>tipo_accidente</th>\n      <th>estado_meteorológico</th>\n      <th>tipo_vehiculo</th>\n      <th>tipo_persona</th>\n      <th>rango_edad</th>\n      <th>sexo</th>\n      <th>cod_lesividad</th>\n      <th>lesividad</th>\n      <th>coordenada_x_utm</th>\n      <th>coordenada_y_utm</th>\n      <th>positiva_alcohol</th>\n      <th>positiva_droga</th>\n    </tr>\n  </thead>\n  <tbody>\n    <tr>\n      <th>291</th>\n      <td>2022S000148</td>\n      <td>04/01/2022</td>\n      <td>18:15:00</td>\n      <td>CALL. EDUARDO BARREIROS / AVDA. POBLADOS</td>\n      <td>5</td>\n      <td>12.0</td>\n      <td>USERA</td>\n      <td>Colisión lateral</td>\n      <td>Lluvia débil</td>\n      <td>NaN</td>\n      <td>Conductor</td>\n      <td>Desconocido</td>\n      <td>Desconocido</td>\n      <td>NaN</td>\n      <td>NaN</td>\n      <td>440801,217</td>\n      <td>4469164,69</td>\n      <td>NaN</td>\n      <td>0.0</td>\n    </tr>\n    <tr>\n      <th>341</th>\n      <td>2022S000180</td>\n      <td>04/01/2022</td>\n      <td>20:25:00</td>\n      <td>AVDA LOS POBLADOS - C/ EXPROPIACIÓN</td>\n      <td>146</td>\n      <td>12.0</td>\n      <td>USERA</td>\n      <td>Colisión lateral</td>\n      <td>Nublado</td>\n      <td>NaN</td>\n      <td>Conductor</td>\n      <td>Desconocido</td>\n      <td>Desconocido</td>\n      <td>NaN</td>\n      <td>NaN</td>\n      <td>440082,365</td>\n      <td>4469234,182</td>\n      <td>0.0</td>\n      <td>0.0</td>\n    </tr>\n    <tr>\n      <th>634</th>\n      <td>2022S000342</td>\n      <td>08/01/2022</td>\n      <td>0:00:00</td>\n      <td>CALL. PUERTO RICO, 6A</td>\n      <td>6A</td>\n      <td>5.0</td>\n      <td>CHAMARTÍN</td>\n      <td>Colisión lateral</td>\n      <td>Despejado</td>\n      <td>NaN</td>\n      <td>Conductor</td>\n      <td>Desconocido</td>\n      <td>Desconocido</td>\n      <td>NaN</td>\n      <td>NaN</td>\n      <td>442801,043</td>\n      <td>4478205,366</td>\n      <td>NaN</td>\n      <td>0.0</td>\n    </tr>\n    <tr>\n      <th>661</th>\n      <td>2022S000356</td>\n      <td>08/01/2022</td>\n      <td>15:07:00</td>\n      <td>CALL. FRANCISCO JOSE ARROYO / CALL. ARMONIA</td>\n      <td>2</td>\n      <td>16.0</td>\n      <td>HORTALEZA</td>\n      <td>Colisión múltiple</td>\n      <td>Despejado</td>\n      <td>NaN</td>\n      <td>Conductor</td>\n      <td>Desconocido</td>\n      <td>Desconocido</td>\n      <td>NaN</td>\n      <td>NaN</td>\n      <td>448109,781</td>\n      <td>4478305,503</td>\n      <td>0.0</td>\n      <td>0.0</td>\n    </tr>\n    <tr>\n      <th>764</th>\n      <td>2022S000413</td>\n      <td>09/01/2022</td>\n      <td>12:46:00</td>\n      <td>CALL. ESTRONCIO / CALL. BENITA LOPEZ</td>\n      <td>17</td>\n      <td>17.0</td>\n      <td>VILLAVERDE</td>\n      <td>Colisión múltiple</td>\n      <td>NaN</td>\n      <td>NaN</td>\n      <td>Conductor</td>\n      <td>Desconocido</td>\n      <td>Desconocido</td>\n      <td>NaN</td>\n      <td>NaN</td>\n      <td>441498,93</td>\n      <td>4466555,878</td>\n      <td>0.0</td>\n      <td>0.0</td>\n    </tr>\n    <tr>\n      <th>...</th>\n      <td>...</td>\n      <td>...</td>\n      <td>...</td>\n      <td>...</td>\n      <td>...</td>\n      <td>...</td>\n      <td>...</td>\n      <td>...</td>\n      <td>...</td>\n      <td>...</td>\n      <td>...</td>\n      <td>...</td>\n      <td>...</td>\n      <td>...</td>\n      <td>...</td>\n      <td>...</td>\n      <td>...</td>\n      <td>...</td>\n      <td>...</td>\n    </tr>\n    <tr>\n      <th>77312</th>\n      <td>2023S027718</td>\n      <td>21/08/2023</td>\n      <td>16:10:00</td>\n      <td>INTER. AEROPUERTO T-4, 0</td>\n      <td>0</td>\n      <td>21.0</td>\n      <td>BARAJAS</td>\n      <td>Atropello a persona</td>\n      <td>Despejado</td>\n      <td>NaN</td>\n      <td>Conductor</td>\n      <td>Desconocido</td>\n      <td>Desconocido</td>\n      <td>NaN</td>\n      <td>NaN</td>\n      <td>449534.661</td>\n      <td>4482821.908</td>\n      <td>0.0</td>\n      <td>0.0</td>\n    </tr>\n    <tr>\n      <th>77313</th>\n      <td>2023S027718</td>\n      <td>21/08/2023</td>\n      <td>16:10:00</td>\n      <td>INTER. AEROPUERTO T-4, 0</td>\n      <td>0</td>\n      <td>21.0</td>\n      <td>BARAJAS</td>\n      <td>Atropello a persona</td>\n      <td>Despejado</td>\n      <td>NaN</td>\n      <td>Peatón</td>\n      <td>De 55 a 59 años</td>\n      <td>Hombre</td>\n      <td>7.0</td>\n      <td>Asistencia sanitaria sólo en el lugar del acci...</td>\n      <td>449534.661</td>\n      <td>4482821.908</td>\n      <td>0.0</td>\n      <td>0.0</td>\n    </tr>\n    <tr>\n      <th>77537</th>\n      <td>2023S027875</td>\n      <td>24/08/2023</td>\n      <td>16:45:00</td>\n      <td>CALL. LINNEO, 5</td>\n      <td>5</td>\n      <td>2.0</td>\n      <td>ARGANZUELA</td>\n      <td>Atropello a persona</td>\n      <td>Despejado</td>\n      <td>NaN</td>\n      <td>Conductor</td>\n      <td>Desconocido</td>\n      <td>Desconocido</td>\n      <td>NaN</td>\n      <td>NaN</td>\n      <td>438869.987</td>\n      <td>4473821.066</td>\n      <td>NaN</td>\n      <td>0.0</td>\n    </tr>\n    <tr>\n      <th>77546</th>\n      <td>2023S027879</td>\n      <td>24/08/2023</td>\n      <td>18:45:00</td>\n      <td>AVDA. DOCTOR FEDERICO RUBIO Y GALI / CALL. ARA...</td>\n      <td>29</td>\n      <td>6.0</td>\n      <td>TETUÁN</td>\n      <td>Caída</td>\n      <td>Despejado</td>\n      <td>NaN</td>\n      <td>Conductor</td>\n      <td>Desconocido</td>\n      <td>Desconocido</td>\n      <td>NaN</td>\n      <td>NaN</td>\n      <td>439852.639</td>\n      <td>4477958.865</td>\n      <td>0.0</td>\n      <td>0.0</td>\n    </tr>\n    <tr>\n      <th>77655</th>\n      <td>2023S027944</td>\n      <td>25/08/2023</td>\n      <td>20:15:00</td>\n      <td>CALL. SIERRA BERMEJA / CALL. MARTINEZ DE LA RIVA</td>\n      <td>1</td>\n      <td>13.0</td>\n      <td>PUENTE DE VALLECAS</td>\n      <td>Colisión lateral</td>\n      <td>Despejado</td>\n      <td>NaN</td>\n      <td>Conductor</td>\n      <td>Desconocido</td>\n      <td>Desconocido</td>\n      <td>NaN</td>\n      <td>NaN</td>\n      <td>443526.233</td>\n      <td>4471423.936</td>\n      <td>0.0</td>\n      <td>0.0</td>\n    </tr>\n  </tbody>\n</table>\n<p>452 rows × 19 columns</p>\n</div>"
     },
     "execution_count": 33,
     "metadata": {},
     "output_type": "execute_result"
    }
   ],
   "source": [
    "filas_con_nulos = combined_data['tipo_vehiculo'].isnull()\n",
    "combined_data[filas_con_nulos].head()"
   ],
   "metadata": {
    "collapsed": false
   },
   "id": "9ca002d2d8ac4994"
  },
  {
   "cell_type": "code",
   "execution_count": 22,
   "outputs": [
    {
     "data": {
      "text/plain": "Empty DataFrame\nColumns: [num_expediente, fecha, hora, localizacion, numero, cod_distrito, distrito, tipo_accidente, estado_meteorológico, tipo_vehiculo, tipo_persona, rango_edad, sexo, cod_lesividad, lesividad, coordenada_x_utm, coordenada_y_utm, positiva_alcohol, positiva_droga, Unnamed: 19, Unnamed: 20]\nIndex: []\n\n[0 rows x 21 columns]",
      "text/html": "<div>\n<style scoped>\n    .dataframe tbody tr th:only-of-type {\n        vertical-align: middle;\n    }\n\n    .dataframe tbody tr th {\n        vertical-align: top;\n    }\n\n    .dataframe thead th {\n        text-align: right;\n    }\n</style>\n<table border=\"1\" class=\"dataframe\">\n  <thead>\n    <tr style=\"text-align: right;\">\n      <th></th>\n      <th>num_expediente</th>\n      <th>fecha</th>\n      <th>hora</th>\n      <th>localizacion</th>\n      <th>numero</th>\n      <th>cod_distrito</th>\n      <th>distrito</th>\n      <th>tipo_accidente</th>\n      <th>estado_meteorológico</th>\n      <th>tipo_vehiculo</th>\n      <th>...</th>\n      <th>rango_edad</th>\n      <th>sexo</th>\n      <th>cod_lesividad</th>\n      <th>lesividad</th>\n      <th>coordenada_x_utm</th>\n      <th>coordenada_y_utm</th>\n      <th>positiva_alcohol</th>\n      <th>positiva_droga</th>\n      <th>Unnamed: 19</th>\n      <th>Unnamed: 20</th>\n    </tr>\n  </thead>\n  <tbody>\n  </tbody>\n</table>\n<p>0 rows × 21 columns</p>\n</div>"
     },
     "execution_count": 22,
     "metadata": {},
     "output_type": "execute_result"
    }
   ],
   "source": [
    "filas_con_nulos = combined_data['fecha'].isnull()\n",
    "combined_data[filas_con_nulos]"
   ],
   "metadata": {
    "collapsed": false
   },
   "id": "31e7193d53b1f1c6"
  },
  {
   "cell_type": "code",
   "execution_count": 23,
   "outputs": [
    {
     "data": {
      "text/plain": "      num_expediente       fecha      hora                 localizacion  \\\n73578    2023S025389  14/07/2023  23:45:00  CALL. EDUARDO BARREIROS, 29   \n\n      numero  cod_distrito distrito tipo_accidente estado_meteorológico  \\\n73578     29          12.0    USERA            NaN                  NaN   \n\n      tipo_vehiculo  ...       rango_edad    sexo cod_lesividad  lesividad  \\\n73578           NaN  ...  De 35 a 39 años  Hombre           NaN        NaN   \n\n      coordenada_x_utm coordenada_y_utm positiva_alcohol positiva_droga  \\\n73578              NaN              NaN                N            NaN   \n\n       Unnamed: 19  Unnamed: 20  \n73578          NaN          NaN  \n\n[1 rows x 21 columns]",
      "text/html": "<div>\n<style scoped>\n    .dataframe tbody tr th:only-of-type {\n        vertical-align: middle;\n    }\n\n    .dataframe tbody tr th {\n        vertical-align: top;\n    }\n\n    .dataframe thead th {\n        text-align: right;\n    }\n</style>\n<table border=\"1\" class=\"dataframe\">\n  <thead>\n    <tr style=\"text-align: right;\">\n      <th></th>\n      <th>num_expediente</th>\n      <th>fecha</th>\n      <th>hora</th>\n      <th>localizacion</th>\n      <th>numero</th>\n      <th>cod_distrito</th>\n      <th>distrito</th>\n      <th>tipo_accidente</th>\n      <th>estado_meteorológico</th>\n      <th>tipo_vehiculo</th>\n      <th>...</th>\n      <th>rango_edad</th>\n      <th>sexo</th>\n      <th>cod_lesividad</th>\n      <th>lesividad</th>\n      <th>coordenada_x_utm</th>\n      <th>coordenada_y_utm</th>\n      <th>positiva_alcohol</th>\n      <th>positiva_droga</th>\n      <th>Unnamed: 19</th>\n      <th>Unnamed: 20</th>\n    </tr>\n  </thead>\n  <tbody>\n    <tr>\n      <th>73578</th>\n      <td>2023S025389</td>\n      <td>14/07/2023</td>\n      <td>23:45:00</td>\n      <td>CALL. EDUARDO BARREIROS, 29</td>\n      <td>29</td>\n      <td>12.0</td>\n      <td>USERA</td>\n      <td>NaN</td>\n      <td>NaN</td>\n      <td>NaN</td>\n      <td>...</td>\n      <td>De 35 a 39 años</td>\n      <td>Hombre</td>\n      <td>NaN</td>\n      <td>NaN</td>\n      <td>NaN</td>\n      <td>NaN</td>\n      <td>N</td>\n      <td>NaN</td>\n      <td>NaN</td>\n      <td>NaN</td>\n    </tr>\n  </tbody>\n</table>\n<p>1 rows × 21 columns</p>\n</div>"
     },
     "execution_count": 23,
     "metadata": {},
     "output_type": "execute_result"
    }
   ],
   "source": [
    "filas_con_nulos = combined_data['tipo_accidente'].isnull()\n",
    "combined_data[filas_con_nulos]"
   ],
   "metadata": {
    "collapsed": false
   },
   "id": "767876ac68dc949e"
  },
  {
   "cell_type": "markdown",
   "source": [
    "Observamos que solo es una columna en la cual el tipo de accidente es nulo y, aunque sea solo una entre 74,961, ese registro carece de información crucial para el análisis. La falta de datos en 'tipo_accidente' puede generar interpretaciones erróneas o distorsionar los resultados al analizar las causas y naturaleza de los accidentes e inferir con el análisis."
   ],
   "metadata": {
    "collapsed": false
   }
  },
  {
   "cell_type": "code",
   "execution_count": 24,
   "outputs": [
    {
     "data": {
      "text/plain": "  num_expediente       fecha     hora  \\\n0    2022S000001  01/01/2022  1:30:00   \n1    2022S000001  01/01/2022  1:30:00   \n2    2022S000002  01/01/2022  0:30:00   \n3    2022S000002  01/01/2022  0:30:00   \n4    2022S000002  01/01/2022  0:30:00   \n\n                                 localizacion numero  cod_distrito  \\\n0                          AVDA. ALBUFERA, 19     19          13.0   \n1                          AVDA. ALBUFERA, 19     19          13.0   \n2  PLAZA. CANOVAS DEL CASTILLO / PASEO. PRADO      2           3.0   \n3  PLAZA. CANOVAS DEL CASTILLO / PASEO. PRADO      2           3.0   \n4  PLAZA. CANOVAS DEL CASTILLO / PASEO. PRADO      2           3.0   \n\n             distrito           tipo_accidente estado_meteorológico  \\\n0  PUENTE DE VALLECAS                  Alcance            Despejado   \n1  PUENTE DE VALLECAS                  Alcance            Despejado   \n2              RETIRO  Colisión fronto-lateral                  NaN   \n3              RETIRO  Colisión fronto-lateral                  NaN   \n4              RETIRO  Colisión fronto-lateral                  NaN   \n\n             tipo_vehiculo  ...       rango_edad    sexo cod_lesividad  \\\n0                  Turismo  ...  De 30 a 34 años   Mujer           NaN   \n1                  Turismo  ...  De 45 a 49 años  Hombre           NaN   \n2  Motocicleta hasta 125cc  ...  De 30 a 34 años  Hombre           NaN   \n3  Motocicleta hasta 125cc  ...  De 35 a 39 años   Mujer           NaN   \n4                  Turismo  ...  De 40 a 44 años  Hombre           NaN   \n\n   lesividad coordenada_x_utm coordenada_y_utm positiva_alcohol  \\\n0        NaN       443359,226      4472082,272                N   \n1        NaN       443359,226      4472082,272                N   \n2        NaN       441155,351      4474129,588                S   \n3        NaN       441155,351      4474129,588                N   \n4        NaN       441155,351      4474129,588                N   \n\n  positiva_droga  Unnamed: 19  Unnamed: 20  \n0            NaN          NaN          NaN  \n1            NaN          NaN          NaN  \n2            NaN          NaN          NaN  \n3            NaN          NaN          NaN  \n4            NaN          NaN          NaN  \n\n[5 rows x 21 columns]",
      "text/html": "<div>\n<style scoped>\n    .dataframe tbody tr th:only-of-type {\n        vertical-align: middle;\n    }\n\n    .dataframe tbody tr th {\n        vertical-align: top;\n    }\n\n    .dataframe thead th {\n        text-align: right;\n    }\n</style>\n<table border=\"1\" class=\"dataframe\">\n  <thead>\n    <tr style=\"text-align: right;\">\n      <th></th>\n      <th>num_expediente</th>\n      <th>fecha</th>\n      <th>hora</th>\n      <th>localizacion</th>\n      <th>numero</th>\n      <th>cod_distrito</th>\n      <th>distrito</th>\n      <th>tipo_accidente</th>\n      <th>estado_meteorológico</th>\n      <th>tipo_vehiculo</th>\n      <th>...</th>\n      <th>rango_edad</th>\n      <th>sexo</th>\n      <th>cod_lesividad</th>\n      <th>lesividad</th>\n      <th>coordenada_x_utm</th>\n      <th>coordenada_y_utm</th>\n      <th>positiva_alcohol</th>\n      <th>positiva_droga</th>\n      <th>Unnamed: 19</th>\n      <th>Unnamed: 20</th>\n    </tr>\n  </thead>\n  <tbody>\n    <tr>\n      <th>0</th>\n      <td>2022S000001</td>\n      <td>01/01/2022</td>\n      <td>1:30:00</td>\n      <td>AVDA. ALBUFERA, 19</td>\n      <td>19</td>\n      <td>13.0</td>\n      <td>PUENTE DE VALLECAS</td>\n      <td>Alcance</td>\n      <td>Despejado</td>\n      <td>Turismo</td>\n      <td>...</td>\n      <td>De 30 a 34 años</td>\n      <td>Mujer</td>\n      <td>NaN</td>\n      <td>NaN</td>\n      <td>443359,226</td>\n      <td>4472082,272</td>\n      <td>N</td>\n      <td>NaN</td>\n      <td>NaN</td>\n      <td>NaN</td>\n    </tr>\n    <tr>\n      <th>1</th>\n      <td>2022S000001</td>\n      <td>01/01/2022</td>\n      <td>1:30:00</td>\n      <td>AVDA. ALBUFERA, 19</td>\n      <td>19</td>\n      <td>13.0</td>\n      <td>PUENTE DE VALLECAS</td>\n      <td>Alcance</td>\n      <td>Despejado</td>\n      <td>Turismo</td>\n      <td>...</td>\n      <td>De 45 a 49 años</td>\n      <td>Hombre</td>\n      <td>NaN</td>\n      <td>NaN</td>\n      <td>443359,226</td>\n      <td>4472082,272</td>\n      <td>N</td>\n      <td>NaN</td>\n      <td>NaN</td>\n      <td>NaN</td>\n    </tr>\n    <tr>\n      <th>2</th>\n      <td>2022S000002</td>\n      <td>01/01/2022</td>\n      <td>0:30:00</td>\n      <td>PLAZA. CANOVAS DEL CASTILLO / PASEO. PRADO</td>\n      <td>2</td>\n      <td>3.0</td>\n      <td>RETIRO</td>\n      <td>Colisión fronto-lateral</td>\n      <td>NaN</td>\n      <td>Motocicleta hasta 125cc</td>\n      <td>...</td>\n      <td>De 30 a 34 años</td>\n      <td>Hombre</td>\n      <td>NaN</td>\n      <td>NaN</td>\n      <td>441155,351</td>\n      <td>4474129,588</td>\n      <td>S</td>\n      <td>NaN</td>\n      <td>NaN</td>\n      <td>NaN</td>\n    </tr>\n    <tr>\n      <th>3</th>\n      <td>2022S000002</td>\n      <td>01/01/2022</td>\n      <td>0:30:00</td>\n      <td>PLAZA. CANOVAS DEL CASTILLO / PASEO. PRADO</td>\n      <td>2</td>\n      <td>3.0</td>\n      <td>RETIRO</td>\n      <td>Colisión fronto-lateral</td>\n      <td>NaN</td>\n      <td>Motocicleta hasta 125cc</td>\n      <td>...</td>\n      <td>De 35 a 39 años</td>\n      <td>Mujer</td>\n      <td>NaN</td>\n      <td>NaN</td>\n      <td>441155,351</td>\n      <td>4474129,588</td>\n      <td>N</td>\n      <td>NaN</td>\n      <td>NaN</td>\n      <td>NaN</td>\n    </tr>\n    <tr>\n      <th>4</th>\n      <td>2022S000002</td>\n      <td>01/01/2022</td>\n      <td>0:30:00</td>\n      <td>PLAZA. CANOVAS DEL CASTILLO / PASEO. PRADO</td>\n      <td>2</td>\n      <td>3.0</td>\n      <td>RETIRO</td>\n      <td>Colisión fronto-lateral</td>\n      <td>NaN</td>\n      <td>Turismo</td>\n      <td>...</td>\n      <td>De 40 a 44 años</td>\n      <td>Hombre</td>\n      <td>NaN</td>\n      <td>NaN</td>\n      <td>441155,351</td>\n      <td>4474129,588</td>\n      <td>N</td>\n      <td>NaN</td>\n      <td>NaN</td>\n      <td>NaN</td>\n    </tr>\n  </tbody>\n</table>\n<p>5 rows × 21 columns</p>\n</div>"
     },
     "execution_count": 24,
     "metadata": {},
     "output_type": "execute_result"
    }
   ],
   "source": [
    "combined_data.dropna(subset=['tipo_accidente'], inplace=True)\n",
    "combined_data.head()"
   ],
   "metadata": {
    "collapsed": false
   },
   "id": "c5b757d39d19f8e5"
  },
  {
   "cell_type": "code",
   "execution_count": 25,
   "outputs": [
    {
     "data": {
      "text/plain": "Empty DataFrame\nColumns: [num_expediente, fecha, hora, localizacion, numero, cod_distrito, distrito, tipo_accidente, estado_meteorológico, tipo_vehiculo, tipo_persona, rango_edad, sexo, cod_lesividad, lesividad, coordenada_x_utm, coordenada_y_utm, positiva_alcohol, positiva_droga, Unnamed: 19, Unnamed: 20]\nIndex: []\n\n[0 rows x 21 columns]",
      "text/html": "<div>\n<style scoped>\n    .dataframe tbody tr th:only-of-type {\n        vertical-align: middle;\n    }\n\n    .dataframe tbody tr th {\n        vertical-align: top;\n    }\n\n    .dataframe thead th {\n        text-align: right;\n    }\n</style>\n<table border=\"1\" class=\"dataframe\">\n  <thead>\n    <tr style=\"text-align: right;\">\n      <th></th>\n      <th>num_expediente</th>\n      <th>fecha</th>\n      <th>hora</th>\n      <th>localizacion</th>\n      <th>numero</th>\n      <th>cod_distrito</th>\n      <th>distrito</th>\n      <th>tipo_accidente</th>\n      <th>estado_meteorológico</th>\n      <th>tipo_vehiculo</th>\n      <th>...</th>\n      <th>rango_edad</th>\n      <th>sexo</th>\n      <th>cod_lesividad</th>\n      <th>lesividad</th>\n      <th>coordenada_x_utm</th>\n      <th>coordenada_y_utm</th>\n      <th>positiva_alcohol</th>\n      <th>positiva_droga</th>\n      <th>Unnamed: 19</th>\n      <th>Unnamed: 20</th>\n    </tr>\n  </thead>\n  <tbody>\n  </tbody>\n</table>\n<p>0 rows × 21 columns</p>\n</div>"
     },
     "execution_count": 25,
     "metadata": {},
     "output_type": "execute_result"
    }
   ],
   "source": [
    "filas_con_nulos = combined_data['sexo'].isnull()\n",
    "combined_data[filas_con_nulos]"
   ],
   "metadata": {
    "collapsed": false
   },
   "id": "2ec3554c63a6d77"
  },
  {
   "cell_type": "code",
   "execution_count": 26,
   "outputs": [
    {
     "data": {
      "text/plain": "      num_expediente       fecha      hora  \\\n291      2022S000148  04/01/2022  18:15:00   \n634      2022S000342  08/01/2022   0:00:00   \n658      2022S000354  07/01/2022  23:15:00   \n1479     2022S000832  15/01/2022  22:35:00   \n1907     2022S001130  19/01/2022  20:09:00   \n...              ...         ...       ...   \n77537    2023S027875  24/08/2023  16:45:00   \n77628    2023S027925  25/08/2023   9:35:00   \n77629    2023S027925  25/08/2023   9:35:00   \n77701    2023S027997  26/08/2023  19:45:00   \n77779    2023S028051  27/08/2023  23:35:00   \n\n                                         localizacion   numero  cod_distrito  \\\n291          CALL. EDUARDO BARREIROS / AVDA. POBLADOS        5          12.0   \n634                             CALL. PUERTO RICO, 6A       6A           5.0   \n658          AVDA. ILUSTRACION / CALL. GINZO DE LIMIA        0           8.0   \n1479   CTRA. M-111, ROTONDA SALIDA AVENIDA DE LOGROÑO  +00300E          21.0   \n1907                 CALL. LA DEL MANOJO DE ROSAS, 69       69          17.0   \n...                                               ...      ...           ...   \n77537                                 CALL. LINNEO, 5        5           2.0   \n77628                     CALLE BOYER CON CALLE VIGIL       26          19.0   \n77629                     CALLE BOYER CON CALLE VIGIL       26          19.0   \n77701        CALL. JULIA GARCIA BOUTAN / CALL. SUECIA      35A          20.0   \n77779                             CALL. MENASALBAS, 6        6          17.0   \n\n                  distrito                tipo_accidente estado_meteorológico  \\\n291                  USERA              Colisión lateral         Lluvia débil   \n634              CHAMARTÍN              Colisión lateral            Despejado   \n658    FUENCARRAL-EL PARDO              Colisión lateral            Despejado   \n1479               BARAJAS       Colisión fronto-lateral                  NaN   \n1907            VILLAVERDE       Colisión fronto-lateral                  NaN   \n...                    ...                           ...                  ...   \n77537           ARGANZUELA           Atropello a persona            Despejado   \n77628            VICÁLVARO       Colisión fronto-lateral            Despejado   \n77629            VICÁLVARO       Colisión fronto-lateral            Despejado   \n77701  SAN BLAS-CANILLEJAS       Colisión fronto-lateral            Despejado   \n77779           VILLAVERDE  Choque contra obstáculo fijo            Despejado   \n\n                 tipo_vehiculo  ...   rango_edad         sexo cod_lesividad  \\\n291                        NaN  ...  Desconocido  Desconocido           NaN   \n634                        NaN  ...  Desconocido  Desconocido           NaN   \n658                    Turismo  ...  Desconocido  Desconocido           NaN   \n1479                   Turismo  ...  Desconocido  Desconocido           NaN   \n1907                 Furgoneta  ...  Desconocido  Desconocido           NaN   \n...                        ...  ...          ...          ...           ...   \n77537                      NaN  ...  Desconocido  Desconocido           NaN   \n77628  Motocicleta hasta 125cc  ...  Desconocido  Desconocido           NaN   \n77629                  Turismo  ...  Desconocido  Desconocido           NaN   \n77701                  Turismo  ...  Desconocido  Desconocido           NaN   \n77779                  Turismo  ...  Desconocido  Desconocido           NaN   \n\n       lesividad coordenada_x_utm coordenada_y_utm positiva_alcohol  \\\n291          NaN       440801,217       4469164,69              NaN   \n634          NaN       442801,043      4478205,366              NaN   \n658          NaN       440196,519      4481492,133              NaN   \n1479         NaN        452984,27      4482774,785              NaN   \n1907         NaN       440748,938      4467397,024              NaN   \n...          ...              ...              ...              ...   \n77537        NaN       438869.987      4473821.066              NaN   \n77628        NaN       450240.246      4472879.377              NaN   \n77629        NaN       450240.246      4472879.377              NaN   \n77701        NaN       448648.202      4475686.579              NaN   \n77779        NaN       440924.505      4468287.581              NaN   \n\n      positiva_droga  Unnamed: 19  Unnamed: 20  \n291              NaN          NaN          NaN  \n634              NaN          NaN          NaN  \n658              NaN          NaN          NaN  \n1479             NaN          NaN          NaN  \n1907             NaN          NaN          NaN  \n...              ...          ...          ...  \n77537            NaN          NaN          NaN  \n77628            NaN          NaN          NaN  \n77629            NaN          NaN          NaN  \n77701            NaN          NaN          NaN  \n77779            NaN          NaN          NaN  \n\n[341 rows x 21 columns]",
      "text/html": "<div>\n<style scoped>\n    .dataframe tbody tr th:only-of-type {\n        vertical-align: middle;\n    }\n\n    .dataframe tbody tr th {\n        vertical-align: top;\n    }\n\n    .dataframe thead th {\n        text-align: right;\n    }\n</style>\n<table border=\"1\" class=\"dataframe\">\n  <thead>\n    <tr style=\"text-align: right;\">\n      <th></th>\n      <th>num_expediente</th>\n      <th>fecha</th>\n      <th>hora</th>\n      <th>localizacion</th>\n      <th>numero</th>\n      <th>cod_distrito</th>\n      <th>distrito</th>\n      <th>tipo_accidente</th>\n      <th>estado_meteorológico</th>\n      <th>tipo_vehiculo</th>\n      <th>...</th>\n      <th>rango_edad</th>\n      <th>sexo</th>\n      <th>cod_lesividad</th>\n      <th>lesividad</th>\n      <th>coordenada_x_utm</th>\n      <th>coordenada_y_utm</th>\n      <th>positiva_alcohol</th>\n      <th>positiva_droga</th>\n      <th>Unnamed: 19</th>\n      <th>Unnamed: 20</th>\n    </tr>\n  </thead>\n  <tbody>\n    <tr>\n      <th>291</th>\n      <td>2022S000148</td>\n      <td>04/01/2022</td>\n      <td>18:15:00</td>\n      <td>CALL. EDUARDO BARREIROS / AVDA. POBLADOS</td>\n      <td>5</td>\n      <td>12.0</td>\n      <td>USERA</td>\n      <td>Colisión lateral</td>\n      <td>Lluvia débil</td>\n      <td>NaN</td>\n      <td>...</td>\n      <td>Desconocido</td>\n      <td>Desconocido</td>\n      <td>NaN</td>\n      <td>NaN</td>\n      <td>440801,217</td>\n      <td>4469164,69</td>\n      <td>NaN</td>\n      <td>NaN</td>\n      <td>NaN</td>\n      <td>NaN</td>\n    </tr>\n    <tr>\n      <th>634</th>\n      <td>2022S000342</td>\n      <td>08/01/2022</td>\n      <td>0:00:00</td>\n      <td>CALL. PUERTO RICO, 6A</td>\n      <td>6A</td>\n      <td>5.0</td>\n      <td>CHAMARTÍN</td>\n      <td>Colisión lateral</td>\n      <td>Despejado</td>\n      <td>NaN</td>\n      <td>...</td>\n      <td>Desconocido</td>\n      <td>Desconocido</td>\n      <td>NaN</td>\n      <td>NaN</td>\n      <td>442801,043</td>\n      <td>4478205,366</td>\n      <td>NaN</td>\n      <td>NaN</td>\n      <td>NaN</td>\n      <td>NaN</td>\n    </tr>\n    <tr>\n      <th>658</th>\n      <td>2022S000354</td>\n      <td>07/01/2022</td>\n      <td>23:15:00</td>\n      <td>AVDA. ILUSTRACION / CALL. GINZO DE LIMIA</td>\n      <td>0</td>\n      <td>8.0</td>\n      <td>FUENCARRAL-EL PARDO</td>\n      <td>Colisión lateral</td>\n      <td>Despejado</td>\n      <td>Turismo</td>\n      <td>...</td>\n      <td>Desconocido</td>\n      <td>Desconocido</td>\n      <td>NaN</td>\n      <td>NaN</td>\n      <td>440196,519</td>\n      <td>4481492,133</td>\n      <td>NaN</td>\n      <td>NaN</td>\n      <td>NaN</td>\n      <td>NaN</td>\n    </tr>\n    <tr>\n      <th>1479</th>\n      <td>2022S000832</td>\n      <td>15/01/2022</td>\n      <td>22:35:00</td>\n      <td>CTRA. M-111, ROTONDA SALIDA AVENIDA DE LOGROÑO</td>\n      <td>+00300E</td>\n      <td>21.0</td>\n      <td>BARAJAS</td>\n      <td>Colisión fronto-lateral</td>\n      <td>NaN</td>\n      <td>Turismo</td>\n      <td>...</td>\n      <td>Desconocido</td>\n      <td>Desconocido</td>\n      <td>NaN</td>\n      <td>NaN</td>\n      <td>452984,27</td>\n      <td>4482774,785</td>\n      <td>NaN</td>\n      <td>NaN</td>\n      <td>NaN</td>\n      <td>NaN</td>\n    </tr>\n    <tr>\n      <th>1907</th>\n      <td>2022S001130</td>\n      <td>19/01/2022</td>\n      <td>20:09:00</td>\n      <td>CALL. LA DEL MANOJO DE ROSAS, 69</td>\n      <td>69</td>\n      <td>17.0</td>\n      <td>VILLAVERDE</td>\n      <td>Colisión fronto-lateral</td>\n      <td>NaN</td>\n      <td>Furgoneta</td>\n      <td>...</td>\n      <td>Desconocido</td>\n      <td>Desconocido</td>\n      <td>NaN</td>\n      <td>NaN</td>\n      <td>440748,938</td>\n      <td>4467397,024</td>\n      <td>NaN</td>\n      <td>NaN</td>\n      <td>NaN</td>\n      <td>NaN</td>\n    </tr>\n    <tr>\n      <th>...</th>\n      <td>...</td>\n      <td>...</td>\n      <td>...</td>\n      <td>...</td>\n      <td>...</td>\n      <td>...</td>\n      <td>...</td>\n      <td>...</td>\n      <td>...</td>\n      <td>...</td>\n      <td>...</td>\n      <td>...</td>\n      <td>...</td>\n      <td>...</td>\n      <td>...</td>\n      <td>...</td>\n      <td>...</td>\n      <td>...</td>\n      <td>...</td>\n      <td>...</td>\n      <td>...</td>\n    </tr>\n    <tr>\n      <th>77537</th>\n      <td>2023S027875</td>\n      <td>24/08/2023</td>\n      <td>16:45:00</td>\n      <td>CALL. LINNEO, 5</td>\n      <td>5</td>\n      <td>2.0</td>\n      <td>ARGANZUELA</td>\n      <td>Atropello a persona</td>\n      <td>Despejado</td>\n      <td>NaN</td>\n      <td>...</td>\n      <td>Desconocido</td>\n      <td>Desconocido</td>\n      <td>NaN</td>\n      <td>NaN</td>\n      <td>438869.987</td>\n      <td>4473821.066</td>\n      <td>NaN</td>\n      <td>NaN</td>\n      <td>NaN</td>\n      <td>NaN</td>\n    </tr>\n    <tr>\n      <th>77628</th>\n      <td>2023S027925</td>\n      <td>25/08/2023</td>\n      <td>9:35:00</td>\n      <td>CALLE BOYER CON CALLE VIGIL</td>\n      <td>26</td>\n      <td>19.0</td>\n      <td>VICÁLVARO</td>\n      <td>Colisión fronto-lateral</td>\n      <td>Despejado</td>\n      <td>Motocicleta hasta 125cc</td>\n      <td>...</td>\n      <td>Desconocido</td>\n      <td>Desconocido</td>\n      <td>NaN</td>\n      <td>NaN</td>\n      <td>450240.246</td>\n      <td>4472879.377</td>\n      <td>NaN</td>\n      <td>NaN</td>\n      <td>NaN</td>\n      <td>NaN</td>\n    </tr>\n    <tr>\n      <th>77629</th>\n      <td>2023S027925</td>\n      <td>25/08/2023</td>\n      <td>9:35:00</td>\n      <td>CALLE BOYER CON CALLE VIGIL</td>\n      <td>26</td>\n      <td>19.0</td>\n      <td>VICÁLVARO</td>\n      <td>Colisión fronto-lateral</td>\n      <td>Despejado</td>\n      <td>Turismo</td>\n      <td>...</td>\n      <td>Desconocido</td>\n      <td>Desconocido</td>\n      <td>NaN</td>\n      <td>NaN</td>\n      <td>450240.246</td>\n      <td>4472879.377</td>\n      <td>NaN</td>\n      <td>NaN</td>\n      <td>NaN</td>\n      <td>NaN</td>\n    </tr>\n    <tr>\n      <th>77701</th>\n      <td>2023S027997</td>\n      <td>26/08/2023</td>\n      <td>19:45:00</td>\n      <td>CALL. JULIA GARCIA BOUTAN / CALL. SUECIA</td>\n      <td>35A</td>\n      <td>20.0</td>\n      <td>SAN BLAS-CANILLEJAS</td>\n      <td>Colisión fronto-lateral</td>\n      <td>Despejado</td>\n      <td>Turismo</td>\n      <td>...</td>\n      <td>Desconocido</td>\n      <td>Desconocido</td>\n      <td>NaN</td>\n      <td>NaN</td>\n      <td>448648.202</td>\n      <td>4475686.579</td>\n      <td>NaN</td>\n      <td>NaN</td>\n      <td>NaN</td>\n      <td>NaN</td>\n    </tr>\n    <tr>\n      <th>77779</th>\n      <td>2023S028051</td>\n      <td>27/08/2023</td>\n      <td>23:35:00</td>\n      <td>CALL. MENASALBAS, 6</td>\n      <td>6</td>\n      <td>17.0</td>\n      <td>VILLAVERDE</td>\n      <td>Choque contra obstáculo fijo</td>\n      <td>Despejado</td>\n      <td>Turismo</td>\n      <td>...</td>\n      <td>Desconocido</td>\n      <td>Desconocido</td>\n      <td>NaN</td>\n      <td>NaN</td>\n      <td>440924.505</td>\n      <td>4468287.581</td>\n      <td>NaN</td>\n      <td>NaN</td>\n      <td>NaN</td>\n      <td>NaN</td>\n    </tr>\n  </tbody>\n</table>\n<p>341 rows × 21 columns</p>\n</div>"
     },
     "execution_count": 26,
     "metadata": {},
     "output_type": "execute_result"
    }
   ],
   "source": [
    "filas_con_nulos = combined_data['positiva_alcohol'].isnull()\n",
    "combined_data[filas_con_nulos]"
   ],
   "metadata": {
    "collapsed": false
   },
   "id": "25f5ba853fe2c917"
  },
  {
   "cell_type": "code",
   "execution_count": 27,
   "outputs": [
    {
     "data": {
      "text/plain": "      num_expediente       fecha      hora  \\\n0        2022S000001  01/01/2022   1:30:00   \n1        2022S000001  01/01/2022   1:30:00   \n2        2022S000002  01/01/2022   0:30:00   \n3        2022S000002  01/01/2022   0:30:00   \n4        2022S000002  01/01/2022   0:30:00   \n...              ...         ...       ...   \n78206    2023S028337  31/08/2023  23:20:00   \n78207    2023S028341  31/08/2023  22:30:00   \n78208    2023S028341  31/08/2023  22:30:00   \n78209    2023S028352  31/08/2023  14:40:00   \n78210    2023S029136  02/08/2023  22:10:00   \n\n                                     localizacion  numero  cod_distrito  \\\n0                              AVDA. ALBUFERA, 19      19          13.0   \n1                              AVDA. ALBUFERA, 19      19          13.0   \n2      PLAZA. CANOVAS DEL CASTILLO / PASEO. PRADO       2           3.0   \n3      PLAZA. CANOVAS DEL CASTILLO / PASEO. PRADO       2           3.0   \n4      PLAZA. CANOVAS DEL CASTILLO / PASEO. PRADO       2           3.0   \n...                                           ...     ...           ...   \n78206                 CALL. GOLFO DE SALONICA, 12      12          16.0   \n78207                           CALLE SAN SERAPIO       1          12.0   \n78208                           CALLE SAN SERAPIO       1          12.0   \n78209                         AUTOV. M-30, 00NC06  00NC06           5.0   \n78210             AVDA. CARDENAL HERRERA ORIA, 80      80           8.0   \n\n                  distrito                tipo_accidente estado_meteorológico  \\\n0       PUENTE DE VALLECAS                       Alcance            Despejado   \n1       PUENTE DE VALLECAS                       Alcance            Despejado   \n2                   RETIRO       Colisión fronto-lateral                  NaN   \n3                   RETIRO       Colisión fronto-lateral                  NaN   \n4                   RETIRO       Colisión fronto-lateral                  NaN   \n...                    ...                           ...                  ...   \n78206            HORTALEZA                          Otro            Despejado   \n78207                USERA                       Alcance            Despejado   \n78208                USERA                       Alcance            Despejado   \n78209            CHAMARTÍN                         Caída            Despejado   \n78210  FUENCARRAL-EL PARDO  Choque contra obstáculo fijo                  NaN   \n\n                 tipo_vehiculo  ...       rango_edad    sexo cod_lesividad  \\\n0                      Turismo  ...  De 30 a 34 años   Mujer           NaN   \n1                      Turismo  ...  De 45 a 49 años  Hombre           NaN   \n2      Motocicleta hasta 125cc  ...  De 30 a 34 años  Hombre           NaN   \n3      Motocicleta hasta 125cc  ...  De 35 a 39 años   Mujer           NaN   \n4                      Turismo  ...  De 40 a 44 años  Hombre           NaN   \n...                        ...  ...              ...     ...           ...   \n78206                  Turismo  ...  De 55 a 59 años   Mujer          14.0   \n78207  Motocicleta hasta 125cc  ...  De 30 a 34 años  Hombre           7.0   \n78208                  Turismo  ...  De 35 a 39 años  Hombre          14.0   \n78209  Motocicleta hasta 125cc  ...  De 40 a 44 años  Hombre           1.0   \n78210                  Turismo  ...  De 35 a 39 años  Hombre           NaN   \n\n                                               lesividad coordenada_x_utm  \\\n0                                                    NaN       443359,226   \n1                                                    NaN       443359,226   \n2                                                    NaN       441155,351   \n3                                                    NaN       441155,351   \n4                                                    NaN       441155,351   \n...                                                  ...              ...   \n78206                           Sin asistencia sanitaria       443580.365   \n78207  Asistencia sanitaria sólo en el lugar del acci...        440795.55   \n78208                           Sin asistencia sanitaria        440795.55   \n78209        Atención en urgencias sin posterior ingreso         442825.5   \n78210                                                NaN       441491.437   \n\n      coordenada_y_utm positiva_alcohol positiva_droga  Unnamed: 19  \\\n0          4472082,272                N            NaN          NaN   \n1          4472082,272                N            NaN          NaN   \n2          4474129,588                S            NaN          NaN   \n3          4474129,588                N            NaN          NaN   \n4          4474129,588                N            NaN          NaN   \n...                ...              ...            ...          ...   \n78206      4480912.376                N            NaN          NaN   \n78207      4471044.789                N            NaN          NaN   \n78208      4471044.789                N            NaN          NaN   \n78209      4481003.193                N            NaN          NaN   \n78210       4482518.59                N            NaN          NaN   \n\n       Unnamed: 20  \n0              NaN  \n1              NaN  \n2              NaN  \n3              NaN  \n4              NaN  \n...            ...  \n78206          NaN  \n78207          NaN  \n78208          NaN  \n78209          NaN  \n78210          NaN  \n\n[74685 rows x 21 columns]",
      "text/html": "<div>\n<style scoped>\n    .dataframe tbody tr th:only-of-type {\n        vertical-align: middle;\n    }\n\n    .dataframe tbody tr th {\n        vertical-align: top;\n    }\n\n    .dataframe thead th {\n        text-align: right;\n    }\n</style>\n<table border=\"1\" class=\"dataframe\">\n  <thead>\n    <tr style=\"text-align: right;\">\n      <th></th>\n      <th>num_expediente</th>\n      <th>fecha</th>\n      <th>hora</th>\n      <th>localizacion</th>\n      <th>numero</th>\n      <th>cod_distrito</th>\n      <th>distrito</th>\n      <th>tipo_accidente</th>\n      <th>estado_meteorológico</th>\n      <th>tipo_vehiculo</th>\n      <th>...</th>\n      <th>rango_edad</th>\n      <th>sexo</th>\n      <th>cod_lesividad</th>\n      <th>lesividad</th>\n      <th>coordenada_x_utm</th>\n      <th>coordenada_y_utm</th>\n      <th>positiva_alcohol</th>\n      <th>positiva_droga</th>\n      <th>Unnamed: 19</th>\n      <th>Unnamed: 20</th>\n    </tr>\n  </thead>\n  <tbody>\n    <tr>\n      <th>0</th>\n      <td>2022S000001</td>\n      <td>01/01/2022</td>\n      <td>1:30:00</td>\n      <td>AVDA. ALBUFERA, 19</td>\n      <td>19</td>\n      <td>13.0</td>\n      <td>PUENTE DE VALLECAS</td>\n      <td>Alcance</td>\n      <td>Despejado</td>\n      <td>Turismo</td>\n      <td>...</td>\n      <td>De 30 a 34 años</td>\n      <td>Mujer</td>\n      <td>NaN</td>\n      <td>NaN</td>\n      <td>443359,226</td>\n      <td>4472082,272</td>\n      <td>N</td>\n      <td>NaN</td>\n      <td>NaN</td>\n      <td>NaN</td>\n    </tr>\n    <tr>\n      <th>1</th>\n      <td>2022S000001</td>\n      <td>01/01/2022</td>\n      <td>1:30:00</td>\n      <td>AVDA. ALBUFERA, 19</td>\n      <td>19</td>\n      <td>13.0</td>\n      <td>PUENTE DE VALLECAS</td>\n      <td>Alcance</td>\n      <td>Despejado</td>\n      <td>Turismo</td>\n      <td>...</td>\n      <td>De 45 a 49 años</td>\n      <td>Hombre</td>\n      <td>NaN</td>\n      <td>NaN</td>\n      <td>443359,226</td>\n      <td>4472082,272</td>\n      <td>N</td>\n      <td>NaN</td>\n      <td>NaN</td>\n      <td>NaN</td>\n    </tr>\n    <tr>\n      <th>2</th>\n      <td>2022S000002</td>\n      <td>01/01/2022</td>\n      <td>0:30:00</td>\n      <td>PLAZA. CANOVAS DEL CASTILLO / PASEO. PRADO</td>\n      <td>2</td>\n      <td>3.0</td>\n      <td>RETIRO</td>\n      <td>Colisión fronto-lateral</td>\n      <td>NaN</td>\n      <td>Motocicleta hasta 125cc</td>\n      <td>...</td>\n      <td>De 30 a 34 años</td>\n      <td>Hombre</td>\n      <td>NaN</td>\n      <td>NaN</td>\n      <td>441155,351</td>\n      <td>4474129,588</td>\n      <td>S</td>\n      <td>NaN</td>\n      <td>NaN</td>\n      <td>NaN</td>\n    </tr>\n    <tr>\n      <th>3</th>\n      <td>2022S000002</td>\n      <td>01/01/2022</td>\n      <td>0:30:00</td>\n      <td>PLAZA. CANOVAS DEL CASTILLO / PASEO. PRADO</td>\n      <td>2</td>\n      <td>3.0</td>\n      <td>RETIRO</td>\n      <td>Colisión fronto-lateral</td>\n      <td>NaN</td>\n      <td>Motocicleta hasta 125cc</td>\n      <td>...</td>\n      <td>De 35 a 39 años</td>\n      <td>Mujer</td>\n      <td>NaN</td>\n      <td>NaN</td>\n      <td>441155,351</td>\n      <td>4474129,588</td>\n      <td>N</td>\n      <td>NaN</td>\n      <td>NaN</td>\n      <td>NaN</td>\n    </tr>\n    <tr>\n      <th>4</th>\n      <td>2022S000002</td>\n      <td>01/01/2022</td>\n      <td>0:30:00</td>\n      <td>PLAZA. CANOVAS DEL CASTILLO / PASEO. PRADO</td>\n      <td>2</td>\n      <td>3.0</td>\n      <td>RETIRO</td>\n      <td>Colisión fronto-lateral</td>\n      <td>NaN</td>\n      <td>Turismo</td>\n      <td>...</td>\n      <td>De 40 a 44 años</td>\n      <td>Hombre</td>\n      <td>NaN</td>\n      <td>NaN</td>\n      <td>441155,351</td>\n      <td>4474129,588</td>\n      <td>N</td>\n      <td>NaN</td>\n      <td>NaN</td>\n      <td>NaN</td>\n    </tr>\n    <tr>\n      <th>...</th>\n      <td>...</td>\n      <td>...</td>\n      <td>...</td>\n      <td>...</td>\n      <td>...</td>\n      <td>...</td>\n      <td>...</td>\n      <td>...</td>\n      <td>...</td>\n      <td>...</td>\n      <td>...</td>\n      <td>...</td>\n      <td>...</td>\n      <td>...</td>\n      <td>...</td>\n      <td>...</td>\n      <td>...</td>\n      <td>...</td>\n      <td>...</td>\n      <td>...</td>\n      <td>...</td>\n    </tr>\n    <tr>\n      <th>78206</th>\n      <td>2023S028337</td>\n      <td>31/08/2023</td>\n      <td>23:20:00</td>\n      <td>CALL. GOLFO DE SALONICA, 12</td>\n      <td>12</td>\n      <td>16.0</td>\n      <td>HORTALEZA</td>\n      <td>Otro</td>\n      <td>Despejado</td>\n      <td>Turismo</td>\n      <td>...</td>\n      <td>De 55 a 59 años</td>\n      <td>Mujer</td>\n      <td>14.0</td>\n      <td>Sin asistencia sanitaria</td>\n      <td>443580.365</td>\n      <td>4480912.376</td>\n      <td>N</td>\n      <td>NaN</td>\n      <td>NaN</td>\n      <td>NaN</td>\n    </tr>\n    <tr>\n      <th>78207</th>\n      <td>2023S028341</td>\n      <td>31/08/2023</td>\n      <td>22:30:00</td>\n      <td>CALLE SAN SERAPIO</td>\n      <td>1</td>\n      <td>12.0</td>\n      <td>USERA</td>\n      <td>Alcance</td>\n      <td>Despejado</td>\n      <td>Motocicleta hasta 125cc</td>\n      <td>...</td>\n      <td>De 30 a 34 años</td>\n      <td>Hombre</td>\n      <td>7.0</td>\n      <td>Asistencia sanitaria sólo en el lugar del acci...</td>\n      <td>440795.55</td>\n      <td>4471044.789</td>\n      <td>N</td>\n      <td>NaN</td>\n      <td>NaN</td>\n      <td>NaN</td>\n    </tr>\n    <tr>\n      <th>78208</th>\n      <td>2023S028341</td>\n      <td>31/08/2023</td>\n      <td>22:30:00</td>\n      <td>CALLE SAN SERAPIO</td>\n      <td>1</td>\n      <td>12.0</td>\n      <td>USERA</td>\n      <td>Alcance</td>\n      <td>Despejado</td>\n      <td>Turismo</td>\n      <td>...</td>\n      <td>De 35 a 39 años</td>\n      <td>Hombre</td>\n      <td>14.0</td>\n      <td>Sin asistencia sanitaria</td>\n      <td>440795.55</td>\n      <td>4471044.789</td>\n      <td>N</td>\n      <td>NaN</td>\n      <td>NaN</td>\n      <td>NaN</td>\n    </tr>\n    <tr>\n      <th>78209</th>\n      <td>2023S028352</td>\n      <td>31/08/2023</td>\n      <td>14:40:00</td>\n      <td>AUTOV. M-30, 00NC06</td>\n      <td>00NC06</td>\n      <td>5.0</td>\n      <td>CHAMARTÍN</td>\n      <td>Caída</td>\n      <td>Despejado</td>\n      <td>Motocicleta hasta 125cc</td>\n      <td>...</td>\n      <td>De 40 a 44 años</td>\n      <td>Hombre</td>\n      <td>1.0</td>\n      <td>Atención en urgencias sin posterior ingreso</td>\n      <td>442825.5</td>\n      <td>4481003.193</td>\n      <td>N</td>\n      <td>NaN</td>\n      <td>NaN</td>\n      <td>NaN</td>\n    </tr>\n    <tr>\n      <th>78210</th>\n      <td>2023S029136</td>\n      <td>02/08/2023</td>\n      <td>22:10:00</td>\n      <td>AVDA. CARDENAL HERRERA ORIA, 80</td>\n      <td>80</td>\n      <td>8.0</td>\n      <td>FUENCARRAL-EL PARDO</td>\n      <td>Choque contra obstáculo fijo</td>\n      <td>NaN</td>\n      <td>Turismo</td>\n      <td>...</td>\n      <td>De 35 a 39 años</td>\n      <td>Hombre</td>\n      <td>NaN</td>\n      <td>NaN</td>\n      <td>441491.437</td>\n      <td>4482518.59</td>\n      <td>N</td>\n      <td>NaN</td>\n      <td>NaN</td>\n      <td>NaN</td>\n    </tr>\n  </tbody>\n</table>\n<p>74685 rows × 21 columns</p>\n</div>"
     },
     "execution_count": 27,
     "metadata": {},
     "output_type": "execute_result"
    }
   ],
   "source": [
    "filas_con_nulos = combined_data['positiva_droga'].isnull()\n",
    "combined_data[filas_con_nulos]"
   ],
   "metadata": {
    "collapsed": false
   },
   "id": "41407c3f128a68ba"
  },
  {
   "cell_type": "markdown",
   "source": [
    "Eliminamos unas columnas no deseadas 'Unnamed', ya que probablemente haya sido un error del autor y nos molesta"
   ],
   "metadata": {
    "collapsed": false
   }
  },
  {
   "cell_type": "code",
   "execution_count": 28,
   "outputs": [
    {
     "data": {
      "text/plain": "  num_expediente       fecha     hora  \\\n0    2022S000001  01/01/2022  1:30:00   \n1    2022S000001  01/01/2022  1:30:00   \n2    2022S000002  01/01/2022  0:30:00   \n3    2022S000002  01/01/2022  0:30:00   \n4    2022S000002  01/01/2022  0:30:00   \n\n                                 localizacion numero  cod_distrito  \\\n0                          AVDA. ALBUFERA, 19     19          13.0   \n1                          AVDA. ALBUFERA, 19     19          13.0   \n2  PLAZA. CANOVAS DEL CASTILLO / PASEO. PRADO      2           3.0   \n3  PLAZA. CANOVAS DEL CASTILLO / PASEO. PRADO      2           3.0   \n4  PLAZA. CANOVAS DEL CASTILLO / PASEO. PRADO      2           3.0   \n\n             distrito           tipo_accidente estado_meteorológico  \\\n0  PUENTE DE VALLECAS                  Alcance            Despejado   \n1  PUENTE DE VALLECAS                  Alcance            Despejado   \n2              RETIRO  Colisión fronto-lateral                  NaN   \n3              RETIRO  Colisión fronto-lateral                  NaN   \n4              RETIRO  Colisión fronto-lateral                  NaN   \n\n             tipo_vehiculo tipo_persona       rango_edad    sexo  \\\n0                  Turismo    Conductor  De 30 a 34 años   Mujer   \n1                  Turismo    Conductor  De 45 a 49 años  Hombre   \n2  Motocicleta hasta 125cc    Conductor  De 30 a 34 años  Hombre   \n3  Motocicleta hasta 125cc     Pasajero  De 35 a 39 años   Mujer   \n4                  Turismo    Conductor  De 40 a 44 años  Hombre   \n\n   cod_lesividad lesividad coordenada_x_utm coordenada_y_utm positiva_alcohol  \\\n0            NaN       NaN       443359,226      4472082,272                N   \n1            NaN       NaN       443359,226      4472082,272                N   \n2            NaN       NaN       441155,351      4474129,588                S   \n3            NaN       NaN       441155,351      4474129,588                N   \n4            NaN       NaN       441155,351      4474129,588                N   \n\n   positiva_droga  \n0             NaN  \n1             NaN  \n2             NaN  \n3             NaN  \n4             NaN  ",
      "text/html": "<div>\n<style scoped>\n    .dataframe tbody tr th:only-of-type {\n        vertical-align: middle;\n    }\n\n    .dataframe tbody tr th {\n        vertical-align: top;\n    }\n\n    .dataframe thead th {\n        text-align: right;\n    }\n</style>\n<table border=\"1\" class=\"dataframe\">\n  <thead>\n    <tr style=\"text-align: right;\">\n      <th></th>\n      <th>num_expediente</th>\n      <th>fecha</th>\n      <th>hora</th>\n      <th>localizacion</th>\n      <th>numero</th>\n      <th>cod_distrito</th>\n      <th>distrito</th>\n      <th>tipo_accidente</th>\n      <th>estado_meteorológico</th>\n      <th>tipo_vehiculo</th>\n      <th>tipo_persona</th>\n      <th>rango_edad</th>\n      <th>sexo</th>\n      <th>cod_lesividad</th>\n      <th>lesividad</th>\n      <th>coordenada_x_utm</th>\n      <th>coordenada_y_utm</th>\n      <th>positiva_alcohol</th>\n      <th>positiva_droga</th>\n    </tr>\n  </thead>\n  <tbody>\n    <tr>\n      <th>0</th>\n      <td>2022S000001</td>\n      <td>01/01/2022</td>\n      <td>1:30:00</td>\n      <td>AVDA. ALBUFERA, 19</td>\n      <td>19</td>\n      <td>13.0</td>\n      <td>PUENTE DE VALLECAS</td>\n      <td>Alcance</td>\n      <td>Despejado</td>\n      <td>Turismo</td>\n      <td>Conductor</td>\n      <td>De 30 a 34 años</td>\n      <td>Mujer</td>\n      <td>NaN</td>\n      <td>NaN</td>\n      <td>443359,226</td>\n      <td>4472082,272</td>\n      <td>N</td>\n      <td>NaN</td>\n    </tr>\n    <tr>\n      <th>1</th>\n      <td>2022S000001</td>\n      <td>01/01/2022</td>\n      <td>1:30:00</td>\n      <td>AVDA. ALBUFERA, 19</td>\n      <td>19</td>\n      <td>13.0</td>\n      <td>PUENTE DE VALLECAS</td>\n      <td>Alcance</td>\n      <td>Despejado</td>\n      <td>Turismo</td>\n      <td>Conductor</td>\n      <td>De 45 a 49 años</td>\n      <td>Hombre</td>\n      <td>NaN</td>\n      <td>NaN</td>\n      <td>443359,226</td>\n      <td>4472082,272</td>\n      <td>N</td>\n      <td>NaN</td>\n    </tr>\n    <tr>\n      <th>2</th>\n      <td>2022S000002</td>\n      <td>01/01/2022</td>\n      <td>0:30:00</td>\n      <td>PLAZA. CANOVAS DEL CASTILLO / PASEO. PRADO</td>\n      <td>2</td>\n      <td>3.0</td>\n      <td>RETIRO</td>\n      <td>Colisión fronto-lateral</td>\n      <td>NaN</td>\n      <td>Motocicleta hasta 125cc</td>\n      <td>Conductor</td>\n      <td>De 30 a 34 años</td>\n      <td>Hombre</td>\n      <td>NaN</td>\n      <td>NaN</td>\n      <td>441155,351</td>\n      <td>4474129,588</td>\n      <td>S</td>\n      <td>NaN</td>\n    </tr>\n    <tr>\n      <th>3</th>\n      <td>2022S000002</td>\n      <td>01/01/2022</td>\n      <td>0:30:00</td>\n      <td>PLAZA. CANOVAS DEL CASTILLO / PASEO. PRADO</td>\n      <td>2</td>\n      <td>3.0</td>\n      <td>RETIRO</td>\n      <td>Colisión fronto-lateral</td>\n      <td>NaN</td>\n      <td>Motocicleta hasta 125cc</td>\n      <td>Pasajero</td>\n      <td>De 35 a 39 años</td>\n      <td>Mujer</td>\n      <td>NaN</td>\n      <td>NaN</td>\n      <td>441155,351</td>\n      <td>4474129,588</td>\n      <td>N</td>\n      <td>NaN</td>\n    </tr>\n    <tr>\n      <th>4</th>\n      <td>2022S000002</td>\n      <td>01/01/2022</td>\n      <td>0:30:00</td>\n      <td>PLAZA. CANOVAS DEL CASTILLO / PASEO. PRADO</td>\n      <td>2</td>\n      <td>3.0</td>\n      <td>RETIRO</td>\n      <td>Colisión fronto-lateral</td>\n      <td>NaN</td>\n      <td>Turismo</td>\n      <td>Conductor</td>\n      <td>De 40 a 44 años</td>\n      <td>Hombre</td>\n      <td>NaN</td>\n      <td>NaN</td>\n      <td>441155,351</td>\n      <td>4474129,588</td>\n      <td>N</td>\n      <td>NaN</td>\n    </tr>\n  </tbody>\n</table>\n</div>"
     },
     "execution_count": 28,
     "metadata": {},
     "output_type": "execute_result"
    }
   ],
   "source": [
    "combined_data.drop(columns=[col for col in combined_data.columns if col.startswith(\"Unnamed\")], inplace=True)\n",
    "combined_data.head()"
   ],
   "metadata": {
    "collapsed": false
   }
  },
  {
   "cell_type": "markdown",
   "source": [
    "## Uniformidad"
   ],
   "metadata": {
    "collapsed": false
   }
  },
  {
   "cell_type": "markdown",
   "id": "cdaf0929",
   "metadata": {},
   "source": [
    "1. Cambiamos los nulos de positiva_droga por un 0 y en positiva_alcohol 'S' por 1 y 'N' por 0 para mantener la uniformidad"
   ]
  },
  {
   "cell_type": "code",
   "execution_count": 29,
   "id": "506b5bd9",
   "metadata": {},
   "outputs": [
    {
     "data": {
      "text/plain": "(0.0    72250\n 1.0     2370\n Name: positiva_alcohol, dtype: int64,\n 0)"
     },
     "execution_count": 29,
     "metadata": {},
     "output_type": "execute_result"
    }
   ],
   "source": [
    "# Cambiamos en 'positiva_alcohol'\n",
    "combined_data['positiva_alcohol'].replace({'S': 1, 'N': 0}, inplace=True)\n",
    "# Cambiamos en 'positiva_droga' y 'positiva_alcohol los nulls\n",
    "combined_data['positiva_droga'].fillna(0, inplace=True)\n",
    "\n",
    "# Verificamos los cambios y si todavía hay valores nulos en la columna 'positiva_droga'\n",
    "combined_data['positiva_alcohol'].value_counts(), combined_data['positiva_droga'].isnull().sum()"
   ]
  },
  {
   "cell_type": "code",
   "execution_count": 32,
   "outputs": [],
   "source": [
    "combined_data.to_csv('./Datasets/Data_Combinada.csv', index=False)"
   ],
   "metadata": {
    "collapsed": false
   },
   "id": "a93f57c8edb224f5"
  },
  {
   "cell_type": "code",
   "execution_count": null,
   "outputs": [],
   "source": [],
   "metadata": {
    "collapsed": false
   },
   "id": "65eb1be8682c4a06"
  }
 ],
 "metadata": {
  "kernelspec": {
   "display_name": "Python 3 (ipykernel)",
   "language": "python",
   "name": "python3"
  },
  "language_info": {
   "codemirror_mode": {
    "name": "ipython",
    "version": 3
   },
   "file_extension": ".py",
   "mimetype": "text/x-python",
   "name": "python",
   "nbconvert_exporter": "python",
   "pygments_lexer": "ipython3",
   "version": "3.9.13"
  }
 },
 "nbformat": 4,
 "nbformat_minor": 5
}
