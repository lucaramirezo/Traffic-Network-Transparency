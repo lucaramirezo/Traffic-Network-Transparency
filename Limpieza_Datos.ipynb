{
 "cells": [
  {
   "cell_type": "markdown",
   "id": "12719a4a",
   "metadata": {},
   "source": [
    "# Limpiado de Datos "
   ]
  },
  {
   "cell_type": "code",
   "execution_count": 16,
   "id": "2baabc55",
   "metadata": {
    "ExecuteTime": {
     "end_time": "2023-11-17T17:09:53.316543514Z",
     "start_time": "2023-11-17T17:09:53.200337430Z"
    }
   },
   "outputs": [],
   "source": [
    "import pandas as pd\n",
    "import numpy as np\n",
    "import matplotlib.pyplot as plt"
   ]
  },
  {
   "cell_type": "markdown",
   "id": "005c06cf",
   "metadata": {},
   "source": [
    "## Accidentalidad 2022-2023"
   ]
  },
  {
   "cell_type": "markdown",
   "id": "bc382a57",
   "metadata": {},
   "source": [
    "\n",
    "El fichero 202X_Accidentalidad.csv recoge los datos de Accidentes de tráfico en la Ciudad de Madrid registrados por la Policía Municipal."
   ]
  },
  {
   "cell_type": "markdown",
   "id": "a9ecb78f",
   "metadata": {},
   "source": [
    "1. Tomamos los datos de los ficheros 2022_Accidentalidad.csv y 2023_Accidentalidad.csv y creamos dataframes con los datos de los ficheros"
   ]
  },
  {
   "cell_type": "code",
   "execution_count": 17,
   "id": "dafdf6ff",
   "metadata": {
    "ExecuteTime": {
     "end_time": "2023-11-17T17:09:53.457010422Z",
     "start_time": "2023-11-17T17:09:53.217938364Z"
    }
   },
   "outputs": [
    {
     "data": {
      "text/plain": "  num_expediente       fecha     hora  \\\n0    2022S000001  01/01/2022  1:30:00   \n1    2022S000001  01/01/2022  1:30:00   \n2    2022S000002  01/01/2022  0:30:00   \n3    2022S000002  01/01/2022  0:30:00   \n4    2022S000002  01/01/2022  0:30:00   \n\n                                 localizacion numero  cod_distrito  \\\n0                          AVDA. ALBUFERA, 19     19            13   \n1                          AVDA. ALBUFERA, 19     19            13   \n2  PLAZA. CANOVAS DEL CASTILLO / PASEO. PRADO      2             3   \n3  PLAZA. CANOVAS DEL CASTILLO / PASEO. PRADO      2             3   \n4  PLAZA. CANOVAS DEL CASTILLO / PASEO. PRADO      2             3   \n\n             distrito           tipo_accidente estado_meteorológico  \\\n0  PUENTE DE VALLECAS                  Alcance            Despejado   \n1  PUENTE DE VALLECAS                  Alcance            Despejado   \n2              RETIRO  Colisión fronto-lateral                  NaN   \n3              RETIRO  Colisión fronto-lateral                  NaN   \n4              RETIRO  Colisión fronto-lateral                  NaN   \n\n             tipo_vehiculo  ...       rango_edad    sexo cod_lesividad  \\\n0                  Turismo  ...  De 30 a 34 años   Mujer           NaN   \n1                  Turismo  ...  De 45 a 49 años  Hombre           NaN   \n2  Motocicleta hasta 125cc  ...  De 30 a 34 años  Hombre           NaN   \n3  Motocicleta hasta 125cc  ...  De 35 a 39 años   Mujer           NaN   \n4                  Turismo  ...  De 40 a 44 años  Hombre           NaN   \n\n   lesividad coordenada_x_utm coordenada_y_utm positiva_alcohol  \\\n0        NaN       443359,226      4472082,272                N   \n1        NaN       443359,226      4472082,272                N   \n2        NaN       441155,351      4474129,588                S   \n3        NaN       441155,351      4474129,588                N   \n4        NaN       441155,351      4474129,588                N   \n\n  positiva_droga  Unnamed: 19  Unnamed: 20  \n0            NaN          NaN          NaN  \n1            NaN          NaN          NaN  \n2            NaN          NaN          NaN  \n3            NaN          NaN          NaN  \n4            NaN          NaN          NaN  \n\n[5 rows x 21 columns]",
      "text/html": "<div>\n<style scoped>\n    .dataframe tbody tr th:only-of-type {\n        vertical-align: middle;\n    }\n\n    .dataframe tbody tr th {\n        vertical-align: top;\n    }\n\n    .dataframe thead th {\n        text-align: right;\n    }\n</style>\n<table border=\"1\" class=\"dataframe\">\n  <thead>\n    <tr style=\"text-align: right;\">\n      <th></th>\n      <th>num_expediente</th>\n      <th>fecha</th>\n      <th>hora</th>\n      <th>localizacion</th>\n      <th>numero</th>\n      <th>cod_distrito</th>\n      <th>distrito</th>\n      <th>tipo_accidente</th>\n      <th>estado_meteorológico</th>\n      <th>tipo_vehiculo</th>\n      <th>...</th>\n      <th>rango_edad</th>\n      <th>sexo</th>\n      <th>cod_lesividad</th>\n      <th>lesividad</th>\n      <th>coordenada_x_utm</th>\n      <th>coordenada_y_utm</th>\n      <th>positiva_alcohol</th>\n      <th>positiva_droga</th>\n      <th>Unnamed: 19</th>\n      <th>Unnamed: 20</th>\n    </tr>\n  </thead>\n  <tbody>\n    <tr>\n      <th>0</th>\n      <td>2022S000001</td>\n      <td>01/01/2022</td>\n      <td>1:30:00</td>\n      <td>AVDA. ALBUFERA, 19</td>\n      <td>19</td>\n      <td>13</td>\n      <td>PUENTE DE VALLECAS</td>\n      <td>Alcance</td>\n      <td>Despejado</td>\n      <td>Turismo</td>\n      <td>...</td>\n      <td>De 30 a 34 años</td>\n      <td>Mujer</td>\n      <td>NaN</td>\n      <td>NaN</td>\n      <td>443359,226</td>\n      <td>4472082,272</td>\n      <td>N</td>\n      <td>NaN</td>\n      <td>NaN</td>\n      <td>NaN</td>\n    </tr>\n    <tr>\n      <th>1</th>\n      <td>2022S000001</td>\n      <td>01/01/2022</td>\n      <td>1:30:00</td>\n      <td>AVDA. ALBUFERA, 19</td>\n      <td>19</td>\n      <td>13</td>\n      <td>PUENTE DE VALLECAS</td>\n      <td>Alcance</td>\n      <td>Despejado</td>\n      <td>Turismo</td>\n      <td>...</td>\n      <td>De 45 a 49 años</td>\n      <td>Hombre</td>\n      <td>NaN</td>\n      <td>NaN</td>\n      <td>443359,226</td>\n      <td>4472082,272</td>\n      <td>N</td>\n      <td>NaN</td>\n      <td>NaN</td>\n      <td>NaN</td>\n    </tr>\n    <tr>\n      <th>2</th>\n      <td>2022S000002</td>\n      <td>01/01/2022</td>\n      <td>0:30:00</td>\n      <td>PLAZA. CANOVAS DEL CASTILLO / PASEO. PRADO</td>\n      <td>2</td>\n      <td>3</td>\n      <td>RETIRO</td>\n      <td>Colisión fronto-lateral</td>\n      <td>NaN</td>\n      <td>Motocicleta hasta 125cc</td>\n      <td>...</td>\n      <td>De 30 a 34 años</td>\n      <td>Hombre</td>\n      <td>NaN</td>\n      <td>NaN</td>\n      <td>441155,351</td>\n      <td>4474129,588</td>\n      <td>S</td>\n      <td>NaN</td>\n      <td>NaN</td>\n      <td>NaN</td>\n    </tr>\n    <tr>\n      <th>3</th>\n      <td>2022S000002</td>\n      <td>01/01/2022</td>\n      <td>0:30:00</td>\n      <td>PLAZA. CANOVAS DEL CASTILLO / PASEO. PRADO</td>\n      <td>2</td>\n      <td>3</td>\n      <td>RETIRO</td>\n      <td>Colisión fronto-lateral</td>\n      <td>NaN</td>\n      <td>Motocicleta hasta 125cc</td>\n      <td>...</td>\n      <td>De 35 a 39 años</td>\n      <td>Mujer</td>\n      <td>NaN</td>\n      <td>NaN</td>\n      <td>441155,351</td>\n      <td>4474129,588</td>\n      <td>N</td>\n      <td>NaN</td>\n      <td>NaN</td>\n      <td>NaN</td>\n    </tr>\n    <tr>\n      <th>4</th>\n      <td>2022S000002</td>\n      <td>01/01/2022</td>\n      <td>0:30:00</td>\n      <td>PLAZA. CANOVAS DEL CASTILLO / PASEO. PRADO</td>\n      <td>2</td>\n      <td>3</td>\n      <td>RETIRO</td>\n      <td>Colisión fronto-lateral</td>\n      <td>NaN</td>\n      <td>Turismo</td>\n      <td>...</td>\n      <td>De 40 a 44 años</td>\n      <td>Hombre</td>\n      <td>NaN</td>\n      <td>NaN</td>\n      <td>441155,351</td>\n      <td>4474129,588</td>\n      <td>N</td>\n      <td>NaN</td>\n      <td>NaN</td>\n      <td>NaN</td>\n    </tr>\n  </tbody>\n</table>\n<p>5 rows × 21 columns</p>\n</div>"
     },
     "execution_count": 17,
     "metadata": {},
     "output_type": "execute_result"
    }
   ],
   "source": [
    "accidentes_2022 = pd.read_csv('./Datasets/2022_Accidentalidad.csv', sep = ';')\n",
    "accidentes_2022.head()"
   ]
  },
  {
   "cell_type": "code",
   "execution_count": 18,
   "id": "07f4436f",
   "metadata": {
    "ExecuteTime": {
     "end_time": "2023-11-17T17:09:53.552791427Z",
     "start_time": "2023-11-17T17:09:53.445244318Z"
    }
   },
   "outputs": [
    {
     "data": {
      "text/plain": "  num_expediente       fecha     hora            localizacion numero  \\\n0    2023S000001  01/01/2023  1:15:00  AVDA. ALFONSO XIII, 33     33   \n1    2023S000001  01/01/2023  1:15:00  AVDA. ALFONSO XIII, 33     33   \n2    2023S000001  01/01/2023  1:15:00  AVDA. ALFONSO XIII, 33     33   \n3    2023S000001  01/01/2023  1:15:00  AVDA. ALFONSO XIII, 33     33   \n4    2023S000001  01/01/2023  1:15:00  AVDA. ALFONSO XIII, 33     33   \n\n   cod_distrito   distrito tipo_accidente estado_meteorológico tipo_vehiculo  \\\n0           5.0  CHAMARTÍN        Alcance            Despejado  Todo terreno   \n1           5.0  CHAMARTÍN        Alcance            Despejado  Todo terreno   \n2           5.0  CHAMARTÍN        Alcance            Despejado  Todo terreno   \n3           5.0  CHAMARTÍN        Alcance            Despejado  Todo terreno   \n4           5.0  CHAMARTÍN        Alcance            Despejado  Todo terreno   \n\n  tipo_persona       rango_edad    sexo  cod_lesividad  \\\n0    Conductor  De 55 a 59 años   Mujer           14.0   \n1     Pasajero  De 21 a 24 años  Hombre           14.0   \n2     Pasajero  De 21 a 24 años  Hombre           14.0   \n3     Pasajero  De 21 a 24 años   Mujer            7.0   \n4     Pasajero  De 55 a 59 años  Hombre            7.0   \n\n                                           lesividad  coordenada_x_utm  \\\n0                           Sin asistencia sanitaria        443397.166   \n1                           Sin asistencia sanitaria        443397.166   \n2                           Sin asistencia sanitaria        443397.166   \n3  Asistencia sanitaria sólo en el lugar del acci...        443397.166   \n4  Asistencia sanitaria sólo en el lugar del acci...        443397.166   \n\n   coordenada_y_utm positiva_alcohol  positiva_droga  \n0       4478129.388                N             NaN  \n1       4478129.388                N             NaN  \n2       4478129.388                N             NaN  \n3       4478129.388                N             NaN  \n4       4478129.388                N             NaN  ",
      "text/html": "<div>\n<style scoped>\n    .dataframe tbody tr th:only-of-type {\n        vertical-align: middle;\n    }\n\n    .dataframe tbody tr th {\n        vertical-align: top;\n    }\n\n    .dataframe thead th {\n        text-align: right;\n    }\n</style>\n<table border=\"1\" class=\"dataframe\">\n  <thead>\n    <tr style=\"text-align: right;\">\n      <th></th>\n      <th>num_expediente</th>\n      <th>fecha</th>\n      <th>hora</th>\n      <th>localizacion</th>\n      <th>numero</th>\n      <th>cod_distrito</th>\n      <th>distrito</th>\n      <th>tipo_accidente</th>\n      <th>estado_meteorológico</th>\n      <th>tipo_vehiculo</th>\n      <th>tipo_persona</th>\n      <th>rango_edad</th>\n      <th>sexo</th>\n      <th>cod_lesividad</th>\n      <th>lesividad</th>\n      <th>coordenada_x_utm</th>\n      <th>coordenada_y_utm</th>\n      <th>positiva_alcohol</th>\n      <th>positiva_droga</th>\n    </tr>\n  </thead>\n  <tbody>\n    <tr>\n      <th>0</th>\n      <td>2023S000001</td>\n      <td>01/01/2023</td>\n      <td>1:15:00</td>\n      <td>AVDA. ALFONSO XIII, 33</td>\n      <td>33</td>\n      <td>5.0</td>\n      <td>CHAMARTÍN</td>\n      <td>Alcance</td>\n      <td>Despejado</td>\n      <td>Todo terreno</td>\n      <td>Conductor</td>\n      <td>De 55 a 59 años</td>\n      <td>Mujer</td>\n      <td>14.0</td>\n      <td>Sin asistencia sanitaria</td>\n      <td>443397.166</td>\n      <td>4478129.388</td>\n      <td>N</td>\n      <td>NaN</td>\n    </tr>\n    <tr>\n      <th>1</th>\n      <td>2023S000001</td>\n      <td>01/01/2023</td>\n      <td>1:15:00</td>\n      <td>AVDA. ALFONSO XIII, 33</td>\n      <td>33</td>\n      <td>5.0</td>\n      <td>CHAMARTÍN</td>\n      <td>Alcance</td>\n      <td>Despejado</td>\n      <td>Todo terreno</td>\n      <td>Pasajero</td>\n      <td>De 21 a 24 años</td>\n      <td>Hombre</td>\n      <td>14.0</td>\n      <td>Sin asistencia sanitaria</td>\n      <td>443397.166</td>\n      <td>4478129.388</td>\n      <td>N</td>\n      <td>NaN</td>\n    </tr>\n    <tr>\n      <th>2</th>\n      <td>2023S000001</td>\n      <td>01/01/2023</td>\n      <td>1:15:00</td>\n      <td>AVDA. ALFONSO XIII, 33</td>\n      <td>33</td>\n      <td>5.0</td>\n      <td>CHAMARTÍN</td>\n      <td>Alcance</td>\n      <td>Despejado</td>\n      <td>Todo terreno</td>\n      <td>Pasajero</td>\n      <td>De 21 a 24 años</td>\n      <td>Hombre</td>\n      <td>14.0</td>\n      <td>Sin asistencia sanitaria</td>\n      <td>443397.166</td>\n      <td>4478129.388</td>\n      <td>N</td>\n      <td>NaN</td>\n    </tr>\n    <tr>\n      <th>3</th>\n      <td>2023S000001</td>\n      <td>01/01/2023</td>\n      <td>1:15:00</td>\n      <td>AVDA. ALFONSO XIII, 33</td>\n      <td>33</td>\n      <td>5.0</td>\n      <td>CHAMARTÍN</td>\n      <td>Alcance</td>\n      <td>Despejado</td>\n      <td>Todo terreno</td>\n      <td>Pasajero</td>\n      <td>De 21 a 24 años</td>\n      <td>Mujer</td>\n      <td>7.0</td>\n      <td>Asistencia sanitaria sólo en el lugar del acci...</td>\n      <td>443397.166</td>\n      <td>4478129.388</td>\n      <td>N</td>\n      <td>NaN</td>\n    </tr>\n    <tr>\n      <th>4</th>\n      <td>2023S000001</td>\n      <td>01/01/2023</td>\n      <td>1:15:00</td>\n      <td>AVDA. ALFONSO XIII, 33</td>\n      <td>33</td>\n      <td>5.0</td>\n      <td>CHAMARTÍN</td>\n      <td>Alcance</td>\n      <td>Despejado</td>\n      <td>Todo terreno</td>\n      <td>Pasajero</td>\n      <td>De 55 a 59 años</td>\n      <td>Hombre</td>\n      <td>7.0</td>\n      <td>Asistencia sanitaria sólo en el lugar del acci...</td>\n      <td>443397.166</td>\n      <td>4478129.388</td>\n      <td>N</td>\n      <td>NaN</td>\n    </tr>\n  </tbody>\n</table>\n</div>"
     },
     "execution_count": 18,
     "metadata": {},
     "output_type": "execute_result"
    }
   ],
   "source": [
    "accidentes_2023 = pd.read_csv('./Datasets/2023_Accidentalidad.csv', sep = ';')\n",
    "accidentes_2023.head()"
   ]
  },
  {
   "cell_type": "markdown",
   "id": "1eed27a9",
   "metadata": {},
   "source": [
    "2. Combinamos los dataframes en uno solo para facilitar el trabajo y si hay filas duplicadas o filas completamente nulas las eliminamos para evitar tener datos repetidos"
   ]
  },
  {
   "cell_type": "code",
   "execution_count": 19,
   "id": "d928e46d",
   "metadata": {
    "ExecuteTime": {
     "end_time": "2023-11-17T17:09:53.676338021Z",
     "start_time": "2023-11-17T17:09:53.514667839Z"
    }
   },
   "outputs": [],
   "source": [
    "combined_data = pd.concat([accidentes_2022, accidentes_2023])\n",
    "# Restablecer índices para evitar índices duplicados\n",
    "combined_data.reset_index(drop=True, inplace=True)\n",
    "# Limpiar los datos\n",
    "combined_data.drop_duplicates(inplace=True)\n",
    "combined_data.dropna(how='all', inplace=True)"
   ]
  },
  {
   "cell_type": "markdown",
   "source": [
    "### Cazar valores nulos\n",
    "Buscamos nulos en las distintas columnas para mantener la integridad de los datos, conseguir precisión en el análisis, lograr compatibilidad con algoritmos y optimizar recursos"
   ],
   "metadata": {
    "collapsed": false
   },
   "id": "731c5b03372370f1"
  },
  {
   "cell_type": "markdown",
   "source": [],
   "metadata": {
    "collapsed": false
   },
   "id": "132362f1c6dea16d"
  },
  {
   "cell_type": "code",
   "execution_count": 20,
   "outputs": [
    {
     "data": {
      "text/plain": "Empty DataFrame\nColumns: [num_expediente, fecha, hora, localizacion, numero, cod_distrito, distrito, tipo_accidente, estado_meteorológico, tipo_vehiculo, tipo_persona, rango_edad, sexo, cod_lesividad, lesividad, coordenada_x_utm, coordenada_y_utm, positiva_alcohol, positiva_droga, Unnamed: 19, Unnamed: 20]\nIndex: []\n\n[0 rows x 21 columns]",
      "text/html": "<div>\n<style scoped>\n    .dataframe tbody tr th:only-of-type {\n        vertical-align: middle;\n    }\n\n    .dataframe tbody tr th {\n        vertical-align: top;\n    }\n\n    .dataframe thead th {\n        text-align: right;\n    }\n</style>\n<table border=\"1\" class=\"dataframe\">\n  <thead>\n    <tr style=\"text-align: right;\">\n      <th></th>\n      <th>num_expediente</th>\n      <th>fecha</th>\n      <th>hora</th>\n      <th>localizacion</th>\n      <th>numero</th>\n      <th>cod_distrito</th>\n      <th>distrito</th>\n      <th>tipo_accidente</th>\n      <th>estado_meteorológico</th>\n      <th>tipo_vehiculo</th>\n      <th>...</th>\n      <th>rango_edad</th>\n      <th>sexo</th>\n      <th>cod_lesividad</th>\n      <th>lesividad</th>\n      <th>coordenada_x_utm</th>\n      <th>coordenada_y_utm</th>\n      <th>positiva_alcohol</th>\n      <th>positiva_droga</th>\n      <th>Unnamed: 19</th>\n      <th>Unnamed: 20</th>\n    </tr>\n  </thead>\n  <tbody>\n  </tbody>\n</table>\n<p>0 rows × 21 columns</p>\n</div>"
     },
     "execution_count": 20,
     "metadata": {},
     "output_type": "execute_result"
    }
   ],
   "source": [
    "filas_con_nulos = combined_data['tipo_persona'].isnull()\n",
    "combined_data[filas_con_nulos]"
   ],
   "metadata": {
    "collapsed": false,
    "ExecuteTime": {
     "end_time": "2023-11-17T17:09:53.735343042Z",
     "start_time": "2023-11-17T17:09:53.685578171Z"
    }
   },
   "id": "6d095a26212d5600"
  },
  {
   "cell_type": "code",
   "execution_count": 21,
   "outputs": [
    {
     "data": {
      "text/plain": "    num_expediente       fecha      hora  \\\n291    2022S000148  04/01/2022  18:15:00   \n341    2022S000180  04/01/2022  20:25:00   \n634    2022S000342  08/01/2022   0:00:00   \n661    2022S000356  08/01/2022  15:07:00   \n764    2022S000413  09/01/2022  12:46:00   \n\n                                    localizacion numero  cod_distrito  \\\n291     CALL. EDUARDO BARREIROS / AVDA. POBLADOS      5          12.0   \n341          AVDA LOS POBLADOS - C/ EXPROPIACIÓN    146          12.0   \n634                        CALL. PUERTO RICO, 6A     6A           5.0   \n661  CALL. FRANCISCO JOSE ARROYO / CALL. ARMONIA      2          16.0   \n764         CALL. ESTRONCIO / CALL. BENITA LOPEZ     17          17.0   \n\n       distrito     tipo_accidente estado_meteorológico tipo_vehiculo  ...  \\\n291       USERA   Colisión lateral         Lluvia débil           NaN  ...   \n341       USERA   Colisión lateral              Nublado           NaN  ...   \n634   CHAMARTÍN   Colisión lateral            Despejado           NaN  ...   \n661   HORTALEZA  Colisión múltiple            Despejado           NaN  ...   \n764  VILLAVERDE  Colisión múltiple                  NaN           NaN  ...   \n\n      rango_edad         sexo cod_lesividad  lesividad coordenada_x_utm  \\\n291  Desconocido  Desconocido           NaN        NaN       440801,217   \n341  Desconocido  Desconocido           NaN        NaN       440082,365   \n634  Desconocido  Desconocido           NaN        NaN       442801,043   \n661  Desconocido  Desconocido           NaN        NaN       448109,781   \n764  Desconocido  Desconocido           NaN        NaN        441498,93   \n\n    coordenada_y_utm positiva_alcohol positiva_droga  Unnamed: 19  Unnamed: 20  \n291       4469164,69              NaN            NaN          NaN          NaN  \n341      4469234,182                N            NaN          NaN          NaN  \n634      4478205,366              NaN            NaN          NaN          NaN  \n661      4478305,503                N            NaN          NaN          NaN  \n764      4466555,878                N            NaN          NaN          NaN  \n\n[5 rows x 21 columns]",
      "text/html": "<div>\n<style scoped>\n    .dataframe tbody tr th:only-of-type {\n        vertical-align: middle;\n    }\n\n    .dataframe tbody tr th {\n        vertical-align: top;\n    }\n\n    .dataframe thead th {\n        text-align: right;\n    }\n</style>\n<table border=\"1\" class=\"dataframe\">\n  <thead>\n    <tr style=\"text-align: right;\">\n      <th></th>\n      <th>num_expediente</th>\n      <th>fecha</th>\n      <th>hora</th>\n      <th>localizacion</th>\n      <th>numero</th>\n      <th>cod_distrito</th>\n      <th>distrito</th>\n      <th>tipo_accidente</th>\n      <th>estado_meteorológico</th>\n      <th>tipo_vehiculo</th>\n      <th>...</th>\n      <th>rango_edad</th>\n      <th>sexo</th>\n      <th>cod_lesividad</th>\n      <th>lesividad</th>\n      <th>coordenada_x_utm</th>\n      <th>coordenada_y_utm</th>\n      <th>positiva_alcohol</th>\n      <th>positiva_droga</th>\n      <th>Unnamed: 19</th>\n      <th>Unnamed: 20</th>\n    </tr>\n  </thead>\n  <tbody>\n    <tr>\n      <th>291</th>\n      <td>2022S000148</td>\n      <td>04/01/2022</td>\n      <td>18:15:00</td>\n      <td>CALL. EDUARDO BARREIROS / AVDA. POBLADOS</td>\n      <td>5</td>\n      <td>12.0</td>\n      <td>USERA</td>\n      <td>Colisión lateral</td>\n      <td>Lluvia débil</td>\n      <td>NaN</td>\n      <td>...</td>\n      <td>Desconocido</td>\n      <td>Desconocido</td>\n      <td>NaN</td>\n      <td>NaN</td>\n      <td>440801,217</td>\n      <td>4469164,69</td>\n      <td>NaN</td>\n      <td>NaN</td>\n      <td>NaN</td>\n      <td>NaN</td>\n    </tr>\n    <tr>\n      <th>341</th>\n      <td>2022S000180</td>\n      <td>04/01/2022</td>\n      <td>20:25:00</td>\n      <td>AVDA LOS POBLADOS - C/ EXPROPIACIÓN</td>\n      <td>146</td>\n      <td>12.0</td>\n      <td>USERA</td>\n      <td>Colisión lateral</td>\n      <td>Nublado</td>\n      <td>NaN</td>\n      <td>...</td>\n      <td>Desconocido</td>\n      <td>Desconocido</td>\n      <td>NaN</td>\n      <td>NaN</td>\n      <td>440082,365</td>\n      <td>4469234,182</td>\n      <td>N</td>\n      <td>NaN</td>\n      <td>NaN</td>\n      <td>NaN</td>\n    </tr>\n    <tr>\n      <th>634</th>\n      <td>2022S000342</td>\n      <td>08/01/2022</td>\n      <td>0:00:00</td>\n      <td>CALL. PUERTO RICO, 6A</td>\n      <td>6A</td>\n      <td>5.0</td>\n      <td>CHAMARTÍN</td>\n      <td>Colisión lateral</td>\n      <td>Despejado</td>\n      <td>NaN</td>\n      <td>...</td>\n      <td>Desconocido</td>\n      <td>Desconocido</td>\n      <td>NaN</td>\n      <td>NaN</td>\n      <td>442801,043</td>\n      <td>4478205,366</td>\n      <td>NaN</td>\n      <td>NaN</td>\n      <td>NaN</td>\n      <td>NaN</td>\n    </tr>\n    <tr>\n      <th>661</th>\n      <td>2022S000356</td>\n      <td>08/01/2022</td>\n      <td>15:07:00</td>\n      <td>CALL. FRANCISCO JOSE ARROYO / CALL. ARMONIA</td>\n      <td>2</td>\n      <td>16.0</td>\n      <td>HORTALEZA</td>\n      <td>Colisión múltiple</td>\n      <td>Despejado</td>\n      <td>NaN</td>\n      <td>...</td>\n      <td>Desconocido</td>\n      <td>Desconocido</td>\n      <td>NaN</td>\n      <td>NaN</td>\n      <td>448109,781</td>\n      <td>4478305,503</td>\n      <td>N</td>\n      <td>NaN</td>\n      <td>NaN</td>\n      <td>NaN</td>\n    </tr>\n    <tr>\n      <th>764</th>\n      <td>2022S000413</td>\n      <td>09/01/2022</td>\n      <td>12:46:00</td>\n      <td>CALL. ESTRONCIO / CALL. BENITA LOPEZ</td>\n      <td>17</td>\n      <td>17.0</td>\n      <td>VILLAVERDE</td>\n      <td>Colisión múltiple</td>\n      <td>NaN</td>\n      <td>NaN</td>\n      <td>...</td>\n      <td>Desconocido</td>\n      <td>Desconocido</td>\n      <td>NaN</td>\n      <td>NaN</td>\n      <td>441498,93</td>\n      <td>4466555,878</td>\n      <td>N</td>\n      <td>NaN</td>\n      <td>NaN</td>\n      <td>NaN</td>\n    </tr>\n  </tbody>\n</table>\n<p>5 rows × 21 columns</p>\n</div>"
     },
     "execution_count": 21,
     "metadata": {},
     "output_type": "execute_result"
    }
   ],
   "source": [
    "filas_con_nulos = combined_data['tipo_vehiculo'].isnull()\n",
    "combined_data[filas_con_nulos].head()"
   ],
   "metadata": {
    "collapsed": false,
    "ExecuteTime": {
     "end_time": "2023-11-17T17:09:53.736284277Z",
     "start_time": "2023-11-17T17:09:53.733647289Z"
    }
   },
   "id": "9ca002d2d8ac4994"
  },
  {
   "cell_type": "code",
   "execution_count": 22,
   "outputs": [
    {
     "data": {
      "text/plain": "Empty DataFrame\nColumns: [num_expediente, fecha, hora, localizacion, numero, cod_distrito, distrito, tipo_accidente, estado_meteorológico, tipo_vehiculo, tipo_persona, rango_edad, sexo, cod_lesividad, lesividad, coordenada_x_utm, coordenada_y_utm, positiva_alcohol, positiva_droga, Unnamed: 19, Unnamed: 20]\nIndex: []\n\n[0 rows x 21 columns]",
      "text/html": "<div>\n<style scoped>\n    .dataframe tbody tr th:only-of-type {\n        vertical-align: middle;\n    }\n\n    .dataframe tbody tr th {\n        vertical-align: top;\n    }\n\n    .dataframe thead th {\n        text-align: right;\n    }\n</style>\n<table border=\"1\" class=\"dataframe\">\n  <thead>\n    <tr style=\"text-align: right;\">\n      <th></th>\n      <th>num_expediente</th>\n      <th>fecha</th>\n      <th>hora</th>\n      <th>localizacion</th>\n      <th>numero</th>\n      <th>cod_distrito</th>\n      <th>distrito</th>\n      <th>tipo_accidente</th>\n      <th>estado_meteorológico</th>\n      <th>tipo_vehiculo</th>\n      <th>...</th>\n      <th>rango_edad</th>\n      <th>sexo</th>\n      <th>cod_lesividad</th>\n      <th>lesividad</th>\n      <th>coordenada_x_utm</th>\n      <th>coordenada_y_utm</th>\n      <th>positiva_alcohol</th>\n      <th>positiva_droga</th>\n      <th>Unnamed: 19</th>\n      <th>Unnamed: 20</th>\n    </tr>\n  </thead>\n  <tbody>\n  </tbody>\n</table>\n<p>0 rows × 21 columns</p>\n</div>"
     },
     "execution_count": 22,
     "metadata": {},
     "output_type": "execute_result"
    }
   ],
   "source": [
    "filas_con_nulos = combined_data['fecha'].isnull()\n",
    "combined_data[filas_con_nulos]"
   ],
   "metadata": {
    "collapsed": false,
    "ExecuteTime": {
     "end_time": "2023-11-17T17:09:53.736863788Z",
     "start_time": "2023-11-17T17:09:53.734111440Z"
    }
   },
   "id": "31e7193d53b1f1c6"
  },
  {
   "cell_type": "code",
   "execution_count": 23,
   "outputs": [
    {
     "data": {
      "text/plain": "      num_expediente       fecha      hora                 localizacion  \\\n73578    2023S025389  14/07/2023  23:45:00  CALL. EDUARDO BARREIROS, 29   \n\n      numero  cod_distrito distrito tipo_accidente estado_meteorológico  \\\n73578     29          12.0    USERA            NaN                  NaN   \n\n      tipo_vehiculo  ...       rango_edad    sexo cod_lesividad  lesividad  \\\n73578           NaN  ...  De 35 a 39 años  Hombre           NaN        NaN   \n\n      coordenada_x_utm coordenada_y_utm positiva_alcohol positiva_droga  \\\n73578              NaN              NaN                N            NaN   \n\n       Unnamed: 19  Unnamed: 20  \n73578          NaN          NaN  \n\n[1 rows x 21 columns]",
      "text/html": "<div>\n<style scoped>\n    .dataframe tbody tr th:only-of-type {\n        vertical-align: middle;\n    }\n\n    .dataframe tbody tr th {\n        vertical-align: top;\n    }\n\n    .dataframe thead th {\n        text-align: right;\n    }\n</style>\n<table border=\"1\" class=\"dataframe\">\n  <thead>\n    <tr style=\"text-align: right;\">\n      <th></th>\n      <th>num_expediente</th>\n      <th>fecha</th>\n      <th>hora</th>\n      <th>localizacion</th>\n      <th>numero</th>\n      <th>cod_distrito</th>\n      <th>distrito</th>\n      <th>tipo_accidente</th>\n      <th>estado_meteorológico</th>\n      <th>tipo_vehiculo</th>\n      <th>...</th>\n      <th>rango_edad</th>\n      <th>sexo</th>\n      <th>cod_lesividad</th>\n      <th>lesividad</th>\n      <th>coordenada_x_utm</th>\n      <th>coordenada_y_utm</th>\n      <th>positiva_alcohol</th>\n      <th>positiva_droga</th>\n      <th>Unnamed: 19</th>\n      <th>Unnamed: 20</th>\n    </tr>\n  </thead>\n  <tbody>\n    <tr>\n      <th>73578</th>\n      <td>2023S025389</td>\n      <td>14/07/2023</td>\n      <td>23:45:00</td>\n      <td>CALL. EDUARDO BARREIROS, 29</td>\n      <td>29</td>\n      <td>12.0</td>\n      <td>USERA</td>\n      <td>NaN</td>\n      <td>NaN</td>\n      <td>NaN</td>\n      <td>...</td>\n      <td>De 35 a 39 años</td>\n      <td>Hombre</td>\n      <td>NaN</td>\n      <td>NaN</td>\n      <td>NaN</td>\n      <td>NaN</td>\n      <td>N</td>\n      <td>NaN</td>\n      <td>NaN</td>\n      <td>NaN</td>\n    </tr>\n  </tbody>\n</table>\n<p>1 rows × 21 columns</p>\n</div>"
     },
     "execution_count": 23,
     "metadata": {},
     "output_type": "execute_result"
    }
   ],
   "source": [
    "filas_con_nulos = combined_data['tipo_accidente'].isnull()\n",
    "combined_data[filas_con_nulos]"
   ],
   "metadata": {
    "collapsed": false,
    "ExecuteTime": {
     "end_time": "2023-11-17T17:09:53.843465656Z",
     "start_time": "2023-11-17T17:09:53.734527824Z"
    }
   },
   "id": "767876ac68dc949e"
  },
  {
   "cell_type": "markdown",
   "source": [
    "Observamos que solo es una columna en la cual el tipo de accidente es nulo y, aunque sea solo una entre 74,961, ese registro carece de información crucial para el análisis. La falta de datos en 'tipo_accidente' puede generar interpretaciones erróneas o distorsionar los resultados al analizar las causas y naturaleza de los accidentes e inferir con el análisis."
   ],
   "metadata": {
    "collapsed": false
   },
   "id": "536b71163ed1fc2"
  },
  {
   "cell_type": "code",
   "execution_count": 24,
   "outputs": [
    {
     "data": {
      "text/plain": "  num_expediente       fecha     hora  \\\n0    2022S000001  01/01/2022  1:30:00   \n1    2022S000001  01/01/2022  1:30:00   \n2    2022S000002  01/01/2022  0:30:00   \n3    2022S000002  01/01/2022  0:30:00   \n4    2022S000002  01/01/2022  0:30:00   \n\n                                 localizacion numero  cod_distrito  \\\n0                          AVDA. ALBUFERA, 19     19          13.0   \n1                          AVDA. ALBUFERA, 19     19          13.0   \n2  PLAZA. CANOVAS DEL CASTILLO / PASEO. PRADO      2           3.0   \n3  PLAZA. CANOVAS DEL CASTILLO / PASEO. PRADO      2           3.0   \n4  PLAZA. CANOVAS DEL CASTILLO / PASEO. PRADO      2           3.0   \n\n             distrito           tipo_accidente estado_meteorológico  \\\n0  PUENTE DE VALLECAS                  Alcance            Despejado   \n1  PUENTE DE VALLECAS                  Alcance            Despejado   \n2              RETIRO  Colisión fronto-lateral                  NaN   \n3              RETIRO  Colisión fronto-lateral                  NaN   \n4              RETIRO  Colisión fronto-lateral                  NaN   \n\n             tipo_vehiculo  ...       rango_edad    sexo cod_lesividad  \\\n0                  Turismo  ...  De 30 a 34 años   Mujer           NaN   \n1                  Turismo  ...  De 45 a 49 años  Hombre           NaN   \n2  Motocicleta hasta 125cc  ...  De 30 a 34 años  Hombre           NaN   \n3  Motocicleta hasta 125cc  ...  De 35 a 39 años   Mujer           NaN   \n4                  Turismo  ...  De 40 a 44 años  Hombre           NaN   \n\n   lesividad coordenada_x_utm coordenada_y_utm positiva_alcohol  \\\n0        NaN       443359,226      4472082,272                N   \n1        NaN       443359,226      4472082,272                N   \n2        NaN       441155,351      4474129,588                S   \n3        NaN       441155,351      4474129,588                N   \n4        NaN       441155,351      4474129,588                N   \n\n  positiva_droga  Unnamed: 19  Unnamed: 20  \n0            NaN          NaN          NaN  \n1            NaN          NaN          NaN  \n2            NaN          NaN          NaN  \n3            NaN          NaN          NaN  \n4            NaN          NaN          NaN  \n\n[5 rows x 21 columns]",
      "text/html": "<div>\n<style scoped>\n    .dataframe tbody tr th:only-of-type {\n        vertical-align: middle;\n    }\n\n    .dataframe tbody tr th {\n        vertical-align: top;\n    }\n\n    .dataframe thead th {\n        text-align: right;\n    }\n</style>\n<table border=\"1\" class=\"dataframe\">\n  <thead>\n    <tr style=\"text-align: right;\">\n      <th></th>\n      <th>num_expediente</th>\n      <th>fecha</th>\n      <th>hora</th>\n      <th>localizacion</th>\n      <th>numero</th>\n      <th>cod_distrito</th>\n      <th>distrito</th>\n      <th>tipo_accidente</th>\n      <th>estado_meteorológico</th>\n      <th>tipo_vehiculo</th>\n      <th>...</th>\n      <th>rango_edad</th>\n      <th>sexo</th>\n      <th>cod_lesividad</th>\n      <th>lesividad</th>\n      <th>coordenada_x_utm</th>\n      <th>coordenada_y_utm</th>\n      <th>positiva_alcohol</th>\n      <th>positiva_droga</th>\n      <th>Unnamed: 19</th>\n      <th>Unnamed: 20</th>\n    </tr>\n  </thead>\n  <tbody>\n    <tr>\n      <th>0</th>\n      <td>2022S000001</td>\n      <td>01/01/2022</td>\n      <td>1:30:00</td>\n      <td>AVDA. ALBUFERA, 19</td>\n      <td>19</td>\n      <td>13.0</td>\n      <td>PUENTE DE VALLECAS</td>\n      <td>Alcance</td>\n      <td>Despejado</td>\n      <td>Turismo</td>\n      <td>...</td>\n      <td>De 30 a 34 años</td>\n      <td>Mujer</td>\n      <td>NaN</td>\n      <td>NaN</td>\n      <td>443359,226</td>\n      <td>4472082,272</td>\n      <td>N</td>\n      <td>NaN</td>\n      <td>NaN</td>\n      <td>NaN</td>\n    </tr>\n    <tr>\n      <th>1</th>\n      <td>2022S000001</td>\n      <td>01/01/2022</td>\n      <td>1:30:00</td>\n      <td>AVDA. ALBUFERA, 19</td>\n      <td>19</td>\n      <td>13.0</td>\n      <td>PUENTE DE VALLECAS</td>\n      <td>Alcance</td>\n      <td>Despejado</td>\n      <td>Turismo</td>\n      <td>...</td>\n      <td>De 45 a 49 años</td>\n      <td>Hombre</td>\n      <td>NaN</td>\n      <td>NaN</td>\n      <td>443359,226</td>\n      <td>4472082,272</td>\n      <td>N</td>\n      <td>NaN</td>\n      <td>NaN</td>\n      <td>NaN</td>\n    </tr>\n    <tr>\n      <th>2</th>\n      <td>2022S000002</td>\n      <td>01/01/2022</td>\n      <td>0:30:00</td>\n      <td>PLAZA. CANOVAS DEL CASTILLO / PASEO. PRADO</td>\n      <td>2</td>\n      <td>3.0</td>\n      <td>RETIRO</td>\n      <td>Colisión fronto-lateral</td>\n      <td>NaN</td>\n      <td>Motocicleta hasta 125cc</td>\n      <td>...</td>\n      <td>De 30 a 34 años</td>\n      <td>Hombre</td>\n      <td>NaN</td>\n      <td>NaN</td>\n      <td>441155,351</td>\n      <td>4474129,588</td>\n      <td>S</td>\n      <td>NaN</td>\n      <td>NaN</td>\n      <td>NaN</td>\n    </tr>\n    <tr>\n      <th>3</th>\n      <td>2022S000002</td>\n      <td>01/01/2022</td>\n      <td>0:30:00</td>\n      <td>PLAZA. CANOVAS DEL CASTILLO / PASEO. PRADO</td>\n      <td>2</td>\n      <td>3.0</td>\n      <td>RETIRO</td>\n      <td>Colisión fronto-lateral</td>\n      <td>NaN</td>\n      <td>Motocicleta hasta 125cc</td>\n      <td>...</td>\n      <td>De 35 a 39 años</td>\n      <td>Mujer</td>\n      <td>NaN</td>\n      <td>NaN</td>\n      <td>441155,351</td>\n      <td>4474129,588</td>\n      <td>N</td>\n      <td>NaN</td>\n      <td>NaN</td>\n      <td>NaN</td>\n    </tr>\n    <tr>\n      <th>4</th>\n      <td>2022S000002</td>\n      <td>01/01/2022</td>\n      <td>0:30:00</td>\n      <td>PLAZA. CANOVAS DEL CASTILLO / PASEO. PRADO</td>\n      <td>2</td>\n      <td>3.0</td>\n      <td>RETIRO</td>\n      <td>Colisión fronto-lateral</td>\n      <td>NaN</td>\n      <td>Turismo</td>\n      <td>...</td>\n      <td>De 40 a 44 años</td>\n      <td>Hombre</td>\n      <td>NaN</td>\n      <td>NaN</td>\n      <td>441155,351</td>\n      <td>4474129,588</td>\n      <td>N</td>\n      <td>NaN</td>\n      <td>NaN</td>\n      <td>NaN</td>\n    </tr>\n  </tbody>\n</table>\n<p>5 rows × 21 columns</p>\n</div>"
     },
     "execution_count": 24,
     "metadata": {},
     "output_type": "execute_result"
    }
   ],
   "source": [
    "combined_data.dropna(subset=['tipo_accidente'], inplace=True)\n",
    "combined_data.head()"
   ],
   "metadata": {
    "collapsed": false,
    "ExecuteTime": {
     "end_time": "2023-11-17T17:09:53.877074313Z",
     "start_time": "2023-11-17T17:09:53.777459367Z"
    }
   },
   "id": "c5b757d39d19f8e5"
  },
  {
   "cell_type": "code",
   "execution_count": 25,
   "outputs": [
    {
     "data": {
      "text/plain": "Empty DataFrame\nColumns: [num_expediente, fecha, hora, localizacion, numero, cod_distrito, distrito, tipo_accidente, estado_meteorológico, tipo_vehiculo, tipo_persona, rango_edad, sexo, cod_lesividad, lesividad, coordenada_x_utm, coordenada_y_utm, positiva_alcohol, positiva_droga, Unnamed: 19, Unnamed: 20]\nIndex: []\n\n[0 rows x 21 columns]",
      "text/html": "<div>\n<style scoped>\n    .dataframe tbody tr th:only-of-type {\n        vertical-align: middle;\n    }\n\n    .dataframe tbody tr th {\n        vertical-align: top;\n    }\n\n    .dataframe thead th {\n        text-align: right;\n    }\n</style>\n<table border=\"1\" class=\"dataframe\">\n  <thead>\n    <tr style=\"text-align: right;\">\n      <th></th>\n      <th>num_expediente</th>\n      <th>fecha</th>\n      <th>hora</th>\n      <th>localizacion</th>\n      <th>numero</th>\n      <th>cod_distrito</th>\n      <th>distrito</th>\n      <th>tipo_accidente</th>\n      <th>estado_meteorológico</th>\n      <th>tipo_vehiculo</th>\n      <th>...</th>\n      <th>rango_edad</th>\n      <th>sexo</th>\n      <th>cod_lesividad</th>\n      <th>lesividad</th>\n      <th>coordenada_x_utm</th>\n      <th>coordenada_y_utm</th>\n      <th>positiva_alcohol</th>\n      <th>positiva_droga</th>\n      <th>Unnamed: 19</th>\n      <th>Unnamed: 20</th>\n    </tr>\n  </thead>\n  <tbody>\n  </tbody>\n</table>\n<p>0 rows × 21 columns</p>\n</div>"
     },
     "execution_count": 25,
     "metadata": {},
     "output_type": "execute_result"
    }
   ],
   "source": [
    "filas_con_nulos = combined_data['sexo'].isnull()\n",
    "combined_data[filas_con_nulos]"
   ],
   "metadata": {
    "collapsed": false,
    "ExecuteTime": {
     "end_time": "2023-11-17T17:09:53.925681597Z",
     "start_time": "2023-11-17T17:09:53.781188533Z"
    }
   },
   "id": "2ec3554c63a6d77"
  },
  {
   "cell_type": "code",
   "execution_count": 26,
   "outputs": [
    {
     "data": {
      "text/plain": "      num_expediente       fecha      hora  \\\n291      2022S000148  04/01/2022  18:15:00   \n634      2022S000342  08/01/2022   0:00:00   \n658      2022S000354  07/01/2022  23:15:00   \n1479     2022S000832  15/01/2022  22:35:00   \n1907     2022S001130  19/01/2022  20:09:00   \n...              ...         ...       ...   \n77537    2023S027875  24/08/2023  16:45:00   \n77628    2023S027925  25/08/2023   9:35:00   \n77629    2023S027925  25/08/2023   9:35:00   \n77701    2023S027997  26/08/2023  19:45:00   \n77779    2023S028051  27/08/2023  23:35:00   \n\n                                         localizacion   numero  cod_distrito  \\\n291          CALL. EDUARDO BARREIROS / AVDA. POBLADOS        5          12.0   \n634                             CALL. PUERTO RICO, 6A       6A           5.0   \n658          AVDA. ILUSTRACION / CALL. GINZO DE LIMIA        0           8.0   \n1479   CTRA. M-111, ROTONDA SALIDA AVENIDA DE LOGROÑO  +00300E          21.0   \n1907                 CALL. LA DEL MANOJO DE ROSAS, 69       69          17.0   \n...                                               ...      ...           ...   \n77537                                 CALL. LINNEO, 5        5           2.0   \n77628                     CALLE BOYER CON CALLE VIGIL       26          19.0   \n77629                     CALLE BOYER CON CALLE VIGIL       26          19.0   \n77701        CALL. JULIA GARCIA BOUTAN / CALL. SUECIA      35A          20.0   \n77779                             CALL. MENASALBAS, 6        6          17.0   \n\n                  distrito                tipo_accidente estado_meteorológico  \\\n291                  USERA              Colisión lateral         Lluvia débil   \n634              CHAMARTÍN              Colisión lateral            Despejado   \n658    FUENCARRAL-EL PARDO              Colisión lateral            Despejado   \n1479               BARAJAS       Colisión fronto-lateral                  NaN   \n1907            VILLAVERDE       Colisión fronto-lateral                  NaN   \n...                    ...                           ...                  ...   \n77537           ARGANZUELA           Atropello a persona            Despejado   \n77628            VICÁLVARO       Colisión fronto-lateral            Despejado   \n77629            VICÁLVARO       Colisión fronto-lateral            Despejado   \n77701  SAN BLAS-CANILLEJAS       Colisión fronto-lateral            Despejado   \n77779           VILLAVERDE  Choque contra obstáculo fijo            Despejado   \n\n                 tipo_vehiculo  ...   rango_edad         sexo cod_lesividad  \\\n291                        NaN  ...  Desconocido  Desconocido           NaN   \n634                        NaN  ...  Desconocido  Desconocido           NaN   \n658                    Turismo  ...  Desconocido  Desconocido           NaN   \n1479                   Turismo  ...  Desconocido  Desconocido           NaN   \n1907                 Furgoneta  ...  Desconocido  Desconocido           NaN   \n...                        ...  ...          ...          ...           ...   \n77537                      NaN  ...  Desconocido  Desconocido           NaN   \n77628  Motocicleta hasta 125cc  ...  Desconocido  Desconocido           NaN   \n77629                  Turismo  ...  Desconocido  Desconocido           NaN   \n77701                  Turismo  ...  Desconocido  Desconocido           NaN   \n77779                  Turismo  ...  Desconocido  Desconocido           NaN   \n\n       lesividad coordenada_x_utm coordenada_y_utm positiva_alcohol  \\\n291          NaN       440801,217       4469164,69              NaN   \n634          NaN       442801,043      4478205,366              NaN   \n658          NaN       440196,519      4481492,133              NaN   \n1479         NaN        452984,27      4482774,785              NaN   \n1907         NaN       440748,938      4467397,024              NaN   \n...          ...              ...              ...              ...   \n77537        NaN       438869.987      4473821.066              NaN   \n77628        NaN       450240.246      4472879.377              NaN   \n77629        NaN       450240.246      4472879.377              NaN   \n77701        NaN       448648.202      4475686.579              NaN   \n77779        NaN       440924.505      4468287.581              NaN   \n\n      positiva_droga  Unnamed: 19  Unnamed: 20  \n291              NaN          NaN          NaN  \n634              NaN          NaN          NaN  \n658              NaN          NaN          NaN  \n1479             NaN          NaN          NaN  \n1907             NaN          NaN          NaN  \n...              ...          ...          ...  \n77537            NaN          NaN          NaN  \n77628            NaN          NaN          NaN  \n77629            NaN          NaN          NaN  \n77701            NaN          NaN          NaN  \n77779            NaN          NaN          NaN  \n\n[341 rows x 21 columns]",
      "text/html": "<div>\n<style scoped>\n    .dataframe tbody tr th:only-of-type {\n        vertical-align: middle;\n    }\n\n    .dataframe tbody tr th {\n        vertical-align: top;\n    }\n\n    .dataframe thead th {\n        text-align: right;\n    }\n</style>\n<table border=\"1\" class=\"dataframe\">\n  <thead>\n    <tr style=\"text-align: right;\">\n      <th></th>\n      <th>num_expediente</th>\n      <th>fecha</th>\n      <th>hora</th>\n      <th>localizacion</th>\n      <th>numero</th>\n      <th>cod_distrito</th>\n      <th>distrito</th>\n      <th>tipo_accidente</th>\n      <th>estado_meteorológico</th>\n      <th>tipo_vehiculo</th>\n      <th>...</th>\n      <th>rango_edad</th>\n      <th>sexo</th>\n      <th>cod_lesividad</th>\n      <th>lesividad</th>\n      <th>coordenada_x_utm</th>\n      <th>coordenada_y_utm</th>\n      <th>positiva_alcohol</th>\n      <th>positiva_droga</th>\n      <th>Unnamed: 19</th>\n      <th>Unnamed: 20</th>\n    </tr>\n  </thead>\n  <tbody>\n    <tr>\n      <th>291</th>\n      <td>2022S000148</td>\n      <td>04/01/2022</td>\n      <td>18:15:00</td>\n      <td>CALL. EDUARDO BARREIROS / AVDA. POBLADOS</td>\n      <td>5</td>\n      <td>12.0</td>\n      <td>USERA</td>\n      <td>Colisión lateral</td>\n      <td>Lluvia débil</td>\n      <td>NaN</td>\n      <td>...</td>\n      <td>Desconocido</td>\n      <td>Desconocido</td>\n      <td>NaN</td>\n      <td>NaN</td>\n      <td>440801,217</td>\n      <td>4469164,69</td>\n      <td>NaN</td>\n      <td>NaN</td>\n      <td>NaN</td>\n      <td>NaN</td>\n    </tr>\n    <tr>\n      <th>634</th>\n      <td>2022S000342</td>\n      <td>08/01/2022</td>\n      <td>0:00:00</td>\n      <td>CALL. PUERTO RICO, 6A</td>\n      <td>6A</td>\n      <td>5.0</td>\n      <td>CHAMARTÍN</td>\n      <td>Colisión lateral</td>\n      <td>Despejado</td>\n      <td>NaN</td>\n      <td>...</td>\n      <td>Desconocido</td>\n      <td>Desconocido</td>\n      <td>NaN</td>\n      <td>NaN</td>\n      <td>442801,043</td>\n      <td>4478205,366</td>\n      <td>NaN</td>\n      <td>NaN</td>\n      <td>NaN</td>\n      <td>NaN</td>\n    </tr>\n    <tr>\n      <th>658</th>\n      <td>2022S000354</td>\n      <td>07/01/2022</td>\n      <td>23:15:00</td>\n      <td>AVDA. ILUSTRACION / CALL. GINZO DE LIMIA</td>\n      <td>0</td>\n      <td>8.0</td>\n      <td>FUENCARRAL-EL PARDO</td>\n      <td>Colisión lateral</td>\n      <td>Despejado</td>\n      <td>Turismo</td>\n      <td>...</td>\n      <td>Desconocido</td>\n      <td>Desconocido</td>\n      <td>NaN</td>\n      <td>NaN</td>\n      <td>440196,519</td>\n      <td>4481492,133</td>\n      <td>NaN</td>\n      <td>NaN</td>\n      <td>NaN</td>\n      <td>NaN</td>\n    </tr>\n    <tr>\n      <th>1479</th>\n      <td>2022S000832</td>\n      <td>15/01/2022</td>\n      <td>22:35:00</td>\n      <td>CTRA. M-111, ROTONDA SALIDA AVENIDA DE LOGROÑO</td>\n      <td>+00300E</td>\n      <td>21.0</td>\n      <td>BARAJAS</td>\n      <td>Colisión fronto-lateral</td>\n      <td>NaN</td>\n      <td>Turismo</td>\n      <td>...</td>\n      <td>Desconocido</td>\n      <td>Desconocido</td>\n      <td>NaN</td>\n      <td>NaN</td>\n      <td>452984,27</td>\n      <td>4482774,785</td>\n      <td>NaN</td>\n      <td>NaN</td>\n      <td>NaN</td>\n      <td>NaN</td>\n    </tr>\n    <tr>\n      <th>1907</th>\n      <td>2022S001130</td>\n      <td>19/01/2022</td>\n      <td>20:09:00</td>\n      <td>CALL. LA DEL MANOJO DE ROSAS, 69</td>\n      <td>69</td>\n      <td>17.0</td>\n      <td>VILLAVERDE</td>\n      <td>Colisión fronto-lateral</td>\n      <td>NaN</td>\n      <td>Furgoneta</td>\n      <td>...</td>\n      <td>Desconocido</td>\n      <td>Desconocido</td>\n      <td>NaN</td>\n      <td>NaN</td>\n      <td>440748,938</td>\n      <td>4467397,024</td>\n      <td>NaN</td>\n      <td>NaN</td>\n      <td>NaN</td>\n      <td>NaN</td>\n    </tr>\n    <tr>\n      <th>...</th>\n      <td>...</td>\n      <td>...</td>\n      <td>...</td>\n      <td>...</td>\n      <td>...</td>\n      <td>...</td>\n      <td>...</td>\n      <td>...</td>\n      <td>...</td>\n      <td>...</td>\n      <td>...</td>\n      <td>...</td>\n      <td>...</td>\n      <td>...</td>\n      <td>...</td>\n      <td>...</td>\n      <td>...</td>\n      <td>...</td>\n      <td>...</td>\n      <td>...</td>\n      <td>...</td>\n    </tr>\n    <tr>\n      <th>77537</th>\n      <td>2023S027875</td>\n      <td>24/08/2023</td>\n      <td>16:45:00</td>\n      <td>CALL. LINNEO, 5</td>\n      <td>5</td>\n      <td>2.0</td>\n      <td>ARGANZUELA</td>\n      <td>Atropello a persona</td>\n      <td>Despejado</td>\n      <td>NaN</td>\n      <td>...</td>\n      <td>Desconocido</td>\n      <td>Desconocido</td>\n      <td>NaN</td>\n      <td>NaN</td>\n      <td>438869.987</td>\n      <td>4473821.066</td>\n      <td>NaN</td>\n      <td>NaN</td>\n      <td>NaN</td>\n      <td>NaN</td>\n    </tr>\n    <tr>\n      <th>77628</th>\n      <td>2023S027925</td>\n      <td>25/08/2023</td>\n      <td>9:35:00</td>\n      <td>CALLE BOYER CON CALLE VIGIL</td>\n      <td>26</td>\n      <td>19.0</td>\n      <td>VICÁLVARO</td>\n      <td>Colisión fronto-lateral</td>\n      <td>Despejado</td>\n      <td>Motocicleta hasta 125cc</td>\n      <td>...</td>\n      <td>Desconocido</td>\n      <td>Desconocido</td>\n      <td>NaN</td>\n      <td>NaN</td>\n      <td>450240.246</td>\n      <td>4472879.377</td>\n      <td>NaN</td>\n      <td>NaN</td>\n      <td>NaN</td>\n      <td>NaN</td>\n    </tr>\n    <tr>\n      <th>77629</th>\n      <td>2023S027925</td>\n      <td>25/08/2023</td>\n      <td>9:35:00</td>\n      <td>CALLE BOYER CON CALLE VIGIL</td>\n      <td>26</td>\n      <td>19.0</td>\n      <td>VICÁLVARO</td>\n      <td>Colisión fronto-lateral</td>\n      <td>Despejado</td>\n      <td>Turismo</td>\n      <td>...</td>\n      <td>Desconocido</td>\n      <td>Desconocido</td>\n      <td>NaN</td>\n      <td>NaN</td>\n      <td>450240.246</td>\n      <td>4472879.377</td>\n      <td>NaN</td>\n      <td>NaN</td>\n      <td>NaN</td>\n      <td>NaN</td>\n    </tr>\n    <tr>\n      <th>77701</th>\n      <td>2023S027997</td>\n      <td>26/08/2023</td>\n      <td>19:45:00</td>\n      <td>CALL. JULIA GARCIA BOUTAN / CALL. SUECIA</td>\n      <td>35A</td>\n      <td>20.0</td>\n      <td>SAN BLAS-CANILLEJAS</td>\n      <td>Colisión fronto-lateral</td>\n      <td>Despejado</td>\n      <td>Turismo</td>\n      <td>...</td>\n      <td>Desconocido</td>\n      <td>Desconocido</td>\n      <td>NaN</td>\n      <td>NaN</td>\n      <td>448648.202</td>\n      <td>4475686.579</td>\n      <td>NaN</td>\n      <td>NaN</td>\n      <td>NaN</td>\n      <td>NaN</td>\n    </tr>\n    <tr>\n      <th>77779</th>\n      <td>2023S028051</td>\n      <td>27/08/2023</td>\n      <td>23:35:00</td>\n      <td>CALL. MENASALBAS, 6</td>\n      <td>6</td>\n      <td>17.0</td>\n      <td>VILLAVERDE</td>\n      <td>Choque contra obstáculo fijo</td>\n      <td>Despejado</td>\n      <td>Turismo</td>\n      <td>...</td>\n      <td>Desconocido</td>\n      <td>Desconocido</td>\n      <td>NaN</td>\n      <td>NaN</td>\n      <td>440924.505</td>\n      <td>4468287.581</td>\n      <td>NaN</td>\n      <td>NaN</td>\n      <td>NaN</td>\n      <td>NaN</td>\n    </tr>\n  </tbody>\n</table>\n<p>341 rows × 21 columns</p>\n</div>"
     },
     "execution_count": 26,
     "metadata": {},
     "output_type": "execute_result"
    }
   ],
   "source": [
    "filas_con_nulos = combined_data['positiva_alcohol'].isnull()\n",
    "combined_data[filas_con_nulos]"
   ],
   "metadata": {
    "collapsed": false,
    "ExecuteTime": {
     "end_time": "2023-11-17T17:09:53.927556141Z",
     "start_time": "2023-11-17T17:09:53.829428833Z"
    }
   },
   "id": "25f5ba853fe2c917"
  },
  {
   "cell_type": "code",
   "execution_count": 27,
   "outputs": [
    {
     "data": {
      "text/plain": "      num_expediente       fecha      hora  \\\n0        2022S000001  01/01/2022   1:30:00   \n1        2022S000001  01/01/2022   1:30:00   \n2        2022S000002  01/01/2022   0:30:00   \n3        2022S000002  01/01/2022   0:30:00   \n4        2022S000002  01/01/2022   0:30:00   \n...              ...         ...       ...   \n78206    2023S028337  31/08/2023  23:20:00   \n78207    2023S028341  31/08/2023  22:30:00   \n78208    2023S028341  31/08/2023  22:30:00   \n78209    2023S028352  31/08/2023  14:40:00   \n78210    2023S029136  02/08/2023  22:10:00   \n\n                                     localizacion  numero  cod_distrito  \\\n0                              AVDA. ALBUFERA, 19      19          13.0   \n1                              AVDA. ALBUFERA, 19      19          13.0   \n2      PLAZA. CANOVAS DEL CASTILLO / PASEO. PRADO       2           3.0   \n3      PLAZA. CANOVAS DEL CASTILLO / PASEO. PRADO       2           3.0   \n4      PLAZA. CANOVAS DEL CASTILLO / PASEO. PRADO       2           3.0   \n...                                           ...     ...           ...   \n78206                 CALL. GOLFO DE SALONICA, 12      12          16.0   \n78207                           CALLE SAN SERAPIO       1          12.0   \n78208                           CALLE SAN SERAPIO       1          12.0   \n78209                         AUTOV. M-30, 00NC06  00NC06           5.0   \n78210             AVDA. CARDENAL HERRERA ORIA, 80      80           8.0   \n\n                  distrito                tipo_accidente estado_meteorológico  \\\n0       PUENTE DE VALLECAS                       Alcance            Despejado   \n1       PUENTE DE VALLECAS                       Alcance            Despejado   \n2                   RETIRO       Colisión fronto-lateral                  NaN   \n3                   RETIRO       Colisión fronto-lateral                  NaN   \n4                   RETIRO       Colisión fronto-lateral                  NaN   \n...                    ...                           ...                  ...   \n78206            HORTALEZA                          Otro            Despejado   \n78207                USERA                       Alcance            Despejado   \n78208                USERA                       Alcance            Despejado   \n78209            CHAMARTÍN                         Caída            Despejado   \n78210  FUENCARRAL-EL PARDO  Choque contra obstáculo fijo                  NaN   \n\n                 tipo_vehiculo  ...       rango_edad    sexo cod_lesividad  \\\n0                      Turismo  ...  De 30 a 34 años   Mujer           NaN   \n1                      Turismo  ...  De 45 a 49 años  Hombre           NaN   \n2      Motocicleta hasta 125cc  ...  De 30 a 34 años  Hombre           NaN   \n3      Motocicleta hasta 125cc  ...  De 35 a 39 años   Mujer           NaN   \n4                      Turismo  ...  De 40 a 44 años  Hombre           NaN   \n...                        ...  ...              ...     ...           ...   \n78206                  Turismo  ...  De 55 a 59 años   Mujer          14.0   \n78207  Motocicleta hasta 125cc  ...  De 30 a 34 años  Hombre           7.0   \n78208                  Turismo  ...  De 35 a 39 años  Hombre          14.0   \n78209  Motocicleta hasta 125cc  ...  De 40 a 44 años  Hombre           1.0   \n78210                  Turismo  ...  De 35 a 39 años  Hombre           NaN   \n\n                                               lesividad coordenada_x_utm  \\\n0                                                    NaN       443359,226   \n1                                                    NaN       443359,226   \n2                                                    NaN       441155,351   \n3                                                    NaN       441155,351   \n4                                                    NaN       441155,351   \n...                                                  ...              ...   \n78206                           Sin asistencia sanitaria       443580.365   \n78207  Asistencia sanitaria sólo en el lugar del acci...        440795.55   \n78208                           Sin asistencia sanitaria        440795.55   \n78209        Atención en urgencias sin posterior ingreso         442825.5   \n78210                                                NaN       441491.437   \n\n      coordenada_y_utm positiva_alcohol positiva_droga  Unnamed: 19  \\\n0          4472082,272                N            NaN          NaN   \n1          4472082,272                N            NaN          NaN   \n2          4474129,588                S            NaN          NaN   \n3          4474129,588                N            NaN          NaN   \n4          4474129,588                N            NaN          NaN   \n...                ...              ...            ...          ...   \n78206      4480912.376                N            NaN          NaN   \n78207      4471044.789                N            NaN          NaN   \n78208      4471044.789                N            NaN          NaN   \n78209      4481003.193                N            NaN          NaN   \n78210       4482518.59                N            NaN          NaN   \n\n       Unnamed: 20  \n0              NaN  \n1              NaN  \n2              NaN  \n3              NaN  \n4              NaN  \n...            ...  \n78206          NaN  \n78207          NaN  \n78208          NaN  \n78209          NaN  \n78210          NaN  \n\n[74685 rows x 21 columns]",
      "text/html": "<div>\n<style scoped>\n    .dataframe tbody tr th:only-of-type {\n        vertical-align: middle;\n    }\n\n    .dataframe tbody tr th {\n        vertical-align: top;\n    }\n\n    .dataframe thead th {\n        text-align: right;\n    }\n</style>\n<table border=\"1\" class=\"dataframe\">\n  <thead>\n    <tr style=\"text-align: right;\">\n      <th></th>\n      <th>num_expediente</th>\n      <th>fecha</th>\n      <th>hora</th>\n      <th>localizacion</th>\n      <th>numero</th>\n      <th>cod_distrito</th>\n      <th>distrito</th>\n      <th>tipo_accidente</th>\n      <th>estado_meteorológico</th>\n      <th>tipo_vehiculo</th>\n      <th>...</th>\n      <th>rango_edad</th>\n      <th>sexo</th>\n      <th>cod_lesividad</th>\n      <th>lesividad</th>\n      <th>coordenada_x_utm</th>\n      <th>coordenada_y_utm</th>\n      <th>positiva_alcohol</th>\n      <th>positiva_droga</th>\n      <th>Unnamed: 19</th>\n      <th>Unnamed: 20</th>\n    </tr>\n  </thead>\n  <tbody>\n    <tr>\n      <th>0</th>\n      <td>2022S000001</td>\n      <td>01/01/2022</td>\n      <td>1:30:00</td>\n      <td>AVDA. ALBUFERA, 19</td>\n      <td>19</td>\n      <td>13.0</td>\n      <td>PUENTE DE VALLECAS</td>\n      <td>Alcance</td>\n      <td>Despejado</td>\n      <td>Turismo</td>\n      <td>...</td>\n      <td>De 30 a 34 años</td>\n      <td>Mujer</td>\n      <td>NaN</td>\n      <td>NaN</td>\n      <td>443359,226</td>\n      <td>4472082,272</td>\n      <td>N</td>\n      <td>NaN</td>\n      <td>NaN</td>\n      <td>NaN</td>\n    </tr>\n    <tr>\n      <th>1</th>\n      <td>2022S000001</td>\n      <td>01/01/2022</td>\n      <td>1:30:00</td>\n      <td>AVDA. ALBUFERA, 19</td>\n      <td>19</td>\n      <td>13.0</td>\n      <td>PUENTE DE VALLECAS</td>\n      <td>Alcance</td>\n      <td>Despejado</td>\n      <td>Turismo</td>\n      <td>...</td>\n      <td>De 45 a 49 años</td>\n      <td>Hombre</td>\n      <td>NaN</td>\n      <td>NaN</td>\n      <td>443359,226</td>\n      <td>4472082,272</td>\n      <td>N</td>\n      <td>NaN</td>\n      <td>NaN</td>\n      <td>NaN</td>\n    </tr>\n    <tr>\n      <th>2</th>\n      <td>2022S000002</td>\n      <td>01/01/2022</td>\n      <td>0:30:00</td>\n      <td>PLAZA. CANOVAS DEL CASTILLO / PASEO. PRADO</td>\n      <td>2</td>\n      <td>3.0</td>\n      <td>RETIRO</td>\n      <td>Colisión fronto-lateral</td>\n      <td>NaN</td>\n      <td>Motocicleta hasta 125cc</td>\n      <td>...</td>\n      <td>De 30 a 34 años</td>\n      <td>Hombre</td>\n      <td>NaN</td>\n      <td>NaN</td>\n      <td>441155,351</td>\n      <td>4474129,588</td>\n      <td>S</td>\n      <td>NaN</td>\n      <td>NaN</td>\n      <td>NaN</td>\n    </tr>\n    <tr>\n      <th>3</th>\n      <td>2022S000002</td>\n      <td>01/01/2022</td>\n      <td>0:30:00</td>\n      <td>PLAZA. CANOVAS DEL CASTILLO / PASEO. PRADO</td>\n      <td>2</td>\n      <td>3.0</td>\n      <td>RETIRO</td>\n      <td>Colisión fronto-lateral</td>\n      <td>NaN</td>\n      <td>Motocicleta hasta 125cc</td>\n      <td>...</td>\n      <td>De 35 a 39 años</td>\n      <td>Mujer</td>\n      <td>NaN</td>\n      <td>NaN</td>\n      <td>441155,351</td>\n      <td>4474129,588</td>\n      <td>N</td>\n      <td>NaN</td>\n      <td>NaN</td>\n      <td>NaN</td>\n    </tr>\n    <tr>\n      <th>4</th>\n      <td>2022S000002</td>\n      <td>01/01/2022</td>\n      <td>0:30:00</td>\n      <td>PLAZA. CANOVAS DEL CASTILLO / PASEO. PRADO</td>\n      <td>2</td>\n      <td>3.0</td>\n      <td>RETIRO</td>\n      <td>Colisión fronto-lateral</td>\n      <td>NaN</td>\n      <td>Turismo</td>\n      <td>...</td>\n      <td>De 40 a 44 años</td>\n      <td>Hombre</td>\n      <td>NaN</td>\n      <td>NaN</td>\n      <td>441155,351</td>\n      <td>4474129,588</td>\n      <td>N</td>\n      <td>NaN</td>\n      <td>NaN</td>\n      <td>NaN</td>\n    </tr>\n    <tr>\n      <th>...</th>\n      <td>...</td>\n      <td>...</td>\n      <td>...</td>\n      <td>...</td>\n      <td>...</td>\n      <td>...</td>\n      <td>...</td>\n      <td>...</td>\n      <td>...</td>\n      <td>...</td>\n      <td>...</td>\n      <td>...</td>\n      <td>...</td>\n      <td>...</td>\n      <td>...</td>\n      <td>...</td>\n      <td>...</td>\n      <td>...</td>\n      <td>...</td>\n      <td>...</td>\n      <td>...</td>\n    </tr>\n    <tr>\n      <th>78206</th>\n      <td>2023S028337</td>\n      <td>31/08/2023</td>\n      <td>23:20:00</td>\n      <td>CALL. GOLFO DE SALONICA, 12</td>\n      <td>12</td>\n      <td>16.0</td>\n      <td>HORTALEZA</td>\n      <td>Otro</td>\n      <td>Despejado</td>\n      <td>Turismo</td>\n      <td>...</td>\n      <td>De 55 a 59 años</td>\n      <td>Mujer</td>\n      <td>14.0</td>\n      <td>Sin asistencia sanitaria</td>\n      <td>443580.365</td>\n      <td>4480912.376</td>\n      <td>N</td>\n      <td>NaN</td>\n      <td>NaN</td>\n      <td>NaN</td>\n    </tr>\n    <tr>\n      <th>78207</th>\n      <td>2023S028341</td>\n      <td>31/08/2023</td>\n      <td>22:30:00</td>\n      <td>CALLE SAN SERAPIO</td>\n      <td>1</td>\n      <td>12.0</td>\n      <td>USERA</td>\n      <td>Alcance</td>\n      <td>Despejado</td>\n      <td>Motocicleta hasta 125cc</td>\n      <td>...</td>\n      <td>De 30 a 34 años</td>\n      <td>Hombre</td>\n      <td>7.0</td>\n      <td>Asistencia sanitaria sólo en el lugar del acci...</td>\n      <td>440795.55</td>\n      <td>4471044.789</td>\n      <td>N</td>\n      <td>NaN</td>\n      <td>NaN</td>\n      <td>NaN</td>\n    </tr>\n    <tr>\n      <th>78208</th>\n      <td>2023S028341</td>\n      <td>31/08/2023</td>\n      <td>22:30:00</td>\n      <td>CALLE SAN SERAPIO</td>\n      <td>1</td>\n      <td>12.0</td>\n      <td>USERA</td>\n      <td>Alcance</td>\n      <td>Despejado</td>\n      <td>Turismo</td>\n      <td>...</td>\n      <td>De 35 a 39 años</td>\n      <td>Hombre</td>\n      <td>14.0</td>\n      <td>Sin asistencia sanitaria</td>\n      <td>440795.55</td>\n      <td>4471044.789</td>\n      <td>N</td>\n      <td>NaN</td>\n      <td>NaN</td>\n      <td>NaN</td>\n    </tr>\n    <tr>\n      <th>78209</th>\n      <td>2023S028352</td>\n      <td>31/08/2023</td>\n      <td>14:40:00</td>\n      <td>AUTOV. M-30, 00NC06</td>\n      <td>00NC06</td>\n      <td>5.0</td>\n      <td>CHAMARTÍN</td>\n      <td>Caída</td>\n      <td>Despejado</td>\n      <td>Motocicleta hasta 125cc</td>\n      <td>...</td>\n      <td>De 40 a 44 años</td>\n      <td>Hombre</td>\n      <td>1.0</td>\n      <td>Atención en urgencias sin posterior ingreso</td>\n      <td>442825.5</td>\n      <td>4481003.193</td>\n      <td>N</td>\n      <td>NaN</td>\n      <td>NaN</td>\n      <td>NaN</td>\n    </tr>\n    <tr>\n      <th>78210</th>\n      <td>2023S029136</td>\n      <td>02/08/2023</td>\n      <td>22:10:00</td>\n      <td>AVDA. CARDENAL HERRERA ORIA, 80</td>\n      <td>80</td>\n      <td>8.0</td>\n      <td>FUENCARRAL-EL PARDO</td>\n      <td>Choque contra obstáculo fijo</td>\n      <td>NaN</td>\n      <td>Turismo</td>\n      <td>...</td>\n      <td>De 35 a 39 años</td>\n      <td>Hombre</td>\n      <td>NaN</td>\n      <td>NaN</td>\n      <td>441491.437</td>\n      <td>4482518.59</td>\n      <td>N</td>\n      <td>NaN</td>\n      <td>NaN</td>\n      <td>NaN</td>\n    </tr>\n  </tbody>\n</table>\n<p>74685 rows × 21 columns</p>\n</div>"
     },
     "execution_count": 27,
     "metadata": {},
     "output_type": "execute_result"
    }
   ],
   "source": [
    "filas_con_nulos = combined_data['positiva_droga'].isnull()\n",
    "combined_data[filas_con_nulos]"
   ],
   "metadata": {
    "collapsed": false,
    "ExecuteTime": {
     "end_time": "2023-11-17T17:09:53.983879814Z",
     "start_time": "2023-11-17T17:09:53.829881775Z"
    }
   },
   "id": "41407c3f128a68ba"
  },
  {
   "cell_type": "markdown",
   "source": [
    "Eliminamos unas columnas no deseadas 'Unnamed', ya que probablemente haya sido un error del autor y nos molesta"
   ],
   "metadata": {
    "collapsed": false
   },
   "id": "cb6ea31fb16ed72f"
  },
  {
   "cell_type": "code",
   "execution_count": 28,
   "outputs": [
    {
     "data": {
      "text/plain": "  num_expediente       fecha     hora  \\\n0    2022S000001  01/01/2022  1:30:00   \n1    2022S000001  01/01/2022  1:30:00   \n2    2022S000002  01/01/2022  0:30:00   \n3    2022S000002  01/01/2022  0:30:00   \n4    2022S000002  01/01/2022  0:30:00   \n\n                                 localizacion numero  cod_distrito  \\\n0                          AVDA. ALBUFERA, 19     19          13.0   \n1                          AVDA. ALBUFERA, 19     19          13.0   \n2  PLAZA. CANOVAS DEL CASTILLO / PASEO. PRADO      2           3.0   \n3  PLAZA. CANOVAS DEL CASTILLO / PASEO. PRADO      2           3.0   \n4  PLAZA. CANOVAS DEL CASTILLO / PASEO. PRADO      2           3.0   \n\n             distrito           tipo_accidente estado_meteorológico  \\\n0  PUENTE DE VALLECAS                  Alcance            Despejado   \n1  PUENTE DE VALLECAS                  Alcance            Despejado   \n2              RETIRO  Colisión fronto-lateral                  NaN   \n3              RETIRO  Colisión fronto-lateral                  NaN   \n4              RETIRO  Colisión fronto-lateral                  NaN   \n\n             tipo_vehiculo tipo_persona       rango_edad    sexo  \\\n0                  Turismo    Conductor  De 30 a 34 años   Mujer   \n1                  Turismo    Conductor  De 45 a 49 años  Hombre   \n2  Motocicleta hasta 125cc    Conductor  De 30 a 34 años  Hombre   \n3  Motocicleta hasta 125cc     Pasajero  De 35 a 39 años   Mujer   \n4                  Turismo    Conductor  De 40 a 44 años  Hombre   \n\n   cod_lesividad lesividad coordenada_x_utm coordenada_y_utm positiva_alcohol  \\\n0            NaN       NaN       443359,226      4472082,272                N   \n1            NaN       NaN       443359,226      4472082,272                N   \n2            NaN       NaN       441155,351      4474129,588                S   \n3            NaN       NaN       441155,351      4474129,588                N   \n4            NaN       NaN       441155,351      4474129,588                N   \n\n   positiva_droga  \n0             NaN  \n1             NaN  \n2             NaN  \n3             NaN  \n4             NaN  ",
      "text/html": "<div>\n<style scoped>\n    .dataframe tbody tr th:only-of-type {\n        vertical-align: middle;\n    }\n\n    .dataframe tbody tr th {\n        vertical-align: top;\n    }\n\n    .dataframe thead th {\n        text-align: right;\n    }\n</style>\n<table border=\"1\" class=\"dataframe\">\n  <thead>\n    <tr style=\"text-align: right;\">\n      <th></th>\n      <th>num_expediente</th>\n      <th>fecha</th>\n      <th>hora</th>\n      <th>localizacion</th>\n      <th>numero</th>\n      <th>cod_distrito</th>\n      <th>distrito</th>\n      <th>tipo_accidente</th>\n      <th>estado_meteorológico</th>\n      <th>tipo_vehiculo</th>\n      <th>tipo_persona</th>\n      <th>rango_edad</th>\n      <th>sexo</th>\n      <th>cod_lesividad</th>\n      <th>lesividad</th>\n      <th>coordenada_x_utm</th>\n      <th>coordenada_y_utm</th>\n      <th>positiva_alcohol</th>\n      <th>positiva_droga</th>\n    </tr>\n  </thead>\n  <tbody>\n    <tr>\n      <th>0</th>\n      <td>2022S000001</td>\n      <td>01/01/2022</td>\n      <td>1:30:00</td>\n      <td>AVDA. ALBUFERA, 19</td>\n      <td>19</td>\n      <td>13.0</td>\n      <td>PUENTE DE VALLECAS</td>\n      <td>Alcance</td>\n      <td>Despejado</td>\n      <td>Turismo</td>\n      <td>Conductor</td>\n      <td>De 30 a 34 años</td>\n      <td>Mujer</td>\n      <td>NaN</td>\n      <td>NaN</td>\n      <td>443359,226</td>\n      <td>4472082,272</td>\n      <td>N</td>\n      <td>NaN</td>\n    </tr>\n    <tr>\n      <th>1</th>\n      <td>2022S000001</td>\n      <td>01/01/2022</td>\n      <td>1:30:00</td>\n      <td>AVDA. ALBUFERA, 19</td>\n      <td>19</td>\n      <td>13.0</td>\n      <td>PUENTE DE VALLECAS</td>\n      <td>Alcance</td>\n      <td>Despejado</td>\n      <td>Turismo</td>\n      <td>Conductor</td>\n      <td>De 45 a 49 años</td>\n      <td>Hombre</td>\n      <td>NaN</td>\n      <td>NaN</td>\n      <td>443359,226</td>\n      <td>4472082,272</td>\n      <td>N</td>\n      <td>NaN</td>\n    </tr>\n    <tr>\n      <th>2</th>\n      <td>2022S000002</td>\n      <td>01/01/2022</td>\n      <td>0:30:00</td>\n      <td>PLAZA. CANOVAS DEL CASTILLO / PASEO. PRADO</td>\n      <td>2</td>\n      <td>3.0</td>\n      <td>RETIRO</td>\n      <td>Colisión fronto-lateral</td>\n      <td>NaN</td>\n      <td>Motocicleta hasta 125cc</td>\n      <td>Conductor</td>\n      <td>De 30 a 34 años</td>\n      <td>Hombre</td>\n      <td>NaN</td>\n      <td>NaN</td>\n      <td>441155,351</td>\n      <td>4474129,588</td>\n      <td>S</td>\n      <td>NaN</td>\n    </tr>\n    <tr>\n      <th>3</th>\n      <td>2022S000002</td>\n      <td>01/01/2022</td>\n      <td>0:30:00</td>\n      <td>PLAZA. CANOVAS DEL CASTILLO / PASEO. PRADO</td>\n      <td>2</td>\n      <td>3.0</td>\n      <td>RETIRO</td>\n      <td>Colisión fronto-lateral</td>\n      <td>NaN</td>\n      <td>Motocicleta hasta 125cc</td>\n      <td>Pasajero</td>\n      <td>De 35 a 39 años</td>\n      <td>Mujer</td>\n      <td>NaN</td>\n      <td>NaN</td>\n      <td>441155,351</td>\n      <td>4474129,588</td>\n      <td>N</td>\n      <td>NaN</td>\n    </tr>\n    <tr>\n      <th>4</th>\n      <td>2022S000002</td>\n      <td>01/01/2022</td>\n      <td>0:30:00</td>\n      <td>PLAZA. CANOVAS DEL CASTILLO / PASEO. PRADO</td>\n      <td>2</td>\n      <td>3.0</td>\n      <td>RETIRO</td>\n      <td>Colisión fronto-lateral</td>\n      <td>NaN</td>\n      <td>Turismo</td>\n      <td>Conductor</td>\n      <td>De 40 a 44 años</td>\n      <td>Hombre</td>\n      <td>NaN</td>\n      <td>NaN</td>\n      <td>441155,351</td>\n      <td>4474129,588</td>\n      <td>N</td>\n      <td>NaN</td>\n    </tr>\n  </tbody>\n</table>\n</div>"
     },
     "execution_count": 28,
     "metadata": {},
     "output_type": "execute_result"
    }
   ],
   "source": [
    "combined_data.drop(columns=[col for col in combined_data.columns if col.startswith(\"Unnamed\")], inplace=True)\n",
    "combined_data.head()"
   ],
   "metadata": {
    "collapsed": false,
    "ExecuteTime": {
     "end_time": "2023-11-17T17:09:53.988193342Z",
     "start_time": "2023-11-17T17:09:53.878788597Z"
    }
   },
   "id": "b7f1c3a69466e058"
  },
  {
   "cell_type": "markdown",
   "source": [
    "## Uniformidad"
   ],
   "metadata": {
    "collapsed": false
   },
   "id": "75d20fbd6813ee0f"
  },
  {
   "cell_type": "markdown",
   "id": "cdaf0929",
   "metadata": {},
   "source": [
    "1. Cambiamos los nulos de positiva_droga por un 0 y en positiva_alcohol 'S' por 1 y 'N' por 0 para mantener la uniformidad"
   ]
  },
  {
   "cell_type": "code",
   "execution_count": 29,
   "id": "506b5bd9",
   "metadata": {
    "ExecuteTime": {
     "end_time": "2023-11-17T17:09:54.007173130Z",
     "start_time": "2023-11-17T17:09:53.925491046Z"
    }
   },
   "outputs": [
    {
     "data": {
      "text/plain": "(positiva_alcohol\n 0.0    72591\n 1.0     2370\n Name: count, dtype: int64,\n 0)"
     },
     "execution_count": 29,
     "metadata": {},
     "output_type": "execute_result"
    }
   ],
   "source": [
    "# Cambiamos en 'positiva_alcohol'\n",
    "combined_data['positiva_alcohol'].replace({'S': 1, 'N': 0}, inplace=True)\n",
    "# Cambiamos en 'positiva_droga' y 'positiva_alcohol los nulls\n",
    "combined_data['positiva_alcohol'].fillna(0, inplace=True)\n",
    "combined_data['positiva_droga'].fillna(0, inplace=True)\n",
    "# Verificamos los cambios y si todavía hay valores nulos en la columna 'positiva_droga'\n",
    "combined_data['positiva_alcohol'].value_counts(), combined_data['positiva_droga'].isnull().sum()"
   ]
  },
  {
   "cell_type": "markdown",
   "source": [
    "Revisamos según la edad que tipo de personas y vehiculos existen"
   ],
   "metadata": {
    "collapsed": false
   },
   "id": "fdf8280adbaee541"
  },
  {
   "cell_type": "code",
   "execution_count": 30,
   "outputs": [
    {
     "data": {
      "text/plain": "rango_edad       tipo_persona  tipo_vehiculo              \nDe 10 a 14 años  Pasajero      Turismo                        426\n                 Peatón        Turismo                         96\n                 Conductor     VMU eléctrico                   36\n                               Bicicleta                       35\n                 Pasajero      Furgoneta                       15\n                                                             ... \nMás de 74 años   Pasajero      Autobus EMT                      1\n                 Conductor     Cuadriciclo ligero               1\n                               Moto de tres ruedas > 125cc      1\n                               Otros vehículos con motor        1\n                               Sin especificar                  1\nName: count, Length: 752, dtype: int64"
     },
     "execution_count": 30,
     "metadata": {},
     "output_type": "execute_result"
    }
   ],
   "source": [
    "combined_data.filter(['rango_edad','tipo_persona', 'tipo_vehiculo']).groupby('rango_edad').value_counts()"
   ],
   "metadata": {
    "collapsed": false,
    "ExecuteTime": {
     "end_time": "2023-11-17T17:09:54.055478301Z",
     "start_time": "2023-11-17T17:09:53.969289830Z"
    }
   },
   "id": "b849295e4633e842"
  },
  {
   "cell_type": "markdown",
   "source": [
    "Observamos que existen personas menores de 5 años que están asignadas como Conductores, veamos estos datos"
   ],
   "metadata": {
    "collapsed": false
   },
   "id": "293b5621bcd85453"
  },
  {
   "cell_type": "code",
   "execution_count": 31,
   "outputs": [
    {
     "name": "stderr",
     "output_type": "stream",
     "text": [
      "/tmp/ipykernel_6858/2650439799.py:1: UserWarning: Boolean Series key will be reindexed to match DataFrame index.\n",
      "  combined_data[combined_data['rango_edad'].isin(['Menor de 5 años', 'De 10 a 14 años', 'De 15 a 17 años'])][combined_data['tipo_persona']=='Conductor']\n"
     ]
    },
    {
     "data": {
      "text/plain": "      num_expediente       fecha      hora  \\\n16       2022S000009  01/01/2022   5:20:00   \n396      2022S000209  05/01/2022  21:15:00   \n769      2022S000416  09/01/2022  14:20:00   \n1073     2022S000584  12/01/2022  16:30:00   \n1827     2022S001092  11/01/2022   9:50:00   \n...              ...         ...       ...   \n77502    2023S027852  23/08/2023  20:15:00   \n77583    2023S027899  24/08/2023  22:20:00   \n77607    2023S027913  25/08/2023  10:10:00   \n77665    2023S027954  24/08/2023  20:10:00   \n78037    2023S028220  30/08/2023  16:35:00   \n\n                                        localizacion numero  cod_distrito  \\\n16                     CALL. AMPOSTA / CALL. ARGENTA      2          20.0   \n396               CALL. CAMINO VIEJO DE LEGANES, 157    157          11.0   \n769                                 CALL. ALCALA, 69     69           4.0   \n1073                                AVDA. SEGUNDA, 5      5          20.0   \n1827                              AVDA. VICTORIA, 32     32           9.0   \n...                                              ...    ...           ...   \n77502  CALL. JOSE ARCONES GIL / CALL. DOCTOR CIRAJAS     26          15.0   \n77583          AVDA. PESETA / CALL. SALVADOR ALLENDE     43          11.0   \n77607                            AVDA. POBLADOS, 167    167          12.0   \n77665       AVDA. PORTUGAL / PLAZA. PUERTA DEL ANGEL      3          10.0   \n78037                         AVDA. LOS ROSALES, 113    113          17.0   \n\n                  distrito                tipo_accidente estado_meteorológico  \\\n16     SAN BLAS-CANILLEJAS  Choque contra obstáculo fijo            Despejado   \n396            CARABANCHEL       Colisión fronto-lateral         Lluvia débil   \n769              SALAMANCA              Colisión lateral            Despejado   \n1073   SAN BLAS-CANILLEJAS                         Caída            Despejado   \n1827       MONCLOA-ARAVACA  Choque contra obstáculo fijo            Despejado   \n...                    ...                           ...                  ...   \n77502        CIUDAD LINEAL                         Caída            Despejado   \n77583          CARABANCHEL       Colisión fronto-lateral            Despejado   \n77607                USERA                       Alcance            Despejado   \n77665               LATINA                         Caída            Despejado   \n78037           VILLAVERDE       Colisión fronto-lateral            Despejado   \n\n                           tipo_vehiculo tipo_persona       rango_edad  \\\n16                               Turismo    Conductor  De 15 a 17 años   \n396                        VMU eléctrico    Conductor  De 10 a 14 años   \n769                            Bicicleta    Conductor  De 10 a 14 años   \n1073                       VMU eléctrico    Conductor  De 15 a 17 años   \n1827                  Cuadriciclo ligero    Conductor  De 15 a 17 años   \n...                                  ...          ...              ...   \n77502                          Bicicleta    Conductor  De 15 a 17 años   \n77583                      VMU eléctrico    Conductor  De 15 a 17 años   \n77607  Bicicleta EPAC (pedaleo asistido)    Conductor  De 15 a 17 años   \n77665                          Bicicleta    Conductor  De 15 a 17 años   \n78037  Bicicleta EPAC (pedaleo asistido)    Conductor  De 15 a 17 años   \n\n         sexo  cod_lesividad  \\\n16      Mujer           14.0   \n396     Mujer            1.0   \n769    Hombre            NaN   \n1073   Hombre            5.0   \n1827    Mujer            7.0   \n...       ...            ...   \n77502   Mujer            7.0   \n77583  Hombre            2.0   \n77607  Hombre            2.0   \n77665   Mujer            1.0   \n78037  Hombre            7.0   \n\n                                               lesividad coordenada_x_utm  \\\n16                              Sin asistencia sanitaria       447682,168   \n396          Atención en urgencias sin posterior ingreso       438042,722   \n769                                                  NaN       441492,182   \n1073   Asistencia sanitaria ambulatoria con posterior...       449611,236   \n1827   Asistencia sanitaria sólo en el lugar del acci...       430573,402   \n...                                                  ...              ...   \n77502  Asistencia sanitaria sólo en el lugar del acci...        445833.33   \n77583                Ingreso inferior o igual a 24 horas       435683.357   \n77607                Ingreso inferior o igual a 24 horas       439893.946   \n77665        Atención en urgencias sin posterior ingreso       438088.045   \n78037  Asistencia sanitaria sólo en el lugar del acci...       442262.258   \n\n      coordenada_y_utm  positiva_alcohol  positiva_droga  \n16         4474712,884               1.0             0.0  \n396        4470485,816               0.0             0.0  \n769        4474597,275               0.0             0.0  \n1073       4477594,667               0.0             0.0  \n1827       4480061,289               0.0             0.0  \n...                ...               ...             ...  \n77502      4476236.576               0.0             0.0  \n77583      4468247.391               0.0             0.0  \n77607      4469302.219               0.0             0.0  \n77665      4474043.831               0.0             0.0  \n78037      4467240.059               0.0             0.0  \n\n[291 rows x 19 columns]",
      "text/html": "<div>\n<style scoped>\n    .dataframe tbody tr th:only-of-type {\n        vertical-align: middle;\n    }\n\n    .dataframe tbody tr th {\n        vertical-align: top;\n    }\n\n    .dataframe thead th {\n        text-align: right;\n    }\n</style>\n<table border=\"1\" class=\"dataframe\">\n  <thead>\n    <tr style=\"text-align: right;\">\n      <th></th>\n      <th>num_expediente</th>\n      <th>fecha</th>\n      <th>hora</th>\n      <th>localizacion</th>\n      <th>numero</th>\n      <th>cod_distrito</th>\n      <th>distrito</th>\n      <th>tipo_accidente</th>\n      <th>estado_meteorológico</th>\n      <th>tipo_vehiculo</th>\n      <th>tipo_persona</th>\n      <th>rango_edad</th>\n      <th>sexo</th>\n      <th>cod_lesividad</th>\n      <th>lesividad</th>\n      <th>coordenada_x_utm</th>\n      <th>coordenada_y_utm</th>\n      <th>positiva_alcohol</th>\n      <th>positiva_droga</th>\n    </tr>\n  </thead>\n  <tbody>\n    <tr>\n      <th>16</th>\n      <td>2022S000009</td>\n      <td>01/01/2022</td>\n      <td>5:20:00</td>\n      <td>CALL. AMPOSTA / CALL. ARGENTA</td>\n      <td>2</td>\n      <td>20.0</td>\n      <td>SAN BLAS-CANILLEJAS</td>\n      <td>Choque contra obstáculo fijo</td>\n      <td>Despejado</td>\n      <td>Turismo</td>\n      <td>Conductor</td>\n      <td>De 15 a 17 años</td>\n      <td>Mujer</td>\n      <td>14.0</td>\n      <td>Sin asistencia sanitaria</td>\n      <td>447682,168</td>\n      <td>4474712,884</td>\n      <td>1.0</td>\n      <td>0.0</td>\n    </tr>\n    <tr>\n      <th>396</th>\n      <td>2022S000209</td>\n      <td>05/01/2022</td>\n      <td>21:15:00</td>\n      <td>CALL. CAMINO VIEJO DE LEGANES, 157</td>\n      <td>157</td>\n      <td>11.0</td>\n      <td>CARABANCHEL</td>\n      <td>Colisión fronto-lateral</td>\n      <td>Lluvia débil</td>\n      <td>VMU eléctrico</td>\n      <td>Conductor</td>\n      <td>De 10 a 14 años</td>\n      <td>Mujer</td>\n      <td>1.0</td>\n      <td>Atención en urgencias sin posterior ingreso</td>\n      <td>438042,722</td>\n      <td>4470485,816</td>\n      <td>0.0</td>\n      <td>0.0</td>\n    </tr>\n    <tr>\n      <th>769</th>\n      <td>2022S000416</td>\n      <td>09/01/2022</td>\n      <td>14:20:00</td>\n      <td>CALL. ALCALA, 69</td>\n      <td>69</td>\n      <td>4.0</td>\n      <td>SALAMANCA</td>\n      <td>Colisión lateral</td>\n      <td>Despejado</td>\n      <td>Bicicleta</td>\n      <td>Conductor</td>\n      <td>De 10 a 14 años</td>\n      <td>Hombre</td>\n      <td>NaN</td>\n      <td>NaN</td>\n      <td>441492,182</td>\n      <td>4474597,275</td>\n      <td>0.0</td>\n      <td>0.0</td>\n    </tr>\n    <tr>\n      <th>1073</th>\n      <td>2022S000584</td>\n      <td>12/01/2022</td>\n      <td>16:30:00</td>\n      <td>AVDA. SEGUNDA, 5</td>\n      <td>5</td>\n      <td>20.0</td>\n      <td>SAN BLAS-CANILLEJAS</td>\n      <td>Caída</td>\n      <td>Despejado</td>\n      <td>VMU eléctrico</td>\n      <td>Conductor</td>\n      <td>De 15 a 17 años</td>\n      <td>Hombre</td>\n      <td>5.0</td>\n      <td>Asistencia sanitaria ambulatoria con posterior...</td>\n      <td>449611,236</td>\n      <td>4477594,667</td>\n      <td>0.0</td>\n      <td>0.0</td>\n    </tr>\n    <tr>\n      <th>1827</th>\n      <td>2022S001092</td>\n      <td>11/01/2022</td>\n      <td>9:50:00</td>\n      <td>AVDA. VICTORIA, 32</td>\n      <td>32</td>\n      <td>9.0</td>\n      <td>MONCLOA-ARAVACA</td>\n      <td>Choque contra obstáculo fijo</td>\n      <td>Despejado</td>\n      <td>Cuadriciclo ligero</td>\n      <td>Conductor</td>\n      <td>De 15 a 17 años</td>\n      <td>Mujer</td>\n      <td>7.0</td>\n      <td>Asistencia sanitaria sólo en el lugar del acci...</td>\n      <td>430573,402</td>\n      <td>4480061,289</td>\n      <td>0.0</td>\n      <td>0.0</td>\n    </tr>\n    <tr>\n      <th>...</th>\n      <td>...</td>\n      <td>...</td>\n      <td>...</td>\n      <td>...</td>\n      <td>...</td>\n      <td>...</td>\n      <td>...</td>\n      <td>...</td>\n      <td>...</td>\n      <td>...</td>\n      <td>...</td>\n      <td>...</td>\n      <td>...</td>\n      <td>...</td>\n      <td>...</td>\n      <td>...</td>\n      <td>...</td>\n      <td>...</td>\n      <td>...</td>\n    </tr>\n    <tr>\n      <th>77502</th>\n      <td>2023S027852</td>\n      <td>23/08/2023</td>\n      <td>20:15:00</td>\n      <td>CALL. JOSE ARCONES GIL / CALL. DOCTOR CIRAJAS</td>\n      <td>26</td>\n      <td>15.0</td>\n      <td>CIUDAD LINEAL</td>\n      <td>Caída</td>\n      <td>Despejado</td>\n      <td>Bicicleta</td>\n      <td>Conductor</td>\n      <td>De 15 a 17 años</td>\n      <td>Mujer</td>\n      <td>7.0</td>\n      <td>Asistencia sanitaria sólo en el lugar del acci...</td>\n      <td>445833.33</td>\n      <td>4476236.576</td>\n      <td>0.0</td>\n      <td>0.0</td>\n    </tr>\n    <tr>\n      <th>77583</th>\n      <td>2023S027899</td>\n      <td>24/08/2023</td>\n      <td>22:20:00</td>\n      <td>AVDA. PESETA / CALL. SALVADOR ALLENDE</td>\n      <td>43</td>\n      <td>11.0</td>\n      <td>CARABANCHEL</td>\n      <td>Colisión fronto-lateral</td>\n      <td>Despejado</td>\n      <td>VMU eléctrico</td>\n      <td>Conductor</td>\n      <td>De 15 a 17 años</td>\n      <td>Hombre</td>\n      <td>2.0</td>\n      <td>Ingreso inferior o igual a 24 horas</td>\n      <td>435683.357</td>\n      <td>4468247.391</td>\n      <td>0.0</td>\n      <td>0.0</td>\n    </tr>\n    <tr>\n      <th>77607</th>\n      <td>2023S027913</td>\n      <td>25/08/2023</td>\n      <td>10:10:00</td>\n      <td>AVDA. POBLADOS, 167</td>\n      <td>167</td>\n      <td>12.0</td>\n      <td>USERA</td>\n      <td>Alcance</td>\n      <td>Despejado</td>\n      <td>Bicicleta EPAC (pedaleo asistido)</td>\n      <td>Conductor</td>\n      <td>De 15 a 17 años</td>\n      <td>Hombre</td>\n      <td>2.0</td>\n      <td>Ingreso inferior o igual a 24 horas</td>\n      <td>439893.946</td>\n      <td>4469302.219</td>\n      <td>0.0</td>\n      <td>0.0</td>\n    </tr>\n    <tr>\n      <th>77665</th>\n      <td>2023S027954</td>\n      <td>24/08/2023</td>\n      <td>20:10:00</td>\n      <td>AVDA. PORTUGAL / PLAZA. PUERTA DEL ANGEL</td>\n      <td>3</td>\n      <td>10.0</td>\n      <td>LATINA</td>\n      <td>Caída</td>\n      <td>Despejado</td>\n      <td>Bicicleta</td>\n      <td>Conductor</td>\n      <td>De 15 a 17 años</td>\n      <td>Mujer</td>\n      <td>1.0</td>\n      <td>Atención en urgencias sin posterior ingreso</td>\n      <td>438088.045</td>\n      <td>4474043.831</td>\n      <td>0.0</td>\n      <td>0.0</td>\n    </tr>\n    <tr>\n      <th>78037</th>\n      <td>2023S028220</td>\n      <td>30/08/2023</td>\n      <td>16:35:00</td>\n      <td>AVDA. LOS ROSALES, 113</td>\n      <td>113</td>\n      <td>17.0</td>\n      <td>VILLAVERDE</td>\n      <td>Colisión fronto-lateral</td>\n      <td>Despejado</td>\n      <td>Bicicleta EPAC (pedaleo asistido)</td>\n      <td>Conductor</td>\n      <td>De 15 a 17 años</td>\n      <td>Hombre</td>\n      <td>7.0</td>\n      <td>Asistencia sanitaria sólo en el lugar del acci...</td>\n      <td>442262.258</td>\n      <td>4467240.059</td>\n      <td>0.0</td>\n      <td>0.0</td>\n    </tr>\n  </tbody>\n</table>\n<p>291 rows × 19 columns</p>\n</div>"
     },
     "execution_count": 31,
     "metadata": {},
     "output_type": "execute_result"
    }
   ],
   "source": [
    "combined_data[combined_data['rango_edad'].isin(['Menor de 5 años', 'De 10 a 14 años', 'De 15 a 17 años'])][combined_data['tipo_persona']=='Conductor']"
   ],
   "metadata": {
    "collapsed": false,
    "ExecuteTime": {
     "end_time": "2023-11-17T17:09:54.163705541Z",
     "start_time": "2023-11-17T17:09:53.979197975Z"
    }
   },
   "id": "5ddedfa531dfe733"
  },
  {
   "cell_type": "markdown",
   "source": [
    "### Agregamos columna 'numero_pasajeros' y Reemplazamos datos erroneos\n",
    "Estos datos tienen que ser erróneos sí o sí, ya que la ley dicta que ningún menor de 18 años puede conducir en España. Para arreglar este problema, todos los casos que la edad sea 'Menor de 5 años', 'De 10 a 14 años', 'De 15 a 17 años' y sean conductores de vehículos, excluyendo: **'Bicicleta EPAC (pedaleo asistido)', 'Bicicleta', 'VMU eléctrico', 'Cuadriciclo ligero', 'Motocicleta hasta 125cc', 'Ciclomotor' y 'Ciclo'**, ya que está permitido conducir dichos vehículos para menores de 18 los dividiremos en 2 casos:\n",
    "1. Si existe más de 1 pasajero en el vehículo cambiamos el tipo de persona a 'Pasajero'\n",
    "2. Cuando sea el único pasajero del vehículo cambiamos la edad a 'Desconocido', ya que se concluye que hubo un error al introducir la edad"
   ],
   "metadata": {
    "collapsed": false
   },
   "id": "ab7eaeefe73f5861"
  },
  {
   "cell_type": "code",
   "execution_count": 32,
   "outputs": [
    {
     "data": {
      "text/plain": "rango_edad       tipo_vehiculo                    \nDe 10 a 14 años  Bicicleta                            35\n                 VMU eléctrico                        36\nDe 15 a 17 años  Bicicleta                            28\n                 Bicicleta EPAC (pedaleo asistido)     9\n                 Ciclo                                 2\n                 Ciclomotor                           16\n                 Cuadriciclo ligero                   19\n                 Motocicleta hasta 125cc              11\n                 VMU eléctrico                        82\nMenor de 5 años  Bicicleta                             1\n                 Bicicleta EPAC (pedaleo asistido)     1\ndtype: int64"
     },
     "execution_count": 32,
     "metadata": {},
     "output_type": "execute_result"
    }
   ],
   "source": [
    "# Agregando la columna 'numero_pasajeros'\n",
    "combined_data['numero_pasajeros'] = combined_data.groupby('num_expediente')['num_expediente'].transform('count')\n",
    "\n",
    "# Filtrando datos para encontrar los registros donde el rango de edad es 'Menor de 5 años', el tipo de persona es 'Conductor',\n",
    "# y el tipo de vehículo no es ni 'Bicicleta EPAC (pedaleo asistido)', 'Bicicleta', 'VMU eléctrico', 'Cuadriciclo ligero'\n",
    "# 'Motocicleta hasta 125cc', 'Ciclomotor' o 'Ciclo'\n",
    "faulty_data = combined_data[\n",
    "    ((combined_data['rango_edad'] == 'Menor de 5 años') |\n",
    "     (combined_data['rango_edad'] == 'De 10 a 14 años') |\n",
    "     (combined_data['rango_edad'] == 'De 15 a 17 años')) &\n",
    "    (combined_data['tipo_persona'] == 'Conductor') &\n",
    "    (~combined_data['tipo_vehiculo'].isin(['Bicicleta EPAC (pedaleo asistido)', 'Bicicleta', 'VMU eléctrico', 'Cuadriciclo ligero'\n",
    "                                           , 'Motocicleta hasta 125cc', 'Ciclomotor', 'Ciclo']))\n",
    "    ]\n",
    "\n",
    "\n",
    "# Revisando si hay más de un pasajero en los registros filtrados y realizando los reemplazos correspondientes\n",
    "if faulty_data['numero_pasajeros'].gt(1).any():\n",
    "    # Cambiar 'tipo_persona' a 'Pasajero' para registros donde hay más de un pasajero\n",
    "    combined_data.loc[faulty_data.index, 'tipo_persona'] = 'Pasajero'\n",
    "else:\n",
    "    # Cambiar 'rango_edad' a 'Desconocido' si no hay más de un pasajero\n",
    "    combined_data.loc[faulty_data.index, 'rango_edad'] = 'Desconocido'\n",
    "\n",
    "\n",
    "\n",
    "\n",
    "# Filtrar por tipo_persona 'Conductor' y por los rangos de edad de interés\n",
    "conductores_rangos_edad = combined_data[\n",
    "    (combined_data['tipo_persona'] == 'Conductor') &\n",
    "    (combined_data['rango_edad'].isin(['De 10 a 14 años', 'De 15 a 17 años', 'Menor de 5 años']))\n",
    "    ]\n",
    "\n",
    "conductores_rangos_edad.groupby(['rango_edad', 'tipo_vehiculo']).size()"
   ],
   "metadata": {
    "collapsed": false,
    "ExecuteTime": {
     "end_time": "2023-11-17T17:09:54.228502829Z",
     "start_time": "2023-11-17T17:09:54.022232549Z"
    }
   },
   "id": "c2de9b84911a2243"
  },
  {
   "cell_type": "markdown",
   "source": [
    "Observamos que los datos de personas menores de 18 años son de tipo_vehiculo permitidos por la legislación española, por lo que no son datos erróneos"
   ],
   "metadata": {
    "collapsed": false
   },
   "id": "dfa5a2154c293f60"
  },
  {
   "cell_type": "code",
   "execution_count": 33,
   "outputs": [
    {
     "data": {
      "text/plain": "  num_expediente       fecha     hora  \\\n0    2022S000001  01/01/2022  1:30:00   \n1    2022S000001  01/01/2022  1:30:00   \n2    2022S000002  01/01/2022  0:30:00   \n3    2022S000002  01/01/2022  0:30:00   \n4    2022S000002  01/01/2022  0:30:00   \n\n                                 localizacion numero  cod_distrito  \\\n0                          AVDA. ALBUFERA, 19     19          13.0   \n1                          AVDA. ALBUFERA, 19     19          13.0   \n2  PLAZA. CANOVAS DEL CASTILLO / PASEO. PRADO      2           3.0   \n3  PLAZA. CANOVAS DEL CASTILLO / PASEO. PRADO      2           3.0   \n4  PLAZA. CANOVAS DEL CASTILLO / PASEO. PRADO      2           3.0   \n\n             distrito           tipo_accidente estado_meteorológico  \\\n0  PUENTE DE VALLECAS                  Alcance            Despejado   \n1  PUENTE DE VALLECAS                  Alcance            Despejado   \n2              RETIRO  Colisión fronto-lateral                  NaN   \n3              RETIRO  Colisión fronto-lateral                  NaN   \n4              RETIRO  Colisión fronto-lateral                  NaN   \n\n             tipo_vehiculo tipo_persona       rango_edad    sexo  \\\n0                  Turismo    Conductor  De 30 a 34 años   Mujer   \n1                  Turismo    Conductor  De 45 a 49 años  Hombre   \n2  Motocicleta hasta 125cc    Conductor  De 30 a 34 años  Hombre   \n3  Motocicleta hasta 125cc     Pasajero  De 35 a 39 años   Mujer   \n4                  Turismo    Conductor  De 40 a 44 años  Hombre   \n\n   cod_lesividad lesividad coordenada_x_utm coordenada_y_utm  \\\n0            NaN       NaN       443359,226      4472082,272   \n1            NaN       NaN       443359,226      4472082,272   \n2            NaN       NaN       441155,351      4474129,588   \n3            NaN       NaN       441155,351      4474129,588   \n4            NaN       NaN       441155,351      4474129,588   \n\n   positiva_alcohol  positiva_droga  numero_pasajeros  \n0               0.0             0.0                 2  \n1               0.0             0.0                 2  \n2               1.0             0.0                 3  \n3               0.0             0.0                 3  \n4               0.0             0.0                 3  ",
      "text/html": "<div>\n<style scoped>\n    .dataframe tbody tr th:only-of-type {\n        vertical-align: middle;\n    }\n\n    .dataframe tbody tr th {\n        vertical-align: top;\n    }\n\n    .dataframe thead th {\n        text-align: right;\n    }\n</style>\n<table border=\"1\" class=\"dataframe\">\n  <thead>\n    <tr style=\"text-align: right;\">\n      <th></th>\n      <th>num_expediente</th>\n      <th>fecha</th>\n      <th>hora</th>\n      <th>localizacion</th>\n      <th>numero</th>\n      <th>cod_distrito</th>\n      <th>distrito</th>\n      <th>tipo_accidente</th>\n      <th>estado_meteorológico</th>\n      <th>tipo_vehiculo</th>\n      <th>tipo_persona</th>\n      <th>rango_edad</th>\n      <th>sexo</th>\n      <th>cod_lesividad</th>\n      <th>lesividad</th>\n      <th>coordenada_x_utm</th>\n      <th>coordenada_y_utm</th>\n      <th>positiva_alcohol</th>\n      <th>positiva_droga</th>\n      <th>numero_pasajeros</th>\n    </tr>\n  </thead>\n  <tbody>\n    <tr>\n      <th>0</th>\n      <td>2022S000001</td>\n      <td>01/01/2022</td>\n      <td>1:30:00</td>\n      <td>AVDA. ALBUFERA, 19</td>\n      <td>19</td>\n      <td>13.0</td>\n      <td>PUENTE DE VALLECAS</td>\n      <td>Alcance</td>\n      <td>Despejado</td>\n      <td>Turismo</td>\n      <td>Conductor</td>\n      <td>De 30 a 34 años</td>\n      <td>Mujer</td>\n      <td>NaN</td>\n      <td>NaN</td>\n      <td>443359,226</td>\n      <td>4472082,272</td>\n      <td>0.0</td>\n      <td>0.0</td>\n      <td>2</td>\n    </tr>\n    <tr>\n      <th>1</th>\n      <td>2022S000001</td>\n      <td>01/01/2022</td>\n      <td>1:30:00</td>\n      <td>AVDA. ALBUFERA, 19</td>\n      <td>19</td>\n      <td>13.0</td>\n      <td>PUENTE DE VALLECAS</td>\n      <td>Alcance</td>\n      <td>Despejado</td>\n      <td>Turismo</td>\n      <td>Conductor</td>\n      <td>De 45 a 49 años</td>\n      <td>Hombre</td>\n      <td>NaN</td>\n      <td>NaN</td>\n      <td>443359,226</td>\n      <td>4472082,272</td>\n      <td>0.0</td>\n      <td>0.0</td>\n      <td>2</td>\n    </tr>\n    <tr>\n      <th>2</th>\n      <td>2022S000002</td>\n      <td>01/01/2022</td>\n      <td>0:30:00</td>\n      <td>PLAZA. CANOVAS DEL CASTILLO / PASEO. PRADO</td>\n      <td>2</td>\n      <td>3.0</td>\n      <td>RETIRO</td>\n      <td>Colisión fronto-lateral</td>\n      <td>NaN</td>\n      <td>Motocicleta hasta 125cc</td>\n      <td>Conductor</td>\n      <td>De 30 a 34 años</td>\n      <td>Hombre</td>\n      <td>NaN</td>\n      <td>NaN</td>\n      <td>441155,351</td>\n      <td>4474129,588</td>\n      <td>1.0</td>\n      <td>0.0</td>\n      <td>3</td>\n    </tr>\n    <tr>\n      <th>3</th>\n      <td>2022S000002</td>\n      <td>01/01/2022</td>\n      <td>0:30:00</td>\n      <td>PLAZA. CANOVAS DEL CASTILLO / PASEO. PRADO</td>\n      <td>2</td>\n      <td>3.0</td>\n      <td>RETIRO</td>\n      <td>Colisión fronto-lateral</td>\n      <td>NaN</td>\n      <td>Motocicleta hasta 125cc</td>\n      <td>Pasajero</td>\n      <td>De 35 a 39 años</td>\n      <td>Mujer</td>\n      <td>NaN</td>\n      <td>NaN</td>\n      <td>441155,351</td>\n      <td>4474129,588</td>\n      <td>0.0</td>\n      <td>0.0</td>\n      <td>3</td>\n    </tr>\n    <tr>\n      <th>4</th>\n      <td>2022S000002</td>\n      <td>01/01/2022</td>\n      <td>0:30:00</td>\n      <td>PLAZA. CANOVAS DEL CASTILLO / PASEO. PRADO</td>\n      <td>2</td>\n      <td>3.0</td>\n      <td>RETIRO</td>\n      <td>Colisión fronto-lateral</td>\n      <td>NaN</td>\n      <td>Turismo</td>\n      <td>Conductor</td>\n      <td>De 40 a 44 años</td>\n      <td>Hombre</td>\n      <td>NaN</td>\n      <td>NaN</td>\n      <td>441155,351</td>\n      <td>4474129,588</td>\n      <td>0.0</td>\n      <td>0.0</td>\n      <td>3</td>\n    </tr>\n  </tbody>\n</table>\n</div>"
     },
     "execution_count": 33,
     "metadata": {},
     "output_type": "execute_result"
    }
   ],
   "source": [
    "combined_data.head()"
   ],
   "metadata": {
    "collapsed": false,
    "ExecuteTime": {
     "end_time": "2023-11-17T17:09:54.229695903Z",
     "start_time": "2023-11-17T17:09:54.069438789Z"
    }
   },
   "id": "9a0bd6baedd3ce84"
  },
  {
   "cell_type": "code",
   "execution_count": 34,
   "outputs": [],
   "source": [
    "combined_data.to_csv('./Datasets/Data_Combinada.csv', index=False)"
   ],
   "metadata": {
    "collapsed": false,
    "ExecuteTime": {
     "end_time": "2023-11-17T17:10:00.041319843Z",
     "start_time": "2023-11-17T17:09:59.483226391Z"
    }
   },
   "id": "76019848fb64e4cb"
  },
  {
   "cell_type": "code",
   "execution_count": null,
   "outputs": [],
   "source": [],
   "metadata": {
    "collapsed": false
   },
   "id": "f1dbae9d2a3d9775"
  }
 ],
 "metadata": {
  "kernelspec": {
   "display_name": "Python 3 (ipykernel)",
   "language": "python",
   "name": "python3"
  },
  "language_info": {
   "codemirror_mode": {
    "name": "ipython",
    "version": 3
   },
   "file_extension": ".py",
   "mimetype": "text/x-python",
   "name": "python",
   "nbconvert_exporter": "python",
   "pygments_lexer": "ipython3",
   "version": "3.9.13"
  }
 },
 "nbformat": 4,
 "nbformat_minor": 5
}
