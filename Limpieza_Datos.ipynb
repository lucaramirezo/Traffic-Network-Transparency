{
 "cells": [
  {
   "cell_type": "markdown",
   "id": "12719a4a",
   "metadata": {},
   "source": [
    "# Limpiado de Datos "
   ]
  },
  {
   "cell_type": "code",
   "execution_count": 2,
   "id": "2baabc55",
   "metadata": {
    "ExecuteTime": {
     "end_time": "2023-11-17T17:09:53.316543514Z",
     "start_time": "2023-11-17T17:09:53.200337430Z"
    }
   },
   "outputs": [],
   "source": [
    "import pandas as pd"
   ]
  },
  {
   "cell_type": "markdown",
   "id": "005c06cf",
   "metadata": {},
   "source": [
    "## Accidentalidad 2022-2023"
   ]
  },
  {
   "cell_type": "markdown",
   "id": "bc382a57",
   "metadata": {},
   "source": [
    "El fichero 202X_Accidentalidad.csv recoge los datos de Accidentes de tráfico en la Ciudad de Madrid registrados por la Policía Municipal."
   ]
  },
  {
   "cell_type": "markdown",
   "id": "a9ecb78f",
   "metadata": {},
   "source": [
    "1. Tomamos los datos de los ficheros 2022_Accidentalidad.csv y 2023_Accidentalidad.csv y creamos dataframes con los datos de los ficheros"
   ]
  },
  {
   "cell_type": "code",
   "execution_count": 3,
   "id": "dafdf6ff",
   "metadata": {
    "ExecuteTime": {
     "end_time": "2023-11-17T17:09:53.457010422Z",
     "start_time": "2023-11-17T17:09:53.217938364Z"
    }
   },
   "outputs": [
    {
     "data": {
      "text/plain": "  num_expediente       fecha     hora  \\\n0    2022S000001  01/01/2022  1:30:00   \n1    2022S000001  01/01/2022  1:30:00   \n2    2022S000002  01/01/2022  0:30:00   \n3    2022S000002  01/01/2022  0:30:00   \n4    2022S000002  01/01/2022  0:30:00   \n\n                                 localizacion numero  cod_distrito  \\\n0                          AVDA. ALBUFERA, 19     19            13   \n1                          AVDA. ALBUFERA, 19     19            13   \n2  PLAZA. CANOVAS DEL CASTILLO / PASEO. PRADO      2             3   \n3  PLAZA. CANOVAS DEL CASTILLO / PASEO. PRADO      2             3   \n4  PLAZA. CANOVAS DEL CASTILLO / PASEO. PRADO      2             3   \n\n             distrito           tipo_accidente estado_meteorológico  \\\n0  PUENTE DE VALLECAS                  Alcance            Despejado   \n1  PUENTE DE VALLECAS                  Alcance            Despejado   \n2              RETIRO  Colisión fronto-lateral                  NaN   \n3              RETIRO  Colisión fronto-lateral                  NaN   \n4              RETIRO  Colisión fronto-lateral                  NaN   \n\n             tipo_vehiculo  ...       rango_edad    sexo cod_lesividad  \\\n0                  Turismo  ...  De 30 a 34 años   Mujer           NaN   \n1                  Turismo  ...  De 45 a 49 años  Hombre           NaN   \n2  Motocicleta hasta 125cc  ...  De 30 a 34 años  Hombre           NaN   \n3  Motocicleta hasta 125cc  ...  De 35 a 39 años   Mujer           NaN   \n4                  Turismo  ...  De 40 a 44 años  Hombre           NaN   \n\n   lesividad coordenada_x_utm coordenada_y_utm positiva_alcohol  \\\n0        NaN       443359,226      4472082,272                N   \n1        NaN       443359,226      4472082,272                N   \n2        NaN       441155,351      4474129,588                S   \n3        NaN       441155,351      4474129,588                N   \n4        NaN       441155,351      4474129,588                N   \n\n  positiva_droga  Unnamed: 19  Unnamed: 20  \n0            NaN          NaN          NaN  \n1            NaN          NaN          NaN  \n2            NaN          NaN          NaN  \n3            NaN          NaN          NaN  \n4            NaN          NaN          NaN  \n\n[5 rows x 21 columns]",
      "text/html": "<div>\n<style scoped>\n    .dataframe tbody tr th:only-of-type {\n        vertical-align: middle;\n    }\n\n    .dataframe tbody tr th {\n        vertical-align: top;\n    }\n\n    .dataframe thead th {\n        text-align: right;\n    }\n</style>\n<table border=\"1\" class=\"dataframe\">\n  <thead>\n    <tr style=\"text-align: right;\">\n      <th></th>\n      <th>num_expediente</th>\n      <th>fecha</th>\n      <th>hora</th>\n      <th>localizacion</th>\n      <th>numero</th>\n      <th>cod_distrito</th>\n      <th>distrito</th>\n      <th>tipo_accidente</th>\n      <th>estado_meteorológico</th>\n      <th>tipo_vehiculo</th>\n      <th>...</th>\n      <th>rango_edad</th>\n      <th>sexo</th>\n      <th>cod_lesividad</th>\n      <th>lesividad</th>\n      <th>coordenada_x_utm</th>\n      <th>coordenada_y_utm</th>\n      <th>positiva_alcohol</th>\n      <th>positiva_droga</th>\n      <th>Unnamed: 19</th>\n      <th>Unnamed: 20</th>\n    </tr>\n  </thead>\n  <tbody>\n    <tr>\n      <th>0</th>\n      <td>2022S000001</td>\n      <td>01/01/2022</td>\n      <td>1:30:00</td>\n      <td>AVDA. ALBUFERA, 19</td>\n      <td>19</td>\n      <td>13</td>\n      <td>PUENTE DE VALLECAS</td>\n      <td>Alcance</td>\n      <td>Despejado</td>\n      <td>Turismo</td>\n      <td>...</td>\n      <td>De 30 a 34 años</td>\n      <td>Mujer</td>\n      <td>NaN</td>\n      <td>NaN</td>\n      <td>443359,226</td>\n      <td>4472082,272</td>\n      <td>N</td>\n      <td>NaN</td>\n      <td>NaN</td>\n      <td>NaN</td>\n    </tr>\n    <tr>\n      <th>1</th>\n      <td>2022S000001</td>\n      <td>01/01/2022</td>\n      <td>1:30:00</td>\n      <td>AVDA. ALBUFERA, 19</td>\n      <td>19</td>\n      <td>13</td>\n      <td>PUENTE DE VALLECAS</td>\n      <td>Alcance</td>\n      <td>Despejado</td>\n      <td>Turismo</td>\n      <td>...</td>\n      <td>De 45 a 49 años</td>\n      <td>Hombre</td>\n      <td>NaN</td>\n      <td>NaN</td>\n      <td>443359,226</td>\n      <td>4472082,272</td>\n      <td>N</td>\n      <td>NaN</td>\n      <td>NaN</td>\n      <td>NaN</td>\n    </tr>\n    <tr>\n      <th>2</th>\n      <td>2022S000002</td>\n      <td>01/01/2022</td>\n      <td>0:30:00</td>\n      <td>PLAZA. CANOVAS DEL CASTILLO / PASEO. PRADO</td>\n      <td>2</td>\n      <td>3</td>\n      <td>RETIRO</td>\n      <td>Colisión fronto-lateral</td>\n      <td>NaN</td>\n      <td>Motocicleta hasta 125cc</td>\n      <td>...</td>\n      <td>De 30 a 34 años</td>\n      <td>Hombre</td>\n      <td>NaN</td>\n      <td>NaN</td>\n      <td>441155,351</td>\n      <td>4474129,588</td>\n      <td>S</td>\n      <td>NaN</td>\n      <td>NaN</td>\n      <td>NaN</td>\n    </tr>\n    <tr>\n      <th>3</th>\n      <td>2022S000002</td>\n      <td>01/01/2022</td>\n      <td>0:30:00</td>\n      <td>PLAZA. CANOVAS DEL CASTILLO / PASEO. PRADO</td>\n      <td>2</td>\n      <td>3</td>\n      <td>RETIRO</td>\n      <td>Colisión fronto-lateral</td>\n      <td>NaN</td>\n      <td>Motocicleta hasta 125cc</td>\n      <td>...</td>\n      <td>De 35 a 39 años</td>\n      <td>Mujer</td>\n      <td>NaN</td>\n      <td>NaN</td>\n      <td>441155,351</td>\n      <td>4474129,588</td>\n      <td>N</td>\n      <td>NaN</td>\n      <td>NaN</td>\n      <td>NaN</td>\n    </tr>\n    <tr>\n      <th>4</th>\n      <td>2022S000002</td>\n      <td>01/01/2022</td>\n      <td>0:30:00</td>\n      <td>PLAZA. CANOVAS DEL CASTILLO / PASEO. PRADO</td>\n      <td>2</td>\n      <td>3</td>\n      <td>RETIRO</td>\n      <td>Colisión fronto-lateral</td>\n      <td>NaN</td>\n      <td>Turismo</td>\n      <td>...</td>\n      <td>De 40 a 44 años</td>\n      <td>Hombre</td>\n      <td>NaN</td>\n      <td>NaN</td>\n      <td>441155,351</td>\n      <td>4474129,588</td>\n      <td>N</td>\n      <td>NaN</td>\n      <td>NaN</td>\n      <td>NaN</td>\n    </tr>\n  </tbody>\n</table>\n<p>5 rows × 21 columns</p>\n</div>"
     },
     "execution_count": 3,
     "metadata": {},
     "output_type": "execute_result"
    }
   ],
   "source": [
    "accidentes_2022 = pd.read_csv('./Datasets/2022_Accidentalidad.csv', sep = ';')\n",
    "accidentes_2022.head()"
   ]
  },
  {
   "cell_type": "code",
   "execution_count": 4,
   "id": "07f4436f",
   "metadata": {
    "ExecuteTime": {
     "end_time": "2023-11-17T17:09:53.552791427Z",
     "start_time": "2023-11-17T17:09:53.445244318Z"
    }
   },
   "outputs": [
    {
     "data": {
      "text/plain": "  num_expediente       fecha     hora            localizacion numero  \\\n0    2023S000001  01/01/2023  1:15:00  AVDA. ALFONSO XIII, 33     33   \n1    2023S000001  01/01/2023  1:15:00  AVDA. ALFONSO XIII, 33     33   \n2    2023S000001  01/01/2023  1:15:00  AVDA. ALFONSO XIII, 33     33   \n3    2023S000001  01/01/2023  1:15:00  AVDA. ALFONSO XIII, 33     33   \n4    2023S000001  01/01/2023  1:15:00  AVDA. ALFONSO XIII, 33     33   \n\n   cod_distrito   distrito tipo_accidente estado_meteorológico tipo_vehiculo  \\\n0           5.0  CHAMARTÍN        Alcance            Despejado  Todo terreno   \n1           5.0  CHAMARTÍN        Alcance            Despejado  Todo terreno   \n2           5.0  CHAMARTÍN        Alcance            Despejado  Todo terreno   \n3           5.0  CHAMARTÍN        Alcance            Despejado  Todo terreno   \n4           5.0  CHAMARTÍN        Alcance            Despejado  Todo terreno   \n\n  tipo_persona       rango_edad    sexo  cod_lesividad  \\\n0    Conductor  De 55 a 59 años   Mujer           14.0   \n1     Pasajero  De 21 a 24 años  Hombre           14.0   \n2     Pasajero  De 21 a 24 años  Hombre           14.0   \n3     Pasajero  De 21 a 24 años   Mujer            7.0   \n4     Pasajero  De 55 a 59 años  Hombre            7.0   \n\n                                           lesividad  coordenada_x_utm  \\\n0                           Sin asistencia sanitaria        443397.166   \n1                           Sin asistencia sanitaria        443397.166   \n2                           Sin asistencia sanitaria        443397.166   \n3  Asistencia sanitaria sólo en el lugar del acci...        443397.166   \n4  Asistencia sanitaria sólo en el lugar del acci...        443397.166   \n\n   coordenada_y_utm positiva_alcohol  positiva_droga  \n0       4478129.388                N             NaN  \n1       4478129.388                N             NaN  \n2       4478129.388                N             NaN  \n3       4478129.388                N             NaN  \n4       4478129.388                N             NaN  ",
      "text/html": "<div>\n<style scoped>\n    .dataframe tbody tr th:only-of-type {\n        vertical-align: middle;\n    }\n\n    .dataframe tbody tr th {\n        vertical-align: top;\n    }\n\n    .dataframe thead th {\n        text-align: right;\n    }\n</style>\n<table border=\"1\" class=\"dataframe\">\n  <thead>\n    <tr style=\"text-align: right;\">\n      <th></th>\n      <th>num_expediente</th>\n      <th>fecha</th>\n      <th>hora</th>\n      <th>localizacion</th>\n      <th>numero</th>\n      <th>cod_distrito</th>\n      <th>distrito</th>\n      <th>tipo_accidente</th>\n      <th>estado_meteorológico</th>\n      <th>tipo_vehiculo</th>\n      <th>tipo_persona</th>\n      <th>rango_edad</th>\n      <th>sexo</th>\n      <th>cod_lesividad</th>\n      <th>lesividad</th>\n      <th>coordenada_x_utm</th>\n      <th>coordenada_y_utm</th>\n      <th>positiva_alcohol</th>\n      <th>positiva_droga</th>\n    </tr>\n  </thead>\n  <tbody>\n    <tr>\n      <th>0</th>\n      <td>2023S000001</td>\n      <td>01/01/2023</td>\n      <td>1:15:00</td>\n      <td>AVDA. ALFONSO XIII, 33</td>\n      <td>33</td>\n      <td>5.0</td>\n      <td>CHAMARTÍN</td>\n      <td>Alcance</td>\n      <td>Despejado</td>\n      <td>Todo terreno</td>\n      <td>Conductor</td>\n      <td>De 55 a 59 años</td>\n      <td>Mujer</td>\n      <td>14.0</td>\n      <td>Sin asistencia sanitaria</td>\n      <td>443397.166</td>\n      <td>4478129.388</td>\n      <td>N</td>\n      <td>NaN</td>\n    </tr>\n    <tr>\n      <th>1</th>\n      <td>2023S000001</td>\n      <td>01/01/2023</td>\n      <td>1:15:00</td>\n      <td>AVDA. ALFONSO XIII, 33</td>\n      <td>33</td>\n      <td>5.0</td>\n      <td>CHAMARTÍN</td>\n      <td>Alcance</td>\n      <td>Despejado</td>\n      <td>Todo terreno</td>\n      <td>Pasajero</td>\n      <td>De 21 a 24 años</td>\n      <td>Hombre</td>\n      <td>14.0</td>\n      <td>Sin asistencia sanitaria</td>\n      <td>443397.166</td>\n      <td>4478129.388</td>\n      <td>N</td>\n      <td>NaN</td>\n    </tr>\n    <tr>\n      <th>2</th>\n      <td>2023S000001</td>\n      <td>01/01/2023</td>\n      <td>1:15:00</td>\n      <td>AVDA. ALFONSO XIII, 33</td>\n      <td>33</td>\n      <td>5.0</td>\n      <td>CHAMARTÍN</td>\n      <td>Alcance</td>\n      <td>Despejado</td>\n      <td>Todo terreno</td>\n      <td>Pasajero</td>\n      <td>De 21 a 24 años</td>\n      <td>Hombre</td>\n      <td>14.0</td>\n      <td>Sin asistencia sanitaria</td>\n      <td>443397.166</td>\n      <td>4478129.388</td>\n      <td>N</td>\n      <td>NaN</td>\n    </tr>\n    <tr>\n      <th>3</th>\n      <td>2023S000001</td>\n      <td>01/01/2023</td>\n      <td>1:15:00</td>\n      <td>AVDA. ALFONSO XIII, 33</td>\n      <td>33</td>\n      <td>5.0</td>\n      <td>CHAMARTÍN</td>\n      <td>Alcance</td>\n      <td>Despejado</td>\n      <td>Todo terreno</td>\n      <td>Pasajero</td>\n      <td>De 21 a 24 años</td>\n      <td>Mujer</td>\n      <td>7.0</td>\n      <td>Asistencia sanitaria sólo en el lugar del acci...</td>\n      <td>443397.166</td>\n      <td>4478129.388</td>\n      <td>N</td>\n      <td>NaN</td>\n    </tr>\n    <tr>\n      <th>4</th>\n      <td>2023S000001</td>\n      <td>01/01/2023</td>\n      <td>1:15:00</td>\n      <td>AVDA. ALFONSO XIII, 33</td>\n      <td>33</td>\n      <td>5.0</td>\n      <td>CHAMARTÍN</td>\n      <td>Alcance</td>\n      <td>Despejado</td>\n      <td>Todo terreno</td>\n      <td>Pasajero</td>\n      <td>De 55 a 59 años</td>\n      <td>Hombre</td>\n      <td>7.0</td>\n      <td>Asistencia sanitaria sólo en el lugar del acci...</td>\n      <td>443397.166</td>\n      <td>4478129.388</td>\n      <td>N</td>\n      <td>NaN</td>\n    </tr>\n  </tbody>\n</table>\n</div>"
     },
     "execution_count": 4,
     "metadata": {},
     "output_type": "execute_result"
    }
   ],
   "source": [
    "accidentes_2023 = pd.read_csv('./Datasets/2023_Accidentalidad.csv', sep = ';')\n",
    "accidentes_2023.head()"
   ]
  },
  {
   "cell_type": "markdown",
   "id": "1eed27a9",
   "metadata": {},
   "source": [
    "2. Combinamos los dataframes en uno solo para facilitar el trabajo y si hay filas duplicadas o filas completamente nulas las eliminamos para evitar tener datos repetidos"
   ]
  },
  {
   "cell_type": "code",
   "execution_count": 5,
   "id": "d928e46d",
   "metadata": {
    "ExecuteTime": {
     "end_time": "2023-11-17T17:09:53.676338021Z",
     "start_time": "2023-11-17T17:09:53.514667839Z"
    }
   },
   "outputs": [],
   "source": [
    "combined_data = pd.concat([accidentes_2022, accidentes_2023])\n",
    "# Restablecer índices para evitar índices duplicados\n",
    "combined_data.reset_index(drop=True, inplace=True)\n",
    "# Limpiar los datos\n",
    "combined_data.drop_duplicates(inplace=True)\n",
    "combined_data.dropna(how='all', inplace=True)"
   ]
  },
  {
   "cell_type": "markdown",
   "source": [
    "### Cazar valores nulos\n",
    "Buscamos nulos en las distintas columnas para mantener la integridad de los datos, conseguir precisión en el análisis, lograr compatibilidad con algoritmos y optimizar recursos"
   ],
   "metadata": {
    "collapsed": false
   },
   "id": "731c5b03372370f1"
  },
  {
   "cell_type": "markdown",
   "source": [],
   "metadata": {
    "collapsed": false
   },
   "id": "132362f1c6dea16d"
  },
  {
   "cell_type": "code",
   "execution_count": 6,
   "outputs": [
    {
     "data": {
      "text/plain": "Empty DataFrame\nColumns: [num_expediente, fecha, hora, localizacion, numero, cod_distrito, distrito, tipo_accidente, estado_meteorológico, tipo_vehiculo, tipo_persona, rango_edad, sexo, cod_lesividad, lesividad, coordenada_x_utm, coordenada_y_utm, positiva_alcohol, positiva_droga, Unnamed: 19, Unnamed: 20]\nIndex: []\n\n[0 rows x 21 columns]",
      "text/html": "<div>\n<style scoped>\n    .dataframe tbody tr th:only-of-type {\n        vertical-align: middle;\n    }\n\n    .dataframe tbody tr th {\n        vertical-align: top;\n    }\n\n    .dataframe thead th {\n        text-align: right;\n    }\n</style>\n<table border=\"1\" class=\"dataframe\">\n  <thead>\n    <tr style=\"text-align: right;\">\n      <th></th>\n      <th>num_expediente</th>\n      <th>fecha</th>\n      <th>hora</th>\n      <th>localizacion</th>\n      <th>numero</th>\n      <th>cod_distrito</th>\n      <th>distrito</th>\n      <th>tipo_accidente</th>\n      <th>estado_meteorológico</th>\n      <th>tipo_vehiculo</th>\n      <th>...</th>\n      <th>rango_edad</th>\n      <th>sexo</th>\n      <th>cod_lesividad</th>\n      <th>lesividad</th>\n      <th>coordenada_x_utm</th>\n      <th>coordenada_y_utm</th>\n      <th>positiva_alcohol</th>\n      <th>positiva_droga</th>\n      <th>Unnamed: 19</th>\n      <th>Unnamed: 20</th>\n    </tr>\n  </thead>\n  <tbody>\n  </tbody>\n</table>\n<p>0 rows × 21 columns</p>\n</div>"
     },
     "execution_count": 6,
     "metadata": {},
     "output_type": "execute_result"
    }
   ],
   "source": [
    "filas_con_nulos = combined_data['tipo_persona'].isnull()\n",
    "combined_data[filas_con_nulos]"
   ],
   "metadata": {
    "collapsed": false,
    "ExecuteTime": {
     "end_time": "2023-11-17T17:09:53.735343042Z",
     "start_time": "2023-11-17T17:09:53.685578171Z"
    }
   },
   "id": "6d095a26212d5600"
  },
  {
   "cell_type": "code",
   "execution_count": 7,
   "outputs": [
    {
     "data": {
      "text/plain": "    num_expediente       fecha      hora  \\\n291    2022S000148  04/01/2022  18:15:00   \n341    2022S000180  04/01/2022  20:25:00   \n634    2022S000342  08/01/2022   0:00:00   \n661    2022S000356  08/01/2022  15:07:00   \n764    2022S000413  09/01/2022  12:46:00   \n\n                                    localizacion numero  cod_distrito  \\\n291     CALL. EDUARDO BARREIROS / AVDA. POBLADOS      5          12.0   \n341          AVDA LOS POBLADOS - C/ EXPROPIACIÓN    146          12.0   \n634                        CALL. PUERTO RICO, 6A     6A           5.0   \n661  CALL. FRANCISCO JOSE ARROYO / CALL. ARMONIA      2          16.0   \n764         CALL. ESTRONCIO / CALL. BENITA LOPEZ     17          17.0   \n\n       distrito     tipo_accidente estado_meteorológico tipo_vehiculo  ...  \\\n291       USERA   Colisión lateral         Lluvia débil           NaN  ...   \n341       USERA   Colisión lateral              Nublado           NaN  ...   \n634   CHAMARTÍN   Colisión lateral            Despejado           NaN  ...   \n661   HORTALEZA  Colisión múltiple            Despejado           NaN  ...   \n764  VILLAVERDE  Colisión múltiple                  NaN           NaN  ...   \n\n      rango_edad         sexo cod_lesividad  lesividad coordenada_x_utm  \\\n291  Desconocido  Desconocido           NaN        NaN       440801,217   \n341  Desconocido  Desconocido           NaN        NaN       440082,365   \n634  Desconocido  Desconocido           NaN        NaN       442801,043   \n661  Desconocido  Desconocido           NaN        NaN       448109,781   \n764  Desconocido  Desconocido           NaN        NaN        441498,93   \n\n    coordenada_y_utm positiva_alcohol positiva_droga  Unnamed: 19  Unnamed: 20  \n291       4469164,69              NaN            NaN          NaN          NaN  \n341      4469234,182                N            NaN          NaN          NaN  \n634      4478205,366              NaN            NaN          NaN          NaN  \n661      4478305,503                N            NaN          NaN          NaN  \n764      4466555,878                N            NaN          NaN          NaN  \n\n[5 rows x 21 columns]",
      "text/html": "<div>\n<style scoped>\n    .dataframe tbody tr th:only-of-type {\n        vertical-align: middle;\n    }\n\n    .dataframe tbody tr th {\n        vertical-align: top;\n    }\n\n    .dataframe thead th {\n        text-align: right;\n    }\n</style>\n<table border=\"1\" class=\"dataframe\">\n  <thead>\n    <tr style=\"text-align: right;\">\n      <th></th>\n      <th>num_expediente</th>\n      <th>fecha</th>\n      <th>hora</th>\n      <th>localizacion</th>\n      <th>numero</th>\n      <th>cod_distrito</th>\n      <th>distrito</th>\n      <th>tipo_accidente</th>\n      <th>estado_meteorológico</th>\n      <th>tipo_vehiculo</th>\n      <th>...</th>\n      <th>rango_edad</th>\n      <th>sexo</th>\n      <th>cod_lesividad</th>\n      <th>lesividad</th>\n      <th>coordenada_x_utm</th>\n      <th>coordenada_y_utm</th>\n      <th>positiva_alcohol</th>\n      <th>positiva_droga</th>\n      <th>Unnamed: 19</th>\n      <th>Unnamed: 20</th>\n    </tr>\n  </thead>\n  <tbody>\n    <tr>\n      <th>291</th>\n      <td>2022S000148</td>\n      <td>04/01/2022</td>\n      <td>18:15:00</td>\n      <td>CALL. EDUARDO BARREIROS / AVDA. POBLADOS</td>\n      <td>5</td>\n      <td>12.0</td>\n      <td>USERA</td>\n      <td>Colisión lateral</td>\n      <td>Lluvia débil</td>\n      <td>NaN</td>\n      <td>...</td>\n      <td>Desconocido</td>\n      <td>Desconocido</td>\n      <td>NaN</td>\n      <td>NaN</td>\n      <td>440801,217</td>\n      <td>4469164,69</td>\n      <td>NaN</td>\n      <td>NaN</td>\n      <td>NaN</td>\n      <td>NaN</td>\n    </tr>\n    <tr>\n      <th>341</th>\n      <td>2022S000180</td>\n      <td>04/01/2022</td>\n      <td>20:25:00</td>\n      <td>AVDA LOS POBLADOS - C/ EXPROPIACIÓN</td>\n      <td>146</td>\n      <td>12.0</td>\n      <td>USERA</td>\n      <td>Colisión lateral</td>\n      <td>Nublado</td>\n      <td>NaN</td>\n      <td>...</td>\n      <td>Desconocido</td>\n      <td>Desconocido</td>\n      <td>NaN</td>\n      <td>NaN</td>\n      <td>440082,365</td>\n      <td>4469234,182</td>\n      <td>N</td>\n      <td>NaN</td>\n      <td>NaN</td>\n      <td>NaN</td>\n    </tr>\n    <tr>\n      <th>634</th>\n      <td>2022S000342</td>\n      <td>08/01/2022</td>\n      <td>0:00:00</td>\n      <td>CALL. PUERTO RICO, 6A</td>\n      <td>6A</td>\n      <td>5.0</td>\n      <td>CHAMARTÍN</td>\n      <td>Colisión lateral</td>\n      <td>Despejado</td>\n      <td>NaN</td>\n      <td>...</td>\n      <td>Desconocido</td>\n      <td>Desconocido</td>\n      <td>NaN</td>\n      <td>NaN</td>\n      <td>442801,043</td>\n      <td>4478205,366</td>\n      <td>NaN</td>\n      <td>NaN</td>\n      <td>NaN</td>\n      <td>NaN</td>\n    </tr>\n    <tr>\n      <th>661</th>\n      <td>2022S000356</td>\n      <td>08/01/2022</td>\n      <td>15:07:00</td>\n      <td>CALL. FRANCISCO JOSE ARROYO / CALL. ARMONIA</td>\n      <td>2</td>\n      <td>16.0</td>\n      <td>HORTALEZA</td>\n      <td>Colisión múltiple</td>\n      <td>Despejado</td>\n      <td>NaN</td>\n      <td>...</td>\n      <td>Desconocido</td>\n      <td>Desconocido</td>\n      <td>NaN</td>\n      <td>NaN</td>\n      <td>448109,781</td>\n      <td>4478305,503</td>\n      <td>N</td>\n      <td>NaN</td>\n      <td>NaN</td>\n      <td>NaN</td>\n    </tr>\n    <tr>\n      <th>764</th>\n      <td>2022S000413</td>\n      <td>09/01/2022</td>\n      <td>12:46:00</td>\n      <td>CALL. ESTRONCIO / CALL. BENITA LOPEZ</td>\n      <td>17</td>\n      <td>17.0</td>\n      <td>VILLAVERDE</td>\n      <td>Colisión múltiple</td>\n      <td>NaN</td>\n      <td>NaN</td>\n      <td>...</td>\n      <td>Desconocido</td>\n      <td>Desconocido</td>\n      <td>NaN</td>\n      <td>NaN</td>\n      <td>441498,93</td>\n      <td>4466555,878</td>\n      <td>N</td>\n      <td>NaN</td>\n      <td>NaN</td>\n      <td>NaN</td>\n    </tr>\n  </tbody>\n</table>\n<p>5 rows × 21 columns</p>\n</div>"
     },
     "execution_count": 7,
     "metadata": {},
     "output_type": "execute_result"
    }
   ],
   "source": [
    "filas_con_nulos = combined_data['tipo_vehiculo'].isnull()\n",
    "combined_data[filas_con_nulos].head()"
   ],
   "metadata": {
    "collapsed": false,
    "ExecuteTime": {
     "end_time": "2023-11-17T17:09:53.736284277Z",
     "start_time": "2023-11-17T17:09:53.733647289Z"
    }
   },
   "id": "9ca002d2d8ac4994"
  },
  {
   "cell_type": "code",
   "execution_count": 8,
   "outputs": [
    {
     "data": {
      "text/plain": "Empty DataFrame\nColumns: [num_expediente, fecha, hora, localizacion, numero, cod_distrito, distrito, tipo_accidente, estado_meteorológico, tipo_vehiculo, tipo_persona, rango_edad, sexo, cod_lesividad, lesividad, coordenada_x_utm, coordenada_y_utm, positiva_alcohol, positiva_droga, Unnamed: 19, Unnamed: 20]\nIndex: []\n\n[0 rows x 21 columns]",
      "text/html": "<div>\n<style scoped>\n    .dataframe tbody tr th:only-of-type {\n        vertical-align: middle;\n    }\n\n    .dataframe tbody tr th {\n        vertical-align: top;\n    }\n\n    .dataframe thead th {\n        text-align: right;\n    }\n</style>\n<table border=\"1\" class=\"dataframe\">\n  <thead>\n    <tr style=\"text-align: right;\">\n      <th></th>\n      <th>num_expediente</th>\n      <th>fecha</th>\n      <th>hora</th>\n      <th>localizacion</th>\n      <th>numero</th>\n      <th>cod_distrito</th>\n      <th>distrito</th>\n      <th>tipo_accidente</th>\n      <th>estado_meteorológico</th>\n      <th>tipo_vehiculo</th>\n      <th>...</th>\n      <th>rango_edad</th>\n      <th>sexo</th>\n      <th>cod_lesividad</th>\n      <th>lesividad</th>\n      <th>coordenada_x_utm</th>\n      <th>coordenada_y_utm</th>\n      <th>positiva_alcohol</th>\n      <th>positiva_droga</th>\n      <th>Unnamed: 19</th>\n      <th>Unnamed: 20</th>\n    </tr>\n  </thead>\n  <tbody>\n  </tbody>\n</table>\n<p>0 rows × 21 columns</p>\n</div>"
     },
     "execution_count": 8,
     "metadata": {},
     "output_type": "execute_result"
    }
   ],
   "source": [
    "filas_con_nulos = combined_data['fecha'].isnull()\n",
    "combined_data[filas_con_nulos]"
   ],
   "metadata": {
    "collapsed": false,
    "ExecuteTime": {
     "end_time": "2023-11-17T17:09:53.736863788Z",
     "start_time": "2023-11-17T17:09:53.734111440Z"
    }
   },
   "id": "31e7193d53b1f1c6"
  },
  {
   "cell_type": "code",
   "execution_count": 9,
   "outputs": [
    {
     "data": {
      "text/plain": "      num_expediente       fecha      hora                 localizacion  \\\n73578    2023S025389  14/07/2023  23:45:00  CALL. EDUARDO BARREIROS, 29   \n\n      numero  cod_distrito distrito tipo_accidente estado_meteorológico  \\\n73578     29          12.0    USERA            NaN                  NaN   \n\n      tipo_vehiculo  ...       rango_edad    sexo cod_lesividad  lesividad  \\\n73578           NaN  ...  De 35 a 39 años  Hombre           NaN        NaN   \n\n      coordenada_x_utm coordenada_y_utm positiva_alcohol positiva_droga  \\\n73578              NaN              NaN                N            NaN   \n\n       Unnamed: 19  Unnamed: 20  \n73578          NaN          NaN  \n\n[1 rows x 21 columns]",
      "text/html": "<div>\n<style scoped>\n    .dataframe tbody tr th:only-of-type {\n        vertical-align: middle;\n    }\n\n    .dataframe tbody tr th {\n        vertical-align: top;\n    }\n\n    .dataframe thead th {\n        text-align: right;\n    }\n</style>\n<table border=\"1\" class=\"dataframe\">\n  <thead>\n    <tr style=\"text-align: right;\">\n      <th></th>\n      <th>num_expediente</th>\n      <th>fecha</th>\n      <th>hora</th>\n      <th>localizacion</th>\n      <th>numero</th>\n      <th>cod_distrito</th>\n      <th>distrito</th>\n      <th>tipo_accidente</th>\n      <th>estado_meteorológico</th>\n      <th>tipo_vehiculo</th>\n      <th>...</th>\n      <th>rango_edad</th>\n      <th>sexo</th>\n      <th>cod_lesividad</th>\n      <th>lesividad</th>\n      <th>coordenada_x_utm</th>\n      <th>coordenada_y_utm</th>\n      <th>positiva_alcohol</th>\n      <th>positiva_droga</th>\n      <th>Unnamed: 19</th>\n      <th>Unnamed: 20</th>\n    </tr>\n  </thead>\n  <tbody>\n    <tr>\n      <th>73578</th>\n      <td>2023S025389</td>\n      <td>14/07/2023</td>\n      <td>23:45:00</td>\n      <td>CALL. EDUARDO BARREIROS, 29</td>\n      <td>29</td>\n      <td>12.0</td>\n      <td>USERA</td>\n      <td>NaN</td>\n      <td>NaN</td>\n      <td>NaN</td>\n      <td>...</td>\n      <td>De 35 a 39 años</td>\n      <td>Hombre</td>\n      <td>NaN</td>\n      <td>NaN</td>\n      <td>NaN</td>\n      <td>NaN</td>\n      <td>N</td>\n      <td>NaN</td>\n      <td>NaN</td>\n      <td>NaN</td>\n    </tr>\n  </tbody>\n</table>\n<p>1 rows × 21 columns</p>\n</div>"
     },
     "execution_count": 9,
     "metadata": {},
     "output_type": "execute_result"
    }
   ],
   "source": [
    "filas_con_nulos = combined_data['tipo_accidente'].isnull()\n",
    "combined_data[filas_con_nulos]"
   ],
   "metadata": {
    "collapsed": false,
    "ExecuteTime": {
     "end_time": "2023-11-17T17:09:53.843465656Z",
     "start_time": "2023-11-17T17:09:53.734527824Z"
    }
   },
   "id": "767876ac68dc949e"
  },
  {
   "cell_type": "markdown",
   "source": [
    "Observamos que solo es una columna en la cual el tipo de accidente es nulo y, aunque sea solo una entre 74,961, ese registro carece de información crucial para el análisis. La falta de datos en 'tipo_accidente' puede generar interpretaciones erróneas o distorsionar los resultados al analizar las causas y naturaleza de los accidentes e inferir con el análisis."
   ],
   "metadata": {
    "collapsed": false
   },
   "id": "536b71163ed1fc2"
  },
  {
   "cell_type": "code",
   "execution_count": 10,
   "outputs": [
    {
     "data": {
      "text/plain": "  num_expediente       fecha     hora  \\\n0    2022S000001  01/01/2022  1:30:00   \n1    2022S000001  01/01/2022  1:30:00   \n2    2022S000002  01/01/2022  0:30:00   \n3    2022S000002  01/01/2022  0:30:00   \n4    2022S000002  01/01/2022  0:30:00   \n\n                                 localizacion numero  cod_distrito  \\\n0                          AVDA. ALBUFERA, 19     19          13.0   \n1                          AVDA. ALBUFERA, 19     19          13.0   \n2  PLAZA. CANOVAS DEL CASTILLO / PASEO. PRADO      2           3.0   \n3  PLAZA. CANOVAS DEL CASTILLO / PASEO. PRADO      2           3.0   \n4  PLAZA. CANOVAS DEL CASTILLO / PASEO. PRADO      2           3.0   \n\n             distrito           tipo_accidente estado_meteorológico  \\\n0  PUENTE DE VALLECAS                  Alcance            Despejado   \n1  PUENTE DE VALLECAS                  Alcance            Despejado   \n2              RETIRO  Colisión fronto-lateral                  NaN   \n3              RETIRO  Colisión fronto-lateral                  NaN   \n4              RETIRO  Colisión fronto-lateral                  NaN   \n\n             tipo_vehiculo  ...       rango_edad    sexo cod_lesividad  \\\n0                  Turismo  ...  De 30 a 34 años   Mujer           NaN   \n1                  Turismo  ...  De 45 a 49 años  Hombre           NaN   \n2  Motocicleta hasta 125cc  ...  De 30 a 34 años  Hombre           NaN   \n3  Motocicleta hasta 125cc  ...  De 35 a 39 años   Mujer           NaN   \n4                  Turismo  ...  De 40 a 44 años  Hombre           NaN   \n\n   lesividad coordenada_x_utm coordenada_y_utm positiva_alcohol  \\\n0        NaN       443359,226      4472082,272                N   \n1        NaN       443359,226      4472082,272                N   \n2        NaN       441155,351      4474129,588                S   \n3        NaN       441155,351      4474129,588                N   \n4        NaN       441155,351      4474129,588                N   \n\n  positiva_droga  Unnamed: 19  Unnamed: 20  \n0            NaN          NaN          NaN  \n1            NaN          NaN          NaN  \n2            NaN          NaN          NaN  \n3            NaN          NaN          NaN  \n4            NaN          NaN          NaN  \n\n[5 rows x 21 columns]",
      "text/html": "<div>\n<style scoped>\n    .dataframe tbody tr th:only-of-type {\n        vertical-align: middle;\n    }\n\n    .dataframe tbody tr th {\n        vertical-align: top;\n    }\n\n    .dataframe thead th {\n        text-align: right;\n    }\n</style>\n<table border=\"1\" class=\"dataframe\">\n  <thead>\n    <tr style=\"text-align: right;\">\n      <th></th>\n      <th>num_expediente</th>\n      <th>fecha</th>\n      <th>hora</th>\n      <th>localizacion</th>\n      <th>numero</th>\n      <th>cod_distrito</th>\n      <th>distrito</th>\n      <th>tipo_accidente</th>\n      <th>estado_meteorológico</th>\n      <th>tipo_vehiculo</th>\n      <th>...</th>\n      <th>rango_edad</th>\n      <th>sexo</th>\n      <th>cod_lesividad</th>\n      <th>lesividad</th>\n      <th>coordenada_x_utm</th>\n      <th>coordenada_y_utm</th>\n      <th>positiva_alcohol</th>\n      <th>positiva_droga</th>\n      <th>Unnamed: 19</th>\n      <th>Unnamed: 20</th>\n    </tr>\n  </thead>\n  <tbody>\n    <tr>\n      <th>0</th>\n      <td>2022S000001</td>\n      <td>01/01/2022</td>\n      <td>1:30:00</td>\n      <td>AVDA. ALBUFERA, 19</td>\n      <td>19</td>\n      <td>13.0</td>\n      <td>PUENTE DE VALLECAS</td>\n      <td>Alcance</td>\n      <td>Despejado</td>\n      <td>Turismo</td>\n      <td>...</td>\n      <td>De 30 a 34 años</td>\n      <td>Mujer</td>\n      <td>NaN</td>\n      <td>NaN</td>\n      <td>443359,226</td>\n      <td>4472082,272</td>\n      <td>N</td>\n      <td>NaN</td>\n      <td>NaN</td>\n      <td>NaN</td>\n    </tr>\n    <tr>\n      <th>1</th>\n      <td>2022S000001</td>\n      <td>01/01/2022</td>\n      <td>1:30:00</td>\n      <td>AVDA. ALBUFERA, 19</td>\n      <td>19</td>\n      <td>13.0</td>\n      <td>PUENTE DE VALLECAS</td>\n      <td>Alcance</td>\n      <td>Despejado</td>\n      <td>Turismo</td>\n      <td>...</td>\n      <td>De 45 a 49 años</td>\n      <td>Hombre</td>\n      <td>NaN</td>\n      <td>NaN</td>\n      <td>443359,226</td>\n      <td>4472082,272</td>\n      <td>N</td>\n      <td>NaN</td>\n      <td>NaN</td>\n      <td>NaN</td>\n    </tr>\n    <tr>\n      <th>2</th>\n      <td>2022S000002</td>\n      <td>01/01/2022</td>\n      <td>0:30:00</td>\n      <td>PLAZA. CANOVAS DEL CASTILLO / PASEO. PRADO</td>\n      <td>2</td>\n      <td>3.0</td>\n      <td>RETIRO</td>\n      <td>Colisión fronto-lateral</td>\n      <td>NaN</td>\n      <td>Motocicleta hasta 125cc</td>\n      <td>...</td>\n      <td>De 30 a 34 años</td>\n      <td>Hombre</td>\n      <td>NaN</td>\n      <td>NaN</td>\n      <td>441155,351</td>\n      <td>4474129,588</td>\n      <td>S</td>\n      <td>NaN</td>\n      <td>NaN</td>\n      <td>NaN</td>\n    </tr>\n    <tr>\n      <th>3</th>\n      <td>2022S000002</td>\n      <td>01/01/2022</td>\n      <td>0:30:00</td>\n      <td>PLAZA. CANOVAS DEL CASTILLO / PASEO. PRADO</td>\n      <td>2</td>\n      <td>3.0</td>\n      <td>RETIRO</td>\n      <td>Colisión fronto-lateral</td>\n      <td>NaN</td>\n      <td>Motocicleta hasta 125cc</td>\n      <td>...</td>\n      <td>De 35 a 39 años</td>\n      <td>Mujer</td>\n      <td>NaN</td>\n      <td>NaN</td>\n      <td>441155,351</td>\n      <td>4474129,588</td>\n      <td>N</td>\n      <td>NaN</td>\n      <td>NaN</td>\n      <td>NaN</td>\n    </tr>\n    <tr>\n      <th>4</th>\n      <td>2022S000002</td>\n      <td>01/01/2022</td>\n      <td>0:30:00</td>\n      <td>PLAZA. CANOVAS DEL CASTILLO / PASEO. PRADO</td>\n      <td>2</td>\n      <td>3.0</td>\n      <td>RETIRO</td>\n      <td>Colisión fronto-lateral</td>\n      <td>NaN</td>\n      <td>Turismo</td>\n      <td>...</td>\n      <td>De 40 a 44 años</td>\n      <td>Hombre</td>\n      <td>NaN</td>\n      <td>NaN</td>\n      <td>441155,351</td>\n      <td>4474129,588</td>\n      <td>N</td>\n      <td>NaN</td>\n      <td>NaN</td>\n      <td>NaN</td>\n    </tr>\n  </tbody>\n</table>\n<p>5 rows × 21 columns</p>\n</div>"
     },
     "execution_count": 10,
     "metadata": {},
     "output_type": "execute_result"
    }
   ],
   "source": [
    "combined_data.dropna(subset=['tipo_accidente'], inplace=True)\n",
    "combined_data.head()"
   ],
   "metadata": {
    "collapsed": false,
    "ExecuteTime": {
     "end_time": "2023-11-17T17:09:53.877074313Z",
     "start_time": "2023-11-17T17:09:53.777459367Z"
    }
   },
   "id": "c5b757d39d19f8e5"
  },
  {
   "cell_type": "code",
   "execution_count": 11,
   "outputs": [
    {
     "data": {
      "text/plain": "Empty DataFrame\nColumns: [num_expediente, fecha, hora, localizacion, numero, cod_distrito, distrito, tipo_accidente, estado_meteorológico, tipo_vehiculo, tipo_persona, rango_edad, sexo, cod_lesividad, lesividad, coordenada_x_utm, coordenada_y_utm, positiva_alcohol, positiva_droga, Unnamed: 19, Unnamed: 20]\nIndex: []\n\n[0 rows x 21 columns]",
      "text/html": "<div>\n<style scoped>\n    .dataframe tbody tr th:only-of-type {\n        vertical-align: middle;\n    }\n\n    .dataframe tbody tr th {\n        vertical-align: top;\n    }\n\n    .dataframe thead th {\n        text-align: right;\n    }\n</style>\n<table border=\"1\" class=\"dataframe\">\n  <thead>\n    <tr style=\"text-align: right;\">\n      <th></th>\n      <th>num_expediente</th>\n      <th>fecha</th>\n      <th>hora</th>\n      <th>localizacion</th>\n      <th>numero</th>\n      <th>cod_distrito</th>\n      <th>distrito</th>\n      <th>tipo_accidente</th>\n      <th>estado_meteorológico</th>\n      <th>tipo_vehiculo</th>\n      <th>...</th>\n      <th>rango_edad</th>\n      <th>sexo</th>\n      <th>cod_lesividad</th>\n      <th>lesividad</th>\n      <th>coordenada_x_utm</th>\n      <th>coordenada_y_utm</th>\n      <th>positiva_alcohol</th>\n      <th>positiva_droga</th>\n      <th>Unnamed: 19</th>\n      <th>Unnamed: 20</th>\n    </tr>\n  </thead>\n  <tbody>\n  </tbody>\n</table>\n<p>0 rows × 21 columns</p>\n</div>"
     },
     "execution_count": 11,
     "metadata": {},
     "output_type": "execute_result"
    }
   ],
   "source": [
    "filas_con_nulos = combined_data['sexo'].isnull()\n",
    "combined_data[filas_con_nulos]"
   ],
   "metadata": {
    "collapsed": false,
    "ExecuteTime": {
     "end_time": "2023-11-17T17:09:53.925681597Z",
     "start_time": "2023-11-17T17:09:53.781188533Z"
    }
   },
   "id": "2ec3554c63a6d77"
  },
  {
   "cell_type": "code",
   "execution_count": 12,
   "outputs": [
    {
     "data": {
      "text/plain": "      num_expediente       fecha      hora  \\\n291      2022S000148  04/01/2022  18:15:00   \n634      2022S000342  08/01/2022   0:00:00   \n658      2022S000354  07/01/2022  23:15:00   \n1479     2022S000832  15/01/2022  22:35:00   \n1907     2022S001130  19/01/2022  20:09:00   \n...              ...         ...       ...   \n77537    2023S027875  24/08/2023  16:45:00   \n77628    2023S027925  25/08/2023   9:35:00   \n77629    2023S027925  25/08/2023   9:35:00   \n77701    2023S027997  26/08/2023  19:45:00   \n77779    2023S028051  27/08/2023  23:35:00   \n\n                                         localizacion   numero  cod_distrito  \\\n291          CALL. EDUARDO BARREIROS / AVDA. POBLADOS        5          12.0   \n634                             CALL. PUERTO RICO, 6A       6A           5.0   \n658          AVDA. ILUSTRACION / CALL. GINZO DE LIMIA        0           8.0   \n1479   CTRA. M-111, ROTONDA SALIDA AVENIDA DE LOGROÑO  +00300E          21.0   \n1907                 CALL. LA DEL MANOJO DE ROSAS, 69       69          17.0   \n...                                               ...      ...           ...   \n77537                                 CALL. LINNEO, 5        5           2.0   \n77628                     CALLE BOYER CON CALLE VIGIL       26          19.0   \n77629                     CALLE BOYER CON CALLE VIGIL       26          19.0   \n77701        CALL. JULIA GARCIA BOUTAN / CALL. SUECIA      35A          20.0   \n77779                             CALL. MENASALBAS, 6        6          17.0   \n\n                  distrito                tipo_accidente estado_meteorológico  \\\n291                  USERA              Colisión lateral         Lluvia débil   \n634              CHAMARTÍN              Colisión lateral            Despejado   \n658    FUENCARRAL-EL PARDO              Colisión lateral            Despejado   \n1479               BARAJAS       Colisión fronto-lateral                  NaN   \n1907            VILLAVERDE       Colisión fronto-lateral                  NaN   \n...                    ...                           ...                  ...   \n77537           ARGANZUELA           Atropello a persona            Despejado   \n77628            VICÁLVARO       Colisión fronto-lateral            Despejado   \n77629            VICÁLVARO       Colisión fronto-lateral            Despejado   \n77701  SAN BLAS-CANILLEJAS       Colisión fronto-lateral            Despejado   \n77779           VILLAVERDE  Choque contra obstáculo fijo            Despejado   \n\n                 tipo_vehiculo  ...   rango_edad         sexo cod_lesividad  \\\n291                        NaN  ...  Desconocido  Desconocido           NaN   \n634                        NaN  ...  Desconocido  Desconocido           NaN   \n658                    Turismo  ...  Desconocido  Desconocido           NaN   \n1479                   Turismo  ...  Desconocido  Desconocido           NaN   \n1907                 Furgoneta  ...  Desconocido  Desconocido           NaN   \n...                        ...  ...          ...          ...           ...   \n77537                      NaN  ...  Desconocido  Desconocido           NaN   \n77628  Motocicleta hasta 125cc  ...  Desconocido  Desconocido           NaN   \n77629                  Turismo  ...  Desconocido  Desconocido           NaN   \n77701                  Turismo  ...  Desconocido  Desconocido           NaN   \n77779                  Turismo  ...  Desconocido  Desconocido           NaN   \n\n       lesividad coordenada_x_utm coordenada_y_utm positiva_alcohol  \\\n291          NaN       440801,217       4469164,69              NaN   \n634          NaN       442801,043      4478205,366              NaN   \n658          NaN       440196,519      4481492,133              NaN   \n1479         NaN        452984,27      4482774,785              NaN   \n1907         NaN       440748,938      4467397,024              NaN   \n...          ...              ...              ...              ...   \n77537        NaN       438869.987      4473821.066              NaN   \n77628        NaN       450240.246      4472879.377              NaN   \n77629        NaN       450240.246      4472879.377              NaN   \n77701        NaN       448648.202      4475686.579              NaN   \n77779        NaN       440924.505      4468287.581              NaN   \n\n      positiva_droga  Unnamed: 19  Unnamed: 20  \n291              NaN          NaN          NaN  \n634              NaN          NaN          NaN  \n658              NaN          NaN          NaN  \n1479             NaN          NaN          NaN  \n1907             NaN          NaN          NaN  \n...              ...          ...          ...  \n77537            NaN          NaN          NaN  \n77628            NaN          NaN          NaN  \n77629            NaN          NaN          NaN  \n77701            NaN          NaN          NaN  \n77779            NaN          NaN          NaN  \n\n[341 rows x 21 columns]",
      "text/html": "<div>\n<style scoped>\n    .dataframe tbody tr th:only-of-type {\n        vertical-align: middle;\n    }\n\n    .dataframe tbody tr th {\n        vertical-align: top;\n    }\n\n    .dataframe thead th {\n        text-align: right;\n    }\n</style>\n<table border=\"1\" class=\"dataframe\">\n  <thead>\n    <tr style=\"text-align: right;\">\n      <th></th>\n      <th>num_expediente</th>\n      <th>fecha</th>\n      <th>hora</th>\n      <th>localizacion</th>\n      <th>numero</th>\n      <th>cod_distrito</th>\n      <th>distrito</th>\n      <th>tipo_accidente</th>\n      <th>estado_meteorológico</th>\n      <th>tipo_vehiculo</th>\n      <th>...</th>\n      <th>rango_edad</th>\n      <th>sexo</th>\n      <th>cod_lesividad</th>\n      <th>lesividad</th>\n      <th>coordenada_x_utm</th>\n      <th>coordenada_y_utm</th>\n      <th>positiva_alcohol</th>\n      <th>positiva_droga</th>\n      <th>Unnamed: 19</th>\n      <th>Unnamed: 20</th>\n    </tr>\n  </thead>\n  <tbody>\n    <tr>\n      <th>291</th>\n      <td>2022S000148</td>\n      <td>04/01/2022</td>\n      <td>18:15:00</td>\n      <td>CALL. EDUARDO BARREIROS / AVDA. POBLADOS</td>\n      <td>5</td>\n      <td>12.0</td>\n      <td>USERA</td>\n      <td>Colisión lateral</td>\n      <td>Lluvia débil</td>\n      <td>NaN</td>\n      <td>...</td>\n      <td>Desconocido</td>\n      <td>Desconocido</td>\n      <td>NaN</td>\n      <td>NaN</td>\n      <td>440801,217</td>\n      <td>4469164,69</td>\n      <td>NaN</td>\n      <td>NaN</td>\n      <td>NaN</td>\n      <td>NaN</td>\n    </tr>\n    <tr>\n      <th>634</th>\n      <td>2022S000342</td>\n      <td>08/01/2022</td>\n      <td>0:00:00</td>\n      <td>CALL. PUERTO RICO, 6A</td>\n      <td>6A</td>\n      <td>5.0</td>\n      <td>CHAMARTÍN</td>\n      <td>Colisión lateral</td>\n      <td>Despejado</td>\n      <td>NaN</td>\n      <td>...</td>\n      <td>Desconocido</td>\n      <td>Desconocido</td>\n      <td>NaN</td>\n      <td>NaN</td>\n      <td>442801,043</td>\n      <td>4478205,366</td>\n      <td>NaN</td>\n      <td>NaN</td>\n      <td>NaN</td>\n      <td>NaN</td>\n    </tr>\n    <tr>\n      <th>658</th>\n      <td>2022S000354</td>\n      <td>07/01/2022</td>\n      <td>23:15:00</td>\n      <td>AVDA. ILUSTRACION / CALL. GINZO DE LIMIA</td>\n      <td>0</td>\n      <td>8.0</td>\n      <td>FUENCARRAL-EL PARDO</td>\n      <td>Colisión lateral</td>\n      <td>Despejado</td>\n      <td>Turismo</td>\n      <td>...</td>\n      <td>Desconocido</td>\n      <td>Desconocido</td>\n      <td>NaN</td>\n      <td>NaN</td>\n      <td>440196,519</td>\n      <td>4481492,133</td>\n      <td>NaN</td>\n      <td>NaN</td>\n      <td>NaN</td>\n      <td>NaN</td>\n    </tr>\n    <tr>\n      <th>1479</th>\n      <td>2022S000832</td>\n      <td>15/01/2022</td>\n      <td>22:35:00</td>\n      <td>CTRA. M-111, ROTONDA SALIDA AVENIDA DE LOGROÑO</td>\n      <td>+00300E</td>\n      <td>21.0</td>\n      <td>BARAJAS</td>\n      <td>Colisión fronto-lateral</td>\n      <td>NaN</td>\n      <td>Turismo</td>\n      <td>...</td>\n      <td>Desconocido</td>\n      <td>Desconocido</td>\n      <td>NaN</td>\n      <td>NaN</td>\n      <td>452984,27</td>\n      <td>4482774,785</td>\n      <td>NaN</td>\n      <td>NaN</td>\n      <td>NaN</td>\n      <td>NaN</td>\n    </tr>\n    <tr>\n      <th>1907</th>\n      <td>2022S001130</td>\n      <td>19/01/2022</td>\n      <td>20:09:00</td>\n      <td>CALL. LA DEL MANOJO DE ROSAS, 69</td>\n      <td>69</td>\n      <td>17.0</td>\n      <td>VILLAVERDE</td>\n      <td>Colisión fronto-lateral</td>\n      <td>NaN</td>\n      <td>Furgoneta</td>\n      <td>...</td>\n      <td>Desconocido</td>\n      <td>Desconocido</td>\n      <td>NaN</td>\n      <td>NaN</td>\n      <td>440748,938</td>\n      <td>4467397,024</td>\n      <td>NaN</td>\n      <td>NaN</td>\n      <td>NaN</td>\n      <td>NaN</td>\n    </tr>\n    <tr>\n      <th>...</th>\n      <td>...</td>\n      <td>...</td>\n      <td>...</td>\n      <td>...</td>\n      <td>...</td>\n      <td>...</td>\n      <td>...</td>\n      <td>...</td>\n      <td>...</td>\n      <td>...</td>\n      <td>...</td>\n      <td>...</td>\n      <td>...</td>\n      <td>...</td>\n      <td>...</td>\n      <td>...</td>\n      <td>...</td>\n      <td>...</td>\n      <td>...</td>\n      <td>...</td>\n      <td>...</td>\n    </tr>\n    <tr>\n      <th>77537</th>\n      <td>2023S027875</td>\n      <td>24/08/2023</td>\n      <td>16:45:00</td>\n      <td>CALL. LINNEO, 5</td>\n      <td>5</td>\n      <td>2.0</td>\n      <td>ARGANZUELA</td>\n      <td>Atropello a persona</td>\n      <td>Despejado</td>\n      <td>NaN</td>\n      <td>...</td>\n      <td>Desconocido</td>\n      <td>Desconocido</td>\n      <td>NaN</td>\n      <td>NaN</td>\n      <td>438869.987</td>\n      <td>4473821.066</td>\n      <td>NaN</td>\n      <td>NaN</td>\n      <td>NaN</td>\n      <td>NaN</td>\n    </tr>\n    <tr>\n      <th>77628</th>\n      <td>2023S027925</td>\n      <td>25/08/2023</td>\n      <td>9:35:00</td>\n      <td>CALLE BOYER CON CALLE VIGIL</td>\n      <td>26</td>\n      <td>19.0</td>\n      <td>VICÁLVARO</td>\n      <td>Colisión fronto-lateral</td>\n      <td>Despejado</td>\n      <td>Motocicleta hasta 125cc</td>\n      <td>...</td>\n      <td>Desconocido</td>\n      <td>Desconocido</td>\n      <td>NaN</td>\n      <td>NaN</td>\n      <td>450240.246</td>\n      <td>4472879.377</td>\n      <td>NaN</td>\n      <td>NaN</td>\n      <td>NaN</td>\n      <td>NaN</td>\n    </tr>\n    <tr>\n      <th>77629</th>\n      <td>2023S027925</td>\n      <td>25/08/2023</td>\n      <td>9:35:00</td>\n      <td>CALLE BOYER CON CALLE VIGIL</td>\n      <td>26</td>\n      <td>19.0</td>\n      <td>VICÁLVARO</td>\n      <td>Colisión fronto-lateral</td>\n      <td>Despejado</td>\n      <td>Turismo</td>\n      <td>...</td>\n      <td>Desconocido</td>\n      <td>Desconocido</td>\n      <td>NaN</td>\n      <td>NaN</td>\n      <td>450240.246</td>\n      <td>4472879.377</td>\n      <td>NaN</td>\n      <td>NaN</td>\n      <td>NaN</td>\n      <td>NaN</td>\n    </tr>\n    <tr>\n      <th>77701</th>\n      <td>2023S027997</td>\n      <td>26/08/2023</td>\n      <td>19:45:00</td>\n      <td>CALL. JULIA GARCIA BOUTAN / CALL. SUECIA</td>\n      <td>35A</td>\n      <td>20.0</td>\n      <td>SAN BLAS-CANILLEJAS</td>\n      <td>Colisión fronto-lateral</td>\n      <td>Despejado</td>\n      <td>Turismo</td>\n      <td>...</td>\n      <td>Desconocido</td>\n      <td>Desconocido</td>\n      <td>NaN</td>\n      <td>NaN</td>\n      <td>448648.202</td>\n      <td>4475686.579</td>\n      <td>NaN</td>\n      <td>NaN</td>\n      <td>NaN</td>\n      <td>NaN</td>\n    </tr>\n    <tr>\n      <th>77779</th>\n      <td>2023S028051</td>\n      <td>27/08/2023</td>\n      <td>23:35:00</td>\n      <td>CALL. MENASALBAS, 6</td>\n      <td>6</td>\n      <td>17.0</td>\n      <td>VILLAVERDE</td>\n      <td>Choque contra obstáculo fijo</td>\n      <td>Despejado</td>\n      <td>Turismo</td>\n      <td>...</td>\n      <td>Desconocido</td>\n      <td>Desconocido</td>\n      <td>NaN</td>\n      <td>NaN</td>\n      <td>440924.505</td>\n      <td>4468287.581</td>\n      <td>NaN</td>\n      <td>NaN</td>\n      <td>NaN</td>\n      <td>NaN</td>\n    </tr>\n  </tbody>\n</table>\n<p>341 rows × 21 columns</p>\n</div>"
     },
     "execution_count": 12,
     "metadata": {},
     "output_type": "execute_result"
    }
   ],
   "source": [
    "filas_con_nulos = combined_data['positiva_alcohol'].isnull()\n",
    "combined_data[filas_con_nulos]"
   ],
   "metadata": {
    "collapsed": false,
    "ExecuteTime": {
     "end_time": "2023-11-17T17:09:53.927556141Z",
     "start_time": "2023-11-17T17:09:53.829428833Z"
    }
   },
   "id": "25f5ba853fe2c917"
  },
  {
   "cell_type": "code",
   "execution_count": 13,
   "outputs": [
    {
     "data": {
      "text/plain": "      num_expediente       fecha      hora  \\\n0        2022S000001  01/01/2022   1:30:00   \n1        2022S000001  01/01/2022   1:30:00   \n2        2022S000002  01/01/2022   0:30:00   \n3        2022S000002  01/01/2022   0:30:00   \n4        2022S000002  01/01/2022   0:30:00   \n...              ...         ...       ...   \n78206    2023S028337  31/08/2023  23:20:00   \n78207    2023S028341  31/08/2023  22:30:00   \n78208    2023S028341  31/08/2023  22:30:00   \n78209    2023S028352  31/08/2023  14:40:00   \n78210    2023S029136  02/08/2023  22:10:00   \n\n                                     localizacion  numero  cod_distrito  \\\n0                              AVDA. ALBUFERA, 19      19          13.0   \n1                              AVDA. ALBUFERA, 19      19          13.0   \n2      PLAZA. CANOVAS DEL CASTILLO / PASEO. PRADO       2           3.0   \n3      PLAZA. CANOVAS DEL CASTILLO / PASEO. PRADO       2           3.0   \n4      PLAZA. CANOVAS DEL CASTILLO / PASEO. PRADO       2           3.0   \n...                                           ...     ...           ...   \n78206                 CALL. GOLFO DE SALONICA, 12      12          16.0   \n78207                           CALLE SAN SERAPIO       1          12.0   \n78208                           CALLE SAN SERAPIO       1          12.0   \n78209                         AUTOV. M-30, 00NC06  00NC06           5.0   \n78210             AVDA. CARDENAL HERRERA ORIA, 80      80           8.0   \n\n                  distrito                tipo_accidente estado_meteorológico  \\\n0       PUENTE DE VALLECAS                       Alcance            Despejado   \n1       PUENTE DE VALLECAS                       Alcance            Despejado   \n2                   RETIRO       Colisión fronto-lateral                  NaN   \n3                   RETIRO       Colisión fronto-lateral                  NaN   \n4                   RETIRO       Colisión fronto-lateral                  NaN   \n...                    ...                           ...                  ...   \n78206            HORTALEZA                          Otro            Despejado   \n78207                USERA                       Alcance            Despejado   \n78208                USERA                       Alcance            Despejado   \n78209            CHAMARTÍN                         Caída            Despejado   \n78210  FUENCARRAL-EL PARDO  Choque contra obstáculo fijo                  NaN   \n\n                 tipo_vehiculo  ...       rango_edad    sexo cod_lesividad  \\\n0                      Turismo  ...  De 30 a 34 años   Mujer           NaN   \n1                      Turismo  ...  De 45 a 49 años  Hombre           NaN   \n2      Motocicleta hasta 125cc  ...  De 30 a 34 años  Hombre           NaN   \n3      Motocicleta hasta 125cc  ...  De 35 a 39 años   Mujer           NaN   \n4                      Turismo  ...  De 40 a 44 años  Hombre           NaN   \n...                        ...  ...              ...     ...           ...   \n78206                  Turismo  ...  De 55 a 59 años   Mujer          14.0   \n78207  Motocicleta hasta 125cc  ...  De 30 a 34 años  Hombre           7.0   \n78208                  Turismo  ...  De 35 a 39 años  Hombre          14.0   \n78209  Motocicleta hasta 125cc  ...  De 40 a 44 años  Hombre           1.0   \n78210                  Turismo  ...  De 35 a 39 años  Hombre           NaN   \n\n                                               lesividad coordenada_x_utm  \\\n0                                                    NaN       443359,226   \n1                                                    NaN       443359,226   \n2                                                    NaN       441155,351   \n3                                                    NaN       441155,351   \n4                                                    NaN       441155,351   \n...                                                  ...              ...   \n78206                           Sin asistencia sanitaria       443580.365   \n78207  Asistencia sanitaria sólo en el lugar del acci...        440795.55   \n78208                           Sin asistencia sanitaria        440795.55   \n78209        Atención en urgencias sin posterior ingreso         442825.5   \n78210                                                NaN       441491.437   \n\n      coordenada_y_utm positiva_alcohol positiva_droga  Unnamed: 19  \\\n0          4472082,272                N            NaN          NaN   \n1          4472082,272                N            NaN          NaN   \n2          4474129,588                S            NaN          NaN   \n3          4474129,588                N            NaN          NaN   \n4          4474129,588                N            NaN          NaN   \n...                ...              ...            ...          ...   \n78206      4480912.376                N            NaN          NaN   \n78207      4471044.789                N            NaN          NaN   \n78208      4471044.789                N            NaN          NaN   \n78209      4481003.193                N            NaN          NaN   \n78210       4482518.59                N            NaN          NaN   \n\n       Unnamed: 20  \n0              NaN  \n1              NaN  \n2              NaN  \n3              NaN  \n4              NaN  \n...            ...  \n78206          NaN  \n78207          NaN  \n78208          NaN  \n78209          NaN  \n78210          NaN  \n\n[74685 rows x 21 columns]",
      "text/html": "<div>\n<style scoped>\n    .dataframe tbody tr th:only-of-type {\n        vertical-align: middle;\n    }\n\n    .dataframe tbody tr th {\n        vertical-align: top;\n    }\n\n    .dataframe thead th {\n        text-align: right;\n    }\n</style>\n<table border=\"1\" class=\"dataframe\">\n  <thead>\n    <tr style=\"text-align: right;\">\n      <th></th>\n      <th>num_expediente</th>\n      <th>fecha</th>\n      <th>hora</th>\n      <th>localizacion</th>\n      <th>numero</th>\n      <th>cod_distrito</th>\n      <th>distrito</th>\n      <th>tipo_accidente</th>\n      <th>estado_meteorológico</th>\n      <th>tipo_vehiculo</th>\n      <th>...</th>\n      <th>rango_edad</th>\n      <th>sexo</th>\n      <th>cod_lesividad</th>\n      <th>lesividad</th>\n      <th>coordenada_x_utm</th>\n      <th>coordenada_y_utm</th>\n      <th>positiva_alcohol</th>\n      <th>positiva_droga</th>\n      <th>Unnamed: 19</th>\n      <th>Unnamed: 20</th>\n    </tr>\n  </thead>\n  <tbody>\n    <tr>\n      <th>0</th>\n      <td>2022S000001</td>\n      <td>01/01/2022</td>\n      <td>1:30:00</td>\n      <td>AVDA. ALBUFERA, 19</td>\n      <td>19</td>\n      <td>13.0</td>\n      <td>PUENTE DE VALLECAS</td>\n      <td>Alcance</td>\n      <td>Despejado</td>\n      <td>Turismo</td>\n      <td>...</td>\n      <td>De 30 a 34 años</td>\n      <td>Mujer</td>\n      <td>NaN</td>\n      <td>NaN</td>\n      <td>443359,226</td>\n      <td>4472082,272</td>\n      <td>N</td>\n      <td>NaN</td>\n      <td>NaN</td>\n      <td>NaN</td>\n    </tr>\n    <tr>\n      <th>1</th>\n      <td>2022S000001</td>\n      <td>01/01/2022</td>\n      <td>1:30:00</td>\n      <td>AVDA. ALBUFERA, 19</td>\n      <td>19</td>\n      <td>13.0</td>\n      <td>PUENTE DE VALLECAS</td>\n      <td>Alcance</td>\n      <td>Despejado</td>\n      <td>Turismo</td>\n      <td>...</td>\n      <td>De 45 a 49 años</td>\n      <td>Hombre</td>\n      <td>NaN</td>\n      <td>NaN</td>\n      <td>443359,226</td>\n      <td>4472082,272</td>\n      <td>N</td>\n      <td>NaN</td>\n      <td>NaN</td>\n      <td>NaN</td>\n    </tr>\n    <tr>\n      <th>2</th>\n      <td>2022S000002</td>\n      <td>01/01/2022</td>\n      <td>0:30:00</td>\n      <td>PLAZA. CANOVAS DEL CASTILLO / PASEO. PRADO</td>\n      <td>2</td>\n      <td>3.0</td>\n      <td>RETIRO</td>\n      <td>Colisión fronto-lateral</td>\n      <td>NaN</td>\n      <td>Motocicleta hasta 125cc</td>\n      <td>...</td>\n      <td>De 30 a 34 años</td>\n      <td>Hombre</td>\n      <td>NaN</td>\n      <td>NaN</td>\n      <td>441155,351</td>\n      <td>4474129,588</td>\n      <td>S</td>\n      <td>NaN</td>\n      <td>NaN</td>\n      <td>NaN</td>\n    </tr>\n    <tr>\n      <th>3</th>\n      <td>2022S000002</td>\n      <td>01/01/2022</td>\n      <td>0:30:00</td>\n      <td>PLAZA. CANOVAS DEL CASTILLO / PASEO. PRADO</td>\n      <td>2</td>\n      <td>3.0</td>\n      <td>RETIRO</td>\n      <td>Colisión fronto-lateral</td>\n      <td>NaN</td>\n      <td>Motocicleta hasta 125cc</td>\n      <td>...</td>\n      <td>De 35 a 39 años</td>\n      <td>Mujer</td>\n      <td>NaN</td>\n      <td>NaN</td>\n      <td>441155,351</td>\n      <td>4474129,588</td>\n      <td>N</td>\n      <td>NaN</td>\n      <td>NaN</td>\n      <td>NaN</td>\n    </tr>\n    <tr>\n      <th>4</th>\n      <td>2022S000002</td>\n      <td>01/01/2022</td>\n      <td>0:30:00</td>\n      <td>PLAZA. CANOVAS DEL CASTILLO / PASEO. PRADO</td>\n      <td>2</td>\n      <td>3.0</td>\n      <td>RETIRO</td>\n      <td>Colisión fronto-lateral</td>\n      <td>NaN</td>\n      <td>Turismo</td>\n      <td>...</td>\n      <td>De 40 a 44 años</td>\n      <td>Hombre</td>\n      <td>NaN</td>\n      <td>NaN</td>\n      <td>441155,351</td>\n      <td>4474129,588</td>\n      <td>N</td>\n      <td>NaN</td>\n      <td>NaN</td>\n      <td>NaN</td>\n    </tr>\n    <tr>\n      <th>...</th>\n      <td>...</td>\n      <td>...</td>\n      <td>...</td>\n      <td>...</td>\n      <td>...</td>\n      <td>...</td>\n      <td>...</td>\n      <td>...</td>\n      <td>...</td>\n      <td>...</td>\n      <td>...</td>\n      <td>...</td>\n      <td>...</td>\n      <td>...</td>\n      <td>...</td>\n      <td>...</td>\n      <td>...</td>\n      <td>...</td>\n      <td>...</td>\n      <td>...</td>\n      <td>...</td>\n    </tr>\n    <tr>\n      <th>78206</th>\n      <td>2023S028337</td>\n      <td>31/08/2023</td>\n      <td>23:20:00</td>\n      <td>CALL. GOLFO DE SALONICA, 12</td>\n      <td>12</td>\n      <td>16.0</td>\n      <td>HORTALEZA</td>\n      <td>Otro</td>\n      <td>Despejado</td>\n      <td>Turismo</td>\n      <td>...</td>\n      <td>De 55 a 59 años</td>\n      <td>Mujer</td>\n      <td>14.0</td>\n      <td>Sin asistencia sanitaria</td>\n      <td>443580.365</td>\n      <td>4480912.376</td>\n      <td>N</td>\n      <td>NaN</td>\n      <td>NaN</td>\n      <td>NaN</td>\n    </tr>\n    <tr>\n      <th>78207</th>\n      <td>2023S028341</td>\n      <td>31/08/2023</td>\n      <td>22:30:00</td>\n      <td>CALLE SAN SERAPIO</td>\n      <td>1</td>\n      <td>12.0</td>\n      <td>USERA</td>\n      <td>Alcance</td>\n      <td>Despejado</td>\n      <td>Motocicleta hasta 125cc</td>\n      <td>...</td>\n      <td>De 30 a 34 años</td>\n      <td>Hombre</td>\n      <td>7.0</td>\n      <td>Asistencia sanitaria sólo en el lugar del acci...</td>\n      <td>440795.55</td>\n      <td>4471044.789</td>\n      <td>N</td>\n      <td>NaN</td>\n      <td>NaN</td>\n      <td>NaN</td>\n    </tr>\n    <tr>\n      <th>78208</th>\n      <td>2023S028341</td>\n      <td>31/08/2023</td>\n      <td>22:30:00</td>\n      <td>CALLE SAN SERAPIO</td>\n      <td>1</td>\n      <td>12.0</td>\n      <td>USERA</td>\n      <td>Alcance</td>\n      <td>Despejado</td>\n      <td>Turismo</td>\n      <td>...</td>\n      <td>De 35 a 39 años</td>\n      <td>Hombre</td>\n      <td>14.0</td>\n      <td>Sin asistencia sanitaria</td>\n      <td>440795.55</td>\n      <td>4471044.789</td>\n      <td>N</td>\n      <td>NaN</td>\n      <td>NaN</td>\n      <td>NaN</td>\n    </tr>\n    <tr>\n      <th>78209</th>\n      <td>2023S028352</td>\n      <td>31/08/2023</td>\n      <td>14:40:00</td>\n      <td>AUTOV. M-30, 00NC06</td>\n      <td>00NC06</td>\n      <td>5.0</td>\n      <td>CHAMARTÍN</td>\n      <td>Caída</td>\n      <td>Despejado</td>\n      <td>Motocicleta hasta 125cc</td>\n      <td>...</td>\n      <td>De 40 a 44 años</td>\n      <td>Hombre</td>\n      <td>1.0</td>\n      <td>Atención en urgencias sin posterior ingreso</td>\n      <td>442825.5</td>\n      <td>4481003.193</td>\n      <td>N</td>\n      <td>NaN</td>\n      <td>NaN</td>\n      <td>NaN</td>\n    </tr>\n    <tr>\n      <th>78210</th>\n      <td>2023S029136</td>\n      <td>02/08/2023</td>\n      <td>22:10:00</td>\n      <td>AVDA. CARDENAL HERRERA ORIA, 80</td>\n      <td>80</td>\n      <td>8.0</td>\n      <td>FUENCARRAL-EL PARDO</td>\n      <td>Choque contra obstáculo fijo</td>\n      <td>NaN</td>\n      <td>Turismo</td>\n      <td>...</td>\n      <td>De 35 a 39 años</td>\n      <td>Hombre</td>\n      <td>NaN</td>\n      <td>NaN</td>\n      <td>441491.437</td>\n      <td>4482518.59</td>\n      <td>N</td>\n      <td>NaN</td>\n      <td>NaN</td>\n      <td>NaN</td>\n    </tr>\n  </tbody>\n</table>\n<p>74685 rows × 21 columns</p>\n</div>"
     },
     "execution_count": 13,
     "metadata": {},
     "output_type": "execute_result"
    }
   ],
   "source": [
    "filas_con_nulos = combined_data['positiva_droga'].isnull()\n",
    "combined_data[filas_con_nulos]"
   ],
   "metadata": {
    "collapsed": false,
    "ExecuteTime": {
     "end_time": "2023-11-17T17:09:53.983879814Z",
     "start_time": "2023-11-17T17:09:53.829881775Z"
    }
   },
   "id": "41407c3f128a68ba"
  },
  {
   "cell_type": "markdown",
   "source": [
    "Eliminamos unas columnas no deseadas 'Unnamed', ya que probablemente haya sido un error del autor y nos molesta"
   ],
   "metadata": {
    "collapsed": false
   },
   "id": "cb6ea31fb16ed72f"
  },
  {
   "cell_type": "code",
   "execution_count": 14,
   "outputs": [
    {
     "data": {
      "text/plain": "  num_expediente       fecha     hora  \\\n0    2022S000001  01/01/2022  1:30:00   \n1    2022S000001  01/01/2022  1:30:00   \n2    2022S000002  01/01/2022  0:30:00   \n3    2022S000002  01/01/2022  0:30:00   \n4    2022S000002  01/01/2022  0:30:00   \n\n                                 localizacion numero  cod_distrito  \\\n0                          AVDA. ALBUFERA, 19     19          13.0   \n1                          AVDA. ALBUFERA, 19     19          13.0   \n2  PLAZA. CANOVAS DEL CASTILLO / PASEO. PRADO      2           3.0   \n3  PLAZA. CANOVAS DEL CASTILLO / PASEO. PRADO      2           3.0   \n4  PLAZA. CANOVAS DEL CASTILLO / PASEO. PRADO      2           3.0   \n\n             distrito           tipo_accidente estado_meteorológico  \\\n0  PUENTE DE VALLECAS                  Alcance            Despejado   \n1  PUENTE DE VALLECAS                  Alcance            Despejado   \n2              RETIRO  Colisión fronto-lateral                  NaN   \n3              RETIRO  Colisión fronto-lateral                  NaN   \n4              RETIRO  Colisión fronto-lateral                  NaN   \n\n             tipo_vehiculo tipo_persona       rango_edad    sexo  \\\n0                  Turismo    Conductor  De 30 a 34 años   Mujer   \n1                  Turismo    Conductor  De 45 a 49 años  Hombre   \n2  Motocicleta hasta 125cc    Conductor  De 30 a 34 años  Hombre   \n3  Motocicleta hasta 125cc     Pasajero  De 35 a 39 años   Mujer   \n4                  Turismo    Conductor  De 40 a 44 años  Hombre   \n\n   cod_lesividad lesividad coordenada_x_utm coordenada_y_utm positiva_alcohol  \\\n0            NaN       NaN       443359,226      4472082,272                N   \n1            NaN       NaN       443359,226      4472082,272                N   \n2            NaN       NaN       441155,351      4474129,588                S   \n3            NaN       NaN       441155,351      4474129,588                N   \n4            NaN       NaN       441155,351      4474129,588                N   \n\n   positiva_droga  \n0             NaN  \n1             NaN  \n2             NaN  \n3             NaN  \n4             NaN  ",
      "text/html": "<div>\n<style scoped>\n    .dataframe tbody tr th:only-of-type {\n        vertical-align: middle;\n    }\n\n    .dataframe tbody tr th {\n        vertical-align: top;\n    }\n\n    .dataframe thead th {\n        text-align: right;\n    }\n</style>\n<table border=\"1\" class=\"dataframe\">\n  <thead>\n    <tr style=\"text-align: right;\">\n      <th></th>\n      <th>num_expediente</th>\n      <th>fecha</th>\n      <th>hora</th>\n      <th>localizacion</th>\n      <th>numero</th>\n      <th>cod_distrito</th>\n      <th>distrito</th>\n      <th>tipo_accidente</th>\n      <th>estado_meteorológico</th>\n      <th>tipo_vehiculo</th>\n      <th>tipo_persona</th>\n      <th>rango_edad</th>\n      <th>sexo</th>\n      <th>cod_lesividad</th>\n      <th>lesividad</th>\n      <th>coordenada_x_utm</th>\n      <th>coordenada_y_utm</th>\n      <th>positiva_alcohol</th>\n      <th>positiva_droga</th>\n    </tr>\n  </thead>\n  <tbody>\n    <tr>\n      <th>0</th>\n      <td>2022S000001</td>\n      <td>01/01/2022</td>\n      <td>1:30:00</td>\n      <td>AVDA. ALBUFERA, 19</td>\n      <td>19</td>\n      <td>13.0</td>\n      <td>PUENTE DE VALLECAS</td>\n      <td>Alcance</td>\n      <td>Despejado</td>\n      <td>Turismo</td>\n      <td>Conductor</td>\n      <td>De 30 a 34 años</td>\n      <td>Mujer</td>\n      <td>NaN</td>\n      <td>NaN</td>\n      <td>443359,226</td>\n      <td>4472082,272</td>\n      <td>N</td>\n      <td>NaN</td>\n    </tr>\n    <tr>\n      <th>1</th>\n      <td>2022S000001</td>\n      <td>01/01/2022</td>\n      <td>1:30:00</td>\n      <td>AVDA. ALBUFERA, 19</td>\n      <td>19</td>\n      <td>13.0</td>\n      <td>PUENTE DE VALLECAS</td>\n      <td>Alcance</td>\n      <td>Despejado</td>\n      <td>Turismo</td>\n      <td>Conductor</td>\n      <td>De 45 a 49 años</td>\n      <td>Hombre</td>\n      <td>NaN</td>\n      <td>NaN</td>\n      <td>443359,226</td>\n      <td>4472082,272</td>\n      <td>N</td>\n      <td>NaN</td>\n    </tr>\n    <tr>\n      <th>2</th>\n      <td>2022S000002</td>\n      <td>01/01/2022</td>\n      <td>0:30:00</td>\n      <td>PLAZA. CANOVAS DEL CASTILLO / PASEO. PRADO</td>\n      <td>2</td>\n      <td>3.0</td>\n      <td>RETIRO</td>\n      <td>Colisión fronto-lateral</td>\n      <td>NaN</td>\n      <td>Motocicleta hasta 125cc</td>\n      <td>Conductor</td>\n      <td>De 30 a 34 años</td>\n      <td>Hombre</td>\n      <td>NaN</td>\n      <td>NaN</td>\n      <td>441155,351</td>\n      <td>4474129,588</td>\n      <td>S</td>\n      <td>NaN</td>\n    </tr>\n    <tr>\n      <th>3</th>\n      <td>2022S000002</td>\n      <td>01/01/2022</td>\n      <td>0:30:00</td>\n      <td>PLAZA. CANOVAS DEL CASTILLO / PASEO. PRADO</td>\n      <td>2</td>\n      <td>3.0</td>\n      <td>RETIRO</td>\n      <td>Colisión fronto-lateral</td>\n      <td>NaN</td>\n      <td>Motocicleta hasta 125cc</td>\n      <td>Pasajero</td>\n      <td>De 35 a 39 años</td>\n      <td>Mujer</td>\n      <td>NaN</td>\n      <td>NaN</td>\n      <td>441155,351</td>\n      <td>4474129,588</td>\n      <td>N</td>\n      <td>NaN</td>\n    </tr>\n    <tr>\n      <th>4</th>\n      <td>2022S000002</td>\n      <td>01/01/2022</td>\n      <td>0:30:00</td>\n      <td>PLAZA. CANOVAS DEL CASTILLO / PASEO. PRADO</td>\n      <td>2</td>\n      <td>3.0</td>\n      <td>RETIRO</td>\n      <td>Colisión fronto-lateral</td>\n      <td>NaN</td>\n      <td>Turismo</td>\n      <td>Conductor</td>\n      <td>De 40 a 44 años</td>\n      <td>Hombre</td>\n      <td>NaN</td>\n      <td>NaN</td>\n      <td>441155,351</td>\n      <td>4474129,588</td>\n      <td>N</td>\n      <td>NaN</td>\n    </tr>\n  </tbody>\n</table>\n</div>"
     },
     "execution_count": 14,
     "metadata": {},
     "output_type": "execute_result"
    }
   ],
   "source": [
    "combined_data.drop(columns=[col for col in combined_data.columns if col.startswith(\"Unnamed\")], inplace=True)\n",
    "combined_data.head()"
   ],
   "metadata": {
    "collapsed": false,
    "ExecuteTime": {
     "end_time": "2023-11-17T17:09:53.988193342Z",
     "start_time": "2023-11-17T17:09:53.878788597Z"
    }
   },
   "id": "b7f1c3a69466e058"
  },
  {
   "cell_type": "markdown",
   "source": [
    "## Uniformidad"
   ],
   "metadata": {
    "collapsed": false
   },
   "id": "75d20fbd6813ee0f"
  },
  {
   "cell_type": "markdown",
   "id": "cdaf0929",
   "metadata": {},
   "source": [
    "1. Cambiamos los nulos de positiva_droga por un 0 y en positiva_alcohol 'S' por 1 y 'N' por 0 para mantener la uniformidad"
   ]
  },
  {
   "cell_type": "code",
   "execution_count": 15,
   "id": "506b5bd9",
   "metadata": {
    "ExecuteTime": {
     "end_time": "2023-11-17T17:09:54.007173130Z",
     "start_time": "2023-11-17T17:09:53.925491046Z"
    }
   },
   "outputs": [
    {
     "data": {
      "text/plain": "(0.0    72591\n 1.0     2370\n Name: positiva_alcohol, dtype: int64,\n 0)"
     },
     "execution_count": 15,
     "metadata": {},
     "output_type": "execute_result"
    }
   ],
   "source": [
    "# Cambiamos en 'positiva_alcohol'\n",
    "combined_data['positiva_alcohol'].replace({'S': 1, 'N': 0}, inplace=True)\n",
    "# Cambiamos en 'positiva_droga' y 'positiva_alcohol los nulls\n",
    "combined_data['positiva_alcohol'].fillna(0, inplace=True)\n",
    "combined_data['positiva_droga'].fillna(0, inplace=True)\n",
    "# Verificamos los cambios y si todavía hay valores nulos en la columna 'positiva_droga'\n",
    "combined_data['positiva_alcohol'].value_counts(), combined_data['positiva_droga'].isnull().sum()"
   ]
  },
  {
   "cell_type": "markdown",
   "source": [
    "Revisamos según la edad que tipo de personas y vehiculos existen"
   ],
   "metadata": {
    "collapsed": false
   },
   "id": "fdf8280adbaee541"
  },
  {
   "cell_type": "code",
   "execution_count": 16,
   "outputs": [
    {
     "data": {
      "text/plain": "rango_edad       tipo_persona  tipo_vehiculo              \nDe 10 a 14 años  Pasajero      Turismo                        426\n                 Peatón        Turismo                         96\n                 Conductor     VMU eléctrico                   36\n                               Bicicleta                       35\n                 Pasajero      Furgoneta                       15\n                                                             ... \nMás de 74 años   Pasajero      Autobus EMT                      1\n                 Conductor     Cuadriciclo ligero               1\n                               Moto de tres ruedas > 125cc      1\n                               Otros vehículos con motor        1\n                               Sin especificar                  1\nLength: 752, dtype: int64"
     },
     "execution_count": 16,
     "metadata": {},
     "output_type": "execute_result"
    }
   ],
   "source": [
    "combined_data.filter(['rango_edad','tipo_persona', 'tipo_vehiculo']).groupby('rango_edad').value_counts()"
   ],
   "metadata": {
    "collapsed": false,
    "ExecuteTime": {
     "end_time": "2023-11-17T17:09:54.055478301Z",
     "start_time": "2023-11-17T17:09:53.969289830Z"
    }
   },
   "id": "b849295e4633e842"
  },
  {
   "cell_type": "markdown",
   "source": [
    "Observamos que existen personas menores de 5 años que están asignadas como Conductores, veamos estos datos"
   ],
   "metadata": {
    "collapsed": false
   },
   "id": "293b5621bcd85453"
  },
  {
   "cell_type": "code",
   "execution_count": 19,
   "outputs": [
    {
     "name": "stderr",
     "output_type": "stream",
     "text": [
      "C:\\Users\\Usuario\\AppData\\Local\\Temp\\ipykernel_12868\\1998939041.py:1: UserWarning: Boolean Series key will be reindexed to match DataFrame index.\n",
      "  combined_data[combined_data['rango_edad'].isin(['Menor de 5 años'])][combined_data['tipo_persona']=='Conductor']\n"
     ]
    },
    {
     "data": {
      "text/plain": "      num_expediente       fecha      hora  \\\n2136     2022S001261  21/01/2022  15:09:00   \n2275     2022S001385  22/01/2022   7:40:00   \n5968     2022S003847  17/02/2022  15:05:00   \n6209     2022S004121  19/02/2022   2:25:00   \n7862     2022S005583  03/03/2022  19:45:00   \n9718     2022S007410  18/03/2022  17:10:00   \n9809     2022S007547  18/03/2022  10:40:00   \n10364    2022S008033  23/03/2022  18:50:00   \n11130    2022S008620  25/03/2022  21:10:00   \n12484    2022S009704  08/04/2022   4:05:00   \n13512    2022S010787  18/04/2022  17:20:00   \n14982    2022S012452  29/04/2022   2:47:00   \n15695    2022S013290  04/05/2022   8:00:00   \n17367    2022S014981  15/05/2022  19:00:00   \n18606    2022S015721  24/05/2022   1:20:00   \n19120    2022S016004  27/05/2022   2:50:00   \n19563    2022S016303  30/05/2022  10:45:00   \n22761    2022S019296  21/06/2022  11:35:00   \n22995    2022S019557  22/06/2022  11:45:00   \n24854    2022S020907  07/07/2022  18:38:00   \n25713    2022S021370  14/07/2022  22:25:00   \n25735    2022S021380  15/07/2022   1:05:00   \n27232    2022S022313  29/07/2022   0:15:00   \n28081    2022S022840  06/08/2022  17:15:00   \n28669    2022S023179  13/08/2022   9:50:00   \n28990    2022S023434  17/08/2022  18:10:00   \n29660    2022S023922  26/08/2022  18:40:00   \n30115    2022S024531  31/08/2022  16:30:00   \n30392    2022S024842  03/09/2022  14:00:00   \n30565    2022S024943  04/09/2022  23:18:00   \n34784    2022S029160  07/10/2022   8:30:00   \n37253    2022S031968  25/10/2022  18:35:00   \n\n                                            localizacion   numero  \\\n2136                    AUTOV. M-30,  CALZADA 1, PK 11,3  +01100I   \n2275                             CALL. ARTURO SORIA, 168      168   \n5968                           PASEO. PINTOR ROSALES, 38       38   \n6209             CALL. PRINCESA / CALL. ALBERTO AGUILERA       56   \n7862          CALL. SATURNINO TEJERA / CALL. JUANA UROSA        2   \n9718                              CALL. OFELIA NIETO, 21       21   \n9809                     GTA. RICARDO VELAZQUEZ BOSCO, 2        2   \n10364                                CALL. PRECIADOS, 35       35   \n11130                   CALL. NUESTRA SEÑORA DE LUJAN, 1        1   \n12484                    CALL. TOLEDO / CALL. ARGANZUELA       86   \n13512             PLAZA. CRISTO REY / CALL. CEA BERMUDEZ        3   \n14982                AVDA. GRAN VIA DE SAN FRANCISCO, 17       17   \n15695    PASEO. DIRECCION / CALL. CAPITAN BLANCO ARGIBAY      165   \n17367                             CALL. CARLOS DABAN, 20       20   \n18606                                  CALL. ASUNCION, 6        6   \n19120                     CALL. UTRILLAS / CALL. CALANDA        8   \n19563                                  AVDA. PIO XII, 48       48   \n22761                                  CALL. MANTUANO, 1        1   \n22995                                CALL. SACRAMENTO, 4        4   \n24854                         CALL. DOCTOR ESQUERDO, 125      125   \n25713   PASEO. MARQUES DE ZAFRA / CALL. ANTONIO TOLEDANO       11   \n25735          CRUCE CALLE GOYA/CONDE DE PEÑALVER/ALCALA       87   \n27232                    CALL. FRANCISCO VILLAESPESA, 49       49   \n28081             CALL. SINESIO DELGADO / AVDA. ASTURIAS       15   \n28669                                     CALL. OLTRA, 3        3   \n28990  PASEO. VIRGEN DEL PUERTO / PSRLH. PUERTA DE SA...        1   \n29660                                  CALL. ARRIAGA, 61       61   \n30115                               AVDA. PLANETARIO, 26       26   \n30392                         GLORIETA LUIS BLANCO SOLER        0   \n30565                                CALL. SEPULVEDA, 30       30   \n34784                                  CALL. MONTOYA, 17       17   \n37253                            PLAZA. SANTO DOMINGO, 7        7   \n\n       cod_distrito             distrito                tipo_accidente  \\\n2136            2.0           ARGANZUELA                       Alcance   \n2275           15.0        CIUDAD LINEAL  Choque contra obstáculo fijo   \n5968            9.0      MONCLOA-ARAVACA                       Alcance   \n6209            1.0               CENTRO       Colisión fronto-lateral   \n7862           11.0          CARABANCHEL       Colisión fronto-lateral   \n9718            9.0      MONCLOA-ARAVACA       Colisión fronto-lateral   \n9809           20.0  SAN BLAS-CANILLEJAS              Colisión lateral   \n10364           1.0               CENTRO  Choque contra obstáculo fijo   \n11130           5.0            CHAMARTÍN              Colisión lateral   \n12484           1.0               CENTRO                       Alcance   \n13512           7.0             CHAMBERÍ       Colisión fronto-lateral   \n14982           1.0               CENTRO                       Alcance   \n15695           6.0               TETUÁN                       Alcance   \n17367          11.0          CARABANCHEL              Colisión lateral   \n18606          12.0                USERA  Choque contra obstáculo fijo   \n19120          16.0            HORTALEZA       Colisión fronto-lateral   \n19563           5.0            CHAMARTÍN  Choque contra obstáculo fijo   \n22761           5.0            CHAMARTÍN                          Otro   \n22995           1.0               CENTRO  Choque contra obstáculo fijo   \n24854           3.0               RETIRO              Colisión lateral   \n25713           4.0            SALAMANCA                       Alcance   \n25735           4.0            SALAMANCA       Colisión fronto-lateral   \n27232          15.0        CIUDAD LINEAL             Colisión múltiple   \n28081           6.0               TETUÁN       Colisión fronto-lateral   \n28669           4.0            SALAMANCA                       Alcance   \n28990           1.0               CENTRO                       Alcance   \n29660          15.0        CIUDAD LINEAL              Colisión frontal   \n30115           2.0           ARGANZUELA             Colisión múltiple   \n30392          21.0              BARAJAS              Colisión lateral   \n30565          10.0               LATINA                       Alcance   \n34784           6.0               TETUÁN              Colisión lateral   \n37253           1.0               CENTRO  Choque contra obstáculo fijo   \n\n      estado_meteorológico                      tipo_vehiculo tipo_persona  \\\n2136                   NaN                          Furgoneta    Conductor   \n2275             Despejado                            Turismo    Conductor   \n5968             Despejado                            Turismo    Conductor   \n6209             Despejado                            Turismo    Conductor   \n7862               Nublado                            Turismo    Conductor   \n9718             Despejado                            Turismo    Conductor   \n9809               Nublado                            Turismo    Conductor   \n10364              Nublado                          Furgoneta    Conductor   \n11130       LLuvia intensa                       Todo terreno    Conductor   \n12484            Despejado                            Turismo    Conductor   \n13512                  NaN                            Turismo    Conductor   \n14982            Despejado  Bicicleta EPAC (pedaleo asistido)    Conductor   \n15695            Despejado                            Turismo    Conductor   \n17367                  NaN          Otros vehículos con motor    Conductor   \n18606            Despejado                            Turismo    Conductor   \n19120            Despejado                            Turismo    Conductor   \n19563                  NaN                          Furgoneta    Conductor   \n22761            Despejado                            Turismo    Conductor   \n22995                  NaN                            Turismo    Conductor   \n24854            Despejado                          Bicicleta    Conductor   \n25713            Despejado                            Turismo    Conductor   \n25735            Despejado                            Turismo    Conductor   \n27232            Despejado                            Turismo    Conductor   \n28081            Despejado                            Turismo    Conductor   \n28669                  NaN                            Turismo    Conductor   \n28990              Nublado                            Turismo    Conductor   \n29660                  NaN                            Turismo    Conductor   \n30115            Despejado                            Turismo    Conductor   \n30392            Despejado                      Camión rígido    Conductor   \n30565            Despejado                            Turismo    Conductor   \n34784            Despejado                            Turismo    Conductor   \n37253            Despejado                            Turismo    Conductor   \n\n            rango_edad    sexo  cod_lesividad                 lesividad  \\\n2136   Menor de 5 años  Hombre            NaN                       NaN   \n2275   Menor de 5 años   Mujer            NaN                       NaN   \n5968   Menor de 5 años  Hombre            NaN                       NaN   \n6209   Menor de 5 años  Hombre           14.0  Sin asistencia sanitaria   \n7862   Menor de 5 años  Hombre            NaN                       NaN   \n9718   Menor de 5 años  Hombre            NaN                       NaN   \n9809   Menor de 5 años  Hombre            NaN                       NaN   \n10364  Menor de 5 años  Hombre            NaN                       NaN   \n11130  Menor de 5 años  Hombre            NaN                       NaN   \n12484  Menor de 5 años  Hombre            NaN                       NaN   \n13512  Menor de 5 años   Mujer            NaN                       NaN   \n14982  Menor de 5 años  Hombre            NaN                       NaN   \n15695  Menor de 5 años   Mujer            NaN                       NaN   \n17367  Menor de 5 años  Hombre            NaN                       NaN   \n18606  Menor de 5 años  Hombre            NaN                       NaN   \n19120  Menor de 5 años  Hombre            NaN                       NaN   \n19563  Menor de 5 años  Hombre            NaN                       NaN   \n22761  Menor de 5 años  Hombre            NaN                       NaN   \n22995  Menor de 5 años  Hombre            NaN                       NaN   \n24854  Menor de 5 años  Hombre            NaN                       NaN   \n25713  Menor de 5 años  Hombre            NaN                       NaN   \n25735  Menor de 5 años  Hombre            NaN                       NaN   \n27232  Menor de 5 años  Hombre            NaN                       NaN   \n28081  Menor de 5 años  Hombre            NaN                       NaN   \n28669  Menor de 5 años   Mujer            NaN                       NaN   \n28990  Menor de 5 años  Hombre            NaN                       NaN   \n29660  Menor de 5 años  Hombre            NaN                       NaN   \n30115  Menor de 5 años  Hombre            NaN                       NaN   \n30392  Menor de 5 años  Hombre            NaN                       NaN   \n30565  Menor de 5 años  Hombre            NaN                       NaN   \n34784  Menor de 5 años  Hombre            NaN                       NaN   \n37253  Menor de 5 años  Hombre            NaN                       NaN   \n\n      coordenada_x_utm coordenada_y_utm  positiva_alcohol  positiva_droga  \n2136        442301,329      4471190,762               0.0             0.0  \n2275        444369,976      4478512,823               0.0             0.0  \n5968        438869,786      4475495,238               0.0             0.0  \n6209        439261,101      4475789,368               0.0             0.0  \n7862        436832,954      4470736,494               0.0             0.0  \n9718        439772,859      4478977,338               0.0             0.0  \n9809        446897,241      4477599,013               0.0             0.0  \n10364       440006,944      4474581,853               0.0             0.0  \n11130       442214,205       4478930,37               0.0             0.0  \n12484       439722,112      4473371,721               0.0             0.0  \n13512       439147,879      4476780,487               0.0             0.0  \n14982       439450,179      4473456,549               0.0             0.0  \n15695       439990,952       4480012,45               0.0             0.0  \n17367       437828,132      4472222,812               0.0             0.0  \n18606       440523,691      4470573,987               0.0             0.0  \n19120       445509,954      4479262,469               0.0             0.0  \n19563       443037,859      4479994,022               0.0             0.0  \n22761       442832,881      4477326,355               0.0             0.0  \n22995       439688,826      4474050,102               0.0             0.0  \n24854       443182,204      4473696,343               0.0             0.0  \n25713       443439,294      4475306,173               0.0             0.0  \n25735       442675,481      4475124,876               0.0             0.0  \n27232       445244,066      4475601,215               0.0             0.0  \n28081        440507,07      4480598,135               0.0             0.0  \n28669        443535,33      4476631,475               0.0             0.0  \n28990        438882,29      4474579,343               0.0             0.0  \n29660       445653,934      4475106,347               0.0             0.0  \n30115       441834,869      4471364,591               0.0             0.0  \n30392       447625,054       4480840,61               0.0             0.0  \n30565       437279,841       4472924,44               0.0             0.0  \n34784        440876,84      4480078,839               0.0             0.0  \n37253       439937,901      4474608,926               0.0             0.0  ",
      "text/html": "<div>\n<style scoped>\n    .dataframe tbody tr th:only-of-type {\n        vertical-align: middle;\n    }\n\n    .dataframe tbody tr th {\n        vertical-align: top;\n    }\n\n    .dataframe thead th {\n        text-align: right;\n    }\n</style>\n<table border=\"1\" class=\"dataframe\">\n  <thead>\n    <tr style=\"text-align: right;\">\n      <th></th>\n      <th>num_expediente</th>\n      <th>fecha</th>\n      <th>hora</th>\n      <th>localizacion</th>\n      <th>numero</th>\n      <th>cod_distrito</th>\n      <th>distrito</th>\n      <th>tipo_accidente</th>\n      <th>estado_meteorológico</th>\n      <th>tipo_vehiculo</th>\n      <th>tipo_persona</th>\n      <th>rango_edad</th>\n      <th>sexo</th>\n      <th>cod_lesividad</th>\n      <th>lesividad</th>\n      <th>coordenada_x_utm</th>\n      <th>coordenada_y_utm</th>\n      <th>positiva_alcohol</th>\n      <th>positiva_droga</th>\n    </tr>\n  </thead>\n  <tbody>\n    <tr>\n      <th>2136</th>\n      <td>2022S001261</td>\n      <td>21/01/2022</td>\n      <td>15:09:00</td>\n      <td>AUTOV. M-30,  CALZADA 1, PK 11,3</td>\n      <td>+01100I</td>\n      <td>2.0</td>\n      <td>ARGANZUELA</td>\n      <td>Alcance</td>\n      <td>NaN</td>\n      <td>Furgoneta</td>\n      <td>Conductor</td>\n      <td>Menor de 5 años</td>\n      <td>Hombre</td>\n      <td>NaN</td>\n      <td>NaN</td>\n      <td>442301,329</td>\n      <td>4471190,762</td>\n      <td>0.0</td>\n      <td>0.0</td>\n    </tr>\n    <tr>\n      <th>2275</th>\n      <td>2022S001385</td>\n      <td>22/01/2022</td>\n      <td>7:40:00</td>\n      <td>CALL. ARTURO SORIA, 168</td>\n      <td>168</td>\n      <td>15.0</td>\n      <td>CIUDAD LINEAL</td>\n      <td>Choque contra obstáculo fijo</td>\n      <td>Despejado</td>\n      <td>Turismo</td>\n      <td>Conductor</td>\n      <td>Menor de 5 años</td>\n      <td>Mujer</td>\n      <td>NaN</td>\n      <td>NaN</td>\n      <td>444369,976</td>\n      <td>4478512,823</td>\n      <td>0.0</td>\n      <td>0.0</td>\n    </tr>\n    <tr>\n      <th>5968</th>\n      <td>2022S003847</td>\n      <td>17/02/2022</td>\n      <td>15:05:00</td>\n      <td>PASEO. PINTOR ROSALES, 38</td>\n      <td>38</td>\n      <td>9.0</td>\n      <td>MONCLOA-ARAVACA</td>\n      <td>Alcance</td>\n      <td>Despejado</td>\n      <td>Turismo</td>\n      <td>Conductor</td>\n      <td>Menor de 5 años</td>\n      <td>Hombre</td>\n      <td>NaN</td>\n      <td>NaN</td>\n      <td>438869,786</td>\n      <td>4475495,238</td>\n      <td>0.0</td>\n      <td>0.0</td>\n    </tr>\n    <tr>\n      <th>6209</th>\n      <td>2022S004121</td>\n      <td>19/02/2022</td>\n      <td>2:25:00</td>\n      <td>CALL. PRINCESA / CALL. ALBERTO AGUILERA</td>\n      <td>56</td>\n      <td>1.0</td>\n      <td>CENTRO</td>\n      <td>Colisión fronto-lateral</td>\n      <td>Despejado</td>\n      <td>Turismo</td>\n      <td>Conductor</td>\n      <td>Menor de 5 años</td>\n      <td>Hombre</td>\n      <td>14.0</td>\n      <td>Sin asistencia sanitaria</td>\n      <td>439261,101</td>\n      <td>4475789,368</td>\n      <td>0.0</td>\n      <td>0.0</td>\n    </tr>\n    <tr>\n      <th>7862</th>\n      <td>2022S005583</td>\n      <td>03/03/2022</td>\n      <td>19:45:00</td>\n      <td>CALL. SATURNINO TEJERA / CALL. JUANA UROSA</td>\n      <td>2</td>\n      <td>11.0</td>\n      <td>CARABANCHEL</td>\n      <td>Colisión fronto-lateral</td>\n      <td>Nublado</td>\n      <td>Turismo</td>\n      <td>Conductor</td>\n      <td>Menor de 5 años</td>\n      <td>Hombre</td>\n      <td>NaN</td>\n      <td>NaN</td>\n      <td>436832,954</td>\n      <td>4470736,494</td>\n      <td>0.0</td>\n      <td>0.0</td>\n    </tr>\n    <tr>\n      <th>9718</th>\n      <td>2022S007410</td>\n      <td>18/03/2022</td>\n      <td>17:10:00</td>\n      <td>CALL. OFELIA NIETO, 21</td>\n      <td>21</td>\n      <td>9.0</td>\n      <td>MONCLOA-ARAVACA</td>\n      <td>Colisión fronto-lateral</td>\n      <td>Despejado</td>\n      <td>Turismo</td>\n      <td>Conductor</td>\n      <td>Menor de 5 años</td>\n      <td>Hombre</td>\n      <td>NaN</td>\n      <td>NaN</td>\n      <td>439772,859</td>\n      <td>4478977,338</td>\n      <td>0.0</td>\n      <td>0.0</td>\n    </tr>\n    <tr>\n      <th>9809</th>\n      <td>2022S007547</td>\n      <td>18/03/2022</td>\n      <td>10:40:00</td>\n      <td>GTA. RICARDO VELAZQUEZ BOSCO, 2</td>\n      <td>2</td>\n      <td>20.0</td>\n      <td>SAN BLAS-CANILLEJAS</td>\n      <td>Colisión lateral</td>\n      <td>Nublado</td>\n      <td>Turismo</td>\n      <td>Conductor</td>\n      <td>Menor de 5 años</td>\n      <td>Hombre</td>\n      <td>NaN</td>\n      <td>NaN</td>\n      <td>446897,241</td>\n      <td>4477599,013</td>\n      <td>0.0</td>\n      <td>0.0</td>\n    </tr>\n    <tr>\n      <th>10364</th>\n      <td>2022S008033</td>\n      <td>23/03/2022</td>\n      <td>18:50:00</td>\n      <td>CALL. PRECIADOS, 35</td>\n      <td>35</td>\n      <td>1.0</td>\n      <td>CENTRO</td>\n      <td>Choque contra obstáculo fijo</td>\n      <td>Nublado</td>\n      <td>Furgoneta</td>\n      <td>Conductor</td>\n      <td>Menor de 5 años</td>\n      <td>Hombre</td>\n      <td>NaN</td>\n      <td>NaN</td>\n      <td>440006,944</td>\n      <td>4474581,853</td>\n      <td>0.0</td>\n      <td>0.0</td>\n    </tr>\n    <tr>\n      <th>11130</th>\n      <td>2022S008620</td>\n      <td>25/03/2022</td>\n      <td>21:10:00</td>\n      <td>CALL. NUESTRA SEÑORA DE LUJAN, 1</td>\n      <td>1</td>\n      <td>5.0</td>\n      <td>CHAMARTÍN</td>\n      <td>Colisión lateral</td>\n      <td>LLuvia intensa</td>\n      <td>Todo terreno</td>\n      <td>Conductor</td>\n      <td>Menor de 5 años</td>\n      <td>Hombre</td>\n      <td>NaN</td>\n      <td>NaN</td>\n      <td>442214,205</td>\n      <td>4478930,37</td>\n      <td>0.0</td>\n      <td>0.0</td>\n    </tr>\n    <tr>\n      <th>12484</th>\n      <td>2022S009704</td>\n      <td>08/04/2022</td>\n      <td>4:05:00</td>\n      <td>CALL. TOLEDO / CALL. ARGANZUELA</td>\n      <td>86</td>\n      <td>1.0</td>\n      <td>CENTRO</td>\n      <td>Alcance</td>\n      <td>Despejado</td>\n      <td>Turismo</td>\n      <td>Conductor</td>\n      <td>Menor de 5 años</td>\n      <td>Hombre</td>\n      <td>NaN</td>\n      <td>NaN</td>\n      <td>439722,112</td>\n      <td>4473371,721</td>\n      <td>0.0</td>\n      <td>0.0</td>\n    </tr>\n    <tr>\n      <th>13512</th>\n      <td>2022S010787</td>\n      <td>18/04/2022</td>\n      <td>17:20:00</td>\n      <td>PLAZA. CRISTO REY / CALL. CEA BERMUDEZ</td>\n      <td>3</td>\n      <td>7.0</td>\n      <td>CHAMBERÍ</td>\n      <td>Colisión fronto-lateral</td>\n      <td>NaN</td>\n      <td>Turismo</td>\n      <td>Conductor</td>\n      <td>Menor de 5 años</td>\n      <td>Mujer</td>\n      <td>NaN</td>\n      <td>NaN</td>\n      <td>439147,879</td>\n      <td>4476780,487</td>\n      <td>0.0</td>\n      <td>0.0</td>\n    </tr>\n    <tr>\n      <th>14982</th>\n      <td>2022S012452</td>\n      <td>29/04/2022</td>\n      <td>2:47:00</td>\n      <td>AVDA. GRAN VIA DE SAN FRANCISCO, 17</td>\n      <td>17</td>\n      <td>1.0</td>\n      <td>CENTRO</td>\n      <td>Alcance</td>\n      <td>Despejado</td>\n      <td>Bicicleta EPAC (pedaleo asistido)</td>\n      <td>Conductor</td>\n      <td>Menor de 5 años</td>\n      <td>Hombre</td>\n      <td>NaN</td>\n      <td>NaN</td>\n      <td>439450,179</td>\n      <td>4473456,549</td>\n      <td>0.0</td>\n      <td>0.0</td>\n    </tr>\n    <tr>\n      <th>15695</th>\n      <td>2022S013290</td>\n      <td>04/05/2022</td>\n      <td>8:00:00</td>\n      <td>PASEO. DIRECCION / CALL. CAPITAN BLANCO ARGIBAY</td>\n      <td>165</td>\n      <td>6.0</td>\n      <td>TETUÁN</td>\n      <td>Alcance</td>\n      <td>Despejado</td>\n      <td>Turismo</td>\n      <td>Conductor</td>\n      <td>Menor de 5 años</td>\n      <td>Mujer</td>\n      <td>NaN</td>\n      <td>NaN</td>\n      <td>439990,952</td>\n      <td>4480012,45</td>\n      <td>0.0</td>\n      <td>0.0</td>\n    </tr>\n    <tr>\n      <th>17367</th>\n      <td>2022S014981</td>\n      <td>15/05/2022</td>\n      <td>19:00:00</td>\n      <td>CALL. CARLOS DABAN, 20</td>\n      <td>20</td>\n      <td>11.0</td>\n      <td>CARABANCHEL</td>\n      <td>Colisión lateral</td>\n      <td>NaN</td>\n      <td>Otros vehículos con motor</td>\n      <td>Conductor</td>\n      <td>Menor de 5 años</td>\n      <td>Hombre</td>\n      <td>NaN</td>\n      <td>NaN</td>\n      <td>437828,132</td>\n      <td>4472222,812</td>\n      <td>0.0</td>\n      <td>0.0</td>\n    </tr>\n    <tr>\n      <th>18606</th>\n      <td>2022S015721</td>\n      <td>24/05/2022</td>\n      <td>1:20:00</td>\n      <td>CALL. ASUNCION, 6</td>\n      <td>6</td>\n      <td>12.0</td>\n      <td>USERA</td>\n      <td>Choque contra obstáculo fijo</td>\n      <td>Despejado</td>\n      <td>Turismo</td>\n      <td>Conductor</td>\n      <td>Menor de 5 años</td>\n      <td>Hombre</td>\n      <td>NaN</td>\n      <td>NaN</td>\n      <td>440523,691</td>\n      <td>4470573,987</td>\n      <td>0.0</td>\n      <td>0.0</td>\n    </tr>\n    <tr>\n      <th>19120</th>\n      <td>2022S016004</td>\n      <td>27/05/2022</td>\n      <td>2:50:00</td>\n      <td>CALL. UTRILLAS / CALL. CALANDA</td>\n      <td>8</td>\n      <td>16.0</td>\n      <td>HORTALEZA</td>\n      <td>Colisión fronto-lateral</td>\n      <td>Despejado</td>\n      <td>Turismo</td>\n      <td>Conductor</td>\n      <td>Menor de 5 años</td>\n      <td>Hombre</td>\n      <td>NaN</td>\n      <td>NaN</td>\n      <td>445509,954</td>\n      <td>4479262,469</td>\n      <td>0.0</td>\n      <td>0.0</td>\n    </tr>\n    <tr>\n      <th>19563</th>\n      <td>2022S016303</td>\n      <td>30/05/2022</td>\n      <td>10:45:00</td>\n      <td>AVDA. PIO XII, 48</td>\n      <td>48</td>\n      <td>5.0</td>\n      <td>CHAMARTÍN</td>\n      <td>Choque contra obstáculo fijo</td>\n      <td>NaN</td>\n      <td>Furgoneta</td>\n      <td>Conductor</td>\n      <td>Menor de 5 años</td>\n      <td>Hombre</td>\n      <td>NaN</td>\n      <td>NaN</td>\n      <td>443037,859</td>\n      <td>4479994,022</td>\n      <td>0.0</td>\n      <td>0.0</td>\n    </tr>\n    <tr>\n      <th>22761</th>\n      <td>2022S019296</td>\n      <td>21/06/2022</td>\n      <td>11:35:00</td>\n      <td>CALL. MANTUANO, 1</td>\n      <td>1</td>\n      <td>5.0</td>\n      <td>CHAMARTÍN</td>\n      <td>Otro</td>\n      <td>Despejado</td>\n      <td>Turismo</td>\n      <td>Conductor</td>\n      <td>Menor de 5 años</td>\n      <td>Hombre</td>\n      <td>NaN</td>\n      <td>NaN</td>\n      <td>442832,881</td>\n      <td>4477326,355</td>\n      <td>0.0</td>\n      <td>0.0</td>\n    </tr>\n    <tr>\n      <th>22995</th>\n      <td>2022S019557</td>\n      <td>22/06/2022</td>\n      <td>11:45:00</td>\n      <td>CALL. SACRAMENTO, 4</td>\n      <td>4</td>\n      <td>1.0</td>\n      <td>CENTRO</td>\n      <td>Choque contra obstáculo fijo</td>\n      <td>NaN</td>\n      <td>Turismo</td>\n      <td>Conductor</td>\n      <td>Menor de 5 años</td>\n      <td>Hombre</td>\n      <td>NaN</td>\n      <td>NaN</td>\n      <td>439688,826</td>\n      <td>4474050,102</td>\n      <td>0.0</td>\n      <td>0.0</td>\n    </tr>\n    <tr>\n      <th>24854</th>\n      <td>2022S020907</td>\n      <td>07/07/2022</td>\n      <td>18:38:00</td>\n      <td>CALL. DOCTOR ESQUERDO, 125</td>\n      <td>125</td>\n      <td>3.0</td>\n      <td>RETIRO</td>\n      <td>Colisión lateral</td>\n      <td>Despejado</td>\n      <td>Bicicleta</td>\n      <td>Conductor</td>\n      <td>Menor de 5 años</td>\n      <td>Hombre</td>\n      <td>NaN</td>\n      <td>NaN</td>\n      <td>443182,204</td>\n      <td>4473696,343</td>\n      <td>0.0</td>\n      <td>0.0</td>\n    </tr>\n    <tr>\n      <th>25713</th>\n      <td>2022S021370</td>\n      <td>14/07/2022</td>\n      <td>22:25:00</td>\n      <td>PASEO. MARQUES DE ZAFRA / CALL. ANTONIO TOLEDANO</td>\n      <td>11</td>\n      <td>4.0</td>\n      <td>SALAMANCA</td>\n      <td>Alcance</td>\n      <td>Despejado</td>\n      <td>Turismo</td>\n      <td>Conductor</td>\n      <td>Menor de 5 años</td>\n      <td>Hombre</td>\n      <td>NaN</td>\n      <td>NaN</td>\n      <td>443439,294</td>\n      <td>4475306,173</td>\n      <td>0.0</td>\n      <td>0.0</td>\n    </tr>\n    <tr>\n      <th>25735</th>\n      <td>2022S021380</td>\n      <td>15/07/2022</td>\n      <td>1:05:00</td>\n      <td>CRUCE CALLE GOYA/CONDE DE PEÑALVER/ALCALA</td>\n      <td>87</td>\n      <td>4.0</td>\n      <td>SALAMANCA</td>\n      <td>Colisión fronto-lateral</td>\n      <td>Despejado</td>\n      <td>Turismo</td>\n      <td>Conductor</td>\n      <td>Menor de 5 años</td>\n      <td>Hombre</td>\n      <td>NaN</td>\n      <td>NaN</td>\n      <td>442675,481</td>\n      <td>4475124,876</td>\n      <td>0.0</td>\n      <td>0.0</td>\n    </tr>\n    <tr>\n      <th>27232</th>\n      <td>2022S022313</td>\n      <td>29/07/2022</td>\n      <td>0:15:00</td>\n      <td>CALL. FRANCISCO VILLAESPESA, 49</td>\n      <td>49</td>\n      <td>15.0</td>\n      <td>CIUDAD LINEAL</td>\n      <td>Colisión múltiple</td>\n      <td>Despejado</td>\n      <td>Turismo</td>\n      <td>Conductor</td>\n      <td>Menor de 5 años</td>\n      <td>Hombre</td>\n      <td>NaN</td>\n      <td>NaN</td>\n      <td>445244,066</td>\n      <td>4475601,215</td>\n      <td>0.0</td>\n      <td>0.0</td>\n    </tr>\n    <tr>\n      <th>28081</th>\n      <td>2022S022840</td>\n      <td>06/08/2022</td>\n      <td>17:15:00</td>\n      <td>CALL. SINESIO DELGADO / AVDA. ASTURIAS</td>\n      <td>15</td>\n      <td>6.0</td>\n      <td>TETUÁN</td>\n      <td>Colisión fronto-lateral</td>\n      <td>Despejado</td>\n      <td>Turismo</td>\n      <td>Conductor</td>\n      <td>Menor de 5 años</td>\n      <td>Hombre</td>\n      <td>NaN</td>\n      <td>NaN</td>\n      <td>440507,07</td>\n      <td>4480598,135</td>\n      <td>0.0</td>\n      <td>0.0</td>\n    </tr>\n    <tr>\n      <th>28669</th>\n      <td>2022S023179</td>\n      <td>13/08/2022</td>\n      <td>9:50:00</td>\n      <td>CALL. OLTRA, 3</td>\n      <td>3</td>\n      <td>4.0</td>\n      <td>SALAMANCA</td>\n      <td>Alcance</td>\n      <td>NaN</td>\n      <td>Turismo</td>\n      <td>Conductor</td>\n      <td>Menor de 5 años</td>\n      <td>Mujer</td>\n      <td>NaN</td>\n      <td>NaN</td>\n      <td>443535,33</td>\n      <td>4476631,475</td>\n      <td>0.0</td>\n      <td>0.0</td>\n    </tr>\n    <tr>\n      <th>28990</th>\n      <td>2022S023434</td>\n      <td>17/08/2022</td>\n      <td>18:10:00</td>\n      <td>PASEO. VIRGEN DEL PUERTO / PSRLH. PUERTA DE SA...</td>\n      <td>1</td>\n      <td>1.0</td>\n      <td>CENTRO</td>\n      <td>Alcance</td>\n      <td>Nublado</td>\n      <td>Turismo</td>\n      <td>Conductor</td>\n      <td>Menor de 5 años</td>\n      <td>Hombre</td>\n      <td>NaN</td>\n      <td>NaN</td>\n      <td>438882,29</td>\n      <td>4474579,343</td>\n      <td>0.0</td>\n      <td>0.0</td>\n    </tr>\n    <tr>\n      <th>29660</th>\n      <td>2022S023922</td>\n      <td>26/08/2022</td>\n      <td>18:40:00</td>\n      <td>CALL. ARRIAGA, 61</td>\n      <td>61</td>\n      <td>15.0</td>\n      <td>CIUDAD LINEAL</td>\n      <td>Colisión frontal</td>\n      <td>NaN</td>\n      <td>Turismo</td>\n      <td>Conductor</td>\n      <td>Menor de 5 años</td>\n      <td>Hombre</td>\n      <td>NaN</td>\n      <td>NaN</td>\n      <td>445653,934</td>\n      <td>4475106,347</td>\n      <td>0.0</td>\n      <td>0.0</td>\n    </tr>\n    <tr>\n      <th>30115</th>\n      <td>2022S024531</td>\n      <td>31/08/2022</td>\n      <td>16:30:00</td>\n      <td>AVDA. PLANETARIO, 26</td>\n      <td>26</td>\n      <td>2.0</td>\n      <td>ARGANZUELA</td>\n      <td>Colisión múltiple</td>\n      <td>Despejado</td>\n      <td>Turismo</td>\n      <td>Conductor</td>\n      <td>Menor de 5 años</td>\n      <td>Hombre</td>\n      <td>NaN</td>\n      <td>NaN</td>\n      <td>441834,869</td>\n      <td>4471364,591</td>\n      <td>0.0</td>\n      <td>0.0</td>\n    </tr>\n    <tr>\n      <th>30392</th>\n      <td>2022S024842</td>\n      <td>03/09/2022</td>\n      <td>14:00:00</td>\n      <td>GLORIETA LUIS BLANCO SOLER</td>\n      <td>0</td>\n      <td>21.0</td>\n      <td>BARAJAS</td>\n      <td>Colisión lateral</td>\n      <td>Despejado</td>\n      <td>Camión rígido</td>\n      <td>Conductor</td>\n      <td>Menor de 5 años</td>\n      <td>Hombre</td>\n      <td>NaN</td>\n      <td>NaN</td>\n      <td>447625,054</td>\n      <td>4480840,61</td>\n      <td>0.0</td>\n      <td>0.0</td>\n    </tr>\n    <tr>\n      <th>30565</th>\n      <td>2022S024943</td>\n      <td>04/09/2022</td>\n      <td>23:18:00</td>\n      <td>CALL. SEPULVEDA, 30</td>\n      <td>30</td>\n      <td>10.0</td>\n      <td>LATINA</td>\n      <td>Alcance</td>\n      <td>Despejado</td>\n      <td>Turismo</td>\n      <td>Conductor</td>\n      <td>Menor de 5 años</td>\n      <td>Hombre</td>\n      <td>NaN</td>\n      <td>NaN</td>\n      <td>437279,841</td>\n      <td>4472924,44</td>\n      <td>0.0</td>\n      <td>0.0</td>\n    </tr>\n    <tr>\n      <th>34784</th>\n      <td>2022S029160</td>\n      <td>07/10/2022</td>\n      <td>8:30:00</td>\n      <td>CALL. MONTOYA, 17</td>\n      <td>17</td>\n      <td>6.0</td>\n      <td>TETUÁN</td>\n      <td>Colisión lateral</td>\n      <td>Despejado</td>\n      <td>Turismo</td>\n      <td>Conductor</td>\n      <td>Menor de 5 años</td>\n      <td>Hombre</td>\n      <td>NaN</td>\n      <td>NaN</td>\n      <td>440876,84</td>\n      <td>4480078,839</td>\n      <td>0.0</td>\n      <td>0.0</td>\n    </tr>\n    <tr>\n      <th>37253</th>\n      <td>2022S031968</td>\n      <td>25/10/2022</td>\n      <td>18:35:00</td>\n      <td>PLAZA. SANTO DOMINGO, 7</td>\n      <td>7</td>\n      <td>1.0</td>\n      <td>CENTRO</td>\n      <td>Choque contra obstáculo fijo</td>\n      <td>Despejado</td>\n      <td>Turismo</td>\n      <td>Conductor</td>\n      <td>Menor de 5 años</td>\n      <td>Hombre</td>\n      <td>NaN</td>\n      <td>NaN</td>\n      <td>439937,901</td>\n      <td>4474608,926</td>\n      <td>0.0</td>\n      <td>0.0</td>\n    </tr>\n  </tbody>\n</table>\n</div>"
     },
     "execution_count": 19,
     "metadata": {},
     "output_type": "execute_result"
    }
   ],
   "source": [
    "combined_data[combined_data['rango_edad'].isin(['Menor de 5 años'])][combined_data['tipo_persona']=='Conductor']"
   ],
   "metadata": {
    "collapsed": false,
    "ExecuteTime": {
     "end_time": "2023-11-17T17:09:54.163705541Z",
     "start_time": "2023-11-17T17:09:53.979197975Z"
    }
   },
   "id": "5ddedfa531dfe733"
  },
  {
   "cell_type": "markdown",
   "source": [
    "### Agregamos columna 'numero_pasajeros' y Reemplazamos datos erroneos\n",
    "Estos datos tienen que ser erróneos sí o sí, ya que la ley dicta que ningún menor de 18 años puede conducir en España. Para arreglar este problema, todos los casos que la edad sea 'Menor de 5 años', 'De 10 a 14 años', 'De 15 a 17 años' y sean conductores de vehículos, excluyendo: **'Bicicleta EPAC (pedaleo asistido)', 'Bicicleta', 'VMU eléctrico', 'Cuadriciclo ligero', 'Motocicleta hasta 125cc', 'Ciclomotor' y 'Ciclo'**, ya que está permitido conducir dichos vehículos para menores de 18 los dividiremos en 2 casos:\n",
    "1. Si existe más de 1 pasajero en el vehículo cambiamos el tipo de persona a 'Pasajero'\n",
    "2. Cuando sea el único pasajero del vehículo cambiamos la edad a 'Desconocido', ya que se concluye que hubo un error al introducir la edad"
   ],
   "metadata": {
    "collapsed": false
   },
   "id": "ab7eaeefe73f5861"
  },
  {
   "cell_type": "code",
   "execution_count": 32,
   "outputs": [
    {
     "data": {
      "text/plain": "rango_edad       tipo_vehiculo                    \nDe 10 a 14 años  Bicicleta                            35\n                 VMU eléctrico                        36\nDe 15 a 17 años  Bicicleta                            28\n                 Bicicleta EPAC (pedaleo asistido)     9\n                 Ciclo                                 2\n                 Ciclomotor                           16\n                 Cuadriciclo ligero                   19\n                 Motocicleta hasta 125cc              11\n                 VMU eléctrico                        82\nMenor de 5 años  Bicicleta                             1\n                 Bicicleta EPAC (pedaleo asistido)     1\ndtype: int64"
     },
     "execution_count": 32,
     "metadata": {},
     "output_type": "execute_result"
    }
   ],
   "source": [
    "# Agregando la columna 'numero_pasajeros'\n",
    "combined_data['numero_pasajeros'] = combined_data.groupby('num_expediente')['num_expediente'].transform('count')\n",
    "\n",
    "# Filtrando datos para encontrar los registros donde el rango de edad es 'Menor de 5 años', el tipo de persona es 'Conductor',\n",
    "# y el tipo de vehículo no es ni 'Bicicleta EPAC (pedaleo asistido)', 'Bicicleta', 'VMU eléctrico', 'Cuadriciclo ligero'\n",
    "# 'Motocicleta hasta 125cc', 'Ciclomotor' o 'Ciclo'\n",
    "faulty_data = combined_data[\n",
    "    ((combined_data['rango_edad'] == 'Menor de 5 años') |\n",
    "     (combined_data['rango_edad'] == 'De 10 a 14 años') |\n",
    "     (combined_data['rango_edad'] == 'De 15 a 17 años')) &\n",
    "    (combined_data['tipo_persona'] == 'Conductor') &\n",
    "    (~combined_data['tipo_vehiculo'].isin(['Bicicleta EPAC (pedaleo asistido)', 'Bicicleta', 'VMU eléctrico', 'Cuadriciclo ligero'\n",
    "                                           , 'Motocicleta hasta 125cc', 'Ciclomotor', 'Ciclo']))\n",
    "    ]\n",
    "\n",
    "\n",
    "# Revisando si hay más de un pasajero en los registros filtrados y realizando los reemplazos correspondientes\n",
    "if faulty_data['numero_pasajeros'].gt(1).any():\n",
    "    # Cambiar 'tipo_persona' a 'Pasajero' para registros donde hay más de un pasajero\n",
    "    combined_data.loc[faulty_data.index, 'tipo_persona'] = 'Pasajero'\n",
    "else:\n",
    "    # Cambiar 'rango_edad' a 'Desconocido' si no hay más de un pasajero\n",
    "    combined_data.loc[faulty_data.index, 'rango_edad'] = 'Desconocido'\n",
    "\n",
    "\n",
    "\n",
    "\n",
    "# Filtrar por tipo_persona 'Conductor' y por los rangos de edad de interés\n",
    "conductores_rangos_edad = combined_data[\n",
    "    (combined_data['tipo_persona'] == 'Conductor') &\n",
    "    (combined_data['rango_edad'].isin(['De 10 a 14 años', 'De 15 a 17 años', 'Menor de 5 años']))\n",
    "    ]\n",
    "\n",
    "conductores_rangos_edad.groupby(['rango_edad', 'tipo_vehiculo']).size()"
   ],
   "metadata": {
    "collapsed": false,
    "ExecuteTime": {
     "end_time": "2023-11-17T17:09:54.228502829Z",
     "start_time": "2023-11-17T17:09:54.022232549Z"
    }
   },
   "id": "c2de9b84911a2243"
  },
  {
   "cell_type": "markdown",
   "source": [
    "Observamos que los datos de personas menores de 18 años son de tipo_vehiculo permitidos por la legislación española, por lo que no son datos erróneos"
   ],
   "metadata": {
    "collapsed": false
   },
   "id": "dfa5a2154c293f60"
  },
  {
   "cell_type": "code",
   "execution_count": 33,
   "outputs": [
    {
     "data": {
      "text/plain": "  num_expediente       fecha     hora  \\\n0    2022S000001  01/01/2022  1:30:00   \n1    2022S000001  01/01/2022  1:30:00   \n2    2022S000002  01/01/2022  0:30:00   \n3    2022S000002  01/01/2022  0:30:00   \n4    2022S000002  01/01/2022  0:30:00   \n\n                                 localizacion numero  cod_distrito  \\\n0                          AVDA. ALBUFERA, 19     19          13.0   \n1                          AVDA. ALBUFERA, 19     19          13.0   \n2  PLAZA. CANOVAS DEL CASTILLO / PASEO. PRADO      2           3.0   \n3  PLAZA. CANOVAS DEL CASTILLO / PASEO. PRADO      2           3.0   \n4  PLAZA. CANOVAS DEL CASTILLO / PASEO. PRADO      2           3.0   \n\n             distrito           tipo_accidente estado_meteorológico  \\\n0  PUENTE DE VALLECAS                  Alcance            Despejado   \n1  PUENTE DE VALLECAS                  Alcance            Despejado   \n2              RETIRO  Colisión fronto-lateral                  NaN   \n3              RETIRO  Colisión fronto-lateral                  NaN   \n4              RETIRO  Colisión fronto-lateral                  NaN   \n\n             tipo_vehiculo tipo_persona       rango_edad    sexo  \\\n0                  Turismo    Conductor  De 30 a 34 años   Mujer   \n1                  Turismo    Conductor  De 45 a 49 años  Hombre   \n2  Motocicleta hasta 125cc    Conductor  De 30 a 34 años  Hombre   \n3  Motocicleta hasta 125cc     Pasajero  De 35 a 39 años   Mujer   \n4                  Turismo    Conductor  De 40 a 44 años  Hombre   \n\n   cod_lesividad lesividad coordenada_x_utm coordenada_y_utm  \\\n0            NaN       NaN       443359,226      4472082,272   \n1            NaN       NaN       443359,226      4472082,272   \n2            NaN       NaN       441155,351      4474129,588   \n3            NaN       NaN       441155,351      4474129,588   \n4            NaN       NaN       441155,351      4474129,588   \n\n   positiva_alcohol  positiva_droga  numero_pasajeros  \n0               0.0             0.0                 2  \n1               0.0             0.0                 2  \n2               1.0             0.0                 3  \n3               0.0             0.0                 3  \n4               0.0             0.0                 3  ",
      "text/html": "<div>\n<style scoped>\n    .dataframe tbody tr th:only-of-type {\n        vertical-align: middle;\n    }\n\n    .dataframe tbody tr th {\n        vertical-align: top;\n    }\n\n    .dataframe thead th {\n        text-align: right;\n    }\n</style>\n<table border=\"1\" class=\"dataframe\">\n  <thead>\n    <tr style=\"text-align: right;\">\n      <th></th>\n      <th>num_expediente</th>\n      <th>fecha</th>\n      <th>hora</th>\n      <th>localizacion</th>\n      <th>numero</th>\n      <th>cod_distrito</th>\n      <th>distrito</th>\n      <th>tipo_accidente</th>\n      <th>estado_meteorológico</th>\n      <th>tipo_vehiculo</th>\n      <th>tipo_persona</th>\n      <th>rango_edad</th>\n      <th>sexo</th>\n      <th>cod_lesividad</th>\n      <th>lesividad</th>\n      <th>coordenada_x_utm</th>\n      <th>coordenada_y_utm</th>\n      <th>positiva_alcohol</th>\n      <th>positiva_droga</th>\n      <th>numero_pasajeros</th>\n    </tr>\n  </thead>\n  <tbody>\n    <tr>\n      <th>0</th>\n      <td>2022S000001</td>\n      <td>01/01/2022</td>\n      <td>1:30:00</td>\n      <td>AVDA. ALBUFERA, 19</td>\n      <td>19</td>\n      <td>13.0</td>\n      <td>PUENTE DE VALLECAS</td>\n      <td>Alcance</td>\n      <td>Despejado</td>\n      <td>Turismo</td>\n      <td>Conductor</td>\n      <td>De 30 a 34 años</td>\n      <td>Mujer</td>\n      <td>NaN</td>\n      <td>NaN</td>\n      <td>443359,226</td>\n      <td>4472082,272</td>\n      <td>0.0</td>\n      <td>0.0</td>\n      <td>2</td>\n    </tr>\n    <tr>\n      <th>1</th>\n      <td>2022S000001</td>\n      <td>01/01/2022</td>\n      <td>1:30:00</td>\n      <td>AVDA. ALBUFERA, 19</td>\n      <td>19</td>\n      <td>13.0</td>\n      <td>PUENTE DE VALLECAS</td>\n      <td>Alcance</td>\n      <td>Despejado</td>\n      <td>Turismo</td>\n      <td>Conductor</td>\n      <td>De 45 a 49 años</td>\n      <td>Hombre</td>\n      <td>NaN</td>\n      <td>NaN</td>\n      <td>443359,226</td>\n      <td>4472082,272</td>\n      <td>0.0</td>\n      <td>0.0</td>\n      <td>2</td>\n    </tr>\n    <tr>\n      <th>2</th>\n      <td>2022S000002</td>\n      <td>01/01/2022</td>\n      <td>0:30:00</td>\n      <td>PLAZA. CANOVAS DEL CASTILLO / PASEO. PRADO</td>\n      <td>2</td>\n      <td>3.0</td>\n      <td>RETIRO</td>\n      <td>Colisión fronto-lateral</td>\n      <td>NaN</td>\n      <td>Motocicleta hasta 125cc</td>\n      <td>Conductor</td>\n      <td>De 30 a 34 años</td>\n      <td>Hombre</td>\n      <td>NaN</td>\n      <td>NaN</td>\n      <td>441155,351</td>\n      <td>4474129,588</td>\n      <td>1.0</td>\n      <td>0.0</td>\n      <td>3</td>\n    </tr>\n    <tr>\n      <th>3</th>\n      <td>2022S000002</td>\n      <td>01/01/2022</td>\n      <td>0:30:00</td>\n      <td>PLAZA. CANOVAS DEL CASTILLO / PASEO. PRADO</td>\n      <td>2</td>\n      <td>3.0</td>\n      <td>RETIRO</td>\n      <td>Colisión fronto-lateral</td>\n      <td>NaN</td>\n      <td>Motocicleta hasta 125cc</td>\n      <td>Pasajero</td>\n      <td>De 35 a 39 años</td>\n      <td>Mujer</td>\n      <td>NaN</td>\n      <td>NaN</td>\n      <td>441155,351</td>\n      <td>4474129,588</td>\n      <td>0.0</td>\n      <td>0.0</td>\n      <td>3</td>\n    </tr>\n    <tr>\n      <th>4</th>\n      <td>2022S000002</td>\n      <td>01/01/2022</td>\n      <td>0:30:00</td>\n      <td>PLAZA. CANOVAS DEL CASTILLO / PASEO. PRADO</td>\n      <td>2</td>\n      <td>3.0</td>\n      <td>RETIRO</td>\n      <td>Colisión fronto-lateral</td>\n      <td>NaN</td>\n      <td>Turismo</td>\n      <td>Conductor</td>\n      <td>De 40 a 44 años</td>\n      <td>Hombre</td>\n      <td>NaN</td>\n      <td>NaN</td>\n      <td>441155,351</td>\n      <td>4474129,588</td>\n      <td>0.0</td>\n      <td>0.0</td>\n      <td>3</td>\n    </tr>\n  </tbody>\n</table>\n</div>"
     },
     "execution_count": 33,
     "metadata": {},
     "output_type": "execute_result"
    }
   ],
   "source": [
    "combined_data.head()"
   ],
   "metadata": {
    "collapsed": false,
    "ExecuteTime": {
     "end_time": "2023-11-17T17:09:54.229695903Z",
     "start_time": "2023-11-17T17:09:54.069438789Z"
    }
   },
   "id": "9a0bd6baedd3ce84"
  },
  {
   "cell_type": "code",
   "execution_count": 34,
   "outputs": [],
   "source": [
    "combined_data.to_csv('./Datasets/Data_Combinada.csv', index=False)"
   ],
   "metadata": {
    "collapsed": false,
    "ExecuteTime": {
     "end_time": "2023-11-17T17:10:00.041319843Z",
     "start_time": "2023-11-17T17:09:59.483226391Z"
    }
   },
   "id": "76019848fb64e4cb"
  },
  {
   "cell_type": "code",
   "execution_count": null,
   "outputs": [],
   "source": [],
   "metadata": {
    "collapsed": false
   },
   "id": "f1dbae9d2a3d9775"
  }
 ],
 "metadata": {
  "kernelspec": {
   "display_name": "Python 3 (ipykernel)",
   "language": "python",
   "name": "python3"
  },
  "language_info": {
   "codemirror_mode": {
    "name": "ipython",
    "version": 3
   },
   "file_extension": ".py",
   "mimetype": "text/x-python",
   "name": "python",
   "nbconvert_exporter": "python",
   "pygments_lexer": "ipython3",
   "version": "3.9.13"
  }
 },
 "nbformat": 4,
 "nbformat_minor": 5
}
